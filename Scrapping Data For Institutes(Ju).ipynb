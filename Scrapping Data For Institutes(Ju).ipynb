{
 "cells": [
  {
   "cell_type": "markdown",
   "id": "9a5a6993",
   "metadata": {},
   "source": [
    "# Importing Libraries"
   ]
  },
  {
   "cell_type": "code",
   "execution_count": 1,
   "id": "eb1d80b5",
   "metadata": {},
   "outputs": [],
   "source": [
    "import pandas as pd\n",
    "import selenium\n",
    "from selenium import webdriver"
   ]
  },
  {
   "cell_type": "code",
   "execution_count": 2,
   "id": "8d71d22b",
   "metadata": {},
   "outputs": [],
   "source": [
    "driver=webdriver.Chrome(\"chromedriver.exe\")"
   ]
  },
  {
   "cell_type": "markdown",
   "id": "755ecbf1",
   "metadata": {},
   "source": [
    "# Creating Empty Columns For Institutes Data"
   ]
  },
  {
   "cell_type": "code",
   "execution_count": 11,
   "id": "7c4e4182",
   "metadata": {},
   "outputs": [],
   "source": [
    "name=[]\n",
    "contact=[]\n",
    "address=[]"
   ]
  },
  {
   "cell_type": "markdown",
   "id": "b8a9ee49",
   "metadata": {},
   "source": [
    "# Scrapping Details"
   ]
  },
  {
   "cell_type": "code",
   "execution_count": 12,
   "id": "19a14946",
   "metadata": {},
   "outputs": [],
   "source": [
    "\n",
    "n=driver.find_elements_by_xpath(\"//span[@class='lng_cont_name']\")\n",
    "for i in n:\n",
    "    try:\n",
    "        name.append(i.text)\n",
    "    except NoSuchElementException:\n",
    "        Namews.append('-')\n",
    "        \n",
    "        \n",
    "con=driver.find_elements_by_xpath(\"//p[@class='contact-info ']\")  \n",
    "for i in con:\n",
    "    try:\n",
    "        contact.append(i.text)\n",
    "    except NoSuchElementException:\n",
    "        contact.append('-')\n",
    "        \n",
    "        \n",
    "ad=driver.find_elements_by_xpath(\"//span[@class='adWidth cont_sw_addr']\")\n",
    "for i in ad:\n",
    "    try:\n",
    "        address.append(i.text)\n",
    "    except NoSuchElementException:\n",
    "        address.append('-')\n",
    "        \n",
    " "
   ]
  },
  {
   "cell_type": "code",
   "execution_count": null,
   "id": "2d4edfbc",
   "metadata": {},
   "outputs": [],
   "source": []
  },
  {
   "cell_type": "markdown",
   "id": "8717fad0",
   "metadata": {},
   "source": [
    "# Creating Data Frame"
   ]
  },
  {
   "cell_type": "code",
   "execution_count": 13,
   "id": "f2bde1ff",
   "metadata": {},
   "outputs": [],
   "source": [
    "df=pd.DataFrame({})\n",
    "df['Name']=name\n",
    "df['Contact']=contact\n",
    "df['Address']=address"
   ]
  },
  {
   "cell_type": "code",
   "execution_count": 15,
   "id": "1b46eca1",
   "metadata": {},
   "outputs": [],
   "source": [
    "df.to_csv('data_science_institute.csv')"
   ]
  },
  {
   "cell_type": "markdown",
   "id": "c7b601a0",
   "metadata": {},
   "source": [
    "# Saving the Data"
   ]
  },
  {
   "cell_type": "code",
   "execution_count": 135,
   "id": "a172752a",
   "metadata": {},
   "outputs": [],
   "source": [
    "df.to_csv(\"Institute.csv\", mode='a', index=False, header=False)\n",
    "start=0\n",
    "end=5\n",
    "n=driver.find_elements_by_xpath(\"//div[@class='name']\")\n",
    "for i in n:\n",
    "    try:\n",
    "        Names.append(i.text)\n",
    "    except NoSuchElementException:\n",
    "        Namews.append('-')\n",
    "        \n",
    "        \n",
    "con=driver.find_elements_by_xpath(\"//div[@class='btn-group']\")  \n",
    "for i in con:\n",
    "    try:\n",
    "        Contacts.append(i.text)\n",
    "    except NoSuchElementException:\n",
    "        Contacts.append('-')\n",
    "        \n",
    "        \n",
    "ad=driver.find_elements_by_xpath(\"//div[@class='locality']\")\n",
    "for i in ad:\n",
    "    try:\n",
    "        Addresses.append(i.text)\n",
    "    except NoSuchElementException:\n",
    "        Addresses.append('-')\n",
    "        "
   ]
  },
  {
   "cell_type": "code",
   "execution_count": null,
   "id": "77b68f14",
   "metadata": {},
   "outputs": [],
   "source": []
  }
 ],
 "metadata": {
  "kernelspec": {
   "display_name": "Python 3 (ipykernel)",
   "language": "python",
   "name": "python3"
  },
  "language_info": {
   "codemirror_mode": {
    "name": "ipython",
    "version": 3
   },
   "file_extension": ".py",
   "mimetype": "text/x-python",
   "name": "python",
   "nbconvert_exporter": "python",
   "pygments_lexer": "ipython3",
   "version": "3.8.13"
  }
 },
 "nbformat": 4,
 "nbformat_minor": 5
}
