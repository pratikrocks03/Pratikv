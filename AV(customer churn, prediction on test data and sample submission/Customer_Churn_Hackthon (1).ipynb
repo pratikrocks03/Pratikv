{
  "nbformat": 4,
  "nbformat_minor": 0,
  "metadata": {
    "colab": {
      "name": "Customer Churn Hackthon.ipynb",
      "provenance": [],
      "toc_visible": true
    },
    "kernelspec": {
      "name": "python3",
      "display_name": "Python 3"
    },
    "language_info": {
      "name": "python"
    }
  },
  "cells": [
    {
      "cell_type": "markdown",
      "source": [
        "**Importing Libraries**"
      ],
      "metadata": {
        "id": "yhpctx8MRAE1"
      }
    },
    {
      "cell_type": "code",
      "source": [
        "import pandas as pd\n",
        "import numpy as np\n",
        "import seaborn as sns\n",
        "import matplotlib.pyplot as plt\n",
        "import warnings\n",
        "warnings.filterwarnings('ignore')"
      ],
      "metadata": {
        "id": "uDtuET7oRGRJ"
      },
      "execution_count": null,
      "outputs": []
    },
    {
      "cell_type": "markdown",
      "source": [
        "**Loading the dataset**"
      ],
      "metadata": {
        "id": "JseTKgJvRwew"
      }
    },
    {
      "cell_type": "code",
      "source": [
        "train=pd.read_csv(\"/content/train_PDjVQMB.csv\")\n",
        "test=pd.read_csv(\"/content/test_lTY72QC.csv\")\n"
      ],
      "metadata": {
        "id": "8F3NleOoRTzg"
      },
      "execution_count": null,
      "outputs": []
    },
    {
      "cell_type": "code",
      "source": [
        "# merging train and test data into a single dataframe for further analysis\n",
        "df=pd.concat([train,test])"
      ],
      "metadata": {
        "id": "0rPTNg7VpPPk"
      },
      "execution_count": null,
      "outputs": []
    },
    {
      "cell_type": "code",
      "source": [
        ""
      ],
      "metadata": {
        "id": "2BZf_2Insu5-"
      },
      "execution_count": null,
      "outputs": []
    },
    {
      "cell_type": "code",
      "source": [
        "df.head()"
      ],
      "metadata": {
        "colab": {
          "base_uri": "https://localhost:8080/",
          "height": 206
        },
        "id": "vqTWB2UWpPzN",
        "outputId": "578ce8a6-dc1e-4290-d6b0-e5a661dd931a"
      },
      "execution_count": null,
      "outputs": [
        {
          "output_type": "execute_result",
          "data": {
            "text/html": [
              "\n",
              "  <div id=\"df-c9eb22a6-d2c9-4e0d-9b20-57662a8e7054\">\n",
              "    <div class=\"colab-df-container\">\n",
              "      <div>\n",
              "<style scoped>\n",
              "    .dataframe tbody tr th:only-of-type {\n",
              "        vertical-align: middle;\n",
              "    }\n",
              "\n",
              "    .dataframe tbody tr th {\n",
              "        vertical-align: top;\n",
              "    }\n",
              "\n",
              "    .dataframe thead th {\n",
              "        text-align: right;\n",
              "    }\n",
              "</style>\n",
              "<table border=\"1\" class=\"dataframe\">\n",
              "  <thead>\n",
              "    <tr style=\"text-align: right;\">\n",
              "      <th></th>\n",
              "      <th>ID</th>\n",
              "      <th>Age</th>\n",
              "      <th>Gender</th>\n",
              "      <th>Income</th>\n",
              "      <th>Balance</th>\n",
              "      <th>Vintage</th>\n",
              "      <th>Transaction_Status</th>\n",
              "      <th>Product_Holdings</th>\n",
              "      <th>Credit_Card</th>\n",
              "      <th>Credit_Category</th>\n",
              "      <th>Is_Churn</th>\n",
              "    </tr>\n",
              "  </thead>\n",
              "  <tbody>\n",
              "    <tr>\n",
              "      <th>0</th>\n",
              "      <td>84e2fcc9</td>\n",
              "      <td>36</td>\n",
              "      <td>Female</td>\n",
              "      <td>5L - 10L</td>\n",
              "      <td>563266.44</td>\n",
              "      <td>4</td>\n",
              "      <td>0</td>\n",
              "      <td>1</td>\n",
              "      <td>0</td>\n",
              "      <td>Average</td>\n",
              "      <td>1.0</td>\n",
              "    </tr>\n",
              "    <tr>\n",
              "      <th>1</th>\n",
              "      <td>57fea15e</td>\n",
              "      <td>53</td>\n",
              "      <td>Female</td>\n",
              "      <td>Less than 5L</td>\n",
              "      <td>875572.11</td>\n",
              "      <td>2</td>\n",
              "      <td>1</td>\n",
              "      <td>1</td>\n",
              "      <td>1</td>\n",
              "      <td>Poor</td>\n",
              "      <td>0.0</td>\n",
              "    </tr>\n",
              "    <tr>\n",
              "      <th>2</th>\n",
              "      <td>8df34ef3</td>\n",
              "      <td>35</td>\n",
              "      <td>Female</td>\n",
              "      <td>More than 15L</td>\n",
              "      <td>701607.06</td>\n",
              "      <td>2</td>\n",
              "      <td>1</td>\n",
              "      <td>2</td>\n",
              "      <td>0</td>\n",
              "      <td>Poor</td>\n",
              "      <td>0.0</td>\n",
              "    </tr>\n",
              "    <tr>\n",
              "      <th>3</th>\n",
              "      <td>c5c0788b</td>\n",
              "      <td>43</td>\n",
              "      <td>Female</td>\n",
              "      <td>More than 15L</td>\n",
              "      <td>1393922.16</td>\n",
              "      <td>0</td>\n",
              "      <td>1</td>\n",
              "      <td>2</td>\n",
              "      <td>1</td>\n",
              "      <td>Poor</td>\n",
              "      <td>1.0</td>\n",
              "    </tr>\n",
              "    <tr>\n",
              "      <th>4</th>\n",
              "      <td>951d69c4</td>\n",
              "      <td>39</td>\n",
              "      <td>Female</td>\n",
              "      <td>More than 15L</td>\n",
              "      <td>893146.23</td>\n",
              "      <td>1</td>\n",
              "      <td>1</td>\n",
              "      <td>1</td>\n",
              "      <td>1</td>\n",
              "      <td>Good</td>\n",
              "      <td>1.0</td>\n",
              "    </tr>\n",
              "  </tbody>\n",
              "</table>\n",
              "</div>\n",
              "      <button class=\"colab-df-convert\" onclick=\"convertToInteractive('df-c9eb22a6-d2c9-4e0d-9b20-57662a8e7054')\"\n",
              "              title=\"Convert this dataframe to an interactive table.\"\n",
              "              style=\"display:none;\">\n",
              "        \n",
              "  <svg xmlns=\"http://www.w3.org/2000/svg\" height=\"24px\"viewBox=\"0 0 24 24\"\n",
              "       width=\"24px\">\n",
              "    <path d=\"M0 0h24v24H0V0z\" fill=\"none\"/>\n",
              "    <path d=\"M18.56 5.44l.94 2.06.94-2.06 2.06-.94-2.06-.94-.94-2.06-.94 2.06-2.06.94zm-11 1L8.5 8.5l.94-2.06 2.06-.94-2.06-.94L8.5 2.5l-.94 2.06-2.06.94zm10 10l.94 2.06.94-2.06 2.06-.94-2.06-.94-.94-2.06-.94 2.06-2.06.94z\"/><path d=\"M17.41 7.96l-1.37-1.37c-.4-.4-.92-.59-1.43-.59-.52 0-1.04.2-1.43.59L10.3 9.45l-7.72 7.72c-.78.78-.78 2.05 0 2.83L4 21.41c.39.39.9.59 1.41.59.51 0 1.02-.2 1.41-.59l7.78-7.78 2.81-2.81c.8-.78.8-2.07 0-2.86zM5.41 20L4 18.59l7.72-7.72 1.47 1.35L5.41 20z\"/>\n",
              "  </svg>\n",
              "      </button>\n",
              "      \n",
              "  <style>\n",
              "    .colab-df-container {\n",
              "      display:flex;\n",
              "      flex-wrap:wrap;\n",
              "      gap: 12px;\n",
              "    }\n",
              "\n",
              "    .colab-df-convert {\n",
              "      background-color: #E8F0FE;\n",
              "      border: none;\n",
              "      border-radius: 50%;\n",
              "      cursor: pointer;\n",
              "      display: none;\n",
              "      fill: #1967D2;\n",
              "      height: 32px;\n",
              "      padding: 0 0 0 0;\n",
              "      width: 32px;\n",
              "    }\n",
              "\n",
              "    .colab-df-convert:hover {\n",
              "      background-color: #E2EBFA;\n",
              "      box-shadow: 0px 1px 2px rgba(60, 64, 67, 0.3), 0px 1px 3px 1px rgba(60, 64, 67, 0.15);\n",
              "      fill: #174EA6;\n",
              "    }\n",
              "\n",
              "    [theme=dark] .colab-df-convert {\n",
              "      background-color: #3B4455;\n",
              "      fill: #D2E3FC;\n",
              "    }\n",
              "\n",
              "    [theme=dark] .colab-df-convert:hover {\n",
              "      background-color: #434B5C;\n",
              "      box-shadow: 0px 1px 3px 1px rgba(0, 0, 0, 0.15);\n",
              "      filter: drop-shadow(0px 1px 2px rgba(0, 0, 0, 0.3));\n",
              "      fill: #FFFFFF;\n",
              "    }\n",
              "  </style>\n",
              "\n",
              "      <script>\n",
              "        const buttonEl =\n",
              "          document.querySelector('#df-c9eb22a6-d2c9-4e0d-9b20-57662a8e7054 button.colab-df-convert');\n",
              "        buttonEl.style.display =\n",
              "          google.colab.kernel.accessAllowed ? 'block' : 'none';\n",
              "\n",
              "        async function convertToInteractive(key) {\n",
              "          const element = document.querySelector('#df-c9eb22a6-d2c9-4e0d-9b20-57662a8e7054');\n",
              "          const dataTable =\n",
              "            await google.colab.kernel.invokeFunction('convertToInteractive',\n",
              "                                                     [key], {});\n",
              "          if (!dataTable) return;\n",
              "\n",
              "          const docLinkHtml = 'Like what you see? Visit the ' +\n",
              "            '<a target=\"_blank\" href=https://colab.research.google.com/notebooks/data_table.ipynb>data table notebook</a>'\n",
              "            + ' to learn more about interactive tables.';\n",
              "          element.innerHTML = '';\n",
              "          dataTable['output_type'] = 'display_data';\n",
              "          await google.colab.output.renderOutput(dataTable, element);\n",
              "          const docLink = document.createElement('div');\n",
              "          docLink.innerHTML = docLinkHtml;\n",
              "          element.appendChild(docLink);\n",
              "        }\n",
              "      </script>\n",
              "    </div>\n",
              "  </div>\n",
              "  "
            ],
            "text/plain": [
              "         ID  Age  Gender         Income     Balance  Vintage  \\\n",
              "0  84e2fcc9   36  Female       5L - 10L   563266.44        4   \n",
              "1  57fea15e   53  Female   Less than 5L   875572.11        2   \n",
              "2  8df34ef3   35  Female  More than 15L   701607.06        2   \n",
              "3  c5c0788b   43  Female  More than 15L  1393922.16        0   \n",
              "4  951d69c4   39  Female  More than 15L   893146.23        1   \n",
              "\n",
              "   Transaction_Status Product_Holdings  Credit_Card Credit_Category  Is_Churn  \n",
              "0                   0                1            0         Average       1.0  \n",
              "1                   1                1            1            Poor       0.0  \n",
              "2                   1                2            0            Poor       0.0  \n",
              "3                   1                2            1            Poor       1.0  \n",
              "4                   1                1            1            Good       1.0  "
            ]
          },
          "metadata": {},
          "execution_count": 166
        }
      ]
    },
    {
      "cell_type": "code",
      "source": [
        ""
      ],
      "metadata": {
        "id": "SyXcVwOistl9"
      },
      "execution_count": null,
      "outputs": []
    },
    {
      "cell_type": "code",
      "source": [
        ""
      ],
      "metadata": {
        "id": "eDBP8n2GpQF3"
      },
      "execution_count": null,
      "outputs": []
    },
    {
      "cell_type": "code",
      "source": [
        ""
      ],
      "metadata": {
        "id": "3XpBENBlpRso"
      },
      "execution_count": null,
      "outputs": []
    },
    {
      "cell_type": "markdown",
      "source": [
        "**Analyzing the Patterns in the dataset**"
      ],
      "metadata": {
        "id": "Poa_THpsSDiw"
      }
    },
    {
      "cell_type": "code",
      "source": [
        "# checking shape\n",
        "print(df.shape,'rows and columns')"
      ],
      "metadata": {
        "colab": {
          "base_uri": "https://localhost:8080/"
        },
        "id": "ZutCyDFcR8mW",
        "outputId": "d7858c47-5844-4df2-c0d0-ffdcb73b7c86"
      },
      "execution_count": null,
      "outputs": [
        {
          "output_type": "stream",
          "name": "stdout",
          "text": [
            "(9501, 11) rows and columns\n"
          ]
        }
      ]
    },
    {
      "cell_type": "code",
      "source": [
        "# Checking Data type\n",
        "df.info()"
      ],
      "metadata": {
        "colab": {
          "base_uri": "https://localhost:8080/"
        },
        "id": "lwv0SnS-SLxB",
        "outputId": "c44a05e8-7054-4b5e-e104-b5ba31222615"
      },
      "execution_count": null,
      "outputs": [
        {
          "output_type": "stream",
          "name": "stdout",
          "text": [
            "<class 'pandas.core.frame.DataFrame'>\n",
            "Int64Index: 9501 entries, 0 to 2850\n",
            "Data columns (total 11 columns):\n",
            " #   Column              Non-Null Count  Dtype  \n",
            "---  ------              --------------  -----  \n",
            " 0   ID                  9501 non-null   object \n",
            " 1   Age                 9501 non-null   int64  \n",
            " 2   Gender              9501 non-null   object \n",
            " 3   Income              9501 non-null   object \n",
            " 4   Balance             9501 non-null   float64\n",
            " 5   Vintage             9501 non-null   int64  \n",
            " 6   Transaction_Status  9501 non-null   int64  \n",
            " 7   Product_Holdings    9501 non-null   object \n",
            " 8   Credit_Card         9501 non-null   int64  \n",
            " 9   Credit_Category     9501 non-null   object \n",
            " 10  Is_Churn            6650 non-null   float64\n",
            "dtypes: float64(2), int64(4), object(5)\n",
            "memory usage: 890.7+ KB\n"
          ]
        }
      ]
    },
    {
      "cell_type": "markdown",
      "source": [
        "2 float data type, 4 integer data type and 5 object data type columns are present in the dataset."
      ],
      "metadata": {
        "id": "Ea1Xp96sSm55"
      }
    },
    {
      "cell_type": "code",
      "source": [
        "# Checking null values\n",
        "df.isnull().sum()"
      ],
      "metadata": {
        "colab": {
          "base_uri": "https://localhost:8080/"
        },
        "id": "xvv-W9I6Sqcw",
        "outputId": "fb43a686-65fd-4a57-a45e-b20504473c26"
      },
      "execution_count": null,
      "outputs": [
        {
          "output_type": "execute_result",
          "data": {
            "text/plain": [
              "ID                       0\n",
              "Age                      0\n",
              "Gender                   0\n",
              "Income                   0\n",
              "Balance                  0\n",
              "Vintage                  0\n",
              "Transaction_Status       0\n",
              "Product_Holdings         0\n",
              "Credit_Card              0\n",
              "Credit_Category          0\n",
              "Is_Churn              2851\n",
              "dtype: int64"
            ]
          },
          "metadata": {},
          "execution_count": 169
        }
      ]
    },
    {
      "cell_type": "markdown",
      "source": [
        "Null values are present in the dataset because we added both the dataframes."
      ],
      "metadata": {
        "id": "T-kYZiD0Szrv"
      }
    },
    {
      "cell_type": "code",
      "source": [
        "# dropping null values\n",
        "df.dropna(axis=0,inplace=True)"
      ],
      "metadata": {
        "id": "c4sm_-t8qh54"
      },
      "execution_count": null,
      "outputs": []
    },
    {
      "cell_type": "code",
      "source": [
        "# checking null values again\n",
        "df.isnull().sum()"
      ],
      "metadata": {
        "colab": {
          "base_uri": "https://localhost:8080/"
        },
        "id": "GEA8tsbPqiFi",
        "outputId": "4479c365-9faa-4541-badd-4a3e7afc4aaa"
      },
      "execution_count": null,
      "outputs": [
        {
          "output_type": "execute_result",
          "data": {
            "text/plain": [
              "ID                    0\n",
              "Age                   0\n",
              "Gender                0\n",
              "Income                0\n",
              "Balance               0\n",
              "Vintage               0\n",
              "Transaction_Status    0\n",
              "Product_Holdings      0\n",
              "Credit_Card           0\n",
              "Credit_Category       0\n",
              "Is_Churn              0\n",
              "dtype: int64"
            ]
          },
          "metadata": {},
          "execution_count": 171
        }
      ]
    },
    {
      "cell_type": "code",
      "source": [
        "# Remoing ID column\n",
        "del df['ID']"
      ],
      "metadata": {
        "id": "BqD_Ra4kbU4y"
      },
      "execution_count": null,
      "outputs": []
    },
    {
      "cell_type": "markdown",
      "source": [
        "**EDA Nominal Data**"
      ],
      "metadata": {
        "id": "R5uIGj8pTFnz"
      }
    },
    {
      "cell_type": "code",
      "source": [
        "# Gender\n",
        "ax=sns.countplot(x='Gender',data=df)\n",
        "print(df['Gender'].value_counts())"
      ],
      "metadata": {
        "colab": {
          "base_uri": "https://localhost:8080/",
          "height": 331
        },
        "id": "3NnHqytDTOCa",
        "outputId": "cb58a4f5-63ce-4b96-d79d-ff334426d9de"
      },
      "execution_count": null,
      "outputs": [
        {
          "output_type": "stream",
          "name": "stdout",
          "text": [
            "Male      3612\n",
            "Female    3038\n",
            "Name: Gender, dtype: int64\n"
          ]
        },
        {
          "output_type": "display_data",
          "data": {
            "image/png": "[encoded data removed]",
            "text/plain": [
              "<Figure size 432x288 with 1 Axes>"
            ]
          },
          "metadata": {
            "needs_background": "light"
          }
        }
      ]
    },
    {
      "cell_type": "markdown",
      "source": [
        "From the above observations the total number of males are 5157 and total number of females are is 4344, and there is not much difference."
      ],
      "metadata": {
        "id": "rYHufFnSTWKT"
      }
    },
    {
      "cell_type": "code",
      "source": [
        "# Income\n",
        "ax=sns.countplot(x='Income',data=df)\n",
        "print(df['Income'].value_counts())"
      ],
      "metadata": {
        "colab": {
          "base_uri": "https://localhost:8080/",
          "height": 366
        },
        "id": "DVboMLRiTVdM",
        "outputId": "bd7f4a9a-317e-4f7c-d139-39df6f8f40ec"
      },
      "execution_count": null,
      "outputs": [
        {
          "output_type": "stream",
          "name": "stdout",
          "text": [
            "10L - 15L        1885\n",
            "5L - 10L         1847\n",
            "Less than 5L     1573\n",
            "More than 15L    1345\n",
            "Name: Income, dtype: int64\n"
          ]
        },
        {
          "output_type": "display_data",
          "data": {
            "image/png": "[encoded data removed]",
            "text/plain": [
              "<Figure size 432x288 with 1 Axes>"
            ]
          },
          "metadata": {
            "needs_background": "light"
          }
        }
      ]
    },
    {
      "cell_type": "markdown",
      "source": [
        "In Yearly Income there are 4 unique values, that is customer's Income in the range of 10L - 15L, 5L - 10L, Less than 5L and More than 15L and there is not much difference between them."
      ],
      "metadata": {
        "id": "dSOmkpQfVPNP"
      }
    },
    {
      "cell_type": "code",
      "source": [
        "# Vintage\n",
        "ax=sns.countplot(x='Vintage',data=df)\n",
        "print(df['Vintage'].value_counts())"
      ],
      "metadata": {
        "colab": {
          "base_uri": "https://localhost:8080/",
          "height": 401
        },
        "id": "-vNQpzybVFD0",
        "outputId": "0410c5ee-a5aa-44a8-e1c4-30d608e892b3"
      },
      "execution_count": null,
      "outputs": [
        {
          "output_type": "stream",
          "name": "stdout",
          "text": [
            "3    1405\n",
            "1    1354\n",
            "2    1328\n",
            "4    1296\n",
            "0     956\n",
            "5     311\n",
            "Name: Vintage, dtype: int64\n"
          ]
        },
        {
          "output_type": "display_data",
          "data": {
            "image/png": "[encoded data removed]",
            "text/plain": [
              "<Figure size 432x288 with 1 Axes>"
            ]
          },
          "metadata": {
            "needs_background": "light"
          }
        }
      ]
    },
    {
      "cell_type": "markdown",
      "source": [
        "In Vintage(No. of years the customer is associated with bank) column, vintage number 5 is very low that is 311 and vintage number 3 is more that is 456."
      ],
      "metadata": {
        "id": "94A1goa5V4wU"
      }
    },
    {
      "cell_type": "code",
      "source": [
        "# Transaction_Status\n",
        "ax=sns.countplot(x='Transaction_Status',data=df)\n",
        "print(df['Transaction_Status'].value_counts())"
      ],
      "metadata": {
        "colab": {
          "base_uri": "https://localhost:8080/",
          "height": 332
        },
        "id": "b2mi-5JsV2Oo",
        "outputId": "80fbc867-9ec2-455d-d636-d3b8bc0dfc7b"
      },
      "execution_count": null,
      "outputs": [
        {
          "output_type": "stream",
          "name": "stdout",
          "text": [
            "1    3430\n",
            "0    3220\n",
            "Name: Transaction_Status, dtype: int64\n"
          ]
        },
        {
          "output_type": "display_data",
          "data": {
            "image/png": "[encoded data removed]",
            "text/plain": [
              "<Figure size 432x288 with 1 Axes>"
            ]
          },
          "metadata": {
            "needs_background": "light"
          }
        }
      ]
    },
    {
      "cell_type": "markdown",
      "source": [
        "Transaction_Status(Whether the customer has done any transaction in the past 3 months or not) is of two type 0 and 1 that is basically yes and no and there is not much differnce between them."
      ],
      "metadata": {
        "id": "hJo0Vi6QWeQw"
      }
    },
    {
      "cell_type": "code",
      "source": [
        "# Product_Holdings\n",
        "ax=sns.countplot(x='Product_Holdings',data=df)\n",
        "print(df['Product_Holdings'].value_counts())"
      ],
      "metadata": {
        "colab": {
          "base_uri": "https://localhost:8080/",
          "height": 350
        },
        "id": "7iNMTOZ1WevT",
        "outputId": "79260e41-bf1a-455b-d301-8e3b2e43f0f3"
      },
      "execution_count": null,
      "outputs": [
        {
          "output_type": "stream",
          "name": "stdout",
          "text": [
            "1     3200\n",
            "2     3182\n",
            "3+     268\n",
            "Name: Product_Holdings, dtype: int64\n"
          ]
        },
        {
          "output_type": "display_data",
          "data": {
            "image/png": "[encoded data removed]",
            "text/plain": [
              "<Figure size 432x288 with 1 Axes>"
            ]
          },
          "metadata": {
            "needs_background": "light"
          }
        }
      ]
    },
    {
      "cell_type": "markdown",
      "source": [
        "In Product_Holdings(No. of product holdings with the bank) column 3+ is very less than others.\n",
        "  "
      ],
      "metadata": {
        "id": "mYB-ujgLWvpM"
      }
    },
    {
      "cell_type": "code",
      "source": [
        "# Credit_Card\n",
        "ax=sns.countplot(x='Credit_Card',data=df)\n",
        "print(df['Credit_Card'].value_counts())"
      ],
      "metadata": {
        "colab": {
          "base_uri": "https://localhost:8080/",
          "height": 332
        },
        "id": "SXy2tDXiWq1_",
        "outputId": "2344728c-8cd4-4bb0-d3d6-2a21cbf04c7d"
      },
      "execution_count": null,
      "outputs": [
        {
          "output_type": "stream",
          "name": "stdout",
          "text": [
            "1    4418\n",
            "0    2232\n",
            "Name: Credit_Card, dtype: int64\n"
          ]
        },
        {
          "output_type": "display_data",
          "data": {
            "image/png": "[encoded data removed]",
            "text/plain": [
              "<Figure size 432x288 with 1 Axes>"
            ]
          },
          "metadata": {
            "needs_background": "light"
          }
        }
      ]
    },
    {
      "cell_type": "markdown",
      "source": [
        "Customers having Credit_Card is more."
      ],
      "metadata": {
        "id": "U7q9g7lCXYZW"
      }
    },
    {
      "cell_type": "code",
      "source": [
        "# Credit_Category\n",
        "ax=sns.countplot(x='Credit_Category',data=df)\n",
        "print(df['Credit_Category'].value_counts())"
      ],
      "metadata": {
        "colab": {
          "base_uri": "https://localhost:8080/",
          "height": 350
        },
        "id": "Z-chb7O8XS_c",
        "outputId": "f148cb85-88a8-4706-a205-942b50dabf1f"
      },
      "execution_count": null,
      "outputs": [
        {
          "output_type": "stream",
          "name": "stdout",
          "text": [
            "Poor       3076\n",
            "Average    2043\n",
            "Good       1531\n",
            "Name: Credit_Category, dtype: int64\n"
          ]
        },
        {
          "output_type": "display_data",
          "data": {
            "image/png": "[encoded data removed]",
            "text/plain": [
              "<Figure size 432x288 with 1 Axes>"
            ]
          },
          "metadata": {
            "needs_background": "light"
          }
        }
      ]
    },
    {
      "cell_type": "markdown",
      "source": [
        "Customers with Poor Credit_Category is more."
      ],
      "metadata": {
        "id": "K_xDkzsUX_Jt"
      }
    },
    {
      "cell_type": "code",
      "source": [
        "# Is_Churn\n",
        "ax=sns.countplot(x='Is_Churn',data=df)\n",
        "print(df['Is_Churn'].value_counts())"
      ],
      "metadata": {
        "colab": {
          "base_uri": "https://localhost:8080/",
          "height": 332
        },
        "id": "8xZulX2BX8ag",
        "outputId": "f8219048-99cd-4c5c-fc64-0bc191c739b9"
      },
      "execution_count": null,
      "outputs": [
        {
          "output_type": "stream",
          "name": "stdout",
          "text": [
            "0.0    5113\n",
            "1.0    1537\n",
            "Name: Is_Churn, dtype: int64\n"
          ]
        },
        {
          "output_type": "display_data",
          "data": {
            "image/png": "[encoded data removed]",
            "text/plain": [
              "<Figure size 432x288 with 1 Axes>"
            ]
          },
          "metadata": {
            "needs_background": "light"
          }
        }
      ]
    },
    {
      "cell_type": "markdown",
      "source": [
        "In Is_Churn column(Whether the customer will churn in next 6 months or not), Very large differnce between the two unique category."
      ],
      "metadata": {
        "id": "KMjiyXUTZICy"
      }
    },
    {
      "cell_type": "markdown",
      "source": [
        "**EDA Distribution Plot**"
      ],
      "metadata": {
        "id": "tEk0QtwVZcT4"
      }
    },
    {
      "cell_type": "code",
      "source": [
        "df.columns"
      ],
      "metadata": {
        "colab": {
          "base_uri": "https://localhost:8080/"
        },
        "id": "5i10HNDpYLCO",
        "outputId": "9a18bf93-2331-40ce-a9c7-7732f6c5783f"
      },
      "execution_count": null,
      "outputs": [
        {
          "output_type": "execute_result",
          "data": {
            "text/plain": [
              "Index(['Age', 'Gender', 'Income', 'Balance', 'Vintage', 'Transaction_Status',\n",
              "       'Product_Holdings', 'Credit_Card', 'Credit_Category', 'Is_Churn'],\n",
              "      dtype='object')"
            ]
          },
          "metadata": {},
          "execution_count": 47
        }
      ]
    },
    {
      "cell_type": "code",
      "source": [
        "# Age\n",
        "sns.distplot(df['Age'],kde=True)"
      ],
      "metadata": {
        "colab": {
          "base_uri": "https://localhost:8080/",
          "height": 296
        },
        "id": "Vyn7y0XgZic1",
        "outputId": "5cff1d95-d006-4c96-dfe7-04876262d7a3"
      },
      "execution_count": null,
      "outputs": [
        {
          "output_type": "execute_result",
          "data": {
            "text/plain": [
              "<matplotlib.axes._subplots.AxesSubplot at 0x7f6c449a58d0>"
            ]
          },
          "metadata": {},
          "execution_count": 48
        },
        {
          "output_type": "display_data",
          "data": {
            "image/png": "[encoded data removed]",
            "text/plain": [
              "<Figure size 432x288 with 1 Axes>"
            ]
          },
          "metadata": {
            "needs_background": "light"
          }
        }
      ]
    },
    {
      "cell_type": "markdown",
      "source": [
        "In Age column ages are in range from 20 to approx 75."
      ],
      "metadata": {
        "id": "XALcSWylZyoB"
      }
    },
    {
      "cell_type": "code",
      "source": [
        "# Balance\n",
        "sns.distplot(df['Balance'],kde=True)"
      ],
      "metadata": {
        "colab": {
          "base_uri": "https://localhost:8080/",
          "height": 307
        },
        "id": "4Q-lXw-qZoIS",
        "outputId": "1604b2df-2dce-4f6e-acb4-ca6c57a01789"
      },
      "execution_count": null,
      "outputs": [
        {
          "output_type": "execute_result",
          "data": {
            "text/plain": [
              "<matplotlib.axes._subplots.AxesSubplot at 0x7f6c448a9dd0>"
            ]
          },
          "metadata": {},
          "execution_count": 49
        },
        {
          "output_type": "display_data",
          "data": {
            "image/png": "[encoded data removed]",
            "text/plain": [
              "<Figure size 432x288 with 1 Axes>"
            ]
          },
          "metadata": {
            "needs_background": "light"
          }
        }
      ]
    },
    {
      "cell_type": "markdown",
      "source": [
        "\t\n",
        "In Average column(Average quarterly balance of the customer), distribution plot is showing approximately normal distribution."
      ],
      "metadata": {
        "id": "yrIZrCgZau7c"
      }
    },
    {
      "cell_type": "markdown",
      "source": [
        "**Encoding object column**"
      ],
      "metadata": {
        "id": "GWVIuBXGbxUP"
      }
    },
    {
      "cell_type": "code",
      "source": [
        "from sklearn.preprocessing import OrdinalEncoder\n",
        "enc =OrdinalEncoder()\n",
        "\n",
        "for i in df.columns:\n",
        "    if df[i].dtypes=='object':\n",
        "        df[i]=enc.fit_transform(df[i].values.reshape(-1,1))"
      ],
      "metadata": {
        "id": "luw-wrZnaHHi"
      },
      "execution_count": null,
      "outputs": []
    },
    {
      "cell_type": "markdown",
      "source": [
        "**Statistical Summary**"
      ],
      "metadata": {
        "id": "OAZefMnycMe6"
      }
    },
    {
      "cell_type": "code",
      "source": [
        "df.describe()"
      ],
      "metadata": {
        "colab": {
          "base_uri": "https://localhost:8080/",
          "height": 300
        },
        "id": "CDW6v_lxb93F",
        "outputId": "a2d19621-f1b0-49e6-b1bf-667d3c0d31b0"
      },
      "execution_count": null,
      "outputs": [
        {
          "output_type": "execute_result",
          "data": {
            "text/html": [
              "\n",
              "  <div id=\"df-41db351a-682d-4617-ac01-19c0a3f27304\">\n",
              "    <div class=\"colab-df-container\">\n",
              "      <div>\n",
              "<style scoped>\n",
              "    .dataframe tbody tr th:only-of-type {\n",
              "        vertical-align: middle;\n",
              "    }\n",
              "\n",
              "    .dataframe tbody tr th {\n",
              "        vertical-align: top;\n",
              "    }\n",
              "\n",
              "    .dataframe thead th {\n",
              "        text-align: right;\n",
              "    }\n",
              "</style>\n",
              "<table border=\"1\" class=\"dataframe\">\n",
              "  <thead>\n",
              "    <tr style=\"text-align: right;\">\n",
              "      <th></th>\n",
              "      <th>Age</th>\n",
              "      <th>Gender</th>\n",
              "      <th>Income</th>\n",
              "      <th>Balance</th>\n",
              "      <th>Vintage</th>\n",
              "      <th>Transaction_Status</th>\n",
              "      <th>Product_Holdings</th>\n",
              "      <th>Credit_Card</th>\n",
              "      <th>Credit_Category</th>\n",
              "      <th>Is_Churn</th>\n",
              "    </tr>\n",
              "  </thead>\n",
              "  <tbody>\n",
              "    <tr>\n",
              "      <th>count</th>\n",
              "      <td>6650.000000</td>\n",
              "      <td>6650.000000</td>\n",
              "      <td>6650.000000</td>\n",
              "      <td>6.650000e+03</td>\n",
              "      <td>6650.000000</td>\n",
              "      <td>6650.000000</td>\n",
              "      <td>6650.000000</td>\n",
              "      <td>6650.000000</td>\n",
              "      <td>6650.000000</td>\n",
              "      <td>6650.000000</td>\n",
              "    </tr>\n",
              "    <tr>\n",
              "      <th>mean</th>\n",
              "      <td>41.130226</td>\n",
              "      <td>0.543158</td>\n",
              "      <td>1.357594</td>\n",
              "      <td>8.045954e+05</td>\n",
              "      <td>2.250226</td>\n",
              "      <td>0.515789</td>\n",
              "      <td>0.559098</td>\n",
              "      <td>0.664361</td>\n",
              "      <td>1.155338</td>\n",
              "      <td>0.231128</td>\n",
              "    </tr>\n",
              "    <tr>\n",
              "      <th>std</th>\n",
              "      <td>9.685747</td>\n",
              "      <td>0.498171</td>\n",
              "      <td>1.096052</td>\n",
              "      <td>5.157549e+05</td>\n",
              "      <td>1.458795</td>\n",
              "      <td>0.499788</td>\n",
              "      <td>0.571977</td>\n",
              "      <td>0.472249</td>\n",
              "      <td>0.863572</td>\n",
              "      <td>0.421586</td>\n",
              "    </tr>\n",
              "    <tr>\n",
              "      <th>min</th>\n",
              "      <td>21.000000</td>\n",
              "      <td>0.000000</td>\n",
              "      <td>0.000000</td>\n",
              "      <td>6.300000e+01</td>\n",
              "      <td>0.000000</td>\n",
              "      <td>0.000000</td>\n",
              "      <td>0.000000</td>\n",
              "      <td>0.000000</td>\n",
              "      <td>0.000000</td>\n",
              "      <td>0.000000</td>\n",
              "    </tr>\n",
              "    <tr>\n",
              "      <th>25%</th>\n",
              "      <td>34.000000</td>\n",
              "      <td>0.000000</td>\n",
              "      <td>0.000000</td>\n",
              "      <td>3.922642e+05</td>\n",
              "      <td>1.000000</td>\n",
              "      <td>0.000000</td>\n",
              "      <td>0.000000</td>\n",
              "      <td>0.000000</td>\n",
              "      <td>0.000000</td>\n",
              "      <td>0.000000</td>\n",
              "    </tr>\n",
              "    <tr>\n",
              "      <th>50%</th>\n",
              "      <td>40.000000</td>\n",
              "      <td>1.000000</td>\n",
              "      <td>1.000000</td>\n",
              "      <td>7.649386e+05</td>\n",
              "      <td>2.000000</td>\n",
              "      <td>1.000000</td>\n",
              "      <td>1.000000</td>\n",
              "      <td>1.000000</td>\n",
              "      <td>1.000000</td>\n",
              "      <td>0.000000</td>\n",
              "    </tr>\n",
              "    <tr>\n",
              "      <th>75%</th>\n",
              "      <td>47.000000</td>\n",
              "      <td>1.000000</td>\n",
              "      <td>2.000000</td>\n",
              "      <td>1.147124e+06</td>\n",
              "      <td>3.000000</td>\n",
              "      <td>1.000000</td>\n",
              "      <td>1.000000</td>\n",
              "      <td>1.000000</td>\n",
              "      <td>2.000000</td>\n",
              "      <td>0.000000</td>\n",
              "    </tr>\n",
              "    <tr>\n",
              "      <th>max</th>\n",
              "      <td>72.000000</td>\n",
              "      <td>1.000000</td>\n",
              "      <td>3.000000</td>\n",
              "      <td>2.436616e+06</td>\n",
              "      <td>5.000000</td>\n",
              "      <td>1.000000</td>\n",
              "      <td>2.000000</td>\n",
              "      <td>1.000000</td>\n",
              "      <td>2.000000</td>\n",
              "      <td>1.000000</td>\n",
              "    </tr>\n",
              "  </tbody>\n",
              "</table>\n",
              "</div>\n",
              "      <button class=\"colab-df-convert\" onclick=\"convertToInteractive('df-41db351a-682d-4617-ac01-19c0a3f27304')\"\n",
              "              title=\"Convert this dataframe to an interactive table.\"\n",
              "              style=\"display:none;\">\n",
              "        \n",
              "  <svg xmlns=\"http://www.w3.org/2000/svg\" height=\"24px\"viewBox=\"0 0 24 24\"\n",
              "       width=\"24px\">\n",
              "    <path d=\"M0 0h24v24H0V0z\" fill=\"none\"/>\n",
              "    <path d=\"M18.56 5.44l.94 2.06.94-2.06 2.06-.94-2.06-.94-.94-2.06-.94 2.06-2.06.94zm-11 1L8.5 8.5l.94-2.06 2.06-.94-2.06-.94L8.5 2.5l-.94 2.06-2.06.94zm10 10l.94 2.06.94-2.06 2.06-.94-2.06-.94-.94-2.06-.94 2.06-2.06.94z\"/><path d=\"M17.41 7.96l-1.37-1.37c-.4-.4-.92-.59-1.43-.59-.52 0-1.04.2-1.43.59L10.3 9.45l-7.72 7.72c-.78.78-.78 2.05 0 2.83L4 21.41c.39.39.9.59 1.41.59.51 0 1.02-.2 1.41-.59l7.78-7.78 2.81-2.81c.8-.78.8-2.07 0-2.86zM5.41 20L4 18.59l7.72-7.72 1.47 1.35L5.41 20z\"/>\n",
              "  </svg>\n",
              "      </button>\n",
              "      \n",
              "  <style>\n",
              "    .colab-df-container {\n",
              "      display:flex;\n",
              "      flex-wrap:wrap;\n",
              "      gap: 12px;\n",
              "    }\n",
              "\n",
              "    .colab-df-convert {\n",
              "      background-color: #E8F0FE;\n",
              "      border: none;\n",
              "      border-radius: 50%;\n",
              "      cursor: pointer;\n",
              "      display: none;\n",
              "      fill: #1967D2;\n",
              "      height: 32px;\n",
              "      padding: 0 0 0 0;\n",
              "      width: 32px;\n",
              "    }\n",
              "\n",
              "    .colab-df-convert:hover {\n",
              "      background-color: #E2EBFA;\n",
              "      box-shadow: 0px 1px 2px rgba(60, 64, 67, 0.3), 0px 1px 3px 1px rgba(60, 64, 67, 0.15);\n",
              "      fill: #174EA6;\n",
              "    }\n",
              "\n",
              "    [theme=dark] .colab-df-convert {\n",
              "      background-color: #3B4455;\n",
              "      fill: #D2E3FC;\n",
              "    }\n",
              "\n",
              "    [theme=dark] .colab-df-convert:hover {\n",
              "      background-color: #434B5C;\n",
              "      box-shadow: 0px 1px 3px 1px rgba(0, 0, 0, 0.15);\n",
              "      filter: drop-shadow(0px 1px 2px rgba(0, 0, 0, 0.3));\n",
              "      fill: #FFFFFF;\n",
              "    }\n",
              "  </style>\n",
              "\n",
              "      <script>\n",
              "        const buttonEl =\n",
              "          document.querySelector('#df-41db351a-682d-4617-ac01-19c0a3f27304 button.colab-df-convert');\n",
              "        buttonEl.style.display =\n",
              "          google.colab.kernel.accessAllowed ? 'block' : 'none';\n",
              "\n",
              "        async function convertToInteractive(key) {\n",
              "          const element = document.querySelector('#df-41db351a-682d-4617-ac01-19c0a3f27304');\n",
              "          const dataTable =\n",
              "            await google.colab.kernel.invokeFunction('convertToInteractive',\n",
              "                                                     [key], {});\n",
              "          if (!dataTable) return;\n",
              "\n",
              "          const docLinkHtml = 'Like what you see? Visit the ' +\n",
              "            '<a target=\"_blank\" href=https://colab.research.google.com/notebooks/data_table.ipynb>data table notebook</a>'\n",
              "            + ' to learn more about interactive tables.';\n",
              "          element.innerHTML = '';\n",
              "          dataTable['output_type'] = 'display_data';\n",
              "          await google.colab.output.renderOutput(dataTable, element);\n",
              "          const docLink = document.createElement('div');\n",
              "          docLink.innerHTML = docLinkHtml;\n",
              "          element.appendChild(docLink);\n",
              "        }\n",
              "      </script>\n",
              "    </div>\n",
              "  </div>\n",
              "  "
            ],
            "text/plain": [
              "               Age       Gender       Income       Balance      Vintage  \\\n",
              "count  6650.000000  6650.000000  6650.000000  6.650000e+03  6650.000000   \n",
              "mean     41.130226     0.543158     1.357594  8.045954e+05     2.250226   \n",
              "std       9.685747     0.498171     1.096052  5.157549e+05     1.458795   \n",
              "min      21.000000     0.000000     0.000000  6.300000e+01     0.000000   \n",
              "25%      34.000000     0.000000     0.000000  3.922642e+05     1.000000   \n",
              "50%      40.000000     1.000000     1.000000  7.649386e+05     2.000000   \n",
              "75%      47.000000     1.000000     2.000000  1.147124e+06     3.000000   \n",
              "max      72.000000     1.000000     3.000000  2.436616e+06     5.000000   \n",
              "\n",
              "       Transaction_Status  Product_Holdings  Credit_Card  Credit_Category  \\\n",
              "count         6650.000000       6650.000000  6650.000000      6650.000000   \n",
              "mean             0.515789          0.559098     0.664361         1.155338   \n",
              "std              0.499788          0.571977     0.472249         0.863572   \n",
              "min              0.000000          0.000000     0.000000         0.000000   \n",
              "25%              0.000000          0.000000     0.000000         0.000000   \n",
              "50%              1.000000          1.000000     1.000000         1.000000   \n",
              "75%              1.000000          1.000000     1.000000         2.000000   \n",
              "max              1.000000          2.000000     1.000000         2.000000   \n",
              "\n",
              "          Is_Churn  \n",
              "count  6650.000000  \n",
              "mean      0.231128  \n",
              "std       0.421586  \n",
              "min       0.000000  \n",
              "25%       0.000000  \n",
              "50%       0.000000  \n",
              "75%       0.000000  \n",
              "max       1.000000  "
            ]
          },
          "metadata": {},
          "execution_count": 51
        }
      ]
    },
    {
      "cell_type": "markdown",
      "source": [
        "Numbers of values are same in every column.\n",
        "\n",
        "Not Much differnce between mean and median.\n",
        "\n",
        "Not much difference between 75% and max.\n"
      ],
      "metadata": {
        "id": "Iz5KSBFWcXC5"
      }
    },
    {
      "cell_type": "markdown",
      "source": [
        "**Checking Correlation**"
      ],
      "metadata": {
        "id": "mMeOx0DPcuBh"
      }
    },
    {
      "cell_type": "code",
      "source": [
        "plt.figure(figsize=(22,7))\n",
        "sns.heatmap(df.corr(),annot=True,linewidths =0.1,fmt='0.2f')"
      ],
      "metadata": {
        "colab": {
          "base_uri": "https://localhost:8080/",
          "height": 450
        },
        "id": "FemEQlaJcBMp",
        "outputId": "1f04c871-73fa-4dc4-d762-15cfb41eb542"
      },
      "execution_count": null,
      "outputs": [
        {
          "output_type": "execute_result",
          "data": {
            "text/plain": [
              "<matplotlib.axes._subplots.AxesSubplot at 0x7f6c44781d90>"
            ]
          },
          "metadata": {},
          "execution_count": 52
        },
        {
          "output_type": "display_data",
          "data": {
            "image/png": "[encoded data removed]",
            "text/plain": [
              "<Figure size 1584x504 with 2 Axes>"
            ]
          },
          "metadata": {
            "needs_background": "light"
          }
        }
      ]
    },
    {
      "cell_type": "markdown",
      "source": [
        "Target Column Is_Churn looking negatively correlated with other columns.\n",
        "\n",
        "Other columns are also looking negatively correlated with each other."
      ],
      "metadata": {
        "id": "lkBjjUoCdB0H"
      }
    },
    {
      "cell_type": "markdown",
      "source": [
        "**Detecting Outlier**"
      ],
      "metadata": {
        "id": "iHO7ESy5dztY"
      }
    },
    {
      "cell_type": "code",
      "source": [
        "df.plot(kind='box',subplots=True, layout=(5,8), figsize=(15,10))"
      ],
      "metadata": {
        "colab": {
          "base_uri": "https://localhost:8080/",
          "height": 457
        },
        "id": "10jWA4fudOgG",
        "outputId": "9fc237fa-321c-4402-a2e5-e81b836d8d40"
      },
      "execution_count": null,
      "outputs": [
        {
          "output_type": "execute_result",
          "data": {
            "text/plain": [
              "Age                      AxesSubplot(0.125,0.749828;0.0824468x0.130172)\n",
              "Gender                AxesSubplot(0.223936,0.749828;0.0824468x0.130172)\n",
              "Income                AxesSubplot(0.322872,0.749828;0.0824468x0.130172)\n",
              "Balance               AxesSubplot(0.421809,0.749828;0.0824468x0.130172)\n",
              "Vintage               AxesSubplot(0.520745,0.749828;0.0824468x0.130172)\n",
              "Transaction_Status    AxesSubplot(0.619681,0.749828;0.0824468x0.130172)\n",
              "Product_Holdings      AxesSubplot(0.718617,0.749828;0.0824468x0.130172)\n",
              "Credit_Card           AxesSubplot(0.817553,0.749828;0.0824468x0.130172)\n",
              "Credit_Category          AxesSubplot(0.125,0.593621;0.0824468x0.130172)\n",
              "Is_Churn              AxesSubplot(0.223936,0.593621;0.0824468x0.130172)\n",
              "dtype: object"
            ]
          },
          "metadata": {},
          "execution_count": 53
        },
        {
          "output_type": "display_data",
          "data": {
            "image/png": "[encoded data removed]",
            "text/plain": [
              "<Figure size 1080x720 with 40 Axes>"
            ]
          },
          "metadata": {
            "needs_background": "light"
          }
        }
      ]
    },
    {
      "cell_type": "markdown",
      "source": [
        "Not Much outliers are Present."
      ],
      "metadata": {
        "id": "Tb_UOmGwd7v_"
      }
    },
    {
      "cell_type": "markdown",
      "source": [
        "**Seprating the columns into Feature and Target**"
      ],
      "metadata": {
        "id": "nYaYLTN0ejKF"
      }
    },
    {
      "cell_type": "code",
      "source": [
        "x=df.drop('Is_Churn',axis=1)\n",
        "y=df['Is_Churn']"
      ],
      "metadata": {
        "id": "7vSkY9rceev0"
      },
      "execution_count": null,
      "outputs": []
    },
    {
      "cell_type": "code",
      "source": [
        ""
      ],
      "metadata": {
        "id": "YIC2I3oEswGr"
      },
      "execution_count": null,
      "outputs": []
    },
    {
      "cell_type": "markdown",
      "source": [
        "**Handling Class Imbalance Problem on target column**"
      ],
      "metadata": {
        "id": "WzaVOm4DtVAA"
      }
    },
    {
      "cell_type": "code",
      "source": [
        "# Because there is big differnce between both classes of Is_Churn\n",
        "from imblearn.over_sampling import SMOTE\n",
        "SM=SMOTE()\n",
        "x_over, y_over=SM.fit_resample(x,y)"
      ],
      "metadata": {
        "id": "tMT6zesQtUJa"
      },
      "execution_count": null,
      "outputs": []
    },
    {
      "cell_type": "code",
      "source": [
        "y_over.value_counts()"
      ],
      "metadata": {
        "colab": {
          "base_uri": "https://localhost:8080/"
        },
        "id": "ZpO9jy2CtnJA",
        "outputId": "2117e745-018e-4839-9b4f-50a594efb611"
      },
      "execution_count": null,
      "outputs": [
        {
          "output_type": "execute_result",
          "data": {
            "text/plain": [
              "1.0    5113\n",
              "0.0    5113\n",
              "Name: Is_Churn, dtype: int64"
            ]
          },
          "metadata": {},
          "execution_count": 179
        }
      ]
    },
    {
      "cell_type": "code",
      "source": [
        ""
      ],
      "metadata": {
        "id": "pzbtffhEsRv7"
      },
      "execution_count": null,
      "outputs": []
    },
    {
      "cell_type": "code",
      "source": [
        ""
      ],
      "metadata": {
        "id": "IC5_-4G7sRy4"
      },
      "execution_count": null,
      "outputs": []
    },
    {
      "cell_type": "markdown",
      "source": [
        "**Train Test Split**"
      ],
      "metadata": {
        "id": "wgAzfxP2ezIC"
      }
    },
    {
      "cell_type": "code",
      "source": [
        "# y1\n",
        "from sklearn.model_selection import train_test_split\n",
        "x_train, x_test, y_train, y_test= train_test_split(x,y,test_size=.43, random_state=43)\n",
        "print(x_train.shape)\n",
        "print(x_test.shape)\n",
        "print(y_train.shape)\n",
        "print(y_test.shape)"
      ],
      "metadata": {
        "colab": {
          "base_uri": "https://localhost:8080/"
        },
        "id": "54EKCfGueyJA",
        "outputId": "f615d730-4f30-4ada-b250-e8e65cb82e5c"
      },
      "execution_count": null,
      "outputs": [
        {
          "output_type": "stream",
          "name": "stdout",
          "text": [
            "(3790, 9)\n",
            "(2860, 9)\n",
            "(3790,)\n",
            "(2860,)\n"
          ]
        }
      ]
    },
    {
      "cell_type": "code",
      "source": [
        ""
      ],
      "metadata": {
        "id": "XqBJ5iwn5VDO"
      },
      "execution_count": null,
      "outputs": []
    },
    {
      "cell_type": "markdown",
      "source": [
        "**Model Building**"
      ],
      "metadata": {
        "id": "jvHxfy_XfksG"
      }
    },
    {
      "cell_type": "code",
      "source": [
        "from sklearn.linear_model import LogisticRegression\n",
        "from sklearn.ensemble import AdaBoostClassifier, RandomForestClassifier\n",
        "from sklearn.naive_bayes import GaussianNB\n",
        "from sklearn.tree import DecisionTreeClassifier\n",
        "from sklearn.model_selection import cross_val_score\n",
        "from sklearn.metrics import accuracy_score, confusion_matrix, classification_report\n"
      ],
      "metadata": {
        "id": "Y4yi0sa5e734"
      },
      "execution_count": null,
      "outputs": []
    },
    {
      "cell_type": "code",
      "source": [
        "#LogisticRegression\n",
        "lr=LogisticRegression()\n",
        "lr.fit(x_train, y_train)\n",
        "predlr=lr.predict(x_test)\n",
        "print(accuracy_score(y_test,predlr))\n",
        "print(confusion_matrix(y_test,predlr))\n",
        "print(classification_report(y_test,predlr))"
      ],
      "metadata": {
        "colab": {
          "base_uri": "https://localhost:8080/"
        },
        "id": "ilb9Pnf2g2GR",
        "outputId": "65f9665a-8a2b-46ae-f79f-61db0ac208ec"
      },
      "execution_count": null,
      "outputs": [
        {
          "output_type": "stream",
          "name": "stdout",
          "text": [
            "0.7723776223776224\n",
            "[[2209    0]\n",
            " [ 651    0]]\n",
            "              precision    recall  f1-score   support\n",
            "\n",
            "         0.0       0.77      1.00      0.87      2209\n",
            "         1.0       0.00      0.00      0.00       651\n",
            "\n",
            "    accuracy                           0.77      2860\n",
            "   macro avg       0.39      0.50      0.44      2860\n",
            "weighted avg       0.60      0.77      0.67      2860\n",
            "\n"
          ]
        }
      ]
    },
    {
      "cell_type": "code",
      "source": [
        "# Logistic Regression Cross Validation\n",
        "\n",
        "scr=cross_val_score(lr,x,y,cv=5)\n",
        "print('cross validation score',scr.mean())"
      ],
      "metadata": {
        "colab": {
          "base_uri": "https://localhost:8080/"
        },
        "id": "hZnqSZBsk3Xo",
        "outputId": "f3f573fa-906b-49fc-c404-9381b1d1f6a0"
      },
      "execution_count": null,
      "outputs": [
        {
          "output_type": "stream",
          "name": "stdout",
          "text": [
            "cross validation score 0.7688721804511277\n"
          ]
        }
      ]
    },
    {
      "cell_type": "code",
      "source": [
        ""
      ],
      "metadata": {
        "id": "T5ViaJOQlHR5"
      },
      "execution_count": null,
      "outputs": []
    },
    {
      "cell_type": "code",
      "source": [
        "# AdaBoostClassifier\n",
        "ad=AdaBoostClassifier()\n",
        "ad.fit(x_train,y_train)\n",
        "predad=ad.predict(x_test)\n",
        "print(accuracy_score(y_test,predad))\n",
        "print(confusion_matrix(y_test,predad))\n",
        "print(classification_report(y_test,predad))"
      ],
      "metadata": {
        "colab": {
          "base_uri": "https://localhost:8080/"
        },
        "id": "h8Tgw9q8llqI",
        "outputId": "a8056fc1-aeac-48c4-f6b5-bda106ab0be7"
      },
      "execution_count": null,
      "outputs": [
        {
          "output_type": "stream",
          "name": "stdout",
          "text": [
            "0.7706293706293706\n",
            "[[2159   50]\n",
            " [ 606   45]]\n",
            "              precision    recall  f1-score   support\n",
            "\n",
            "         0.0       0.78      0.98      0.87      2209\n",
            "         1.0       0.47      0.07      0.12       651\n",
            "\n",
            "    accuracy                           0.77      2860\n",
            "   macro avg       0.63      0.52      0.49      2860\n",
            "weighted avg       0.71      0.77      0.70      2860\n",
            "\n"
          ]
        }
      ]
    },
    {
      "cell_type": "code",
      "source": [
        "#For AdaBoostClassifier cross validation\n",
        "scr=cross_val_score(ad,x,y,cv=5)\n",
        "print('cross validation score',scr.mean())"
      ],
      "metadata": {
        "colab": {
          "base_uri": "https://localhost:8080/"
        },
        "id": "ZbBE7Y0plltk",
        "outputId": "1473492a-64b1-4442-ea88-ff01e65923f3"
      },
      "execution_count": null,
      "outputs": [
        {
          "output_type": "stream",
          "name": "stdout",
          "text": [
            "cross validation score 0.7682706766917293\n"
          ]
        }
      ]
    },
    {
      "cell_type": "code",
      "source": [
        ""
      ],
      "metadata": {
        "id": "Ul6fhaDUlqob"
      },
      "execution_count": null,
      "outputs": []
    },
    {
      "cell_type": "code",
      "source": [
        "# RandomForestClassifier\n",
        "rf=RandomForestClassifier()\n",
        "rf.fit(x_train,y_train)\n",
        "predrf=rf.predict(x_test)\n",
        "print(accuracy_score(y_test,predrf))\n",
        "print(confusion_matrix(y_test,predrf))\n",
        "print(classification_report(y_test,predrf))"
      ],
      "metadata": {
        "colab": {
          "base_uri": "https://localhost:8080/"
        },
        "id": "Utf1z_c0lrx7",
        "outputId": "ab6b4218-86c6-462c-e6c3-326b22640916"
      },
      "execution_count": null,
      "outputs": [
        {
          "output_type": "stream",
          "name": "stdout",
          "text": [
            "0.7562937062937063\n",
            "[[2089  120]\n",
            " [ 577   74]]\n",
            "              precision    recall  f1-score   support\n",
            "\n",
            "         0.0       0.78      0.95      0.86      2209\n",
            "         1.0       0.38      0.11      0.18       651\n",
            "\n",
            "    accuracy                           0.76      2860\n",
            "   macro avg       0.58      0.53      0.52      2860\n",
            "weighted avg       0.69      0.76      0.70      2860\n",
            "\n"
          ]
        }
      ]
    },
    {
      "cell_type": "code",
      "source": [
        "# Random Forest Cross Validation\n",
        "\n",
        "scr=cross_val_score(rf,x,y,cv=5)\n",
        "print('cross validation score',scr.mean())"
      ],
      "metadata": {
        "colab": {
          "base_uri": "https://localhost:8080/"
        },
        "id": "D3TC6nUnlr1c",
        "outputId": "eebfa83e-e171-4de5-9ac7-00857cedc621"
      },
      "execution_count": null,
      "outputs": [
        {
          "output_type": "stream",
          "name": "stdout",
          "text": [
            "cross validation score 0.7538345864661654\n"
          ]
        }
      ]
    },
    {
      "cell_type": "code",
      "source": [
        ""
      ],
      "metadata": {
        "id": "T4tC3YkGlzg-"
      },
      "execution_count": null,
      "outputs": []
    },
    {
      "cell_type": "code",
      "source": [
        "#DecisionTreeClassifier\n",
        "dt=DecisionTreeClassifier()\n",
        "dt.fit(x_train,y_train)\n",
        "preddt=dt.predict(x_test)\n",
        "print(accuracy_score(y_test,preddt))\n",
        "print(confusion_matrix(y_test,preddt))\n",
        "print(classification_report(y_test,preddt))"
      ],
      "metadata": {
        "colab": {
          "base_uri": "https://localhost:8080/"
        },
        "id": "RTfAtlLfl1UM",
        "outputId": "55a1ad7d-2882-4e7d-ab88-3bf1a890836a"
      },
      "execution_count": null,
      "outputs": [
        {
          "output_type": "stream",
          "name": "stdout",
          "text": [
            "0.6611888111888112\n",
            "[[1701  508]\n",
            " [ 461  190]]\n",
            "              precision    recall  f1-score   support\n",
            "\n",
            "         0.0       0.79      0.77      0.78      2209\n",
            "         1.0       0.27      0.29      0.28       651\n",
            "\n",
            "    accuracy                           0.66      2860\n",
            "   macro avg       0.53      0.53      0.53      2860\n",
            "weighted avg       0.67      0.66      0.67      2860\n",
            "\n"
          ]
        }
      ]
    },
    {
      "cell_type": "code",
      "source": [
        "# For DecisionTreeClassifier cross validation\n",
        "scr=cross_val_score(dt,x,y,cv=5)\n",
        "print('cross validation score',scr.mean())"
      ],
      "metadata": {
        "colab": {
          "base_uri": "https://localhost:8080/"
        },
        "id": "xNumKTjal1Xx",
        "outputId": "c654dd7f-6297-492f-d603-b208e6a51806"
      },
      "execution_count": null,
      "outputs": [
        {
          "output_type": "stream",
          "name": "stdout",
          "text": [
            "cross validation score 0.6436090225563911\n"
          ]
        }
      ]
    },
    {
      "cell_type": "code",
      "source": [
        ""
      ],
      "metadata": {
        "id": "KJfs6pWul9kz"
      },
      "execution_count": null,
      "outputs": []
    },
    {
      "cell_type": "code",
      "source": [
        "# GaussianNB\n",
        "gnb=GaussianNB()\n",
        "gnb.fit(x_train,y_train)\n",
        "predgnb=gnb.predict(x_test)\n",
        "print(accuracy_score(y_test,predgnb))\n",
        "print(confusion_matrix(y_test,predgnb))\n",
        "print(classification_report(y_test,predgnb))"
      ],
      "metadata": {
        "colab": {
          "base_uri": "https://localhost:8080/"
        },
        "id": "trFlgNgSmCRM",
        "outputId": "9bcd1f43-e732-4212-a29b-34ed71dc6a64"
      },
      "execution_count": null,
      "outputs": [
        {
          "output_type": "stream",
          "name": "stdout",
          "text": [
            "0.7723776223776224\n",
            "[[2209    0]\n",
            " [ 651    0]]\n",
            "              precision    recall  f1-score   support\n",
            "\n",
            "         0.0       0.77      1.00      0.87      2209\n",
            "         1.0       0.00      0.00      0.00       651\n",
            "\n",
            "    accuracy                           0.77      2860\n",
            "   macro avg       0.39      0.50      0.44      2860\n",
            "weighted avg       0.60      0.77      0.67      2860\n",
            "\n"
          ]
        }
      ]
    },
    {
      "cell_type": "code",
      "source": [
        "# For GaussianNb cross validation\n",
        "scr=cross_val_score(gnb,x,y,cv=5)\n",
        "print('cross validation score',scr.mean())"
      ],
      "metadata": {
        "colab": {
          "base_uri": "https://localhost:8080/"
        },
        "id": "H_j3L2r1mCUv",
        "outputId": "047078eb-3a44-4256-8698-5a1f5b615523"
      },
      "execution_count": null,
      "outputs": [
        {
          "output_type": "stream",
          "name": "stdout",
          "text": [
            "cross validation score 0.7688721804511277\n"
          ]
        }
      ]
    },
    {
      "cell_type": "markdown",
      "source": [
        "After apllying 4 to 5 model, we can see the macro f1 score from each model."
      ],
      "metadata": {
        "id": "qirFA1XemLxr"
      }
    },
    {
      "cell_type": "code",
      "source": [
        ""
      ],
      "metadata": {
        "id": "-1v3OhjwmFmI"
      },
      "execution_count": null,
      "outputs": []
    },
    {
      "cell_type": "markdown",
      "source": [
        "**Hyper Parameter Tuning**"
      ],
      "metadata": {
        "id": "O_U4ndiQmbNs"
      }
    },
    {
      "cell_type": "code",
      "source": [
        "# since we got high accuracy in Random Forest and GaussianNB so here we are taking random Forest For Hyper Parameter Tuning\n",
        "from sklearn import datasets\n",
        "from sklearn.model_selection import GridSearchCV\n",
        "\n",
        "rf=RandomForestClassifier(max_depth=10,random_state=0)\n",
        "\n",
        "grid_param={'criterion':['gini','entropy']}\n",
        "           \n",
        "\n",
        "gd_sr=GridSearchCV(estimator=rf,\n",
        "                  param_grid=grid_param,\n",
        "                  scoring='accuracy',\n",
        "                  cv=5)\n",
        "\n",
        "gd_sr.fit(x,y)\n",
        "\n",
        "best_parameters =gd_sr.best_params_\n",
        "print(best_parameters)\n",
        "best_result=gd_sr.best_score_\n",
        "print(best_result)"
      ],
      "metadata": {
        "colab": {
          "base_uri": "https://localhost:8080/"
        },
        "id": "vLj97Kl3q1Fo",
        "outputId": "a95e14f8-fa2d-443d-971f-3ea34ca681fb"
      },
      "execution_count": null,
      "outputs": [
        {
          "output_type": "stream",
          "name": "stdout",
          "text": [
            "{'criterion': 'gini'}\n",
            "0.7678195488721805\n"
          ]
        }
      ]
    },
    {
      "cell_type": "code",
      "source": [
        "final_mod=RandomForestClassifier(criterion='entropy')\n",
        "final_mod.fit(x_train,y_train)\n",
        "predrf=final_mod.predict(x_test)\n",
        "print(accuracy_score(y_test,predrf))\n",
        "print(confusion_matrix(y_test,predrf))\n",
        "print(classification_report(y_test,predrf))"
      ],
      "metadata": {
        "colab": {
          "base_uri": "https://localhost:8080/"
        },
        "id": "oN6MaIIBw9uH",
        "outputId": "df26967c-11cc-42f1-8ea8-a76b9205ca72"
      },
      "execution_count": null,
      "outputs": [
        {
          "output_type": "stream",
          "name": "stdout",
          "text": [
            "0.7555944055944056\n",
            "[[2100  109]\n",
            " [ 590   61]]\n",
            "              precision    recall  f1-score   support\n",
            "\n",
            "         0.0       0.78      0.95      0.86      2209\n",
            "         1.0       0.36      0.09      0.15       651\n",
            "\n",
            "    accuracy                           0.76      2860\n",
            "   macro avg       0.57      0.52      0.50      2860\n",
            "weighted avg       0.68      0.76      0.70      2860\n",
            "\n"
          ]
        }
      ]
    },
    {
      "cell_type": "markdown",
      "source": [
        "After Hyper Parameter Tuning We got macro avg of 50%."
      ],
      "metadata": {
        "id": "ABNNZcBxx2GW"
      }
    },
    {
      "cell_type": "markdown",
      "source": [
        "**Saving the Model**"
      ],
      "metadata": {
        "id": "T0slTVdXx-1l"
      }
    },
    {
      "cell_type": "code",
      "source": [
        "submission=pd.read_csv(\"/content/sample_OoSmYo5.csv\")"
      ],
      "metadata": {
        "id": "vB6XI33f3jiA"
      },
      "execution_count": null,
      "outputs": []
    },
    {
      "cell_type": "code",
      "source": [
        "submission['Is_Churn']=predrf\n",
        "submission['ID']=test['ID']"
      ],
      "metadata": {
        "id": "3WuUfL2mxNsQ"
      },
      "execution_count": null,
      "outputs": []
    },
    {
      "cell_type": "code",
      "source": [
        "pd.DataFrame(submission, columns=['ID','Is_Churn']).to_csv('customer_churn.csv')"
      ],
      "metadata": {
        "id": "cUujDgZg0lue"
      },
      "execution_count": null,
      "outputs": []
    },
    {
      "cell_type": "code",
      "source": [
        "# result\n",
        "f=pd.read_csv('customer_churn.csv')\n",
        "f.head()"
      ],
      "metadata": {
        "colab": {
          "base_uri": "https://localhost:8080/",
          "height": 206
        },
        "id": "Roe73p840sHN",
        "outputId": "280bf8a2-a2c6-4cdf-d4a4-6c0b46edb1d9"
      },
      "execution_count": null,
      "outputs": [
        {
          "output_type": "execute_result",
          "data": {
            "text/html": [
              "\n",
              "  <div id=\"df-a22f6d21-2b91-47bc-a20d-c6722d909a0e\">\n",
              "    <div class=\"colab-df-container\">\n",
              "      <div>\n",
              "<style scoped>\n",
              "    .dataframe tbody tr th:only-of-type {\n",
              "        vertical-align: middle;\n",
              "    }\n",
              "\n",
              "    .dataframe tbody tr th {\n",
              "        vertical-align: top;\n",
              "    }\n",
              "\n",
              "    .dataframe thead th {\n",
              "        text-align: right;\n",
              "    }\n",
              "</style>\n",
              "<table border=\"1\" class=\"dataframe\">\n",
              "  <thead>\n",
              "    <tr style=\"text-align: right;\">\n",
              "      <th></th>\n",
              "      <th>Unnamed: 0</th>\n",
              "      <th>ID</th>\n",
              "      <th>Is_Churn</th>\n",
              "    </tr>\n",
              "  </thead>\n",
              "  <tbody>\n",
              "    <tr>\n",
              "      <th>0</th>\n",
              "      <td>0</td>\n",
              "      <td>55480787</td>\n",
              "      <td>0.0</td>\n",
              "    </tr>\n",
              "    <tr>\n",
              "      <th>1</th>\n",
              "      <td>1</td>\n",
              "      <td>9aededf2</td>\n",
              "      <td>0.0</td>\n",
              "    </tr>\n",
              "    <tr>\n",
              "      <th>2</th>\n",
              "      <td>2</td>\n",
              "      <td>a5034a09</td>\n",
              "      <td>0.0</td>\n",
              "    </tr>\n",
              "    <tr>\n",
              "      <th>3</th>\n",
              "      <td>3</td>\n",
              "      <td>b3256702</td>\n",
              "      <td>0.0</td>\n",
              "    </tr>\n",
              "    <tr>\n",
              "      <th>4</th>\n",
              "      <td>4</td>\n",
              "      <td>dc28adb5</td>\n",
              "      <td>1.0</td>\n",
              "    </tr>\n",
              "  </tbody>\n",
              "</table>\n",
              "</div>\n",
              "      <button class=\"colab-df-convert\" onclick=\"convertToInteractive('df-a22f6d21-2b91-47bc-a20d-c6722d909a0e')\"\n",
              "              title=\"Convert this dataframe to an interactive table.\"\n",
              "              style=\"display:none;\">\n",
              "        \n",
              "  <svg xmlns=\"http://www.w3.org/2000/svg\" height=\"24px\"viewBox=\"0 0 24 24\"\n",
              "       width=\"24px\">\n",
              "    <path d=\"M0 0h24v24H0V0z\" fill=\"none\"/>\n",
              "    <path d=\"M18.56 5.44l.94 2.06.94-2.06 2.06-.94-2.06-.94-.94-2.06-.94 2.06-2.06.94zm-11 1L8.5 8.5l.94-2.06 2.06-.94-2.06-.94L8.5 2.5l-.94 2.06-2.06.94zm10 10l.94 2.06.94-2.06 2.06-.94-2.06-.94-.94-2.06-.94 2.06-2.06.94z\"/><path d=\"M17.41 7.96l-1.37-1.37c-.4-.4-.92-.59-1.43-.59-.52 0-1.04.2-1.43.59L10.3 9.45l-7.72 7.72c-.78.78-.78 2.05 0 2.83L4 21.41c.39.39.9.59 1.41.59.51 0 1.02-.2 1.41-.59l7.78-7.78 2.81-2.81c.8-.78.8-2.07 0-2.86zM5.41 20L4 18.59l7.72-7.72 1.47 1.35L5.41 20z\"/>\n",
              "  </svg>\n",
              "      </button>\n",
              "      \n",
              "  <style>\n",
              "    .colab-df-container {\n",
              "      display:flex;\n",
              "      flex-wrap:wrap;\n",
              "      gap: 12px;\n",
              "    }\n",
              "\n",
              "    .colab-df-convert {\n",
              "      background-color: #E8F0FE;\n",
              "      border: none;\n",
              "      border-radius: 50%;\n",
              "      cursor: pointer;\n",
              "      display: none;\n",
              "      fill: #1967D2;\n",
              "      height: 32px;\n",
              "      padding: 0 0 0 0;\n",
              "      width: 32px;\n",
              "    }\n",
              "\n",
              "    .colab-df-convert:hover {\n",
              "      background-color: #E2EBFA;\n",
              "      box-shadow: 0px 1px 2px rgba(60, 64, 67, 0.3), 0px 1px 3px 1px rgba(60, 64, 67, 0.15);\n",
              "      fill: #174EA6;\n",
              "    }\n",
              "\n",
              "    [theme=dark] .colab-df-convert {\n",
              "      background-color: #3B4455;\n",
              "      fill: #D2E3FC;\n",
              "    }\n",
              "\n",
              "    [theme=dark] .colab-df-convert:hover {\n",
              "      background-color: #434B5C;\n",
              "      box-shadow: 0px 1px 3px 1px rgba(0, 0, 0, 0.15);\n",
              "      filter: drop-shadow(0px 1px 2px rgba(0, 0, 0, 0.3));\n",
              "      fill: #FFFFFF;\n",
              "    }\n",
              "  </style>\n",
              "\n",
              "      <script>\n",
              "        const buttonEl =\n",
              "          document.querySelector('#df-a22f6d21-2b91-47bc-a20d-c6722d909a0e button.colab-df-convert');\n",
              "        buttonEl.style.display =\n",
              "          google.colab.kernel.accessAllowed ? 'block' : 'none';\n",
              "\n",
              "        async function convertToInteractive(key) {\n",
              "          const element = document.querySelector('#df-a22f6d21-2b91-47bc-a20d-c6722d909a0e');\n",
              "          const dataTable =\n",
              "            await google.colab.kernel.invokeFunction('convertToInteractive',\n",
              "                                                     [key], {});\n",
              "          if (!dataTable) return;\n",
              "\n",
              "          const docLinkHtml = 'Like what you see? Visit the ' +\n",
              "            '<a target=\"_blank\" href=https://colab.research.google.com/notebooks/data_table.ipynb>data table notebook</a>'\n",
              "            + ' to learn more about interactive tables.';\n",
              "          element.innerHTML = '';\n",
              "          dataTable['output_type'] = 'display_data';\n",
              "          await google.colab.output.renderOutput(dataTable, element);\n",
              "          const docLink = document.createElement('div');\n",
              "          docLink.innerHTML = docLinkHtml;\n",
              "          element.appendChild(docLink);\n",
              "        }\n",
              "      </script>\n",
              "    </div>\n",
              "  </div>\n",
              "  "
            ],
            "text/plain": [
              "   Unnamed: 0        ID  Is_Churn\n",
              "0           0  55480787       0.0\n",
              "1           1  9aededf2       0.0\n",
              "2           2  a5034a09       0.0\n",
              "3           3  b3256702       0.0\n",
              "4           4  dc28adb5       1.0"
            ]
          },
          "metadata": {},
          "execution_count": 246
        }
      ]
    },
    {
      "cell_type": "code",
      "source": [
        ""
      ],
      "metadata": {
        "id": "xoQms8_s--Ag"
      },
      "execution_count": null,
      "outputs": []
    }
  ]
}