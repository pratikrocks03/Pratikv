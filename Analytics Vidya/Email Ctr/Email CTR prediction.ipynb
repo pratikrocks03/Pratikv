{
 "cells": [
  {
   "cell_type": "markdown",
   "id": "ca59faf0",
   "metadata": {},
   "source": [
    "# Importing Necessary Libraries"
   ]
  },
  {
   "cell_type": "code",
   "execution_count": 1,
   "id": "9019d058",
   "metadata": {},
   "outputs": [],
   "source": [
    "import pandas as pd\n",
    "import numpy as np\n",
    "import matplotlib.pyplot as plt\n",
    "import seaborn as sns\n",
    "import warnings\n",
    "warnings.filterwarnings('ignore')"
   ]
  },
  {
   "cell_type": "markdown",
   "id": "8fd37264",
   "metadata": {},
   "source": [
    "# Loading the Dataset"
   ]
  },
  {
   "cell_type": "code",
   "execution_count": 2,
   "id": "bcb4760c",
   "metadata": {},
   "outputs": [],
   "source": [
    "train=pd.read_csv('email_ctr_train.csv')\n",
    "test=pd.read_csv('email_ctr_test.csv')"
   ]
  },
  {
   "cell_type": "markdown",
   "id": "62665324",
   "metadata": {},
   "source": [
    "# Analysing the patterns from the datasets"
   ]
  },
  {
   "cell_type": "code",
   "execution_count": 3,
   "id": "91cabd2c",
   "metadata": {},
   "outputs": [
    {
     "name": "stdout",
     "output_type": "stream",
     "text": [
      "(1888, 22) train\n",
      "(762, 21) test\n"
     ]
    }
   ],
   "source": [
    "# Checking shape\n",
    "print(train.shape,'train')\n",
    "print(test.shape,'test')"
   ]
  },
  {
   "cell_type": "code",
   "execution_count": 4,
   "id": "1690f8c4",
   "metadata": {},
   "outputs": [],
   "source": [
    "# Adding both the datasets into a single dataframe for better analysis\n",
    "df=pd.concat([train,test])"
   ]
  },
  {
   "cell_type": "code",
   "execution_count": 5,
   "id": "5123e69d",
   "metadata": {},
   "outputs": [
    {
     "data": {
      "text/html": [
       "<div>\n",
       "<style scoped>\n",
       "    .dataframe tbody tr th:only-of-type {\n",
       "        vertical-align: middle;\n",
       "    }\n",
       "\n",
       "    .dataframe tbody tr th {\n",
       "        vertical-align: top;\n",
       "    }\n",
       "\n",
       "    .dataframe thead th {\n",
       "        text-align: right;\n",
       "    }\n",
       "</style>\n",
       "<table border=\"1\" class=\"dataframe\">\n",
       "  <thead>\n",
       "    <tr style=\"text-align: right;\">\n",
       "      <th></th>\n",
       "      <th>campaign_id</th>\n",
       "      <th>sender</th>\n",
       "      <th>subject_len</th>\n",
       "      <th>body_len</th>\n",
       "      <th>mean_paragraph_len</th>\n",
       "      <th>day_of_week</th>\n",
       "      <th>is_weekend</th>\n",
       "      <th>times_of_day</th>\n",
       "      <th>category</th>\n",
       "      <th>product</th>\n",
       "      <th>...</th>\n",
       "      <th>is_image</th>\n",
       "      <th>is_personalised</th>\n",
       "      <th>is_quote</th>\n",
       "      <th>is_timer</th>\n",
       "      <th>is_emoticons</th>\n",
       "      <th>is_discount</th>\n",
       "      <th>is_price</th>\n",
       "      <th>is_urgency</th>\n",
       "      <th>target_audience</th>\n",
       "      <th>click_rate</th>\n",
       "    </tr>\n",
       "  </thead>\n",
       "  <tbody>\n",
       "    <tr>\n",
       "      <th>0</th>\n",
       "      <td>1</td>\n",
       "      <td>3</td>\n",
       "      <td>76</td>\n",
       "      <td>10439</td>\n",
       "      <td>39</td>\n",
       "      <td>5</td>\n",
       "      <td>1</td>\n",
       "      <td>Noon</td>\n",
       "      <td>6</td>\n",
       "      <td>26</td>\n",
       "      <td>...</td>\n",
       "      <td>0</td>\n",
       "      <td>0</td>\n",
       "      <td>0</td>\n",
       "      <td>0</td>\n",
       "      <td>0</td>\n",
       "      <td>0</td>\n",
       "      <td>0</td>\n",
       "      <td>0</td>\n",
       "      <td>14</td>\n",
       "      <td>0.103079</td>\n",
       "    </tr>\n",
       "    <tr>\n",
       "      <th>1</th>\n",
       "      <td>2</td>\n",
       "      <td>3</td>\n",
       "      <td>54</td>\n",
       "      <td>2570</td>\n",
       "      <td>256</td>\n",
       "      <td>5</td>\n",
       "      <td>1</td>\n",
       "      <td>Morning</td>\n",
       "      <td>2</td>\n",
       "      <td>11</td>\n",
       "      <td>...</td>\n",
       "      <td>0</td>\n",
       "      <td>0</td>\n",
       "      <td>0</td>\n",
       "      <td>0</td>\n",
       "      <td>0</td>\n",
       "      <td>0</td>\n",
       "      <td>0</td>\n",
       "      <td>0</td>\n",
       "      <td>10</td>\n",
       "      <td>0.700000</td>\n",
       "    </tr>\n",
       "    <tr>\n",
       "      <th>2</th>\n",
       "      <td>3</td>\n",
       "      <td>3</td>\n",
       "      <td>59</td>\n",
       "      <td>12801</td>\n",
       "      <td>16</td>\n",
       "      <td>5</td>\n",
       "      <td>1</td>\n",
       "      <td>Noon</td>\n",
       "      <td>2</td>\n",
       "      <td>11</td>\n",
       "      <td>...</td>\n",
       "      <td>1</td>\n",
       "      <td>0</td>\n",
       "      <td>1</td>\n",
       "      <td>0</td>\n",
       "      <td>0</td>\n",
       "      <td>0</td>\n",
       "      <td>0</td>\n",
       "      <td>0</td>\n",
       "      <td>16</td>\n",
       "      <td>0.002769</td>\n",
       "    </tr>\n",
       "    <tr>\n",
       "      <th>3</th>\n",
       "      <td>4</td>\n",
       "      <td>3</td>\n",
       "      <td>74</td>\n",
       "      <td>11037</td>\n",
       "      <td>30</td>\n",
       "      <td>4</td>\n",
       "      <td>0</td>\n",
       "      <td>Evening</td>\n",
       "      <td>15</td>\n",
       "      <td>9</td>\n",
       "      <td>...</td>\n",
       "      <td>0</td>\n",
       "      <td>0</td>\n",
       "      <td>0</td>\n",
       "      <td>0</td>\n",
       "      <td>0</td>\n",
       "      <td>0</td>\n",
       "      <td>0</td>\n",
       "      <td>0</td>\n",
       "      <td>10</td>\n",
       "      <td>0.010868</td>\n",
       "    </tr>\n",
       "    <tr>\n",
       "      <th>4</th>\n",
       "      <td>5</td>\n",
       "      <td>3</td>\n",
       "      <td>80</td>\n",
       "      <td>10011</td>\n",
       "      <td>27</td>\n",
       "      <td>5</td>\n",
       "      <td>1</td>\n",
       "      <td>Noon</td>\n",
       "      <td>6</td>\n",
       "      <td>26</td>\n",
       "      <td>...</td>\n",
       "      <td>0</td>\n",
       "      <td>0</td>\n",
       "      <td>1</td>\n",
       "      <td>0</td>\n",
       "      <td>0</td>\n",
       "      <td>0</td>\n",
       "      <td>0</td>\n",
       "      <td>0</td>\n",
       "      <td>14</td>\n",
       "      <td>0.142826</td>\n",
       "    </tr>\n",
       "  </tbody>\n",
       "</table>\n",
       "<p>5 rows × 22 columns</p>\n",
       "</div>"
      ],
      "text/plain": [
       "   campaign_id  sender  subject_len  body_len  mean_paragraph_len  \\\n",
       "0            1       3           76     10439                  39   \n",
       "1            2       3           54      2570                 256   \n",
       "2            3       3           59     12801                  16   \n",
       "3            4       3           74     11037                  30   \n",
       "4            5       3           80     10011                  27   \n",
       "\n",
       "   day_of_week  is_weekend times_of_day  category  product  ...  is_image  \\\n",
       "0            5           1         Noon         6       26  ...         0   \n",
       "1            5           1      Morning         2       11  ...         0   \n",
       "2            5           1         Noon         2       11  ...         1   \n",
       "3            4           0      Evening        15        9  ...         0   \n",
       "4            5           1         Noon         6       26  ...         0   \n",
       "\n",
       "   is_personalised  is_quote  is_timer  is_emoticons  is_discount  is_price  \\\n",
       "0                0         0         0             0            0         0   \n",
       "1                0         0         0             0            0         0   \n",
       "2                0         1         0             0            0         0   \n",
       "3                0         0         0             0            0         0   \n",
       "4                0         1         0             0            0         0   \n",
       "\n",
       "   is_urgency  target_audience  click_rate  \n",
       "0           0               14    0.103079  \n",
       "1           0               10    0.700000  \n",
       "2           0               16    0.002769  \n",
       "3           0               10    0.010868  \n",
       "4           0               14    0.142826  \n",
       "\n",
       "[5 rows x 22 columns]"
      ]
     },
     "execution_count": 5,
     "metadata": {},
     "output_type": "execute_result"
    }
   ],
   "source": [
    "df.head()"
   ]
  },
  {
   "cell_type": "markdown",
   "id": "9da44a01",
   "metadata": {},
   "source": [
    "Top 5 rows of the dataset."
   ]
  },
  {
   "cell_type": "code",
   "execution_count": 6,
   "id": "2b48cb14",
   "metadata": {},
   "outputs": [
    {
     "data": {
      "text/html": [
       "<div>\n",
       "<style scoped>\n",
       "    .dataframe tbody tr th:only-of-type {\n",
       "        vertical-align: middle;\n",
       "    }\n",
       "\n",
       "    .dataframe tbody tr th {\n",
       "        vertical-align: top;\n",
       "    }\n",
       "\n",
       "    .dataframe thead th {\n",
       "        text-align: right;\n",
       "    }\n",
       "</style>\n",
       "<table border=\"1\" class=\"dataframe\">\n",
       "  <thead>\n",
       "    <tr style=\"text-align: right;\">\n",
       "      <th></th>\n",
       "      <th>campaign_id</th>\n",
       "      <th>sender</th>\n",
       "      <th>subject_len</th>\n",
       "      <th>body_len</th>\n",
       "      <th>mean_paragraph_len</th>\n",
       "      <th>day_of_week</th>\n",
       "      <th>is_weekend</th>\n",
       "      <th>times_of_day</th>\n",
       "      <th>category</th>\n",
       "      <th>product</th>\n",
       "      <th>...</th>\n",
       "      <th>is_image</th>\n",
       "      <th>is_personalised</th>\n",
       "      <th>is_quote</th>\n",
       "      <th>is_timer</th>\n",
       "      <th>is_emoticons</th>\n",
       "      <th>is_discount</th>\n",
       "      <th>is_price</th>\n",
       "      <th>is_urgency</th>\n",
       "      <th>target_audience</th>\n",
       "      <th>click_rate</th>\n",
       "    </tr>\n",
       "  </thead>\n",
       "  <tbody>\n",
       "    <tr>\n",
       "      <th>757</th>\n",
       "      <td>2646</td>\n",
       "      <td>3</td>\n",
       "      <td>72</td>\n",
       "      <td>9081</td>\n",
       "      <td>46</td>\n",
       "      <td>0</td>\n",
       "      <td>0</td>\n",
       "      <td>Evening</td>\n",
       "      <td>15</td>\n",
       "      <td>9</td>\n",
       "      <td>...</td>\n",
       "      <td>0</td>\n",
       "      <td>0</td>\n",
       "      <td>0</td>\n",
       "      <td>0</td>\n",
       "      <td>0</td>\n",
       "      <td>0</td>\n",
       "      <td>0</td>\n",
       "      <td>0</td>\n",
       "      <td>7</td>\n",
       "      <td>NaN</td>\n",
       "    </tr>\n",
       "    <tr>\n",
       "      <th>758</th>\n",
       "      <td>2647</td>\n",
       "      <td>3</td>\n",
       "      <td>58</td>\n",
       "      <td>10537</td>\n",
       "      <td>40</td>\n",
       "      <td>3</td>\n",
       "      <td>0</td>\n",
       "      <td>Evening</td>\n",
       "      <td>2</td>\n",
       "      <td>11</td>\n",
       "      <td>...</td>\n",
       "      <td>0</td>\n",
       "      <td>0</td>\n",
       "      <td>0</td>\n",
       "      <td>0</td>\n",
       "      <td>0</td>\n",
       "      <td>0</td>\n",
       "      <td>0</td>\n",
       "      <td>0</td>\n",
       "      <td>16</td>\n",
       "      <td>NaN</td>\n",
       "    </tr>\n",
       "    <tr>\n",
       "      <th>759</th>\n",
       "      <td>2648</td>\n",
       "      <td>3</td>\n",
       "      <td>100</td>\n",
       "      <td>9132</td>\n",
       "      <td>19</td>\n",
       "      <td>2</td>\n",
       "      <td>0</td>\n",
       "      <td>Evening</td>\n",
       "      <td>15</td>\n",
       "      <td>9</td>\n",
       "      <td>...</td>\n",
       "      <td>0</td>\n",
       "      <td>0</td>\n",
       "      <td>0</td>\n",
       "      <td>0</td>\n",
       "      <td>0</td>\n",
       "      <td>0</td>\n",
       "      <td>0</td>\n",
       "      <td>0</td>\n",
       "      <td>15</td>\n",
       "      <td>NaN</td>\n",
       "    </tr>\n",
       "    <tr>\n",
       "      <th>760</th>\n",
       "      <td>2649</td>\n",
       "      <td>3</td>\n",
       "      <td>88</td>\n",
       "      <td>1451</td>\n",
       "      <td>75</td>\n",
       "      <td>1</td>\n",
       "      <td>0</td>\n",
       "      <td>Noon</td>\n",
       "      <td>2</td>\n",
       "      <td>11</td>\n",
       "      <td>...</td>\n",
       "      <td>0</td>\n",
       "      <td>0</td>\n",
       "      <td>1</td>\n",
       "      <td>0</td>\n",
       "      <td>0</td>\n",
       "      <td>0</td>\n",
       "      <td>0</td>\n",
       "      <td>0</td>\n",
       "      <td>10</td>\n",
       "      <td>NaN</td>\n",
       "    </tr>\n",
       "    <tr>\n",
       "      <th>761</th>\n",
       "      <td>2650</td>\n",
       "      <td>3</td>\n",
       "      <td>58</td>\n",
       "      <td>10537</td>\n",
       "      <td>40</td>\n",
       "      <td>0</td>\n",
       "      <td>0</td>\n",
       "      <td>Evening</td>\n",
       "      <td>2</td>\n",
       "      <td>11</td>\n",
       "      <td>...</td>\n",
       "      <td>0</td>\n",
       "      <td>0</td>\n",
       "      <td>0</td>\n",
       "      <td>0</td>\n",
       "      <td>0</td>\n",
       "      <td>0</td>\n",
       "      <td>0</td>\n",
       "      <td>0</td>\n",
       "      <td>1</td>\n",
       "      <td>NaN</td>\n",
       "    </tr>\n",
       "  </tbody>\n",
       "</table>\n",
       "<p>5 rows × 22 columns</p>\n",
       "</div>"
      ],
      "text/plain": [
       "     campaign_id  sender  subject_len  body_len  mean_paragraph_len  \\\n",
       "757         2646       3           72      9081                  46   \n",
       "758         2647       3           58     10537                  40   \n",
       "759         2648       3          100      9132                  19   \n",
       "760         2649       3           88      1451                  75   \n",
       "761         2650       3           58     10537                  40   \n",
       "\n",
       "     day_of_week  is_weekend times_of_day  category  product  ...  is_image  \\\n",
       "757            0           0      Evening        15        9  ...         0   \n",
       "758            3           0      Evening         2       11  ...         0   \n",
       "759            2           0      Evening        15        9  ...         0   \n",
       "760            1           0         Noon         2       11  ...         0   \n",
       "761            0           0      Evening         2       11  ...         0   \n",
       "\n",
       "     is_personalised  is_quote  is_timer  is_emoticons  is_discount  is_price  \\\n",
       "757                0         0         0             0            0         0   \n",
       "758                0         0         0             0            0         0   \n",
       "759                0         0         0             0            0         0   \n",
       "760                0         1         0             0            0         0   \n",
       "761                0         0         0             0            0         0   \n",
       "\n",
       "     is_urgency  target_audience  click_rate  \n",
       "757           0                7         NaN  \n",
       "758           0               16         NaN  \n",
       "759           0               15         NaN  \n",
       "760           0               10         NaN  \n",
       "761           0                1         NaN  \n",
       "\n",
       "[5 rows x 22 columns]"
      ]
     },
     "execution_count": 6,
     "metadata": {},
     "output_type": "execute_result"
    }
   ],
   "source": [
    "df.tail()"
   ]
  },
  {
   "cell_type": "markdown",
   "id": "3e74ae83",
   "metadata": {},
   "source": [
    "Bottom 5 row of the dataset."
   ]
  },
  {
   "cell_type": "code",
   "execution_count": 7,
   "id": "31d464d7",
   "metadata": {},
   "outputs": [
    {
     "data": {
      "text/plain": [
       "campaign_id             0\n",
       "sender                  0\n",
       "subject_len             0\n",
       "body_len                0\n",
       "mean_paragraph_len      0\n",
       "day_of_week             0\n",
       "is_weekend              0\n",
       "times_of_day            0\n",
       "category                0\n",
       "product                 0\n",
       "no_of_CTA               0\n",
       "mean_CTA_len            0\n",
       "is_image                0\n",
       "is_personalised         0\n",
       "is_quote                0\n",
       "is_timer                0\n",
       "is_emoticons            0\n",
       "is_discount             0\n",
       "is_price                0\n",
       "is_urgency              0\n",
       "target_audience         0\n",
       "click_rate            762\n",
       "dtype: int64"
      ]
     },
     "execution_count": 7,
     "metadata": {},
     "output_type": "execute_result"
    }
   ],
   "source": [
    "# Checking Null values\n",
    "df.isnull().sum()"
   ]
  },
  {
   "cell_type": "markdown",
   "id": "b3642534",
   "metadata": {},
   "source": [
    "So we have 762 null values because of concatination."
   ]
  },
  {
   "cell_type": "code",
   "execution_count": 8,
   "id": "0f30132b",
   "metadata": {},
   "outputs": [],
   "source": [
    "# Dropping Null values\n",
    "df.dropna(axis=0,inplace=True)"
   ]
  },
  {
   "cell_type": "code",
   "execution_count": 9,
   "id": "cee77b3e",
   "metadata": {},
   "outputs": [],
   "source": [
    "del df['campaign_id']"
   ]
  },
  {
   "cell_type": "code",
   "execution_count": null,
   "id": "74f45411",
   "metadata": {},
   "outputs": [],
   "source": []
  },
  {
   "cell_type": "markdown",
   "id": "b2cc4de1",
   "metadata": {},
   "source": [
    "# EDA Nominal Data"
   ]
  },
  {
   "cell_type": "code",
   "execution_count": 10,
   "id": "36fab300",
   "metadata": {},
   "outputs": [
    {
     "data": {
      "text/plain": [
       "Index(['sender', 'subject_len', 'body_len', 'mean_paragraph_len',\n",
       "       'day_of_week', 'is_weekend', 'times_of_day', 'category', 'product',\n",
       "       'no_of_CTA', 'mean_CTA_len', 'is_image', 'is_personalised', 'is_quote',\n",
       "       'is_timer', 'is_emoticons', 'is_discount', 'is_price', 'is_urgency',\n",
       "       'target_audience', 'click_rate'],\n",
       "      dtype='object')"
      ]
     },
     "execution_count": 10,
     "metadata": {},
     "output_type": "execute_result"
    }
   ],
   "source": [
    "df.columns"
   ]
  },
  {
   "cell_type": "code",
   "execution_count": 11,
   "id": "aeb23ce7",
   "metadata": {},
   "outputs": [
    {
     "name": "stdout",
     "output_type": "stream",
     "text": [
      "3     1559\n",
      "10     181\n",
      "15      89\n",
      "6       22\n",
      "9       13\n",
      "14       7\n",
      "11       7\n",
      "0        3\n",
      "12       3\n",
      "7        2\n",
      "2        1\n",
      "1        1\n",
      "Name: sender, dtype: int64\n"
     ]
    },
    {
     "data": {
      "image/png": "[encoded data removed]",
      "text/plain": [
       "<Figure size 432x288 with 1 Axes>"
      ]
     },
     "metadata": {
      "needs_background": "light"
     },
     "output_type": "display_data"
    }
   ],
   "source": [
    "# sender\n",
    "ax=sns.countplot(x='sender',data=df)\n",
    "print(df['sender'].value_counts())"
   ]
  },
  {
   "cell_type": "code",
   "execution_count": null,
   "id": "0df92071",
   "metadata": {},
   "outputs": [],
   "source": []
  },
  {
   "cell_type": "code",
   "execution_count": 12,
   "id": "88ef2af9",
   "metadata": {},
   "outputs": [
    {
     "name": "stdout",
     "output_type": "stream",
     "text": [
      "3    346\n",
      "2    333\n",
      "4    329\n",
      "1    295\n",
      "5    237\n",
      "0    208\n",
      "6    140\n",
      "Name: day_of_week, dtype: int64\n"
     ]
    },
    {
     "data": {
      "image/png": "[encoded data removed]",
      "text/plain": [
       "<Figure size 432x288 with 1 Axes>"
      ]
     },
     "metadata": {
      "needs_background": "light"
     },
     "output_type": "display_data"
    }
   ],
   "source": [
    "# day_of_week\n",
    "ax=sns.countplot(x='day_of_week',data=df)\n",
    "print(df['day_of_week'].value_counts())"
   ]
  },
  {
   "cell_type": "markdown",
   "id": "efaabec9",
   "metadata": {},
   "source": [
    "There is not much difference between the day_of_week(Day on which email is sent)."
   ]
  },
  {
   "cell_type": "code",
   "execution_count": null,
   "id": "07639d02",
   "metadata": {},
   "outputs": [],
   "source": []
  },
  {
   "cell_type": "code",
   "execution_count": 13,
   "id": "aad8bbd7",
   "metadata": {},
   "outputs": [
    {
     "name": "stdout",
     "output_type": "stream",
     "text": [
      "0    1511\n",
      "1     377\n",
      "Name: is_weekend, dtype: int64\n"
     ]
    },
    {
     "data": {
      "image/png": "[encoded data removed]",
      "text/plain": [
       "<Figure size 432x288 with 1 Axes>"
      ]
     },
     "metadata": {
      "needs_background": "light"
     },
     "output_type": "display_data"
    }
   ],
   "source": [
    "# is_weekend\n",
    "ax=sns.countplot(x='is_weekend',data=df)\n",
    "print(df['is_weekend'].value_counts())"
   ]
  },
  {
   "cell_type": "markdown",
   "id": "75aadace",
   "metadata": {},
   "source": [
    "There is difference between 0 and 1 in is_weekend(Boolean flag indicating if an email is sent on weekend or not) column."
   ]
  },
  {
   "cell_type": "code",
   "execution_count": null,
   "id": "b67de216",
   "metadata": {},
   "outputs": [],
   "source": []
  },
  {
   "cell_type": "code",
   "execution_count": 14,
   "id": "1dc043e1",
   "metadata": {},
   "outputs": [
    {
     "name": "stdout",
     "output_type": "stream",
     "text": [
      "Evening    1317\n",
      "Noon        447\n",
      "Morning     124\n",
      "Name: times_of_day, dtype: int64\n"
     ]
    },
    {
     "data": {
      "image/png": "[encoded data removed]",
      "text/plain": [
       "<Figure size 432x288 with 1 Axes>"
      ]
     },
     "metadata": {
      "needs_background": "light"
     },
     "output_type": "display_data"
    }
   ],
   "source": [
    "# times_of_day\n",
    "ax=sns.countplot(x='times_of_day',data=df)\n",
    "print(df['times_of_day'].value_counts())"
   ]
  },
  {
   "cell_type": "markdown",
   "id": "38251683",
   "metadata": {},
   "source": [
    "Emails in Evening is more."
   ]
  },
  {
   "cell_type": "code",
   "execution_count": null,
   "id": "e6ca8fb9",
   "metadata": {},
   "outputs": [],
   "source": []
  },
  {
   "cell_type": "code",
   "execution_count": 15,
   "id": "b41cb090",
   "metadata": {},
   "outputs": [
    {
     "name": "stdout",
     "output_type": "stream",
     "text": [
      "0    716\n",
      "1    685\n",
      "2    442\n",
      "3     39\n",
      "6      4\n",
      "4      2\n",
      "Name: is_image, dtype: int64\n"
     ]
    },
    {
     "data": {
      "image/png": "[encoded data removed]",
      "text/plain": [
       "<Figure size 432x288 with 1 Axes>"
      ]
     },
     "metadata": {
      "needs_background": "light"
     },
     "output_type": "display_data"
    }
   ],
   "source": [
    "# is_image\n",
    "ax=sns.countplot(x='is_image',data=df)\n",
    "print(df['is_image'].value_counts())"
   ]
  },
  {
   "cell_type": "markdown",
   "id": "32087699",
   "metadata": {},
   "source": [
    "There is not much difference between 0 and 1 in is_image(Boolean flag indicating if an email contains an image or not) column."
   ]
  },
  {
   "cell_type": "code",
   "execution_count": null,
   "id": "f43d10b7",
   "metadata": {},
   "outputs": [],
   "source": []
  },
  {
   "cell_type": "code",
   "execution_count": 16,
   "id": "7e010e2d",
   "metadata": {},
   "outputs": [
    {
     "name": "stdout",
     "output_type": "stream",
     "text": [
      "0    1781\n",
      "1     107\n",
      "Name: is_personalised, dtype: int64\n"
     ]
    },
    {
     "data": {
      "image/png": "[encoded data removed]",
      "text/plain": [
       "<Figure size 432x288 with 1 Axes>"
      ]
     },
     "metadata": {
      "needs_background": "light"
     },
     "output_type": "display_data"
    }
   ],
   "source": [
    "# is_personalised\n",
    "ax=sns.countplot(x='is_personalised',data=df)\n",
    "print(df['is_personalised'].value_counts())"
   ]
  },
  {
   "cell_type": "markdown",
   "id": "ca0ec72c",
   "metadata": {},
   "source": [
    "In is_personalised(Boolean flag indicating if an email is personalized to the user or not) column there is huge difference between 0 and 1."
   ]
  },
  {
   "cell_type": "code",
   "execution_count": null,
   "id": "3f9f5de4",
   "metadata": {},
   "outputs": [],
   "source": []
  },
  {
   "cell_type": "code",
   "execution_count": 17,
   "id": "63ad3dd1",
   "metadata": {},
   "outputs": [
    {
     "name": "stdout",
     "output_type": "stream",
     "text": [
      "0    885\n",
      "1    638\n",
      "2    227\n",
      "3     93\n",
      "4     27\n",
      "5     12\n",
      "6      6\n",
      "Name: is_quote, dtype: int64\n"
     ]
    },
    {
     "data": {
      "image/png": "[encoded data removed]",
      "text/plain": [
       "<Figure size 432x288 with 1 Axes>"
      ]
     },
     "metadata": {
      "needs_background": "light"
     },
     "output_type": "display_data"
    }
   ],
   "source": [
    "# is_quote\n",
    "ax=sns.countplot(x='is_quote',data=df)\n",
    "print(df['is_quote'].value_counts())"
   ]
  },
  {
   "cell_type": "markdown",
   "id": "9c4b6de5",
   "metadata": {},
   "source": [
    "In is_quote(Boolean flag indicating if an email contains a quote or not) there is difference."
   ]
  },
  {
   "cell_type": "code",
   "execution_count": null,
   "id": "f3d1e54e",
   "metadata": {},
   "outputs": [],
   "source": []
  },
  {
   "cell_type": "code",
   "execution_count": 18,
   "id": "e498a485",
   "metadata": {},
   "outputs": [
    {
     "name": "stdout",
     "output_type": "stream",
     "text": [
      "0    1888\n",
      "Name: is_timer, dtype: int64\n"
     ]
    },
    {
     "data": {
      "image/png": "[encoded data removed]",
      "text/plain": [
       "<Figure size 432x288 with 1 Axes>"
      ]
     },
     "metadata": {
      "needs_background": "light"
     },
     "output_type": "display_data"
    }
   ],
   "source": [
    "# is_timer\n",
    "ax=sns.countplot(x='is_timer',data=df)\n",
    "print(df['is_timer'].value_counts())"
   ]
  },
  {
   "cell_type": "markdown",
   "id": "cebfeab9",
   "metadata": {},
   "source": [
    "There is nothing in is_timer(Boolean flag indicating if an email contains a timer or not) column only a single bar with 1888 values."
   ]
  },
  {
   "cell_type": "code",
   "execution_count": null,
   "id": "dcd20038",
   "metadata": {},
   "outputs": [],
   "source": []
  },
  {
   "cell_type": "code",
   "execution_count": 19,
   "id": "9d4fb172",
   "metadata": {},
   "outputs": [
    {
     "name": "stdout",
     "output_type": "stream",
     "text": [
      "0    1626\n",
      "1     172\n",
      "2      54\n",
      "3      30\n",
      "4       4\n",
      "6       2\n",
      "Name: is_emoticons, dtype: int64\n"
     ]
    },
    {
     "data": {
      "image/png": "[encoded data removed]",
      "text/plain": [
       "<Figure size 432x288 with 1 Axes>"
      ]
     },
     "metadata": {
      "needs_background": "light"
     },
     "output_type": "display_data"
    }
   ],
   "source": [
    "# is_emoticons\n",
    "ax=sns.countplot(x='is_emoticons',data=df)\n",
    "print(df['is_emoticons'].value_counts())"
   ]
  },
  {
   "cell_type": "markdown",
   "id": "478156df",
   "metadata": {},
   "source": [
    "Most number of counts are from 0 in is_emoticons(Boolean flag indicating if an email contains emoticons or not) column, other than that all are very less."
   ]
  },
  {
   "cell_type": "code",
   "execution_count": null,
   "id": "f93a55d5",
   "metadata": {},
   "outputs": [],
   "source": []
  },
  {
   "cell_type": "code",
   "execution_count": 20,
   "id": "7df7c941",
   "metadata": {},
   "outputs": [
    {
     "name": "stdout",
     "output_type": "stream",
     "text": [
      "0    1813\n",
      "1      75\n",
      "Name: is_discount, dtype: int64\n"
     ]
    },
    {
     "data": {
      "image/png": "[encoded data removed]",
      "text/plain": [
       "<Figure size 432x288 with 1 Axes>"
      ]
     },
     "metadata": {
      "needs_background": "light"
     },
     "output_type": "display_data"
    }
   ],
   "source": [
    "# is_discount\n",
    "ax=sns.countplot(x='is_discount',data=df)\n",
    "print(df['is_discount'].value_counts())"
   ]
  },
  {
   "cell_type": "markdown",
   "id": "2b632452",
   "metadata": {},
   "source": [
    "There is very huge difference between 0 and 1 in is_discount(Boolean flag indicating if an email contains a discount or not) column."
   ]
  },
  {
   "cell_type": "code",
   "execution_count": null,
   "id": "4850d1ca",
   "metadata": {},
   "outputs": [],
   "source": []
  },
  {
   "cell_type": "code",
   "execution_count": 21,
   "id": "b5012ad6",
   "metadata": {},
   "outputs": [
    {
     "name": "stdout",
     "output_type": "stream",
     "text": [
      "0        1875\n",
      "5499        5\n",
      "8000        2\n",
      "5000        2\n",
      "4999        1\n",
      "1399        1\n",
      "1000        1\n",
      "14999       1\n",
      "Name: is_price, dtype: int64\n"
     ]
    },
    {
     "data": {
      "image/png": "[encoded data removed]",
      "text/plain": [
       "<Figure size 432x288 with 1 Axes>"
      ]
     },
     "metadata": {
      "needs_background": "light"
     },
     "output_type": "display_data"
    }
   ],
   "source": [
    "# is_price\n",
    "ax=sns.countplot(x='is_price',data=df)\n",
    "print(df['is_price'].value_counts())"
   ]
  },
  {
   "cell_type": "markdown",
   "id": "1a0a4548",
   "metadata": {},
   "source": [
    "0 is showing most number of counts that is 1875 and other than that all are very less in is_price(\t\n",
    "Boolean flag indicating if an email contains price or not) column."
   ]
  },
  {
   "cell_type": "code",
   "execution_count": null,
   "id": "a0c16ff8",
   "metadata": {},
   "outputs": [],
   "source": []
  },
  {
   "cell_type": "code",
   "execution_count": 22,
   "id": "2d751097",
   "metadata": {},
   "outputs": [
    {
     "name": "stdout",
     "output_type": "stream",
     "text": [
      "0    1676\n",
      "1     212\n",
      "Name: is_urgency, dtype: int64\n"
     ]
    },
    {
     "data": {
      "image/png": "[encoded data removed]",
      "text/plain": [
       "<Figure size 432x288 with 1 Axes>"
      ]
     },
     "metadata": {
      "needs_background": "light"
     },
     "output_type": "display_data"
    }
   ],
   "source": [
    "# is_urgency\n",
    "ax=sns.countplot(x='is_urgency',data=df)\n",
    "print(df['is_urgency'].value_counts())"
   ]
  },
  {
   "cell_type": "markdown",
   "id": "55634584",
   "metadata": {},
   "source": [
    "There is very huge differnce in is_urgency(Boolean flag indicating if an email contains urgency or not) column."
   ]
  },
  {
   "cell_type": "code",
   "execution_count": null,
   "id": "31b60bc1",
   "metadata": {},
   "outputs": [],
   "source": []
  },
  {
   "cell_type": "markdown",
   "id": "51266ba4",
   "metadata": {},
   "source": [
    "# EDA Distributed Data"
   ]
  },
  {
   "cell_type": "code",
   "execution_count": 23,
   "id": "629eb00c",
   "metadata": {},
   "outputs": [
    {
     "data": {
      "text/plain": [
       "<AxesSubplot:xlabel='subject_len', ylabel='Density'>"
      ]
     },
     "execution_count": 23,
     "metadata": {},
     "output_type": "execute_result"
    },
    {
     "data": {
      "image/png": "[encoded data removed]",
      "text/plain": [
       "<Figure size 432x288 with 1 Axes>"
      ]
     },
     "metadata": {
      "needs_background": "light"
     },
     "output_type": "display_data"
    }
   ],
   "source": [
    "# subject_len\n",
    "sns.distplot(df['subject_len'])"
   ]
  },
  {
   "cell_type": "markdown",
   "id": "b9801f88",
   "metadata": {},
   "source": [
    "subject_len are in range from 0 approx 240 with most number of values in between 50 to 150."
   ]
  },
  {
   "cell_type": "code",
   "execution_count": null,
   "id": "04c4f120",
   "metadata": {},
   "outputs": [],
   "source": []
  },
  {
   "cell_type": "code",
   "execution_count": 24,
   "id": "9b603bf8",
   "metadata": {},
   "outputs": [
    {
     "data": {
      "text/plain": [
       "<AxesSubplot:xlabel='body_len', ylabel='Density'>"
      ]
     },
     "execution_count": 24,
     "metadata": {},
     "output_type": "execute_result"
    },
    {
     "data": {
      "image/png": "[encoded data removed]",
      "text/plain": [
       "<Figure size 432x288 with 1 Axes>"
      ]
     },
     "metadata": {
      "needs_background": "light"
     },
     "output_type": "display_data"
    }
   ],
   "source": [
    "# body_len\n",
    "sns.distplot(df['body_len'])"
   ]
  },
  {
   "cell_type": "markdown",
   "id": "c158056a",
   "metadata": {},
   "source": [
    "body_len are in between 0 to approx 45000 with most number of values in between 0 to 30000 approx."
   ]
  },
  {
   "cell_type": "code",
   "execution_count": null,
   "id": "1d778e5e",
   "metadata": {},
   "outputs": [],
   "source": []
  },
  {
   "cell_type": "code",
   "execution_count": 25,
   "id": "43597fdc",
   "metadata": {},
   "outputs": [
    {
     "data": {
      "text/plain": [
       "<AxesSubplot:xlabel='mean_paragraph_len', ylabel='Density'>"
      ]
     },
     "execution_count": 25,
     "metadata": {},
     "output_type": "execute_result"
    },
    {
     "data": {
      "image/png": "[encoded data removed]",
      "text/plain": [
       "<Figure size 432x288 with 1 Axes>"
      ]
     },
     "metadata": {
      "needs_background": "light"
     },
     "output_type": "display_data"
    }
   ],
   "source": [
    "# mean_paragraph_len\n",
    "sns.distplot(df['mean_paragraph_len'])"
   ]
  },
  {
   "cell_type": "markdown",
   "id": "53fd4871",
   "metadata": {},
   "source": [
    "mean_paragraph_len are in range from 0 to 125 approx."
   ]
  },
  {
   "cell_type": "code",
   "execution_count": null,
   "id": "198d81f9",
   "metadata": {},
   "outputs": [],
   "source": []
  },
  {
   "cell_type": "code",
   "execution_count": 26,
   "id": "38557f30",
   "metadata": {},
   "outputs": [
    {
     "data": {
      "text/plain": [
       "<AxesSubplot:xlabel='mean_CTA_len', ylabel='Density'>"
      ]
     },
     "execution_count": 26,
     "metadata": {},
     "output_type": "execute_result"
    },
    {
     "data": {
      "image/png": "[encoded data removed]",
      "text/plain": [
       "<Figure size 432x288 with 1 Axes>"
      ]
     },
     "metadata": {
      "needs_background": "light"
     },
     "output_type": "display_data"
    }
   ],
   "source": [
    "# mean_CTA_len\n",
    "sns.distplot(df['mean_CTA_len'])"
   ]
  },
  {
   "cell_type": "markdown",
   "id": "a17a84ed",
   "metadata": {},
   "source": [
    "mean_CTA_len are in between 0 to approx 75."
   ]
  },
  {
   "cell_type": "code",
   "execution_count": null,
   "id": "dcccf69a",
   "metadata": {},
   "outputs": [],
   "source": []
  },
  {
   "cell_type": "markdown",
   "id": "ab1df26b",
   "metadata": {},
   "source": [
    "# Encoding object column"
   ]
  },
  {
   "cell_type": "code",
   "execution_count": 27,
   "id": "40577b57",
   "metadata": {},
   "outputs": [],
   "source": [
    "from sklearn.preprocessing import OrdinalEncoder\n",
    "enc =OrdinalEncoder()\n",
    "\n",
    "for i in df.columns:\n",
    "    if df[i].dtypes=='object':\n",
    "        df[i]=enc.fit_transform(df[i].values.reshape(-1,1))"
   ]
  },
  {
   "cell_type": "code",
   "execution_count": 28,
   "id": "a220df4b",
   "metadata": {},
   "outputs": [
    {
     "data": {
      "text/html": [
       "<div>\n",
       "<style scoped>\n",
       "    .dataframe tbody tr th:only-of-type {\n",
       "        vertical-align: middle;\n",
       "    }\n",
       "\n",
       "    .dataframe tbody tr th {\n",
       "        vertical-align: top;\n",
       "    }\n",
       "\n",
       "    .dataframe thead th {\n",
       "        text-align: right;\n",
       "    }\n",
       "</style>\n",
       "<table border=\"1\" class=\"dataframe\">\n",
       "  <thead>\n",
       "    <tr style=\"text-align: right;\">\n",
       "      <th></th>\n",
       "      <th>sender</th>\n",
       "      <th>subject_len</th>\n",
       "      <th>body_len</th>\n",
       "      <th>mean_paragraph_len</th>\n",
       "      <th>day_of_week</th>\n",
       "      <th>is_weekend</th>\n",
       "      <th>times_of_day</th>\n",
       "      <th>category</th>\n",
       "      <th>product</th>\n",
       "      <th>no_of_CTA</th>\n",
       "      <th>...</th>\n",
       "      <th>is_image</th>\n",
       "      <th>is_personalised</th>\n",
       "      <th>is_quote</th>\n",
       "      <th>is_timer</th>\n",
       "      <th>is_emoticons</th>\n",
       "      <th>is_discount</th>\n",
       "      <th>is_price</th>\n",
       "      <th>is_urgency</th>\n",
       "      <th>target_audience</th>\n",
       "      <th>click_rate</th>\n",
       "    </tr>\n",
       "  </thead>\n",
       "  <tbody>\n",
       "    <tr>\n",
       "      <th>0</th>\n",
       "      <td>3</td>\n",
       "      <td>76</td>\n",
       "      <td>10439</td>\n",
       "      <td>39</td>\n",
       "      <td>5</td>\n",
       "      <td>1</td>\n",
       "      <td>2.0</td>\n",
       "      <td>6</td>\n",
       "      <td>26</td>\n",
       "      <td>3</td>\n",
       "      <td>...</td>\n",
       "      <td>0</td>\n",
       "      <td>0</td>\n",
       "      <td>0</td>\n",
       "      <td>0</td>\n",
       "      <td>0</td>\n",
       "      <td>0</td>\n",
       "      <td>0</td>\n",
       "      <td>0</td>\n",
       "      <td>14</td>\n",
       "      <td>0.103079</td>\n",
       "    </tr>\n",
       "    <tr>\n",
       "      <th>1</th>\n",
       "      <td>3</td>\n",
       "      <td>54</td>\n",
       "      <td>2570</td>\n",
       "      <td>256</td>\n",
       "      <td>5</td>\n",
       "      <td>1</td>\n",
       "      <td>1.0</td>\n",
       "      <td>2</td>\n",
       "      <td>11</td>\n",
       "      <td>0</td>\n",
       "      <td>...</td>\n",
       "      <td>0</td>\n",
       "      <td>0</td>\n",
       "      <td>0</td>\n",
       "      <td>0</td>\n",
       "      <td>0</td>\n",
       "      <td>0</td>\n",
       "      <td>0</td>\n",
       "      <td>0</td>\n",
       "      <td>10</td>\n",
       "      <td>0.700000</td>\n",
       "    </tr>\n",
       "    <tr>\n",
       "      <th>2</th>\n",
       "      <td>3</td>\n",
       "      <td>59</td>\n",
       "      <td>12801</td>\n",
       "      <td>16</td>\n",
       "      <td>5</td>\n",
       "      <td>1</td>\n",
       "      <td>2.0</td>\n",
       "      <td>2</td>\n",
       "      <td>11</td>\n",
       "      <td>3</td>\n",
       "      <td>...</td>\n",
       "      <td>1</td>\n",
       "      <td>0</td>\n",
       "      <td>1</td>\n",
       "      <td>0</td>\n",
       "      <td>0</td>\n",
       "      <td>0</td>\n",
       "      <td>0</td>\n",
       "      <td>0</td>\n",
       "      <td>16</td>\n",
       "      <td>0.002769</td>\n",
       "    </tr>\n",
       "    <tr>\n",
       "      <th>3</th>\n",
       "      <td>3</td>\n",
       "      <td>74</td>\n",
       "      <td>11037</td>\n",
       "      <td>30</td>\n",
       "      <td>4</td>\n",
       "      <td>0</td>\n",
       "      <td>0.0</td>\n",
       "      <td>15</td>\n",
       "      <td>9</td>\n",
       "      <td>4</td>\n",
       "      <td>...</td>\n",
       "      <td>0</td>\n",
       "      <td>0</td>\n",
       "      <td>0</td>\n",
       "      <td>0</td>\n",
       "      <td>0</td>\n",
       "      <td>0</td>\n",
       "      <td>0</td>\n",
       "      <td>0</td>\n",
       "      <td>10</td>\n",
       "      <td>0.010868</td>\n",
       "    </tr>\n",
       "    <tr>\n",
       "      <th>4</th>\n",
       "      <td>3</td>\n",
       "      <td>80</td>\n",
       "      <td>10011</td>\n",
       "      <td>27</td>\n",
       "      <td>5</td>\n",
       "      <td>1</td>\n",
       "      <td>2.0</td>\n",
       "      <td>6</td>\n",
       "      <td>26</td>\n",
       "      <td>3</td>\n",
       "      <td>...</td>\n",
       "      <td>0</td>\n",
       "      <td>0</td>\n",
       "      <td>1</td>\n",
       "      <td>0</td>\n",
       "      <td>0</td>\n",
       "      <td>0</td>\n",
       "      <td>0</td>\n",
       "      <td>0</td>\n",
       "      <td>14</td>\n",
       "      <td>0.142826</td>\n",
       "    </tr>\n",
       "    <tr>\n",
       "      <th>...</th>\n",
       "      <td>...</td>\n",
       "      <td>...</td>\n",
       "      <td>...</td>\n",
       "      <td>...</td>\n",
       "      <td>...</td>\n",
       "      <td>...</td>\n",
       "      <td>...</td>\n",
       "      <td>...</td>\n",
       "      <td>...</td>\n",
       "      <td>...</td>\n",
       "      <td>...</td>\n",
       "      <td>...</td>\n",
       "      <td>...</td>\n",
       "      <td>...</td>\n",
       "      <td>...</td>\n",
       "      <td>...</td>\n",
       "      <td>...</td>\n",
       "      <td>...</td>\n",
       "      <td>...</td>\n",
       "      <td>...</td>\n",
       "      <td>...</td>\n",
       "    </tr>\n",
       "    <tr>\n",
       "      <th>1883</th>\n",
       "      <td>3</td>\n",
       "      <td>88</td>\n",
       "      <td>1451</td>\n",
       "      <td>75</td>\n",
       "      <td>2</td>\n",
       "      <td>0</td>\n",
       "      <td>2.0</td>\n",
       "      <td>2</td>\n",
       "      <td>11</td>\n",
       "      <td>0</td>\n",
       "      <td>...</td>\n",
       "      <td>0</td>\n",
       "      <td>0</td>\n",
       "      <td>1</td>\n",
       "      <td>0</td>\n",
       "      <td>0</td>\n",
       "      <td>0</td>\n",
       "      <td>0</td>\n",
       "      <td>0</td>\n",
       "      <td>10</td>\n",
       "      <td>0.350746</td>\n",
       "    </tr>\n",
       "    <tr>\n",
       "      <th>1884</th>\n",
       "      <td>3</td>\n",
       "      <td>58</td>\n",
       "      <td>10537</td>\n",
       "      <td>40</td>\n",
       "      <td>2</td>\n",
       "      <td>0</td>\n",
       "      <td>0.0</td>\n",
       "      <td>2</td>\n",
       "      <td>11</td>\n",
       "      <td>5</td>\n",
       "      <td>...</td>\n",
       "      <td>0</td>\n",
       "      <td>0</td>\n",
       "      <td>0</td>\n",
       "      <td>0</td>\n",
       "      <td>0</td>\n",
       "      <td>0</td>\n",
       "      <td>0</td>\n",
       "      <td>0</td>\n",
       "      <td>11</td>\n",
       "      <td>0.004728</td>\n",
       "    </tr>\n",
       "    <tr>\n",
       "      <th>1885</th>\n",
       "      <td>3</td>\n",
       "      <td>89</td>\n",
       "      <td>11050</td>\n",
       "      <td>26</td>\n",
       "      <td>1</td>\n",
       "      <td>0</td>\n",
       "      <td>0.0</td>\n",
       "      <td>15</td>\n",
       "      <td>9</td>\n",
       "      <td>4</td>\n",
       "      <td>...</td>\n",
       "      <td>0</td>\n",
       "      <td>0</td>\n",
       "      <td>0</td>\n",
       "      <td>0</td>\n",
       "      <td>0</td>\n",
       "      <td>0</td>\n",
       "      <td>0</td>\n",
       "      <td>0</td>\n",
       "      <td>6</td>\n",
       "      <td>0.008289</td>\n",
       "    </tr>\n",
       "    <tr>\n",
       "      <th>1886</th>\n",
       "      <td>3</td>\n",
       "      <td>58</td>\n",
       "      <td>10537</td>\n",
       "      <td>40</td>\n",
       "      <td>1</td>\n",
       "      <td>0</td>\n",
       "      <td>0.0</td>\n",
       "      <td>2</td>\n",
       "      <td>11</td>\n",
       "      <td>5</td>\n",
       "      <td>...</td>\n",
       "      <td>0</td>\n",
       "      <td>0</td>\n",
       "      <td>0</td>\n",
       "      <td>0</td>\n",
       "      <td>0</td>\n",
       "      <td>0</td>\n",
       "      <td>0</td>\n",
       "      <td>0</td>\n",
       "      <td>16</td>\n",
       "      <td>0.012014</td>\n",
       "    </tr>\n",
       "    <tr>\n",
       "      <th>1887</th>\n",
       "      <td>3</td>\n",
       "      <td>89</td>\n",
       "      <td>11050</td>\n",
       "      <td>26</td>\n",
       "      <td>0</td>\n",
       "      <td>0</td>\n",
       "      <td>0.0</td>\n",
       "      <td>15</td>\n",
       "      <td>9</td>\n",
       "      <td>4</td>\n",
       "      <td>...</td>\n",
       "      <td>0</td>\n",
       "      <td>0</td>\n",
       "      <td>0</td>\n",
       "      <td>0</td>\n",
       "      <td>0</td>\n",
       "      <td>0</td>\n",
       "      <td>0</td>\n",
       "      <td>0</td>\n",
       "      <td>10</td>\n",
       "      <td>0.003644</td>\n",
       "    </tr>\n",
       "  </tbody>\n",
       "</table>\n",
       "<p>1888 rows × 21 columns</p>\n",
       "</div>"
      ],
      "text/plain": [
       "      sender  subject_len  body_len  mean_paragraph_len  day_of_week  \\\n",
       "0          3           76     10439                  39            5   \n",
       "1          3           54      2570                 256            5   \n",
       "2          3           59     12801                  16            5   \n",
       "3          3           74     11037                  30            4   \n",
       "4          3           80     10011                  27            5   \n",
       "...      ...          ...       ...                 ...          ...   \n",
       "1883       3           88      1451                  75            2   \n",
       "1884       3           58     10537                  40            2   \n",
       "1885       3           89     11050                  26            1   \n",
       "1886       3           58     10537                  40            1   \n",
       "1887       3           89     11050                  26            0   \n",
       "\n",
       "      is_weekend  times_of_day  category  product  no_of_CTA  ...  is_image  \\\n",
       "0              1           2.0         6       26          3  ...         0   \n",
       "1              1           1.0         2       11          0  ...         0   \n",
       "2              1           2.0         2       11          3  ...         1   \n",
       "3              0           0.0        15        9          4  ...         0   \n",
       "4              1           2.0         6       26          3  ...         0   \n",
       "...          ...           ...       ...      ...        ...  ...       ...   \n",
       "1883           0           2.0         2       11          0  ...         0   \n",
       "1884           0           0.0         2       11          5  ...         0   \n",
       "1885           0           0.0        15        9          4  ...         0   \n",
       "1886           0           0.0         2       11          5  ...         0   \n",
       "1887           0           0.0        15        9          4  ...         0   \n",
       "\n",
       "      is_personalised  is_quote  is_timer  is_emoticons  is_discount  \\\n",
       "0                   0         0         0             0            0   \n",
       "1                   0         0         0             0            0   \n",
       "2                   0         1         0             0            0   \n",
       "3                   0         0         0             0            0   \n",
       "4                   0         1         0             0            0   \n",
       "...               ...       ...       ...           ...          ...   \n",
       "1883                0         1         0             0            0   \n",
       "1884                0         0         0             0            0   \n",
       "1885                0         0         0             0            0   \n",
       "1886                0         0         0             0            0   \n",
       "1887                0         0         0             0            0   \n",
       "\n",
       "      is_price  is_urgency  target_audience  click_rate  \n",
       "0            0           0               14    0.103079  \n",
       "1            0           0               10    0.700000  \n",
       "2            0           0               16    0.002769  \n",
       "3            0           0               10    0.010868  \n",
       "4            0           0               14    0.142826  \n",
       "...        ...         ...              ...         ...  \n",
       "1883         0           0               10    0.350746  \n",
       "1884         0           0               11    0.004728  \n",
       "1885         0           0                6    0.008289  \n",
       "1886         0           0               16    0.012014  \n",
       "1887         0           0               10    0.003644  \n",
       "\n",
       "[1888 rows x 21 columns]"
      ]
     },
     "execution_count": 28,
     "metadata": {},
     "output_type": "execute_result"
    }
   ],
   "source": [
    "df"
   ]
  },
  {
   "cell_type": "code",
   "execution_count": null,
   "id": "456fbb50",
   "metadata": {},
   "outputs": [],
   "source": []
  },
  {
   "cell_type": "markdown",
   "id": "ea48c94a",
   "metadata": {},
   "source": [
    "# Statistical Summary"
   ]
  },
  {
   "cell_type": "code",
   "execution_count": 29,
   "id": "b737fba4",
   "metadata": {},
   "outputs": [
    {
     "data": {
      "text/html": [
       "<div>\n",
       "<style scoped>\n",
       "    .dataframe tbody tr th:only-of-type {\n",
       "        vertical-align: middle;\n",
       "    }\n",
       "\n",
       "    .dataframe tbody tr th {\n",
       "        vertical-align: top;\n",
       "    }\n",
       "\n",
       "    .dataframe thead th {\n",
       "        text-align: right;\n",
       "    }\n",
       "</style>\n",
       "<table border=\"1\" class=\"dataframe\">\n",
       "  <thead>\n",
       "    <tr style=\"text-align: right;\">\n",
       "      <th></th>\n",
       "      <th>sender</th>\n",
       "      <th>subject_len</th>\n",
       "      <th>body_len</th>\n",
       "      <th>mean_paragraph_len</th>\n",
       "      <th>day_of_week</th>\n",
       "      <th>is_weekend</th>\n",
       "      <th>times_of_day</th>\n",
       "      <th>category</th>\n",
       "      <th>product</th>\n",
       "      <th>no_of_CTA</th>\n",
       "      <th>...</th>\n",
       "      <th>is_image</th>\n",
       "      <th>is_personalised</th>\n",
       "      <th>is_quote</th>\n",
       "      <th>is_timer</th>\n",
       "      <th>is_emoticons</th>\n",
       "      <th>is_discount</th>\n",
       "      <th>is_price</th>\n",
       "      <th>is_urgency</th>\n",
       "      <th>target_audience</th>\n",
       "      <th>click_rate</th>\n",
       "    </tr>\n",
       "  </thead>\n",
       "  <tbody>\n",
       "    <tr>\n",
       "      <th>count</th>\n",
       "      <td>1888.000000</td>\n",
       "      <td>1888.000000</td>\n",
       "      <td>1888.000000</td>\n",
       "      <td>1888.000000</td>\n",
       "      <td>1888.000000</td>\n",
       "      <td>1888.000000</td>\n",
       "      <td>1888.000000</td>\n",
       "      <td>1888.000000</td>\n",
       "      <td>1888.000000</td>\n",
       "      <td>1888.000000</td>\n",
       "      <td>...</td>\n",
       "      <td>1888.000000</td>\n",
       "      <td>1888.000000</td>\n",
       "      <td>1888.000000</td>\n",
       "      <td>1888.0</td>\n",
       "      <td>1888.000000</td>\n",
       "      <td>1888.000000</td>\n",
       "      <td>1888.000000</td>\n",
       "      <td>1888.000000</td>\n",
       "      <td>1888.000000</td>\n",
       "      <td>1888.000000</td>\n",
       "    </tr>\n",
       "    <tr>\n",
       "      <th>mean</th>\n",
       "      <td>4.395657</td>\n",
       "      <td>86.246292</td>\n",
       "      <td>14185.780191</td>\n",
       "      <td>35.239407</td>\n",
       "      <td>2.828390</td>\n",
       "      <td>0.199682</td>\n",
       "      <td>0.539195</td>\n",
       "      <td>9.949682</td>\n",
       "      <td>17.525424</td>\n",
       "      <td>4.222458</td>\n",
       "      <td>...</td>\n",
       "      <td>0.909958</td>\n",
       "      <td>0.056674</td>\n",
       "      <td>0.834216</td>\n",
       "      <td>0.0</td>\n",
       "      <td>0.210805</td>\n",
       "      <td>0.039725</td>\n",
       "      <td>40.197034</td>\n",
       "      <td>0.112288</td>\n",
       "      <td>11.634534</td>\n",
       "      <td>0.041888</td>\n",
       "    </tr>\n",
       "    <tr>\n",
       "      <th>std</th>\n",
       "      <td>3.277927</td>\n",
       "      <td>30.143206</td>\n",
       "      <td>7327.615307</td>\n",
       "      <td>28.139498</td>\n",
       "      <td>1.763193</td>\n",
       "      <td>0.399867</td>\n",
       "      <td>0.849920</td>\n",
       "      <td>5.300719</td>\n",
       "      <td>12.369526</td>\n",
       "      <td>4.628348</td>\n",
       "      <td>...</td>\n",
       "      <td>0.866467</td>\n",
       "      <td>0.231279</td>\n",
       "      <td>1.033901</td>\n",
       "      <td>0.0</td>\n",
       "      <td>0.613442</td>\n",
       "      <td>0.195363</td>\n",
       "      <td>553.957470</td>\n",
       "      <td>0.315804</td>\n",
       "      <td>2.949121</td>\n",
       "      <td>0.084223</td>\n",
       "    </tr>\n",
       "    <tr>\n",
       "      <th>min</th>\n",
       "      <td>0.000000</td>\n",
       "      <td>9.000000</td>\n",
       "      <td>23.000000</td>\n",
       "      <td>4.000000</td>\n",
       "      <td>0.000000</td>\n",
       "      <td>0.000000</td>\n",
       "      <td>0.000000</td>\n",
       "      <td>0.000000</td>\n",
       "      <td>0.000000</td>\n",
       "      <td>0.000000</td>\n",
       "      <td>...</td>\n",
       "      <td>0.000000</td>\n",
       "      <td>0.000000</td>\n",
       "      <td>0.000000</td>\n",
       "      <td>0.0</td>\n",
       "      <td>0.000000</td>\n",
       "      <td>0.000000</td>\n",
       "      <td>0.000000</td>\n",
       "      <td>0.000000</td>\n",
       "      <td>0.000000</td>\n",
       "      <td>0.000000</td>\n",
       "    </tr>\n",
       "    <tr>\n",
       "      <th>25%</th>\n",
       "      <td>3.000000</td>\n",
       "      <td>69.000000</td>\n",
       "      <td>9554.500000</td>\n",
       "      <td>21.000000</td>\n",
       "      <td>1.000000</td>\n",
       "      <td>0.000000</td>\n",
       "      <td>0.000000</td>\n",
       "      <td>6.000000</td>\n",
       "      <td>9.000000</td>\n",
       "      <td>2.000000</td>\n",
       "      <td>...</td>\n",
       "      <td>0.000000</td>\n",
       "      <td>0.000000</td>\n",
       "      <td>0.000000</td>\n",
       "      <td>0.0</td>\n",
       "      <td>0.000000</td>\n",
       "      <td>0.000000</td>\n",
       "      <td>0.000000</td>\n",
       "      <td>0.000000</td>\n",
       "      <td>12.000000</td>\n",
       "      <td>0.005413</td>\n",
       "    </tr>\n",
       "    <tr>\n",
       "      <th>50%</th>\n",
       "      <td>3.000000</td>\n",
       "      <td>83.000000</td>\n",
       "      <td>12689.000000</td>\n",
       "      <td>29.000000</td>\n",
       "      <td>3.000000</td>\n",
       "      <td>0.000000</td>\n",
       "      <td>0.000000</td>\n",
       "      <td>10.000000</td>\n",
       "      <td>12.000000</td>\n",
       "      <td>3.000000</td>\n",
       "      <td>...</td>\n",
       "      <td>1.000000</td>\n",
       "      <td>0.000000</td>\n",
       "      <td>1.000000</td>\n",
       "      <td>0.0</td>\n",
       "      <td>0.000000</td>\n",
       "      <td>0.000000</td>\n",
       "      <td>0.000000</td>\n",
       "      <td>0.000000</td>\n",
       "      <td>12.000000</td>\n",
       "      <td>0.010686</td>\n",
       "    </tr>\n",
       "    <tr>\n",
       "      <th>75%</th>\n",
       "      <td>3.000000</td>\n",
       "      <td>98.000000</td>\n",
       "      <td>17351.500000</td>\n",
       "      <td>40.000000</td>\n",
       "      <td>4.000000</td>\n",
       "      <td>0.000000</td>\n",
       "      <td>1.000000</td>\n",
       "      <td>15.000000</td>\n",
       "      <td>27.250000</td>\n",
       "      <td>5.000000</td>\n",
       "      <td>...</td>\n",
       "      <td>2.000000</td>\n",
       "      <td>0.000000</td>\n",
       "      <td>1.000000</td>\n",
       "      <td>0.0</td>\n",
       "      <td>0.000000</td>\n",
       "      <td>0.000000</td>\n",
       "      <td>0.000000</td>\n",
       "      <td>0.000000</td>\n",
       "      <td>12.000000</td>\n",
       "      <td>0.035589</td>\n",
       "    </tr>\n",
       "    <tr>\n",
       "      <th>max</th>\n",
       "      <td>15.000000</td>\n",
       "      <td>265.000000</td>\n",
       "      <td>44491.000000</td>\n",
       "      <td>286.000000</td>\n",
       "      <td>6.000000</td>\n",
       "      <td>1.000000</td>\n",
       "      <td>2.000000</td>\n",
       "      <td>15.000000</td>\n",
       "      <td>43.000000</td>\n",
       "      <td>49.000000</td>\n",
       "      <td>...</td>\n",
       "      <td>6.000000</td>\n",
       "      <td>1.000000</td>\n",
       "      <td>6.000000</td>\n",
       "      <td>0.0</td>\n",
       "      <td>6.000000</td>\n",
       "      <td>1.000000</td>\n",
       "      <td>14999.000000</td>\n",
       "      <td>1.000000</td>\n",
       "      <td>16.000000</td>\n",
       "      <td>0.897959</td>\n",
       "    </tr>\n",
       "  </tbody>\n",
       "</table>\n",
       "<p>8 rows × 21 columns</p>\n",
       "</div>"
      ],
      "text/plain": [
       "            sender  subject_len      body_len  mean_paragraph_len  \\\n",
       "count  1888.000000  1888.000000   1888.000000         1888.000000   \n",
       "mean      4.395657    86.246292  14185.780191           35.239407   \n",
       "std       3.277927    30.143206   7327.615307           28.139498   \n",
       "min       0.000000     9.000000     23.000000            4.000000   \n",
       "25%       3.000000    69.000000   9554.500000           21.000000   \n",
       "50%       3.000000    83.000000  12689.000000           29.000000   \n",
       "75%       3.000000    98.000000  17351.500000           40.000000   \n",
       "max      15.000000   265.000000  44491.000000          286.000000   \n",
       "\n",
       "       day_of_week   is_weekend  times_of_day     category      product  \\\n",
       "count  1888.000000  1888.000000   1888.000000  1888.000000  1888.000000   \n",
       "mean      2.828390     0.199682      0.539195     9.949682    17.525424   \n",
       "std       1.763193     0.399867      0.849920     5.300719    12.369526   \n",
       "min       0.000000     0.000000      0.000000     0.000000     0.000000   \n",
       "25%       1.000000     0.000000      0.000000     6.000000     9.000000   \n",
       "50%       3.000000     0.000000      0.000000    10.000000    12.000000   \n",
       "75%       4.000000     0.000000      1.000000    15.000000    27.250000   \n",
       "max       6.000000     1.000000      2.000000    15.000000    43.000000   \n",
       "\n",
       "         no_of_CTA  ...     is_image  is_personalised     is_quote  is_timer  \\\n",
       "count  1888.000000  ...  1888.000000      1888.000000  1888.000000    1888.0   \n",
       "mean      4.222458  ...     0.909958         0.056674     0.834216       0.0   \n",
       "std       4.628348  ...     0.866467         0.231279     1.033901       0.0   \n",
       "min       0.000000  ...     0.000000         0.000000     0.000000       0.0   \n",
       "25%       2.000000  ...     0.000000         0.000000     0.000000       0.0   \n",
       "50%       3.000000  ...     1.000000         0.000000     1.000000       0.0   \n",
       "75%       5.000000  ...     2.000000         0.000000     1.000000       0.0   \n",
       "max      49.000000  ...     6.000000         1.000000     6.000000       0.0   \n",
       "\n",
       "       is_emoticons  is_discount      is_price   is_urgency  target_audience  \\\n",
       "count   1888.000000  1888.000000   1888.000000  1888.000000      1888.000000   \n",
       "mean       0.210805     0.039725     40.197034     0.112288        11.634534   \n",
       "std        0.613442     0.195363    553.957470     0.315804         2.949121   \n",
       "min        0.000000     0.000000      0.000000     0.000000         0.000000   \n",
       "25%        0.000000     0.000000      0.000000     0.000000        12.000000   \n",
       "50%        0.000000     0.000000      0.000000     0.000000        12.000000   \n",
       "75%        0.000000     0.000000      0.000000     0.000000        12.000000   \n",
       "max        6.000000     1.000000  14999.000000     1.000000        16.000000   \n",
       "\n",
       "        click_rate  \n",
       "count  1888.000000  \n",
       "mean      0.041888  \n",
       "std       0.084223  \n",
       "min       0.000000  \n",
       "25%       0.005413  \n",
       "50%       0.010686  \n",
       "75%       0.035589  \n",
       "max       0.897959  \n",
       "\n",
       "[8 rows x 21 columns]"
      ]
     },
     "execution_count": 29,
     "metadata": {},
     "output_type": "execute_result"
    }
   ],
   "source": [
    "df.describe()"
   ]
  },
  {
   "cell_type": "markdown",
   "id": "ba68baa3",
   "metadata": {},
   "source": [
    "Numbers of values are same in every column.\n",
    "\n",
    "Not Much differnce between mean and median.\n",
    "\n",
    "Not much difference between 75% and max."
   ]
  },
  {
   "cell_type": "code",
   "execution_count": null,
   "id": "8cf0b655",
   "metadata": {},
   "outputs": [],
   "source": []
  },
  {
   "cell_type": "markdown",
   "id": "8530b613",
   "metadata": {},
   "source": [
    "# Outlier Detection"
   ]
  },
  {
   "cell_type": "code",
   "execution_count": 30,
   "id": "12000419",
   "metadata": {},
   "outputs": [
    {
     "data": {
      "text/plain": [
       "sender                   AxesSubplot(0.125,0.749828;0.0824468x0.130172)\n",
       "subject_len           AxesSubplot(0.223936,0.749828;0.0824468x0.130172)\n",
       "body_len              AxesSubplot(0.322872,0.749828;0.0824468x0.130172)\n",
       "mean_paragraph_len    AxesSubplot(0.421809,0.749828;0.0824468x0.130172)\n",
       "day_of_week           AxesSubplot(0.520745,0.749828;0.0824468x0.130172)\n",
       "is_weekend            AxesSubplot(0.619681,0.749828;0.0824468x0.130172)\n",
       "times_of_day          AxesSubplot(0.718617,0.749828;0.0824468x0.130172)\n",
       "category              AxesSubplot(0.817553,0.749828;0.0824468x0.130172)\n",
       "product                  AxesSubplot(0.125,0.593621;0.0824468x0.130172)\n",
       "no_of_CTA             AxesSubplot(0.223936,0.593621;0.0824468x0.130172)\n",
       "mean_CTA_len          AxesSubplot(0.322872,0.593621;0.0824468x0.130172)\n",
       "is_image              AxesSubplot(0.421809,0.593621;0.0824468x0.130172)\n",
       "is_personalised       AxesSubplot(0.520745,0.593621;0.0824468x0.130172)\n",
       "is_quote              AxesSubplot(0.619681,0.593621;0.0824468x0.130172)\n",
       "is_timer              AxesSubplot(0.718617,0.593621;0.0824468x0.130172)\n",
       "is_emoticons          AxesSubplot(0.817553,0.593621;0.0824468x0.130172)\n",
       "is_discount              AxesSubplot(0.125,0.437414;0.0824468x0.130172)\n",
       "is_price              AxesSubplot(0.223936,0.437414;0.0824468x0.130172)\n",
       "is_urgency            AxesSubplot(0.322872,0.437414;0.0824468x0.130172)\n",
       "target_audience       AxesSubplot(0.421809,0.437414;0.0824468x0.130172)\n",
       "click_rate            AxesSubplot(0.520745,0.437414;0.0824468x0.130172)\n",
       "dtype: object"
      ]
     },
     "execution_count": 30,
     "metadata": {},
     "output_type": "execute_result"
    },
    {
     "data": {
      "image/png": "[encoded data removed]",
      "text/plain": [
       "<Figure size 1080x720 with 40 Axes>"
      ]
     },
     "metadata": {
      "needs_background": "light"
     },
     "output_type": "display_data"
    }
   ],
   "source": [
    "df.plot(kind='box',subplots=True, layout=(5,8), figsize=(15,10))"
   ]
  },
  {
   "cell_type": "markdown",
   "id": "65f2bd3a",
   "metadata": {},
   "source": [
    "Some of the outliers are present in the dataset, but we are not treating it due to chances of loosing the dataset."
   ]
  },
  {
   "cell_type": "markdown",
   "id": "d8a31f43",
   "metadata": {},
   "source": [
    "# Seprating the columns into Feature and Target"
   ]
  },
  {
   "cell_type": "code",
   "execution_count": 34,
   "id": "40a09e15",
   "metadata": {},
   "outputs": [],
   "source": [
    "x=df.drop('click_rate',axis=1)\n",
    "y=df['click_rate']"
   ]
  },
  {
   "cell_type": "markdown",
   "id": "ba8e7b9b",
   "metadata": {},
   "source": [
    "# Train Test Split"
   ]
  },
  {
   "cell_type": "code",
   "execution_count": 71,
   "id": "765b65cd",
   "metadata": {},
   "outputs": [
    {
     "name": "stdout",
     "output_type": "stream",
     "text": [
      "(1416, 21)\n",
      "(472, 21)\n",
      "(1416,)\n",
      "(472,)\n"
     ]
    }
   ],
   "source": [
    "from sklearn.model_selection import train_test_split\n",
    "x_train, x_test, y_train, y_test= train_test_split(x,y,test_size=.25, random_state=48)\n",
    "print(x_train.shape)\n",
    "print(x_test.shape)\n",
    "print(y_train.shape)\n",
    "print(y_test.shape)"
   ]
  },
  {
   "cell_type": "code",
   "execution_count": null,
   "id": "fdb9206a",
   "metadata": {},
   "outputs": [],
   "source": []
  },
  {
   "cell_type": "markdown",
   "id": "4f894a29",
   "metadata": {},
   "source": [
    "# Lets bring all features to a common scale"
   ]
  },
  {
   "cell_type": "code",
   "execution_count": 43,
   "id": "10d5f858",
   "metadata": {},
   "outputs": [],
   "source": [
    "from sklearn.preprocessing import StandardScaler\n",
    "sc=StandardScaler()\n",
    "\n",
    "x=sc.fit_transform(df)\n",
    "\n",
    "x=pd.DataFrame(x,columns=df.columns)"
   ]
  },
  {
   "cell_type": "code",
   "execution_count": null,
   "id": "8aea5a5c",
   "metadata": {},
   "outputs": [],
   "source": []
  },
  {
   "cell_type": "markdown",
   "id": "38907f72",
   "metadata": {},
   "source": [
    "# Model Building"
   ]
  },
  {
   "cell_type": "code",
   "execution_count": 44,
   "id": "60a555a5",
   "metadata": {},
   "outputs": [],
   "source": [
    "# importing libraries\n",
    "from sklearn.linear_model import LinearRegression ,Lasso ,Ridge ,ElasticNet\n",
    "from sklearn.metrics import r2_score\n",
    "from sklearn.metrics import mean_squared_error, mean_absolute_error\n",
    "from sklearn.model_selection import cross_val_score"
   ]
  },
  {
   "cell_type": "code",
   "execution_count": 45,
   "id": "ff63ccc7",
   "metadata": {},
   "outputs": [
    {
     "name": "stdout",
     "output_type": "stream",
     "text": [
      "r2 score 0.07722135308087708\n",
      "error\n",
      "mean absolute error 0.046913063253817576\n",
      "mean squared error 0.005744331993714749\n",
      "root mean squared error 0.07579137149910106\n"
     ]
    }
   ],
   "source": [
    "#for Linear Regression\n",
    "\n",
    "lr=LinearRegression()\n",
    "lr.fit(x_train,y_train)\n",
    "pred_y=lr.predict(x_test)\n",
    "print('r2 score',r2_score(y_test,pred_y))\n",
    "\n",
    "print('error')\n",
    "print('mean absolute error', mean_absolute_error(y_test,pred_y))\n",
    "print('mean squared error', mean_squared_error(y_test,pred_y))\n",
    "\n",
    "print('root mean squared error', np.sqrt(mean_squared_error(y_test,pred_y)))"
   ]
  },
  {
   "cell_type": "code",
   "execution_count": 46,
   "id": "18358210",
   "metadata": {},
   "outputs": [
    {
     "name": "stdout",
     "output_type": "stream",
     "text": [
      "cross validation score 1.0\n"
     ]
    }
   ],
   "source": [
    "# Cross validation Linear Regression\n",
    "scr=cross_val_score(lr,x,y,cv=5)\n",
    "print('cross validation score',scr.mean())"
   ]
  },
  {
   "cell_type": "code",
   "execution_count": null,
   "id": "ce8c8575",
   "metadata": {},
   "outputs": [],
   "source": []
  },
  {
   "cell_type": "code",
   "execution_count": 47,
   "id": "3b0ff79b",
   "metadata": {},
   "outputs": [
    {
     "name": "stdout",
     "output_type": "stream",
     "text": [
      "r2 score 0.07729998794714665\n",
      "error\n",
      "mean absolute error 0.04689940289063234\n",
      "mean squared error 0.005743842488696789\n",
      "root mean squared error 0.07578814213778293\n"
     ]
    }
   ],
   "source": [
    "#For Ridge\n",
    "\n",
    "rd=Ridge()\n",
    "\n",
    "rd.fit(x_train,y_train)\n",
    "pred_y=rd.predict(x_test)\n",
    "print('r2 score',r2_score(y_test,pred_y))\n",
    "\n",
    "print('error')\n",
    "print('mean absolute error', mean_absolute_error(y_test,pred_y))\n",
    "print('mean squared error', mean_squared_error(y_test,pred_y))\n",
    "\n",
    "print('root mean squared error', np.sqrt(mean_squared_error(y_test,pred_y)))"
   ]
  },
  {
   "cell_type": "code",
   "execution_count": 48,
   "id": "f2483832",
   "metadata": {},
   "outputs": [
    {
     "name": "stdout",
     "output_type": "stream",
     "text": [
      "cv score 0.9999995107942379\n"
     ]
    }
   ],
   "source": [
    "# For Ridge (cross  validation)\n",
    "\n",
    "\n",
    "score=cross_val_score(rd,x,y,cv=10)\n",
    "print('cv score',np.mean(score))"
   ]
  },
  {
   "cell_type": "code",
   "execution_count": null,
   "id": "88b0f5c7",
   "metadata": {},
   "outputs": [],
   "source": []
  },
  {
   "cell_type": "code",
   "execution_count": 49,
   "id": "c4d22fea",
   "metadata": {},
   "outputs": [
    {
     "name": "stdout",
     "output_type": "stream",
     "text": [
      "r2 score 0.023370191507905647\n",
      "error\n",
      "mean absolute error 0.046778912667050296\n",
      "mean squared error 0.006079557512158539\n",
      "root mean squared error 0.07797151731343016\n"
     ]
    }
   ],
   "source": [
    "# for Lasso\n",
    "\n",
    "ls=Lasso()\n",
    "\n",
    "ls.fit(x_train,y_train)\n",
    "pred_y=ls.predict(x_test)\n",
    "print('r2 score',r2_score(y_test,pred_y))\n",
    "\n",
    "print('error')\n",
    "print('mean absolute error', mean_absolute_error(y_test,pred_y))\n",
    "print('mean squared error', mean_squared_error(y_test,pred_y))\n",
    "\n",
    "print('root mean squared error', np.sqrt(mean_squared_error(y_test,pred_y)))"
   ]
  },
  {
   "cell_type": "code",
   "execution_count": 50,
   "id": "d8c8cdab",
   "metadata": {},
   "outputs": [
    {
     "name": "stdout",
     "output_type": "stream",
     "text": [
      "cv score -0.04205364775853262\n"
     ]
    }
   ],
   "source": [
    "# For Lasso (cross validation)\n",
    "\n",
    "\n",
    "score=cross_val_score(ls,x,y,cv=10)\n",
    "print('cv score',np.mean(score))"
   ]
  },
  {
   "cell_type": "code",
   "execution_count": null,
   "id": "12322d58",
   "metadata": {},
   "outputs": [],
   "source": []
  },
  {
   "cell_type": "code",
   "execution_count": 51,
   "id": "30570011",
   "metadata": {},
   "outputs": [
    {
     "name": "stdout",
     "output_type": "stream",
     "text": [
      "r2 score 0.022794067856392264\n",
      "error\n",
      "mean absolute error 0.046774556346256824\n",
      "mean squared error 0.006083143903688916\n",
      "root mean squared error 0.07799451201006977\n"
     ]
    }
   ],
   "source": [
    "#For ElasticNet\n",
    "\n",
    "\n",
    "\n",
    "en=ElasticNet()\n",
    "\n",
    "en.fit(x_train,y_train)\n",
    "pred_y=en.predict(x_test)\n",
    "print('r2 score',r2_score(y_test,pred_y))\n",
    "\n",
    "print('error')\n",
    "print('mean absolute error', mean_absolute_error(y_test,pred_y))\n",
    "print('mean squared error', mean_squared_error(y_test,pred_y))\n",
    "\n",
    "print('root mean squared error', np.sqrt(mean_squared_error(y_test,pred_y)))"
   ]
  },
  {
   "cell_type": "code",
   "execution_count": 52,
   "id": "84f0b258",
   "metadata": {},
   "outputs": [
    {
     "name": "stdout",
     "output_type": "stream",
     "text": [
      "cv score -0.04205364775853262\n"
     ]
    }
   ],
   "source": [
    "#For ElasticNet (cross validation)\n",
    "\n",
    "score=cross_val_score(en,x,y,cv=10)\n",
    "print('cv score',np.mean(score))"
   ]
  },
  {
   "cell_type": "code",
   "execution_count": null,
   "id": "cb505063",
   "metadata": {},
   "outputs": [],
   "source": []
  },
  {
   "cell_type": "markdown",
   "id": "7850f785",
   "metadata": {},
   "source": [
    "# ENSEMBLE TECHNIQUE"
   ]
  },
  {
   "cell_type": "code",
   "execution_count": 53,
   "id": "f2ca3a94",
   "metadata": {},
   "outputs": [
    {
     "name": "stdout",
     "output_type": "stream",
     "text": [
      "{'criterion': 'mse', 'max_features': 'sqrt'}\n"
     ]
    }
   ],
   "source": [
    "from sklearn.ensemble import RandomForestRegressor\n",
    "from sklearn.model_selection import GridSearchCV\n",
    "parameters={'criterion':['mse','mae'],'max_features':['auto','sqrt','log2']}\n",
    "\n",
    "rf=RandomForestRegressor()\n",
    "clf=GridSearchCV(rf,parameters)\n",
    "clf.fit(x_train,y_train)\n",
    "\n",
    "print(clf.best_params_)"
   ]
  },
  {
   "cell_type": "code",
   "execution_count": 54,
   "id": "84ca067a",
   "metadata": {},
   "outputs": [
    {
     "name": "stdout",
     "output_type": "stream",
     "text": [
      "r2 score: 41.307813639628996\n",
      "cross val score 99.49349796354457\n"
     ]
    }
   ],
   "source": [
    "rf=RandomForestRegressor(criterion='mae',max_features='auto')\n",
    "rf.fit(x_train,y_train)\n",
    "rf.score(x_train,y_train)\n",
    "pred_decision=rf.predict(x_test)\n",
    "\n",
    "rfs=r2_score(y_test,pred_decision)\n",
    "print('r2 score:', rfs*100)\n",
    "\n",
    "rfscore=cross_val_score(rf,x,y,cv=5)\n",
    "rfc=rfscore.mean()\n",
    "print('cross val score',rfc*100)"
   ]
  },
  {
   "cell_type": "markdown",
   "id": "90adaf33",
   "metadata": {},
   "source": [
    "So we are getting 99.49% r2 score."
   ]
  },
  {
   "cell_type": "markdown",
   "id": "ad4f1dbf",
   "metadata": {},
   "source": [
    "# Prediction on Test Data"
   ]
  },
  {
   "cell_type": "code",
   "execution_count": 94,
   "id": "e9311515",
   "metadata": {},
   "outputs": [],
   "source": [
    "test=pd.read_csv('email_ctr_test.csv')"
   ]
  },
  {
   "cell_type": "code",
   "execution_count": 95,
   "id": "cf9a9607",
   "metadata": {},
   "outputs": [
    {
     "data": {
      "text/html": [
       "<div>\n",
       "<style scoped>\n",
       "    .dataframe tbody tr th:only-of-type {\n",
       "        vertical-align: middle;\n",
       "    }\n",
       "\n",
       "    .dataframe tbody tr th {\n",
       "        vertical-align: top;\n",
       "    }\n",
       "\n",
       "    .dataframe thead th {\n",
       "        text-align: right;\n",
       "    }\n",
       "</style>\n",
       "<table border=\"1\" class=\"dataframe\">\n",
       "  <thead>\n",
       "    <tr style=\"text-align: right;\">\n",
       "      <th></th>\n",
       "      <th>campaign_id</th>\n",
       "      <th>sender</th>\n",
       "      <th>subject_len</th>\n",
       "      <th>body_len</th>\n",
       "      <th>mean_paragraph_len</th>\n",
       "      <th>day_of_week</th>\n",
       "      <th>is_weekend</th>\n",
       "      <th>times_of_day</th>\n",
       "      <th>category</th>\n",
       "      <th>product</th>\n",
       "      <th>...</th>\n",
       "      <th>mean_CTA_len</th>\n",
       "      <th>is_image</th>\n",
       "      <th>is_personalised</th>\n",
       "      <th>is_quote</th>\n",
       "      <th>is_timer</th>\n",
       "      <th>is_emoticons</th>\n",
       "      <th>is_discount</th>\n",
       "      <th>is_price</th>\n",
       "      <th>is_urgency</th>\n",
       "      <th>target_audience</th>\n",
       "    </tr>\n",
       "  </thead>\n",
       "  <tbody>\n",
       "    <tr>\n",
       "      <th>0</th>\n",
       "      <td>1889</td>\n",
       "      <td>3</td>\n",
       "      <td>61</td>\n",
       "      <td>12871</td>\n",
       "      <td>11</td>\n",
       "      <td>6</td>\n",
       "      <td>1</td>\n",
       "      <td>Noon</td>\n",
       "      <td>6</td>\n",
       "      <td>26</td>\n",
       "      <td>...</td>\n",
       "      <td>37</td>\n",
       "      <td>1</td>\n",
       "      <td>0</td>\n",
       "      <td>0</td>\n",
       "      <td>0</td>\n",
       "      <td>1</td>\n",
       "      <td>0</td>\n",
       "      <td>0</td>\n",
       "      <td>0</td>\n",
       "      <td>14</td>\n",
       "    </tr>\n",
       "    <tr>\n",
       "      <th>1</th>\n",
       "      <td>1890</td>\n",
       "      <td>3</td>\n",
       "      <td>54</td>\n",
       "      <td>2569</td>\n",
       "      <td>256</td>\n",
       "      <td>5</td>\n",
       "      <td>1</td>\n",
       "      <td>Morning</td>\n",
       "      <td>2</td>\n",
       "      <td>11</td>\n",
       "      <td>...</td>\n",
       "      <td>22</td>\n",
       "      <td>0</td>\n",
       "      <td>0</td>\n",
       "      <td>0</td>\n",
       "      <td>0</td>\n",
       "      <td>0</td>\n",
       "      <td>0</td>\n",
       "      <td>0</td>\n",
       "      <td>0</td>\n",
       "      <td>10</td>\n",
       "    </tr>\n",
       "    <tr>\n",
       "      <th>2</th>\n",
       "      <td>1891</td>\n",
       "      <td>3</td>\n",
       "      <td>88</td>\n",
       "      <td>1473</td>\n",
       "      <td>78</td>\n",
       "      <td>4</td>\n",
       "      <td>0</td>\n",
       "      <td>Evening</td>\n",
       "      <td>2</td>\n",
       "      <td>11</td>\n",
       "      <td>...</td>\n",
       "      <td>22</td>\n",
       "      <td>1</td>\n",
       "      <td>0</td>\n",
       "      <td>1</td>\n",
       "      <td>0</td>\n",
       "      <td>0</td>\n",
       "      <td>0</td>\n",
       "      <td>0</td>\n",
       "      <td>0</td>\n",
       "      <td>10</td>\n",
       "    </tr>\n",
       "    <tr>\n",
       "      <th>3</th>\n",
       "      <td>1892</td>\n",
       "      <td>3</td>\n",
       "      <td>88</td>\n",
       "      <td>1473</td>\n",
       "      <td>78</td>\n",
       "      <td>3</td>\n",
       "      <td>0</td>\n",
       "      <td>Evening</td>\n",
       "      <td>2</td>\n",
       "      <td>11</td>\n",
       "      <td>...</td>\n",
       "      <td>22</td>\n",
       "      <td>1</td>\n",
       "      <td>0</td>\n",
       "      <td>1</td>\n",
       "      <td>0</td>\n",
       "      <td>0</td>\n",
       "      <td>0</td>\n",
       "      <td>0</td>\n",
       "      <td>0</td>\n",
       "      <td>10</td>\n",
       "    </tr>\n",
       "    <tr>\n",
       "      <th>4</th>\n",
       "      <td>1893</td>\n",
       "      <td>3</td>\n",
       "      <td>78</td>\n",
       "      <td>9020</td>\n",
       "      <td>29</td>\n",
       "      <td>3</td>\n",
       "      <td>0</td>\n",
       "      <td>Noon</td>\n",
       "      <td>6</td>\n",
       "      <td>26</td>\n",
       "      <td>...</td>\n",
       "      <td>40</td>\n",
       "      <td>0</td>\n",
       "      <td>0</td>\n",
       "      <td>0</td>\n",
       "      <td>0</td>\n",
       "      <td>0</td>\n",
       "      <td>0</td>\n",
       "      <td>0</td>\n",
       "      <td>0</td>\n",
       "      <td>14</td>\n",
       "    </tr>\n",
       "    <tr>\n",
       "      <th>...</th>\n",
       "      <td>...</td>\n",
       "      <td>...</td>\n",
       "      <td>...</td>\n",
       "      <td>...</td>\n",
       "      <td>...</td>\n",
       "      <td>...</td>\n",
       "      <td>...</td>\n",
       "      <td>...</td>\n",
       "      <td>...</td>\n",
       "      <td>...</td>\n",
       "      <td>...</td>\n",
       "      <td>...</td>\n",
       "      <td>...</td>\n",
       "      <td>...</td>\n",
       "      <td>...</td>\n",
       "      <td>...</td>\n",
       "      <td>...</td>\n",
       "      <td>...</td>\n",
       "      <td>...</td>\n",
       "      <td>...</td>\n",
       "      <td>...</td>\n",
       "    </tr>\n",
       "    <tr>\n",
       "      <th>757</th>\n",
       "      <td>2646</td>\n",
       "      <td>3</td>\n",
       "      <td>72</td>\n",
       "      <td>9081</td>\n",
       "      <td>46</td>\n",
       "      <td>0</td>\n",
       "      <td>0</td>\n",
       "      <td>Evening</td>\n",
       "      <td>15</td>\n",
       "      <td>9</td>\n",
       "      <td>...</td>\n",
       "      <td>28</td>\n",
       "      <td>0</td>\n",
       "      <td>0</td>\n",
       "      <td>0</td>\n",
       "      <td>0</td>\n",
       "      <td>0</td>\n",
       "      <td>0</td>\n",
       "      <td>0</td>\n",
       "      <td>0</td>\n",
       "      <td>7</td>\n",
       "    </tr>\n",
       "    <tr>\n",
       "      <th>758</th>\n",
       "      <td>2647</td>\n",
       "      <td>3</td>\n",
       "      <td>58</td>\n",
       "      <td>10537</td>\n",
       "      <td>40</td>\n",
       "      <td>3</td>\n",
       "      <td>0</td>\n",
       "      <td>Evening</td>\n",
       "      <td>2</td>\n",
       "      <td>11</td>\n",
       "      <td>...</td>\n",
       "      <td>27</td>\n",
       "      <td>0</td>\n",
       "      <td>0</td>\n",
       "      <td>0</td>\n",
       "      <td>0</td>\n",
       "      <td>0</td>\n",
       "      <td>0</td>\n",
       "      <td>0</td>\n",
       "      <td>0</td>\n",
       "      <td>16</td>\n",
       "    </tr>\n",
       "    <tr>\n",
       "      <th>759</th>\n",
       "      <td>2648</td>\n",
       "      <td>3</td>\n",
       "      <td>100</td>\n",
       "      <td>9132</td>\n",
       "      <td>19</td>\n",
       "      <td>2</td>\n",
       "      <td>0</td>\n",
       "      <td>Evening</td>\n",
       "      <td>15</td>\n",
       "      <td>9</td>\n",
       "      <td>...</td>\n",
       "      <td>23</td>\n",
       "      <td>0</td>\n",
       "      <td>0</td>\n",
       "      <td>0</td>\n",
       "      <td>0</td>\n",
       "      <td>0</td>\n",
       "      <td>0</td>\n",
       "      <td>0</td>\n",
       "      <td>0</td>\n",
       "      <td>15</td>\n",
       "    </tr>\n",
       "    <tr>\n",
       "      <th>760</th>\n",
       "      <td>2649</td>\n",
       "      <td>3</td>\n",
       "      <td>88</td>\n",
       "      <td>1451</td>\n",
       "      <td>75</td>\n",
       "      <td>1</td>\n",
       "      <td>0</td>\n",
       "      <td>Noon</td>\n",
       "      <td>2</td>\n",
       "      <td>11</td>\n",
       "      <td>...</td>\n",
       "      <td>22</td>\n",
       "      <td>0</td>\n",
       "      <td>0</td>\n",
       "      <td>1</td>\n",
       "      <td>0</td>\n",
       "      <td>0</td>\n",
       "      <td>0</td>\n",
       "      <td>0</td>\n",
       "      <td>0</td>\n",
       "      <td>10</td>\n",
       "    </tr>\n",
       "    <tr>\n",
       "      <th>761</th>\n",
       "      <td>2650</td>\n",
       "      <td>3</td>\n",
       "      <td>58</td>\n",
       "      <td>10537</td>\n",
       "      <td>40</td>\n",
       "      <td>0</td>\n",
       "      <td>0</td>\n",
       "      <td>Evening</td>\n",
       "      <td>2</td>\n",
       "      <td>11</td>\n",
       "      <td>...</td>\n",
       "      <td>27</td>\n",
       "      <td>0</td>\n",
       "      <td>0</td>\n",
       "      <td>0</td>\n",
       "      <td>0</td>\n",
       "      <td>0</td>\n",
       "      <td>0</td>\n",
       "      <td>0</td>\n",
       "      <td>0</td>\n",
       "      <td>1</td>\n",
       "    </tr>\n",
       "  </tbody>\n",
       "</table>\n",
       "<p>762 rows × 21 columns</p>\n",
       "</div>"
      ],
      "text/plain": [
       "     campaign_id  sender  subject_len  body_len  mean_paragraph_len  \\\n",
       "0           1889       3           61     12871                  11   \n",
       "1           1890       3           54      2569                 256   \n",
       "2           1891       3           88      1473                  78   \n",
       "3           1892       3           88      1473                  78   \n",
       "4           1893       3           78      9020                  29   \n",
       "..           ...     ...          ...       ...                 ...   \n",
       "757         2646       3           72      9081                  46   \n",
       "758         2647       3           58     10537                  40   \n",
       "759         2648       3          100      9132                  19   \n",
       "760         2649       3           88      1451                  75   \n",
       "761         2650       3           58     10537                  40   \n",
       "\n",
       "     day_of_week  is_weekend times_of_day  category  product  ...  \\\n",
       "0              6           1         Noon         6       26  ...   \n",
       "1              5           1      Morning         2       11  ...   \n",
       "2              4           0      Evening         2       11  ...   \n",
       "3              3           0      Evening         2       11  ...   \n",
       "4              3           0         Noon         6       26  ...   \n",
       "..           ...         ...          ...       ...      ...  ...   \n",
       "757            0           0      Evening        15        9  ...   \n",
       "758            3           0      Evening         2       11  ...   \n",
       "759            2           0      Evening        15        9  ...   \n",
       "760            1           0         Noon         2       11  ...   \n",
       "761            0           0      Evening         2       11  ...   \n",
       "\n",
       "     mean_CTA_len  is_image  is_personalised  is_quote  is_timer  \\\n",
       "0              37         1                0         0         0   \n",
       "1              22         0                0         0         0   \n",
       "2              22         1                0         1         0   \n",
       "3              22         1                0         1         0   \n",
       "4              40         0                0         0         0   \n",
       "..            ...       ...              ...       ...       ...   \n",
       "757            28         0                0         0         0   \n",
       "758            27         0                0         0         0   \n",
       "759            23         0                0         0         0   \n",
       "760            22         0                0         1         0   \n",
       "761            27         0                0         0         0   \n",
       "\n",
       "     is_emoticons  is_discount  is_price  is_urgency  target_audience  \n",
       "0               1            0         0           0               14  \n",
       "1               0            0         0           0               10  \n",
       "2               0            0         0           0               10  \n",
       "3               0            0         0           0               10  \n",
       "4               0            0         0           0               14  \n",
       "..            ...          ...       ...         ...              ...  \n",
       "757             0            0         0           0                7  \n",
       "758             0            0         0           0               16  \n",
       "759             0            0         0           0               15  \n",
       "760             0            0         0           0               10  \n",
       "761             0            0         0           0                1  \n",
       "\n",
       "[762 rows x 21 columns]"
      ]
     },
     "execution_count": 95,
     "metadata": {},
     "output_type": "execute_result"
    }
   ],
   "source": [
    "test"
   ]
  },
  {
   "cell_type": "code",
   "execution_count": 99,
   "id": "9b0df252",
   "metadata": {},
   "outputs": [],
   "source": [
    "# Encoding object column\n",
    "from sklearn.preprocessing import OrdinalEncoder\n",
    "enc =OrdinalEncoder()\n",
    "\n",
    "for i in test.columns:\n",
    "    if test[i].dtypes=='object':\n",
    "        test[i]=enc.fit_transform(test[i].values.reshape(-1,1))"
   ]
  },
  {
   "cell_type": "code",
   "execution_count": 97,
   "id": "0bcf91ba",
   "metadata": {},
   "outputs": [
    {
     "data": {
      "text/plain": [
       "RandomForestRegressor()"
      ]
     },
     "execution_count": 97,
     "metadata": {},
     "output_type": "execute_result"
    }
   ],
   "source": [
    "\n",
    "model = RandomForestRegressor()\n",
    "model.fit(x,y)"
   ]
  },
  {
   "cell_type": "code",
   "execution_count": 100,
   "id": "f9cf6d51",
   "metadata": {},
   "outputs": [
    {
     "data": {
      "text/plain": [
       "array([0.82283954, 0.82305496, 0.82331137, 0.82331137, 0.82078302,\n",
       "       0.46679461, 0.82283954, 0.12569681, 0.82283954, 0.46679461,\n",
       "       0.46690698, 0.21052953, 0.66654319, 0.82283954, 0.82283954,\n",
       "       0.82283954, 0.82283954, 0.82283954, 0.82283741, 0.82078302,\n",
       "       0.82283741, 0.12570753, 0.50227415, 0.82078302, 0.82078089,\n",
       "       0.27923585, 0.82283954, 0.82283954, 0.82305496, 0.82283741,\n",
       "       0.82283741, 0.82078302, 0.71635302, 0.82293315, 0.66654319,\n",
       "       0.82283954, 0.82283954, 0.82283954, 0.82283954, 0.82283954,\n",
       "       0.82283954, 0.82283954, 0.82246131, 0.82283954, 0.82283954,\n",
       "       0.82283741, 0.82078089, 0.82283954, 0.82078302, 0.8204048 ,\n",
       "       0.82283741, 0.82283954, 0.82283954, 0.82078089, 0.82283954,\n",
       "       0.82246131, 0.82283954, 0.46690698, 0.82283954, 0.82283741,\n",
       "       0.82283954, 0.82283741, 0.82283741, 0.82283954, 0.82283741,\n",
       "       0.82283954, 0.82283954, 0.82078302, 0.82283741, 0.82246131,\n",
       "       0.82245918, 0.82293315, 0.82040267, 0.82283954, 0.82283954,\n",
       "       0.82283741, 0.82283954, 0.82078302, 0.82078302, 0.82283741,\n",
       "       0.82283741, 0.82078089, 0.82331137, 0.12577056, 0.46707716,\n",
       "       0.82283741, 0.82283741, 0.82283741, 0.82078302, 0.12577056,\n",
       "       0.82283741, 0.82283954, 0.82283954, 0.82283954, 0.82283954,\n",
       "       0.82283741, 0.82283954, 0.82283954, 0.82283954, 0.82283954,\n",
       "       0.82529772, 0.82529772, 0.82529772, 0.82078302, 0.82078302,\n",
       "       0.82283741, 0.82283954, 0.82283954, 0.82078302, 0.82283954,\n",
       "       0.82283954, 0.82283954, 0.82078302, 0.82283954, 0.12571295,\n",
       "       0.66576545, 0.82283741, 0.82283954, 0.82283741, 0.82283954,\n",
       "       0.82078302, 0.82283741, 0.82078302, 0.04205594, 0.82283954,\n",
       "       0.82078302, 0.82283741, 0.82283954, 0.66505838, 0.66654319,\n",
       "       0.82283954, 0.82283954, 0.82078302, 0.82283954, 0.82283954,\n",
       "       0.82246131, 0.12569681, 0.82283954, 0.82283954, 0.82283954,\n",
       "       0.82246131, 0.82052661, 0.82283954, 0.82078302, 0.82331137,\n",
       "       0.82283741, 0.82283741, 0.82052661, 0.82283741, 0.82078302,\n",
       "       0.82078302, 0.82529772, 0.82331137, 0.82283741, 0.8204048 ,\n",
       "       0.12569681, 0.82283741, 0.82246131, 0.82283954, 0.82246131,\n",
       "       0.82283954, 0.82491737, 0.82283954, 0.82283954, 0.82283954,\n",
       "       0.82283954, 0.82283741, 0.82283954, 0.82283954, 0.82283741,\n",
       "       0.82283954, 0.82246131, 0.82305496, 0.82331137, 0.82283954,\n",
       "       0.82283954, 0.82283954, 0.82283741, 0.82331137, 0.82283954,\n",
       "       0.82283954, 0.82217749, 0.82283954, 0.82283741, 0.82078302,\n",
       "       0.82283954, 0.82246131, 0.82283954, 0.82283741, 0.82305496,\n",
       "       0.82283954, 0.82052661, 0.82283741, 0.82283954, 0.82283954,\n",
       "       0.82331137, 0.82283954, 0.82283954, 0.82283954, 0.82283741,\n",
       "       0.82283954, 0.82283954, 0.82246131, 0.82283954, 0.82246131,\n",
       "       0.82283954, 0.37965928, 0.82283954, 0.21066242, 0.82283954,\n",
       "       0.21081079, 0.12577056, 0.82283741, 0.82243391, 0.50227415,\n",
       "       0.82217963, 0.82331137, 0.82283741, 0.82283741, 0.82283741,\n",
       "       0.82245918, 0.82305496, 0.82283954, 0.82283741, 0.82283954,\n",
       "       0.12577056, 0.82283954, 0.82283954, 0.82283954, 0.82283954,\n",
       "       0.82246131, 0.82283954, 0.82283741, 0.37982274, 0.82283954,\n",
       "       0.82243604, 0.82283954, 0.82283954, 0.82283954, 0.82283741,\n",
       "       0.82078302, 0.82283741, 0.82283954, 0.82283954, 0.82283954,\n",
       "       0.82283954, 0.82283954, 0.82283741, 0.82283954, 0.82245918,\n",
       "       0.82283954, 0.82283741, 0.82283741, 0.82243604, 0.82283954,\n",
       "       0.82283954, 0.82283741, 0.82283954, 0.82246131, 0.82283741,\n",
       "       0.82283954, 0.82283954, 0.82331137, 0.82283741, 0.82283954,\n",
       "       0.82283741, 0.82078302, 0.82283741, 0.82283954, 0.82283954,\n",
       "       0.82078302, 0.82078302, 0.82283954, 0.82305496, 0.82283954,\n",
       "       0.82283741, 0.82078302, 0.82283954, 0.82283954, 0.82078302,\n",
       "       0.82283954, 0.82283741, 0.82246131, 0.6716444 , 0.82283741,\n",
       "       0.82078302, 0.82283954, 0.82078302, 0.82283954, 0.82283954,\n",
       "       0.82283954, 0.82283954, 0.82331137, 0.82283741, 0.82331137,\n",
       "       0.82331137, 0.82283954, 0.66654319, 0.82283954, 0.82283954,\n",
       "       0.82283954, 0.82283954, 0.82217963, 0.82283954, 0.82243391,\n",
       "       0.82283954, 0.82245918, 0.82217963, 0.82305496, 0.82283954,\n",
       "       0.82283954, 0.66654319, 0.82283954, 0.82283954, 0.82283741,\n",
       "       0.82283954, 0.82305496, 0.82305496, 0.82283954, 0.82283954,\n",
       "       0.82283954, 0.66666103, 0.82283954, 0.82283954, 0.82283741,\n",
       "       0.82331137, 0.71701471, 0.82283954, 0.82283954, 0.82283954,\n",
       "       0.82283954, 0.66654319, 0.82283954, 0.82283741, 0.82078302,\n",
       "       0.82331137, 0.82246131, 0.82283741, 0.82052661, 0.82283954,\n",
       "       0.82283954, 0.82283954, 0.82078302, 0.82283741, 0.82217963,\n",
       "       0.50311483, 0.82283954, 0.82283741, 0.82283954, 0.82283954,\n",
       "       0.82217963, 0.82283741, 0.82078302, 0.82283954, 0.82283954,\n",
       "       0.82283954, 0.82283954, 0.82283954, 0.82283954, 0.82078302,\n",
       "       0.82283954, 0.82078302, 0.82078302, 0.82283954, 0.82283954,\n",
       "       0.82283741, 0.82283741, 0.82283741, 0.82283741, 0.82246131,\n",
       "       0.82283741, 0.82078302, 0.82283954, 0.82283741, 0.82283954,\n",
       "       0.82283954, 0.82283954, 0.82283954, 0.82246131, 0.82283741,\n",
       "       0.82283954, 0.82283741, 0.82078089, 0.82283741, 0.82283741,\n",
       "       0.82078302, 0.82245918, 0.82283741, 0.82243604, 0.82283741,\n",
       "       0.82283741, 0.82246131, 0.82246131, 0.82052661, 0.82283741,\n",
       "       0.82331137, 0.82078302, 0.82078302, 0.8204048 , 0.82052661,\n",
       "       0.82283741, 0.82283741, 0.82283954, 0.82283954, 0.82283954,\n",
       "       0.82078302, 0.82283954, 0.82078302, 0.82283954, 0.82283954,\n",
       "       0.82283954, 0.82283954, 0.82283741, 0.82246131, 0.82246131,\n",
       "       0.82052661, 0.82283741, 0.82283741, 0.82245918, 0.82283741,\n",
       "       0.82283954, 0.8204048 , 0.82283954, 0.82283741, 0.82283954,\n",
       "       0.82283954, 0.82283741, 0.82283741, 0.82283741, 0.82283741,\n",
       "       0.82078302, 0.82283954, 0.82283954, 0.82283741, 0.82283954,\n",
       "       0.82283741, 0.82283954, 0.82078302, 0.82283954, 0.82283741,\n",
       "       0.82283954, 0.82283741, 0.82283954, 0.82283954, 0.82078302,\n",
       "       0.82283954, 0.82283954, 0.66604422, 0.82052661, 0.66701453,\n",
       "       0.82052661, 0.82283954, 0.82283954, 0.82283954, 0.82283954,\n",
       "       0.82283954, 0.82052661, 0.82052661, 0.82283954, 0.82283954,\n",
       "       0.66618969, 0.82283954, 0.12570753, 0.82078089, 0.82078302,\n",
       "       0.82283954, 0.66605106, 0.82052448, 0.82283954, 0.82283954,\n",
       "       0.82283954, 0.82283954, 0.82283954, 0.82078302, 0.82078302,\n",
       "       0.82078302, 0.2792957 , 0.27924305, 0.82283954, 0.82246131,\n",
       "       0.82052661, 0.82283954, 0.82283741, 0.82283954, 0.82246131,\n",
       "       0.82283954, 0.82283954, 0.82283954, 0.82283954, 0.82283954,\n",
       "       0.82283954, 0.82283954, 0.82283954, 0.82283741, 0.82283954,\n",
       "       0.82283741, 0.12571295, 0.82283954, 0.82283954, 0.82283954,\n",
       "       0.66654169, 0.82283954, 0.82283954, 0.66618969, 0.82283954,\n",
       "       0.82283954, 0.82283954, 0.82283954, 0.82293102, 0.82331137,\n",
       "       0.82243604, 0.82283954, 0.82283954, 0.82245918, 0.82052661,\n",
       "       0.82052661, 0.82078302, 0.82246131, 0.82283954, 0.82283954,\n",
       "       0.82078302, 0.82283954, 0.82243604, 0.82331137, 0.82243604,\n",
       "       0.82331137, 0.82078302, 0.82078302, 0.82246131, 0.82283954,\n",
       "       0.50224319, 0.82283741, 0.82052661, 0.82217963, 0.82283741,\n",
       "       0.82078302, 0.82246131, 0.82052661, 0.82246131, 0.82246131,\n",
       "       0.82283954, 0.82283954, 0.82283954, 0.82283954, 0.82078302,\n",
       "       0.82243604, 0.82283954, 0.82078302, 0.82205781, 0.82246131,\n",
       "       0.82052661, 0.82283954, 0.82078302, 0.82078302, 0.82078302,\n",
       "       0.82078089, 0.82283954, 0.50238852, 0.82283954, 0.82283954,\n",
       "       0.82078089, 0.82283954, 0.82331137, 0.82283954, 0.82078302,\n",
       "       0.12570753, 0.82283954, 0.82331137, 0.82283954, 0.82283954,\n",
       "       0.82283954, 0.50224319, 0.82246131, 0.82283741, 0.82283954,\n",
       "       0.82283954, 0.82243391, 0.82283954, 0.82283954, 0.82078302,\n",
       "       0.82243604, 0.66555052, 0.82331137, 0.82078302, 0.82078302,\n",
       "       0.82283954, 0.82283954, 0.66618969, 0.82283954, 0.12569681,\n",
       "       0.82246131, 0.82217963, 0.82052448, 0.82243604, 0.82052661,\n",
       "       0.82243604, 0.82078089, 0.82283741, 0.82283954, 0.82283741,\n",
       "       0.82078302, 0.50224319, 0.82283741, 0.82243391, 0.66632676,\n",
       "       0.82078302, 0.82243604, 0.82243604, 0.8204048 , 0.8204048 ,\n",
       "       0.82040267, 0.82205568, 0.82217749, 0.82078302, 0.82331137,\n",
       "       0.66632676, 0.82078089, 0.82078089, 0.82283954, 0.82052661,\n",
       "       0.21052953, 0.82217963, 0.82217963, 0.82217963, 0.82078302,\n",
       "       0.82283954, 0.82078089, 0.12569681, 0.82245918, 0.82283954,\n",
       "       0.82217963, 0.82217963, 0.12570702, 0.82283954, 0.82243391,\n",
       "       0.82283954, 0.82243604, 0.82243391, 0.82243604, 0.82040267,\n",
       "       0.82283741, 0.82283741, 0.82245918, 0.82245918, 0.82283954,\n",
       "       0.82283954, 0.82283954, 0.82283741, 0.82078302, 0.50224319,\n",
       "       0.82283954, 0.82283954, 0.82283741, 0.82283954, 0.82283954,\n",
       "       0.82246131, 0.82246131, 0.82078302, 0.82283954, 0.82078302,\n",
       "       0.82482375, 0.82283741, 0.82283954, 0.82246131, 0.82283741,\n",
       "       0.82052448, 0.82283741, 0.82078089, 0.82283741, 0.82283741,\n",
       "       0.21053617, 0.82217963, 0.82243604, 0.82283741, 0.82283954,\n",
       "       0.82283741, 0.12570702, 0.82246131, 0.82283954, 0.82283954,\n",
       "       0.82283954, 0.82283741, 0.82283954, 0.82283741, 0.82283954,\n",
       "       0.82283741, 0.82078302, 0.82078302, 0.82078302, 0.82246131,\n",
       "       0.82283954, 0.82283954, 0.82283741, 0.82283741, 0.82283741,\n",
       "       0.82078302, 0.12573375, 0.12570753, 0.82283741, 0.12570161,\n",
       "       0.82283954, 0.82246131, 0.82283954, 0.12571295, 0.82078089,\n",
       "       0.82245918, 0.82246131, 0.82283741, 0.12570753, 0.82283954,\n",
       "       0.82283954, 0.12571295, 0.82283741, 0.12571295, 0.82283954,\n",
       "       0.82283954, 0.82239115, 0.82283954, 0.82283954, 0.82283954,\n",
       "       0.82283954, 0.82283741, 0.12571295, 0.82283741, 0.82283741,\n",
       "       0.82283741, 0.82283741, 0.82283954, 0.82245918, 0.82283954,\n",
       "       0.82283954, 0.82283741, 0.82283741, 0.82245918, 0.82283954,\n",
       "       0.82283954, 0.82283954, 0.12571295, 0.12570753, 0.82283954,\n",
       "       0.82283954, 0.82283741, 0.82245918, 0.82245918, 0.82283954,\n",
       "       0.82283741, 0.82283741, 0.82283954, 0.82283741, 0.82245918,\n",
       "       0.82283741, 0.82283954, 0.82305496, 0.82283741, 0.82331137,\n",
       "       0.82283741, 0.82293315, 0.66605106, 0.82283954, 0.82078302,\n",
       "       0.82331137, 0.12569681])"
      ]
     },
     "execution_count": 100,
     "metadata": {},
     "output_type": "execute_result"
    }
   ],
   "source": [
    "# Prediction\n",
    "pred = model.predict(test)\n",
    "pred"
   ]
  },
  {
   "cell_type": "code",
   "execution_count": 101,
   "id": "3839ad94",
   "metadata": {},
   "outputs": [
    {
     "data": {
      "text/plain": [
       "762"
      ]
     },
     "execution_count": 101,
     "metadata": {},
     "output_type": "execute_result"
    }
   ],
   "source": [
    "len(pred)"
   ]
  },
  {
   "cell_type": "markdown",
   "id": "6ca9b23c",
   "metadata": {},
   "source": [
    "# Submission"
   ]
  },
  {
   "cell_type": "code",
   "execution_count": 102,
   "id": "d8da986b",
   "metadata": {},
   "outputs": [],
   "source": [
    "submission=pd.read_csv(\"sample_submission_LJ2N3ZQ.csv\")"
   ]
  },
  {
   "cell_type": "code",
   "execution_count": 104,
   "id": "717bf9c6",
   "metadata": {},
   "outputs": [],
   "source": [
    "submission['click_rate']=pred\n",
    "submission['campaign_id']=test['campaign_id']"
   ]
  },
  {
   "cell_type": "code",
   "execution_count": 105,
   "id": "d0285fdf",
   "metadata": {},
   "outputs": [],
   "source": [
    "# Creating DataFrame\n",
    "pd.DataFrame(submission, columns=['campaign_id','click_rate']).to_csv('email_click_rate.csv')"
   ]
  },
  {
   "cell_type": "markdown",
   "id": "2f58dc59",
   "metadata": {},
   "source": [
    "# Result"
   ]
  },
  {
   "cell_type": "code",
   "execution_count": 106,
   "id": "3b70734e",
   "metadata": {},
   "outputs": [
    {
     "data": {
      "text/html": [
       "<div>\n",
       "<style scoped>\n",
       "    .dataframe tbody tr th:only-of-type {\n",
       "        vertical-align: middle;\n",
       "    }\n",
       "\n",
       "    .dataframe tbody tr th {\n",
       "        vertical-align: top;\n",
       "    }\n",
       "\n",
       "    .dataframe thead th {\n",
       "        text-align: right;\n",
       "    }\n",
       "</style>\n",
       "<table border=\"1\" class=\"dataframe\">\n",
       "  <thead>\n",
       "    <tr style=\"text-align: right;\">\n",
       "      <th></th>\n",
       "      <th>Unnamed: 0</th>\n",
       "      <th>campaign_id</th>\n",
       "      <th>click_rate</th>\n",
       "    </tr>\n",
       "  </thead>\n",
       "  <tbody>\n",
       "    <tr>\n",
       "      <th>0</th>\n",
       "      <td>0</td>\n",
       "      <td>1889</td>\n",
       "      <td>0.822840</td>\n",
       "    </tr>\n",
       "    <tr>\n",
       "      <th>1</th>\n",
       "      <td>1</td>\n",
       "      <td>1890</td>\n",
       "      <td>0.823055</td>\n",
       "    </tr>\n",
       "    <tr>\n",
       "      <th>2</th>\n",
       "      <td>2</td>\n",
       "      <td>1891</td>\n",
       "      <td>0.823311</td>\n",
       "    </tr>\n",
       "    <tr>\n",
       "      <th>3</th>\n",
       "      <td>3</td>\n",
       "      <td>1892</td>\n",
       "      <td>0.823311</td>\n",
       "    </tr>\n",
       "    <tr>\n",
       "      <th>4</th>\n",
       "      <td>4</td>\n",
       "      <td>1893</td>\n",
       "      <td>0.820783</td>\n",
       "    </tr>\n",
       "  </tbody>\n",
       "</table>\n",
       "</div>"
      ],
      "text/plain": [
       "   Unnamed: 0  campaign_id  click_rate\n",
       "0           0         1889    0.822840\n",
       "1           1         1890    0.823055\n",
       "2           2         1891    0.823311\n",
       "3           3         1892    0.823311\n",
       "4           4         1893    0.820783"
      ]
     },
     "execution_count": 106,
     "metadata": {},
     "output_type": "execute_result"
    }
   ],
   "source": [
    "# result\n",
    "f=pd.read_csv('email_click_rate.csv')\n",
    "f.head()"
   ]
  },
  {
   "cell_type": "code",
   "execution_count": null,
   "id": "fda0ca2e",
   "metadata": {},
   "outputs": [],
   "source": []
  },
  {
   "cell_type": "code",
   "execution_count": null,
   "id": "8196ac2b",
   "metadata": {},
   "outputs": [],
   "source": []
  },
  {
   "cell_type": "code",
   "execution_count": null,
   "id": "b19f270a",
   "metadata": {},
   "outputs": [],
   "source": []
  }
 ],
 "metadata": {
  "kernelspec": {
   "display_name": "Python 3 (ipykernel)",
   "language": "python",
   "name": "python3"
  },
  "language_info": {
   "codemirror_mode": {
    "name": "ipython",
    "version": 3
   },
   "file_extension": ".py",
   "mimetype": "text/x-python",
   "name": "python",
   "nbconvert_exporter": "python",
   "pygments_lexer": "ipython3",
   "version": "3.8.13"
  }
 },
 "nbformat": 4,
 "nbformat_minor": 5
}
