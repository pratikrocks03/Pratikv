{
 "cells": [
  {
   "cell_type": "markdown",
   "id": "2a97fcff",
   "metadata": {},
   "source": [
    "# SBI Insurance Claim Prediction\n",
    "Problem Statement:\n",
    "SBI Life insurance Project\n",
    "\n",
    "This is \"SBI Insurance Claim Prediction Dataset\" which based on \"[Medical Cost Personal Datasets][1]\" to update sample value on top.\n",
    "\n",
    "The features of the dataset includes:\n",
    "\n",
    "1) age : age of policyholder \n",
    "\n",
    "2) sex: gender of policy holder (female=0, male=1) \n",
    "\n",
    "3) bmi: Body mass index, providing an understanding of body, weights that are relatively high or low relative to height, objective index of body weight (kg / m ^ 2) using the ratio of height to weight, ideally 18.5 to 25 \n",
    "\n",
    "4) steps: average walking steps per day of policyholder \n",
    "\n",
    "5) children: number of children / dependents of policyholder \n",
    "\n",
    "6) smoker: smoking state of policyholder (non-smoke=0;smoker=1) \n",
    "\n",
    "7) region: the residential area of policyholder in the US (northeast=0, northwest=1, southeast=2, southwest=3) \n",
    "\n",
    "8) charges: individual medical costs billed by health insurance \n",
    "\n",
    "9) insuranceclaim: yes=1, no=0\n",
    "\n"
   ]
  },
  {
   "cell_type": "markdown",
   "id": "cb36aee2",
   "metadata": {},
   "source": [
    "# Importing Libraries"
   ]
  },
  {
   "cell_type": "code",
   "execution_count": 1,
   "id": "ba50c063",
   "metadata": {},
   "outputs": [],
   "source": [
    "import pandas as pd\n",
    "import numpy as  np\n",
    "import seaborn as sns\n",
    "import matplotlib.pyplot as plt\n",
    "import warnings\n",
    "warnings.filterwarnings('ignore')"
   ]
  },
  {
   "cell_type": "markdown",
   "id": "7888c255",
   "metadata": {},
   "source": [
    "# Loading the dataset"
   ]
  },
  {
   "cell_type": "code",
   "execution_count": 2,
   "id": "176b400d",
   "metadata": {},
   "outputs": [
    {
     "data": {
      "text/html": [
       "<div>\n",
       "<style scoped>\n",
       "    .dataframe tbody tr th:only-of-type {\n",
       "        vertical-align: middle;\n",
       "    }\n",
       "\n",
       "    .dataframe tbody tr th {\n",
       "        vertical-align: top;\n",
       "    }\n",
       "\n",
       "    .dataframe thead th {\n",
       "        text-align: right;\n",
       "    }\n",
       "</style>\n",
       "<table border=\"1\" class=\"dataframe\">\n",
       "  <thead>\n",
       "    <tr style=\"text-align: right;\">\n",
       "      <th></th>\n",
       "      <th>age</th>\n",
       "      <th>sex</th>\n",
       "      <th>bmi</th>\n",
       "      <th>children</th>\n",
       "      <th>smoker</th>\n",
       "      <th>region</th>\n",
       "      <th>charges</th>\n",
       "      <th>insuranceclaim</th>\n",
       "    </tr>\n",
       "  </thead>\n",
       "  <tbody>\n",
       "    <tr>\n",
       "      <th>0</th>\n",
       "      <td>19</td>\n",
       "      <td>0</td>\n",
       "      <td>27.900</td>\n",
       "      <td>0</td>\n",
       "      <td>1</td>\n",
       "      <td>3</td>\n",
       "      <td>16884.92400</td>\n",
       "      <td>1</td>\n",
       "    </tr>\n",
       "    <tr>\n",
       "      <th>1</th>\n",
       "      <td>18</td>\n",
       "      <td>1</td>\n",
       "      <td>33.770</td>\n",
       "      <td>1</td>\n",
       "      <td>0</td>\n",
       "      <td>2</td>\n",
       "      <td>1725.55230</td>\n",
       "      <td>1</td>\n",
       "    </tr>\n",
       "    <tr>\n",
       "      <th>2</th>\n",
       "      <td>28</td>\n",
       "      <td>1</td>\n",
       "      <td>33.000</td>\n",
       "      <td>3</td>\n",
       "      <td>0</td>\n",
       "      <td>2</td>\n",
       "      <td>4449.46200</td>\n",
       "      <td>0</td>\n",
       "    </tr>\n",
       "    <tr>\n",
       "      <th>3</th>\n",
       "      <td>33</td>\n",
       "      <td>1</td>\n",
       "      <td>22.705</td>\n",
       "      <td>0</td>\n",
       "      <td>0</td>\n",
       "      <td>1</td>\n",
       "      <td>21984.47061</td>\n",
       "      <td>0</td>\n",
       "    </tr>\n",
       "    <tr>\n",
       "      <th>4</th>\n",
       "      <td>32</td>\n",
       "      <td>1</td>\n",
       "      <td>28.880</td>\n",
       "      <td>0</td>\n",
       "      <td>0</td>\n",
       "      <td>1</td>\n",
       "      <td>3866.85520</td>\n",
       "      <td>1</td>\n",
       "    </tr>\n",
       "  </tbody>\n",
       "</table>\n",
       "</div>"
      ],
      "text/plain": [
       "   age  sex     bmi  children  smoker  region      charges  insuranceclaim\n",
       "0   19    0  27.900         0       1       3  16884.92400               1\n",
       "1   18    1  33.770         1       0       2   1725.55230               1\n",
       "2   28    1  33.000         3       0       2   4449.46200               0\n",
       "3   33    1  22.705         0       0       1  21984.47061               0\n",
       "4   32    1  28.880         0       0       1   3866.85520               1"
      ]
     },
     "execution_count": 2,
     "metadata": {},
     "output_type": "execute_result"
    }
   ],
   "source": [
    "df=pd.read_csv('sbi_insurance.csv')\n",
    "df.head()"
   ]
  },
  {
   "cell_type": "markdown",
   "id": "f55d94aa",
   "metadata": {},
   "source": [
    "Top 5 heads of the dataset."
   ]
  },
  {
   "cell_type": "code",
   "execution_count": 4,
   "id": "03e72719",
   "metadata": {},
   "outputs": [
    {
     "data": {
      "text/html": [
       "<div>\n",
       "<style scoped>\n",
       "    .dataframe tbody tr th:only-of-type {\n",
       "        vertical-align: middle;\n",
       "    }\n",
       "\n",
       "    .dataframe tbody tr th {\n",
       "        vertical-align: top;\n",
       "    }\n",
       "\n",
       "    .dataframe thead th {\n",
       "        text-align: right;\n",
       "    }\n",
       "</style>\n",
       "<table border=\"1\" class=\"dataframe\">\n",
       "  <thead>\n",
       "    <tr style=\"text-align: right;\">\n",
       "      <th></th>\n",
       "      <th>age</th>\n",
       "      <th>sex</th>\n",
       "      <th>bmi</th>\n",
       "      <th>children</th>\n",
       "      <th>smoker</th>\n",
       "      <th>region</th>\n",
       "      <th>charges</th>\n",
       "      <th>insuranceclaim</th>\n",
       "    </tr>\n",
       "  </thead>\n",
       "  <tbody>\n",
       "    <tr>\n",
       "      <th>1333</th>\n",
       "      <td>50</td>\n",
       "      <td>1</td>\n",
       "      <td>30.97</td>\n",
       "      <td>3</td>\n",
       "      <td>0</td>\n",
       "      <td>1</td>\n",
       "      <td>10600.5483</td>\n",
       "      <td>0</td>\n",
       "    </tr>\n",
       "    <tr>\n",
       "      <th>1334</th>\n",
       "      <td>18</td>\n",
       "      <td>0</td>\n",
       "      <td>31.92</td>\n",
       "      <td>0</td>\n",
       "      <td>0</td>\n",
       "      <td>0</td>\n",
       "      <td>2205.9808</td>\n",
       "      <td>1</td>\n",
       "    </tr>\n",
       "    <tr>\n",
       "      <th>1335</th>\n",
       "      <td>18</td>\n",
       "      <td>0</td>\n",
       "      <td>36.85</td>\n",
       "      <td>0</td>\n",
       "      <td>0</td>\n",
       "      <td>2</td>\n",
       "      <td>1629.8335</td>\n",
       "      <td>1</td>\n",
       "    </tr>\n",
       "    <tr>\n",
       "      <th>1336</th>\n",
       "      <td>21</td>\n",
       "      <td>0</td>\n",
       "      <td>25.80</td>\n",
       "      <td>0</td>\n",
       "      <td>0</td>\n",
       "      <td>3</td>\n",
       "      <td>2007.9450</td>\n",
       "      <td>0</td>\n",
       "    </tr>\n",
       "    <tr>\n",
       "      <th>1337</th>\n",
       "      <td>61</td>\n",
       "      <td>0</td>\n",
       "      <td>29.07</td>\n",
       "      <td>0</td>\n",
       "      <td>1</td>\n",
       "      <td>1</td>\n",
       "      <td>29141.3603</td>\n",
       "      <td>1</td>\n",
       "    </tr>\n",
       "  </tbody>\n",
       "</table>\n",
       "</div>"
      ],
      "text/plain": [
       "      age  sex    bmi  children  smoker  region     charges  insuranceclaim\n",
       "1333   50    1  30.97         3       0       1  10600.5483               0\n",
       "1334   18    0  31.92         0       0       0   2205.9808               1\n",
       "1335   18    0  36.85         0       0       2   1629.8335               1\n",
       "1336   21    0  25.80         0       0       3   2007.9450               0\n",
       "1337   61    0  29.07         0       1       1  29141.3603               1"
      ]
     },
     "execution_count": 4,
     "metadata": {},
     "output_type": "execute_result"
    }
   ],
   "source": [
    "df.tail()"
   ]
  },
  {
   "cell_type": "markdown",
   "id": "49a1099a",
   "metadata": {},
   "source": [
    "# EDA"
   ]
  },
  {
   "cell_type": "code",
   "execution_count": 6,
   "id": "b66fbd25",
   "metadata": {},
   "outputs": [
    {
     "data": {
      "text/plain": [
       "(1338, 8)"
      ]
     },
     "execution_count": 6,
     "metadata": {},
     "output_type": "execute_result"
    }
   ],
   "source": [
    "# checking shape\n",
    "df.shape"
   ]
  },
  {
   "cell_type": "markdown",
   "id": "dc2425a6",
   "metadata": {},
   "source": [
    "We have 1338 rows and 8 columns in the dataset. "
   ]
  },
  {
   "cell_type": "code",
   "execution_count": 7,
   "id": "bb239699",
   "metadata": {},
   "outputs": [
    {
     "name": "stdout",
     "output_type": "stream",
     "text": [
      "<class 'pandas.core.frame.DataFrame'>\n",
      "RangeIndex: 1338 entries, 0 to 1337\n",
      "Data columns (total 8 columns):\n",
      " #   Column          Non-Null Count  Dtype  \n",
      "---  ------          --------------  -----  \n",
      " 0   age             1338 non-null   int64  \n",
      " 1   sex             1338 non-null   int64  \n",
      " 2   bmi             1338 non-null   float64\n",
      " 3   children        1338 non-null   int64  \n",
      " 4   smoker          1338 non-null   int64  \n",
      " 5   region          1338 non-null   int64  \n",
      " 6   charges         1338 non-null   float64\n",
      " 7   insuranceclaim  1338 non-null   int64  \n",
      "dtypes: float64(2), int64(6)\n",
      "memory usage: 83.8 KB\n"
     ]
    }
   ],
   "source": [
    "# checking data type\n",
    "df.info()"
   ]
  },
  {
   "cell_type": "markdown",
   "id": "9b891afd",
   "metadata": {},
   "source": [
    "2 float data type and 6 integer data type columns are present in the dataset."
   ]
  },
  {
   "cell_type": "code",
   "execution_count": 8,
   "id": "ece2af19",
   "metadata": {},
   "outputs": [
    {
     "data": {
      "text/plain": [
       "age               0\n",
       "sex               0\n",
       "bmi               0\n",
       "children          0\n",
       "smoker            0\n",
       "region            0\n",
       "charges           0\n",
       "insuranceclaim    0\n",
       "dtype: int64"
      ]
     },
     "execution_count": 8,
     "metadata": {},
     "output_type": "execute_result"
    }
   ],
   "source": [
    "# checking null values\n",
    "df.isnull().sum()"
   ]
  },
  {
   "cell_type": "markdown",
   "id": "3b3ae1c3",
   "metadata": {},
   "source": [
    "No null values present in the dataset."
   ]
  },
  {
   "cell_type": "markdown",
   "id": "696b6945",
   "metadata": {},
   "source": [
    "# Visualization of nominal data"
   ]
  },
  {
   "cell_type": "code",
   "execution_count": 10,
   "id": "52bde74b",
   "metadata": {},
   "outputs": [
    {
     "name": "stdout",
     "output_type": "stream",
     "text": [
      "1    676\n",
      "0    662\n",
      "Name: sex, dtype: int64\n"
     ]
    },
    {
     "data": {
      "image/png": "[encoded data removed]",
      "text/plain": [
       "<Figure size 432x288 with 1 Axes>"
      ]
     },
     "metadata": {
      "needs_background": "light"
     },
     "output_type": "display_data"
    }
   ],
   "source": [
    "ax=sns.countplot(df['sex'])\n",
    "print(df['sex'].value_counts())"
   ]
  },
  {
   "cell_type": "markdown",
   "id": "1483e49c",
   "metadata": {},
   "source": [
    "0 is indiacting male and 1 is indicating female, and there is not much diffrence between male and female."
   ]
  },
  {
   "cell_type": "code",
   "execution_count": null,
   "id": "a97af5cd",
   "metadata": {},
   "outputs": [],
   "source": []
  },
  {
   "cell_type": "code",
   "execution_count": 12,
   "id": "053a9a37",
   "metadata": {},
   "outputs": [
    {
     "name": "stdout",
     "output_type": "stream",
     "text": [
      "0    574\n",
      "1    324\n",
      "2    240\n",
      "3    157\n",
      "4     25\n",
      "5     18\n",
      "Name: children, dtype: int64\n"
     ]
    },
    {
     "data": {
      "image/png": "[encoded data removed]",
      "text/plain": [
       "<Figure size 432x288 with 1 Axes>"
      ]
     },
     "metadata": {
      "needs_background": "light"
     },
     "output_type": "display_data"
    }
   ],
   "source": [
    "ax=sns.countplot(df['children'])\n",
    "print(df['children'].value_counts())"
   ]
  },
  {
   "cell_type": "markdown",
   "id": "fe067f79",
   "metadata": {},
   "source": [
    "Persons having no children is more , persons having 5 children are 18."
   ]
  },
  {
   "cell_type": "code",
   "execution_count": null,
   "id": "dc2ccf49",
   "metadata": {},
   "outputs": [],
   "source": []
  },
  {
   "cell_type": "code",
   "execution_count": 13,
   "id": "2b46cd61",
   "metadata": {},
   "outputs": [
    {
     "name": "stdout",
     "output_type": "stream",
     "text": [
      "0    1064\n",
      "1     274\n",
      "Name: smoker, dtype: int64\n"
     ]
    },
    {
     "data": {
      "image/png": "[encoded data removed]",
      "text/plain": [
       "<Figure size 432x288 with 1 Axes>"
      ]
     },
     "metadata": {
      "needs_background": "light"
     },
     "output_type": "display_data"
    }
   ],
   "source": [
    "ax=sns.countplot(df['smoker'])\n",
    "print(df['smoker'].value_counts())"
   ]
  },
  {
   "cell_type": "markdown",
   "id": "3909a884",
   "metadata": {},
   "source": [
    "Non-smokers are more than smokers. very little smokers are present in comparison with non-smoker."
   ]
  },
  {
   "cell_type": "code",
   "execution_count": null,
   "id": "a55e2a6e",
   "metadata": {},
   "outputs": [],
   "source": []
  },
  {
   "cell_type": "code",
   "execution_count": 14,
   "id": "7f922c7b",
   "metadata": {},
   "outputs": [
    {
     "name": "stdout",
     "output_type": "stream",
     "text": [
      "2    364\n",
      "1    325\n",
      "3    325\n",
      "0    324\n",
      "Name: region, dtype: int64\n"
     ]
    },
    {
     "data": {
      "image/png": "[encoded data removed]",
      "text/plain": [
       "<Figure size 432x288 with 1 Axes>"
      ]
     },
     "metadata": {
      "needs_background": "light"
     },
     "output_type": "display_data"
    }
   ],
   "source": [
    "ax=sns.countplot(df['region'])\n",
    "print(df['region'].value_counts())"
   ]
  },
  {
   "cell_type": "markdown",
   "id": "965a6620",
   "metadata": {},
   "source": [
    "0, 1, 2 and 3 is indicating some regions ,and there is not much difference between them."
   ]
  },
  {
   "cell_type": "code",
   "execution_count": null,
   "id": "4e56c36c",
   "metadata": {},
   "outputs": [],
   "source": []
  },
  {
   "cell_type": "code",
   "execution_count": 15,
   "id": "ebe73920",
   "metadata": {},
   "outputs": [
    {
     "name": "stdout",
     "output_type": "stream",
     "text": [
      "1    783\n",
      "0    555\n",
      "Name: insuranceclaim, dtype: int64\n"
     ]
    },
    {
     "data": {
      "image/png": "[encoded data removed]",
      "text/plain": [
       "<Figure size 432x288 with 1 Axes>"
      ]
     },
     "metadata": {
      "needs_background": "light"
     },
     "output_type": "display_data"
    }
   ],
   "source": [
    "ax=sns.countplot(df['insuranceclaim'])\n",
    "print(df['insuranceclaim'].value_counts())"
   ]
  },
  {
   "cell_type": "markdown",
   "id": "3de94c78",
   "metadata": {},
   "source": [
    "persons with insuranceclaim is more than person not insuranceclaim."
   ]
  },
  {
   "cell_type": "code",
   "execution_count": null,
   "id": "17021b23",
   "metadata": {},
   "outputs": [],
   "source": []
  },
  {
   "cell_type": "markdown",
   "id": "f9196f23",
   "metadata": {},
   "source": [
    "# Visualization of integer data"
   ]
  },
  {
   "cell_type": "code",
   "execution_count": 17,
   "id": "5a8b146e",
   "metadata": {},
   "outputs": [
    {
     "data": {
      "text/plain": [
       "<AxesSubplot:xlabel='age', ylabel='Density'>"
      ]
     },
     "execution_count": 17,
     "metadata": {},
     "output_type": "execute_result"
    },
    {
     "data": {
      "image/png": "[encoded data removed]",
      "text/plain": [
       "<Figure size 432x288 with 1 Axes>"
      ]
     },
     "metadata": {
      "needs_background": "light"
     },
     "output_type": "display_data"
    }
   ],
   "source": [
    "sns.distplot(df['age'],kde=True)"
   ]
  },
  {
   "cell_type": "markdown",
   "id": "1b330675",
   "metadata": {},
   "source": [
    "age column is looking normal and its range in between approx 20 to approx 65."
   ]
  },
  {
   "cell_type": "code",
   "execution_count": null,
   "id": "612b1072",
   "metadata": {},
   "outputs": [],
   "source": []
  },
  {
   "cell_type": "code",
   "execution_count": 18,
   "id": "a3cde195",
   "metadata": {},
   "outputs": [
    {
     "data": {
      "text/plain": [
       "<AxesSubplot:xlabel='bmi', ylabel='Density'>"
      ]
     },
     "execution_count": 18,
     "metadata": {},
     "output_type": "execute_result"
    },
    {
     "data": {
      "image/png": "[encoded data removed]",
      "text/plain": [
       "<Figure size 432x288 with 1 Axes>"
      ]
     },
     "metadata": {
      "needs_background": "light"
     },
     "output_type": "display_data"
    }
   ],
   "source": [
    "sns.distplot(df['bmi'],kde=True)"
   ]
  },
  {
   "cell_type": "markdown",
   "id": "4b740f6a",
   "metadata": {},
   "source": [
    "bmi is looking normal ranges in between 10 to 50."
   ]
  },
  {
   "cell_type": "code",
   "execution_count": null,
   "id": "ffff8fc3",
   "metadata": {},
   "outputs": [],
   "source": []
  },
  {
   "cell_type": "code",
   "execution_count": 19,
   "id": "4e6bfbc6",
   "metadata": {},
   "outputs": [
    {
     "data": {
      "text/plain": [
       "<AxesSubplot:xlabel='charges', ylabel='Density'>"
      ]
     },
     "execution_count": 19,
     "metadata": {},
     "output_type": "execute_result"
    },
    {
     "data": {
      "image/png": "[encoded data removed]",
      "text/plain": [
       "<Figure size 432x288 with 1 Axes>"
      ]
     },
     "metadata": {
      "needs_background": "light"
     },
     "output_type": "display_data"
    }
   ],
   "source": [
    "sns.distplot(df['charges'],kde=True)"
   ]
  },
  {
   "cell_type": "markdown",
   "id": "6d437acc",
   "metadata": {},
   "source": [
    "Charges column is not looking normal it is bit left skewed."
   ]
  },
  {
   "cell_type": "code",
   "execution_count": null,
   "id": "883b0288",
   "metadata": {},
   "outputs": [],
   "source": []
  },
  {
   "cell_type": "markdown",
   "id": "4d64ef73",
   "metadata": {},
   "source": [
    "# Checking outliers"
   ]
  },
  {
   "cell_type": "code",
   "execution_count": 26,
   "id": "d758003d",
   "metadata": {},
   "outputs": [
    {
     "data": {
      "text/plain": [
       "age                   AxesSubplot(0.125,0.71587;0.227941x0.16413)\n",
       "sex                AxesSubplot(0.398529,0.71587;0.227941x0.16413)\n",
       "bmi                AxesSubplot(0.672059,0.71587;0.227941x0.16413)\n",
       "children             AxesSubplot(0.125,0.518913;0.227941x0.16413)\n",
       "smoker            AxesSubplot(0.398529,0.518913;0.227941x0.16413)\n",
       "region            AxesSubplot(0.672059,0.518913;0.227941x0.16413)\n",
       "charges              AxesSubplot(0.125,0.321957;0.227941x0.16413)\n",
       "insuranceclaim    AxesSubplot(0.398529,0.321957;0.227941x0.16413)\n",
       "dtype: object"
      ]
     },
     "execution_count": 26,
     "metadata": {},
     "output_type": "execute_result"
    },
    {
     "data": {
      "image/png": "[encoded data removed]",
      "text/plain": [
       "<Figure size 1080x576 with 12 Axes>"
      ]
     },
     "metadata": {
      "needs_background": "light"
     },
     "output_type": "display_data"
    }
   ],
   "source": [
    "df.plot(kind='box',subplots=True, layout=(4,3), figsize=(15,8))"
   ]
  },
  {
   "cell_type": "markdown",
   "id": "dbb334be",
   "metadata": {},
   "source": [
    "Outliers are presnent in bmi, charges and smoker column."
   ]
  },
  {
   "cell_type": "markdown",
   "id": "0a61c0e6",
   "metadata": {},
   "source": [
    "# checking skewness"
   ]
  },
  {
   "cell_type": "code",
   "execution_count": 27,
   "id": "16af638e",
   "metadata": {},
   "outputs": [
    {
     "data": {
      "text/plain": [
       "age               0.055673\n",
       "sex              -0.020951\n",
       "bmi               0.284047\n",
       "children          0.938380\n",
       "smoker            1.464766\n",
       "region           -0.038101\n",
       "charges           1.515880\n",
       "insuranceclaim   -0.346254\n",
       "dtype: float64"
      ]
     },
     "execution_count": 27,
     "metadata": {},
     "output_type": "execute_result"
    }
   ],
   "source": [
    "df.skew()"
   ]
  },
  {
   "cell_type": "markdown",
   "id": "671cbc49",
   "metadata": {},
   "source": [
    "Data is not much skewed , so we will not remove skewness."
   ]
  },
  {
   "cell_type": "markdown",
   "id": "676e566c",
   "metadata": {},
   "source": [
    "# Statistical summary"
   ]
  },
  {
   "cell_type": "code",
   "execution_count": 29,
   "id": "af6b80cc",
   "metadata": {},
   "outputs": [
    {
     "data": {
      "text/html": [
       "<div>\n",
       "<style scoped>\n",
       "    .dataframe tbody tr th:only-of-type {\n",
       "        vertical-align: middle;\n",
       "    }\n",
       "\n",
       "    .dataframe tbody tr th {\n",
       "        vertical-align: top;\n",
       "    }\n",
       "\n",
       "    .dataframe thead th {\n",
       "        text-align: right;\n",
       "    }\n",
       "</style>\n",
       "<table border=\"1\" class=\"dataframe\">\n",
       "  <thead>\n",
       "    <tr style=\"text-align: right;\">\n",
       "      <th></th>\n",
       "      <th>age</th>\n",
       "      <th>sex</th>\n",
       "      <th>bmi</th>\n",
       "      <th>children</th>\n",
       "      <th>smoker</th>\n",
       "      <th>region</th>\n",
       "      <th>charges</th>\n",
       "      <th>insuranceclaim</th>\n",
       "    </tr>\n",
       "  </thead>\n",
       "  <tbody>\n",
       "    <tr>\n",
       "      <th>count</th>\n",
       "      <td>1338.000000</td>\n",
       "      <td>1338.000000</td>\n",
       "      <td>1338.000000</td>\n",
       "      <td>1338.000000</td>\n",
       "      <td>1338.000000</td>\n",
       "      <td>1338.000000</td>\n",
       "      <td>1338.000000</td>\n",
       "      <td>1338.000000</td>\n",
       "    </tr>\n",
       "    <tr>\n",
       "      <th>mean</th>\n",
       "      <td>39.207025</td>\n",
       "      <td>0.505232</td>\n",
       "      <td>30.663397</td>\n",
       "      <td>1.094918</td>\n",
       "      <td>0.204783</td>\n",
       "      <td>1.515695</td>\n",
       "      <td>13270.422265</td>\n",
       "      <td>0.585202</td>\n",
       "    </tr>\n",
       "    <tr>\n",
       "      <th>std</th>\n",
       "      <td>14.049960</td>\n",
       "      <td>0.500160</td>\n",
       "      <td>6.098187</td>\n",
       "      <td>1.205493</td>\n",
       "      <td>0.403694</td>\n",
       "      <td>1.104885</td>\n",
       "      <td>12110.011237</td>\n",
       "      <td>0.492871</td>\n",
       "    </tr>\n",
       "    <tr>\n",
       "      <th>min</th>\n",
       "      <td>18.000000</td>\n",
       "      <td>0.000000</td>\n",
       "      <td>15.960000</td>\n",
       "      <td>0.000000</td>\n",
       "      <td>0.000000</td>\n",
       "      <td>0.000000</td>\n",
       "      <td>1121.873900</td>\n",
       "      <td>0.000000</td>\n",
       "    </tr>\n",
       "    <tr>\n",
       "      <th>25%</th>\n",
       "      <td>27.000000</td>\n",
       "      <td>0.000000</td>\n",
       "      <td>26.296250</td>\n",
       "      <td>0.000000</td>\n",
       "      <td>0.000000</td>\n",
       "      <td>1.000000</td>\n",
       "      <td>4740.287150</td>\n",
       "      <td>0.000000</td>\n",
       "    </tr>\n",
       "    <tr>\n",
       "      <th>50%</th>\n",
       "      <td>39.000000</td>\n",
       "      <td>1.000000</td>\n",
       "      <td>30.400000</td>\n",
       "      <td>1.000000</td>\n",
       "      <td>0.000000</td>\n",
       "      <td>2.000000</td>\n",
       "      <td>9382.033000</td>\n",
       "      <td>1.000000</td>\n",
       "    </tr>\n",
       "    <tr>\n",
       "      <th>75%</th>\n",
       "      <td>51.000000</td>\n",
       "      <td>1.000000</td>\n",
       "      <td>34.693750</td>\n",
       "      <td>2.000000</td>\n",
       "      <td>0.000000</td>\n",
       "      <td>2.000000</td>\n",
       "      <td>16639.912515</td>\n",
       "      <td>1.000000</td>\n",
       "    </tr>\n",
       "    <tr>\n",
       "      <th>max</th>\n",
       "      <td>64.000000</td>\n",
       "      <td>1.000000</td>\n",
       "      <td>53.130000</td>\n",
       "      <td>5.000000</td>\n",
       "      <td>1.000000</td>\n",
       "      <td>3.000000</td>\n",
       "      <td>63770.428010</td>\n",
       "      <td>1.000000</td>\n",
       "    </tr>\n",
       "  </tbody>\n",
       "</table>\n",
       "</div>"
      ],
      "text/plain": [
       "               age          sex          bmi     children       smoker  \\\n",
       "count  1338.000000  1338.000000  1338.000000  1338.000000  1338.000000   \n",
       "mean     39.207025     0.505232    30.663397     1.094918     0.204783   \n",
       "std      14.049960     0.500160     6.098187     1.205493     0.403694   \n",
       "min      18.000000     0.000000    15.960000     0.000000     0.000000   \n",
       "25%      27.000000     0.000000    26.296250     0.000000     0.000000   \n",
       "50%      39.000000     1.000000    30.400000     1.000000     0.000000   \n",
       "75%      51.000000     1.000000    34.693750     2.000000     0.000000   \n",
       "max      64.000000     1.000000    53.130000     5.000000     1.000000   \n",
       "\n",
       "            region       charges  insuranceclaim  \n",
       "count  1338.000000   1338.000000     1338.000000  \n",
       "mean      1.515695  13270.422265        0.585202  \n",
       "std       1.104885  12110.011237        0.492871  \n",
       "min       0.000000   1121.873900        0.000000  \n",
       "25%       1.000000   4740.287150        0.000000  \n",
       "50%       2.000000   9382.033000        1.000000  \n",
       "75%       2.000000  16639.912515        1.000000  \n",
       "max       3.000000  63770.428010        1.000000  "
      ]
     },
     "execution_count": 29,
     "metadata": {},
     "output_type": "execute_result"
    }
   ],
   "source": [
    "df.describe()"
   ]
  },
  {
   "cell_type": "markdown",
   "id": "c5869cdb",
   "metadata": {},
   "source": [
    "Number of values is same in all the columns.\n",
    "\n",
    "There is some difference between mean and median in charges column.\n",
    "\n",
    "There is also some differnce between 75% and max in charges column."
   ]
  },
  {
   "cell_type": "markdown",
   "id": "1db18a04",
   "metadata": {},
   "source": [
    "# Checking Correlations"
   ]
  },
  {
   "cell_type": "code",
   "execution_count": 30,
   "id": "26cd1ac9",
   "metadata": {},
   "outputs": [
    {
     "data": {
      "text/plain": [
       "<AxesSubplot:>"
      ]
     },
     "execution_count": 30,
     "metadata": {},
     "output_type": "execute_result"
    },
    {
     "data": {
      "image/png": "[encoded data removed]",
      "text/plain": [
       "<Figure size 1584x864 with 2 Axes>"
      ]
     },
     "metadata": {
      "needs_background": "light"
     },
     "output_type": "display_data"
    }
   ],
   "source": [
    "plt.figure(figsize=(22,12))\n",
    "sns.heatmap(df.corr(),annot=True,linewidths =0.1,fmt='0.2f')"
   ]
  },
  {
   "cell_type": "markdown",
   "id": "a7a01161",
   "metadata": {},
   "source": [
    "Target insuranceclaim is negatively correlated with children column.\n",
    "\n",
    "there is some positive correlation between bmi and  insuranceclaim."
   ]
  },
  {
   "cell_type": "markdown",
   "id": "8c71e6fd",
   "metadata": {},
   "source": [
    "# Removing outliers"
   ]
  },
  {
   "cell_type": "code",
   "execution_count": 3,
   "id": "bb636b55",
   "metadata": {},
   "outputs": [],
   "source": [
    "from scipy.stats import zscore"
   ]
  },
  {
   "cell_type": "code",
   "execution_count": 4,
   "id": "455cee1c",
   "metadata": {},
   "outputs": [
    {
     "data": {
      "text/plain": [
       "(array([  32,   34,   71,  116,  166,  413,  425,  438,  543,  568,  577,\n",
       "         640,  819,  847,  877,  932,  937,  969,  984, 1047, 1085, 1116,\n",
       "        1130, 1146, 1230, 1245, 1272, 1300, 1317], dtype=int64),\n",
       " array([3, 6, 3, 2, 3, 3, 3, 3, 6, 3, 6, 3, 6, 2, 3, 3, 3, 3, 3, 2, 3, 3,\n",
       "        3, 6, 6, 3, 3, 6, 2], dtype=int64))"
      ]
     },
     "execution_count": 4,
     "metadata": {},
     "output_type": "execute_result"
    }
   ],
   "source": [
    "z=np.abs(zscore(df))\n",
    "threshold=3\n",
    "np.where(z>3)"
   ]
  },
  {
   "cell_type": "code",
   "execution_count": 5,
   "id": "8462cd5a",
   "metadata": {},
   "outputs": [
    {
     "data": {
      "text/html": [
       "<div>\n",
       "<style scoped>\n",
       "    .dataframe tbody tr th:only-of-type {\n",
       "        vertical-align: middle;\n",
       "    }\n",
       "\n",
       "    .dataframe tbody tr th {\n",
       "        vertical-align: top;\n",
       "    }\n",
       "\n",
       "    .dataframe thead th {\n",
       "        text-align: right;\n",
       "    }\n",
       "</style>\n",
       "<table border=\"1\" class=\"dataframe\">\n",
       "  <thead>\n",
       "    <tr style=\"text-align: right;\">\n",
       "      <th></th>\n",
       "      <th>age</th>\n",
       "      <th>sex</th>\n",
       "      <th>bmi</th>\n",
       "      <th>children</th>\n",
       "      <th>smoker</th>\n",
       "      <th>region</th>\n",
       "      <th>charges</th>\n",
       "      <th>insuranceclaim</th>\n",
       "    </tr>\n",
       "  </thead>\n",
       "  <tbody>\n",
       "    <tr>\n",
       "      <th>0</th>\n",
       "      <td>19</td>\n",
       "      <td>0</td>\n",
       "      <td>27.900</td>\n",
       "      <td>0</td>\n",
       "      <td>1</td>\n",
       "      <td>3</td>\n",
       "      <td>16884.92400</td>\n",
       "      <td>1</td>\n",
       "    </tr>\n",
       "    <tr>\n",
       "      <th>1</th>\n",
       "      <td>18</td>\n",
       "      <td>1</td>\n",
       "      <td>33.770</td>\n",
       "      <td>1</td>\n",
       "      <td>0</td>\n",
       "      <td>2</td>\n",
       "      <td>1725.55230</td>\n",
       "      <td>1</td>\n",
       "    </tr>\n",
       "    <tr>\n",
       "      <th>2</th>\n",
       "      <td>28</td>\n",
       "      <td>1</td>\n",
       "      <td>33.000</td>\n",
       "      <td>3</td>\n",
       "      <td>0</td>\n",
       "      <td>2</td>\n",
       "      <td>4449.46200</td>\n",
       "      <td>0</td>\n",
       "    </tr>\n",
       "    <tr>\n",
       "      <th>3</th>\n",
       "      <td>33</td>\n",
       "      <td>1</td>\n",
       "      <td>22.705</td>\n",
       "      <td>0</td>\n",
       "      <td>0</td>\n",
       "      <td>1</td>\n",
       "      <td>21984.47061</td>\n",
       "      <td>0</td>\n",
       "    </tr>\n",
       "    <tr>\n",
       "      <th>4</th>\n",
       "      <td>32</td>\n",
       "      <td>1</td>\n",
       "      <td>28.880</td>\n",
       "      <td>0</td>\n",
       "      <td>0</td>\n",
       "      <td>1</td>\n",
       "      <td>3866.85520</td>\n",
       "      <td>1</td>\n",
       "    </tr>\n",
       "    <tr>\n",
       "      <th>...</th>\n",
       "      <td>...</td>\n",
       "      <td>...</td>\n",
       "      <td>...</td>\n",
       "      <td>...</td>\n",
       "      <td>...</td>\n",
       "      <td>...</td>\n",
       "      <td>...</td>\n",
       "      <td>...</td>\n",
       "    </tr>\n",
       "    <tr>\n",
       "      <th>1333</th>\n",
       "      <td>50</td>\n",
       "      <td>1</td>\n",
       "      <td>30.970</td>\n",
       "      <td>3</td>\n",
       "      <td>0</td>\n",
       "      <td>1</td>\n",
       "      <td>10600.54830</td>\n",
       "      <td>0</td>\n",
       "    </tr>\n",
       "    <tr>\n",
       "      <th>1334</th>\n",
       "      <td>18</td>\n",
       "      <td>0</td>\n",
       "      <td>31.920</td>\n",
       "      <td>0</td>\n",
       "      <td>0</td>\n",
       "      <td>0</td>\n",
       "      <td>2205.98080</td>\n",
       "      <td>1</td>\n",
       "    </tr>\n",
       "    <tr>\n",
       "      <th>1335</th>\n",
       "      <td>18</td>\n",
       "      <td>0</td>\n",
       "      <td>36.850</td>\n",
       "      <td>0</td>\n",
       "      <td>0</td>\n",
       "      <td>2</td>\n",
       "      <td>1629.83350</td>\n",
       "      <td>1</td>\n",
       "    </tr>\n",
       "    <tr>\n",
       "      <th>1336</th>\n",
       "      <td>21</td>\n",
       "      <td>0</td>\n",
       "      <td>25.800</td>\n",
       "      <td>0</td>\n",
       "      <td>0</td>\n",
       "      <td>3</td>\n",
       "      <td>2007.94500</td>\n",
       "      <td>0</td>\n",
       "    </tr>\n",
       "    <tr>\n",
       "      <th>1337</th>\n",
       "      <td>61</td>\n",
       "      <td>0</td>\n",
       "      <td>29.070</td>\n",
       "      <td>0</td>\n",
       "      <td>1</td>\n",
       "      <td>1</td>\n",
       "      <td>29141.36030</td>\n",
       "      <td>1</td>\n",
       "    </tr>\n",
       "  </tbody>\n",
       "</table>\n",
       "<p>1309 rows × 8 columns</p>\n",
       "</div>"
      ],
      "text/plain": [
       "      age  sex     bmi  children  smoker  region      charges  insuranceclaim\n",
       "0      19    0  27.900         0       1       3  16884.92400               1\n",
       "1      18    1  33.770         1       0       2   1725.55230               1\n",
       "2      28    1  33.000         3       0       2   4449.46200               0\n",
       "3      33    1  22.705         0       0       1  21984.47061               0\n",
       "4      32    1  28.880         0       0       1   3866.85520               1\n",
       "...   ...  ...     ...       ...     ...     ...          ...             ...\n",
       "1333   50    1  30.970         3       0       1  10600.54830               0\n",
       "1334   18    0  31.920         0       0       0   2205.98080               1\n",
       "1335   18    0  36.850         0       0       2   1629.83350               1\n",
       "1336   21    0  25.800         0       0       3   2007.94500               0\n",
       "1337   61    0  29.070         0       1       1  29141.36030               1\n",
       "\n",
       "[1309 rows x 8 columns]"
      ]
     },
     "execution_count": 5,
     "metadata": {},
     "output_type": "execute_result"
    }
   ],
   "source": [
    "df_new=df[(z<3).all(axis=1)]\n",
    "df_new"
   ]
  },
  {
   "cell_type": "code",
   "execution_count": 6,
   "id": "4ec14656",
   "metadata": {},
   "outputs": [
    {
     "data": {
      "text/plain": [
       "(1338, 8)"
      ]
     },
     "execution_count": 6,
     "metadata": {},
     "output_type": "execute_result"
    }
   ],
   "source": [
    "df.shape"
   ]
  },
  {
   "cell_type": "code",
   "execution_count": 7,
   "id": "7e8ccf76",
   "metadata": {},
   "outputs": [
    {
     "data": {
      "text/plain": [
       "(1309, 8)"
      ]
     },
     "execution_count": 7,
     "metadata": {},
     "output_type": "execute_result"
    }
   ],
   "source": [
    "df_new.shape"
   ]
  },
  {
   "cell_type": "code",
   "execution_count": 8,
   "id": "cf06fee1",
   "metadata": {},
   "outputs": [
    {
     "data": {
      "text/plain": [
       "age               0\n",
       "sex               0\n",
       "bmi               0\n",
       "children          0\n",
       "smoker            0\n",
       "region            0\n",
       "charges           0\n",
       "insuranceclaim    0\n",
       "dtype: int64"
      ]
     },
     "execution_count": 8,
     "metadata": {},
     "output_type": "execute_result"
    }
   ],
   "source": [
    "df.isnull().sum()"
   ]
  },
  {
   "cell_type": "markdown",
   "id": "d9a17df4",
   "metadata": {},
   "source": [
    "29 rows has been removed as a outlier."
   ]
  },
  {
   "cell_type": "markdown",
   "id": "0496cd88",
   "metadata": {},
   "source": [
    "# Sperating the columns into x and y"
   ]
  },
  {
   "cell_type": "code",
   "execution_count": 9,
   "id": "9648b343",
   "metadata": {},
   "outputs": [],
   "source": [
    "x=df.drop('insuranceclaim',axis=1)\n",
    "y=df['insuranceclaim']"
   ]
  },
  {
   "cell_type": "code",
   "execution_count": 10,
   "id": "ce522e1f",
   "metadata": {},
   "outputs": [
    {
     "data": {
      "text/plain": [
       "(1338, 7)"
      ]
     },
     "execution_count": 10,
     "metadata": {},
     "output_type": "execute_result"
    }
   ],
   "source": [
    "x.shape"
   ]
  },
  {
   "cell_type": "code",
   "execution_count": 11,
   "id": "015feea4",
   "metadata": {},
   "outputs": [
    {
     "data": {
      "text/plain": [
       "(1338,)"
      ]
     },
     "execution_count": 11,
     "metadata": {},
     "output_type": "execute_result"
    }
   ],
   "source": [
    "y.shape"
   ]
  },
  {
   "cell_type": "markdown",
   "id": "c025372b",
   "metadata": {},
   "source": [
    "# Train Test Split"
   ]
  },
  {
   "cell_type": "code",
   "execution_count": 12,
   "id": "47788624",
   "metadata": {},
   "outputs": [
    {
     "name": "stdout",
     "output_type": "stream",
     "text": [
      "(1070, 7)\n",
      "(268, 7)\n",
      "(1070,)\n",
      "(268,)\n"
     ]
    }
   ],
   "source": [
    "from sklearn.model_selection import train_test_split\n",
    "x_train, x_test, y_train, y_test=train_test_split(x,y,test_size=.20, random_state=43)\n",
    "print(x_train.shape)\n",
    "print(x_test.shape)\n",
    "print(y_train.shape)\n",
    "print(y_test.shape)"
   ]
  },
  {
   "cell_type": "code",
   "execution_count": null,
   "id": "43759ba1",
   "metadata": {},
   "outputs": [],
   "source": []
  },
  {
   "cell_type": "markdown",
   "id": "58b7f1f8",
   "metadata": {},
   "source": [
    "# Importing Libraries"
   ]
  },
  {
   "cell_type": "code",
   "execution_count": 13,
   "id": "72989ea2",
   "metadata": {},
   "outputs": [],
   "source": [
    "from sklearn.linear_model import LogisticRegression\n",
    "from sklearn.ensemble import AdaBoostClassifier\n",
    "from sklearn.ensemble import RandomForestClassifier\n",
    "from sklearn.naive_bayes import GaussianNB\n",
    "from sklearn.svm import SVC\n",
    "from sklearn.tree import DecisionTreeClassifier\n",
    "from sklearn.model_selection import cross_val_score\n",
    "from sklearn.metrics import accuracy_score, confusion_matrix, classification_report\n",
    "from sklearn.metrics import roc_curve\n",
    "from sklearn.metrics import roc_auc_score"
   ]
  },
  {
   "cell_type": "markdown",
   "id": "5a026b80",
   "metadata": {},
   "source": [
    "# Model Building"
   ]
  },
  {
   "cell_type": "code",
   "execution_count": 14,
   "id": "cd14961f",
   "metadata": {},
   "outputs": [
    {
     "name": "stdout",
     "output_type": "stream",
     "text": [
      "0.7985074626865671\n",
      "[[ 72  41]\n",
      " [ 13 142]]\n",
      "              precision    recall  f1-score   support\n",
      "\n",
      "           0       0.85      0.64      0.73       113\n",
      "           1       0.78      0.92      0.84       155\n",
      "\n",
      "    accuracy                           0.80       268\n",
      "   macro avg       0.81      0.78      0.78       268\n",
      "weighted avg       0.81      0.80      0.79       268\n",
      "\n"
     ]
    }
   ],
   "source": [
    "# Logistic regression\n",
    "lr=LogisticRegression()\n",
    "lr.fit(x_train,y_train)\n",
    "pred_y=lr.predict(x_test)\n",
    "print(accuracy_score(y_test,pred_y))\n",
    "print(confusion_matrix(y_test,pred_y))\n",
    "print(classification_report(y_test,pred_y))"
   ]
  },
  {
   "cell_type": "code",
   "execution_count": 15,
   "id": "c3a6c078",
   "metadata": {},
   "outputs": [
    {
     "name": "stdout",
     "output_type": "stream",
     "text": [
      "cv score 0.8004432723600046\n"
     ]
    }
   ],
   "source": [
    "# cross validation logistic regression\n",
    "score=cross_val_score(lr,x,y,cv=10)\n",
    "print('cv score',np.mean(score))"
   ]
  },
  {
   "cell_type": "markdown",
   "id": "d452e22f",
   "metadata": {},
   "source": [
    "Accuracy score is 79.85% and cv score is 80.04%."
   ]
  },
  {
   "cell_type": "code",
   "execution_count": 46,
   "id": "f04ac9ea",
   "metadata": {},
   "outputs": [],
   "source": [
    "# Auc Roc curve of logistic Rgerssion\n",
    "lr.fit(x_train,y_train)\n",
    "y_pred_proba=lr.predict_proba(x_test)[:,1]\n",
    "\n",
    "fpr,tpr,thresholds=roc_curve(y_test,y_pred_proba)"
   ]
  },
  {
   "cell_type": "code",
   "execution_count": 47,
   "id": "3769a52b",
   "metadata": {},
   "outputs": [
    {
     "data": {
      "image/png": "[encoded data removed]",
      "text/plain": [
       "<Figure size 432x288 with 1 Axes>"
      ]
     },
     "metadata": {
      "needs_background": "light"
     },
     "output_type": "display_data"
    },
    {
     "name": "stdout",
     "output_type": "stream",
     "text": [
      "0.7766485869254924\n"
     ]
    }
   ],
   "source": [
    "plt.plot([0,1],[0,1],'k--')\n",
    "plt.plot(fpr,tpr,label='Logistic Regression')\n",
    "plt.xlabel('false positive rate')\n",
    "plt.ylabel('true positive rate')\n",
    "plt.title('LogisticRegression')\n",
    "plt.show()\n",
    "\n",
    "auc_score=roc_auc_score(y_test,lr.predict(x_test))\n",
    "print(auc_score)"
   ]
  },
  {
   "cell_type": "markdown",
   "id": "3a1cabb6",
   "metadata": {},
   "source": [
    "Auc_score is 77.66%."
   ]
  },
  {
   "cell_type": "code",
   "execution_count": null,
   "id": "136b4375",
   "metadata": {},
   "outputs": [],
   "source": []
  },
  {
   "cell_type": "code",
   "execution_count": null,
   "id": "0e9647a3",
   "metadata": {},
   "outputs": [],
   "source": []
  },
  {
   "cell_type": "code",
   "execution_count": 48,
   "id": "44d902bd",
   "metadata": {},
   "outputs": [
    {
     "name": "stdout",
     "output_type": "stream",
     "text": [
      "0.9552238805970149\n",
      "[[106   7]\n",
      " [  5 150]]\n",
      "              precision    recall  f1-score   support\n",
      "\n",
      "           0       0.95      0.94      0.95       113\n",
      "           1       0.96      0.97      0.96       155\n",
      "\n",
      "    accuracy                           0.96       268\n",
      "   macro avg       0.96      0.95      0.95       268\n",
      "weighted avg       0.96      0.96      0.96       268\n",
      "\n"
     ]
    }
   ],
   "source": [
    "# random Forest Classifier\n",
    "rf=RandomForestClassifier()\n",
    "rf.fit(x_train,y_train)\n",
    "pred_y=rf.predict(x_test)\n",
    "print(accuracy_score(y_test,pred_y))\n",
    "print(confusion_matrix(y_test,pred_y))\n",
    "print(classification_report(y_test,pred_y))"
   ]
  },
  {
   "cell_type": "code",
   "execution_count": 49,
   "id": "dca10875",
   "metadata": {},
   "outputs": [
    {
     "name": "stdout",
     "output_type": "stream",
     "text": [
      "cv score 0.9581247895859051\n"
     ]
    }
   ],
   "source": [
    "# cross validation Random Forest Classifier\n",
    "score=cross_val_score(rf,x,y,cv=10)\n",
    "print('cv score',np.mean(score))"
   ]
  },
  {
   "cell_type": "markdown",
   "id": "d48f2372",
   "metadata": {},
   "source": [
    "Accuracy score is 95.52% and cv score is 95.82%."
   ]
  },
  {
   "cell_type": "code",
   "execution_count": 50,
   "id": "97420f14",
   "metadata": {},
   "outputs": [],
   "source": [
    "# AUC ROC Curve of Logistic Regression\n",
    "rf.fit(x_train,y_train)\n",
    "y_pred_proba=rf.predict_proba(x_test)[:,1]\n",
    "\n",
    "fpr,tpr,thresholds=roc_curve(y_test,y_pred_proba)"
   ]
  },
  {
   "cell_type": "code",
   "execution_count": 52,
   "id": "726dd024",
   "metadata": {},
   "outputs": [
    {
     "data": {
      "image/png": "[encoded data removed]",
      "text/plain": [
       "<Figure size 432x288 with 1 Axes>"
      ]
     },
     "metadata": {
      "needs_background": "light"
     },
     "output_type": "display_data"
    },
    {
     "name": "stdout",
     "output_type": "stream",
     "text": [
      "0.9428489865829289\n"
     ]
    }
   ],
   "source": [
    "plt.plot([0,1],[0,1],'k--')\n",
    "plt.plot(fpr,tpr,label='Random Forest Classifier')\n",
    "plt.xlabel('false positive rate')\n",
    "plt.ylabel('true positive rate')\n",
    "plt.title('Random Forest Classifier')\n",
    "plt.show()\n",
    "\n",
    "auc_score=roc_auc_score(y_test,rf.predict(x_test))\n",
    "print(auc_score)"
   ]
  },
  {
   "cell_type": "markdown",
   "id": "7535fce4",
   "metadata": {},
   "source": [
    "Auc_score is 94.28%."
   ]
  },
  {
   "cell_type": "code",
   "execution_count": null,
   "id": "b3a33a53",
   "metadata": {},
   "outputs": [],
   "source": []
  },
  {
   "cell_type": "code",
   "execution_count": null,
   "id": "0755e106",
   "metadata": {},
   "outputs": [],
   "source": []
  },
  {
   "cell_type": "code",
   "execution_count": 16,
   "id": "9c194e43",
   "metadata": {},
   "outputs": [
    {
     "name": "stdout",
     "output_type": "stream",
     "text": [
      "0.9850746268656716\n",
      "[[110   3]\n",
      " [  1 154]]\n",
      "              precision    recall  f1-score   support\n",
      "\n",
      "           0       0.99      0.97      0.98       113\n",
      "           1       0.98      0.99      0.99       155\n",
      "\n",
      "    accuracy                           0.99       268\n",
      "   macro avg       0.99      0.98      0.98       268\n",
      "weighted avg       0.99      0.99      0.99       268\n",
      "\n"
     ]
    }
   ],
   "source": [
    "# Decision Tree Classifier\n",
    "dt=DecisionTreeClassifier()\n",
    "dt.fit(x_train,y_train)\n",
    "pred_y=dt.predict(x_test)\n",
    "print(accuracy_score(y_test,pred_y))\n",
    "print(confusion_matrix(y_test,pred_y))\n",
    "print(classification_report(y_test,pred_y))"
   ]
  },
  {
   "cell_type": "code",
   "execution_count": 17,
   "id": "ac4023e1",
   "metadata": {},
   "outputs": [
    {
     "name": "stdout",
     "output_type": "stream",
     "text": [
      "cv score 0.9760857367298843\n"
     ]
    }
   ],
   "source": [
    "# Cross validation GaussianNB\n",
    "score=cross_val_score(dt,x,y,cv=10)\n",
    "print('cv score',np.mean(score))"
   ]
  },
  {
   "cell_type": "markdown",
   "id": "eef1c72e",
   "metadata": {},
   "source": [
    "Auucracy score is 98.50% and cv score is 97.60%."
   ]
  },
  {
   "cell_type": "code",
   "execution_count": 19,
   "id": "f042ea0f",
   "metadata": {},
   "outputs": [],
   "source": [
    "# AUC ROC Curve of Decison Tree Classifier\n",
    "dt.fit(x_train,y_train)\n",
    "y_pred_proba=dt.predict_proba(x_test)[:,1]\n",
    "\n",
    "fpr,tpr,thresholds=roc_curve(y_test,y_pred_proba)"
   ]
  },
  {
   "cell_type": "code",
   "execution_count": 21,
   "id": "40df1103",
   "metadata": {},
   "outputs": [
    {
     "data": {
      "image/png": "[encoded data removed]",
      "text/plain": [
       "<Figure size 432x288 with 1 Axes>"
      ]
     },
     "metadata": {
      "needs_background": "light"
     },
     "output_type": "display_data"
    },
    {
     "name": "stdout",
     "output_type": "stream",
     "text": [
      "0.9834998572652013\n"
     ]
    }
   ],
   "source": [
    "plt.plot([0,1],[0,1],'k--')\n",
    "plt.plot(fpr,tpr,label='Decision Tree Classifier')\n",
    "plt.xlabel('false positive rate')\n",
    "plt.ylabel('true positive rate')\n",
    "plt.title('Decision Tree Classifier')\n",
    "plt.show()\n",
    "\n",
    "auc_score=roc_auc_score(y_test,dt.predict(x_test))\n",
    "print(auc_score)"
   ]
  },
  {
   "cell_type": "markdown",
   "id": "00ce892a",
   "metadata": {},
   "source": [
    "Auc score is 98.34%."
   ]
  },
  {
   "cell_type": "code",
   "execution_count": null,
   "id": "8c3ee9f4",
   "metadata": {},
   "outputs": [],
   "source": []
  },
  {
   "cell_type": "code",
   "execution_count": null,
   "id": "1d7e28b0",
   "metadata": {},
   "outputs": [],
   "source": []
  },
  {
   "cell_type": "code",
   "execution_count": 18,
   "id": "d541931f",
   "metadata": {},
   "outputs": [
    {
     "name": "stdout",
     "output_type": "stream",
     "text": [
      "0.7313432835820896\n",
      "[[ 92  21]\n",
      " [ 51 104]]\n",
      "              precision    recall  f1-score   support\n",
      "\n",
      "           0       0.64      0.81      0.72       113\n",
      "           1       0.83      0.67      0.74       155\n",
      "\n",
      "    accuracy                           0.73       268\n",
      "   macro avg       0.74      0.74      0.73       268\n",
      "weighted avg       0.75      0.73      0.73       268\n",
      "\n"
     ]
    }
   ],
   "source": [
    "# GaussianNB\n",
    "gnb=GaussianNB()\n",
    "gnb.fit(x_train,y_train)\n",
    "pred_y=gnb.predict(x_test)\n",
    "\n",
    "print(accuracy_score(y_test,pred_y))\n",
    "print(confusion_matrix(y_test,pred_y))\n",
    "print(classification_report(y_test,pred_y))"
   ]
  },
  {
   "cell_type": "code",
   "execution_count": 19,
   "id": "29856c02",
   "metadata": {},
   "outputs": [
    {
     "name": "stdout",
     "output_type": "stream",
     "text": [
      "cv score 0.7735327123779598\n"
     ]
    }
   ],
   "source": [
    "# Cross validation GaussianNB\n",
    "score=cross_val_score(gnb,x,y,cv=10)\n",
    "print('cv score',np.mean(score))"
   ]
  },
  {
   "cell_type": "markdown",
   "id": "b5c7ad2b",
   "metadata": {},
   "source": [
    "Accuarcy score is 73.13% and cv score is 77.35%."
   ]
  },
  {
   "cell_type": "code",
   "execution_count": 20,
   "id": "ff580fd8",
   "metadata": {},
   "outputs": [],
   "source": [
    "# AUC ROC curve for GaussianNB\n",
    "gnb.fit(x_train,y_train)\n",
    "y_pred_proba=gnb.predict_proba(x_test)[:,1]\n",
    "\n",
    "fpr,tpr,thresholds=roc_curve(y_test,y_pred_proba)"
   ]
  },
  {
   "cell_type": "code",
   "execution_count": 22,
   "id": "e0815d42",
   "metadata": {},
   "outputs": [
    {
     "data": {
      "text/plain": [
       "0.742563516985441"
      ]
     },
     "execution_count": 22,
     "metadata": {},
     "output_type": "execute_result"
    },
    {
     "data": {
      "image/png": "[encoded data removed]",
      "text/plain": [
       "<Figure size 432x288 with 1 Axes>"
      ]
     },
     "metadata": {
      "needs_background": "light"
     },
     "output_type": "display_data"
    }
   ],
   "source": [
    "plt.plot([0,1],[0,1],'k--')\n",
    "plt.plot(fpr,tpr,label='GaussianNB')\n",
    "plt.plot('false positive rate')\n",
    "plt.plot('true positive rate')\n",
    "plt.title('GaussianNB')\n",
    "\n",
    "auc_score=roc_auc_score(y_test,gnb.predict(x_test))\n",
    "auc_score\n"
   ]
  },
  {
   "cell_type": "markdown",
   "id": "38567fe0",
   "metadata": {},
   "source": [
    "Auc score is 74.25%."
   ]
  },
  {
   "cell_type": "code",
   "execution_count": null,
   "id": "90e3971c",
   "metadata": {},
   "outputs": [],
   "source": []
  },
  {
   "cell_type": "raw",
   "id": "01dfd821",
   "metadata": {},
   "source": [
    "Above prediction from the model ,wr are getting very well accuracy score from every model and Decision Tree Classifier is giving approx 98% acccuracy. so, we will take Decison Tree classifier for Hyper Parameter Tuning."
   ]
  },
  {
   "cell_type": "code",
   "execution_count": null,
   "id": "7323c2e7",
   "metadata": {},
   "outputs": [],
   "source": [
    "gd_sr.fit(x,y)\n",
    "\n",
    "best_parameters =gd_sr.best_params_\n",
    "print(best_parameters)\n",
    "best_result=gd_sr.best_score_\n",
    "print(best_result)\n"
   ]
  },
  {
   "cell_type": "markdown",
   "id": "86746053",
   "metadata": {},
   "source": [
    "# HYPER PARAMETER TUNING"
   ]
  },
  {
   "cell_type": "code",
   "execution_count": 38,
   "id": "6e06022c",
   "metadata": {},
   "outputs": [
    {
     "name": "stdout",
     "output_type": "stream",
     "text": [
      "{'criterion': 'entropy'}\n",
      "0.9828106657722623\n"
     ]
    }
   ],
   "source": [
    "from sklearn import datasets\n",
    "from sklearn.model_selection import GridSearchCV\n",
    "\n",
    "dtc=DecisionTreeClassifier(min_samples_split=2, random_state=0)\n",
    "\n",
    "grid_param={'criterion':['gini','entropy']}\n",
    "\n",
    "\n",
    "gd_sr=GridSearchCV(estimator=dtc,\n",
    "                  param_grid=grid_param,\n",
    "                  scoring='accuracy',\n",
    "                  cv=5)\n",
    "\n",
    "\n",
    "gd_sr.fit(x,y)\n",
    "\n",
    "best_parameters=gd_sr.best_params_\n",
    "print(best_parameters)\n",
    "best_result=gd_sr.best_score_\n",
    "print(best_result)"
   ]
  },
  {
   "cell_type": "markdown",
   "id": "b7be48aa",
   "metadata": {},
   "source": [
    "# Final Model"
   ]
  },
  {
   "cell_type": "code",
   "execution_count": 40,
   "id": "f550c759",
   "metadata": {},
   "outputs": [
    {
     "name": "stdout",
     "output_type": "stream",
     "text": [
      "accuracy score 100.0\n",
      "cross val score: 97.90793224886801\n"
     ]
    }
   ],
   "source": [
    "final_mode=DecisionTreeClassifier(criterion='entropy')\n",
    "final_mode.fit(x_train,y_train)\n",
    "pred=final_mode.predict(x_test)\n",
    "acc=accuracy_score(y_test,pred)\n",
    "\n",
    "print('accuracy score',acc*100)\n",
    "\n",
    "dtscore=cross_val_score(dtc,x,y,cv=5)\n",
    "dtcscore=dtscore.mean()\n",
    "print('cross val score:',dtcscore*100)"
   ]
  },
  {
   "cell_type": "markdown",
   "id": "0c0aba95",
   "metadata": {},
   "source": [
    "After Hyper Parameter Tuning the accuracy score is 100% and cross validation score is 97.90%. So we can say our model performance is extremly well."
   ]
  },
  {
   "cell_type": "markdown",
   "id": "76ab57ae",
   "metadata": {},
   "source": [
    "# Saving the model"
   ]
  },
  {
   "cell_type": "code",
   "execution_count": 41,
   "id": "e1d689f6",
   "metadata": {},
   "outputs": [],
   "source": [
    "import pickle\n",
    "filename='sbi_insurance.pkl'\n",
    "pickle.dump(dtc,open(filename,'wb'))"
   ]
  },
  {
   "cell_type": "markdown",
   "id": "b245e156",
   "metadata": {},
   "source": [
    "# Conclusion"
   ]
  },
  {
   "cell_type": "code",
   "execution_count": 42,
   "id": "15965830",
   "metadata": {},
   "outputs": [
    {
     "data": {
      "text/plain": [
       "0.9850746268656716"
      ]
     },
     "execution_count": 42,
     "metadata": {},
     "output_type": "execute_result"
    }
   ],
   "source": [
    "loaded_model=pickle.load(open('sbi_insurance.pkl','rb'))\n",
    "loaded_model.fit(x_train,y_train)\n",
    "result=loaded_model.score(x_test,y_test)\n",
    "result"
   ]
  },
  {
   "cell_type": "code",
   "execution_count": 43,
   "id": "99f858b7",
   "metadata": {},
   "outputs": [
    {
     "data": {
      "text/html": [
       "<div>\n",
       "<style scoped>\n",
       "    .dataframe tbody tr th:only-of-type {\n",
       "        vertical-align: middle;\n",
       "    }\n",
       "\n",
       "    .dataframe tbody tr th {\n",
       "        vertical-align: top;\n",
       "    }\n",
       "\n",
       "    .dataframe thead th {\n",
       "        text-align: right;\n",
       "    }\n",
       "</style>\n",
       "<table border=\"1\" class=\"dataframe\">\n",
       "  <thead>\n",
       "    <tr style=\"text-align: right;\">\n",
       "      <th></th>\n",
       "      <th>0</th>\n",
       "      <th>1</th>\n",
       "      <th>2</th>\n",
       "      <th>3</th>\n",
       "      <th>4</th>\n",
       "      <th>5</th>\n",
       "      <th>6</th>\n",
       "      <th>7</th>\n",
       "      <th>8</th>\n",
       "      <th>9</th>\n",
       "      <th>...</th>\n",
       "      <th>258</th>\n",
       "      <th>259</th>\n",
       "      <th>260</th>\n",
       "      <th>261</th>\n",
       "      <th>262</th>\n",
       "      <th>263</th>\n",
       "      <th>264</th>\n",
       "      <th>265</th>\n",
       "      <th>266</th>\n",
       "      <th>267</th>\n",
       "    </tr>\n",
       "  </thead>\n",
       "  <tbody>\n",
       "    <tr>\n",
       "      <th>predicted</th>\n",
       "      <td>0</td>\n",
       "      <td>0</td>\n",
       "      <td>1</td>\n",
       "      <td>1</td>\n",
       "      <td>1</td>\n",
       "      <td>0</td>\n",
       "      <td>1</td>\n",
       "      <td>0</td>\n",
       "      <td>1</td>\n",
       "      <td>1</td>\n",
       "      <td>...</td>\n",
       "      <td>0</td>\n",
       "      <td>0</td>\n",
       "      <td>1</td>\n",
       "      <td>0</td>\n",
       "      <td>1</td>\n",
       "      <td>1</td>\n",
       "      <td>1</td>\n",
       "      <td>0</td>\n",
       "      <td>1</td>\n",
       "      <td>1</td>\n",
       "    </tr>\n",
       "    <tr>\n",
       "      <th>original</th>\n",
       "      <td>0</td>\n",
       "      <td>0</td>\n",
       "      <td>1</td>\n",
       "      <td>1</td>\n",
       "      <td>1</td>\n",
       "      <td>0</td>\n",
       "      <td>1</td>\n",
       "      <td>0</td>\n",
       "      <td>1</td>\n",
       "      <td>1</td>\n",
       "      <td>...</td>\n",
       "      <td>0</td>\n",
       "      <td>0</td>\n",
       "      <td>1</td>\n",
       "      <td>0</td>\n",
       "      <td>1</td>\n",
       "      <td>1</td>\n",
       "      <td>1</td>\n",
       "      <td>0</td>\n",
       "      <td>1</td>\n",
       "      <td>1</td>\n",
       "    </tr>\n",
       "  </tbody>\n",
       "</table>\n",
       "<p>2 rows × 268 columns</p>\n",
       "</div>"
      ],
      "text/plain": [
       "           0    1    2    3    4    5    6    7    8    9    ...  258  259  \\\n",
       "predicted    0    0    1    1    1    0    1    0    1    1  ...    0    0   \n",
       "original     0    0    1    1    1    0    1    0    1    1  ...    0    0   \n",
       "\n",
       "           260  261  262  263  264  265  266  267  \n",
       "predicted    1    0    1    1    1    0    1    1  \n",
       "original     1    0    1    1    1    0    1    1  \n",
       "\n",
       "[2 rows x 268 columns]"
      ]
     },
     "execution_count": 43,
     "metadata": {},
     "output_type": "execute_result"
    }
   ],
   "source": [
    "conclusion=pd.DataFrame([loaded_model.predict(x_test)[:],pred[:]],index=['predicted','original'])\n",
    "conclusion\n",
    "                "
   ]
  },
  {
   "cell_type": "markdown",
   "id": "10df30be",
   "metadata": {},
   "source": [
    "With the help of Project , I learnt how to done EDA.\n",
    "\n",
    "I also learnt ,making use of packages like matplotlib and seaborn to develop better insights of the data.\n",
    "\n",
    "I have also learnt how to remove outliers and skewness to predict better accuracy.\n",
    "\n",
    "I have also seen the impacts on the columns on Average Price.\n",
    "\n",
    "I came to know through the analysis ,which model will predict better accuracy.\n",
    "\n",
    "This project helped me to gain deep knowledge , and also get to know where to use models."
   ]
  },
  {
   "cell_type": "code",
   "execution_count": null,
   "id": "80fb2775",
   "metadata": {},
   "outputs": [],
   "source": []
  }
 ],
 "metadata": {
  "kernelspec": {
   "display_name": "Python 3",
   "language": "python",
   "name": "python3"
  },
  "language_info": {
   "codemirror_mode": {
    "name": "ipython",
    "version": 3
   },
   "file_extension": ".py",
   "mimetype": "text/x-python",
   "name": "python",
   "nbconvert_exporter": "python",
   "pygments_lexer": "ipython3",
   "version": "3.8.10"
  }
 },
 "nbformat": 4,
 "nbformat_minor": 5
}
