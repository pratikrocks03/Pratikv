{
 "cells": [
  {
   "cell_type": "markdown",
   "id": "da95b2d6",
   "metadata": {},
   "source": [
    "# Real-time Election Results: Portugal 2019 Data Set\n",
    "\n",
    "\n",
    "\n",
    "Data Set Information:\n",
    "\n",
    "A data set describing the evolution of results in the Portuguese Parliamentary Elections of October 6th 2019.\n",
    "The data spans a time interval of 4 hours and 25 minutes, in intervals of 5 minutes, concerning the results of the 27 parties involved in the electoral event.\n",
    "\n",
    "Attribute Information:\n",
    "\n",
    "TimeElapsed (Numeric): Time (minutes) passed since the first data acquisition\n",
    "\n",
    "time (timestamp): Date and time of the data acquisition\n",
    "\n",
    "territoryName (string): Short name of the location (district or nation-wide)\n",
    "\n",
    "totalMandates (numeric): MP's elected at the moment\n",
    "\n",
    "availableMandates (numeric): MP's left to elect at the moment\n",
    "\n",
    "numParishes (numeric): Total number of parishes in this location\n",
    "\n",
    "numParishesApproved (numeric): Number of parishes approved in this location\n",
    "\n",
    "blankVotes (numeric): Number of blank votes\n",
    "\n",
    "blankVotesPercentage (numeric): Percentage of blank votes\n",
    "\n",
    "nullVotes (numeric): Number of null votes\n",
    "\n",
    "nullVotesPercentage (numeric): Percentage of null votes\n",
    "\n",
    "votersPercentage (numeric): Percentage of voters\n",
    "\n",
    "subscribedVoters (numeric): Number of subscribed voters in the location\n",
    "\n",
    "totalVoters (numeric): Percentage of blank votes\n",
    "\n",
    "pre.blankVotes (numeric): Number of blank votes (previous election)\n",
    "\n",
    "pre.blankVotesPercentage (numeric): Percentage of blank votes (previous election)\n",
    "\n",
    "pre.nullVotes (numeric): Number of null votes (previous election)\n",
    "\n",
    "pre.nullVotesPercentage (numeric): Percentage of null votes (previous election)\n",
    "\n",
    "pre.votersPercentage (numeric): Percentage of voters (previous election)\n",
    "\n",
    "pre.subscribedVoters (numeric): Number of subscribed voters in the location (previous election)\n",
    "\n",
    "pre.totalVoters (numeric): Percentage of blank votes (previous election)\n",
    "\n",
    "Party (string): Political Party\n",
    "\n",
    "Mandates (numeric): MP's elected at the moment for the party in a given district\n",
    "\n",
    "Percentage (numeric): Percentage of votes in a party\n",
    "\n",
    "validVotesPercentage (numeric): Percentage of valid votes in a party\n",
    "\n",
    "Votes (numeric): Percentage of party votes\n",
    "\n",
    "Hondt (numeric): Number of MP's according to the distribution of votes now\n",
    "\n",
    "FinalMandates (numeric): Target: final number of elected MP's in a district/national-level\n",
    "\n"
   ]
  },
  {
   "cell_type": "markdown",
   "id": "c8afbbef",
   "metadata": {},
   "source": [
    "# Importing Libraries"
   ]
  },
  {
   "cell_type": "code",
   "execution_count": 1,
   "id": "016f6b76",
   "metadata": {},
   "outputs": [],
   "source": [
    "import pandas as pd\n",
    "import numpy as np\n",
    "import seaborn as sns\n",
    "import matplotlib.pyplot as plt\n",
    "import warnings\n",
    "warnings.filterwarnings('ignore')"
   ]
  },
  {
   "cell_type": "markdown",
   "id": "eda01d40",
   "metadata": {},
   "source": [
    "# Loading the dataset"
   ]
  },
  {
   "cell_type": "code",
   "execution_count": 3,
   "id": "c6281b2b",
   "metadata": {},
   "outputs": [
    {
     "data": {
      "text/html": [
       "<div>\n",
       "<style scoped>\n",
       "    .dataframe tbody tr th:only-of-type {\n",
       "        vertical-align: middle;\n",
       "    }\n",
       "\n",
       "    .dataframe tbody tr th {\n",
       "        vertical-align: top;\n",
       "    }\n",
       "\n",
       "    .dataframe thead th {\n",
       "        text-align: right;\n",
       "    }\n",
       "</style>\n",
       "<table border=\"1\" class=\"dataframe\">\n",
       "  <thead>\n",
       "    <tr style=\"text-align: right;\">\n",
       "      <th></th>\n",
       "      <th>TimeElapsed</th>\n",
       "      <th>time</th>\n",
       "      <th>territoryName</th>\n",
       "      <th>totalMandates</th>\n",
       "      <th>availableMandates</th>\n",
       "      <th>numParishes</th>\n",
       "      <th>numParishesApproved</th>\n",
       "      <th>blankVotes</th>\n",
       "      <th>blankVotesPercentage</th>\n",
       "      <th>nullVotes</th>\n",
       "      <th>...</th>\n",
       "      <th>pre.votersPercentage</th>\n",
       "      <th>pre.subscribedVoters</th>\n",
       "      <th>pre.totalVoters</th>\n",
       "      <th>Party</th>\n",
       "      <th>Mandates</th>\n",
       "      <th>Percentage</th>\n",
       "      <th>validVotesPercentage</th>\n",
       "      <th>Votes</th>\n",
       "      <th>Hondt</th>\n",
       "      <th>FinalMandates</th>\n",
       "    </tr>\n",
       "  </thead>\n",
       "  <tbody>\n",
       "    <tr>\n",
       "      <th>0</th>\n",
       "      <td>0</td>\n",
       "      <td>06-10-2019 20:10</td>\n",
       "      <td>Territory National</td>\n",
       "      <td>0</td>\n",
       "      <td>226</td>\n",
       "      <td>3092</td>\n",
       "      <td>1081</td>\n",
       "      <td>9652</td>\n",
       "      <td>2.5</td>\n",
       "      <td>8874</td>\n",
       "      <td>...</td>\n",
       "      <td>52.66</td>\n",
       "      <td>813743</td>\n",
       "      <td>428546</td>\n",
       "      <td>PS</td>\n",
       "      <td>0</td>\n",
       "      <td>38.29</td>\n",
       "      <td>40.22</td>\n",
       "      <td>147993</td>\n",
       "      <td>94</td>\n",
       "      <td>106</td>\n",
       "    </tr>\n",
       "    <tr>\n",
       "      <th>1</th>\n",
       "      <td>0</td>\n",
       "      <td>06-10-2019 20:10</td>\n",
       "      <td>Territory National</td>\n",
       "      <td>0</td>\n",
       "      <td>226</td>\n",
       "      <td>3092</td>\n",
       "      <td>1081</td>\n",
       "      <td>9652</td>\n",
       "      <td>2.5</td>\n",
       "      <td>8874</td>\n",
       "      <td>...</td>\n",
       "      <td>52.66</td>\n",
       "      <td>813743</td>\n",
       "      <td>428546</td>\n",
       "      <td>PPD/PSD</td>\n",
       "      <td>0</td>\n",
       "      <td>33.28</td>\n",
       "      <td>34.95</td>\n",
       "      <td>128624</td>\n",
       "      <td>81</td>\n",
       "      <td>77</td>\n",
       "    </tr>\n",
       "    <tr>\n",
       "      <th>2</th>\n",
       "      <td>0</td>\n",
       "      <td>06-10-2019 20:10</td>\n",
       "      <td>Territory National</td>\n",
       "      <td>0</td>\n",
       "      <td>226</td>\n",
       "      <td>3092</td>\n",
       "      <td>1081</td>\n",
       "      <td>9652</td>\n",
       "      <td>2.5</td>\n",
       "      <td>8874</td>\n",
       "      <td>...</td>\n",
       "      <td>52.66</td>\n",
       "      <td>813743</td>\n",
       "      <td>428546</td>\n",
       "      <td>B.E.</td>\n",
       "      <td>0</td>\n",
       "      <td>6.81</td>\n",
       "      <td>7.15</td>\n",
       "      <td>26307</td>\n",
       "      <td>16</td>\n",
       "      <td>19</td>\n",
       "    </tr>\n",
       "    <tr>\n",
       "      <th>3</th>\n",
       "      <td>0</td>\n",
       "      <td>06-10-2019 20:10</td>\n",
       "      <td>Territory National</td>\n",
       "      <td>0</td>\n",
       "      <td>226</td>\n",
       "      <td>3092</td>\n",
       "      <td>1081</td>\n",
       "      <td>9652</td>\n",
       "      <td>2.5</td>\n",
       "      <td>8874</td>\n",
       "      <td>...</td>\n",
       "      <td>52.66</td>\n",
       "      <td>813743</td>\n",
       "      <td>428546</td>\n",
       "      <td>CDS-PP</td>\n",
       "      <td>0</td>\n",
       "      <td>4.90</td>\n",
       "      <td>5.14</td>\n",
       "      <td>18923</td>\n",
       "      <td>12</td>\n",
       "      <td>5</td>\n",
       "    </tr>\n",
       "    <tr>\n",
       "      <th>4</th>\n",
       "      <td>0</td>\n",
       "      <td>06-10-2019 20:10</td>\n",
       "      <td>Territory National</td>\n",
       "      <td>0</td>\n",
       "      <td>226</td>\n",
       "      <td>3092</td>\n",
       "      <td>1081</td>\n",
       "      <td>9652</td>\n",
       "      <td>2.5</td>\n",
       "      <td>8874</td>\n",
       "      <td>...</td>\n",
       "      <td>52.66</td>\n",
       "      <td>813743</td>\n",
       "      <td>428546</td>\n",
       "      <td>PCP-PEV</td>\n",
       "      <td>0</td>\n",
       "      <td>4.59</td>\n",
       "      <td>4.83</td>\n",
       "      <td>17757</td>\n",
       "      <td>11</td>\n",
       "      <td>12</td>\n",
       "    </tr>\n",
       "  </tbody>\n",
       "</table>\n",
       "<p>5 rows × 28 columns</p>\n",
       "</div>"
      ],
      "text/plain": [
       "   TimeElapsed              time       territoryName  totalMandates  \\\n",
       "0            0  06-10-2019 20:10  Territory National              0   \n",
       "1            0  06-10-2019 20:10  Territory National              0   \n",
       "2            0  06-10-2019 20:10  Territory National              0   \n",
       "3            0  06-10-2019 20:10  Territory National              0   \n",
       "4            0  06-10-2019 20:10  Territory National              0   \n",
       "\n",
       "   availableMandates  numParishes  numParishesApproved  blankVotes  \\\n",
       "0                226         3092                 1081        9652   \n",
       "1                226         3092                 1081        9652   \n",
       "2                226         3092                 1081        9652   \n",
       "3                226         3092                 1081        9652   \n",
       "4                226         3092                 1081        9652   \n",
       "\n",
       "   blankVotesPercentage  nullVotes  ...  pre.votersPercentage  \\\n",
       "0                   2.5       8874  ...                 52.66   \n",
       "1                   2.5       8874  ...                 52.66   \n",
       "2                   2.5       8874  ...                 52.66   \n",
       "3                   2.5       8874  ...                 52.66   \n",
       "4                   2.5       8874  ...                 52.66   \n",
       "\n",
       "   pre.subscribedVoters  pre.totalVoters    Party  Mandates  Percentage  \\\n",
       "0                813743           428546       PS         0       38.29   \n",
       "1                813743           428546  PPD/PSD         0       33.28   \n",
       "2                813743           428546     B.E.         0        6.81   \n",
       "3                813743           428546   CDS-PP         0        4.90   \n",
       "4                813743           428546  PCP-PEV         0        4.59   \n",
       "\n",
       "   validVotesPercentage   Votes  Hondt  FinalMandates  \n",
       "0                 40.22  147993     94            106  \n",
       "1                 34.95  128624     81             77  \n",
       "2                  7.15   26307     16             19  \n",
       "3                  5.14   18923     12              5  \n",
       "4                  4.83   17757     11             12  \n",
       "\n",
       "[5 rows x 28 columns]"
      ]
     },
     "execution_count": 3,
     "metadata": {},
     "output_type": "execute_result"
    }
   ],
   "source": [
    "df=pd.read_csv('election.csv')\n",
    "df.head()"
   ]
  },
  {
   "cell_type": "markdown",
   "id": "7bbec0bc",
   "metadata": {},
   "source": [
    "Top 5 heads of the dataset"
   ]
  },
  {
   "cell_type": "code",
   "execution_count": 4,
   "id": "d3e85be5",
   "metadata": {},
   "outputs": [
    {
     "data": {
      "text/html": [
       "<div>\n",
       "<style scoped>\n",
       "    .dataframe tbody tr th:only-of-type {\n",
       "        vertical-align: middle;\n",
       "    }\n",
       "\n",
       "    .dataframe tbody tr th {\n",
       "        vertical-align: top;\n",
       "    }\n",
       "\n",
       "    .dataframe thead th {\n",
       "        text-align: right;\n",
       "    }\n",
       "</style>\n",
       "<table border=\"1\" class=\"dataframe\">\n",
       "  <thead>\n",
       "    <tr style=\"text-align: right;\">\n",
       "      <th></th>\n",
       "      <th>TimeElapsed</th>\n",
       "      <th>time</th>\n",
       "      <th>territoryName</th>\n",
       "      <th>totalMandates</th>\n",
       "      <th>availableMandates</th>\n",
       "      <th>numParishes</th>\n",
       "      <th>numParishesApproved</th>\n",
       "      <th>blankVotes</th>\n",
       "      <th>blankVotesPercentage</th>\n",
       "      <th>nullVotes</th>\n",
       "      <th>...</th>\n",
       "      <th>pre.votersPercentage</th>\n",
       "      <th>pre.subscribedVoters</th>\n",
       "      <th>pre.totalVoters</th>\n",
       "      <th>Party</th>\n",
       "      <th>Mandates</th>\n",
       "      <th>Percentage</th>\n",
       "      <th>validVotesPercentage</th>\n",
       "      <th>Votes</th>\n",
       "      <th>Hondt</th>\n",
       "      <th>FinalMandates</th>\n",
       "    </tr>\n",
       "  </thead>\n",
       "  <tbody>\n",
       "    <tr>\n",
       "      <th>1208</th>\n",
       "      <td>15</td>\n",
       "      <td>06-10-2019 20:25</td>\n",
       "      <td>Beja</td>\n",
       "      <td>0</td>\n",
       "      <td>3</td>\n",
       "      <td>75</td>\n",
       "      <td>23</td>\n",
       "      <td>125</td>\n",
       "      <td>1.69</td>\n",
       "      <td>136</td>\n",
       "      <td>...</td>\n",
       "      <td>58.12</td>\n",
       "      <td>15357</td>\n",
       "      <td>8926</td>\n",
       "      <td>IL</td>\n",
       "      <td>0</td>\n",
       "      <td>0.39</td>\n",
       "      <td>0.41</td>\n",
       "      <td>29</td>\n",
       "      <td>0</td>\n",
       "      <td>0</td>\n",
       "    </tr>\n",
       "    <tr>\n",
       "      <th>1209</th>\n",
       "      <td>15</td>\n",
       "      <td>06-10-2019 20:25</td>\n",
       "      <td>Beja</td>\n",
       "      <td>0</td>\n",
       "      <td>3</td>\n",
       "      <td>75</td>\n",
       "      <td>23</td>\n",
       "      <td>125</td>\n",
       "      <td>1.69</td>\n",
       "      <td>136</td>\n",
       "      <td>...</td>\n",
       "      <td>58.12</td>\n",
       "      <td>15357</td>\n",
       "      <td>8926</td>\n",
       "      <td>A</td>\n",
       "      <td>0</td>\n",
       "      <td>0.30</td>\n",
       "      <td>0.31</td>\n",
       "      <td>22</td>\n",
       "      <td>0</td>\n",
       "      <td>0</td>\n",
       "    </tr>\n",
       "    <tr>\n",
       "      <th>1210</th>\n",
       "      <td>15</td>\n",
       "      <td>06-10-2019 20:25</td>\n",
       "      <td>Beja</td>\n",
       "      <td>0</td>\n",
       "      <td>3</td>\n",
       "      <td>75</td>\n",
       "      <td>23</td>\n",
       "      <td>125</td>\n",
       "      <td>1.69</td>\n",
       "      <td>136</td>\n",
       "      <td>...</td>\n",
       "      <td>58.12</td>\n",
       "      <td>15357</td>\n",
       "      <td>8926</td>\n",
       "      <td>MPT</td>\n",
       "      <td>0</td>\n",
       "      <td>0.27</td>\n",
       "      <td>0.28</td>\n",
       "      <td>20</td>\n",
       "      <td>0</td>\n",
       "      <td>0</td>\n",
       "    </tr>\n",
       "    <tr>\n",
       "      <th>1211</th>\n",
       "      <td>15</td>\n",
       "      <td>06-10-2019 20:25</td>\n",
       "      <td>Beja</td>\n",
       "      <td>0</td>\n",
       "      <td>3</td>\n",
       "      <td>75</td>\n",
       "      <td>23</td>\n",
       "      <td>125</td>\n",
       "      <td>1.69</td>\n",
       "      <td>136</td>\n",
       "      <td>...</td>\n",
       "      <td>58.12</td>\n",
       "      <td>15357</td>\n",
       "      <td>8926</td>\n",
       "      <td>PDR</td>\n",
       "      <td>0</td>\n",
       "      <td>0.20</td>\n",
       "      <td>0.21</td>\n",
       "      <td>15</td>\n",
       "      <td>0</td>\n",
       "      <td>0</td>\n",
       "    </tr>\n",
       "    <tr>\n",
       "      <th>1212</th>\n",
       "      <td>15</td>\n",
       "      <td>06-10-2019 20:25</td>\n",
       "      <td>Beja</td>\n",
       "      <td>0</td>\n",
       "      <td>3</td>\n",
       "      <td>75</td>\n",
       "      <td>23</td>\n",
       "      <td>125</td>\n",
       "      <td>1.69</td>\n",
       "      <td>136</td>\n",
       "      <td>...</td>\n",
       "      <td>58.12</td>\n",
       "      <td>15357</td>\n",
       "      <td>8926</td>\n",
       "      <td>PNR</td>\n",
       "      <td>0</td>\n",
       "      <td>0.16</td>\n",
       "      <td>0.17</td>\n",
       "      <td>12</td>\n",
       "      <td>0</td>\n",
       "      <td>0</td>\n",
       "    </tr>\n",
       "  </tbody>\n",
       "</table>\n",
       "<p>5 rows × 28 columns</p>\n",
       "</div>"
      ],
      "text/plain": [
       "      TimeElapsed              time territoryName  totalMandates  \\\n",
       "1208           15  06-10-2019 20:25          Beja              0   \n",
       "1209           15  06-10-2019 20:25          Beja              0   \n",
       "1210           15  06-10-2019 20:25          Beja              0   \n",
       "1211           15  06-10-2019 20:25          Beja              0   \n",
       "1212           15  06-10-2019 20:25          Beja              0   \n",
       "\n",
       "      availableMandates  numParishes  numParishesApproved  blankVotes  \\\n",
       "1208                  3           75                   23         125   \n",
       "1209                  3           75                   23         125   \n",
       "1210                  3           75                   23         125   \n",
       "1211                  3           75                   23         125   \n",
       "1212                  3           75                   23         125   \n",
       "\n",
       "      blankVotesPercentage  nullVotes  ...  pre.votersPercentage  \\\n",
       "1208                  1.69        136  ...                 58.12   \n",
       "1209                  1.69        136  ...                 58.12   \n",
       "1210                  1.69        136  ...                 58.12   \n",
       "1211                  1.69        136  ...                 58.12   \n",
       "1212                  1.69        136  ...                 58.12   \n",
       "\n",
       "      pre.subscribedVoters  pre.totalVoters  Party  Mandates  Percentage  \\\n",
       "1208                 15357             8926     IL         0        0.39   \n",
       "1209                 15357             8926      A         0        0.30   \n",
       "1210                 15357             8926    MPT         0        0.27   \n",
       "1211                 15357             8926    PDR         0        0.20   \n",
       "1212                 15357             8926    PNR         0        0.16   \n",
       "\n",
       "      validVotesPercentage  Votes  Hondt  FinalMandates  \n",
       "1208                  0.41     29      0              0  \n",
       "1209                  0.31     22      0              0  \n",
       "1210                  0.28     20      0              0  \n",
       "1211                  0.21     15      0              0  \n",
       "1212                  0.17     12      0              0  \n",
       "\n",
       "[5 rows x 28 columns]"
      ]
     },
     "execution_count": 4,
     "metadata": {},
     "output_type": "execute_result"
    }
   ],
   "source": [
    "df.tail()"
   ]
  },
  {
   "cell_type": "markdown",
   "id": "d1f2ec12",
   "metadata": {},
   "source": [
    "Bottom 5 of the datasets"
   ]
  },
  {
   "cell_type": "markdown",
   "id": "edc6ab05",
   "metadata": {},
   "source": [
    "# EDA"
   ]
  },
  {
   "cell_type": "code",
   "execution_count": 5,
   "id": "b7ab651e",
   "metadata": {},
   "outputs": [
    {
     "name": "stdout",
     "output_type": "stream",
     "text": [
      "<class 'pandas.core.frame.DataFrame'>\n",
      "RangeIndex: 1213 entries, 0 to 1212\n",
      "Data columns (total 28 columns):\n",
      " #   Column                    Non-Null Count  Dtype  \n",
      "---  ------                    --------------  -----  \n",
      " 0   TimeElapsed               1213 non-null   int64  \n",
      " 1   time                      1213 non-null   object \n",
      " 2   territoryName             1213 non-null   object \n",
      " 3   totalMandates             1213 non-null   int64  \n",
      " 4   availableMandates         1213 non-null   int64  \n",
      " 5   numParishes               1213 non-null   int64  \n",
      " 6   numParishesApproved       1213 non-null   int64  \n",
      " 7   blankVotes                1213 non-null   int64  \n",
      " 8   blankVotesPercentage      1213 non-null   float64\n",
      " 9   nullVotes                 1213 non-null   int64  \n",
      " 10  nullVotesPercentage       1213 non-null   float64\n",
      " 11  votersPercentage          1213 non-null   float64\n",
      " 12  subscribedVoters          1213 non-null   int64  \n",
      " 13  totalVoters               1213 non-null   int64  \n",
      " 14  pre.blankVotes            1213 non-null   int64  \n",
      " 15  pre.blankVotesPercentage  1213 non-null   float64\n",
      " 16  pre.nullVotes             1213 non-null   int64  \n",
      " 17  pre.nullVotesPercentage   1213 non-null   float64\n",
      " 18  pre.votersPercentage      1213 non-null   float64\n",
      " 19  pre.subscribedVoters      1213 non-null   int64  \n",
      " 20  pre.totalVoters           1213 non-null   int64  \n",
      " 21  Party                     1213 non-null   object \n",
      " 22  Mandates                  1213 non-null   int64  \n",
      " 23  Percentage                1213 non-null   float64\n",
      " 24  validVotesPercentage      1213 non-null   float64\n",
      " 25  Votes                     1213 non-null   int64  \n",
      " 26  Hondt                     1213 non-null   int64  \n",
      " 27  FinalMandates             1213 non-null   int64  \n",
      "dtypes: float64(8), int64(17), object(3)\n",
      "memory usage: 265.5+ KB\n"
     ]
    }
   ],
   "source": [
    "#checking data type\n",
    "df.info()"
   ]
  },
  {
   "cell_type": "markdown",
   "id": "9ee2fd6c",
   "metadata": {},
   "source": [
    "We have 8 float type columns , 17 integer type columns and 3 object data type columns present in the datset."
   ]
  },
  {
   "cell_type": "code",
   "execution_count": 6,
   "id": "79894ec5",
   "metadata": {},
   "outputs": [
    {
     "data": {
      "text/plain": [
       "(1213, 28)"
      ]
     },
     "execution_count": 6,
     "metadata": {},
     "output_type": "execute_result"
    }
   ],
   "source": [
    "# checking shape\n",
    "df.shape"
   ]
  },
  {
   "cell_type": "markdown",
   "id": "127588cd",
   "metadata": {},
   "source": [
    "We 1213 rows and 28 columns present in the datset."
   ]
  },
  {
   "cell_type": "code",
   "execution_count": 7,
   "id": "39fc90d6",
   "metadata": {},
   "outputs": [
    {
     "data": {
      "text/plain": [
       "TimeElapsed                 0\n",
       "time                        0\n",
       "territoryName               0\n",
       "totalMandates               0\n",
       "availableMandates           0\n",
       "numParishes                 0\n",
       "numParishesApproved         0\n",
       "blankVotes                  0\n",
       "blankVotesPercentage        0\n",
       "nullVotes                   0\n",
       "nullVotesPercentage         0\n",
       "votersPercentage            0\n",
       "subscribedVoters            0\n",
       "totalVoters                 0\n",
       "pre.blankVotes              0\n",
       "pre.blankVotesPercentage    0\n",
       "pre.nullVotes               0\n",
       "pre.nullVotesPercentage     0\n",
       "pre.votersPercentage        0\n",
       "pre.subscribedVoters        0\n",
       "pre.totalVoters             0\n",
       "Party                       0\n",
       "Mandates                    0\n",
       "Percentage                  0\n",
       "validVotesPercentage        0\n",
       "Votes                       0\n",
       "Hondt                       0\n",
       "FinalMandates               0\n",
       "dtype: int64"
      ]
     },
     "execution_count": 7,
     "metadata": {},
     "output_type": "execute_result"
    }
   ],
   "source": [
    "# checking null values\n",
    "df.isnull().sum()"
   ]
  },
  {
   "cell_type": "markdown",
   "id": "78a2d9e5",
   "metadata": {},
   "source": [
    "There is no null values present in the dataset."
   ]
  },
  {
   "cell_type": "code",
   "execution_count": 9,
   "id": "5dca8b7d",
   "metadata": {},
   "outputs": [
    {
     "data": {
      "text/plain": [
       "array([0], dtype=int64)"
      ]
     },
     "execution_count": 9,
     "metadata": {},
     "output_type": "execute_result"
    }
   ],
   "source": [
    "# In totalMandates column there is not any value present ,so we can drop it\n",
    "df['totalMandates'].unique()"
   ]
  },
  {
   "cell_type": "code",
   "execution_count": 4,
   "id": "ac9f7f7e",
   "metadata": {},
   "outputs": [],
   "source": [
    "del df['totalMandates']"
   ]
  },
  {
   "cell_type": "code",
   "execution_count": 7,
   "id": "b0a73957",
   "metadata": {},
   "outputs": [
    {
     "data": {
      "text/plain": [
       "array([0], dtype=int64)"
      ]
     },
     "execution_count": 7,
     "metadata": {},
     "output_type": "execute_result"
    }
   ],
   "source": [
    "# In lMandates column there is not any value present ,so we can drop it\n",
    "df['Mandates'].unique()"
   ]
  },
  {
   "cell_type": "code",
   "execution_count": 8,
   "id": "f91b4a5c",
   "metadata": {},
   "outputs": [],
   "source": [
    "del df['Mandates']"
   ]
  },
  {
   "cell_type": "code",
   "execution_count": 9,
   "id": "8176d0d6",
   "metadata": {},
   "outputs": [
    {
     "data": {
      "text/plain": [
       "(1213, 26)"
      ]
     },
     "execution_count": 9,
     "metadata": {},
     "output_type": "execute_result"
    }
   ],
   "source": [
    "# checking shapes again\n",
    "df.shape"
   ]
  },
  {
   "cell_type": "code",
   "execution_count": 10,
   "id": "48b4f356",
   "metadata": {},
   "outputs": [],
   "source": [
    "# Extracting hour and minute from time column\n",
    "df['hour']=pd.to_datetime(df['time']).dt.hour\n",
    "df['min']=pd.to_datetime(df['time']).dt.minute"
   ]
  },
  {
   "cell_type": "code",
   "execution_count": 11,
   "id": "892130b5",
   "metadata": {},
   "outputs": [],
   "source": [
    "# now we can delete time column because date, month and year is same for all\n",
    "del df['time']"
   ]
  },
  {
   "cell_type": "code",
   "execution_count": 12,
   "id": "132c2f3c",
   "metadata": {},
   "outputs": [
    {
     "data": {
      "text/html": [
       "<div>\n",
       "<style scoped>\n",
       "    .dataframe tbody tr th:only-of-type {\n",
       "        vertical-align: middle;\n",
       "    }\n",
       "\n",
       "    .dataframe tbody tr th {\n",
       "        vertical-align: top;\n",
       "    }\n",
       "\n",
       "    .dataframe thead th {\n",
       "        text-align: right;\n",
       "    }\n",
       "</style>\n",
       "<table border=\"1\" class=\"dataframe\">\n",
       "  <thead>\n",
       "    <tr style=\"text-align: right;\">\n",
       "      <th></th>\n",
       "      <th>TimeElapsed</th>\n",
       "      <th>territoryName</th>\n",
       "      <th>availableMandates</th>\n",
       "      <th>numParishes</th>\n",
       "      <th>numParishesApproved</th>\n",
       "      <th>blankVotes</th>\n",
       "      <th>blankVotesPercentage</th>\n",
       "      <th>nullVotes</th>\n",
       "      <th>nullVotesPercentage</th>\n",
       "      <th>votersPercentage</th>\n",
       "      <th>...</th>\n",
       "      <th>pre.subscribedVoters</th>\n",
       "      <th>pre.totalVoters</th>\n",
       "      <th>Party</th>\n",
       "      <th>Percentage</th>\n",
       "      <th>validVotesPercentage</th>\n",
       "      <th>Votes</th>\n",
       "      <th>Hondt</th>\n",
       "      <th>FinalMandates</th>\n",
       "      <th>hour</th>\n",
       "      <th>min</th>\n",
       "    </tr>\n",
       "  </thead>\n",
       "  <tbody>\n",
       "    <tr>\n",
       "      <th>0</th>\n",
       "      <td>0</td>\n",
       "      <td>Territory National</td>\n",
       "      <td>226</td>\n",
       "      <td>3092</td>\n",
       "      <td>1081</td>\n",
       "      <td>9652</td>\n",
       "      <td>2.50</td>\n",
       "      <td>8874</td>\n",
       "      <td>2.30</td>\n",
       "      <td>51.36</td>\n",
       "      <td>...</td>\n",
       "      <td>813743</td>\n",
       "      <td>428546</td>\n",
       "      <td>PS</td>\n",
       "      <td>38.29</td>\n",
       "      <td>40.22</td>\n",
       "      <td>147993</td>\n",
       "      <td>94</td>\n",
       "      <td>106</td>\n",
       "      <td>20</td>\n",
       "      <td>10</td>\n",
       "    </tr>\n",
       "    <tr>\n",
       "      <th>1</th>\n",
       "      <td>0</td>\n",
       "      <td>Territory National</td>\n",
       "      <td>226</td>\n",
       "      <td>3092</td>\n",
       "      <td>1081</td>\n",
       "      <td>9652</td>\n",
       "      <td>2.50</td>\n",
       "      <td>8874</td>\n",
       "      <td>2.30</td>\n",
       "      <td>51.36</td>\n",
       "      <td>...</td>\n",
       "      <td>813743</td>\n",
       "      <td>428546</td>\n",
       "      <td>PPD/PSD</td>\n",
       "      <td>33.28</td>\n",
       "      <td>34.95</td>\n",
       "      <td>128624</td>\n",
       "      <td>81</td>\n",
       "      <td>77</td>\n",
       "      <td>20</td>\n",
       "      <td>10</td>\n",
       "    </tr>\n",
       "    <tr>\n",
       "      <th>2</th>\n",
       "      <td>0</td>\n",
       "      <td>Territory National</td>\n",
       "      <td>226</td>\n",
       "      <td>3092</td>\n",
       "      <td>1081</td>\n",
       "      <td>9652</td>\n",
       "      <td>2.50</td>\n",
       "      <td>8874</td>\n",
       "      <td>2.30</td>\n",
       "      <td>51.36</td>\n",
       "      <td>...</td>\n",
       "      <td>813743</td>\n",
       "      <td>428546</td>\n",
       "      <td>B.E.</td>\n",
       "      <td>6.81</td>\n",
       "      <td>7.15</td>\n",
       "      <td>26307</td>\n",
       "      <td>16</td>\n",
       "      <td>19</td>\n",
       "      <td>20</td>\n",
       "      <td>10</td>\n",
       "    </tr>\n",
       "    <tr>\n",
       "      <th>3</th>\n",
       "      <td>0</td>\n",
       "      <td>Territory National</td>\n",
       "      <td>226</td>\n",
       "      <td>3092</td>\n",
       "      <td>1081</td>\n",
       "      <td>9652</td>\n",
       "      <td>2.50</td>\n",
       "      <td>8874</td>\n",
       "      <td>2.30</td>\n",
       "      <td>51.36</td>\n",
       "      <td>...</td>\n",
       "      <td>813743</td>\n",
       "      <td>428546</td>\n",
       "      <td>CDS-PP</td>\n",
       "      <td>4.90</td>\n",
       "      <td>5.14</td>\n",
       "      <td>18923</td>\n",
       "      <td>12</td>\n",
       "      <td>5</td>\n",
       "      <td>20</td>\n",
       "      <td>10</td>\n",
       "    </tr>\n",
       "    <tr>\n",
       "      <th>4</th>\n",
       "      <td>0</td>\n",
       "      <td>Territory National</td>\n",
       "      <td>226</td>\n",
       "      <td>3092</td>\n",
       "      <td>1081</td>\n",
       "      <td>9652</td>\n",
       "      <td>2.50</td>\n",
       "      <td>8874</td>\n",
       "      <td>2.30</td>\n",
       "      <td>51.36</td>\n",
       "      <td>...</td>\n",
       "      <td>813743</td>\n",
       "      <td>428546</td>\n",
       "      <td>PCP-PEV</td>\n",
       "      <td>4.59</td>\n",
       "      <td>4.83</td>\n",
       "      <td>17757</td>\n",
       "      <td>11</td>\n",
       "      <td>12</td>\n",
       "      <td>20</td>\n",
       "      <td>10</td>\n",
       "    </tr>\n",
       "    <tr>\n",
       "      <th>...</th>\n",
       "      <td>...</td>\n",
       "      <td>...</td>\n",
       "      <td>...</td>\n",
       "      <td>...</td>\n",
       "      <td>...</td>\n",
       "      <td>...</td>\n",
       "      <td>...</td>\n",
       "      <td>...</td>\n",
       "      <td>...</td>\n",
       "      <td>...</td>\n",
       "      <td>...</td>\n",
       "      <td>...</td>\n",
       "      <td>...</td>\n",
       "      <td>...</td>\n",
       "      <td>...</td>\n",
       "      <td>...</td>\n",
       "      <td>...</td>\n",
       "      <td>...</td>\n",
       "      <td>...</td>\n",
       "      <td>...</td>\n",
       "      <td>...</td>\n",
       "    </tr>\n",
       "    <tr>\n",
       "      <th>1208</th>\n",
       "      <td>15</td>\n",
       "      <td>Beja</td>\n",
       "      <td>3</td>\n",
       "      <td>75</td>\n",
       "      <td>23</td>\n",
       "      <td>125</td>\n",
       "      <td>1.69</td>\n",
       "      <td>136</td>\n",
       "      <td>1.84</td>\n",
       "      <td>52.24</td>\n",
       "      <td>...</td>\n",
       "      <td>15357</td>\n",
       "      <td>8926</td>\n",
       "      <td>IL</td>\n",
       "      <td>0.39</td>\n",
       "      <td>0.41</td>\n",
       "      <td>29</td>\n",
       "      <td>0</td>\n",
       "      <td>0</td>\n",
       "      <td>20</td>\n",
       "      <td>25</td>\n",
       "    </tr>\n",
       "    <tr>\n",
       "      <th>1209</th>\n",
       "      <td>15</td>\n",
       "      <td>Beja</td>\n",
       "      <td>3</td>\n",
       "      <td>75</td>\n",
       "      <td>23</td>\n",
       "      <td>125</td>\n",
       "      <td>1.69</td>\n",
       "      <td>136</td>\n",
       "      <td>1.84</td>\n",
       "      <td>52.24</td>\n",
       "      <td>...</td>\n",
       "      <td>15357</td>\n",
       "      <td>8926</td>\n",
       "      <td>A</td>\n",
       "      <td>0.30</td>\n",
       "      <td>0.31</td>\n",
       "      <td>22</td>\n",
       "      <td>0</td>\n",
       "      <td>0</td>\n",
       "      <td>20</td>\n",
       "      <td>25</td>\n",
       "    </tr>\n",
       "    <tr>\n",
       "      <th>1210</th>\n",
       "      <td>15</td>\n",
       "      <td>Beja</td>\n",
       "      <td>3</td>\n",
       "      <td>75</td>\n",
       "      <td>23</td>\n",
       "      <td>125</td>\n",
       "      <td>1.69</td>\n",
       "      <td>136</td>\n",
       "      <td>1.84</td>\n",
       "      <td>52.24</td>\n",
       "      <td>...</td>\n",
       "      <td>15357</td>\n",
       "      <td>8926</td>\n",
       "      <td>MPT</td>\n",
       "      <td>0.27</td>\n",
       "      <td>0.28</td>\n",
       "      <td>20</td>\n",
       "      <td>0</td>\n",
       "      <td>0</td>\n",
       "      <td>20</td>\n",
       "      <td>25</td>\n",
       "    </tr>\n",
       "    <tr>\n",
       "      <th>1211</th>\n",
       "      <td>15</td>\n",
       "      <td>Beja</td>\n",
       "      <td>3</td>\n",
       "      <td>75</td>\n",
       "      <td>23</td>\n",
       "      <td>125</td>\n",
       "      <td>1.69</td>\n",
       "      <td>136</td>\n",
       "      <td>1.84</td>\n",
       "      <td>52.24</td>\n",
       "      <td>...</td>\n",
       "      <td>15357</td>\n",
       "      <td>8926</td>\n",
       "      <td>PDR</td>\n",
       "      <td>0.20</td>\n",
       "      <td>0.21</td>\n",
       "      <td>15</td>\n",
       "      <td>0</td>\n",
       "      <td>0</td>\n",
       "      <td>20</td>\n",
       "      <td>25</td>\n",
       "    </tr>\n",
       "    <tr>\n",
       "      <th>1212</th>\n",
       "      <td>15</td>\n",
       "      <td>Beja</td>\n",
       "      <td>3</td>\n",
       "      <td>75</td>\n",
       "      <td>23</td>\n",
       "      <td>125</td>\n",
       "      <td>1.69</td>\n",
       "      <td>136</td>\n",
       "      <td>1.84</td>\n",
       "      <td>52.24</td>\n",
       "      <td>...</td>\n",
       "      <td>15357</td>\n",
       "      <td>8926</td>\n",
       "      <td>PNR</td>\n",
       "      <td>0.16</td>\n",
       "      <td>0.17</td>\n",
       "      <td>12</td>\n",
       "      <td>0</td>\n",
       "      <td>0</td>\n",
       "      <td>20</td>\n",
       "      <td>25</td>\n",
       "    </tr>\n",
       "  </tbody>\n",
       "</table>\n",
       "<p>1213 rows × 27 columns</p>\n",
       "</div>"
      ],
      "text/plain": [
       "      TimeElapsed       territoryName  availableMandates  numParishes  \\\n",
       "0               0  Territory National                226         3092   \n",
       "1               0  Territory National                226         3092   \n",
       "2               0  Territory National                226         3092   \n",
       "3               0  Territory National                226         3092   \n",
       "4               0  Territory National                226         3092   \n",
       "...           ...                 ...                ...          ...   \n",
       "1208           15                Beja                  3           75   \n",
       "1209           15                Beja                  3           75   \n",
       "1210           15                Beja                  3           75   \n",
       "1211           15                Beja                  3           75   \n",
       "1212           15                Beja                  3           75   \n",
       "\n",
       "      numParishesApproved  blankVotes  blankVotesPercentage  nullVotes  \\\n",
       "0                    1081        9652                  2.50       8874   \n",
       "1                    1081        9652                  2.50       8874   \n",
       "2                    1081        9652                  2.50       8874   \n",
       "3                    1081        9652                  2.50       8874   \n",
       "4                    1081        9652                  2.50       8874   \n",
       "...                   ...         ...                   ...        ...   \n",
       "1208                   23         125                  1.69        136   \n",
       "1209                   23         125                  1.69        136   \n",
       "1210                   23         125                  1.69        136   \n",
       "1211                   23         125                  1.69        136   \n",
       "1212                   23         125                  1.69        136   \n",
       "\n",
       "      nullVotesPercentage  votersPercentage  ...  pre.subscribedVoters  \\\n",
       "0                    2.30             51.36  ...                813743   \n",
       "1                    2.30             51.36  ...                813743   \n",
       "2                    2.30             51.36  ...                813743   \n",
       "3                    2.30             51.36  ...                813743   \n",
       "4                    2.30             51.36  ...                813743   \n",
       "...                   ...               ...  ...                   ...   \n",
       "1208                 1.84             52.24  ...                 15357   \n",
       "1209                 1.84             52.24  ...                 15357   \n",
       "1210                 1.84             52.24  ...                 15357   \n",
       "1211                 1.84             52.24  ...                 15357   \n",
       "1212                 1.84             52.24  ...                 15357   \n",
       "\n",
       "      pre.totalVoters    Party  Percentage  validVotesPercentage   Votes  \\\n",
       "0              428546       PS       38.29                 40.22  147993   \n",
       "1              428546  PPD/PSD       33.28                 34.95  128624   \n",
       "2              428546     B.E.        6.81                  7.15   26307   \n",
       "3              428546   CDS-PP        4.90                  5.14   18923   \n",
       "4              428546  PCP-PEV        4.59                  4.83   17757   \n",
       "...               ...      ...         ...                   ...     ...   \n",
       "1208             8926       IL        0.39                  0.41      29   \n",
       "1209             8926        A        0.30                  0.31      22   \n",
       "1210             8926      MPT        0.27                  0.28      20   \n",
       "1211             8926      PDR        0.20                  0.21      15   \n",
       "1212             8926      PNR        0.16                  0.17      12   \n",
       "\n",
       "      Hondt  FinalMandates  hour min  \n",
       "0        94            106    20  10  \n",
       "1        81             77    20  10  \n",
       "2        16             19    20  10  \n",
       "3        12              5    20  10  \n",
       "4        11             12    20  10  \n",
       "...     ...            ...   ...  ..  \n",
       "1208      0              0    20  25  \n",
       "1209      0              0    20  25  \n",
       "1210      0              0    20  25  \n",
       "1211      0              0    20  25  \n",
       "1212      0              0    20  25  \n",
       "\n",
       "[1213 rows x 27 columns]"
      ]
     },
     "execution_count": 12,
     "metadata": {},
     "output_type": "execute_result"
    }
   ],
   "source": [
    "df"
   ]
  },
  {
   "cell_type": "markdown",
   "id": "906c0682",
   "metadata": {},
   "source": [
    "Now finally we have 1213 rows and 28 columns."
   ]
  },
  {
   "cell_type": "markdown",
   "id": "8090387a",
   "metadata": {},
   "source": [
    "# VISUALIZATION OF NOMINAL DATA BY COUNT PLOT"
   ]
  },
  {
   "cell_type": "code",
   "execution_count": 19,
   "id": "c12818a5",
   "metadata": {},
   "outputs": [
    {
     "data": {
      "text/plain": [
       "Index(['TimeElapsed', 'territoryName', 'availableMandates', 'numParishes',\n",
       "       'numParishesApproved', 'blankVotes', 'blankVotesPercentage',\n",
       "       'nullVotes', 'nullVotesPercentage', 'votersPercentage',\n",
       "       'subscribedVoters', 'totalVoters', 'pre.blankVotes',\n",
       "       'pre.blankVotesPercentage', 'pre.nullVotes', 'pre.nullVotesPercentage',\n",
       "       'pre.votersPercentage', 'pre.subscribedVoters', 'pre.totalVoters',\n",
       "       'Party', 'Mandates', 'Percentage', 'validVotesPercentage', 'Votes',\n",
       "       'Hondt', 'FinalMandates', 'hour', 'min'],\n",
       "      dtype='object')"
      ]
     },
     "execution_count": 19,
     "metadata": {},
     "output_type": "execute_result"
    }
   ],
   "source": [
    "df.columns"
   ]
  },
  {
   "cell_type": "code",
   "execution_count": 20,
   "id": "9e92cfd2",
   "metadata": {},
   "outputs": [
    {
     "name": "stdout",
     "output_type": "stream",
     "text": [
      "0     386\n",
      "5     386\n",
      "10    386\n",
      "15     55\n",
      "Name: TimeElapsed, dtype: int64\n"
     ]
    },
    {
     "data": {
      "image/png": "[encoded data removed]",
      "text/plain": [
       "<Figure size 432x288 with 1 Axes>"
      ]
     },
     "metadata": {
      "needs_background": "light"
     },
     "output_type": "display_data"
    }
   ],
   "source": [
    "ax=sns.countplot(x='TimeElapsed',data=df)\n",
    "print(df['TimeElapsed'].value_counts())"
   ]
  },
  {
   "cell_type": "markdown",
   "id": "f01d074d",
   "metadata": {},
   "source": [
    "In TimeElapsed(Time (minutes) passed since the first data acquisition) column  , there is 4 unique values , 0 min, 5 min, 10 min and 15 min.\n",
    "The number of counts for 0, 5 and 10 minute is same and the number of count for 15 min is vey low."
   ]
  },
  {
   "cell_type": "code",
   "execution_count": null,
   "id": "25fd0e28",
   "metadata": {},
   "outputs": [],
   "source": []
  },
  {
   "cell_type": "code",
   "execution_count": 22,
   "id": "776caaa1",
   "metadata": {},
   "outputs": [
    {
     "name": "stdout",
     "output_type": "stream",
     "text": [
      "Territory National    84\n",
      "Aveiro                80\n",
      "Beja                  65\n",
      "Porto                 63\n",
      "Leiria                63\n",
      "Braga                 63\n",
      "Coimbra               60\n",
      "Viana do Castelo      60\n",
      "Setabal               60\n",
      "Madeira               60\n",
      "Lisboa                60\n",
      "Viseu                 60\n",
      "Faro                  57\n",
      "Avora                 57\n",
      "Santaraam             57\n",
      "Guarda                57\n",
      "Castelo Branco        54\n",
      "Bragana               54\n",
      "Portalegre            51\n",
      "Vila Real             48\n",
      "Name: territoryName, dtype: int64\n"
     ]
    },
    {
     "data": {
      "image/png": "[encoded data removed]",
      "text/plain": [
       "<Figure size 432x288 with 1 Axes>"
      ]
     },
     "metadata": {
      "needs_background": "light"
     },
     "output_type": "display_data"
    }
   ],
   "source": [
    "ax=sns.countplot(x='territoryName',data=df)\n",
    "print(df['territoryName'].value_counts())\n",
    "ax.set_xticklabels(ax.get_xticklabels(),rotation=40, ha='right')\n",
    "plt.tight_layout()"
   ]
  },
  {
   "cell_type": "markdown",
   "id": "8df28577",
   "metadata": {},
   "source": [
    "There is not much differnce between the territoryName(Short name of the location) column."
   ]
  },
  {
   "cell_type": "code",
   "execution_count": null,
   "id": "4290825f",
   "metadata": {},
   "outputs": [],
   "source": []
  },
  {
   "cell_type": "code",
   "execution_count": 24,
   "id": "ffb7d6b7",
   "metadata": {},
   "outputs": [
    {
     "name": "stdout",
     "output_type": "stream",
     "text": [
      "3      233\n",
      "9      174\n",
      "6      120\n",
      "226     84\n",
      "16      80\n",
      "10      63\n",
      "19      63\n",
      "40      63\n",
      "8       60\n",
      "18      60\n",
      "48      60\n",
      "4       54\n",
      "2       51\n",
      "5       48\n",
      "Name: availableMandates, dtype: int64\n"
     ]
    },
    {
     "data": {
      "image/png": "[encoded data removed]",
      "text/plain": [
       "<Figure size 432x288 with 1 Axes>"
      ]
     },
     "metadata": {
      "needs_background": "light"
     },
     "output_type": "display_data"
    }
   ],
   "source": [
    "ax=sns.countplot(x='availableMandates',data=df)\n",
    "print(df['availableMandates'].value_counts())"
   ]
  },
  {
   "cell_type": "markdown",
   "id": "e7e117c5",
   "metadata": {},
   "source": [
    "availableMandates(MP's left to elect at the moment) has many unique values and  the number of count is highest on 3, other than that there is not much noticable diffrence."
   ]
  },
  {
   "cell_type": "code",
   "execution_count": null,
   "id": "0a6f11b0",
   "metadata": {},
   "outputs": [],
   "source": []
  },
  {
   "cell_type": "code",
   "execution_count": 27,
   "id": "bdc4443f",
   "metadata": {},
   "outputs": [
    {
     "name": "stdout",
     "output_type": "stream",
     "text": [
      "69      108\n",
      "3092     84\n",
      "147      80\n",
      "75       65\n",
      "110      63\n",
      "243      63\n",
      "347      63\n",
      "134      60\n",
      "55       60\n",
      "155      60\n",
      "208      60\n",
      "277      60\n",
      "54       60\n",
      "67       57\n",
      "141      57\n",
      "242      57\n",
      "120      54\n",
      "226      54\n",
      "197      48\n",
      "Name: numParishes, dtype: int64\n"
     ]
    },
    {
     "data": {
      "image/png": "[encoded data removed]",
      "text/plain": [
       "<Figure size 432x288 with 1 Axes>"
      ]
     },
     "metadata": {
      "needs_background": "light"
     },
     "output_type": "display_data"
    }
   ],
   "source": [
    "ax=sns.countplot(x='numParishes',data=df)\n",
    "print(df['numParishes'].value_counts())"
   ]
  },
  {
   "cell_type": "markdown",
   "id": "7414e1bd",
   "metadata": {},
   "source": [
    "numParishes (otal number of parishes in this location) is almost looking normal."
   ]
  },
  {
   "cell_type": "code",
   "execution_count": null,
   "id": "59b8d4cf",
   "metadata": {},
   "outputs": [],
   "source": []
  },
  {
   "cell_type": "code",
   "execution_count": null,
   "id": "05c1793e",
   "metadata": {},
   "outputs": [],
   "source": []
  },
  {
   "cell_type": "code",
   "execution_count": 29,
   "id": "2ff0c3e9",
   "metadata": {},
   "outputs": [
    {
     "name": "stdout",
     "output_type": "stream",
     "text": [
      "12      143\n",
      "21      120\n",
      "23      116\n",
      "96      114\n",
      "918      63\n",
      "61       63\n",
      "3        60\n",
      "153      60\n",
      "32       60\n",
      "6        60\n",
      "173      57\n",
      "40       57\n",
      "15       57\n",
      "73       54\n",
      "9        40\n",
      "94       32\n",
      "1081     21\n",
      "11       20\n",
      "83       16\n",
      "Name: numParishesApproved, dtype: int64\n"
     ]
    },
    {
     "data": {
      "image/png": "[encoded data removed]",
      "text/plain": [
       "<Figure size 432x288 with 1 Axes>"
      ]
     },
     "metadata": {
      "needs_background": "light"
     },
     "output_type": "display_data"
    }
   ],
   "source": [
    "ax=sns.countplot(x='numParishesApproved',data=df)\n",
    "print(df['numParishesApproved'].value_counts())\n",
    "ax.set_xticklabels(ax.get_xticklabels(),rotation=40, ha='right')\n",
    "plt.tight_layout()"
   ]
  },
  {
   "cell_type": "markdown",
   "id": "9b8c7e59",
   "metadata": {},
   "source": [
    "In numParishesApproved(Number of parishes approved in this location) column data is not looking normal , the highest is 12 with 143 values and the lowest is 83 with 16 values."
   ]
  },
  {
   "cell_type": "code",
   "execution_count": null,
   "id": "7cc1ca96",
   "metadata": {},
   "outputs": [],
   "source": []
  },
  {
   "cell_type": "code",
   "execution_count": null,
   "id": "e7428b29",
   "metadata": {},
   "outputs": [],
   "source": []
  },
  {
   "cell_type": "code",
   "execution_count": 31,
   "id": "cb586e5c",
   "metadata": {},
   "outputs": [
    {
     "name": "stdout",
     "output_type": "stream",
     "text": [
      "186     80\n",
      "125     65\n",
      "291     63\n",
      "223     63\n",
      "7225    63\n",
      "888     63\n",
      "903     60\n",
      "376     60\n",
      "1485    60\n",
      "127     60\n",
      "40      60\n",
      "239     57\n",
      "138     57\n",
      "609     57\n",
      "735     57\n",
      "268     54\n",
      "593     54\n",
      "136     51\n",
      "19      40\n",
      "584     32\n",
      "9652    21\n",
      "39      20\n",
      "453     16\n",
      "Name: blankVotes, dtype: int64\n"
     ]
    },
    {
     "data": {
      "image/png": "[encoded data removed]",
      "text/plain": [
       "<Figure size 432x288 with 1 Axes>"
      ]
     },
     "metadata": {
      "needs_background": "light"
     },
     "output_type": "display_data"
    }
   ],
   "source": [
    "ax=sns.countplot(x='blankVotes',data=df)\n",
    "print(df['blankVotes'].value_counts())\n",
    "ax.set_xticklabels(ax.get_xticklabels(),rotation=40, ha='right')\n",
    "plt.tight_layout()"
   ]
  },
  {
   "cell_type": "markdown",
   "id": "f58d3963",
   "metadata": {},
   "source": [
    "There is very high amout of  Number of blank votes present in the blankVotes column."
   ]
  },
  {
   "cell_type": "code",
   "execution_count": null,
   "id": "6140fe95",
   "metadata": {},
   "outputs": [],
   "source": []
  },
  {
   "cell_type": "code",
   "execution_count": null,
   "id": "cb768238",
   "metadata": {},
   "outputs": [],
   "source": []
  },
  {
   "cell_type": "code",
   "execution_count": 33,
   "id": "afbcee0b",
   "metadata": {},
   "outputs": [
    {
     "name": "stdout",
     "output_type": "stream",
     "text": [
      "2.89    123\n",
      "2.49    120\n",
      "2.92     80\n",
      "1.69     65\n",
      "1.93     63\n",
      "3.87     63\n",
      "2.78     60\n",
      "2.60     60\n",
      "1.41     60\n",
      "3.50     60\n",
      "2.65     57\n",
      "1.72     57\n",
      "3.26     57\n",
      "1.91     54\n",
      "2.36     54\n",
      "1.86     51\n",
      "0.59     40\n",
      "2.04     32\n",
      "2.50     21\n",
      "0.55     20\n",
      "1.98     16\n",
      "Name: blankVotesPercentage, dtype: int64\n"
     ]
    },
    {
     "data": {
      "image/png": "[encoded data removed]",
      "text/plain": [
       "<Figure size 432x288 with 1 Axes>"
      ]
     },
     "metadata": {
      "needs_background": "light"
     },
     "output_type": "display_data"
    }
   ],
   "source": [
    "ax=sns.countplot(x='blankVotesPercentage',data=df)\n",
    "print(df['blankVotesPercentage'].value_counts())\n",
    "ax.set_xticklabels(ax.get_xticklabels(),rotation=40, ha='right')\n",
    "plt.tight_layout()"
   ]
  },
  {
   "cell_type": "markdown",
   "id": "fb9892f5",
   "metadata": {},
   "source": [
    "In blankVotesPercentage(Percentage of blank votes) is not much."
   ]
  },
  {
   "cell_type": "code",
   "execution_count": null,
   "id": "3e44b871",
   "metadata": {},
   "outputs": [],
   "source": []
  },
  {
   "cell_type": "code",
   "execution_count": 35,
   "id": "1e282a9b",
   "metadata": {},
   "outputs": [
    {
     "name": "stdout",
     "output_type": "stream",
     "text": [
      "101     80\n",
      "136     65\n",
      "176     63\n",
      "1029    63\n",
      "6868    63\n",
      "230     63\n",
      "39      60\n",
      "547     60\n",
      "284     60\n",
      "114     60\n",
      "1242    60\n",
      "149     57\n",
      "495     57\n",
      "828     57\n",
      "108     57\n",
      "323     54\n",
      "740     54\n",
      "139     51\n",
      "60      40\n",
      "779     32\n",
      "8874    21\n",
      "117     20\n",
      "618     16\n",
      "Name: nullVotes, dtype: int64\n"
     ]
    },
    {
     "data": {
      "image/png": "[encoded data removed]",
      "text/plain": [
       "<Figure size 432x288 with 1 Axes>"
      ]
     },
     "metadata": {
      "needs_background": "light"
     },
     "output_type": "display_data"
    }
   ],
   "source": [
    "ax=sns.countplot(x='nullVotes',data=df)\n",
    "print(df['nullVotes'].value_counts())\n",
    "ax.set_xticklabels(ax.get_xticklabels(),rotation=40, ha='right')\n",
    "plt.tight_layout()"
   ]
  },
  {
   "cell_type": "markdown",
   "id": "3bb3eaae",
   "metadata": {},
   "source": [
    "nullVotes is showing more number of Number of null votes."
   ]
  },
  {
   "cell_type": "code",
   "execution_count": null,
   "id": "c6bf0b23",
   "metadata": {},
   "outputs": [],
   "source": []
  },
  {
   "cell_type": "code",
   "execution_count": 37,
   "id": "72d74835",
   "metadata": {},
   "outputs": [
    {
     "name": "stdout",
     "output_type": "stream",
     "text": [
      "1.59    80\n",
      "2.30    75\n",
      "1.84    65\n",
      "3.35    63\n",
      "2.37    63\n",
      "1.99    63\n",
      "2.34    63\n",
      "2.49    60\n",
      "1.75    60\n",
      "2.17    60\n",
      "2.65    60\n",
      "1.38    60\n",
      "1.34    57\n",
      "2.81    57\n",
      "2.03    57\n",
      "2.16    57\n",
      "2.95    54\n",
      "1.90    51\n",
      "1.88    40\n",
      "2.72    32\n",
      "1.65    20\n",
      "2.70    16\n",
      "Name: nullVotesPercentage, dtype: int64\n"
     ]
    },
    {
     "data": {
      "image/png": "[encoded data removed]",
      "text/plain": [
       "<Figure size 432x288 with 1 Axes>"
      ]
     },
     "metadata": {
      "needs_background": "light"
     },
     "output_type": "display_data"
    }
   ],
   "source": [
    "ax=sns.countplot(x='nullVotesPercentage',data=df)\n",
    "print(df['nullVotesPercentage'].value_counts())\n",
    "ax.set_xticklabels(ax.get_xticklabels(),rotation=40, ha='right')\n",
    "plt.tight_layout()"
   ]
  },
  {
   "cell_type": "markdown",
   "id": "9766c232",
   "metadata": {},
   "source": [
    "nullVotesPercentage column is indicating  Percentage of null votes is high."
   ]
  },
  {
   "cell_type": "code",
   "execution_count": null,
   "id": "d3e92e68",
   "metadata": {},
   "outputs": [],
   "source": []
  },
  {
   "cell_type": "code",
   "execution_count": 40,
   "id": "fbf6b5ba",
   "metadata": {},
   "outputs": [
    {
     "name": "stdout",
     "output_type": "stream",
     "text": [
      "53.30    80\n",
      "52.24    65\n",
      "54.31    63\n",
      "55.96    63\n",
      "50.63    63\n",
      "57.16    63\n",
      "55.33    60\n",
      "49.12    60\n",
      "51.33    60\n",
      "49.57    60\n",
      "47.90    60\n",
      "55.48    57\n",
      "48.50    57\n",
      "56.78    57\n",
      "52.16    57\n",
      "42.88    54\n",
      "53.19    54\n",
      "57.36    51\n",
      "46.69    40\n",
      "44.04    32\n",
      "51.36    21\n",
      "51.16    20\n",
      "42.94    16\n",
      "Name: votersPercentage, dtype: int64\n"
     ]
    },
    {
     "data": {
      "image/png": "[encoded data removed]",
      "text/plain": [
       "<Figure size 432x288 with 1 Axes>"
      ]
     },
     "metadata": {
      "needs_background": "light"
     },
     "output_type": "display_data"
    }
   ],
   "source": [
    "ax=sns.countplot(x='votersPercentage',data=df)\n",
    "print(df['votersPercentage'].value_counts())\n",
    "ax.set_xticklabels(ax.get_xticklabels(),rotation=40, ha='right')\n",
    "plt.tight_layout()"
   ]
  },
  {
   "cell_type": "markdown",
   "id": "1cb6f041",
   "metadata": {},
   "source": [
    "votersPercentage columns is showing  Percentage of voters is high."
   ]
  },
  {
   "cell_type": "code",
   "execution_count": null,
   "id": "2d440972",
   "metadata": {},
   "outputs": [],
   "source": []
  },
  {
   "cell_type": "code",
   "execution_count": 42,
   "id": "b355dffa",
   "metadata": {},
   "outputs": [
    {
     "name": "stdout",
     "output_type": "stream",
     "text": [
      "11953     80\n",
      "14136     65\n",
      "573021    63\n",
      "53691     63\n",
      "21271     63\n",
      "13439     63\n",
      "8265      60\n",
      "20899     60\n",
      "115266    60\n",
      "65198     60\n",
      "5767      60\n",
      "14071     57\n",
      "14494     57\n",
      "60818     57\n",
      "40414     57\n",
      "32796     54\n",
      "47149     54\n",
      "12730     51\n",
      "6848      40\n",
      "65127     32\n",
      "752529    21\n",
      "13838     20\n",
      "53405     16\n",
      "Name: subscribedVoters, dtype: int64\n"
     ]
    },
    {
     "data": {
      "image/png": "[encoded data removed]",
      "text/plain": [
       "<Figure size 432x288 with 1 Axes>"
      ]
     },
     "metadata": {
      "needs_background": "light"
     },
     "output_type": "display_data"
    }
   ],
   "source": [
    "ax=sns.countplot(x='subscribedVoters',data=df)\n",
    "print(df['subscribedVoters'].value_counts())\n",
    "ax.set_xticklabels(ax.get_xticklabels(),rotation=40, ha='right')\n",
    "plt.tight_layout()"
   ]
  },
  {
   "cell_type": "markdown",
   "id": "06fb537d",
   "metadata": {},
   "source": [
    "subscribedVoters column is indicating Number of subscribed voters in the location is high except 3 to 4 location."
   ]
  },
  {
   "cell_type": "code",
   "execution_count": null,
   "id": "fd2d89c0",
   "metadata": {},
   "outputs": [],
   "source": []
  },
  {
   "cell_type": "code",
   "execution_count": 44,
   "id": "82df42f4",
   "metadata": {},
   "outputs": [
    {
     "name": "stdout",
     "output_type": "stream",
     "text": [
      "6371      80\n",
      "7384      65\n",
      "30689     63\n",
      "290114    63\n",
      "11553     63\n",
      "7520      63\n",
      "31229     60\n",
      "2833      60\n",
      "57142     60\n",
      "10728     60\n",
      "4573      60\n",
      "7340      57\n",
      "22948     57\n",
      "8041      57\n",
      "29494     57\n",
      "25078     54\n",
      "14064     54\n",
      "7302      51\n",
      "3197      40\n",
      "28685     32\n",
      "386497    21\n",
      "7080      20\n",
      "22931     16\n",
      "Name: totalVoters, dtype: int64\n"
     ]
    },
    {
     "data": {
      "image/png": "[encoded data removed]",
      "text/plain": [
       "<Figure size 432x288 with 1 Axes>"
      ]
     },
     "metadata": {
      "needs_background": "light"
     },
     "output_type": "display_data"
    }
   ],
   "source": [
    "ax=sns.countplot(x='totalVoters',data=df)\n",
    "print(df['totalVoters'].value_counts())\n",
    "ax.set_xticklabels(ax.get_xticklabels(),rotation=40, ha='right')\n",
    "plt.tight_layout()"
   ]
  },
  {
   "cell_type": "markdown",
   "id": "63f3b2f7",
   "metadata": {},
   "source": [
    "totalVoters column is indiacting Percentage of blank votes is high except 3 to 4 location.  "
   ]
  },
  {
   "cell_type": "code",
   "execution_count": null,
   "id": "4509667a",
   "metadata": {},
   "outputs": [],
   "source": []
  },
  {
   "cell_type": "code",
   "execution_count": 48,
   "id": "a9693d2d",
   "metadata": {},
   "outputs": [
    {
     "name": "stdout",
     "output_type": "stream",
     "text": [
      "B.E.         63\n",
      "PS           63\n",
      "PPD/PSD      63\n",
      "CH           63\n",
      "PAN          63\n",
      "PCP-PEV      63\n",
      "PCTP/MRPP    63\n",
      "PNR          63\n",
      "A            63\n",
      "IL           63\n",
      "L            63\n",
      "CDS-PP       63\n",
      "PDR          63\n",
      "PPM          59\n",
      "R.I.R.       59\n",
      "MPT          57\n",
      "PTP          56\n",
      "PURP         56\n",
      "NC           56\n",
      "JPP          29\n",
      "MAS          22\n",
      "Name: Party, dtype: int64\n"
     ]
    },
    {
     "data": {
      "image/png": "[encoded data removed]",
      "text/plain": [
       "<Figure size 432x288 with 1 Axes>"
      ]
     },
     "metadata": {
      "needs_background": "light"
     },
     "output_type": "display_data"
    }
   ],
   "source": [
    "ax=sns.countplot(x='Party',data=df)\n",
    "print(df['Party'].value_counts())\n",
    "ax.set_xticklabels(ax.get_xticklabels(),rotation=40, ha='right')\n",
    "plt.tight_layout()"
   ]
  },
  {
   "cell_type": "markdown",
   "id": "62efe227",
   "metadata": {},
   "source": [
    "Party column is indiacting Political Party looking approx same except 2 bars."
   ]
  },
  {
   "cell_type": "code",
   "execution_count": null,
   "id": "d0301193",
   "metadata": {},
   "outputs": [],
   "source": []
  },
  {
   "cell_type": "code",
   "execution_count": 54,
   "id": "4994ce93",
   "metadata": {},
   "outputs": [
    {
     "name": "stdout",
     "output_type": "stream",
     "text": [
      "0     997\n",
      "1      67\n",
      "2      35\n",
      "3      35\n",
      "4      18\n",
      "7      11\n",
      "5       9\n",
      "20      6\n",
      "9       6\n",
      "12      4\n",
      "16      4\n",
      "94      4\n",
      "15      3\n",
      "17      3\n",
      "8       3\n",
      "82      3\n",
      "10      3\n",
      "11      1\n",
      "81      1\n",
      "Name: Hondt, dtype: int64\n"
     ]
    },
    {
     "data": {
      "image/png": "[encoded data removed]",
      "text/plain": [
       "<Figure size 432x288 with 1 Axes>"
      ]
     },
     "metadata": {
      "needs_background": "light"
     },
     "output_type": "display_data"
    }
   ],
   "source": [
    "ax=sns.countplot(x='Hondt',data=df)\n",
    "print(df['Hondt'].value_counts())\n",
    "ax.set_xticklabels(ax.get_xticklabels(),rotation=40, ha='right')\n",
    "plt.tight_layout()"
   ]
  },
  {
   "cell_type": "markdown",
   "id": "9083881c",
   "metadata": {},
   "source": [
    "Hondt column is indiacting Number of MP's according to the distribution of votes now very less."
   ]
  },
  {
   "cell_type": "code",
   "execution_count": null,
   "id": "83dd6109",
   "metadata": {},
   "outputs": [],
   "source": []
  },
  {
   "cell_type": "code",
   "execution_count": null,
   "id": "05ccefb0",
   "metadata": {},
   "outputs": [],
   "source": []
  },
  {
   "cell_type": "markdown",
   "id": "c2ed988d",
   "metadata": {},
   "source": [
    "# CHECKING THE DISTRIBUTION"
   ]
  },
  {
   "cell_type": "code",
   "execution_count": 57,
   "id": "cabfb45d",
   "metadata": {},
   "outputs": [
    {
     "data": {
      "text/plain": [
       "Index(['TimeElapsed', 'territoryName', 'availableMandates', 'numParishes',\n",
       "       'numParishesApproved', 'blankVotes', 'blankVotesPercentage',\n",
       "       'nullVotes', 'nullVotesPercentage', 'votersPercentage',\n",
       "       'subscribedVoters', 'totalVoters', 'pre.blankVotes',\n",
       "       'pre.blankVotesPercentage', 'pre.nullVotes', 'pre.nullVotesPercentage',\n",
       "       'pre.votersPercentage', 'pre.subscribedVoters', 'pre.totalVoters',\n",
       "       'Party', 'Mandates', 'Percentage', 'validVotesPercentage', 'Votes',\n",
       "       'Hondt', 'FinalMandates', 'hour', 'min'],\n",
       "      dtype='object')"
      ]
     },
     "execution_count": 57,
     "metadata": {},
     "output_type": "execute_result"
    }
   ],
   "source": [
    "df.columns"
   ]
  },
  {
   "cell_type": "code",
   "execution_count": 68,
   "id": "ea119e14",
   "metadata": {},
   "outputs": [
    {
     "data": {
      "text/plain": [
       "<AxesSubplot:xlabel='pre.blankVotesPercentage', ylabel='Density'>"
      ]
     },
     "execution_count": 68,
     "metadata": {},
     "output_type": "execute_result"
    },
    {
     "data": {
      "image/png": "[encoded data removed]",
      "text/plain": [
       "<Figure size 432x288 with 1 Axes>"
      ]
     },
     "metadata": {
      "needs_background": "light"
     },
     "output_type": "display_data"
    }
   ],
   "source": [
    "sns.distplot(df['pre.blankVotesPercentage'],kde=True)"
   ]
  },
  {
   "cell_type": "markdown",
   "id": "21e7d454",
   "metadata": {},
   "source": [
    "distribution plot is showing ranges in between 0.5 to 3.5 in two groups 1.0 to 2.5 is high and approx 2.5 to 3.0 is less."
   ]
  },
  {
   "cell_type": "code",
   "execution_count": null,
   "id": "31f79f06",
   "metadata": {},
   "outputs": [],
   "source": []
  },
  {
   "cell_type": "code",
   "execution_count": 71,
   "id": "11ccdd1f",
   "metadata": {},
   "outputs": [
    {
     "data": {
      "text/plain": [
       "<AxesSubplot:xlabel='pre.nullVotesPercentage', ylabel='Density'>"
      ]
     },
     "execution_count": 71,
     "metadata": {},
     "output_type": "execute_result"
    },
    {
     "data": {
      "image/png": "[encoded data removed]",
      "text/plain": [
       "<Figure size 432x288 with 1 Axes>"
      ]
     },
     "metadata": {
      "needs_background": "light"
     },
     "output_type": "display_data"
    }
   ],
   "source": [
    "sns.distplot(df['pre.nullVotesPercentage'],kde=True)"
   ]
  },
  {
   "cell_type": "markdown",
   "id": "7bdaacdf",
   "metadata": {},
   "source": [
    "distribution plot is showing  ranges in between 1.0 to 3.5 in two groups that is approx 1.2 to approx 3.0 is high ."
   ]
  },
  {
   "cell_type": "code",
   "execution_count": null,
   "id": "08469392",
   "metadata": {},
   "outputs": [],
   "source": []
  },
  {
   "cell_type": "code",
   "execution_count": 72,
   "id": "ea683998",
   "metadata": {},
   "outputs": [
    {
     "data": {
      "text/plain": [
       "<AxesSubplot:xlabel='pre.votersPercentage', ylabel='Density'>"
      ]
     },
     "execution_count": 72,
     "metadata": {},
     "output_type": "execute_result"
    },
    {
     "data": {
      "image/png": "[encoded data removed]",
      "text/plain": [
       "<Figure size 432x288 with 1 Axes>"
      ]
     },
     "metadata": {
      "needs_background": "light"
     },
     "output_type": "display_data"
    }
   ],
   "source": [
    "sns.distplot(df['pre.votersPercentage'],kde=True)"
   ]
  },
  {
   "cell_type": "markdown",
   "id": "42bea12f",
   "metadata": {},
   "source": [
    "distribution plot is not looking normal."
   ]
  },
  {
   "cell_type": "code",
   "execution_count": null,
   "id": "f4e7729a",
   "metadata": {},
   "outputs": [],
   "source": []
  },
  {
   "cell_type": "code",
   "execution_count": 78,
   "id": "e3c22112",
   "metadata": {},
   "outputs": [
    {
     "data": {
      "text/plain": [
       "<AxesSubplot:xlabel='Votes', ylabel='Density'>"
      ]
     },
     "execution_count": 78,
     "metadata": {},
     "output_type": "execute_result"
    },
    {
     "data": {
      "image/png": "[encoded data removed]",
      "text/plain": [
       "<Figure size 432x288 with 1 Axes>"
      ]
     },
     "metadata": {
      "needs_background": "light"
     },
     "output_type": "display_data"
    }
   ],
   "source": [
    "sns.distplot(df['Votes'],kde=True)"
   ]
  },
  {
   "cell_type": "markdown",
   "id": "9c9c1a2d",
   "metadata": {},
   "source": [
    "Votes column in range between 0 to 16000 and distribution is showing some curve in between 0 to 20000."
   ]
  },
  {
   "cell_type": "code",
   "execution_count": null,
   "id": "04f5fddd",
   "metadata": {},
   "outputs": [],
   "source": []
  },
  {
   "cell_type": "markdown",
   "id": "657427d9",
   "metadata": {},
   "source": [
    "# ENCODING THE DATAFRAME TO CONVERT STRING COLUMNS TO NUMERIC COLUMNS"
   ]
  },
  {
   "cell_type": "code",
   "execution_count": 22,
   "id": "36d4b670",
   "metadata": {},
   "outputs": [],
   "source": [
    "from sklearn.preprocessing import OrdinalEncoder\n",
    "\n",
    "enc =OrdinalEncoder()\n",
    "\n",
    "for i in df.columns:\n",
    "    if df[i].dtypes=='object':\n",
    "        df[i]=enc.fit_transform(df[i].values.reshape(-1,1))"
   ]
  },
  {
   "cell_type": "code",
   "execution_count": 23,
   "id": "5cd858dc",
   "metadata": {},
   "outputs": [
    {
     "data": {
      "text/html": [
       "<div>\n",
       "<style scoped>\n",
       "    .dataframe tbody tr th:only-of-type {\n",
       "        vertical-align: middle;\n",
       "    }\n",
       "\n",
       "    .dataframe tbody tr th {\n",
       "        vertical-align: top;\n",
       "    }\n",
       "\n",
       "    .dataframe thead th {\n",
       "        text-align: right;\n",
       "    }\n",
       "</style>\n",
       "<table border=\"1\" class=\"dataframe\">\n",
       "  <thead>\n",
       "    <tr style=\"text-align: right;\">\n",
       "      <th></th>\n",
       "      <th>TimeElapsed</th>\n",
       "      <th>territoryName</th>\n",
       "      <th>availableMandates</th>\n",
       "      <th>numParishes</th>\n",
       "      <th>numParishesApproved</th>\n",
       "      <th>blankVotes</th>\n",
       "      <th>blankVotesPercentage</th>\n",
       "      <th>nullVotes</th>\n",
       "      <th>nullVotesPercentage</th>\n",
       "      <th>votersPercentage</th>\n",
       "      <th>...</th>\n",
       "      <th>pre.subscribedVoters</th>\n",
       "      <th>pre.totalVoters</th>\n",
       "      <th>Party</th>\n",
       "      <th>Percentage</th>\n",
       "      <th>validVotesPercentage</th>\n",
       "      <th>Votes</th>\n",
       "      <th>Hondt</th>\n",
       "      <th>FinalMandates</th>\n",
       "      <th>hour</th>\n",
       "      <th>min</th>\n",
       "    </tr>\n",
       "  </thead>\n",
       "  <tbody>\n",
       "    <tr>\n",
       "      <th>0</th>\n",
       "      <td>0</td>\n",
       "      <td>16.0</td>\n",
       "      <td>226</td>\n",
       "      <td>3092</td>\n",
       "      <td>1081</td>\n",
       "      <td>9652</td>\n",
       "      <td>2.50</td>\n",
       "      <td>8874</td>\n",
       "      <td>2.30</td>\n",
       "      <td>51.36</td>\n",
       "      <td>...</td>\n",
       "      <td>813743</td>\n",
       "      <td>428546</td>\n",
       "      <td>17.0</td>\n",
       "      <td>38.29</td>\n",
       "      <td>40.22</td>\n",
       "      <td>147993</td>\n",
       "      <td>94</td>\n",
       "      <td>106</td>\n",
       "      <td>20</td>\n",
       "      <td>10</td>\n",
       "    </tr>\n",
       "    <tr>\n",
       "      <th>1</th>\n",
       "      <td>0</td>\n",
       "      <td>16.0</td>\n",
       "      <td>226</td>\n",
       "      <td>3092</td>\n",
       "      <td>1081</td>\n",
       "      <td>9652</td>\n",
       "      <td>2.50</td>\n",
       "      <td>8874</td>\n",
       "      <td>2.30</td>\n",
       "      <td>51.36</td>\n",
       "      <td>...</td>\n",
       "      <td>813743</td>\n",
       "      <td>428546</td>\n",
       "      <td>15.0</td>\n",
       "      <td>33.28</td>\n",
       "      <td>34.95</td>\n",
       "      <td>128624</td>\n",
       "      <td>81</td>\n",
       "      <td>77</td>\n",
       "      <td>20</td>\n",
       "      <td>10</td>\n",
       "    </tr>\n",
       "    <tr>\n",
       "      <th>2</th>\n",
       "      <td>0</td>\n",
       "      <td>16.0</td>\n",
       "      <td>226</td>\n",
       "      <td>3092</td>\n",
       "      <td>1081</td>\n",
       "      <td>9652</td>\n",
       "      <td>2.50</td>\n",
       "      <td>8874</td>\n",
       "      <td>2.30</td>\n",
       "      <td>51.36</td>\n",
       "      <td>...</td>\n",
       "      <td>813743</td>\n",
       "      <td>428546</td>\n",
       "      <td>1.0</td>\n",
       "      <td>6.81</td>\n",
       "      <td>7.15</td>\n",
       "      <td>26307</td>\n",
       "      <td>16</td>\n",
       "      <td>19</td>\n",
       "      <td>20</td>\n",
       "      <td>10</td>\n",
       "    </tr>\n",
       "    <tr>\n",
       "      <th>3</th>\n",
       "      <td>0</td>\n",
       "      <td>16.0</td>\n",
       "      <td>226</td>\n",
       "      <td>3092</td>\n",
       "      <td>1081</td>\n",
       "      <td>9652</td>\n",
       "      <td>2.50</td>\n",
       "      <td>8874</td>\n",
       "      <td>2.30</td>\n",
       "      <td>51.36</td>\n",
       "      <td>...</td>\n",
       "      <td>813743</td>\n",
       "      <td>428546</td>\n",
       "      <td>2.0</td>\n",
       "      <td>4.90</td>\n",
       "      <td>5.14</td>\n",
       "      <td>18923</td>\n",
       "      <td>12</td>\n",
       "      <td>5</td>\n",
       "      <td>20</td>\n",
       "      <td>10</td>\n",
       "    </tr>\n",
       "    <tr>\n",
       "      <th>4</th>\n",
       "      <td>0</td>\n",
       "      <td>16.0</td>\n",
       "      <td>226</td>\n",
       "      <td>3092</td>\n",
       "      <td>1081</td>\n",
       "      <td>9652</td>\n",
       "      <td>2.50</td>\n",
       "      <td>8874</td>\n",
       "      <td>2.30</td>\n",
       "      <td>51.36</td>\n",
       "      <td>...</td>\n",
       "      <td>813743</td>\n",
       "      <td>428546</td>\n",
       "      <td>11.0</td>\n",
       "      <td>4.59</td>\n",
       "      <td>4.83</td>\n",
       "      <td>17757</td>\n",
       "      <td>11</td>\n",
       "      <td>12</td>\n",
       "      <td>20</td>\n",
       "      <td>10</td>\n",
       "    </tr>\n",
       "    <tr>\n",
       "      <th>...</th>\n",
       "      <td>...</td>\n",
       "      <td>...</td>\n",
       "      <td>...</td>\n",
       "      <td>...</td>\n",
       "      <td>...</td>\n",
       "      <td>...</td>\n",
       "      <td>...</td>\n",
       "      <td>...</td>\n",
       "      <td>...</td>\n",
       "      <td>...</td>\n",
       "      <td>...</td>\n",
       "      <td>...</td>\n",
       "      <td>...</td>\n",
       "      <td>...</td>\n",
       "      <td>...</td>\n",
       "      <td>...</td>\n",
       "      <td>...</td>\n",
       "      <td>...</td>\n",
       "      <td>...</td>\n",
       "      <td>...</td>\n",
       "      <td>...</td>\n",
       "    </tr>\n",
       "    <tr>\n",
       "      <th>1208</th>\n",
       "      <td>15</td>\n",
       "      <td>2.0</td>\n",
       "      <td>3</td>\n",
       "      <td>75</td>\n",
       "      <td>23</td>\n",
       "      <td>125</td>\n",
       "      <td>1.69</td>\n",
       "      <td>136</td>\n",
       "      <td>1.84</td>\n",
       "      <td>52.24</td>\n",
       "      <td>...</td>\n",
       "      <td>15357</td>\n",
       "      <td>8926</td>\n",
       "      <td>4.0</td>\n",
       "      <td>0.39</td>\n",
       "      <td>0.41</td>\n",
       "      <td>29</td>\n",
       "      <td>0</td>\n",
       "      <td>0</td>\n",
       "      <td>20</td>\n",
       "      <td>25</td>\n",
       "    </tr>\n",
       "    <tr>\n",
       "      <th>1209</th>\n",
       "      <td>15</td>\n",
       "      <td>2.0</td>\n",
       "      <td>3</td>\n",
       "      <td>75</td>\n",
       "      <td>23</td>\n",
       "      <td>125</td>\n",
       "      <td>1.69</td>\n",
       "      <td>136</td>\n",
       "      <td>1.84</td>\n",
       "      <td>52.24</td>\n",
       "      <td>...</td>\n",
       "      <td>15357</td>\n",
       "      <td>8926</td>\n",
       "      <td>0.0</td>\n",
       "      <td>0.30</td>\n",
       "      <td>0.31</td>\n",
       "      <td>22</td>\n",
       "      <td>0</td>\n",
       "      <td>0</td>\n",
       "      <td>20</td>\n",
       "      <td>25</td>\n",
       "    </tr>\n",
       "    <tr>\n",
       "      <th>1210</th>\n",
       "      <td>15</td>\n",
       "      <td>2.0</td>\n",
       "      <td>3</td>\n",
       "      <td>75</td>\n",
       "      <td>23</td>\n",
       "      <td>125</td>\n",
       "      <td>1.69</td>\n",
       "      <td>136</td>\n",
       "      <td>1.84</td>\n",
       "      <td>52.24</td>\n",
       "      <td>...</td>\n",
       "      <td>15357</td>\n",
       "      <td>8926</td>\n",
       "      <td>8.0</td>\n",
       "      <td>0.27</td>\n",
       "      <td>0.28</td>\n",
       "      <td>20</td>\n",
       "      <td>0</td>\n",
       "      <td>0</td>\n",
       "      <td>20</td>\n",
       "      <td>25</td>\n",
       "    </tr>\n",
       "    <tr>\n",
       "      <th>1211</th>\n",
       "      <td>15</td>\n",
       "      <td>2.0</td>\n",
       "      <td>3</td>\n",
       "      <td>75</td>\n",
       "      <td>23</td>\n",
       "      <td>125</td>\n",
       "      <td>1.69</td>\n",
       "      <td>136</td>\n",
       "      <td>1.84</td>\n",
       "      <td>52.24</td>\n",
       "      <td>...</td>\n",
       "      <td>15357</td>\n",
       "      <td>8926</td>\n",
       "      <td>13.0</td>\n",
       "      <td>0.20</td>\n",
       "      <td>0.21</td>\n",
       "      <td>15</td>\n",
       "      <td>0</td>\n",
       "      <td>0</td>\n",
       "      <td>20</td>\n",
       "      <td>25</td>\n",
       "    </tr>\n",
       "    <tr>\n",
       "      <th>1212</th>\n",
       "      <td>15</td>\n",
       "      <td>2.0</td>\n",
       "      <td>3</td>\n",
       "      <td>75</td>\n",
       "      <td>23</td>\n",
       "      <td>125</td>\n",
       "      <td>1.69</td>\n",
       "      <td>136</td>\n",
       "      <td>1.84</td>\n",
       "      <td>52.24</td>\n",
       "      <td>...</td>\n",
       "      <td>15357</td>\n",
       "      <td>8926</td>\n",
       "      <td>14.0</td>\n",
       "      <td>0.16</td>\n",
       "      <td>0.17</td>\n",
       "      <td>12</td>\n",
       "      <td>0</td>\n",
       "      <td>0</td>\n",
       "      <td>20</td>\n",
       "      <td>25</td>\n",
       "    </tr>\n",
       "  </tbody>\n",
       "</table>\n",
       "<p>1213 rows × 27 columns</p>\n",
       "</div>"
      ],
      "text/plain": [
       "      TimeElapsed  territoryName  availableMandates  numParishes  \\\n",
       "0               0           16.0                226         3092   \n",
       "1               0           16.0                226         3092   \n",
       "2               0           16.0                226         3092   \n",
       "3               0           16.0                226         3092   \n",
       "4               0           16.0                226         3092   \n",
       "...           ...            ...                ...          ...   \n",
       "1208           15            2.0                  3           75   \n",
       "1209           15            2.0                  3           75   \n",
       "1210           15            2.0                  3           75   \n",
       "1211           15            2.0                  3           75   \n",
       "1212           15            2.0                  3           75   \n",
       "\n",
       "      numParishesApproved  blankVotes  blankVotesPercentage  nullVotes  \\\n",
       "0                    1081        9652                  2.50       8874   \n",
       "1                    1081        9652                  2.50       8874   \n",
       "2                    1081        9652                  2.50       8874   \n",
       "3                    1081        9652                  2.50       8874   \n",
       "4                    1081        9652                  2.50       8874   \n",
       "...                   ...         ...                   ...        ...   \n",
       "1208                   23         125                  1.69        136   \n",
       "1209                   23         125                  1.69        136   \n",
       "1210                   23         125                  1.69        136   \n",
       "1211                   23         125                  1.69        136   \n",
       "1212                   23         125                  1.69        136   \n",
       "\n",
       "      nullVotesPercentage  votersPercentage  ...  pre.subscribedVoters  \\\n",
       "0                    2.30             51.36  ...                813743   \n",
       "1                    2.30             51.36  ...                813743   \n",
       "2                    2.30             51.36  ...                813743   \n",
       "3                    2.30             51.36  ...                813743   \n",
       "4                    2.30             51.36  ...                813743   \n",
       "...                   ...               ...  ...                   ...   \n",
       "1208                 1.84             52.24  ...                 15357   \n",
       "1209                 1.84             52.24  ...                 15357   \n",
       "1210                 1.84             52.24  ...                 15357   \n",
       "1211                 1.84             52.24  ...                 15357   \n",
       "1212                 1.84             52.24  ...                 15357   \n",
       "\n",
       "      pre.totalVoters  Party  Percentage  validVotesPercentage   Votes  Hondt  \\\n",
       "0              428546   17.0       38.29                 40.22  147993     94   \n",
       "1              428546   15.0       33.28                 34.95  128624     81   \n",
       "2              428546    1.0        6.81                  7.15   26307     16   \n",
       "3              428546    2.0        4.90                  5.14   18923     12   \n",
       "4              428546   11.0        4.59                  4.83   17757     11   \n",
       "...               ...    ...         ...                   ...     ...    ...   \n",
       "1208             8926    4.0        0.39                  0.41      29      0   \n",
       "1209             8926    0.0        0.30                  0.31      22      0   \n",
       "1210             8926    8.0        0.27                  0.28      20      0   \n",
       "1211             8926   13.0        0.20                  0.21      15      0   \n",
       "1212             8926   14.0        0.16                  0.17      12      0   \n",
       "\n",
       "      FinalMandates  hour  min  \n",
       "0               106    20   10  \n",
       "1                77    20   10  \n",
       "2                19    20   10  \n",
       "3                 5    20   10  \n",
       "4                12    20   10  \n",
       "...             ...   ...  ...  \n",
       "1208              0    20   25  \n",
       "1209              0    20   25  \n",
       "1210              0    20   25  \n",
       "1211              0    20   25  \n",
       "1212              0    20   25  \n",
       "\n",
       "[1213 rows x 27 columns]"
      ]
     },
     "execution_count": 23,
     "metadata": {},
     "output_type": "execute_result"
    }
   ],
   "source": [
    "df"
   ]
  },
  {
   "cell_type": "markdown",
   "id": "9c4500b9",
   "metadata": {},
   "source": [
    "Now object data type column is converted into numeric column."
   ]
  },
  {
   "cell_type": "markdown",
   "id": "61d508ed",
   "metadata": {},
   "source": [
    "# Checking outliers"
   ]
  },
  {
   "cell_type": "code",
   "execution_count": 81,
   "id": "b4b90858",
   "metadata": {},
   "outputs": [
    {
     "data": {
      "text/plain": [
       "TimeElapsed                     AxesSubplot(0.125,0.71587;0.0945122x0.16413)\n",
       "territoryName                AxesSubplot(0.238415,0.71587;0.0945122x0.16413)\n",
       "availableMandates            AxesSubplot(0.351829,0.71587;0.0945122x0.16413)\n",
       "numParishes                  AxesSubplot(0.465244,0.71587;0.0945122x0.16413)\n",
       "numParishesApproved          AxesSubplot(0.578659,0.71587;0.0945122x0.16413)\n",
       "blankVotes                   AxesSubplot(0.692073,0.71587;0.0945122x0.16413)\n",
       "blankVotesPercentage         AxesSubplot(0.805488,0.71587;0.0945122x0.16413)\n",
       "nullVotes                      AxesSubplot(0.125,0.518913;0.0945122x0.16413)\n",
       "nullVotesPercentage         AxesSubplot(0.238415,0.518913;0.0945122x0.16413)\n",
       "votersPercentage            AxesSubplot(0.351829,0.518913;0.0945122x0.16413)\n",
       "subscribedVoters            AxesSubplot(0.465244,0.518913;0.0945122x0.16413)\n",
       "totalVoters                 AxesSubplot(0.578659,0.518913;0.0945122x0.16413)\n",
       "pre.blankVotes              AxesSubplot(0.692073,0.518913;0.0945122x0.16413)\n",
       "pre.blankVotesPercentage    AxesSubplot(0.805488,0.518913;0.0945122x0.16413)\n",
       "pre.nullVotes                  AxesSubplot(0.125,0.321957;0.0945122x0.16413)\n",
       "pre.nullVotesPercentage     AxesSubplot(0.238415,0.321957;0.0945122x0.16413)\n",
       "pre.votersPercentage        AxesSubplot(0.351829,0.321957;0.0945122x0.16413)\n",
       "pre.subscribedVoters        AxesSubplot(0.465244,0.321957;0.0945122x0.16413)\n",
       "pre.totalVoters             AxesSubplot(0.578659,0.321957;0.0945122x0.16413)\n",
       "Party                       AxesSubplot(0.692073,0.321957;0.0945122x0.16413)\n",
       "Mandates                    AxesSubplot(0.805488,0.321957;0.0945122x0.16413)\n",
       "Percentage                        AxesSubplot(0.125,0.125;0.0945122x0.16413)\n",
       "validVotesPercentage           AxesSubplot(0.238415,0.125;0.0945122x0.16413)\n",
       "Votes                          AxesSubplot(0.351829,0.125;0.0945122x0.16413)\n",
       "Hondt                          AxesSubplot(0.465244,0.125;0.0945122x0.16413)\n",
       "FinalMandates                  AxesSubplot(0.578659,0.125;0.0945122x0.16413)\n",
       "hour                           AxesSubplot(0.692073,0.125;0.0945122x0.16413)\n",
       "min                            AxesSubplot(0.805488,0.125;0.0945122x0.16413)\n",
       "dtype: object"
      ]
     },
     "execution_count": 81,
     "metadata": {},
     "output_type": "execute_result"
    },
    {
     "data": {
      "image/png": "[encoded data removed]",
      "text/plain": [
       "<Figure size 1080x720 with 28 Axes>"
      ]
     },
     "metadata": {
      "needs_background": "light"
     },
     "output_type": "display_data"
    }
   ],
   "source": [
    "df.plot(kind='box', subplots=True ,layout=(4,7),figsize=(15,10))"
   ]
  },
  {
   "cell_type": "markdown",
   "id": "d6abf66a",
   "metadata": {},
   "source": [
    "Outliers is present in most of the columns."
   ]
  },
  {
   "cell_type": "markdown",
   "id": "6211d7b7",
   "metadata": {},
   "source": [
    "# checking skewness"
   ]
  },
  {
   "cell_type": "code",
   "execution_count": 82,
   "id": "202f0930",
   "metadata": {},
   "outputs": [
    {
     "data": {
      "text/plain": [
       "TimeElapsed                  0.194824\n",
       "territoryName               -0.020898\n",
       "availableMandates            3.150671\n",
       "numParishes                  3.331221\n",
       "numParishesApproved          3.213943\n",
       "blankVotes                   3.337157\n",
       "blankVotesPercentage        -0.318427\n",
       "nullVotes                    3.300560\n",
       "nullVotesPercentage          0.354393\n",
       "votersPercentage            -0.583412\n",
       "subscribedVoters             3.339282\n",
       "totalVoters                  3.363404\n",
       "pre.blankVotes               3.337629\n",
       "pre.blankVotesPercentage     0.284943\n",
       "pre.nullVotes                3.317669\n",
       "pre.nullVotesPercentage      0.526896\n",
       "pre.votersPercentage        -0.322504\n",
       "pre.subscribedVoters         3.320195\n",
       "pre.totalVoters              3.353057\n",
       "Party                       -0.081119\n",
       "Mandates                     0.000000\n",
       "Percentage                   2.643957\n",
       "validVotesPercentage         2.643818\n",
       "Votes                       11.076198\n",
       "Hondt                       10.473167\n",
       "FinalMandates               11.079035\n",
       "hour                         0.000000\n",
       "min                          0.194824\n",
       "dtype: float64"
      ]
     },
     "execution_count": 82,
     "metadata": {},
     "output_type": "execute_result"
    }
   ],
   "source": [
    "df.skew()"
   ]
  },
  {
   "cell_type": "markdown",
   "id": "2cdb85c6",
   "metadata": {},
   "source": [
    "columns is in range between +.5 and -.5 are not skewed.\n",
    "\n",
    "skewed columns are:\n",
    "    \n",
    "    availableMandates \n",
    "    \n",
    "    numParishes\n",
    "    \n",
    "    numParishesApproved \n",
    "    \n",
    "    blankVotes\n",
    "    \n",
    "    nullVotes\n",
    "    \n",
    "    subscribedVoters \n",
    "    \n",
    "    totalVoters  \n",
    "    \n",
    "    pre.blankVotes \n",
    "    \n",
    "    pre.nullVotes\n",
    "    \n",
    "    pre.subscribedVoters \n",
    "    \n",
    "    pre.totalVoters\n",
    "    \n",
    "    Percentage \n",
    "    \n",
    "    validVotesPercentage \n",
    "    \n",
    "    Votes\n",
    "    \n",
    "    Hondt\n",
    "    \n",
    "    FinalMandates\n",
    "    \n",
    "    \n",
    "    We will not treat skewness on  object dataype , nominal datatype and target column.\n",
    "    \n",
    "    \n",
    "    \n",
    "    \n",
    "    \n",
    "    \n",
    "    \n",
    "    \n",
    "    \n",
    "    \n",
    "    \n",
    "    \n",
    "    \n",
    "    \n",
    "    \n",
    "    \n",
    "    \n",
    "    \n",
    "    \n",
    "    \n",
    "    \n",
    "    \n",
    "    \n",
    "    "
   ]
  },
  {
   "cell_type": "markdown",
   "id": "a67b84a9",
   "metadata": {},
   "source": [
    "# Statistical Summary"
   ]
  },
  {
   "cell_type": "code",
   "execution_count": 13,
   "id": "dff189f8",
   "metadata": {},
   "outputs": [
    {
     "data": {
      "text/html": [
       "<div>\n",
       "<style scoped>\n",
       "    .dataframe tbody tr th:only-of-type {\n",
       "        vertical-align: middle;\n",
       "    }\n",
       "\n",
       "    .dataframe tbody tr th {\n",
       "        vertical-align: top;\n",
       "    }\n",
       "\n",
       "    .dataframe thead th {\n",
       "        text-align: right;\n",
       "    }\n",
       "</style>\n",
       "<table border=\"1\" class=\"dataframe\">\n",
       "  <thead>\n",
       "    <tr style=\"text-align: right;\">\n",
       "      <th></th>\n",
       "      <th>TimeElapsed</th>\n",
       "      <th>availableMandates</th>\n",
       "      <th>numParishes</th>\n",
       "      <th>numParishesApproved</th>\n",
       "      <th>blankVotes</th>\n",
       "      <th>blankVotesPercentage</th>\n",
       "      <th>nullVotes</th>\n",
       "      <th>nullVotesPercentage</th>\n",
       "      <th>votersPercentage</th>\n",
       "      <th>subscribedVoters</th>\n",
       "      <th>...</th>\n",
       "      <th>pre.votersPercentage</th>\n",
       "      <th>pre.subscribedVoters</th>\n",
       "      <th>pre.totalVoters</th>\n",
       "      <th>Percentage</th>\n",
       "      <th>validVotesPercentage</th>\n",
       "      <th>Votes</th>\n",
       "      <th>Hondt</th>\n",
       "      <th>FinalMandates</th>\n",
       "      <th>hour</th>\n",
       "      <th>min</th>\n",
       "    </tr>\n",
       "  </thead>\n",
       "  <tbody>\n",
       "    <tr>\n",
       "      <th>count</th>\n",
       "      <td>1213.000000</td>\n",
       "      <td>1213.000000</td>\n",
       "      <td>1213.000000</td>\n",
       "      <td>1213.000000</td>\n",
       "      <td>1213.000000</td>\n",
       "      <td>1213.000000</td>\n",
       "      <td>1213.000000</td>\n",
       "      <td>1213.000000</td>\n",
       "      <td>1213.000000</td>\n",
       "      <td>1213.000000</td>\n",
       "      <td>...</td>\n",
       "      <td>1213.000000</td>\n",
       "      <td>1213.000000</td>\n",
       "      <td>1213.000000</td>\n",
       "      <td>1213.000000</td>\n",
       "      <td>1213.000000</td>\n",
       "      <td>1213.000000</td>\n",
       "      <td>1213.000000</td>\n",
       "      <td>1213.000000</td>\n",
       "      <td>1213.0</td>\n",
       "      <td>1213.000000</td>\n",
       "    </tr>\n",
       "    <tr>\n",
       "      <th>mean</th>\n",
       "      <td>5.453421</td>\n",
       "      <td>26.870569</td>\n",
       "      <td>358.355317</td>\n",
       "      <td>111.887881</td>\n",
       "      <td>926.678483</td>\n",
       "      <td>2.411319</td>\n",
       "      <td>868.944765</td>\n",
       "      <td>2.183735</td>\n",
       "      <td>51.861204</td>\n",
       "      <td>72650.773289</td>\n",
       "      <td>...</td>\n",
       "      <td>54.099275</td>\n",
       "      <td>79257.338829</td>\n",
       "      <td>41343.248969</td>\n",
       "      <td>4.956059</td>\n",
       "      <td>5.193355</td>\n",
       "      <td>1739.174773</td>\n",
       "      <td>1.307502</td>\n",
       "      <td>1.307502</td>\n",
       "      <td>20.0</td>\n",
       "      <td>15.453421</td>\n",
       "    </tr>\n",
       "    <tr>\n",
       "      <th>std</th>\n",
       "      <td>4.500698</td>\n",
       "      <td>55.618238</td>\n",
       "      <td>750.239047</td>\n",
       "      <td>236.571623</td>\n",
       "      <td>1937.646076</td>\n",
       "      <td>0.751206</td>\n",
       "      <td>1820.497416</td>\n",
       "      <td>0.514144</td>\n",
       "      <td>3.959896</td>\n",
       "      <td>152555.910698</td>\n",
       "      <td>...</td>\n",
       "      <td>4.876772</td>\n",
       "      <td>166293.969636</td>\n",
       "      <td>86681.128053</td>\n",
       "      <td>10.931462</td>\n",
       "      <td>11.456085</td>\n",
       "      <td>9611.501174</td>\n",
       "      <td>7.502381</td>\n",
       "      <td>7.814701</td>\n",
       "      <td>0.0</td>\n",
       "      <td>4.500698</td>\n",
       "    </tr>\n",
       "    <tr>\n",
       "      <th>min</th>\n",
       "      <td>0.000000</td>\n",
       "      <td>2.000000</td>\n",
       "      <td>54.000000</td>\n",
       "      <td>3.000000</td>\n",
       "      <td>19.000000</td>\n",
       "      <td>0.550000</td>\n",
       "      <td>39.000000</td>\n",
       "      <td>1.340000</td>\n",
       "      <td>42.880000</td>\n",
       "      <td>5767.000000</td>\n",
       "      <td>...</td>\n",
       "      <td>45.140000</td>\n",
       "      <td>6383.000000</td>\n",
       "      <td>3215.000000</td>\n",
       "      <td>0.020000</td>\n",
       "      <td>0.020000</td>\n",
       "      <td>1.000000</td>\n",
       "      <td>0.000000</td>\n",
       "      <td>0.000000</td>\n",
       "      <td>20.0</td>\n",
       "      <td>10.000000</td>\n",
       "    </tr>\n",
       "    <tr>\n",
       "      <th>25%</th>\n",
       "      <td>0.000000</td>\n",
       "      <td>4.000000</td>\n",
       "      <td>75.000000</td>\n",
       "      <td>12.000000</td>\n",
       "      <td>138.000000</td>\n",
       "      <td>1.910000</td>\n",
       "      <td>117.000000</td>\n",
       "      <td>1.840000</td>\n",
       "      <td>49.120000</td>\n",
       "      <td>13439.000000</td>\n",
       "      <td>...</td>\n",
       "      <td>50.380000</td>\n",
       "      <td>14191.000000</td>\n",
       "      <td>8146.000000</td>\n",
       "      <td>0.220000</td>\n",
       "      <td>0.220000</td>\n",
       "      <td>26.000000</td>\n",
       "      <td>0.000000</td>\n",
       "      <td>0.000000</td>\n",
       "      <td>20.0</td>\n",
       "      <td>10.000000</td>\n",
       "    </tr>\n",
       "    <tr>\n",
       "      <th>50%</th>\n",
       "      <td>5.000000</td>\n",
       "      <td>9.000000</td>\n",
       "      <td>147.000000</td>\n",
       "      <td>23.000000</td>\n",
       "      <td>268.000000</td>\n",
       "      <td>2.490000</td>\n",
       "      <td>230.000000</td>\n",
       "      <td>2.160000</td>\n",
       "      <td>52.240000</td>\n",
       "      <td>20899.000000</td>\n",
       "      <td>...</td>\n",
       "      <td>55.080000</td>\n",
       "      <td>22356.000000</td>\n",
       "      <td>12251.000000</td>\n",
       "      <td>0.520000</td>\n",
       "      <td>0.540000</td>\n",
       "      <td>89.000000</td>\n",
       "      <td>0.000000</td>\n",
       "      <td>0.000000</td>\n",
       "      <td>20.0</td>\n",
       "      <td>15.000000</td>\n",
       "    </tr>\n",
       "    <tr>\n",
       "      <th>75%</th>\n",
       "      <td>10.000000</td>\n",
       "      <td>18.000000</td>\n",
       "      <td>242.000000</td>\n",
       "      <td>96.000000</td>\n",
       "      <td>735.000000</td>\n",
       "      <td>2.890000</td>\n",
       "      <td>740.000000</td>\n",
       "      <td>2.490000</td>\n",
       "      <td>55.330000</td>\n",
       "      <td>53691.000000</td>\n",
       "      <td>...</td>\n",
       "      <td>57.400000</td>\n",
       "      <td>57540.000000</td>\n",
       "      <td>31957.000000</td>\n",
       "      <td>2.390000</td>\n",
       "      <td>2.500000</td>\n",
       "      <td>492.000000</td>\n",
       "      <td>0.000000</td>\n",
       "      <td>0.000000</td>\n",
       "      <td>20.0</td>\n",
       "      <td>20.000000</td>\n",
       "    </tr>\n",
       "    <tr>\n",
       "      <th>max</th>\n",
       "      <td>15.000000</td>\n",
       "      <td>226.000000</td>\n",
       "      <td>3092.000000</td>\n",
       "      <td>1081.000000</td>\n",
       "      <td>9652.000000</td>\n",
       "      <td>3.870000</td>\n",
       "      <td>8874.000000</td>\n",
       "      <td>3.350000</td>\n",
       "      <td>57.360000</td>\n",
       "      <td>752529.000000</td>\n",
       "      <td>...</td>\n",
       "      <td>62.580000</td>\n",
       "      <td>813743.000000</td>\n",
       "      <td>428546.000000</td>\n",
       "      <td>49.110000</td>\n",
       "      <td>51.420000</td>\n",
       "      <td>147993.000000</td>\n",
       "      <td>94.000000</td>\n",
       "      <td>106.000000</td>\n",
       "      <td>20.0</td>\n",
       "      <td>25.000000</td>\n",
       "    </tr>\n",
       "  </tbody>\n",
       "</table>\n",
       "<p>8 rows × 25 columns</p>\n",
       "</div>"
      ],
      "text/plain": [
       "       TimeElapsed  availableMandates  numParishes  numParishesApproved  \\\n",
       "count  1213.000000        1213.000000  1213.000000          1213.000000   \n",
       "mean      5.453421          26.870569   358.355317           111.887881   \n",
       "std       4.500698          55.618238   750.239047           236.571623   \n",
       "min       0.000000           2.000000    54.000000             3.000000   \n",
       "25%       0.000000           4.000000    75.000000            12.000000   \n",
       "50%       5.000000           9.000000   147.000000            23.000000   \n",
       "75%      10.000000          18.000000   242.000000            96.000000   \n",
       "max      15.000000         226.000000  3092.000000          1081.000000   \n",
       "\n",
       "        blankVotes  blankVotesPercentage    nullVotes  nullVotesPercentage  \\\n",
       "count  1213.000000           1213.000000  1213.000000          1213.000000   \n",
       "mean    926.678483              2.411319   868.944765             2.183735   \n",
       "std    1937.646076              0.751206  1820.497416             0.514144   \n",
       "min      19.000000              0.550000    39.000000             1.340000   \n",
       "25%     138.000000              1.910000   117.000000             1.840000   \n",
       "50%     268.000000              2.490000   230.000000             2.160000   \n",
       "75%     735.000000              2.890000   740.000000             2.490000   \n",
       "max    9652.000000              3.870000  8874.000000             3.350000   \n",
       "\n",
       "       votersPercentage  subscribedVoters  ...  pre.votersPercentage  \\\n",
       "count       1213.000000       1213.000000  ...           1213.000000   \n",
       "mean          51.861204      72650.773289  ...             54.099275   \n",
       "std            3.959896     152555.910698  ...              4.876772   \n",
       "min           42.880000       5767.000000  ...             45.140000   \n",
       "25%           49.120000      13439.000000  ...             50.380000   \n",
       "50%           52.240000      20899.000000  ...             55.080000   \n",
       "75%           55.330000      53691.000000  ...             57.400000   \n",
       "max           57.360000     752529.000000  ...             62.580000   \n",
       "\n",
       "       pre.subscribedVoters  pre.totalVoters   Percentage  \\\n",
       "count           1213.000000      1213.000000  1213.000000   \n",
       "mean           79257.338829     41343.248969     4.956059   \n",
       "std           166293.969636     86681.128053    10.931462   \n",
       "min             6383.000000      3215.000000     0.020000   \n",
       "25%            14191.000000      8146.000000     0.220000   \n",
       "50%            22356.000000     12251.000000     0.520000   \n",
       "75%            57540.000000     31957.000000     2.390000   \n",
       "max           813743.000000    428546.000000    49.110000   \n",
       "\n",
       "       validVotesPercentage          Votes        Hondt  FinalMandates  \\\n",
       "count           1213.000000    1213.000000  1213.000000    1213.000000   \n",
       "mean               5.193355    1739.174773     1.307502       1.307502   \n",
       "std               11.456085    9611.501174     7.502381       7.814701   \n",
       "min                0.020000       1.000000     0.000000       0.000000   \n",
       "25%                0.220000      26.000000     0.000000       0.000000   \n",
       "50%                0.540000      89.000000     0.000000       0.000000   \n",
       "75%                2.500000     492.000000     0.000000       0.000000   \n",
       "max               51.420000  147993.000000    94.000000     106.000000   \n",
       "\n",
       "         hour          min  \n",
       "count  1213.0  1213.000000  \n",
       "mean     20.0    15.453421  \n",
       "std       0.0     4.500698  \n",
       "min      20.0    10.000000  \n",
       "25%      20.0    10.000000  \n",
       "50%      20.0    15.000000  \n",
       "75%      20.0    20.000000  \n",
       "max      20.0    25.000000  \n",
       "\n",
       "[8 rows x 25 columns]"
      ]
     },
     "execution_count": 13,
     "metadata": {},
     "output_type": "execute_result"
    }
   ],
   "source": [
    "df.describe()"
   ]
  },
  {
   "cell_type": "markdown",
   "id": "da0c0ddc",
   "metadata": {},
   "source": [
    "The number of count is samem for every column.\n",
    "\n",
    "There is difference between mean and mmedian(50%) in some of the columns.\n",
    "\n",
    "Data is deviated in some of the columns.\n",
    "\n",
    "There is some difference between 75% and max in some of the columns means outliers is present."
   ]
  },
  {
   "cell_type": "markdown",
   "id": "5c6e53e4",
   "metadata": {},
   "source": [
    "# checking correlations"
   ]
  },
  {
   "cell_type": "code",
   "execution_count": 19,
   "id": "9112d9f9",
   "metadata": {},
   "outputs": [
    {
     "data": {
      "text/plain": [
       "<AxesSubplot:>"
      ]
     },
     "execution_count": 19,
     "metadata": {},
     "output_type": "execute_result"
    },
    {
     "data": {
      "image/png": "[encoded data removed]",
      "text/plain": [
       "<Figure size 1584x864 with 2 Axes>"
      ]
     },
     "metadata": {
      "needs_background": "light"
     },
     "output_type": "display_data"
    }
   ],
   "source": [
    "plt.figure(figsize=(22,12))\n",
    "sns.heatmap(df.corr(),annot=True,linewidths =0.1,fmt='0.2f')"
   ]
  },
  {
   "cell_type": "markdown",
   "id": "2c31aa28",
   "metadata": {},
   "source": [
    "Votes and Hondt columns are positively correlated with the target columns FinalMandates.\n",
    "\n",
    "TimeElapsed column and some more columns are negatively correlated with the target column FinalMandates."
   ]
  },
  {
   "cell_type": "markdown",
   "id": "1533578f",
   "metadata": {},
   "source": [
    "# Outlier Removal"
   ]
  },
  {
   "cell_type": "code",
   "execution_count": 20,
   "id": "ecd282f5",
   "metadata": {},
   "outputs": [],
   "source": [
    "from scipy.stats import zscore"
   ]
  },
  {
   "cell_type": "code",
   "execution_count": 24,
   "id": "ffb6abc4",
   "metadata": {},
   "outputs": [
    {
     "data": {
      "text/plain": [
       "(array([   0,    0,    0, ..., 1179, 1199, 1199], dtype=int64),\n",
       " array([ 2,  3,  4, ..., 20, 20, 21], dtype=int64))"
      ]
     },
     "execution_count": 24,
     "metadata": {},
     "output_type": "execute_result"
    }
   ],
   "source": [
    "z=np.abs(zscore(df))\n",
    "threshold=3\n",
    "np.where(z>3)"
   ]
  },
  {
   "cell_type": "code",
   "execution_count": 25,
   "id": "f216f07e",
   "metadata": {},
   "outputs": [
    {
     "data": {
      "text/html": [
       "<div>\n",
       "<style scoped>\n",
       "    .dataframe tbody tr th:only-of-type {\n",
       "        vertical-align: middle;\n",
       "    }\n",
       "\n",
       "    .dataframe tbody tr th {\n",
       "        vertical-align: top;\n",
       "    }\n",
       "\n",
       "    .dataframe thead th {\n",
       "        text-align: right;\n",
       "    }\n",
       "</style>\n",
       "<table border=\"1\" class=\"dataframe\">\n",
       "  <thead>\n",
       "    <tr style=\"text-align: right;\">\n",
       "      <th></th>\n",
       "      <th>TimeElapsed</th>\n",
       "      <th>territoryName</th>\n",
       "      <th>availableMandates</th>\n",
       "      <th>numParishes</th>\n",
       "      <th>numParishesApproved</th>\n",
       "      <th>blankVotes</th>\n",
       "      <th>blankVotesPercentage</th>\n",
       "      <th>nullVotes</th>\n",
       "      <th>nullVotesPercentage</th>\n",
       "      <th>votersPercentage</th>\n",
       "      <th>...</th>\n",
       "      <th>pre.subscribedVoters</th>\n",
       "      <th>pre.totalVoters</th>\n",
       "      <th>Party</th>\n",
       "      <th>Percentage</th>\n",
       "      <th>validVotesPercentage</th>\n",
       "      <th>Votes</th>\n",
       "      <th>Hondt</th>\n",
       "      <th>FinalMandates</th>\n",
       "      <th>hour</th>\n",
       "      <th>min</th>\n",
       "    </tr>\n",
       "  </thead>\n",
       "  <tbody>\n",
       "  </tbody>\n",
       "</table>\n",
       "<p>0 rows × 27 columns</p>\n",
       "</div>"
      ],
      "text/plain": [
       "Empty DataFrame\n",
       "Columns: [TimeElapsed, territoryName, availableMandates, numParishes, numParishesApproved, blankVotes, blankVotesPercentage, nullVotes, nullVotesPercentage, votersPercentage, subscribedVoters, totalVoters, pre.blankVotes, pre.blankVotesPercentage, pre.nullVotes, pre.nullVotesPercentage, pre.votersPercentage, pre.subscribedVoters, pre.totalVoters, Party, Percentage, validVotesPercentage, Votes, Hondt, FinalMandates, hour, min]\n",
       "Index: []\n",
       "\n",
       "[0 rows x 27 columns]"
      ]
     },
     "execution_count": 25,
     "metadata": {},
     "output_type": "execute_result"
    }
   ],
   "source": [
    "df_new=df[(z<3).all(axis=1)]\n",
    "df_new"
   ]
  },
  {
   "cell_type": "markdown",
   "id": "3515b6e3",
   "metadata": {},
   "source": [
    " so during oulier removal all columns is becoming 0 , so we will not consider this process further."
   ]
  },
  {
   "cell_type": "code",
   "execution_count": null,
   "id": "d3d17f85",
   "metadata": {},
   "outputs": [],
   "source": []
  },
  {
   "cell_type": "markdown",
   "id": "fc1e0b81",
   "metadata": {},
   "source": [
    "# SEPRATING THE COLUMNS INTO X AND Y"
   ]
  },
  {
   "cell_type": "code",
   "execution_count": 27,
   "id": "6f1fc53f",
   "metadata": {},
   "outputs": [],
   "source": [
    "x=df.drop('FinalMandates',axis=1)\n",
    "y=df['FinalMandates']"
   ]
  },
  {
   "cell_type": "code",
   "execution_count": 28,
   "id": "392fac5c",
   "metadata": {},
   "outputs": [
    {
     "data": {
      "text/plain": [
       "(1213, 26)"
      ]
     },
     "execution_count": 28,
     "metadata": {},
     "output_type": "execute_result"
    }
   ],
   "source": [
    "x.shape"
   ]
  },
  {
   "cell_type": "code",
   "execution_count": 29,
   "id": "d2d26681",
   "metadata": {},
   "outputs": [
    {
     "data": {
      "text/plain": [
       "(1213,)"
      ]
     },
     "execution_count": 29,
     "metadata": {},
     "output_type": "execute_result"
    }
   ],
   "source": [
    "y.shape"
   ]
  },
  {
   "cell_type": "markdown",
   "id": "39c7dd2a",
   "metadata": {},
   "source": [
    "# TRAIN TEST SPLIT"
   ]
  },
  {
   "cell_type": "code",
   "execution_count": 30,
   "id": "f16932a4",
   "metadata": {},
   "outputs": [
    {
     "name": "stdout",
     "output_type": "stream",
     "text": [
      "(946, 26)\n",
      "(267, 26)\n",
      "(946,)\n",
      "(267,)\n"
     ]
    }
   ],
   "source": [
    "from sklearn.model_selection import train_test_split\n",
    "x_train,x_test,y_train,y_test=train_test_split(x,y,test_size=.22,random_state=47)\n",
    "print(x_train.shape)\n",
    "print(x_test.shape)\n",
    "print(y_train.shape)\n",
    "print(y_test.shape)"
   ]
  },
  {
   "cell_type": "markdown",
   "id": "9cb89cff",
   "metadata": {},
   "source": [
    "# Model Building"
   ]
  },
  {
   "cell_type": "code",
   "execution_count": 31,
   "id": "4a2edb41",
   "metadata": {},
   "outputs": [],
   "source": [
    "# importing libraries\n",
    "from sklearn.linear_model import LinearRegression ,Lasso ,Ridge ,ElasticNet\n",
    "from sklearn.metrics import r2_score\n",
    "from sklearn.metrics import mean_squared_error, mean_absolute_error\n",
    "from sklearn.model_selection import cross_val_score"
   ]
  },
  {
   "cell_type": "code",
   "execution_count": 32,
   "id": "ffb55c1c",
   "metadata": {},
   "outputs": [
    {
     "name": "stdout",
     "output_type": "stream",
     "text": [
      "r2 score 0.9837816706453597\n",
      "error\n",
      "mean absolute error 0.3081775521502891\n",
      "mean squared error 1.1110764776531368\n",
      "root mean squared error 1.0540761251698745\n"
     ]
    }
   ],
   "source": [
    "\n",
    "\n",
    "\n",
    "#for Linear Regression\n",
    "\n",
    "lr=LinearRegression()\n",
    "lr.fit(x_train,y_train)\n",
    "pred_y=lr.predict(x_test)\n",
    "print('r2 score',r2_score(y_test,pred_y))\n",
    "\n",
    "print('error')\n",
    "print('mean absolute error', mean_absolute_error(y_test,pred_y))\n",
    "print('mean squared error', mean_squared_error(y_test,pred_y))\n",
    "\n",
    "print('root mean squared error', np.sqrt(mean_squared_error(y_test,pred_y)))"
   ]
  },
  {
   "cell_type": "code",
   "execution_count": 33,
   "id": "379daf6b",
   "metadata": {},
   "outputs": [
    {
     "name": "stdout",
     "output_type": "stream",
     "text": [
      "cv score 0.9702177736222103\n"
     ]
    }
   ],
   "source": [
    "# For Linear Regression (cross validation)\n",
    "\n",
    "\n",
    "score=cross_val_score(lr,x,y,cv=10)\n",
    "print('cv score',np.mean(score))\n"
   ]
  },
  {
   "cell_type": "markdown",
   "id": "38b6d587",
   "metadata": {},
   "source": [
    "so r2 score is 98.37% and cv score is 97.02."
   ]
  },
  {
   "cell_type": "code",
   "execution_count": 35,
   "id": "eb20c5c9",
   "metadata": {},
   "outputs": [
    {
     "name": "stdout",
     "output_type": "stream",
     "text": [
      "r2 score 0.9837793012274395\n",
      "error\n",
      "mean absolute error 0.3084397873599979\n",
      "mean squared error 1.1112388004460234\n",
      "root mean squared error 1.0541531200191097\n"
     ]
    }
   ],
   "source": [
    "# For ridge\n",
    "rd=Ridge()\n",
    "rd.fit(x_train,y_train)\n",
    "pred_y=rd.predict(x_test)\n",
    "print('r2 score', r2_score(y_test,pred_y))\n",
    "\n",
    "print('error')\n",
    "print('mean absolute error',mean_absolute_error(y_test,pred_y))\n",
    "print('mean squared error',mean_squared_error(y_test,pred_y))\n",
    "print('root mean squared error',np.sqrt(mean_squared_error(y_test,pred_y)))"
   ]
  },
  {
   "cell_type": "code",
   "execution_count": 36,
   "id": "0c844959",
   "metadata": {},
   "outputs": [
    {
     "name": "stdout",
     "output_type": "stream",
     "text": [
      "cv score 0.9703207748816268\n"
     ]
    }
   ],
   "source": [
    "# Ridge cross validation\n",
    "score=cross_val_score(rd,x,y,cv=10)\n",
    "print('cv score',np.mean(score))"
   ]
  },
  {
   "cell_type": "markdown",
   "id": "a856dffe",
   "metadata": {},
   "source": [
    "r2 score is 98.37% and cv score is 97.03%"
   ]
  },
  {
   "cell_type": "code",
   "execution_count": 38,
   "id": "0c113283",
   "metadata": {},
   "outputs": [
    {
     "name": "stdout",
     "output_type": "stream",
     "text": [
      "r2 score 0.9751514048242576\n",
      "error\n",
      "mean absolute error 0.4466056106010034\n",
      "mean squared errot 1.7023140299338713\n",
      "root mean squared error 1.3047275692395985\n"
     ]
    }
   ],
   "source": [
    "# for lasso\n",
    "ls=Lasso()\n",
    "ls.fit(x_train,y_train)\n",
    "pred_y=ls.predict(x_test)\n",
    "print('r2 score',r2_score(y_test,pred_y))\n",
    "print('error')\n",
    "print('mean absolute error',mean_absolute_error(y_test,pred_y))\n",
    "print('mean squared errot',mean_squared_error(y_test,pred_y))\n",
    "print('root mean squared error',np.sqrt(mean_squared_error(y_test,pred_y)))"
   ]
  },
  {
   "cell_type": "code",
   "execution_count": 39,
   "id": "d2079507",
   "metadata": {},
   "outputs": [
    {
     "name": "stdout",
     "output_type": "stream",
     "text": [
      "cv score 0.949741062670781\n"
     ]
    }
   ],
   "source": [
    "# lasso cv score\n",
    "score=cross_val_score(ls,x,y,cv=10)\n",
    "print('cv score',np.mean(score))"
   ]
  },
  {
   "cell_type": "markdown",
   "id": "f0c25634",
   "metadata": {},
   "source": [
    "r2 score is 97.51% and cv score is 94.97%."
   ]
  },
  {
   "cell_type": "code",
   "execution_count": 44,
   "id": "636624fb",
   "metadata": {},
   "outputs": [
    {
     "name": "stdout",
     "output_type": "stream",
     "text": [
      "r2 score 0.9767341088017742\n",
      "error\n",
      "mean absolute error 0.4285630363493698\n",
      "mean squared error 1.5938870075165643\n",
      "root mean squared error 1.2624923791914802\n"
     ]
    }
   ],
   "source": [
    "# for elasticnet\n",
    "enc=ElasticNet()\n",
    "enc.fit(x_train,y_train)\n",
    "pred_y=enc.predict(x_test)\n",
    "print('r2 score',r2_score(y_test,pred_y))\n",
    "print('error')\n",
    "print('mean absolute error',mean_absolute_error(y_test,pred_y))\n",
    "print('mean squared error',mean_squared_error(y_test,pred_y))\n",
    "print('root mean squared error',np.sqrt(mean_squared_error(y_test,pred_y)))"
   ]
  },
  {
   "cell_type": "code",
   "execution_count": 48,
   "id": "cdf56ff8",
   "metadata": {},
   "outputs": [
    {
     "name": "stdout",
     "output_type": "stream",
     "text": [
      "cv score 0.9562853657434867\n"
     ]
    }
   ],
   "source": [
    "# elastic net cross val score\n",
    "score=cross_val_score(enc,x,y,cv=10)\n",
    "print('cv score',np.mean(score))"
   ]
  },
  {
   "cell_type": "markdown",
   "id": "207d71c2",
   "metadata": {},
   "source": [
    "r2 score is 97.67 and cv score is 95.62."
   ]
  },
  {
   "cell_type": "raw",
   "id": "a07518f1",
   "metadata": {},
   "source": [
    "So, form above predictions we can say our every models are predicting well and giving accuracy of more than 95%."
   ]
  },
  {
   "cell_type": "markdown",
   "id": "eda366ff",
   "metadata": {},
   "source": [
    "# ENSEMBLE TECHNIQUE for getting better prediction"
   ]
  },
  {
   "cell_type": "code",
   "execution_count": 49,
   "id": "87e45f43",
   "metadata": {},
   "outputs": [
    {
     "name": "stdout",
     "output_type": "stream",
     "text": [
      "{'criterion': 'mse', 'max_features': 'auto'}\n"
     ]
    }
   ],
   "source": [
    "from sklearn.ensemble import RandomForestRegressor\n",
    "from sklearn.model_selection import GridSearchCV\n",
    "parameters={'criterion':['mse','mae'],'max_features':['auto','sqrt','log2']}\n",
    "rf=RandomForestRegressor()\n",
    "clf=GridSearchCV(rf,parameters)\n",
    "clf.fit(x_train,y_train)\n",
    "print(clf.best_params_)"
   ]
  },
  {
   "cell_type": "code",
   "execution_count": 53,
   "id": "779f7901",
   "metadata": {},
   "outputs": [
    {
     "name": "stdout",
     "output_type": "stream",
     "text": [
      "r2 score: 99.36409939293522\n",
      "cross val score: 99.83183329088666\n"
     ]
    }
   ],
   "source": [
    "rf=RandomForestRegressor(criterion='mae',max_features='auto')\n",
    "rf.fit(x_train,y_train)\n",
    "rf.score(x_train,y_train)\n",
    "pred_decision=rf.predict(x_test)\n",
    "\n",
    "rfs=r2_score(y_test,pred_decision)\n",
    "print('r2 score:', rfs*100)\n",
    "\n",
    "rfscore=cross_val_score(rf,x,y,cv=5)\n",
    "rfc=rfscore.mean()\n",
    "print('cross val score:',rfc*100)"
   ]
  },
  {
   "cell_type": "markdown",
   "id": "1c73880f",
   "metadata": {},
   "source": [
    "After applying ensemble techniques r2 score is 99.36% and cv score is 99.83% , it means the performance of our model is extremly well."
   ]
  },
  {
   "cell_type": "markdown",
   "id": "e912cb3e",
   "metadata": {},
   "source": [
    "# SAVING THE MODEL"
   ]
  },
  {
   "cell_type": "code",
   "execution_count": 54,
   "id": "9ef39964",
   "metadata": {},
   "outputs": [],
   "source": [
    "import pickle\n",
    "filename='election_result.pkl'\n",
    "pickle.dump(rf,open(filename,'wb'))"
   ]
  },
  {
   "cell_type": "markdown",
   "id": "7a9e74d1",
   "metadata": {},
   "source": [
    "# CONCLUSION"
   ]
  },
  {
   "cell_type": "code",
   "execution_count": 57,
   "id": "a936dbe4",
   "metadata": {},
   "outputs": [
    {
     "name": "stdout",
     "output_type": "stream",
     "text": [
      "0.9936409939293521\n"
     ]
    }
   ],
   "source": [
    "loaded_model=pickle.load(open('election_result.pkl','rb'))\n",
    "result=loaded_model.score(x_test, y_test)\n",
    "print(result)"
   ]
  },
  {
   "cell_type": "code",
   "execution_count": 58,
   "id": "54526e71",
   "metadata": {},
   "outputs": [
    {
     "data": {
      "text/html": [
       "<div>\n",
       "<style scoped>\n",
       "    .dataframe tbody tr th:only-of-type {\n",
       "        vertical-align: middle;\n",
       "    }\n",
       "\n",
       "    .dataframe tbody tr th {\n",
       "        vertical-align: top;\n",
       "    }\n",
       "\n",
       "    .dataframe thead th {\n",
       "        text-align: right;\n",
       "    }\n",
       "</style>\n",
       "<table border=\"1\" class=\"dataframe\">\n",
       "  <thead>\n",
       "    <tr style=\"text-align: right;\">\n",
       "      <th></th>\n",
       "      <th>0</th>\n",
       "      <th>1</th>\n",
       "      <th>2</th>\n",
       "      <th>3</th>\n",
       "      <th>4</th>\n",
       "      <th>5</th>\n",
       "      <th>6</th>\n",
       "      <th>7</th>\n",
       "      <th>8</th>\n",
       "      <th>9</th>\n",
       "      <th>...</th>\n",
       "      <th>257</th>\n",
       "      <th>258</th>\n",
       "      <th>259</th>\n",
       "      <th>260</th>\n",
       "      <th>261</th>\n",
       "      <th>262</th>\n",
       "      <th>263</th>\n",
       "      <th>264</th>\n",
       "      <th>265</th>\n",
       "      <th>266</th>\n",
       "    </tr>\n",
       "  </thead>\n",
       "  <tbody>\n",
       "    <tr>\n",
       "      <th>predicted</th>\n",
       "      <td>0.0</td>\n",
       "      <td>0.28</td>\n",
       "      <td>0.0</td>\n",
       "      <td>0.0</td>\n",
       "      <td>0.51</td>\n",
       "      <td>1.09</td>\n",
       "      <td>0.01</td>\n",
       "      <td>0.0</td>\n",
       "      <td>0.0</td>\n",
       "      <td>0.01</td>\n",
       "      <td>...</td>\n",
       "      <td>0.0</td>\n",
       "      <td>0.0</td>\n",
       "      <td>0.0</td>\n",
       "      <td>0.0</td>\n",
       "      <td>2.03</td>\n",
       "      <td>0.0</td>\n",
       "      <td>0.01</td>\n",
       "      <td>0.0</td>\n",
       "      <td>0.0</td>\n",
       "      <td>0.0</td>\n",
       "    </tr>\n",
       "    <tr>\n",
       "      <th>original</th>\n",
       "      <td>0.0</td>\n",
       "      <td>0.28</td>\n",
       "      <td>0.0</td>\n",
       "      <td>0.0</td>\n",
       "      <td>0.51</td>\n",
       "      <td>1.09</td>\n",
       "      <td>0.01</td>\n",
       "      <td>0.0</td>\n",
       "      <td>0.0</td>\n",
       "      <td>0.01</td>\n",
       "      <td>...</td>\n",
       "      <td>0.0</td>\n",
       "      <td>0.0</td>\n",
       "      <td>0.0</td>\n",
       "      <td>0.0</td>\n",
       "      <td>2.03</td>\n",
       "      <td>0.0</td>\n",
       "      <td>0.01</td>\n",
       "      <td>0.0</td>\n",
       "      <td>0.0</td>\n",
       "      <td>0.0</td>\n",
       "    </tr>\n",
       "  </tbody>\n",
       "</table>\n",
       "<p>2 rows × 267 columns</p>\n",
       "</div>"
      ],
      "text/plain": [
       "           0     1    2    3     4     5     6    7    8     9    ...  257  \\\n",
       "predicted  0.0  0.28  0.0  0.0  0.51  1.09  0.01  0.0  0.0  0.01  ...  0.0   \n",
       "original   0.0  0.28  0.0  0.0  0.51  1.09  0.01  0.0  0.0  0.01  ...  0.0   \n",
       "\n",
       "           258  259  260   261  262   263  264  265  266  \n",
       "predicted  0.0  0.0  0.0  2.03  0.0  0.01  0.0  0.0  0.0  \n",
       "original   0.0  0.0  0.0  2.03  0.0  0.01  0.0  0.0  0.0  \n",
       "\n",
       "[2 rows x 267 columns]"
      ]
     },
     "execution_count": 58,
     "metadata": {},
     "output_type": "execute_result"
    }
   ],
   "source": [
    "conclusion=pd.DataFrame([loaded_model.predict(x_test)[:],pred_decision[:]],index=['predicted','original'])\n",
    "conclusion\n",
    "                "
   ]
  },
  {
   "cell_type": "markdown",
   "id": "7223408b",
   "metadata": {},
   "source": [
    "With the help of Project , I learnt how to done EDA.\n",
    "\n",
    "I also learnt ,making use of packages like matplotlib and seaborn to develop better insights of the data.\n",
    "\n",
    "I have also learnt how to remove outliers and skewness to predict better accuracy.\n",
    "\n",
    "I have also seen the impacts on the columns on Average Price.\n",
    "\n",
    "I came to know through the analysis ,which model will predict better accuracy.\n",
    "\n",
    "This project helped me to gain deep knowledge , and also get to know where to use models."
   ]
  },
  {
   "cell_type": "code",
   "execution_count": null,
   "id": "07c54aaa",
   "metadata": {},
   "outputs": [],
   "source": []
  }
 ],
 "metadata": {
  "kernelspec": {
   "display_name": "Python 3",
   "language": "python",
   "name": "python3"
  },
  "language_info": {
   "codemirror_mode": {
    "name": "ipython",
    "version": 3
   },
   "file_extension": ".py",
   "mimetype": "text/x-python",
   "name": "python",
   "nbconvert_exporter": "python",
   "pygments_lexer": "ipython3",
   "version": "3.8.8"
  }
 },
 "nbformat": 4,
 "nbformat_minor": 5
}
