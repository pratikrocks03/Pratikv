{
 "cells": [
  {
   "cell_type": "markdown",
   "id": "ab1f989a",
   "metadata": {},
   "source": [
    "# Space Server Project\n",
    "## Problem Statement:\n",
    "Context\n",
    "This is the Sloan Digital Sky Survey based dataset which offers public data of space observations. The insights gained from this dataset are very useful and can force anyone to think out of the box. \n",
    "\n",
    "Content\n",
    "The data consists of 10,000 observations of space taken by the SDSS. Every observation is described by 17 feature columns and 1 class column which identifies it to be either a star, galaxy or quasar.\n",
    "\n",
    "Feature Description\n",
    "The table results from a query which joins two tables (actually views): \"PhotoObj\" which contains photometric data and \"SpecObj\" which contains spectral data.\n",
    "\n",
    "To ease your start with the data you can read the feature descriptions below:\n",
    "\n",
    "View \"PhotoObj\"\n",
    "objid = Object Identifier\n",
    "ra = J2000 Right Ascension (r-band)\n",
    "dec = J2000 Declination (r-band)\n",
    "Right ascension (abbreviated RA) is the angular distance measured eastward along the celestial equator from the Sun at the March equinox to the hour circle of the point above the earth in question. When paired with declination (abbreviated dec), these astronomical coordinates specify the direction of a point on the celestial sphere (traditionally called in English the skies or the sky) in the equatorial coordinate system.\n",
    "\n",
    "Source: https://en.wikipedia.org/wiki/Right_ascension\n",
    "\n",
    "u = better of DeV/Exp magnitude fit\n",
    "g = better of DeV/Exp magnitude fit\n",
    "r = better of DeV/Exp magnitude fit\n",
    "i = better of DeV/Exp magnitude fit\n",
    "z = better of DeV/Exp magnitude fit\n",
    "The Thuan-Gunn astronomic magnitude system. u, g, r, i, z represent the response of the 5 bands of the telescope.\n",
    "\n",
    "Further education: https://www.astro.umd.edu/~ssm/ASTR620/mags.html\n",
    "\n",
    "run = Run Number\n",
    "rereun = Rerun Number\n",
    "camcol = Camera column\n",
    "field = Field number\n",
    "Run, rerun, camcol and field are features which describe a field within an image taken by the SDSS. A field is basically a part of the entire image corresponding to 2048 by 1489 pixels. A field can be identified by:\n",
    "\n",
    "run number, which identifies the specific scan,\n",
    "the camera column, or \"camcol,\" a number from 1 to 6, identifying the scanline within the run, and\n",
    "the field number. The field number typically starts at 11 (after an initial rampup time), and can be as large as 800 for particularly long runs.\n",
    "An additional number, rerun, specifies how the image was processed.\n",
    "View \"SpecObj\"\n",
    "specobjid = Object Identifier\n",
    "class = object class (galaxy, star or quasar object)\n",
    "The class identifies an object to be either a galaxy, star or quasar. This will be the response variable which you will be trying to predict.\n",
    "\n",
    "redshift = Final Redshift\n",
    "plate = plate number\n",
    "mjd = MJD of observation\n",
    "fiberid = fiber ID\n",
    "In physics, redshift happens when light or other electromagnetic radiation from an object is increased in wavelength, or shifted to the red end of the spectrum.\n",
    "\n",
    "Each spectroscopic exposure employs a large, thin, circular metal plate that positions optical fibers via holes drilled at the locations of the images in the telescope focal plane. These fibers then feed into the spectrographs. Each plate has a unique serial number, which is called plate in views such as SpecObj in the CAS.\n",
    "\n",
    "Modified Julian Date, used to indicate the date that a given piece of SDSS data (image or spectrum) was taken.\n",
    "\n",
    "The SDSS spectrograph uses optical fibers to direct the light at the focal plane from individual objects to the slithead. Each object is assigned a corresponding fiberID.\n",
    "\n",
    "Further information on SDSS images and their attributes:\n",
    "\n",
    "http://www.sdss3.org/dr9/imaging/imaging_basics.php\n",
    "\n",
    "http://www.sdss3.org/dr8/glossary.php\n",
    "\n",
    "Inspiration\n",
    "The dataset offers plenty of information about space to explore. Also the class column is the perfect target for classification practices!\n",
    "\n"
   ]
  },
  {
   "cell_type": "markdown",
   "id": "6772b880",
   "metadata": {},
   "source": [
    "# Importing Libraries"
   ]
  },
  {
   "cell_type": "code",
   "execution_count": 1,
   "id": "24738b0b",
   "metadata": {},
   "outputs": [],
   "source": [
    "import pandas as pd\n",
    "import numpy as np\n",
    "import seaborn as sns\n",
    "import matplotlib.pyplot as plt\n",
    "import warnings\n",
    "warnings.filterwarnings('ignore')"
   ]
  },
  {
   "cell_type": "markdown",
   "id": "05e23323",
   "metadata": {},
   "source": [
    "# loading the dataset"
   ]
  },
  {
   "cell_type": "code",
   "execution_count": 2,
   "id": "451149c3",
   "metadata": {},
   "outputs": [
    {
     "data": {
      "text/html": [
       "<div>\n",
       "<style scoped>\n",
       "    .dataframe tbody tr th:only-of-type {\n",
       "        vertical-align: middle;\n",
       "    }\n",
       "\n",
       "    .dataframe tbody tr th {\n",
       "        vertical-align: top;\n",
       "    }\n",
       "\n",
       "    .dataframe thead th {\n",
       "        text-align: right;\n",
       "    }\n",
       "</style>\n",
       "<table border=\"1\" class=\"dataframe\">\n",
       "  <thead>\n",
       "    <tr style=\"text-align: right;\">\n",
       "      <th></th>\n",
       "      <th>objid</th>\n",
       "      <th>ra</th>\n",
       "      <th>dec</th>\n",
       "      <th>u</th>\n",
       "      <th>g</th>\n",
       "      <th>r</th>\n",
       "      <th>i</th>\n",
       "      <th>z</th>\n",
       "      <th>run</th>\n",
       "      <th>rerun</th>\n",
       "      <th>camcol</th>\n",
       "      <th>field</th>\n",
       "      <th>specobjid</th>\n",
       "      <th>class</th>\n",
       "      <th>redshift</th>\n",
       "      <th>plate</th>\n",
       "      <th>mjd</th>\n",
       "      <th>fiberid</th>\n",
       "    </tr>\n",
       "  </thead>\n",
       "  <tbody>\n",
       "    <tr>\n",
       "      <th>0</th>\n",
       "      <td>1.237650e+18</td>\n",
       "      <td>183.531326</td>\n",
       "      <td>0.089693</td>\n",
       "      <td>19.47406</td>\n",
       "      <td>17.04240</td>\n",
       "      <td>15.94699</td>\n",
       "      <td>15.50342</td>\n",
       "      <td>15.22531</td>\n",
       "      <td>752</td>\n",
       "      <td>301</td>\n",
       "      <td>4</td>\n",
       "      <td>267</td>\n",
       "      <td>3.722360e+18</td>\n",
       "      <td>STAR</td>\n",
       "      <td>-0.000009</td>\n",
       "      <td>3306</td>\n",
       "      <td>54922</td>\n",
       "      <td>491</td>\n",
       "    </tr>\n",
       "    <tr>\n",
       "      <th>1</th>\n",
       "      <td>1.237650e+18</td>\n",
       "      <td>183.598370</td>\n",
       "      <td>0.135285</td>\n",
       "      <td>18.66280</td>\n",
       "      <td>17.21449</td>\n",
       "      <td>16.67637</td>\n",
       "      <td>16.48922</td>\n",
       "      <td>16.39150</td>\n",
       "      <td>752</td>\n",
       "      <td>301</td>\n",
       "      <td>4</td>\n",
       "      <td>267</td>\n",
       "      <td>3.638140e+17</td>\n",
       "      <td>STAR</td>\n",
       "      <td>-0.000055</td>\n",
       "      <td>323</td>\n",
       "      <td>51615</td>\n",
       "      <td>541</td>\n",
       "    </tr>\n",
       "    <tr>\n",
       "      <th>2</th>\n",
       "      <td>1.237650e+18</td>\n",
       "      <td>183.680207</td>\n",
       "      <td>0.126185</td>\n",
       "      <td>19.38298</td>\n",
       "      <td>18.19169</td>\n",
       "      <td>17.47428</td>\n",
       "      <td>17.08732</td>\n",
       "      <td>16.80125</td>\n",
       "      <td>752</td>\n",
       "      <td>301</td>\n",
       "      <td>4</td>\n",
       "      <td>268</td>\n",
       "      <td>3.232740e+17</td>\n",
       "      <td>GALAXY</td>\n",
       "      <td>0.123111</td>\n",
       "      <td>287</td>\n",
       "      <td>52023</td>\n",
       "      <td>513</td>\n",
       "    </tr>\n",
       "    <tr>\n",
       "      <th>3</th>\n",
       "      <td>1.237650e+18</td>\n",
       "      <td>183.870529</td>\n",
       "      <td>0.049911</td>\n",
       "      <td>17.76536</td>\n",
       "      <td>16.60272</td>\n",
       "      <td>16.16116</td>\n",
       "      <td>15.98233</td>\n",
       "      <td>15.90438</td>\n",
       "      <td>752</td>\n",
       "      <td>301</td>\n",
       "      <td>4</td>\n",
       "      <td>269</td>\n",
       "      <td>3.722370e+18</td>\n",
       "      <td>STAR</td>\n",
       "      <td>-0.000111</td>\n",
       "      <td>3306</td>\n",
       "      <td>54922</td>\n",
       "      <td>510</td>\n",
       "    </tr>\n",
       "    <tr>\n",
       "      <th>4</th>\n",
       "      <td>1.237650e+18</td>\n",
       "      <td>183.883288</td>\n",
       "      <td>0.102557</td>\n",
       "      <td>17.55025</td>\n",
       "      <td>16.26342</td>\n",
       "      <td>16.43869</td>\n",
       "      <td>16.55492</td>\n",
       "      <td>16.61326</td>\n",
       "      <td>752</td>\n",
       "      <td>301</td>\n",
       "      <td>4</td>\n",
       "      <td>269</td>\n",
       "      <td>3.722370e+18</td>\n",
       "      <td>STAR</td>\n",
       "      <td>0.000590</td>\n",
       "      <td>3306</td>\n",
       "      <td>54922</td>\n",
       "      <td>512</td>\n",
       "    </tr>\n",
       "  </tbody>\n",
       "</table>\n",
       "</div>"
      ],
      "text/plain": [
       "          objid          ra       dec         u         g         r         i  \\\n",
       "0  1.237650e+18  183.531326  0.089693  19.47406  17.04240  15.94699  15.50342   \n",
       "1  1.237650e+18  183.598370  0.135285  18.66280  17.21449  16.67637  16.48922   \n",
       "2  1.237650e+18  183.680207  0.126185  19.38298  18.19169  17.47428  17.08732   \n",
       "3  1.237650e+18  183.870529  0.049911  17.76536  16.60272  16.16116  15.98233   \n",
       "4  1.237650e+18  183.883288  0.102557  17.55025  16.26342  16.43869  16.55492   \n",
       "\n",
       "          z  run  rerun  camcol  field     specobjid   class  redshift  plate  \\\n",
       "0  15.22531  752    301       4    267  3.722360e+18    STAR -0.000009   3306   \n",
       "1  16.39150  752    301       4    267  3.638140e+17    STAR -0.000055    323   \n",
       "2  16.80125  752    301       4    268  3.232740e+17  GALAXY  0.123111    287   \n",
       "3  15.90438  752    301       4    269  3.722370e+18    STAR -0.000111   3306   \n",
       "4  16.61326  752    301       4    269  3.722370e+18    STAR  0.000590   3306   \n",
       "\n",
       "     mjd  fiberid  \n",
       "0  54922      491  \n",
       "1  51615      541  \n",
       "2  52023      513  \n",
       "3  54922      510  \n",
       "4  54922      512  "
      ]
     },
     "execution_count": 2,
     "metadata": {},
     "output_type": "execute_result"
    }
   ],
   "source": [
    "df=pd.read_csv('space_server.csv')\n",
    "df.head()"
   ]
  },
  {
   "cell_type": "markdown",
   "id": "686afd83",
   "metadata": {},
   "source": [
    "Top 5 heads of the dataset."
   ]
  },
  {
   "cell_type": "code",
   "execution_count": 3,
   "id": "e402d6f5",
   "metadata": {},
   "outputs": [
    {
     "data": {
      "text/html": [
       "<div>\n",
       "<style scoped>\n",
       "    .dataframe tbody tr th:only-of-type {\n",
       "        vertical-align: middle;\n",
       "    }\n",
       "\n",
       "    .dataframe tbody tr th {\n",
       "        vertical-align: top;\n",
       "    }\n",
       "\n",
       "    .dataframe thead th {\n",
       "        text-align: right;\n",
       "    }\n",
       "</style>\n",
       "<table border=\"1\" class=\"dataframe\">\n",
       "  <thead>\n",
       "    <tr style=\"text-align: right;\">\n",
       "      <th></th>\n",
       "      <th>objid</th>\n",
       "      <th>ra</th>\n",
       "      <th>dec</th>\n",
       "      <th>u</th>\n",
       "      <th>g</th>\n",
       "      <th>r</th>\n",
       "      <th>i</th>\n",
       "      <th>z</th>\n",
       "      <th>run</th>\n",
       "      <th>rerun</th>\n",
       "      <th>camcol</th>\n",
       "      <th>field</th>\n",
       "      <th>specobjid</th>\n",
       "      <th>class</th>\n",
       "      <th>redshift</th>\n",
       "      <th>plate</th>\n",
       "      <th>mjd</th>\n",
       "      <th>fiberid</th>\n",
       "    </tr>\n",
       "  </thead>\n",
       "  <tbody>\n",
       "    <tr>\n",
       "      <th>9995</th>\n",
       "      <td>1.237650e+18</td>\n",
       "      <td>131.316413</td>\n",
       "      <td>51.539547</td>\n",
       "      <td>18.81777</td>\n",
       "      <td>17.47053</td>\n",
       "      <td>16.91508</td>\n",
       "      <td>16.68305</td>\n",
       "      <td>16.50570</td>\n",
       "      <td>1345</td>\n",
       "      <td>301</td>\n",
       "      <td>3</td>\n",
       "      <td>161</td>\n",
       "      <td>5.033450e+17</td>\n",
       "      <td>GALAXY</td>\n",
       "      <td>0.027583</td>\n",
       "      <td>447</td>\n",
       "      <td>51877</td>\n",
       "      <td>246</td>\n",
       "    </tr>\n",
       "    <tr>\n",
       "      <th>9996</th>\n",
       "      <td>1.237650e+18</td>\n",
       "      <td>131.306083</td>\n",
       "      <td>51.671341</td>\n",
       "      <td>18.27255</td>\n",
       "      <td>17.43849</td>\n",
       "      <td>17.07692</td>\n",
       "      <td>16.71661</td>\n",
       "      <td>16.69897</td>\n",
       "      <td>1345</td>\n",
       "      <td>301</td>\n",
       "      <td>3</td>\n",
       "      <td>162</td>\n",
       "      <td>5.033400e+17</td>\n",
       "      <td>GALAXY</td>\n",
       "      <td>0.117772</td>\n",
       "      <td>447</td>\n",
       "      <td>51877</td>\n",
       "      <td>228</td>\n",
       "    </tr>\n",
       "    <tr>\n",
       "      <th>9997</th>\n",
       "      <td>1.237650e+18</td>\n",
       "      <td>131.552562</td>\n",
       "      <td>51.666986</td>\n",
       "      <td>18.75818</td>\n",
       "      <td>17.77784</td>\n",
       "      <td>17.51872</td>\n",
       "      <td>17.43302</td>\n",
       "      <td>17.42048</td>\n",
       "      <td>1345</td>\n",
       "      <td>301</td>\n",
       "      <td>3</td>\n",
       "      <td>162</td>\n",
       "      <td>8.222620e+18</td>\n",
       "      <td>STAR</td>\n",
       "      <td>-0.000402</td>\n",
       "      <td>7303</td>\n",
       "      <td>57013</td>\n",
       "      <td>622</td>\n",
       "    </tr>\n",
       "    <tr>\n",
       "      <th>9998</th>\n",
       "      <td>1.237650e+18</td>\n",
       "      <td>131.477151</td>\n",
       "      <td>51.753068</td>\n",
       "      <td>18.88287</td>\n",
       "      <td>17.91068</td>\n",
       "      <td>17.53152</td>\n",
       "      <td>17.36284</td>\n",
       "      <td>17.13988</td>\n",
       "      <td>1345</td>\n",
       "      <td>301</td>\n",
       "      <td>3</td>\n",
       "      <td>163</td>\n",
       "      <td>5.033400e+17</td>\n",
       "      <td>GALAXY</td>\n",
       "      <td>0.014019</td>\n",
       "      <td>447</td>\n",
       "      <td>51877</td>\n",
       "      <td>229</td>\n",
       "    </tr>\n",
       "    <tr>\n",
       "      <th>9999</th>\n",
       "      <td>1.237650e+18</td>\n",
       "      <td>131.665012</td>\n",
       "      <td>51.805307</td>\n",
       "      <td>19.27586</td>\n",
       "      <td>17.37829</td>\n",
       "      <td>16.30542</td>\n",
       "      <td>15.83548</td>\n",
       "      <td>15.50588</td>\n",
       "      <td>1345</td>\n",
       "      <td>301</td>\n",
       "      <td>3</td>\n",
       "      <td>163</td>\n",
       "      <td>5.033410e+17</td>\n",
       "      <td>GALAXY</td>\n",
       "      <td>0.118417</td>\n",
       "      <td>447</td>\n",
       "      <td>51877</td>\n",
       "      <td>233</td>\n",
       "    </tr>\n",
       "  </tbody>\n",
       "</table>\n",
       "</div>"
      ],
      "text/plain": [
       "             objid          ra        dec         u         g         r  \\\n",
       "9995  1.237650e+18  131.316413  51.539547  18.81777  17.47053  16.91508   \n",
       "9996  1.237650e+18  131.306083  51.671341  18.27255  17.43849  17.07692   \n",
       "9997  1.237650e+18  131.552562  51.666986  18.75818  17.77784  17.51872   \n",
       "9998  1.237650e+18  131.477151  51.753068  18.88287  17.91068  17.53152   \n",
       "9999  1.237650e+18  131.665012  51.805307  19.27586  17.37829  16.30542   \n",
       "\n",
       "             i         z   run  rerun  camcol  field     specobjid   class  \\\n",
       "9995  16.68305  16.50570  1345    301       3    161  5.033450e+17  GALAXY   \n",
       "9996  16.71661  16.69897  1345    301       3    162  5.033400e+17  GALAXY   \n",
       "9997  17.43302  17.42048  1345    301       3    162  8.222620e+18    STAR   \n",
       "9998  17.36284  17.13988  1345    301       3    163  5.033400e+17  GALAXY   \n",
       "9999  15.83548  15.50588  1345    301       3    163  5.033410e+17  GALAXY   \n",
       "\n",
       "      redshift  plate    mjd  fiberid  \n",
       "9995  0.027583    447  51877      246  \n",
       "9996  0.117772    447  51877      228  \n",
       "9997 -0.000402   7303  57013      622  \n",
       "9998  0.014019    447  51877      229  \n",
       "9999  0.118417    447  51877      233  "
      ]
     },
     "execution_count": 3,
     "metadata": {},
     "output_type": "execute_result"
    }
   ],
   "source": [
    "df.tail()"
   ]
  },
  {
   "cell_type": "markdown",
   "id": "99c7ee2b",
   "metadata": {},
   "source": [
    "Bottom 5 of the dataset."
   ]
  },
  {
   "cell_type": "markdown",
   "id": "7fd2137a",
   "metadata": {},
   "source": [
    "# EDA"
   ]
  },
  {
   "cell_type": "code",
   "execution_count": 4,
   "id": "11f7fca3",
   "metadata": {},
   "outputs": [
    {
     "data": {
      "text/plain": [
       "(10000, 18)"
      ]
     },
     "execution_count": 4,
     "metadata": {},
     "output_type": "execute_result"
    }
   ],
   "source": [
    "# checking shape\n",
    "df.shape"
   ]
  },
  {
   "cell_type": "markdown",
   "id": "d61e17b1",
   "metadata": {},
   "source": [
    "10000 rows and 18 columns in the dataset."
   ]
  },
  {
   "cell_type": "code",
   "execution_count": 9,
   "id": "48ca80a0",
   "metadata": {},
   "outputs": [
    {
     "name": "stdout",
     "output_type": "stream",
     "text": [
      "<class 'pandas.core.frame.DataFrame'>\n",
      "RangeIndex: 10000 entries, 0 to 9999\n",
      "Data columns (total 18 columns):\n",
      " #   Column     Non-Null Count  Dtype  \n",
      "---  ------     --------------  -----  \n",
      " 0   objid      10000 non-null  float64\n",
      " 1   ra         10000 non-null  float64\n",
      " 2   dec        10000 non-null  float64\n",
      " 3   u          10000 non-null  float64\n",
      " 4   g          10000 non-null  float64\n",
      " 5   r          10000 non-null  float64\n",
      " 6   i          10000 non-null  float64\n",
      " 7   z          10000 non-null  float64\n",
      " 8   run        10000 non-null  int64  \n",
      " 9   rerun      10000 non-null  int64  \n",
      " 10  camcol     10000 non-null  int64  \n",
      " 11  field      10000 non-null  int64  \n",
      " 12  specobjid  10000 non-null  float64\n",
      " 13  class      10000 non-null  object \n",
      " 14  redshift   10000 non-null  float64\n",
      " 15  plate      10000 non-null  int64  \n",
      " 16  mjd        10000 non-null  int64  \n",
      " 17  fiberid    10000 non-null  int64  \n",
      "dtypes: float64(10), int64(7), object(1)\n",
      "memory usage: 1.4+ MB\n"
     ]
    }
   ],
   "source": [
    "# checking data type\n",
    "df.info()"
   ]
  },
  {
   "cell_type": "markdown",
   "id": "5d7eadc7",
   "metadata": {},
   "source": [
    "10 float data type column, 7 integer data type columns and 1 object data type column present in the dataset."
   ]
  },
  {
   "cell_type": "code",
   "execution_count": 10,
   "id": "1a1134bd",
   "metadata": {},
   "outputs": [
    {
     "data": {
      "text/plain": [
       "objid        0\n",
       "ra           0\n",
       "dec          0\n",
       "u            0\n",
       "g            0\n",
       "r            0\n",
       "i            0\n",
       "z            0\n",
       "run          0\n",
       "rerun        0\n",
       "camcol       0\n",
       "field        0\n",
       "specobjid    0\n",
       "class        0\n",
       "redshift     0\n",
       "plate        0\n",
       "mjd          0\n",
       "fiberid      0\n",
       "dtype: int64"
      ]
     },
     "execution_count": 10,
     "metadata": {},
     "output_type": "execute_result"
    }
   ],
   "source": [
    "# Checking NUll values\n",
    "df.isnull().sum()"
   ]
  },
  {
   "cell_type": "markdown",
   "id": "3dfc7eb7",
   "metadata": {},
   "source": [
    "No null values in the dataset."
   ]
  },
  {
   "cell_type": "markdown",
   "id": "76bce4dc",
   "metadata": {},
   "source": [
    "# visualization of nominal data"
   ]
  },
  {
   "cell_type": "code",
   "execution_count": 12,
   "id": "01ad1eaa",
   "metadata": {},
   "outputs": [
    {
     "name": "stdout",
     "output_type": "stream",
     "text": [
      "4    1834\n",
      "5    1827\n",
      "6    1769\n",
      "2    1712\n",
      "3    1560\n",
      "1    1298\n",
      "Name: camcol, dtype: int64\n"
     ]
    },
    {
     "data": {
      "image/png": "[encoded data removed]",
      "text/plain": [
       "<Figure size 432x288 with 1 Axes>"
      ]
     },
     "metadata": {
      "needs_background": "light"
     },
     "output_type": "display_data"
    }
   ],
   "source": [
    "ax=sns.countplot(x='camcol',data=df)\n",
    "print(df['camcol'].value_counts())"
   ]
  },
  {
   "cell_type": "markdown",
   "id": "55763841",
   "metadata": {},
   "source": [
    "camcol is basically a Camera column ,there is 6 unique values in this column and there is not much difference.\n",
    "\n",
    "the camera column, or \"camcol,\" a number from 1 to 6, identifying the scanline within the run."
   ]
  },
  {
   "cell_type": "code",
   "execution_count": null,
   "id": "aa43f24b",
   "metadata": {},
   "outputs": [],
   "source": []
  },
  {
   "cell_type": "code",
   "execution_count": null,
   "id": "085f925d",
   "metadata": {},
   "outputs": [],
   "source": []
  },
  {
   "cell_type": "code",
   "execution_count": 15,
   "id": "cc635dca",
   "metadata": {},
   "outputs": [
    {
     "name": "stdout",
     "output_type": "stream",
     "text": [
      "GALAXY    4998\n",
      "STAR      4152\n",
      "QSO        850\n",
      "Name: class, dtype: int64\n"
     ]
    },
    {
     "data": {
      "image/png": "[encoded data removed]",
      "text/plain": [
       "<Figure size 432x288 with 1 Axes>"
      ]
     },
     "metadata": {
      "needs_background": "light"
     },
     "output_type": "display_data"
    }
   ],
   "source": [
    "ax=sns.countplot(x='class',data=df)\n",
    "print(df['class'].value_counts())"
   ]
  },
  {
   "cell_type": "markdown",
   "id": "a8e68f60",
   "metadata": {},
   "source": [
    "Class column is objcect class , There is three Unique values in the column that is GALAXY with 4998 numbers, STAR with 4152 numbers and QSO with 850 numbers."
   ]
  },
  {
   "cell_type": "code",
   "execution_count": null,
   "id": "5a6b9fe2",
   "metadata": {},
   "outputs": [],
   "source": []
  },
  {
   "cell_type": "markdown",
   "id": "7c52f942",
   "metadata": {},
   "source": [
    "# Visualization of integer and float data"
   ]
  },
  {
   "cell_type": "code",
   "execution_count": 16,
   "id": "b2a0dd3a",
   "metadata": {},
   "outputs": [
    {
     "data": {
      "text/plain": [
       "Index(['objid', 'ra', 'dec', 'u', 'g', 'r', 'i', 'z', 'run', 'rerun', 'camcol',\n",
       "       'field', 'specobjid', 'class', 'redshift', 'plate', 'mjd', 'fiberid'],\n",
       "      dtype='object')"
      ]
     },
     "execution_count": 16,
     "metadata": {},
     "output_type": "execute_result"
    }
   ],
   "source": [
    "df.columns"
   ]
  },
  {
   "cell_type": "code",
   "execution_count": 18,
   "id": "af9466f1",
   "metadata": {},
   "outputs": [
    {
     "data": {
      "text/plain": [
       "<AxesSubplot:xlabel='ra', ylabel='Density'>"
      ]
     },
     "execution_count": 18,
     "metadata": {},
     "output_type": "execute_result"
    },
    {
     "data": {
      "image/png": "[encoded data removed]",
      "text/plain": [
       "<Figure size 432x288 with 1 Axes>"
      ]
     },
     "metadata": {
      "needs_background": "light"
     },
     "output_type": "display_data"
    }
   ],
   "source": [
    "sns.distplot(df['ra'], kde=True)"
   ]
  },
  {
   "cell_type": "markdown",
   "id": "13b86057",
   "metadata": {},
   "source": [
    "ra is indiacting 'J2000 Right Ascension (r-band)' and id bit right skewed."
   ]
  },
  {
   "cell_type": "code",
   "execution_count": null,
   "id": "c3ced829",
   "metadata": {},
   "outputs": [],
   "source": []
  },
  {
   "cell_type": "code",
   "execution_count": null,
   "id": "2bf577ea",
   "metadata": {},
   "outputs": [],
   "source": []
  },
  {
   "cell_type": "code",
   "execution_count": 19,
   "id": "bcd8c7dd",
   "metadata": {},
   "outputs": [
    {
     "data": {
      "text/plain": [
       "<AxesSubplot:xlabel='dec', ylabel='Density'>"
      ]
     },
     "execution_count": 19,
     "metadata": {},
     "output_type": "execute_result"
    },
    {
     "data": {
      "image/png": "[encoded data removed]",
      "text/plain": [
       "<Figure size 432x288 with 1 Axes>"
      ]
     },
     "metadata": {
      "needs_background": "light"
     },
     "output_type": "display_data"
    }
   ],
   "source": [
    "sns.distplot(df['dec'], kde=True)"
   ]
  },
  {
   "cell_type": "markdown",
   "id": "44cbaffc",
   "metadata": {},
   "source": [
    "dec is indicating 'J2000 Declination (r-band)' and it is not looking normally distributed."
   ]
  },
  {
   "cell_type": "code",
   "execution_count": null,
   "id": "2104cb34",
   "metadata": {},
   "outputs": [],
   "source": []
  },
  {
   "cell_type": "code",
   "execution_count": null,
   "id": "5e360a80",
   "metadata": {},
   "outputs": [],
   "source": []
  },
  {
   "cell_type": "code",
   "execution_count": 20,
   "id": "5faa273d",
   "metadata": {},
   "outputs": [
    {
     "data": {
      "text/plain": [
       "<AxesSubplot:xlabel='u', ylabel='Density'>"
      ]
     },
     "execution_count": 20,
     "metadata": {},
     "output_type": "execute_result"
    },
    {
     "data": {
      "image/png": "[encoded data removed]",
      "text/plain": [
       "<Figure size 432x288 with 1 Axes>"
      ]
     },
     "metadata": {
      "needs_background": "light"
     },
     "output_type": "display_data"
    }
   ],
   "source": [
    "sns.distplot(df['u'], kde=True)"
   ]
  },
  {
   "cell_type": "markdown",
   "id": "f579eff8",
   "metadata": {},
   "source": [
    "u is indiacting 'better of DeV/Exp magnitude fit' and it is right skewed."
   ]
  },
  {
   "cell_type": "code",
   "execution_count": null,
   "id": "afc242ba",
   "metadata": {},
   "outputs": [],
   "source": []
  },
  {
   "cell_type": "code",
   "execution_count": null,
   "id": "b7eb4aed",
   "metadata": {},
   "outputs": [],
   "source": []
  },
  {
   "cell_type": "code",
   "execution_count": 21,
   "id": "56beafcf",
   "metadata": {},
   "outputs": [
    {
     "data": {
      "text/plain": [
       "<AxesSubplot:xlabel='g', ylabel='Density'>"
      ]
     },
     "execution_count": 21,
     "metadata": {},
     "output_type": "execute_result"
    },
    {
     "data": {
      "image/png": "[encoded data removed]",
      "text/plain": [
       "<Figure size 432x288 with 1 Axes>"
      ]
     },
     "metadata": {
      "needs_background": "light"
     },
     "output_type": "display_data"
    }
   ],
   "source": [
    "sns.distplot(df['g'], kde=True)"
   ]
  },
  {
   "cell_type": "markdown",
   "id": "76b26266",
   "metadata": {},
   "source": [
    "g is indiacting ' better of DeV/Exp magnitude fit' and it is looking bit right skewed."
   ]
  },
  {
   "cell_type": "code",
   "execution_count": null,
   "id": "88aef90d",
   "metadata": {},
   "outputs": [],
   "source": []
  },
  {
   "cell_type": "code",
   "execution_count": null,
   "id": "948acbf3",
   "metadata": {},
   "outputs": [],
   "source": []
  },
  {
   "cell_type": "code",
   "execution_count": 22,
   "id": "4bf08bf5",
   "metadata": {},
   "outputs": [
    {
     "data": {
      "text/plain": [
       "<AxesSubplot:xlabel='r', ylabel='Density'>"
      ]
     },
     "execution_count": 22,
     "metadata": {},
     "output_type": "execute_result"
    },
    {
     "data": {
      "image/png": "[encoded data removed]",
      "text/plain": [
       "<Figure size 432x288 with 1 Axes>"
      ]
     },
     "metadata": {
      "needs_background": "light"
     },
     "output_type": "display_data"
    }
   ],
   "source": [
    "sns.distplot(df['r'], kde=True)"
   ]
  },
  {
   "cell_type": "markdown",
   "id": "4702d499",
   "metadata": {},
   "source": [
    "r is indiacting 'better of DeV/Exp magnitude fit' and it is bit left skewed."
   ]
  },
  {
   "cell_type": "code",
   "execution_count": null,
   "id": "fea101d2",
   "metadata": {},
   "outputs": [],
   "source": []
  },
  {
   "cell_type": "code",
   "execution_count": null,
   "id": "778af9fc",
   "metadata": {},
   "outputs": [],
   "source": []
  },
  {
   "cell_type": "code",
   "execution_count": 23,
   "id": "6c82b19b",
   "metadata": {},
   "outputs": [
    {
     "data": {
      "text/plain": [
       "<AxesSubplot:xlabel='i', ylabel='Density'>"
      ]
     },
     "execution_count": 23,
     "metadata": {},
     "output_type": "execute_result"
    },
    {
     "data": {
      "image/png": "[encoded data removed]",
      "text/plain": [
       "<Figure size 432x288 with 1 Axes>"
      ]
     },
     "metadata": {
      "needs_background": "light"
     },
     "output_type": "display_data"
    }
   ],
   "source": [
    "sns.distplot(df['i'], kde=True)"
   ]
  },
  {
   "cell_type": "markdown",
   "id": "7e522c0e",
   "metadata": {},
   "source": [
    "i is indiacting 'better of DeV/Exp magnitude fit' and is bit left skewed."
   ]
  },
  {
   "cell_type": "code",
   "execution_count": null,
   "id": "ddb557b1",
   "metadata": {},
   "outputs": [],
   "source": []
  },
  {
   "cell_type": "code",
   "execution_count": null,
   "id": "174ccb27",
   "metadata": {},
   "outputs": [],
   "source": []
  },
  {
   "cell_type": "code",
   "execution_count": 24,
   "id": "9e858fd3",
   "metadata": {},
   "outputs": [
    {
     "data": {
      "text/plain": [
       "<AxesSubplot:xlabel='z', ylabel='Density'>"
      ]
     },
     "execution_count": 24,
     "metadata": {},
     "output_type": "execute_result"
    },
    {
     "data": {
      "image/png": "[encoded data removed]",
      "text/plain": [
       "<Figure size 432x288 with 1 Axes>"
      ]
     },
     "metadata": {
      "needs_background": "light"
     },
     "output_type": "display_data"
    }
   ],
   "source": [
    "sns.distplot(df['z'], kde=True)"
   ]
  },
  {
   "cell_type": "markdown",
   "id": "31c05925",
   "metadata": {},
   "source": [
    "z is indiacting 'better of DeV/Exp magnitude fit' and is looking normal."
   ]
  },
  {
   "cell_type": "code",
   "execution_count": null,
   "id": "c21f934a",
   "metadata": {},
   "outputs": [],
   "source": []
  },
  {
   "cell_type": "code",
   "execution_count": null,
   "id": "f2a972ba",
   "metadata": {},
   "outputs": [],
   "source": []
  },
  {
   "cell_type": "code",
   "execution_count": 27,
   "id": "887ad5e2",
   "metadata": {},
   "outputs": [
    {
     "data": {
      "text/plain": [
       "<AxesSubplot:xlabel='field', ylabel='Density'>"
      ]
     },
     "execution_count": 27,
     "metadata": {},
     "output_type": "execute_result"
    },
    {
     "data": {
      "image/png": "[encoded data removed]",
      "text/plain": [
       "<Figure size 432x288 with 1 Axes>"
      ]
     },
     "metadata": {
      "needs_background": "light"
     },
     "output_type": "display_data"
    }
   ],
   "source": [
    "sns.distplot(df['field'], kde=True)"
   ]
  },
  {
   "cell_type": "markdown",
   "id": "f824b4f6",
   "metadata": {},
   "source": [
    "field column is indiacting field number ,  and its ranges in between 11 to 800 and not looking normal.\n",
    "\n",
    "the field number. The field number typically starts at 11 (after an initial rampup time), and can be as large as 800 for particularly long runs."
   ]
  },
  {
   "cell_type": "code",
   "execution_count": null,
   "id": "572f5023",
   "metadata": {},
   "outputs": [],
   "source": []
  },
  {
   "cell_type": "code",
   "execution_count": null,
   "id": "392bd27f",
   "metadata": {},
   "outputs": [],
   "source": []
  },
  {
   "cell_type": "code",
   "execution_count": 28,
   "id": "2d059f72",
   "metadata": {},
   "outputs": [
    {
     "data": {
      "text/plain": [
       "<AxesSubplot:xlabel='redshift', ylabel='Density'>"
      ]
     },
     "execution_count": 28,
     "metadata": {},
     "output_type": "execute_result"
    },
    {
     "data": {
      "image/png": "[encoded data removed]",
      "text/plain": [
       "<Figure size 432x288 with 1 Axes>"
      ]
     },
     "metadata": {
      "needs_background": "light"
     },
     "output_type": "display_data"
    }
   ],
   "source": [
    "sns.distplot(df['redshift'], kde=True)"
   ]
  },
  {
   "cell_type": "markdown",
   "id": "6af0d434",
   "metadata": {},
   "source": [
    "redshift is indicating ' Final Redshift' and it is left skewed."
   ]
  },
  {
   "cell_type": "code",
   "execution_count": null,
   "id": "45b11136",
   "metadata": {},
   "outputs": [],
   "source": []
  },
  {
   "cell_type": "code",
   "execution_count": null,
   "id": "aeda44c2",
   "metadata": {},
   "outputs": [],
   "source": []
  },
  {
   "cell_type": "code",
   "execution_count": 29,
   "id": "b3061748",
   "metadata": {},
   "outputs": [
    {
     "data": {
      "text/plain": [
       "<AxesSubplot:xlabel='plate', ylabel='Density'>"
      ]
     },
     "execution_count": 29,
     "metadata": {},
     "output_type": "execute_result"
    },
    {
     "data": {
      "image/png": "[encoded data removed]",
      "text/plain": [
       "<Figure size 432x288 with 1 Axes>"
      ]
     },
     "metadata": {
      "needs_background": "light"
     },
     "output_type": "display_data"
    }
   ],
   "source": [
    "sns.distplot(df['plate'], kde=True)"
   ]
  },
  {
   "cell_type": "markdown",
   "id": "f0cf73cd",
   "metadata": {},
   "source": [
    "plate is plate number and it is not looking normal."
   ]
  },
  {
   "cell_type": "code",
   "execution_count": null,
   "id": "f58728e5",
   "metadata": {},
   "outputs": [],
   "source": []
  },
  {
   "cell_type": "code",
   "execution_count": null,
   "id": "3396fb02",
   "metadata": {},
   "outputs": [],
   "source": []
  },
  {
   "cell_type": "code",
   "execution_count": 30,
   "id": "1e1eb8e7",
   "metadata": {},
   "outputs": [
    {
     "data": {
      "text/plain": [
       "<AxesSubplot:xlabel='mjd', ylabel='Density'>"
      ]
     },
     "execution_count": 30,
     "metadata": {},
     "output_type": "execute_result"
    },
    {
     "data": {
      "image/png": "[encoded data removed]",
      "text/plain": [
       "<Figure size 432x288 with 1 Axes>"
      ]
     },
     "metadata": {
      "needs_background": "light"
     },
     "output_type": "display_data"
    }
   ],
   "source": [
    "sns.distplot(df['mjd'], kde=True)"
   ]
  },
  {
   "cell_type": "markdown",
   "id": "c5bc7aac",
   "metadata": {},
   "source": [
    "mjd is indiacting MJD of observation and its ranges in between 52000 to 53000 , 53000 to 56000 and 56000 to approx 58000"
   ]
  },
  {
   "cell_type": "code",
   "execution_count": null,
   "id": "00fba43f",
   "metadata": {},
   "outputs": [],
   "source": []
  },
  {
   "cell_type": "code",
   "execution_count": null,
   "id": "96220603",
   "metadata": {},
   "outputs": [],
   "source": []
  },
  {
   "cell_type": "code",
   "execution_count": 31,
   "id": "91516c88",
   "metadata": {},
   "outputs": [
    {
     "data": {
      "text/plain": [
       "<AxesSubplot:xlabel='fiberid', ylabel='Density'>"
      ]
     },
     "execution_count": 31,
     "metadata": {},
     "output_type": "execute_result"
    },
    {
     "data": {
      "image/png": "[encoded data removed]",
      "text/plain": [
       "<Figure size 432x288 with 1 Axes>"
      ]
     },
     "metadata": {
      "needs_background": "light"
     },
     "output_type": "display_data"
    }
   ],
   "source": [
    "sns.distplot(df['fiberid'], kde=True)"
   ]
  },
  {
   "cell_type": "markdown",
   "id": "d422e2e8",
   "metadata": {},
   "source": [
    "fiberid column is looking normally distributed."
   ]
  },
  {
   "cell_type": "code",
   "execution_count": null,
   "id": "fd1f3fa2",
   "metadata": {},
   "outputs": [],
   "source": []
  },
  {
   "cell_type": "markdown",
   "id": "6f1b9a19",
   "metadata": {},
   "source": [
    "# Checking outliers"
   ]
  },
  {
   "cell_type": "code",
   "execution_count": 39,
   "id": "734d4a84",
   "metadata": {},
   "outputs": [
    {
     "data": {
      "text/plain": [
       "objid           AxesSubplot(0.125,0.657941;0.110714x0.222059)\n",
       "ra           AxesSubplot(0.257857,0.657941;0.110714x0.222059)\n",
       "dec          AxesSubplot(0.390714,0.657941;0.110714x0.222059)\n",
       "u            AxesSubplot(0.523571,0.657941;0.110714x0.222059)\n",
       "g            AxesSubplot(0.656429,0.657941;0.110714x0.222059)\n",
       "r            AxesSubplot(0.789286,0.657941;0.110714x0.222059)\n",
       "i               AxesSubplot(0.125,0.391471;0.110714x0.222059)\n",
       "z            AxesSubplot(0.257857,0.391471;0.110714x0.222059)\n",
       "run          AxesSubplot(0.390714,0.391471;0.110714x0.222059)\n",
       "rerun        AxesSubplot(0.523571,0.391471;0.110714x0.222059)\n",
       "camcol       AxesSubplot(0.656429,0.391471;0.110714x0.222059)\n",
       "field        AxesSubplot(0.789286,0.391471;0.110714x0.222059)\n",
       "specobjid          AxesSubplot(0.125,0.125;0.110714x0.222059)\n",
       "redshift        AxesSubplot(0.257857,0.125;0.110714x0.222059)\n",
       "plate           AxesSubplot(0.390714,0.125;0.110714x0.222059)\n",
       "mjd             AxesSubplot(0.523571,0.125;0.110714x0.222059)\n",
       "fiberid         AxesSubplot(0.656429,0.125;0.110714x0.222059)\n",
       "dtype: object"
      ]
     },
     "execution_count": 39,
     "metadata": {},
     "output_type": "execute_result"
    },
    {
     "data": {
      "image/png": "[encoded data removed]",
      "text/plain": [
       "<Figure size 1080x504 with 18 Axes>"
      ]
     },
     "metadata": {
      "needs_background": "light"
     },
     "output_type": "display_data"
    }
   ],
   "source": [
    "df.plot(kind='box', subplots=True, layout=(3,6), figsize=(15,7))"
   ]
  },
  {
   "cell_type": "markdown",
   "id": "9d80c05b",
   "metadata": {},
   "source": [
    "outliers present in 'u', 'g', 'r', 'i', 'z', 'field', 'specobjid','redshit', 'plate' and 'fiberid.'"
   ]
  },
  {
   "cell_type": "markdown",
   "id": "4475be5b",
   "metadata": {},
   "source": [
    "# Checking skewness"
   ]
  },
  {
   "cell_type": "code",
   "execution_count": 40,
   "id": "667e6d25",
   "metadata": {},
   "outputs": [
    {
     "data": {
      "text/plain": [
       "objid        0.000000\n",
       "ra          -1.227350\n",
       "dec          1.191544\n",
       "u           -1.219795\n",
       "g           -0.536293\n",
       "r           -0.021673\n",
       "i            0.286442\n",
       "z            0.214313\n",
       "run          0.412555\n",
       "rerun        0.000000\n",
       "camcol      -0.100220\n",
       "field        0.249795\n",
       "specobjid    1.794627\n",
       "redshift     4.265729\n",
       "plate        1.794609\n",
       "mjd          1.039610\n",
       "fiberid      0.308053\n",
       "dtype: float64"
      ]
     },
     "execution_count": 40,
     "metadata": {},
     "output_type": "execute_result"
    }
   ],
   "source": [
    "df.skew()"
   ]
  },
  {
   "cell_type": "markdown",
   "id": "e3504db2",
   "metadata": {},
   "source": [
    "Columns are not looking much skewed except 'redshift'."
   ]
  },
  {
   "cell_type": "markdown",
   "id": "08c591ee",
   "metadata": {},
   "source": [
    "# Label coding to class column"
   ]
  },
  {
   "cell_type": "code",
   "execution_count": 41,
   "id": "08e9561d",
   "metadata": {},
   "outputs": [],
   "source": [
    "df['class'].replace({'GALAXY':0,'STAR':1,'QSO':2},inplace=True)"
   ]
  },
  {
   "cell_type": "code",
   "execution_count": 42,
   "id": "ef82b68d",
   "metadata": {},
   "outputs": [
    {
     "data": {
      "text/html": [
       "<div>\n",
       "<style scoped>\n",
       "    .dataframe tbody tr th:only-of-type {\n",
       "        vertical-align: middle;\n",
       "    }\n",
       "\n",
       "    .dataframe tbody tr th {\n",
       "        vertical-align: top;\n",
       "    }\n",
       "\n",
       "    .dataframe thead th {\n",
       "        text-align: right;\n",
       "    }\n",
       "</style>\n",
       "<table border=\"1\" class=\"dataframe\">\n",
       "  <thead>\n",
       "    <tr style=\"text-align: right;\">\n",
       "      <th></th>\n",
       "      <th>objid</th>\n",
       "      <th>ra</th>\n",
       "      <th>dec</th>\n",
       "      <th>u</th>\n",
       "      <th>g</th>\n",
       "      <th>r</th>\n",
       "      <th>i</th>\n",
       "      <th>z</th>\n",
       "      <th>run</th>\n",
       "      <th>rerun</th>\n",
       "      <th>camcol</th>\n",
       "      <th>field</th>\n",
       "      <th>specobjid</th>\n",
       "      <th>class</th>\n",
       "      <th>redshift</th>\n",
       "      <th>plate</th>\n",
       "      <th>mjd</th>\n",
       "      <th>fiberid</th>\n",
       "    </tr>\n",
       "  </thead>\n",
       "  <tbody>\n",
       "    <tr>\n",
       "      <th>0</th>\n",
       "      <td>1.237650e+18</td>\n",
       "      <td>183.531326</td>\n",
       "      <td>0.089693</td>\n",
       "      <td>19.47406</td>\n",
       "      <td>17.04240</td>\n",
       "      <td>15.94699</td>\n",
       "      <td>15.50342</td>\n",
       "      <td>15.22531</td>\n",
       "      <td>752</td>\n",
       "      <td>301</td>\n",
       "      <td>4</td>\n",
       "      <td>267</td>\n",
       "      <td>3.722360e+18</td>\n",
       "      <td>1</td>\n",
       "      <td>-0.000009</td>\n",
       "      <td>3306</td>\n",
       "      <td>54922</td>\n",
       "      <td>491</td>\n",
       "    </tr>\n",
       "    <tr>\n",
       "      <th>1</th>\n",
       "      <td>1.237650e+18</td>\n",
       "      <td>183.598370</td>\n",
       "      <td>0.135285</td>\n",
       "      <td>18.66280</td>\n",
       "      <td>17.21449</td>\n",
       "      <td>16.67637</td>\n",
       "      <td>16.48922</td>\n",
       "      <td>16.39150</td>\n",
       "      <td>752</td>\n",
       "      <td>301</td>\n",
       "      <td>4</td>\n",
       "      <td>267</td>\n",
       "      <td>3.638140e+17</td>\n",
       "      <td>1</td>\n",
       "      <td>-0.000055</td>\n",
       "      <td>323</td>\n",
       "      <td>51615</td>\n",
       "      <td>541</td>\n",
       "    </tr>\n",
       "    <tr>\n",
       "      <th>2</th>\n",
       "      <td>1.237650e+18</td>\n",
       "      <td>183.680207</td>\n",
       "      <td>0.126185</td>\n",
       "      <td>19.38298</td>\n",
       "      <td>18.19169</td>\n",
       "      <td>17.47428</td>\n",
       "      <td>17.08732</td>\n",
       "      <td>16.80125</td>\n",
       "      <td>752</td>\n",
       "      <td>301</td>\n",
       "      <td>4</td>\n",
       "      <td>268</td>\n",
       "      <td>3.232740e+17</td>\n",
       "      <td>0</td>\n",
       "      <td>0.123111</td>\n",
       "      <td>287</td>\n",
       "      <td>52023</td>\n",
       "      <td>513</td>\n",
       "    </tr>\n",
       "    <tr>\n",
       "      <th>3</th>\n",
       "      <td>1.237650e+18</td>\n",
       "      <td>183.870529</td>\n",
       "      <td>0.049911</td>\n",
       "      <td>17.76536</td>\n",
       "      <td>16.60272</td>\n",
       "      <td>16.16116</td>\n",
       "      <td>15.98233</td>\n",
       "      <td>15.90438</td>\n",
       "      <td>752</td>\n",
       "      <td>301</td>\n",
       "      <td>4</td>\n",
       "      <td>269</td>\n",
       "      <td>3.722370e+18</td>\n",
       "      <td>1</td>\n",
       "      <td>-0.000111</td>\n",
       "      <td>3306</td>\n",
       "      <td>54922</td>\n",
       "      <td>510</td>\n",
       "    </tr>\n",
       "    <tr>\n",
       "      <th>4</th>\n",
       "      <td>1.237650e+18</td>\n",
       "      <td>183.883288</td>\n",
       "      <td>0.102557</td>\n",
       "      <td>17.55025</td>\n",
       "      <td>16.26342</td>\n",
       "      <td>16.43869</td>\n",
       "      <td>16.55492</td>\n",
       "      <td>16.61326</td>\n",
       "      <td>752</td>\n",
       "      <td>301</td>\n",
       "      <td>4</td>\n",
       "      <td>269</td>\n",
       "      <td>3.722370e+18</td>\n",
       "      <td>1</td>\n",
       "      <td>0.000590</td>\n",
       "      <td>3306</td>\n",
       "      <td>54922</td>\n",
       "      <td>512</td>\n",
       "    </tr>\n",
       "  </tbody>\n",
       "</table>\n",
       "</div>"
      ],
      "text/plain": [
       "          objid          ra       dec         u         g         r         i  \\\n",
       "0  1.237650e+18  183.531326  0.089693  19.47406  17.04240  15.94699  15.50342   \n",
       "1  1.237650e+18  183.598370  0.135285  18.66280  17.21449  16.67637  16.48922   \n",
       "2  1.237650e+18  183.680207  0.126185  19.38298  18.19169  17.47428  17.08732   \n",
       "3  1.237650e+18  183.870529  0.049911  17.76536  16.60272  16.16116  15.98233   \n",
       "4  1.237650e+18  183.883288  0.102557  17.55025  16.26342  16.43869  16.55492   \n",
       "\n",
       "          z  run  rerun  camcol  field     specobjid  class  redshift  plate  \\\n",
       "0  15.22531  752    301       4    267  3.722360e+18      1 -0.000009   3306   \n",
       "1  16.39150  752    301       4    267  3.638140e+17      1 -0.000055    323   \n",
       "2  16.80125  752    301       4    268  3.232740e+17      0  0.123111    287   \n",
       "3  15.90438  752    301       4    269  3.722370e+18      1 -0.000111   3306   \n",
       "4  16.61326  752    301       4    269  3.722370e+18      1  0.000590   3306   \n",
       "\n",
       "     mjd  fiberid  \n",
       "0  54922      491  \n",
       "1  51615      541  \n",
       "2  52023      513  \n",
       "3  54922      510  \n",
       "4  54922      512  "
      ]
     },
     "execution_count": 42,
     "metadata": {},
     "output_type": "execute_result"
    }
   ],
   "source": [
    "df.head()"
   ]
  },
  {
   "cell_type": "markdown",
   "id": "8b334a89",
   "metadata": {},
   "source": [
    "Now we can see class column is enocded."
   ]
  },
  {
   "cell_type": "markdown",
   "id": "d2fceefc",
   "metadata": {},
   "source": [
    "# Statistical Summary"
   ]
  },
  {
   "cell_type": "code",
   "execution_count": 43,
   "id": "7e9a8847",
   "metadata": {},
   "outputs": [
    {
     "data": {
      "text/html": [
       "<div>\n",
       "<style scoped>\n",
       "    .dataframe tbody tr th:only-of-type {\n",
       "        vertical-align: middle;\n",
       "    }\n",
       "\n",
       "    .dataframe tbody tr th {\n",
       "        vertical-align: top;\n",
       "    }\n",
       "\n",
       "    .dataframe thead th {\n",
       "        text-align: right;\n",
       "    }\n",
       "</style>\n",
       "<table border=\"1\" class=\"dataframe\">\n",
       "  <thead>\n",
       "    <tr style=\"text-align: right;\">\n",
       "      <th></th>\n",
       "      <th>objid</th>\n",
       "      <th>ra</th>\n",
       "      <th>dec</th>\n",
       "      <th>u</th>\n",
       "      <th>g</th>\n",
       "      <th>r</th>\n",
       "      <th>i</th>\n",
       "      <th>z</th>\n",
       "      <th>run</th>\n",
       "      <th>rerun</th>\n",
       "      <th>camcol</th>\n",
       "      <th>field</th>\n",
       "      <th>specobjid</th>\n",
       "      <th>class</th>\n",
       "      <th>redshift</th>\n",
       "      <th>plate</th>\n",
       "      <th>mjd</th>\n",
       "      <th>fiberid</th>\n",
       "    </tr>\n",
       "  </thead>\n",
       "  <tbody>\n",
       "    <tr>\n",
       "      <th>count</th>\n",
       "      <td>1.000000e+04</td>\n",
       "      <td>10000.000000</td>\n",
       "      <td>10000.000000</td>\n",
       "      <td>10000.000000</td>\n",
       "      <td>10000.000000</td>\n",
       "      <td>10000.000000</td>\n",
       "      <td>10000.000000</td>\n",
       "      <td>10000.000000</td>\n",
       "      <td>10000.000000</td>\n",
       "      <td>10000.0</td>\n",
       "      <td>10000.000000</td>\n",
       "      <td>10000.000000</td>\n",
       "      <td>1.000000e+04</td>\n",
       "      <td>10000.000000</td>\n",
       "      <td>10000.000000</td>\n",
       "      <td>10000.000000</td>\n",
       "      <td>10000.000000</td>\n",
       "      <td>10000.000000</td>\n",
       "    </tr>\n",
       "    <tr>\n",
       "      <th>mean</th>\n",
       "      <td>1.237650e+18</td>\n",
       "      <td>175.529987</td>\n",
       "      <td>14.836148</td>\n",
       "      <td>18.619355</td>\n",
       "      <td>17.371931</td>\n",
       "      <td>16.840963</td>\n",
       "      <td>16.583579</td>\n",
       "      <td>16.422833</td>\n",
       "      <td>981.034800</td>\n",
       "      <td>301.0</td>\n",
       "      <td>3.648700</td>\n",
       "      <td>302.380100</td>\n",
       "      <td>1.645022e+18</td>\n",
       "      <td>0.585200</td>\n",
       "      <td>0.143726</td>\n",
       "      <td>1460.986400</td>\n",
       "      <td>52943.533300</td>\n",
       "      <td>353.069400</td>\n",
       "    </tr>\n",
       "    <tr>\n",
       "      <th>std</th>\n",
       "      <td>1.577039e+05</td>\n",
       "      <td>47.783439</td>\n",
       "      <td>25.212207</td>\n",
       "      <td>0.828656</td>\n",
       "      <td>0.945457</td>\n",
       "      <td>1.067764</td>\n",
       "      <td>1.141805</td>\n",
       "      <td>1.203188</td>\n",
       "      <td>273.305024</td>\n",
       "      <td>0.0</td>\n",
       "      <td>1.666183</td>\n",
       "      <td>162.577763</td>\n",
       "      <td>2.013998e+18</td>\n",
       "      <td>0.642481</td>\n",
       "      <td>0.388774</td>\n",
       "      <td>1788.778371</td>\n",
       "      <td>1511.150651</td>\n",
       "      <td>206.298149</td>\n",
       "    </tr>\n",
       "    <tr>\n",
       "      <th>min</th>\n",
       "      <td>1.237650e+18</td>\n",
       "      <td>8.235100</td>\n",
       "      <td>-5.382632</td>\n",
       "      <td>12.988970</td>\n",
       "      <td>12.799550</td>\n",
       "      <td>12.431600</td>\n",
       "      <td>11.947210</td>\n",
       "      <td>11.610410</td>\n",
       "      <td>308.000000</td>\n",
       "      <td>301.0</td>\n",
       "      <td>1.000000</td>\n",
       "      <td>11.000000</td>\n",
       "      <td>2.995780e+17</td>\n",
       "      <td>0.000000</td>\n",
       "      <td>-0.004136</td>\n",
       "      <td>266.000000</td>\n",
       "      <td>51578.000000</td>\n",
       "      <td>1.000000</td>\n",
       "    </tr>\n",
       "    <tr>\n",
       "      <th>25%</th>\n",
       "      <td>1.237650e+18</td>\n",
       "      <td>157.370946</td>\n",
       "      <td>-0.539035</td>\n",
       "      <td>18.178035</td>\n",
       "      <td>16.815100</td>\n",
       "      <td>16.173333</td>\n",
       "      <td>15.853705</td>\n",
       "      <td>15.618285</td>\n",
       "      <td>752.000000</td>\n",
       "      <td>301.0</td>\n",
       "      <td>2.000000</td>\n",
       "      <td>184.000000</td>\n",
       "      <td>3.389248e+17</td>\n",
       "      <td>0.000000</td>\n",
       "      <td>0.000081</td>\n",
       "      <td>301.000000</td>\n",
       "      <td>51900.000000</td>\n",
       "      <td>186.750000</td>\n",
       "    </tr>\n",
       "    <tr>\n",
       "      <th>50%</th>\n",
       "      <td>1.237650e+18</td>\n",
       "      <td>180.394514</td>\n",
       "      <td>0.404166</td>\n",
       "      <td>18.853095</td>\n",
       "      <td>17.495135</td>\n",
       "      <td>16.858770</td>\n",
       "      <td>16.554985</td>\n",
       "      <td>16.389945</td>\n",
       "      <td>756.000000</td>\n",
       "      <td>301.0</td>\n",
       "      <td>4.000000</td>\n",
       "      <td>299.000000</td>\n",
       "      <td>4.966580e+17</td>\n",
       "      <td>1.000000</td>\n",
       "      <td>0.042591</td>\n",
       "      <td>441.000000</td>\n",
       "      <td>51997.000000</td>\n",
       "      <td>351.000000</td>\n",
       "    </tr>\n",
       "    <tr>\n",
       "      <th>75%</th>\n",
       "      <td>1.237650e+18</td>\n",
       "      <td>201.547279</td>\n",
       "      <td>35.649397</td>\n",
       "      <td>19.259232</td>\n",
       "      <td>18.010145</td>\n",
       "      <td>17.512675</td>\n",
       "      <td>17.258550</td>\n",
       "      <td>17.141447</td>\n",
       "      <td>1331.000000</td>\n",
       "      <td>301.0</td>\n",
       "      <td>5.000000</td>\n",
       "      <td>414.000000</td>\n",
       "      <td>2.881300e+18</td>\n",
       "      <td>1.000000</td>\n",
       "      <td>0.092579</td>\n",
       "      <td>2559.000000</td>\n",
       "      <td>54468.000000</td>\n",
       "      <td>510.000000</td>\n",
       "    </tr>\n",
       "    <tr>\n",
       "      <th>max</th>\n",
       "      <td>1.237650e+18</td>\n",
       "      <td>260.884382</td>\n",
       "      <td>68.542265</td>\n",
       "      <td>19.599900</td>\n",
       "      <td>19.918970</td>\n",
       "      <td>24.802040</td>\n",
       "      <td>28.179630</td>\n",
       "      <td>22.833060</td>\n",
       "      <td>1412.000000</td>\n",
       "      <td>301.0</td>\n",
       "      <td>6.000000</td>\n",
       "      <td>768.000000</td>\n",
       "      <td>9.468830e+18</td>\n",
       "      <td>2.000000</td>\n",
       "      <td>5.353854</td>\n",
       "      <td>8410.000000</td>\n",
       "      <td>57481.000000</td>\n",
       "      <td>1000.000000</td>\n",
       "    </tr>\n",
       "  </tbody>\n",
       "</table>\n",
       "</div>"
      ],
      "text/plain": [
       "              objid            ra           dec             u             g  \\\n",
       "count  1.000000e+04  10000.000000  10000.000000  10000.000000  10000.000000   \n",
       "mean   1.237650e+18    175.529987     14.836148     18.619355     17.371931   \n",
       "std    1.577039e+05     47.783439     25.212207      0.828656      0.945457   \n",
       "min    1.237650e+18      8.235100     -5.382632     12.988970     12.799550   \n",
       "25%    1.237650e+18    157.370946     -0.539035     18.178035     16.815100   \n",
       "50%    1.237650e+18    180.394514      0.404166     18.853095     17.495135   \n",
       "75%    1.237650e+18    201.547279     35.649397     19.259232     18.010145   \n",
       "max    1.237650e+18    260.884382     68.542265     19.599900     19.918970   \n",
       "\n",
       "                  r             i             z           run    rerun  \\\n",
       "count  10000.000000  10000.000000  10000.000000  10000.000000  10000.0   \n",
       "mean      16.840963     16.583579     16.422833    981.034800    301.0   \n",
       "std        1.067764      1.141805      1.203188    273.305024      0.0   \n",
       "min       12.431600     11.947210     11.610410    308.000000    301.0   \n",
       "25%       16.173333     15.853705     15.618285    752.000000    301.0   \n",
       "50%       16.858770     16.554985     16.389945    756.000000    301.0   \n",
       "75%       17.512675     17.258550     17.141447   1331.000000    301.0   \n",
       "max       24.802040     28.179630     22.833060   1412.000000    301.0   \n",
       "\n",
       "             camcol         field     specobjid         class      redshift  \\\n",
       "count  10000.000000  10000.000000  1.000000e+04  10000.000000  10000.000000   \n",
       "mean       3.648700    302.380100  1.645022e+18      0.585200      0.143726   \n",
       "std        1.666183    162.577763  2.013998e+18      0.642481      0.388774   \n",
       "min        1.000000     11.000000  2.995780e+17      0.000000     -0.004136   \n",
       "25%        2.000000    184.000000  3.389248e+17      0.000000      0.000081   \n",
       "50%        4.000000    299.000000  4.966580e+17      1.000000      0.042591   \n",
       "75%        5.000000    414.000000  2.881300e+18      1.000000      0.092579   \n",
       "max        6.000000    768.000000  9.468830e+18      2.000000      5.353854   \n",
       "\n",
       "              plate           mjd       fiberid  \n",
       "count  10000.000000  10000.000000  10000.000000  \n",
       "mean    1460.986400  52943.533300    353.069400  \n",
       "std     1788.778371   1511.150651    206.298149  \n",
       "min      266.000000  51578.000000      1.000000  \n",
       "25%      301.000000  51900.000000    186.750000  \n",
       "50%      441.000000  51997.000000    351.000000  \n",
       "75%     2559.000000  54468.000000    510.000000  \n",
       "max     8410.000000  57481.000000   1000.000000  "
      ]
     },
     "execution_count": 43,
     "metadata": {},
     "output_type": "execute_result"
    }
   ],
   "source": [
    "df.describe()"
   ]
  },
  {
   "cell_type": "markdown",
   "id": "82bfc0cd",
   "metadata": {},
   "source": [
    "Number of count is same in all the columns except 'objid'.\n",
    "\n",
    "There is not much difference between mean and median 50% in any column.\n",
    "\n",
    "Data is deviated in some of the columns.\n",
    "\n",
    "not much differnce between 75% and max in any column.\n"
   ]
  },
  {
   "cell_type": "markdown",
   "id": "c426ef7b",
   "metadata": {},
   "source": [
    "# Removing unnecessary column"
   ]
  },
  {
   "cell_type": "code",
   "execution_count": 47,
   "id": "0716808a",
   "metadata": {},
   "outputs": [],
   "source": [
    "# All the values is same in rerun column so i am dropping it\n",
    "del df['rerun']"
   ]
  },
  {
   "cell_type": "markdown",
   "id": "2833c52e",
   "metadata": {},
   "source": [
    "# Checking correleations"
   ]
  },
  {
   "cell_type": "code",
   "execution_count": 48,
   "id": "aa3cf81a",
   "metadata": {},
   "outputs": [
    {
     "data": {
      "text/plain": [
       "<AxesSubplot:>"
      ]
     },
     "execution_count": 48,
     "metadata": {},
     "output_type": "execute_result"
    },
    {
     "data": {
      "image/png": "[encoded data removed]",
      "text/plain": [
       "<Figure size 1584x864 with 2 Axes>"
      ]
     },
     "metadata": {
      "needs_background": "light"
     },
     "output_type": "display_data"
    }
   ],
   "source": [
    "plt.figure(figsize=(22,12))\n",
    "sns.heatmap(df.corr(), annot=True)"
   ]
  },
  {
   "cell_type": "markdown",
   "id": "85a8c38e",
   "metadata": {},
   "source": [
    "redshift , plate , mjd , g ,r ,i and z columns are positively correlated with class column.\n",
    "\n",
    "field is negatively correlated with run.\n",
    "\n",
    "run is positively correlated with dec."
   ]
  },
  {
   "cell_type": "markdown",
   "id": "01201354",
   "metadata": {},
   "source": [
    "# Removing outliers"
   ]
  },
  {
   "cell_type": "code",
   "execution_count": 49,
   "id": "5384d1ec",
   "metadata": {},
   "outputs": [],
   "source": [
    "from scipy.stats import zscore"
   ]
  },
  {
   "cell_type": "code",
   "execution_count": 50,
   "id": "3c6d8995",
   "metadata": {},
   "outputs": [
    {
     "data": {
      "text/plain": [
       "(array([  45,  109,  129, ..., 9994, 9997, 9997], dtype=int64),\n",
       " array([13, 13, 13, ..., 14, 11, 14], dtype=int64))"
      ]
     },
     "execution_count": 50,
     "metadata": {},
     "output_type": "execute_result"
    }
   ],
   "source": [
    "z=np.abs(zscore(df))\n",
    "threshold=3\n",
    "np.where(z>3)"
   ]
  },
  {
   "cell_type": "code",
   "execution_count": 51,
   "id": "684c5c01",
   "metadata": {},
   "outputs": [
    {
     "data": {
      "text/html": [
       "<div>\n",
       "<style scoped>\n",
       "    .dataframe tbody tr th:only-of-type {\n",
       "        vertical-align: middle;\n",
       "    }\n",
       "\n",
       "    .dataframe tbody tr th {\n",
       "        vertical-align: top;\n",
       "    }\n",
       "\n",
       "    .dataframe thead th {\n",
       "        text-align: right;\n",
       "    }\n",
       "</style>\n",
       "<table border=\"1\" class=\"dataframe\">\n",
       "  <thead>\n",
       "    <tr style=\"text-align: right;\">\n",
       "      <th></th>\n",
       "      <th>objid</th>\n",
       "      <th>ra</th>\n",
       "      <th>dec</th>\n",
       "      <th>u</th>\n",
       "      <th>g</th>\n",
       "      <th>r</th>\n",
       "      <th>i</th>\n",
       "      <th>z</th>\n",
       "      <th>run</th>\n",
       "      <th>camcol</th>\n",
       "      <th>field</th>\n",
       "      <th>specobjid</th>\n",
       "      <th>class</th>\n",
       "      <th>redshift</th>\n",
       "      <th>plate</th>\n",
       "      <th>mjd</th>\n",
       "      <th>fiberid</th>\n",
       "    </tr>\n",
       "  </thead>\n",
       "  <tbody>\n",
       "  </tbody>\n",
       "</table>\n",
       "</div>"
      ],
      "text/plain": [
       "Empty DataFrame\n",
       "Columns: [objid, ra, dec, u, g, r, i, z, run, camcol, field, specobjid, class, redshift, plate, mjd, fiberid]\n",
       "Index: []"
      ]
     },
     "execution_count": 51,
     "metadata": {},
     "output_type": "execute_result"
    }
   ],
   "source": [
    "df_new=df[(z<3).all(axis=1)]\n",
    "df_new"
   ]
  },
  {
   "cell_type": "markdown",
   "id": "06afb17a",
   "metadata": {},
   "source": [
    "So we can see we are loosing our whole data in outier removal process , so I will not take df_new variable in further process.\n",
    "\n",
    "and We will also not removing skewness because of the data loss."
   ]
  },
  {
   "cell_type": "markdown",
   "id": "469a4695",
   "metadata": {},
   "source": [
    "# Seprating the columns into x and y"
   ]
  },
  {
   "cell_type": "code",
   "execution_count": 53,
   "id": "62bb0570",
   "metadata": {},
   "outputs": [],
   "source": [
    "x=df.drop('class',axis=1)\n",
    "y=df['class']"
   ]
  },
  {
   "cell_type": "code",
   "execution_count": 54,
   "id": "ccb7ff6f",
   "metadata": {},
   "outputs": [
    {
     "data": {
      "text/plain": [
       "(10000, 16)"
      ]
     },
     "execution_count": 54,
     "metadata": {},
     "output_type": "execute_result"
    }
   ],
   "source": [
    "x.shape"
   ]
  },
  {
   "cell_type": "code",
   "execution_count": 55,
   "id": "35ab7380",
   "metadata": {},
   "outputs": [
    {
     "data": {
      "text/plain": [
       "(10000,)"
      ]
     },
     "execution_count": 55,
     "metadata": {},
     "output_type": "execute_result"
    }
   ],
   "source": [
    "y.shape"
   ]
  },
  {
   "cell_type": "markdown",
   "id": "21ca01af",
   "metadata": {},
   "source": [
    "# Train Test Split"
   ]
  },
  {
   "cell_type": "code",
   "execution_count": 56,
   "id": "198edf1f",
   "metadata": {},
   "outputs": [
    {
     "name": "stdout",
     "output_type": "stream",
     "text": [
      "(7000, 16)\n",
      "(3000, 16)\n",
      "(7000,)\n",
      "(3000,)\n"
     ]
    }
   ],
   "source": [
    "from sklearn.model_selection import train_test_split\n",
    "x_train,x_test,y_train,y_test=train_test_split(x,y, test_size=.30, random_state=43)\n",
    "print(x_train.shape)\n",
    "print(x_test.shape)\n",
    "print(y_train.shape)\n",
    "print(y_test.shape)"
   ]
  },
  {
   "cell_type": "markdown",
   "id": "7682f5c3",
   "metadata": {},
   "source": [
    "# HANDLING CLASS IMBALANCE PROBLEM BY OVERSAMPLING THE MINORITY CLASS"
   ]
  },
  {
   "cell_type": "code",
   "execution_count": 57,
   "id": "0b2243fd",
   "metadata": {},
   "outputs": [],
   "source": [
    "# In class column GALAXY and STAR are looking normal but QSO has low value count so we will doing oversampling here for overcome this situation\n",
    "from imblearn.over_sampling import SMOTE\n",
    "SM=SMOTE()\n",
    "x_over, y_over=SM.fit_resample(x,y)"
   ]
  },
  {
   "cell_type": "code",
   "execution_count": 58,
   "id": "da56a730",
   "metadata": {},
   "outputs": [
    {
     "data": {
      "text/plain": [
       "0    4998\n",
       "1    4998\n",
       "2    4998\n",
       "Name: class, dtype: int64"
      ]
     },
     "execution_count": 58,
     "metadata": {},
     "output_type": "execute_result"
    }
   ],
   "source": [
    "y_over.value_counts()"
   ]
  },
  {
   "cell_type": "markdown",
   "id": "11f4f878",
   "metadata": {},
   "source": [
    "Now unique values are looking same. so we can predict better accuracy."
   ]
  },
  {
   "cell_type": "markdown",
   "id": "95c4ad8a",
   "metadata": {},
   "source": [
    "# Model Building"
   ]
  },
  {
   "cell_type": "code",
   "execution_count": 63,
   "id": "dab9af1d",
   "metadata": {},
   "outputs": [],
   "source": [
    "from sklearn.linear_model import LogisticRegression\n",
    "from sklearn.ensemble import AdaBoostClassifier, RandomForestClassifier\n",
    "from sklearn.tree import DecisionTreeClassifier\n",
    "from sklearn.model_selection import cross_val_score\n",
    "from sklearn.metrics import accuracy_score, confusion_matrix, classification_report,roc_curve, roc_auc_score"
   ]
  },
  {
   "cell_type": "code",
   "execution_count": 60,
   "id": "318cb084",
   "metadata": {},
   "outputs": [
    {
     "name": "stdout",
     "output_type": "stream",
     "text": [
      "0.5\n",
      "[[1500    0    0]\n",
      " [1260    0    0]\n",
      " [ 240    0    0]]\n",
      "              precision    recall  f1-score   support\n",
      "\n",
      "           0       0.50      1.00      0.67      1500\n",
      "           1       0.00      0.00      0.00      1260\n",
      "           2       0.00      0.00      0.00       240\n",
      "\n",
      "    accuracy                           0.50      3000\n",
      "   macro avg       0.17      0.33      0.22      3000\n",
      "weighted avg       0.25      0.50      0.33      3000\n",
      "\n"
     ]
    }
   ],
   "source": [
    "# logistic Regression\n",
    "lr=LogisticRegression()\n",
    "lr.fit(x_train,y_train)\n",
    "pred_y=lr.predict(x_test)\n",
    "print(accuracy_score(y_test,pred_y))\n",
    "print(confusion_matrix(y_test,pred_y))\n",
    "print(classification_report(y_test,pred_y))"
   ]
  },
  {
   "cell_type": "code",
   "execution_count": 61,
   "id": "ca11fcd5",
   "metadata": {},
   "outputs": [
    {
     "name": "stdout",
     "output_type": "stream",
     "text": [
      "cv score 0.4998\n"
     ]
    }
   ],
   "source": [
    "# cross Validation logistic regression\n",
    "score=cross_val_score(lr,x,y,cv=5)\n",
    "print('cv score',np.mean(score))"
   ]
  },
  {
   "cell_type": "markdown",
   "id": "a4538a66",
   "metadata": {},
   "source": [
    "accuracy score is 505 and cv score is 49.98%."
   ]
  },
  {
   "cell_type": "code",
   "execution_count": null,
   "id": "1e2c6edc",
   "metadata": {},
   "outputs": [],
   "source": []
  },
  {
   "cell_type": "code",
   "execution_count": null,
   "id": "280221ba",
   "metadata": {},
   "outputs": [],
   "source": []
  },
  {
   "cell_type": "code",
   "execution_count": 65,
   "id": "03044016",
   "metadata": {},
   "outputs": [
    {
     "name": "stdout",
     "output_type": "stream",
     "text": [
      "0.987\n",
      "[[1486   11    3]\n",
      " [   0 1260    0]\n",
      " [  25    0  215]]\n",
      "              precision    recall  f1-score   support\n",
      "\n",
      "           0       0.98      0.99      0.99      1500\n",
      "           1       0.99      1.00      1.00      1260\n",
      "           2       0.99      0.90      0.94       240\n",
      "\n",
      "    accuracy                           0.99      3000\n",
      "   macro avg       0.99      0.96      0.97      3000\n",
      "weighted avg       0.99      0.99      0.99      3000\n",
      "\n"
     ]
    }
   ],
   "source": [
    "# random forest classifier\n",
    "rf=RandomForestClassifier()\n",
    "rf.fit(x_train,y_train)\n",
    "pred_y=rf.predict(x_test)\n",
    "print(accuracy_score(y_test,pred_y))\n",
    "print(confusion_matrix(y_test,pred_y))\n",
    "print(classification_report(y_test,pred_y))"
   ]
  },
  {
   "cell_type": "code",
   "execution_count": 66,
   "id": "fe342c76",
   "metadata": {},
   "outputs": [
    {
     "name": "stdout",
     "output_type": "stream",
     "text": [
      "cv score 0.9883\n"
     ]
    }
   ],
   "source": [
    "# cross validation Random forest classifier\n",
    "score=cross_val_score(rf,x,y,cv=5)\n",
    "print('cv score',np.mean(score))"
   ]
  },
  {
   "cell_type": "markdown",
   "id": "7d3e72d5",
   "metadata": {},
   "source": [
    "Accuarcy socre is 98.7% and cv score is 98.83%."
   ]
  },
  {
   "cell_type": "code",
   "execution_count": null,
   "id": "91fb1b99",
   "metadata": {},
   "outputs": [],
   "source": []
  },
  {
   "cell_type": "code",
   "execution_count": null,
   "id": "af82fdb2",
   "metadata": {},
   "outputs": [],
   "source": []
  },
  {
   "cell_type": "code",
   "execution_count": 68,
   "id": "e8ded3ae",
   "metadata": {},
   "outputs": [
    {
     "name": "stdout",
     "output_type": "stream",
     "text": [
      "0.986\n",
      "[[1489    2    9]\n",
      " [   5 1255    0]\n",
      " [  26    0  214]]\n",
      "              precision    recall  f1-score   support\n",
      "\n",
      "           0       0.98      0.99      0.99      1500\n",
      "           1       1.00      1.00      1.00      1260\n",
      "           2       0.96      0.89      0.92       240\n",
      "\n",
      "    accuracy                           0.99      3000\n",
      "   macro avg       0.98      0.96      0.97      3000\n",
      "weighted avg       0.99      0.99      0.99      3000\n",
      "\n"
     ]
    }
   ],
   "source": [
    "# Decision tree Classifier\n",
    "dt=DecisionTreeClassifier()\n",
    "dt.fit(x_train,y_train)\n",
    "pred_y=dt.predict(x_test)\n",
    "print(accuracy_score(y_test,pred_y))\n",
    "print(confusion_matrix(y_test,pred_y))\n",
    "print(classification_report(y_test,pred_y))"
   ]
  },
  {
   "cell_type": "code",
   "execution_count": 69,
   "id": "6dad22f1",
   "metadata": {},
   "outputs": [
    {
     "name": "stdout",
     "output_type": "stream",
     "text": [
      "cv score 0.9851000000000001\n"
     ]
    }
   ],
   "source": [
    "# cross validatio decision tree classifier\n",
    "score=cross_val_score(dt,x,y,cv=5)\n",
    "print('cv score',np.mean(score))"
   ]
  },
  {
   "cell_type": "markdown",
   "id": "c5d4d9c3",
   "metadata": {},
   "source": [
    "accuracy score is 98.6 and cross validation score is 98.51%."
   ]
  },
  {
   "cell_type": "code",
   "execution_count": null,
   "id": "8939d589",
   "metadata": {},
   "outputs": [],
   "source": []
  },
  {
   "cell_type": "code",
   "execution_count": null,
   "id": "dbc3103e",
   "metadata": {},
   "outputs": [],
   "source": []
  },
  {
   "cell_type": "code",
   "execution_count": 70,
   "id": "067408a4",
   "metadata": {},
   "outputs": [
    {
     "name": "stdout",
     "output_type": "stream",
     "text": [
      "0.777\n",
      "[[1054    9  437]\n",
      " [ 143 1117    0]\n",
      " [  80    0  160]]\n",
      "              precision    recall  f1-score   support\n",
      "\n",
      "           0       0.83      0.70      0.76      1500\n",
      "           1       0.99      0.89      0.94      1260\n",
      "           2       0.27      0.67      0.38       240\n",
      "\n",
      "    accuracy                           0.78      3000\n",
      "   macro avg       0.70      0.75      0.69      3000\n",
      "weighted avg       0.85      0.78      0.80      3000\n",
      "\n"
     ]
    }
   ],
   "source": [
    "# Adaboost classifier\n",
    "ad=AdaBoostClassifier()\n",
    "ad.fit(x_train,y_train)\n",
    "pred_y=ad.predict(x_test)\n",
    "print(accuracy_score(y_test,pred_y))\n",
    "print(confusion_matrix(y_test,pred_y))\n",
    "print(classification_report(y_test,pred_y))"
   ]
  },
  {
   "cell_type": "code",
   "execution_count": 71,
   "id": "82875065",
   "metadata": {},
   "outputs": [
    {
     "name": "stdout",
     "output_type": "stream",
     "text": [
      "cv score 0.8884000000000001\n"
     ]
    }
   ],
   "source": [
    "# cross validaation adaboost classifier\n",
    "score=cross_val_score(ad,x,y,cv=5)\n",
    "print('cv score',np.mean(score))"
   ]
  },
  {
   "cell_type": "markdown",
   "id": "d0e0a2a1",
   "metadata": {},
   "source": [
    "Accuarcy score is 77.7% and cv score is 88.84%"
   ]
  },
  {
   "cell_type": "code",
   "execution_count": null,
   "id": "5cc56fce",
   "metadata": {},
   "outputs": [],
   "source": []
  },
  {
   "cell_type": "raw",
   "id": "753028fa",
   "metadata": {},
   "source": [
    "Above predictions are giving very good accuarcy score from all he models except logisti regerssion, Random forest classifier and Adaboost classifier is giving 98% accuracy score and cv score , we will take arndom forest classifier for hyper parameter tuning for getting more better prediction"
   ]
  },
  {
   "cell_type": "markdown",
   "id": "69873452",
   "metadata": {},
   "source": [
    "# Hyper Parameter Tuning"
   ]
  },
  {
   "cell_type": "code",
   "execution_count": 74,
   "id": "efb20dcb",
   "metadata": {},
   "outputs": [
    {
     "name": "stdout",
     "output_type": "stream",
     "text": [
      "{'criterion': 'entropy'}\n",
      "0.9875\n"
     ]
    }
   ],
   "source": [
    "from sklearn import datasets\n",
    "from sklearn.model_selection import GridSearchCV\n",
    "\n",
    "rf=RandomForestClassifier(max_depth=6,random_state=0)\n",
    "\n",
    "grid_param={'criterion':['ginny','entropy']}\n",
    "\n",
    "gd_sr=GridSearchCV(estimator=rf,\n",
    "                  param_grid=grid_param,\n",
    "                  scoring='accuracy',\n",
    "                  cv=5)\n",
    "\n",
    "gd_sr.fit(x,y)\n",
    "\n",
    "best_parameters=gd_sr.best_params_\n",
    "print(best_parameters)\n",
    "best_result=gd_sr.best_score_\n",
    "print(best_result)"
   ]
  },
  {
   "cell_type": "markdown",
   "id": "c83ceb1e",
   "metadata": {},
   "source": [
    "# Final Model"
   ]
  },
  {
   "cell_type": "code",
   "execution_count": 76,
   "id": "c7808181",
   "metadata": {},
   "outputs": [
    {
     "name": "stdout",
     "output_type": "stream",
     "text": [
      "98.73333333333333\n"
     ]
    }
   ],
   "source": [
    "final_model=RandomForestClassifier(criterion='entropy')\n",
    "final_model.fit(x_train,y_train)\n",
    "pred_y=final_model.predict(x_test)\n",
    "acc=accuracy_score(y_test,pred_y)\n",
    "print(acc*100)"
   ]
  },
  {
   "cell_type": "markdown",
   "id": "4d766d2b",
   "metadata": {},
   "source": [
    "So after Hyper Parameter of Rnadom Forest we are getting 98.73% accuracy score , It means Our model is prforming extermely well."
   ]
  },
  {
   "cell_type": "code",
   "execution_count": null,
   "id": "8e386fe0",
   "metadata": {},
   "outputs": [],
   "source": []
  },
  {
   "cell_type": "markdown",
   "id": "8347ce16",
   "metadata": {},
   "source": [
    "# saving the model"
   ]
  },
  {
   "cell_type": "code",
   "execution_count": 82,
   "id": "be9b3f19",
   "metadata": {},
   "outputs": [],
   "source": [
    "import pickle\n",
    "filename='space_server.pickle'\n",
    "pickle.dump(rf,open(filename,'wb'))"
   ]
  },
  {
   "cell_type": "markdown",
   "id": "ca9c7c22",
   "metadata": {},
   "source": [
    "# conclusion"
   ]
  },
  {
   "cell_type": "code",
   "execution_count": 83,
   "id": "b5a20bb0",
   "metadata": {},
   "outputs": [
    {
     "name": "stdout",
     "output_type": "stream",
     "text": [
      "0.984\n"
     ]
    }
   ],
   "source": [
    "loded_model=pickle.load(open('space_server.pickle','rb'))\n",
    "loded_model.fit(x_train,y_train)\n",
    "result=loded_model.score(x_test,y_test)\n",
    "print(result)"
   ]
  },
  {
   "cell_type": "markdown",
   "id": "4975a098",
   "metadata": {},
   "source": [
    "With the help of MODEL , I learnt how to done EDA.\n",
    "\n",
    "I also learnt ,making use of packages like matplotlib and seaborn to develop better insights of the data.\n",
    "\n",
    "I have also learnt how to remove outliers and skewness to predict better accuracy.\n",
    "\n",
    "I have also seen the impacts on the columns on target columns..\n",
    "\n",
    "I came to know through the analysis ,which model will predict better accuracy.\n",
    "\n",
    "This project helped me to gain deep knowledge , and also get to know where to use models."
   ]
  },
  {
   "cell_type": "code",
   "execution_count": null,
   "id": "1a358549",
   "metadata": {},
   "outputs": [],
   "source": []
  }
 ],
 "metadata": {
  "kernelspec": {
   "display_name": "Python 3",
   "language": "python",
   "name": "python3"
  },
  "language_info": {
   "codemirror_mode": {
    "name": "ipython",
    "version": 3
   },
   "file_extension": ".py",
   "mimetype": "text/x-python",
   "name": "python",
   "nbconvert_exporter": "python",
   "pygments_lexer": "ipython3",
   "version": "3.8.10"
  }
 },
 "nbformat": 4,
 "nbformat_minor": 5
}
