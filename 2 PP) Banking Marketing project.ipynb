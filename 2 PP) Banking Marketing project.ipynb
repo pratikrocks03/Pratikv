{
 "cells": [
  {
   "cell_type": "markdown",
   "id": "6d72cbd7",
   "metadata": {},
   "source": [
    "# Bank Marketing Project\n",
    "Problem Statement:\n",
    "Bank Marketing Project\n",
    "\n",
    "Abstract: The data is related with direct marketing campaigns (phone calls) of a Portuguese banking institution. The classification goal is to predict if the client will subscribe a term deposit (variable y).\n",
    "\n",
    "\n",
    "\n",
    "Data Set Information:\n",
    "\n",
    "The data is related with direct marketing campaigns of a Portuguese banking institution. The marketing campaigns were based on phone calls. Often, more than one contact to the same client was required, in order to access if the product (bank term deposit) would be ('yes') or not ('no') subscribed.\n",
    "\n",
    "The classification goal is to predict if the client will subscribe (yes/no) a term deposit (variable y).\n",
    "\n",
    "\n",
    "\n",
    "Attribute Information:\n",
    "\n",
    "Input variables:\n",
    "# bank client data:\n",
    "1 - age (numeric)\n",
    "2 - job : type of job (categorical: 'admin.','blue-collar','entrepreneur','housemaid','management','retired','self-employed','services','student','technician','unemployed','unknown')\n",
    "3 - marital : marital status (categorical: 'divorced', 'married', 'single', 'unknown'; note: 'divorced' means divorced or widowed)\n",
    "4 - education (categorical: 'basic.4y','basic.6y','basic.9y','high.school','illiterate','professional.course','university.degree','unknown')\n",
    "5 - default: has credit in default? (categorical: 'no', 'yes', 'unknown')\n",
    "6 - housing: has housing loan? (categorical: 'no', 'yes', 'unknown')\n",
    "7 - loan: has personal loan? (categorical: 'no', 'yes', 'unknown')\n",
    "# related with the last contact of the current campaign:\n",
    "8 - contact: contact communication type (categorical: 'cellular', 'telephone')\n",
    "9 - month: last contact month of year (categorical: 'jan', 'feb', 'mar', ..., 'nov', 'dec')\n",
    "10 - day_of_week: last contact day of the week (categorical: 'mon','tue','wed','thu','fri')\n",
    "11 - duration: last contact duration, in seconds (numeric). Important note: this attribute highly affects the output target (e.g., if duration=0 then y='no'). Yet, the duration is not known before a call is performed. Also, after the end of the call y is obviously known. Thus, this input should only be included for benchmark purposes and should be discarded if the intention is to have a realistic predictive model.\n",
    "# other attributes:\n",
    "12 - campaign: number of contacts performed during this campaign and for this client (numeric, includes last contact)\n",
    "13 - pdays: number of days that passed by after the client was last contacted from a previous campaign (numeric; 999 means client was not previously contacted)\n",
    "14 - previous: number of contacts performed before this campaign and for this client (numeric)\n",
    "15 - poutcome: outcome of the previous marketing campaign (categorical: 'failure','nonexistent','success')\n",
    "# social and economic context attributes\n",
    "16 - emp.var.rate: employment variation rate - quarterly indicator (numeric)\n",
    "17 - cons.price.idx: consumer price index - monthly indicator (numeric)\n",
    "18 - cons.conf.idx: consumer confidence index - monthly indicator (numeric)\n",
    "19 - euribor3m: euribor 3 month rate - daily indicator (numeric)\n",
    "20 - nr.employed: number of employees - quarterly indicator (numeric)\n",
    "\n",
    "Output variable (desired target):\n",
    "21 - y - has the client subscribed a term deposit? (binary: 'yes', 'no')\n",
    "\n"
   ]
  },
  {
   "cell_type": "markdown",
   "id": "5cbf1322",
   "metadata": {},
   "source": [
    "# importing libraries"
   ]
  },
  {
   "cell_type": "code",
   "execution_count": 2,
   "id": "b9c70615",
   "metadata": {},
   "outputs": [],
   "source": [
    "import pandas as pd\n",
    "import numpy as np\n",
    "import matplotlib.pyplot as plt\n",
    "import seaborn as sns\n",
    "import warnings\n",
    "warnings.filterwarnings('ignore')"
   ]
  },
  {
   "cell_type": "markdown",
   "id": "16d60528",
   "metadata": {},
   "source": [
    "# Loadding tht dataset"
   ]
  },
  {
   "cell_type": "code",
   "execution_count": 3,
   "id": "e1ff7e1b",
   "metadata": {},
   "outputs": [
    {
     "data": {
      "text/html": [
       "<div>\n",
       "<style scoped>\n",
       "    .dataframe tbody tr th:only-of-type {\n",
       "        vertical-align: middle;\n",
       "    }\n",
       "\n",
       "    .dataframe tbody tr th {\n",
       "        vertical-align: top;\n",
       "    }\n",
       "\n",
       "    .dataframe thead th {\n",
       "        text-align: right;\n",
       "    }\n",
       "</style>\n",
       "<table border=\"1\" class=\"dataframe\">\n",
       "  <thead>\n",
       "    <tr style=\"text-align: right;\">\n",
       "      <th></th>\n",
       "      <th>age</th>\n",
       "      <th>job</th>\n",
       "      <th>marital</th>\n",
       "      <th>education</th>\n",
       "      <th>default</th>\n",
       "      <th>balance</th>\n",
       "      <th>housing</th>\n",
       "      <th>loan</th>\n",
       "      <th>contact</th>\n",
       "      <th>day</th>\n",
       "      <th>month</th>\n",
       "      <th>duration</th>\n",
       "      <th>campaign</th>\n",
       "      <th>pdays</th>\n",
       "      <th>previous</th>\n",
       "      <th>poutcome</th>\n",
       "      <th>deposit</th>\n",
       "    </tr>\n",
       "  </thead>\n",
       "  <tbody>\n",
       "    <tr>\n",
       "      <th>0</th>\n",
       "      <td>59</td>\n",
       "      <td>admin.</td>\n",
       "      <td>married</td>\n",
       "      <td>secondary</td>\n",
       "      <td>no</td>\n",
       "      <td>2343</td>\n",
       "      <td>yes</td>\n",
       "      <td>no</td>\n",
       "      <td>unknown</td>\n",
       "      <td>5</td>\n",
       "      <td>may</td>\n",
       "      <td>1042</td>\n",
       "      <td>1</td>\n",
       "      <td>-1</td>\n",
       "      <td>0</td>\n",
       "      <td>unknown</td>\n",
       "      <td>yes</td>\n",
       "    </tr>\n",
       "    <tr>\n",
       "      <th>1</th>\n",
       "      <td>56</td>\n",
       "      <td>admin.</td>\n",
       "      <td>married</td>\n",
       "      <td>secondary</td>\n",
       "      <td>no</td>\n",
       "      <td>45</td>\n",
       "      <td>no</td>\n",
       "      <td>no</td>\n",
       "      <td>unknown</td>\n",
       "      <td>5</td>\n",
       "      <td>may</td>\n",
       "      <td>1467</td>\n",
       "      <td>1</td>\n",
       "      <td>-1</td>\n",
       "      <td>0</td>\n",
       "      <td>unknown</td>\n",
       "      <td>yes</td>\n",
       "    </tr>\n",
       "    <tr>\n",
       "      <th>2</th>\n",
       "      <td>41</td>\n",
       "      <td>technician</td>\n",
       "      <td>married</td>\n",
       "      <td>secondary</td>\n",
       "      <td>no</td>\n",
       "      <td>1270</td>\n",
       "      <td>yes</td>\n",
       "      <td>no</td>\n",
       "      <td>unknown</td>\n",
       "      <td>5</td>\n",
       "      <td>may</td>\n",
       "      <td>1389</td>\n",
       "      <td>1</td>\n",
       "      <td>-1</td>\n",
       "      <td>0</td>\n",
       "      <td>unknown</td>\n",
       "      <td>yes</td>\n",
       "    </tr>\n",
       "    <tr>\n",
       "      <th>3</th>\n",
       "      <td>55</td>\n",
       "      <td>services</td>\n",
       "      <td>married</td>\n",
       "      <td>secondary</td>\n",
       "      <td>no</td>\n",
       "      <td>2476</td>\n",
       "      <td>yes</td>\n",
       "      <td>no</td>\n",
       "      <td>unknown</td>\n",
       "      <td>5</td>\n",
       "      <td>may</td>\n",
       "      <td>579</td>\n",
       "      <td>1</td>\n",
       "      <td>-1</td>\n",
       "      <td>0</td>\n",
       "      <td>unknown</td>\n",
       "      <td>yes</td>\n",
       "    </tr>\n",
       "    <tr>\n",
       "      <th>4</th>\n",
       "      <td>54</td>\n",
       "      <td>admin.</td>\n",
       "      <td>married</td>\n",
       "      <td>tertiary</td>\n",
       "      <td>no</td>\n",
       "      <td>184</td>\n",
       "      <td>no</td>\n",
       "      <td>no</td>\n",
       "      <td>unknown</td>\n",
       "      <td>5</td>\n",
       "      <td>may</td>\n",
       "      <td>673</td>\n",
       "      <td>2</td>\n",
       "      <td>-1</td>\n",
       "      <td>0</td>\n",
       "      <td>unknown</td>\n",
       "      <td>yes</td>\n",
       "    </tr>\n",
       "  </tbody>\n",
       "</table>\n",
       "</div>"
      ],
      "text/plain": [
       "   age         job  marital  education default  balance housing loan  contact  \\\n",
       "0   59      admin.  married  secondary      no     2343     yes   no  unknown   \n",
       "1   56      admin.  married  secondary      no       45      no   no  unknown   \n",
       "2   41  technician  married  secondary      no     1270     yes   no  unknown   \n",
       "3   55    services  married  secondary      no     2476     yes   no  unknown   \n",
       "4   54      admin.  married   tertiary      no      184      no   no  unknown   \n",
       "\n",
       "   day month  duration  campaign  pdays  previous poutcome deposit  \n",
       "0    5   may      1042         1     -1         0  unknown     yes  \n",
       "1    5   may      1467         1     -1         0  unknown     yes  \n",
       "2    5   may      1389         1     -1         0  unknown     yes  \n",
       "3    5   may       579         1     -1         0  unknown     yes  \n",
       "4    5   may       673         2     -1         0  unknown     yes  "
      ]
     },
     "execution_count": 3,
     "metadata": {},
     "output_type": "execute_result"
    }
   ],
   "source": [
    "df=pd.read_csv('banking.csv')\n",
    "df.head()"
   ]
  },
  {
   "cell_type": "markdown",
   "id": "fedcd78e",
   "metadata": {},
   "source": [
    "Top 5 heads of the dataset."
   ]
  },
  {
   "cell_type": "code",
   "execution_count": 5,
   "id": "68de7967",
   "metadata": {},
   "outputs": [
    {
     "data": {
      "text/html": [
       "<div>\n",
       "<style scoped>\n",
       "    .dataframe tbody tr th:only-of-type {\n",
       "        vertical-align: middle;\n",
       "    }\n",
       "\n",
       "    .dataframe tbody tr th {\n",
       "        vertical-align: top;\n",
       "    }\n",
       "\n",
       "    .dataframe thead th {\n",
       "        text-align: right;\n",
       "    }\n",
       "</style>\n",
       "<table border=\"1\" class=\"dataframe\">\n",
       "  <thead>\n",
       "    <tr style=\"text-align: right;\">\n",
       "      <th></th>\n",
       "      <th>age</th>\n",
       "      <th>job</th>\n",
       "      <th>marital</th>\n",
       "      <th>education</th>\n",
       "      <th>default</th>\n",
       "      <th>balance</th>\n",
       "      <th>housing</th>\n",
       "      <th>loan</th>\n",
       "      <th>contact</th>\n",
       "      <th>day</th>\n",
       "      <th>month</th>\n",
       "      <th>duration</th>\n",
       "      <th>campaign</th>\n",
       "      <th>pdays</th>\n",
       "      <th>previous</th>\n",
       "      <th>poutcome</th>\n",
       "      <th>deposit</th>\n",
       "    </tr>\n",
       "  </thead>\n",
       "  <tbody>\n",
       "    <tr>\n",
       "      <th>11157</th>\n",
       "      <td>33</td>\n",
       "      <td>blue-collar</td>\n",
       "      <td>single</td>\n",
       "      <td>primary</td>\n",
       "      <td>no</td>\n",
       "      <td>1</td>\n",
       "      <td>yes</td>\n",
       "      <td>no</td>\n",
       "      <td>cellular</td>\n",
       "      <td>20</td>\n",
       "      <td>apr</td>\n",
       "      <td>257</td>\n",
       "      <td>1</td>\n",
       "      <td>-1</td>\n",
       "      <td>0</td>\n",
       "      <td>unknown</td>\n",
       "      <td>no</td>\n",
       "    </tr>\n",
       "    <tr>\n",
       "      <th>11158</th>\n",
       "      <td>39</td>\n",
       "      <td>services</td>\n",
       "      <td>married</td>\n",
       "      <td>secondary</td>\n",
       "      <td>no</td>\n",
       "      <td>733</td>\n",
       "      <td>no</td>\n",
       "      <td>no</td>\n",
       "      <td>unknown</td>\n",
       "      <td>16</td>\n",
       "      <td>jun</td>\n",
       "      <td>83</td>\n",
       "      <td>4</td>\n",
       "      <td>-1</td>\n",
       "      <td>0</td>\n",
       "      <td>unknown</td>\n",
       "      <td>no</td>\n",
       "    </tr>\n",
       "    <tr>\n",
       "      <th>11159</th>\n",
       "      <td>32</td>\n",
       "      <td>technician</td>\n",
       "      <td>single</td>\n",
       "      <td>secondary</td>\n",
       "      <td>no</td>\n",
       "      <td>29</td>\n",
       "      <td>no</td>\n",
       "      <td>no</td>\n",
       "      <td>cellular</td>\n",
       "      <td>19</td>\n",
       "      <td>aug</td>\n",
       "      <td>156</td>\n",
       "      <td>2</td>\n",
       "      <td>-1</td>\n",
       "      <td>0</td>\n",
       "      <td>unknown</td>\n",
       "      <td>no</td>\n",
       "    </tr>\n",
       "    <tr>\n",
       "      <th>11160</th>\n",
       "      <td>43</td>\n",
       "      <td>technician</td>\n",
       "      <td>married</td>\n",
       "      <td>secondary</td>\n",
       "      <td>no</td>\n",
       "      <td>0</td>\n",
       "      <td>no</td>\n",
       "      <td>yes</td>\n",
       "      <td>cellular</td>\n",
       "      <td>8</td>\n",
       "      <td>may</td>\n",
       "      <td>9</td>\n",
       "      <td>2</td>\n",
       "      <td>172</td>\n",
       "      <td>5</td>\n",
       "      <td>failure</td>\n",
       "      <td>no</td>\n",
       "    </tr>\n",
       "    <tr>\n",
       "      <th>11161</th>\n",
       "      <td>34</td>\n",
       "      <td>technician</td>\n",
       "      <td>married</td>\n",
       "      <td>secondary</td>\n",
       "      <td>no</td>\n",
       "      <td>0</td>\n",
       "      <td>no</td>\n",
       "      <td>no</td>\n",
       "      <td>cellular</td>\n",
       "      <td>9</td>\n",
       "      <td>jul</td>\n",
       "      <td>628</td>\n",
       "      <td>1</td>\n",
       "      <td>-1</td>\n",
       "      <td>0</td>\n",
       "      <td>unknown</td>\n",
       "      <td>no</td>\n",
       "    </tr>\n",
       "  </tbody>\n",
       "</table>\n",
       "</div>"
      ],
      "text/plain": [
       "       age          job  marital  education default  balance housing loan  \\\n",
       "11157   33  blue-collar   single    primary      no        1     yes   no   \n",
       "11158   39     services  married  secondary      no      733      no   no   \n",
       "11159   32   technician   single  secondary      no       29      no   no   \n",
       "11160   43   technician  married  secondary      no        0      no  yes   \n",
       "11161   34   technician  married  secondary      no        0      no   no   \n",
       "\n",
       "        contact  day month  duration  campaign  pdays  previous poutcome  \\\n",
       "11157  cellular   20   apr       257         1     -1         0  unknown   \n",
       "11158   unknown   16   jun        83         4     -1         0  unknown   \n",
       "11159  cellular   19   aug       156         2     -1         0  unknown   \n",
       "11160  cellular    8   may         9         2    172         5  failure   \n",
       "11161  cellular    9   jul       628         1     -1         0  unknown   \n",
       "\n",
       "      deposit  \n",
       "11157      no  \n",
       "11158      no  \n",
       "11159      no  \n",
       "11160      no  \n",
       "11161      no  "
      ]
     },
     "execution_count": 5,
     "metadata": {},
     "output_type": "execute_result"
    }
   ],
   "source": [
    "df.tail()"
   ]
  },
  {
   "cell_type": "markdown",
   "id": "8cbae75f",
   "metadata": {},
   "source": [
    "Bottom 5 of the dataset."
   ]
  },
  {
   "cell_type": "markdown",
   "id": "562bbb28",
   "metadata": {},
   "source": [
    "# EDA"
   ]
  },
  {
   "cell_type": "code",
   "execution_count": 6,
   "id": "63c82e64",
   "metadata": {},
   "outputs": [
    {
     "data": {
      "text/plain": [
       "(11162, 17)"
      ]
     },
     "execution_count": 6,
     "metadata": {},
     "output_type": "execute_result"
    }
   ],
   "source": [
    "# checking shape\n",
    "df.shape"
   ]
  },
  {
   "cell_type": "markdown",
   "id": "7cb18a5f",
   "metadata": {},
   "source": [
    "We have 11162 rows and 17 columns in the dataset."
   ]
  },
  {
   "cell_type": "code",
   "execution_count": 7,
   "id": "8fdb98b7",
   "metadata": {},
   "outputs": [
    {
     "name": "stdout",
     "output_type": "stream",
     "text": [
      "<class 'pandas.core.frame.DataFrame'>\n",
      "RangeIndex: 11162 entries, 0 to 11161\n",
      "Data columns (total 17 columns):\n",
      " #   Column     Non-Null Count  Dtype \n",
      "---  ------     --------------  ----- \n",
      " 0   age        11162 non-null  int64 \n",
      " 1   job        11162 non-null  object\n",
      " 2   marital    11162 non-null  object\n",
      " 3   education  11162 non-null  object\n",
      " 4   default    11162 non-null  object\n",
      " 5   balance    11162 non-null  int64 \n",
      " 6   housing    11162 non-null  object\n",
      " 7   loan       11162 non-null  object\n",
      " 8   contact    11162 non-null  object\n",
      " 9   day        11162 non-null  int64 \n",
      " 10  month      11162 non-null  object\n",
      " 11  duration   11162 non-null  int64 \n",
      " 12  campaign   11162 non-null  int64 \n",
      " 13  pdays      11162 non-null  int64 \n",
      " 14  previous   11162 non-null  int64 \n",
      " 15  poutcome   11162 non-null  object\n",
      " 16  deposit    11162 non-null  object\n",
      "dtypes: int64(7), object(10)\n",
      "memory usage: 1.4+ MB\n"
     ]
    }
   ],
   "source": [
    "# checking datatype\n",
    "df.info()"
   ]
  },
  {
   "cell_type": "markdown",
   "id": "0a2a446a",
   "metadata": {},
   "source": [
    " 7 integer data type columns and 10 object data types columns present in the dataset."
   ]
  },
  {
   "cell_type": "code",
   "execution_count": 8,
   "id": "7d7e7a2a",
   "metadata": {},
   "outputs": [
    {
     "data": {
      "text/plain": [
       "age          0\n",
       "job          0\n",
       "marital      0\n",
       "education    0\n",
       "default      0\n",
       "balance      0\n",
       "housing      0\n",
       "loan         0\n",
       "contact      0\n",
       "day          0\n",
       "month        0\n",
       "duration     0\n",
       "campaign     0\n",
       "pdays        0\n",
       "previous     0\n",
       "poutcome     0\n",
       "deposit      0\n",
       "dtype: int64"
      ]
     },
     "execution_count": 8,
     "metadata": {},
     "output_type": "execute_result"
    }
   ],
   "source": [
    "# checking null values\n",
    "df.isnull().sum()"
   ]
  },
  {
   "cell_type": "markdown",
   "id": "3ed24c92",
   "metadata": {},
   "source": [
    "No null values present in the dataset."
   ]
  },
  {
   "cell_type": "markdown",
   "id": "d4136492",
   "metadata": {},
   "source": [
    "# EXPLORATORY DATA ANALYSIS for nominal data"
   ]
  },
  {
   "cell_type": "code",
   "execution_count": 9,
   "id": "4c405251",
   "metadata": {},
   "outputs": [
    {
     "data": {
      "text/plain": [
       "Index(['age', 'job', 'marital', 'education', 'default', 'balance', 'housing',\n",
       "       'loan', 'contact', 'day', 'month', 'duration', 'campaign', 'pdays',\n",
       "       'previous', 'poutcome', 'deposit'],\n",
       "      dtype='object')"
      ]
     },
     "execution_count": 9,
     "metadata": {},
     "output_type": "execute_result"
    }
   ],
   "source": [
    "df.columns"
   ]
  },
  {
   "cell_type": "code",
   "execution_count": 13,
   "id": "631d74c2",
   "metadata": {},
   "outputs": [
    {
     "name": "stdout",
     "output_type": "stream",
     "text": [
      "management       2566\n",
      "blue-collar      1944\n",
      "technician       1823\n",
      "admin.           1334\n",
      "services          923\n",
      "retired           778\n",
      "self-employed     405\n",
      "student           360\n",
      "unemployed        357\n",
      "entrepreneur      328\n",
      "housemaid         274\n",
      "unknown            70\n",
      "Name: job, dtype: int64\n"
     ]
    },
    {
     "data": {
      "image/png": "[encoded data removed]",
      "text/plain": [
       "<Figure size 432x288 with 1 Axes>"
      ]
     },
     "metadata": {
      "needs_background": "light"
     },
     "output_type": "display_data"
    }
   ],
   "source": [
    "ax=sns.countplot(x='job',data=df)\n",
    "print(df['job'].value_counts())\n",
    "ax.set_xticklabels(ax.get_xticklabels(),rotation=90, ha='right')\n",
    "plt.tight_layout()"
   ]
  },
  {
   "cell_type": "markdown",
   "id": "64d8646d",
   "metadata": {},
   "source": [
    "In Job column , management type job is high with 2566 numbers of jobs, and unkown job is low."
   ]
  },
  {
   "cell_type": "code",
   "execution_count": null,
   "id": "898548d7",
   "metadata": {},
   "outputs": [],
   "source": []
  },
  {
   "cell_type": "code",
   "execution_count": 14,
   "id": "6529c14c",
   "metadata": {},
   "outputs": [
    {
     "name": "stdout",
     "output_type": "stream",
     "text": [
      "married     6351\n",
      "single      3518\n",
      "divorced    1293\n",
      "Name: marital, dtype: int64\n"
     ]
    },
    {
     "data": {
      "image/png": "[encoded data removed]",
      "text/plain": [
       "<Figure size 432x288 with 1 Axes>"
      ]
     },
     "metadata": {
      "needs_background": "light"
     },
     "output_type": "display_data"
    }
   ],
   "source": [
    "ax=sns.countplot(x='marital',data=df)\n",
    "print(df['marital'].value_counts())\n",
    "ax.set_xticklabels(ax.get_xticklabels(),rotation=40, ha='right')\n",
    "plt.tight_layout()"
   ]
  },
  {
   "cell_type": "markdown",
   "id": "1bf518c4",
   "metadata": {},
   "source": [
    "The total number of married are 6351, single are 3518 and divorced are 1293."
   ]
  },
  {
   "cell_type": "code",
   "execution_count": null,
   "id": "fd13f351",
   "metadata": {},
   "outputs": [],
   "source": []
  },
  {
   "cell_type": "code",
   "execution_count": 15,
   "id": "e92350f1",
   "metadata": {},
   "outputs": [
    {
     "name": "stdout",
     "output_type": "stream",
     "text": [
      "secondary    5476\n",
      "tertiary     3689\n",
      "primary      1500\n",
      "unknown       497\n",
      "Name: education, dtype: int64\n"
     ]
    },
    {
     "data": {
      "image/png": "[encoded data removed]",
      "text/plain": [
       "<Figure size 432x288 with 1 Axes>"
      ]
     },
     "metadata": {
      "needs_background": "light"
     },
     "output_type": "display_data"
    }
   ],
   "source": [
    "ax=sns.countplot(x='education',data=df)\n",
    "print(df['education'].value_counts())\n",
    "ax.set_xticklabels(ax.get_xticklabels(),rotation=90, ha='right')\n",
    "plt.tight_layout()"
   ]
  },
  {
   "cell_type": "markdown",
   "id": "64737f2b",
   "metadata": {},
   "source": [
    "peoples with secondary education is high with 5476 numbers and peoples with unknown education is 497."
   ]
  },
  {
   "cell_type": "code",
   "execution_count": null,
   "id": "1393e217",
   "metadata": {},
   "outputs": [],
   "source": []
  },
  {
   "cell_type": "code",
   "execution_count": 16,
   "id": "20ccc228",
   "metadata": {},
   "outputs": [
    {
     "name": "stdout",
     "output_type": "stream",
     "text": [
      "no     10994\n",
      "yes      168\n",
      "Name: default, dtype: int64\n"
     ]
    },
    {
     "data": {
      "image/png": "[encoded data removed]",
      "text/plain": [
       "<Figure size 432x288 with 1 Axes>"
      ]
     },
     "metadata": {
      "needs_background": "light"
     },
     "output_type": "display_data"
    }
   ],
   "source": [
    "ax=sns.countplot(x='default',data=df)\n",
    "print(df['default'].value_counts())\n",
    "ax.set_xticklabels(ax.get_xticklabels(),rotation=90, ha='right')\n",
    "plt.tight_layout()"
   ]
  },
  {
   "cell_type": "markdown",
   "id": "852a8cf2",
   "metadata": {},
   "source": [
    "There is very big differnce in default column between yes and no."
   ]
  },
  {
   "cell_type": "code",
   "execution_count": null,
   "id": "31941cf8",
   "metadata": {},
   "outputs": [],
   "source": []
  },
  {
   "cell_type": "code",
   "execution_count": 18,
   "id": "35d2608d",
   "metadata": {},
   "outputs": [
    {
     "name": "stdout",
     "output_type": "stream",
     "text": [
      "no     5881\n",
      "yes    5281\n",
      "Name: housing, dtype: int64\n"
     ]
    },
    {
     "data": {
      "image/png": "[encoded data removed]",
      "text/plain": [
       "<Figure size 432x288 with 1 Axes>"
      ]
     },
     "metadata": {
      "needs_background": "light"
     },
     "output_type": "display_data"
    }
   ],
   "source": [
    "ax=sns.countplot(x='housing',data=df)\n",
    "print(df['housing'].value_counts())\n",
    "ax.set_xticklabels(ax.get_xticklabels(),rotation=90, ha='right')\n",
    "plt.tight_layout()"
   ]
  },
  {
   "cell_type": "markdown",
   "id": "a5880322",
   "metadata": {},
   "source": [
    "Peoples with housing is less, and peoples with no housing is high."
   ]
  },
  {
   "cell_type": "code",
   "execution_count": null,
   "id": "0516115a",
   "metadata": {},
   "outputs": [],
   "source": []
  },
  {
   "cell_type": "code",
   "execution_count": 19,
   "id": "c336d804",
   "metadata": {},
   "outputs": [
    {
     "name": "stdout",
     "output_type": "stream",
     "text": [
      "no     9702\n",
      "yes    1460\n",
      "Name: loan, dtype: int64\n"
     ]
    },
    {
     "data": {
      "image/png": "[encoded data removed]",
      "text/plain": [
       "<Figure size 432x288 with 1 Axes>"
      ]
     },
     "metadata": {
      "needs_background": "light"
     },
     "output_type": "display_data"
    }
   ],
   "source": [
    "ax=sns.countplot(x='loan',data=df)\n",
    "print(df['loan'].value_counts())\n",
    "ax.set_xticklabels(ax.get_xticklabels(),rotation=90, ha='right')\n",
    "plt.tight_layout()"
   ]
  },
  {
   "cell_type": "markdown",
   "id": "dde67b40",
   "metadata": {},
   "source": [
    "In loan column the total number of no is  and the total number of yes is 1460. "
   ]
  },
  {
   "cell_type": "code",
   "execution_count": null,
   "id": "40f2f963",
   "metadata": {},
   "outputs": [],
   "source": []
  },
  {
   "cell_type": "code",
   "execution_count": 20,
   "id": "60ba23d7",
   "metadata": {},
   "outputs": [
    {
     "name": "stdout",
     "output_type": "stream",
     "text": [
      "cellular     8042\n",
      "unknown      2346\n",
      "telephone     774\n",
      "Name: contact, dtype: int64\n"
     ]
    },
    {
     "data": {
      "image/png": "[encoded data removed]",
      "text/plain": [
       "<Figure size 432x288 with 1 Axes>"
      ]
     },
     "metadata": {
      "needs_background": "light"
     },
     "output_type": "display_data"
    }
   ],
   "source": [
    "ax=sns.countplot(x='contact',data=df)\n",
    "print(df['contact'].value_counts())\n",
    "ax.set_xticklabels(ax.get_xticklabels(),rotation=90, ha='right')\n",
    "plt.tight_layout()"
   ]
  },
  {
   "cell_type": "markdown",
   "id": "c45acd76",
   "metadata": {},
   "source": [
    "peoples with cellular contacts is more than unknown contacts and telephone contacts."
   ]
  },
  {
   "cell_type": "code",
   "execution_count": null,
   "id": "960a5be0",
   "metadata": {},
   "outputs": [],
   "source": []
  },
  {
   "cell_type": "code",
   "execution_count": 21,
   "id": "0cfbaad3",
   "metadata": {},
   "outputs": [
    {
     "name": "stdout",
     "output_type": "stream",
     "text": [
      "20    570\n",
      "18    548\n",
      "30    478\n",
      "5     477\n",
      "15    466\n",
      "14    463\n",
      "13    453\n",
      "21    452\n",
      "6     447\n",
      "12    445\n",
      "8     419\n",
      "17    411\n",
      "28    410\n",
      "4     402\n",
      "29    388\n",
      "19    384\n",
      "7     382\n",
      "11    373\n",
      "16    369\n",
      "9     364\n",
      "2     334\n",
      "3     306\n",
      "27    284\n",
      "22    269\n",
      "26    252\n",
      "23    245\n",
      "25    224\n",
      "10    163\n",
      "31    140\n",
      "1     122\n",
      "24    122\n",
      "Name: day, dtype: int64\n"
     ]
    },
    {
     "data": {
      "image/png": "[encoded data removed]",
      "text/plain": [
       "<Figure size 432x288 with 1 Axes>"
      ]
     },
     "metadata": {
      "needs_background": "light"
     },
     "output_type": "display_data"
    }
   ],
   "source": [
    "ax=sns.countplot(x='day',data=df)\n",
    "print(df['day'].value_counts())\n",
    "ax.set_xticklabels(ax.get_xticklabels(),rotation=90, ha='right')\n",
    "plt.tight_layout()"
   ]
  },
  {
   "cell_type": "markdown",
   "id": "bcbba4c9",
   "metadata": {},
   "source": [
    "Not much difference in the day column."
   ]
  },
  {
   "cell_type": "code",
   "execution_count": null,
   "id": "7acd84f9",
   "metadata": {},
   "outputs": [],
   "source": []
  },
  {
   "cell_type": "code",
   "execution_count": 22,
   "id": "9d29b860",
   "metadata": {},
   "outputs": [
    {
     "name": "stdout",
     "output_type": "stream",
     "text": [
      "may    2824\n",
      "aug    1519\n",
      "jul    1514\n",
      "jun    1222\n",
      "nov     943\n",
      "apr     923\n",
      "feb     776\n",
      "oct     392\n",
      "jan     344\n",
      "sep     319\n",
      "mar     276\n",
      "dec     110\n",
      "Name: month, dtype: int64\n"
     ]
    },
    {
     "data": {
      "image/png": "[encoded data removed]",
      "text/plain": [
       "<Figure size 432x288 with 1 Axes>"
      ]
     },
     "metadata": {
      "needs_background": "light"
     },
     "output_type": "display_data"
    }
   ],
   "source": [
    "ax=sns.countplot(x='month',data=df)\n",
    "print(df['month'].value_counts())\n",
    "ax.set_xticklabels(ax.get_xticklabels(),rotation=90, ha='right')\n",
    "plt.tight_layout()"
   ]
  },
  {
   "cell_type": "markdown",
   "id": "2ef5e792",
   "metadata": {},
   "source": [
    "In month column, the total number of persons is 2824 with maximum numbers, and after that there is bit decline in every month."
   ]
  },
  {
   "cell_type": "code",
   "execution_count": null,
   "id": "427d15e9",
   "metadata": {},
   "outputs": [],
   "source": []
  },
  {
   "cell_type": "code",
   "execution_count": 24,
   "id": "88516bdb",
   "metadata": {},
   "outputs": [
    {
     "name": "stdout",
     "output_type": "stream",
     "text": [
      "1     4798\n",
      "2     3028\n",
      "3     1321\n",
      "4      771\n",
      "5      378\n",
      "6      265\n",
      "7      139\n",
      "8      128\n",
      "9       72\n",
      "10      52\n",
      "11      40\n",
      "13      30\n",
      "12      29\n",
      "14      15\n",
      "17      14\n",
      "15      13\n",
      "16       9\n",
      "18       8\n",
      "21       8\n",
      "19       5\n",
      "20       5\n",
      "24       5\n",
      "30       4\n",
      "22       4\n",
      "25       3\n",
      "23       3\n",
      "26       3\n",
      "43       2\n",
      "29       2\n",
      "32       2\n",
      "28       1\n",
      "27       1\n",
      "41       1\n",
      "33       1\n",
      "31       1\n",
      "63       1\n",
      "Name: campaign, dtype: int64\n"
     ]
    },
    {
     "data": {
      "image/png": "[encoded data removed]",
      "text/plain": [
       "<Figure size 432x288 with 1 Axes>"
      ]
     },
     "metadata": {
      "needs_background": "light"
     },
     "output_type": "display_data"
    }
   ],
   "source": [
    "ax=sns.countplot(x='campaign',data=df)\n",
    "print(df['campaign'].value_counts())\n",
    "ax.set_xticklabels(ax.get_xticklabels(),rotation=90, ha='right')\n",
    "plt.tight_layout()"
   ]
  },
  {
   "cell_type": "markdown",
   "id": "29efdc4a",
   "metadata": {},
   "source": [
    "In campaign column there is  some numbers between 1 to 9 after there is very low numbers that is 1 or 2."
   ]
  },
  {
   "cell_type": "code",
   "execution_count": 25,
   "id": "5181c2fd",
   "metadata": {},
   "outputs": [
    {
     "data": {
      "text/plain": [
       "Index(['age', 'job', 'marital', 'education', 'default', 'balance', 'housing',\n",
       "       'loan', 'contact', 'day', 'month', 'duration', 'campaign', 'pdays',\n",
       "       'previous', 'poutcome', 'deposit'],\n",
       "      dtype='object')"
      ]
     },
     "execution_count": 25,
     "metadata": {},
     "output_type": "execute_result"
    }
   ],
   "source": [
    "df.columns"
   ]
  },
  {
   "cell_type": "code",
   "execution_count": 26,
   "id": "2673b259",
   "metadata": {},
   "outputs": [
    {
     "name": "stdout",
     "output_type": "stream",
     "text": [
      "unknown    8326\n",
      "failure    1228\n",
      "success    1071\n",
      "other       537\n",
      "Name: poutcome, dtype: int64\n"
     ]
    },
    {
     "data": {
      "image/png": "[encoded data removed]",
      "text/plain": [
       "<Figure size 432x288 with 1 Axes>"
      ]
     },
     "metadata": {
      "needs_background": "light"
     },
     "output_type": "display_data"
    }
   ],
   "source": [
    "ax=sns.countplot(x='poutcome',data=df)\n",
    "print(df['poutcome'].value_counts())\n",
    "ax.set_xticklabels(ax.get_xticklabels(),rotation=90, ha='right')\n",
    "plt.tight_layout()"
   ]
  },
  {
   "cell_type": "markdown",
   "id": "35d55bb0",
   "metadata": {},
   "source": [
    "In poutcome column ,unknown is maximum with 8326 numbers, failure, success and other is very low."
   ]
  },
  {
   "cell_type": "code",
   "execution_count": null,
   "id": "dbfc8878",
   "metadata": {},
   "outputs": [],
   "source": []
  },
  {
   "cell_type": "code",
   "execution_count": 27,
   "id": "d0394ee0",
   "metadata": {},
   "outputs": [
    {
     "name": "stdout",
     "output_type": "stream",
     "text": [
      "no     5873\n",
      "yes    5289\n",
      "Name: deposit, dtype: int64\n"
     ]
    },
    {
     "data": {
      "image/png": "[encoded data removed]",
      "text/plain": [
       "<Figure size 432x288 with 1 Axes>"
      ]
     },
     "metadata": {
      "needs_background": "light"
     },
     "output_type": "display_data"
    }
   ],
   "source": [
    "ax=sns.countplot(x='deposit',data=df)\n",
    "print(df['deposit'].value_counts())\n",
    "ax.set_xticklabels(ax.get_xticklabels(),rotation=90, ha='right')\n",
    "plt.tight_layout()"
   ]
  },
  {
   "cell_type": "markdown",
   "id": "13e99184",
   "metadata": {},
   "source": [
    "Not much diference between yes and no in deposit column."
   ]
  },
  {
   "cell_type": "code",
   "execution_count": null,
   "id": "05f68508",
   "metadata": {},
   "outputs": [],
   "source": []
  },
  {
   "cell_type": "markdown",
   "id": "ff5dda02",
   "metadata": {},
   "source": [
    "# EXPLORATORY DATA ANALYSIS for numerical data"
   ]
  },
  {
   "cell_type": "code",
   "execution_count": 28,
   "id": "553f5dbd",
   "metadata": {},
   "outputs": [
    {
     "data": {
      "text/plain": [
       "<AxesSubplot:xlabel='age', ylabel='Density'>"
      ]
     },
     "execution_count": 28,
     "metadata": {},
     "output_type": "execute_result"
    },
    {
     "data": {
      "image/png": "[encoded data removed]",
      "text/plain": [
       "<Figure size 432x288 with 1 Axes>"
      ]
     },
     "metadata": {
      "needs_background": "light"
     },
     "output_type": "display_data"
    }
   ],
   "source": [
    "sns.distplot(df['age'],kde=True)"
   ]
  },
  {
   "cell_type": "markdown",
   "id": "4ece1b35",
   "metadata": {},
   "source": [
    "age is in range between 20 to 100 with little bit left skewed."
   ]
  },
  {
   "cell_type": "code",
   "execution_count": null,
   "id": "b081cd2a",
   "metadata": {},
   "outputs": [],
   "source": []
  },
  {
   "cell_type": "code",
   "execution_count": 30,
   "id": "931302cc",
   "metadata": {},
   "outputs": [
    {
     "data": {
      "text/plain": [
       "<AxesSubplot:xlabel='balance', ylabel='Density'>"
      ]
     },
     "execution_count": 30,
     "metadata": {},
     "output_type": "execute_result"
    },
    {
     "data": {
      "image/png": "[encoded data removed]",
      "text/plain": [
       "<Figure size 432x288 with 1 Axes>"
      ]
     },
     "metadata": {
      "needs_background": "light"
     },
     "output_type": "display_data"
    }
   ],
   "source": [
    "sns.distplot(df['balance'],kde=True)"
   ]
  },
  {
   "cell_type": "markdown",
   "id": "3dffafe6",
   "metadata": {},
   "source": [
    "balance is range in between 0 to 20000."
   ]
  },
  {
   "cell_type": "code",
   "execution_count": null,
   "id": "69b7d8e3",
   "metadata": {},
   "outputs": [],
   "source": []
  },
  {
   "cell_type": "code",
   "execution_count": 31,
   "id": "c2fcab1f",
   "metadata": {},
   "outputs": [
    {
     "data": {
      "text/plain": [
       "<AxesSubplot:xlabel='duration', ylabel='Density'>"
      ]
     },
     "execution_count": 31,
     "metadata": {},
     "output_type": "execute_result"
    },
    {
     "data": {
      "image/png": "[encoded data removed]",
      "text/plain": [
       "<Figure size 432x288 with 1 Axes>"
      ]
     },
     "metadata": {
      "needs_background": "light"
     },
     "output_type": "display_data"
    }
   ],
   "source": [
    "sns.distplot(df['duration'],kde=True)"
   ]
  },
  {
   "cell_type": "markdown",
   "id": "cc1163fb",
   "metadata": {},
   "source": [
    "duration column is left skewed and ranges in between 0 to 2000."
   ]
  },
  {
   "cell_type": "code",
   "execution_count": null,
   "id": "3db12309",
   "metadata": {},
   "outputs": [],
   "source": []
  },
  {
   "cell_type": "code",
   "execution_count": 33,
   "id": "f50c83cb",
   "metadata": {},
   "outputs": [
    {
     "data": {
      "text/plain": [
       "<AxesSubplot:xlabel='previous', ylabel='Density'>"
      ]
     },
     "execution_count": 33,
     "metadata": {},
     "output_type": "execute_result"
    },
    {
     "data": {
      "image/png": "[encoded data removed]",
      "text/plain": [
       "<Figure size 432x288 with 1 Axes>"
      ]
     },
     "metadata": {
      "needs_background": "light"
     },
     "output_type": "display_data"
    }
   ],
   "source": [
    "sns.distplot(df['previous'],kde=True)"
   ]
  },
  {
   "cell_type": "markdown",
   "id": "5024d793",
   "metadata": {},
   "source": [
    "Previous column is left skewed with ranges in between 0 to 10."
   ]
  },
  {
   "cell_type": "code",
   "execution_count": null,
   "id": "62fe92f4",
   "metadata": {},
   "outputs": [],
   "source": []
  },
  {
   "cell_type": "markdown",
   "id": "f7f56e0c",
   "metadata": {},
   "source": [
    "# CHECKING OUTLIERS"
   ]
  },
  {
   "cell_type": "code",
   "execution_count": 34,
   "id": "3733f568",
   "metadata": {},
   "outputs": [
    {
     "data": {
      "text/plain": [
       "age            AxesSubplot(0.125,0.71587;0.0945122x0.16413)\n",
       "balance     AxesSubplot(0.238415,0.71587;0.0945122x0.16413)\n",
       "day         AxesSubplot(0.351829,0.71587;0.0945122x0.16413)\n",
       "duration    AxesSubplot(0.465244,0.71587;0.0945122x0.16413)\n",
       "campaign    AxesSubplot(0.578659,0.71587;0.0945122x0.16413)\n",
       "pdays       AxesSubplot(0.692073,0.71587;0.0945122x0.16413)\n",
       "previous    AxesSubplot(0.805488,0.71587;0.0945122x0.16413)\n",
       "dtype: object"
      ]
     },
     "execution_count": 34,
     "metadata": {},
     "output_type": "execute_result"
    },
    {
     "data": {
      "image/png": "[encoded data removed]",
      "text/plain": [
       "<Figure size 1080x720 with 28 Axes>"
      ]
     },
     "metadata": {
      "needs_background": "light"
     },
     "output_type": "display_data"
    }
   ],
   "source": [
    "df.plot(kind='box', subplots=True ,layout=(4,7),figsize=(15,10))"
   ]
  },
  {
   "cell_type": "markdown",
   "id": "3064ba83",
   "metadata": {},
   "source": [
    "outliers are present in the columns."
   ]
  },
  {
   "cell_type": "code",
   "execution_count": null,
   "id": "8289006f",
   "metadata": {},
   "outputs": [],
   "source": []
  },
  {
   "cell_type": "markdown",
   "id": "ca78675e",
   "metadata": {},
   "source": [
    "# Checking skewness"
   ]
  },
  {
   "cell_type": "code",
   "execution_count": 35,
   "id": "31e52801",
   "metadata": {},
   "outputs": [
    {
     "data": {
      "text/plain": [
       "age         0.862780\n",
       "balance     8.224619\n",
       "day         0.111330\n",
       "duration    2.143695\n",
       "campaign    5.545578\n",
       "pdays       2.449986\n",
       "previous    7.335298\n",
       "dtype: float64"
      ]
     },
     "execution_count": 35,
     "metadata": {},
     "output_type": "execute_result"
    }
   ],
   "source": [
    "df.skew()"
   ]
  },
  {
   "cell_type": "markdown",
   "id": "3c957465",
   "metadata": {},
   "source": [
    "balance , duration , campaignn, pdays and previous columns are looking skewed."
   ]
  },
  {
   "cell_type": "markdown",
   "id": "e8fbc9c6",
   "metadata": {},
   "source": [
    "# ENCODING THE DATAFRAME TO CONVERT STRING COLUMNS TO NUMERIC COLUMNS"
   ]
  },
  {
   "cell_type": "code",
   "execution_count": 4,
   "id": "24cc4be3",
   "metadata": {},
   "outputs": [],
   "source": [
    "from sklearn.preprocessing import LabelEncoder\n",
    "enc=LabelEncoder()\n",
    "\n",
    "for i in df.columns:\n",
    "    if df[i].dtypes=='object':\n",
    "        df[i]=enc.fit_transform(df[i])"
   ]
  },
  {
   "cell_type": "code",
   "execution_count": 5,
   "id": "db8cc405",
   "metadata": {},
   "outputs": [
    {
     "data": {
      "text/html": [
       "<div>\n",
       "<style scoped>\n",
       "    .dataframe tbody tr th:only-of-type {\n",
       "        vertical-align: middle;\n",
       "    }\n",
       "\n",
       "    .dataframe tbody tr th {\n",
       "        vertical-align: top;\n",
       "    }\n",
       "\n",
       "    .dataframe thead th {\n",
       "        text-align: right;\n",
       "    }\n",
       "</style>\n",
       "<table border=\"1\" class=\"dataframe\">\n",
       "  <thead>\n",
       "    <tr style=\"text-align: right;\">\n",
       "      <th></th>\n",
       "      <th>age</th>\n",
       "      <th>job</th>\n",
       "      <th>marital</th>\n",
       "      <th>education</th>\n",
       "      <th>default</th>\n",
       "      <th>balance</th>\n",
       "      <th>housing</th>\n",
       "      <th>loan</th>\n",
       "      <th>contact</th>\n",
       "      <th>day</th>\n",
       "      <th>month</th>\n",
       "      <th>duration</th>\n",
       "      <th>campaign</th>\n",
       "      <th>pdays</th>\n",
       "      <th>previous</th>\n",
       "      <th>poutcome</th>\n",
       "      <th>deposit</th>\n",
       "    </tr>\n",
       "  </thead>\n",
       "  <tbody>\n",
       "    <tr>\n",
       "      <th>0</th>\n",
       "      <td>59</td>\n",
       "      <td>0</td>\n",
       "      <td>1</td>\n",
       "      <td>1</td>\n",
       "      <td>0</td>\n",
       "      <td>2343</td>\n",
       "      <td>1</td>\n",
       "      <td>0</td>\n",
       "      <td>2</td>\n",
       "      <td>5</td>\n",
       "      <td>8</td>\n",
       "      <td>1042</td>\n",
       "      <td>1</td>\n",
       "      <td>-1</td>\n",
       "      <td>0</td>\n",
       "      <td>3</td>\n",
       "      <td>1</td>\n",
       "    </tr>\n",
       "    <tr>\n",
       "      <th>1</th>\n",
       "      <td>56</td>\n",
       "      <td>0</td>\n",
       "      <td>1</td>\n",
       "      <td>1</td>\n",
       "      <td>0</td>\n",
       "      <td>45</td>\n",
       "      <td>0</td>\n",
       "      <td>0</td>\n",
       "      <td>2</td>\n",
       "      <td>5</td>\n",
       "      <td>8</td>\n",
       "      <td>1467</td>\n",
       "      <td>1</td>\n",
       "      <td>-1</td>\n",
       "      <td>0</td>\n",
       "      <td>3</td>\n",
       "      <td>1</td>\n",
       "    </tr>\n",
       "    <tr>\n",
       "      <th>2</th>\n",
       "      <td>41</td>\n",
       "      <td>9</td>\n",
       "      <td>1</td>\n",
       "      <td>1</td>\n",
       "      <td>0</td>\n",
       "      <td>1270</td>\n",
       "      <td>1</td>\n",
       "      <td>0</td>\n",
       "      <td>2</td>\n",
       "      <td>5</td>\n",
       "      <td>8</td>\n",
       "      <td>1389</td>\n",
       "      <td>1</td>\n",
       "      <td>-1</td>\n",
       "      <td>0</td>\n",
       "      <td>3</td>\n",
       "      <td>1</td>\n",
       "    </tr>\n",
       "    <tr>\n",
       "      <th>3</th>\n",
       "      <td>55</td>\n",
       "      <td>7</td>\n",
       "      <td>1</td>\n",
       "      <td>1</td>\n",
       "      <td>0</td>\n",
       "      <td>2476</td>\n",
       "      <td>1</td>\n",
       "      <td>0</td>\n",
       "      <td>2</td>\n",
       "      <td>5</td>\n",
       "      <td>8</td>\n",
       "      <td>579</td>\n",
       "      <td>1</td>\n",
       "      <td>-1</td>\n",
       "      <td>0</td>\n",
       "      <td>3</td>\n",
       "      <td>1</td>\n",
       "    </tr>\n",
       "    <tr>\n",
       "      <th>4</th>\n",
       "      <td>54</td>\n",
       "      <td>0</td>\n",
       "      <td>1</td>\n",
       "      <td>2</td>\n",
       "      <td>0</td>\n",
       "      <td>184</td>\n",
       "      <td>0</td>\n",
       "      <td>0</td>\n",
       "      <td>2</td>\n",
       "      <td>5</td>\n",
       "      <td>8</td>\n",
       "      <td>673</td>\n",
       "      <td>2</td>\n",
       "      <td>-1</td>\n",
       "      <td>0</td>\n",
       "      <td>3</td>\n",
       "      <td>1</td>\n",
       "    </tr>\n",
       "    <tr>\n",
       "      <th>...</th>\n",
       "      <td>...</td>\n",
       "      <td>...</td>\n",
       "      <td>...</td>\n",
       "      <td>...</td>\n",
       "      <td>...</td>\n",
       "      <td>...</td>\n",
       "      <td>...</td>\n",
       "      <td>...</td>\n",
       "      <td>...</td>\n",
       "      <td>...</td>\n",
       "      <td>...</td>\n",
       "      <td>...</td>\n",
       "      <td>...</td>\n",
       "      <td>...</td>\n",
       "      <td>...</td>\n",
       "      <td>...</td>\n",
       "      <td>...</td>\n",
       "    </tr>\n",
       "    <tr>\n",
       "      <th>11157</th>\n",
       "      <td>33</td>\n",
       "      <td>1</td>\n",
       "      <td>2</td>\n",
       "      <td>0</td>\n",
       "      <td>0</td>\n",
       "      <td>1</td>\n",
       "      <td>1</td>\n",
       "      <td>0</td>\n",
       "      <td>0</td>\n",
       "      <td>20</td>\n",
       "      <td>0</td>\n",
       "      <td>257</td>\n",
       "      <td>1</td>\n",
       "      <td>-1</td>\n",
       "      <td>0</td>\n",
       "      <td>3</td>\n",
       "      <td>0</td>\n",
       "    </tr>\n",
       "    <tr>\n",
       "      <th>11158</th>\n",
       "      <td>39</td>\n",
       "      <td>7</td>\n",
       "      <td>1</td>\n",
       "      <td>1</td>\n",
       "      <td>0</td>\n",
       "      <td>733</td>\n",
       "      <td>0</td>\n",
       "      <td>0</td>\n",
       "      <td>2</td>\n",
       "      <td>16</td>\n",
       "      <td>6</td>\n",
       "      <td>83</td>\n",
       "      <td>4</td>\n",
       "      <td>-1</td>\n",
       "      <td>0</td>\n",
       "      <td>3</td>\n",
       "      <td>0</td>\n",
       "    </tr>\n",
       "    <tr>\n",
       "      <th>11159</th>\n",
       "      <td>32</td>\n",
       "      <td>9</td>\n",
       "      <td>2</td>\n",
       "      <td>1</td>\n",
       "      <td>0</td>\n",
       "      <td>29</td>\n",
       "      <td>0</td>\n",
       "      <td>0</td>\n",
       "      <td>0</td>\n",
       "      <td>19</td>\n",
       "      <td>1</td>\n",
       "      <td>156</td>\n",
       "      <td>2</td>\n",
       "      <td>-1</td>\n",
       "      <td>0</td>\n",
       "      <td>3</td>\n",
       "      <td>0</td>\n",
       "    </tr>\n",
       "    <tr>\n",
       "      <th>11160</th>\n",
       "      <td>43</td>\n",
       "      <td>9</td>\n",
       "      <td>1</td>\n",
       "      <td>1</td>\n",
       "      <td>0</td>\n",
       "      <td>0</td>\n",
       "      <td>0</td>\n",
       "      <td>1</td>\n",
       "      <td>0</td>\n",
       "      <td>8</td>\n",
       "      <td>8</td>\n",
       "      <td>9</td>\n",
       "      <td>2</td>\n",
       "      <td>172</td>\n",
       "      <td>5</td>\n",
       "      <td>0</td>\n",
       "      <td>0</td>\n",
       "    </tr>\n",
       "    <tr>\n",
       "      <th>11161</th>\n",
       "      <td>34</td>\n",
       "      <td>9</td>\n",
       "      <td>1</td>\n",
       "      <td>1</td>\n",
       "      <td>0</td>\n",
       "      <td>0</td>\n",
       "      <td>0</td>\n",
       "      <td>0</td>\n",
       "      <td>0</td>\n",
       "      <td>9</td>\n",
       "      <td>5</td>\n",
       "      <td>628</td>\n",
       "      <td>1</td>\n",
       "      <td>-1</td>\n",
       "      <td>0</td>\n",
       "      <td>3</td>\n",
       "      <td>0</td>\n",
       "    </tr>\n",
       "  </tbody>\n",
       "</table>\n",
       "<p>11162 rows × 17 columns</p>\n",
       "</div>"
      ],
      "text/plain": [
       "       age  job  marital  education  default  balance  housing  loan  contact  \\\n",
       "0       59    0        1          1        0     2343        1     0        2   \n",
       "1       56    0        1          1        0       45        0     0        2   \n",
       "2       41    9        1          1        0     1270        1     0        2   \n",
       "3       55    7        1          1        0     2476        1     0        2   \n",
       "4       54    0        1          2        0      184        0     0        2   \n",
       "...    ...  ...      ...        ...      ...      ...      ...   ...      ...   \n",
       "11157   33    1        2          0        0        1        1     0        0   \n",
       "11158   39    7        1          1        0      733        0     0        2   \n",
       "11159   32    9        2          1        0       29        0     0        0   \n",
       "11160   43    9        1          1        0        0        0     1        0   \n",
       "11161   34    9        1          1        0        0        0     0        0   \n",
       "\n",
       "       day  month  duration  campaign  pdays  previous  poutcome  deposit  \n",
       "0        5      8      1042         1     -1         0         3        1  \n",
       "1        5      8      1467         1     -1         0         3        1  \n",
       "2        5      8      1389         1     -1         0         3        1  \n",
       "3        5      8       579         1     -1         0         3        1  \n",
       "4        5      8       673         2     -1         0         3        1  \n",
       "...    ...    ...       ...       ...    ...       ...       ...      ...  \n",
       "11157   20      0       257         1     -1         0         3        0  \n",
       "11158   16      6        83         4     -1         0         3        0  \n",
       "11159   19      1       156         2     -1         0         3        0  \n",
       "11160    8      8         9         2    172         5         0        0  \n",
       "11161    9      5       628         1     -1         0         3        0  \n",
       "\n",
       "[11162 rows x 17 columns]"
      ]
     },
     "execution_count": 5,
     "metadata": {},
     "output_type": "execute_result"
    }
   ],
   "source": [
    "df"
   ]
  },
  {
   "cell_type": "markdown",
   "id": "2fef64df",
   "metadata": {},
   "source": [
    "Now all the object type columns has been converted into numeric columns"
   ]
  },
  {
   "cell_type": "code",
   "execution_count": null,
   "id": "0614d89c",
   "metadata": {},
   "outputs": [],
   "source": []
  },
  {
   "cell_type": "markdown",
   "id": "4c98dcb9",
   "metadata": {},
   "source": [
    "# outlier removal"
   ]
  },
  {
   "cell_type": "code",
   "execution_count": 6,
   "id": "785180d0",
   "metadata": {},
   "outputs": [],
   "source": [
    "from scipy.stats import zscore"
   ]
  },
  {
   "cell_type": "code",
   "execution_count": 7,
   "id": "3f360681",
   "metadata": {},
   "outputs": [
    {
     "data": {
      "text/plain": [
       "(array([    1,    11,    12, ..., 11126, 11140, 11146], dtype=int64),\n",
       " array([11, 11, 11, ...,  4, 12,  4], dtype=int64))"
      ]
     },
     "execution_count": 7,
     "metadata": {},
     "output_type": "execute_result"
    }
   ],
   "source": [
    "z=np.abs(zscore(df))\n",
    "threshold=3\n",
    "np.where(z>3)"
   ]
  },
  {
   "cell_type": "code",
   "execution_count": 8,
   "id": "4398e060",
   "metadata": {},
   "outputs": [
    {
     "data": {
      "text/html": [
       "<div>\n",
       "<style scoped>\n",
       "    .dataframe tbody tr th:only-of-type {\n",
       "        vertical-align: middle;\n",
       "    }\n",
       "\n",
       "    .dataframe tbody tr th {\n",
       "        vertical-align: top;\n",
       "    }\n",
       "\n",
       "    .dataframe thead th {\n",
       "        text-align: right;\n",
       "    }\n",
       "</style>\n",
       "<table border=\"1\" class=\"dataframe\">\n",
       "  <thead>\n",
       "    <tr style=\"text-align: right;\">\n",
       "      <th></th>\n",
       "      <th>age</th>\n",
       "      <th>job</th>\n",
       "      <th>marital</th>\n",
       "      <th>education</th>\n",
       "      <th>default</th>\n",
       "      <th>balance</th>\n",
       "      <th>housing</th>\n",
       "      <th>loan</th>\n",
       "      <th>contact</th>\n",
       "      <th>day</th>\n",
       "      <th>month</th>\n",
       "      <th>duration</th>\n",
       "      <th>campaign</th>\n",
       "      <th>pdays</th>\n",
       "      <th>previous</th>\n",
       "      <th>poutcome</th>\n",
       "      <th>deposit</th>\n",
       "    </tr>\n",
       "  </thead>\n",
       "  <tbody>\n",
       "    <tr>\n",
       "      <th>0</th>\n",
       "      <td>59</td>\n",
       "      <td>0</td>\n",
       "      <td>1</td>\n",
       "      <td>1</td>\n",
       "      <td>0</td>\n",
       "      <td>2343</td>\n",
       "      <td>1</td>\n",
       "      <td>0</td>\n",
       "      <td>2</td>\n",
       "      <td>5</td>\n",
       "      <td>8</td>\n",
       "      <td>1042</td>\n",
       "      <td>1</td>\n",
       "      <td>-1</td>\n",
       "      <td>0</td>\n",
       "      <td>3</td>\n",
       "      <td>1</td>\n",
       "    </tr>\n",
       "    <tr>\n",
       "      <th>2</th>\n",
       "      <td>41</td>\n",
       "      <td>9</td>\n",
       "      <td>1</td>\n",
       "      <td>1</td>\n",
       "      <td>0</td>\n",
       "      <td>1270</td>\n",
       "      <td>1</td>\n",
       "      <td>0</td>\n",
       "      <td>2</td>\n",
       "      <td>5</td>\n",
       "      <td>8</td>\n",
       "      <td>1389</td>\n",
       "      <td>1</td>\n",
       "      <td>-1</td>\n",
       "      <td>0</td>\n",
       "      <td>3</td>\n",
       "      <td>1</td>\n",
       "    </tr>\n",
       "    <tr>\n",
       "      <th>3</th>\n",
       "      <td>55</td>\n",
       "      <td>7</td>\n",
       "      <td>1</td>\n",
       "      <td>1</td>\n",
       "      <td>0</td>\n",
       "      <td>2476</td>\n",
       "      <td>1</td>\n",
       "      <td>0</td>\n",
       "      <td>2</td>\n",
       "      <td>5</td>\n",
       "      <td>8</td>\n",
       "      <td>579</td>\n",
       "      <td>1</td>\n",
       "      <td>-1</td>\n",
       "      <td>0</td>\n",
       "      <td>3</td>\n",
       "      <td>1</td>\n",
       "    </tr>\n",
       "    <tr>\n",
       "      <th>4</th>\n",
       "      <td>54</td>\n",
       "      <td>0</td>\n",
       "      <td>1</td>\n",
       "      <td>2</td>\n",
       "      <td>0</td>\n",
       "      <td>184</td>\n",
       "      <td>0</td>\n",
       "      <td>0</td>\n",
       "      <td>2</td>\n",
       "      <td>5</td>\n",
       "      <td>8</td>\n",
       "      <td>673</td>\n",
       "      <td>2</td>\n",
       "      <td>-1</td>\n",
       "      <td>0</td>\n",
       "      <td>3</td>\n",
       "      <td>1</td>\n",
       "    </tr>\n",
       "    <tr>\n",
       "      <th>5</th>\n",
       "      <td>42</td>\n",
       "      <td>4</td>\n",
       "      <td>2</td>\n",
       "      <td>2</td>\n",
       "      <td>0</td>\n",
       "      <td>0</td>\n",
       "      <td>1</td>\n",
       "      <td>1</td>\n",
       "      <td>2</td>\n",
       "      <td>5</td>\n",
       "      <td>8</td>\n",
       "      <td>562</td>\n",
       "      <td>2</td>\n",
       "      <td>-1</td>\n",
       "      <td>0</td>\n",
       "      <td>3</td>\n",
       "      <td>1</td>\n",
       "    </tr>\n",
       "    <tr>\n",
       "      <th>...</th>\n",
       "      <td>...</td>\n",
       "      <td>...</td>\n",
       "      <td>...</td>\n",
       "      <td>...</td>\n",
       "      <td>...</td>\n",
       "      <td>...</td>\n",
       "      <td>...</td>\n",
       "      <td>...</td>\n",
       "      <td>...</td>\n",
       "      <td>...</td>\n",
       "      <td>...</td>\n",
       "      <td>...</td>\n",
       "      <td>...</td>\n",
       "      <td>...</td>\n",
       "      <td>...</td>\n",
       "      <td>...</td>\n",
       "      <td>...</td>\n",
       "    </tr>\n",
       "    <tr>\n",
       "      <th>11157</th>\n",
       "      <td>33</td>\n",
       "      <td>1</td>\n",
       "      <td>2</td>\n",
       "      <td>0</td>\n",
       "      <td>0</td>\n",
       "      <td>1</td>\n",
       "      <td>1</td>\n",
       "      <td>0</td>\n",
       "      <td>0</td>\n",
       "      <td>20</td>\n",
       "      <td>0</td>\n",
       "      <td>257</td>\n",
       "      <td>1</td>\n",
       "      <td>-1</td>\n",
       "      <td>0</td>\n",
       "      <td>3</td>\n",
       "      <td>0</td>\n",
       "    </tr>\n",
       "    <tr>\n",
       "      <th>11158</th>\n",
       "      <td>39</td>\n",
       "      <td>7</td>\n",
       "      <td>1</td>\n",
       "      <td>1</td>\n",
       "      <td>0</td>\n",
       "      <td>733</td>\n",
       "      <td>0</td>\n",
       "      <td>0</td>\n",
       "      <td>2</td>\n",
       "      <td>16</td>\n",
       "      <td>6</td>\n",
       "      <td>83</td>\n",
       "      <td>4</td>\n",
       "      <td>-1</td>\n",
       "      <td>0</td>\n",
       "      <td>3</td>\n",
       "      <td>0</td>\n",
       "    </tr>\n",
       "    <tr>\n",
       "      <th>11159</th>\n",
       "      <td>32</td>\n",
       "      <td>9</td>\n",
       "      <td>2</td>\n",
       "      <td>1</td>\n",
       "      <td>0</td>\n",
       "      <td>29</td>\n",
       "      <td>0</td>\n",
       "      <td>0</td>\n",
       "      <td>0</td>\n",
       "      <td>19</td>\n",
       "      <td>1</td>\n",
       "      <td>156</td>\n",
       "      <td>2</td>\n",
       "      <td>-1</td>\n",
       "      <td>0</td>\n",
       "      <td>3</td>\n",
       "      <td>0</td>\n",
       "    </tr>\n",
       "    <tr>\n",
       "      <th>11160</th>\n",
       "      <td>43</td>\n",
       "      <td>9</td>\n",
       "      <td>1</td>\n",
       "      <td>1</td>\n",
       "      <td>0</td>\n",
       "      <td>0</td>\n",
       "      <td>0</td>\n",
       "      <td>1</td>\n",
       "      <td>0</td>\n",
       "      <td>8</td>\n",
       "      <td>8</td>\n",
       "      <td>9</td>\n",
       "      <td>2</td>\n",
       "      <td>172</td>\n",
       "      <td>5</td>\n",
       "      <td>0</td>\n",
       "      <td>0</td>\n",
       "    </tr>\n",
       "    <tr>\n",
       "      <th>11161</th>\n",
       "      <td>34</td>\n",
       "      <td>9</td>\n",
       "      <td>1</td>\n",
       "      <td>1</td>\n",
       "      <td>0</td>\n",
       "      <td>0</td>\n",
       "      <td>0</td>\n",
       "      <td>0</td>\n",
       "      <td>0</td>\n",
       "      <td>9</td>\n",
       "      <td>5</td>\n",
       "      <td>628</td>\n",
       "      <td>1</td>\n",
       "      <td>-1</td>\n",
       "      <td>0</td>\n",
       "      <td>3</td>\n",
       "      <td>0</td>\n",
       "    </tr>\n",
       "  </tbody>\n",
       "</table>\n",
       "<p>9942 rows × 17 columns</p>\n",
       "</div>"
      ],
      "text/plain": [
       "       age  job  marital  education  default  balance  housing  loan  contact  \\\n",
       "0       59    0        1          1        0     2343        1     0        2   \n",
       "2       41    9        1          1        0     1270        1     0        2   \n",
       "3       55    7        1          1        0     2476        1     0        2   \n",
       "4       54    0        1          2        0      184        0     0        2   \n",
       "5       42    4        2          2        0        0        1     1        2   \n",
       "...    ...  ...      ...        ...      ...      ...      ...   ...      ...   \n",
       "11157   33    1        2          0        0        1        1     0        0   \n",
       "11158   39    7        1          1        0      733        0     0        2   \n",
       "11159   32    9        2          1        0       29        0     0        0   \n",
       "11160   43    9        1          1        0        0        0     1        0   \n",
       "11161   34    9        1          1        0        0        0     0        0   \n",
       "\n",
       "       day  month  duration  campaign  pdays  previous  poutcome  deposit  \n",
       "0        5      8      1042         1     -1         0         3        1  \n",
       "2        5      8      1389         1     -1         0         3        1  \n",
       "3        5      8       579         1     -1         0         3        1  \n",
       "4        5      8       673         2     -1         0         3        1  \n",
       "5        5      8       562         2     -1         0         3        1  \n",
       "...    ...    ...       ...       ...    ...       ...       ...      ...  \n",
       "11157   20      0       257         1     -1         0         3        0  \n",
       "11158   16      6        83         4     -1         0         3        0  \n",
       "11159   19      1       156         2     -1         0         3        0  \n",
       "11160    8      8         9         2    172         5         0        0  \n",
       "11161    9      5       628         1     -1         0         3        0  \n",
       "\n",
       "[9942 rows x 17 columns]"
      ]
     },
     "execution_count": 8,
     "metadata": {},
     "output_type": "execute_result"
    }
   ],
   "source": [
    "df_=df[(z<3).all(axis=1)]\n",
    "df_"
   ]
  },
  {
   "cell_type": "code",
   "execution_count": 9,
   "id": "d1cedcdc",
   "metadata": {},
   "outputs": [
    {
     "data": {
      "text/plain": [
       "(11162, 17)"
      ]
     },
     "execution_count": 9,
     "metadata": {},
     "output_type": "execute_result"
    }
   ],
   "source": [
    "df.shape"
   ]
  },
  {
   "cell_type": "code",
   "execution_count": 11,
   "id": "f8bbc31a",
   "metadata": {},
   "outputs": [
    {
     "data": {
      "text/plain": [
       "(9942, 17)"
      ]
     },
     "execution_count": 11,
     "metadata": {},
     "output_type": "execute_result"
    }
   ],
   "source": [
    "df_.shape"
   ]
  },
  {
   "cell_type": "markdown",
   "id": "96970c15",
   "metadata": {},
   "source": [
    "1220 rows  has been removed as a outliers."
   ]
  },
  {
   "cell_type": "code",
   "execution_count": 12,
   "id": "85f41403",
   "metadata": {},
   "outputs": [
    {
     "data": {
      "text/plain": [
       "age          0\n",
       "job          0\n",
       "marital      0\n",
       "education    0\n",
       "default      0\n",
       "balance      0\n",
       "housing      0\n",
       "loan         0\n",
       "contact      0\n",
       "day          0\n",
       "month        0\n",
       "duration     0\n",
       "campaign     0\n",
       "pdays        0\n",
       "previous     0\n",
       "poutcome     0\n",
       "deposit      0\n",
       "dtype: int64"
      ]
     },
     "execution_count": 12,
     "metadata": {},
     "output_type": "execute_result"
    }
   ],
   "source": [
    "df_.isnull().sum()"
   ]
  },
  {
   "cell_type": "code",
   "execution_count": null,
   "id": "2fa7a1d6",
   "metadata": {},
   "outputs": [],
   "source": []
  },
  {
   "cell_type": "markdown",
   "id": "d0789a8c",
   "metadata": {},
   "source": [
    "# Removing skewness"
   ]
  },
  {
   "cell_type": "code",
   "execution_count": 47,
   "id": "e490e209",
   "metadata": {},
   "outputs": [
    {
     "data": {
      "text/plain": [
       "age          0.862780\n",
       "job          0.184306\n",
       "marital     -0.173968\n",
       "education    0.115543\n",
       "default      7.966983\n",
       "balance      8.224619\n",
       "housing      0.107678\n",
       "loan         2.190201\n",
       "contact      1.182309\n",
       "day          0.111330\n",
       "month       -0.322998\n",
       "duration     2.143695\n",
       "campaign     5.545578\n",
       "pdays        2.449986\n",
       "previous     7.335298\n",
       "poutcome    -1.718276\n",
       "deposit      0.104798\n",
       "dtype: float64"
      ]
     },
     "execution_count": 47,
     "metadata": {},
     "output_type": "execute_result"
    }
   ],
   "source": [
    "df.skew()"
   ]
  },
  {
   "cell_type": "code",
   "execution_count": 48,
   "id": "3e7abead",
   "metadata": {},
   "outputs": [],
   "source": [
    "ds=df_new"
   ]
  },
  {
   "cell_type": "code",
   "execution_count": 49,
   "id": "ac5bb9e8",
   "metadata": {},
   "outputs": [],
   "source": [
    "ds['balance']=np.log(df['balance'])\n",
    "ds['previous']=np.log(df['previous'])"
   ]
  },
  {
   "cell_type": "code",
   "execution_count": 51,
   "id": "f7c0f58d",
   "metadata": {},
   "outputs": [
    {
     "data": {
      "text/plain": [
       "age          0.637244\n",
       "job          0.192465\n",
       "marital     -0.178121\n",
       "education    0.113498\n",
       "default      0.000000\n",
       "balance           NaN\n",
       "housing      0.091035\n",
       "loan         2.188169\n",
       "contact      1.179558\n",
       "day          0.132012\n",
       "month       -0.353554\n",
       "duration     1.358903\n",
       "campaign     1.976247\n",
       "pdays        2.114976\n",
       "previous          NaN\n",
       "poutcome    -1.855705\n",
       "deposit      0.167985\n",
       "dtype: float64"
      ]
     },
     "execution_count": 51,
     "metadata": {},
     "output_type": "execute_result"
    }
   ],
   "source": [
    "ds.skew()"
   ]
  },
  {
   "cell_type": "markdown",
   "id": "24c7795e",
   "metadata": {},
   "source": [
    " so skewness removal will not considered further beacuse data is becoming NaN and some of the outliers has been removed during outlier removal. so new variable will move ahead."
   ]
  },
  {
   "cell_type": "code",
   "execution_count": 52,
   "id": "b0770d35",
   "metadata": {},
   "outputs": [
    {
     "data": {
      "text/plain": [
       "age          0.637244\n",
       "job          0.192465\n",
       "marital     -0.178121\n",
       "education    0.113498\n",
       "default      0.000000\n",
       "balance           NaN\n",
       "housing      0.091035\n",
       "loan         2.188169\n",
       "contact      1.179558\n",
       "day          0.132012\n",
       "month       -0.353554\n",
       "duration     1.358903\n",
       "campaign     1.976247\n",
       "pdays        2.114976\n",
       "previous          NaN\n",
       "poutcome    -1.855705\n",
       "deposit      0.167985\n",
       "dtype: float64"
      ]
     },
     "execution_count": 52,
     "metadata": {},
     "output_type": "execute_result"
    }
   ],
   "source": [
    "df_new.skew()"
   ]
  },
  {
   "cell_type": "code",
   "execution_count": null,
   "id": "978896ea",
   "metadata": {},
   "outputs": [],
   "source": []
  },
  {
   "cell_type": "markdown",
   "id": "f966f1bf",
   "metadata": {},
   "source": [
    "# statistical summary"
   ]
  },
  {
   "cell_type": "code",
   "execution_count": 13,
   "id": "90955394",
   "metadata": {},
   "outputs": [
    {
     "data": {
      "text/html": [
       "<div>\n",
       "<style scoped>\n",
       "    .dataframe tbody tr th:only-of-type {\n",
       "        vertical-align: middle;\n",
       "    }\n",
       "\n",
       "    .dataframe tbody tr th {\n",
       "        vertical-align: top;\n",
       "    }\n",
       "\n",
       "    .dataframe thead th {\n",
       "        text-align: right;\n",
       "    }\n",
       "</style>\n",
       "<table border=\"1\" class=\"dataframe\">\n",
       "  <thead>\n",
       "    <tr style=\"text-align: right;\">\n",
       "      <th></th>\n",
       "      <th>age</th>\n",
       "      <th>job</th>\n",
       "      <th>marital</th>\n",
       "      <th>education</th>\n",
       "      <th>default</th>\n",
       "      <th>balance</th>\n",
       "      <th>housing</th>\n",
       "      <th>loan</th>\n",
       "      <th>contact</th>\n",
       "      <th>day</th>\n",
       "      <th>month</th>\n",
       "      <th>duration</th>\n",
       "      <th>campaign</th>\n",
       "      <th>pdays</th>\n",
       "      <th>previous</th>\n",
       "      <th>poutcome</th>\n",
       "      <th>deposit</th>\n",
       "    </tr>\n",
       "  </thead>\n",
       "  <tbody>\n",
       "    <tr>\n",
       "      <th>count</th>\n",
       "      <td>11162.000000</td>\n",
       "      <td>11162.000000</td>\n",
       "      <td>11162.000000</td>\n",
       "      <td>11162.000000</td>\n",
       "      <td>11162.000000</td>\n",
       "      <td>11162.000000</td>\n",
       "      <td>11162.000000</td>\n",
       "      <td>11162.000000</td>\n",
       "      <td>11162.000000</td>\n",
       "      <td>11162.000000</td>\n",
       "      <td>11162.000000</td>\n",
       "      <td>11162.000000</td>\n",
       "      <td>11162.000000</td>\n",
       "      <td>11162.000000</td>\n",
       "      <td>11162.000000</td>\n",
       "      <td>11162.000000</td>\n",
       "      <td>11162.000000</td>\n",
       "    </tr>\n",
       "    <tr>\n",
       "      <th>mean</th>\n",
       "      <td>41.231948</td>\n",
       "      <td>4.487905</td>\n",
       "      <td>1.199337</td>\n",
       "      <td>1.285164</td>\n",
       "      <td>0.015051</td>\n",
       "      <td>1528.538524</td>\n",
       "      <td>0.473123</td>\n",
       "      <td>0.130801</td>\n",
       "      <td>0.489697</td>\n",
       "      <td>15.658036</td>\n",
       "      <td>5.445709</td>\n",
       "      <td>371.993818</td>\n",
       "      <td>2.508421</td>\n",
       "      <td>51.330407</td>\n",
       "      <td>0.832557</td>\n",
       "      <td>2.477782</td>\n",
       "      <td>0.473840</td>\n",
       "    </tr>\n",
       "    <tr>\n",
       "      <th>std</th>\n",
       "      <td>11.913369</td>\n",
       "      <td>3.225132</td>\n",
       "      <td>0.625552</td>\n",
       "      <td>0.749478</td>\n",
       "      <td>0.121761</td>\n",
       "      <td>3225.413326</td>\n",
       "      <td>0.499299</td>\n",
       "      <td>0.337198</td>\n",
       "      <td>0.818724</td>\n",
       "      <td>8.420740</td>\n",
       "      <td>3.191939</td>\n",
       "      <td>347.128386</td>\n",
       "      <td>2.722077</td>\n",
       "      <td>108.758282</td>\n",
       "      <td>2.292007</td>\n",
       "      <td>1.002952</td>\n",
       "      <td>0.499338</td>\n",
       "    </tr>\n",
       "    <tr>\n",
       "      <th>min</th>\n",
       "      <td>18.000000</td>\n",
       "      <td>0.000000</td>\n",
       "      <td>0.000000</td>\n",
       "      <td>0.000000</td>\n",
       "      <td>0.000000</td>\n",
       "      <td>-6847.000000</td>\n",
       "      <td>0.000000</td>\n",
       "      <td>0.000000</td>\n",
       "      <td>0.000000</td>\n",
       "      <td>1.000000</td>\n",
       "      <td>0.000000</td>\n",
       "      <td>2.000000</td>\n",
       "      <td>1.000000</td>\n",
       "      <td>-1.000000</td>\n",
       "      <td>0.000000</td>\n",
       "      <td>0.000000</td>\n",
       "      <td>0.000000</td>\n",
       "    </tr>\n",
       "    <tr>\n",
       "      <th>25%</th>\n",
       "      <td>32.000000</td>\n",
       "      <td>1.000000</td>\n",
       "      <td>1.000000</td>\n",
       "      <td>1.000000</td>\n",
       "      <td>0.000000</td>\n",
       "      <td>122.000000</td>\n",
       "      <td>0.000000</td>\n",
       "      <td>0.000000</td>\n",
       "      <td>0.000000</td>\n",
       "      <td>8.000000</td>\n",
       "      <td>3.000000</td>\n",
       "      <td>138.000000</td>\n",
       "      <td>1.000000</td>\n",
       "      <td>-1.000000</td>\n",
       "      <td>0.000000</td>\n",
       "      <td>2.000000</td>\n",
       "      <td>0.000000</td>\n",
       "    </tr>\n",
       "    <tr>\n",
       "      <th>50%</th>\n",
       "      <td>39.000000</td>\n",
       "      <td>4.000000</td>\n",
       "      <td>1.000000</td>\n",
       "      <td>1.000000</td>\n",
       "      <td>0.000000</td>\n",
       "      <td>550.000000</td>\n",
       "      <td>0.000000</td>\n",
       "      <td>0.000000</td>\n",
       "      <td>0.000000</td>\n",
       "      <td>15.000000</td>\n",
       "      <td>6.000000</td>\n",
       "      <td>255.000000</td>\n",
       "      <td>2.000000</td>\n",
       "      <td>-1.000000</td>\n",
       "      <td>0.000000</td>\n",
       "      <td>3.000000</td>\n",
       "      <td>0.000000</td>\n",
       "    </tr>\n",
       "    <tr>\n",
       "      <th>75%</th>\n",
       "      <td>49.000000</td>\n",
       "      <td>7.000000</td>\n",
       "      <td>2.000000</td>\n",
       "      <td>2.000000</td>\n",
       "      <td>0.000000</td>\n",
       "      <td>1708.000000</td>\n",
       "      <td>1.000000</td>\n",
       "      <td>0.000000</td>\n",
       "      <td>1.000000</td>\n",
       "      <td>22.000000</td>\n",
       "      <td>8.000000</td>\n",
       "      <td>496.000000</td>\n",
       "      <td>3.000000</td>\n",
       "      <td>20.750000</td>\n",
       "      <td>1.000000</td>\n",
       "      <td>3.000000</td>\n",
       "      <td>1.000000</td>\n",
       "    </tr>\n",
       "    <tr>\n",
       "      <th>max</th>\n",
       "      <td>95.000000</td>\n",
       "      <td>11.000000</td>\n",
       "      <td>2.000000</td>\n",
       "      <td>3.000000</td>\n",
       "      <td>1.000000</td>\n",
       "      <td>81204.000000</td>\n",
       "      <td>1.000000</td>\n",
       "      <td>1.000000</td>\n",
       "      <td>2.000000</td>\n",
       "      <td>31.000000</td>\n",
       "      <td>11.000000</td>\n",
       "      <td>3881.000000</td>\n",
       "      <td>63.000000</td>\n",
       "      <td>854.000000</td>\n",
       "      <td>58.000000</td>\n",
       "      <td>3.000000</td>\n",
       "      <td>1.000000</td>\n",
       "    </tr>\n",
       "  </tbody>\n",
       "</table>\n",
       "</div>"
      ],
      "text/plain": [
       "                age           job       marital     education       default  \\\n",
       "count  11162.000000  11162.000000  11162.000000  11162.000000  11162.000000   \n",
       "mean      41.231948      4.487905      1.199337      1.285164      0.015051   \n",
       "std       11.913369      3.225132      0.625552      0.749478      0.121761   \n",
       "min       18.000000      0.000000      0.000000      0.000000      0.000000   \n",
       "25%       32.000000      1.000000      1.000000      1.000000      0.000000   \n",
       "50%       39.000000      4.000000      1.000000      1.000000      0.000000   \n",
       "75%       49.000000      7.000000      2.000000      2.000000      0.000000   \n",
       "max       95.000000     11.000000      2.000000      3.000000      1.000000   \n",
       "\n",
       "            balance       housing          loan       contact           day  \\\n",
       "count  11162.000000  11162.000000  11162.000000  11162.000000  11162.000000   \n",
       "mean    1528.538524      0.473123      0.130801      0.489697     15.658036   \n",
       "std     3225.413326      0.499299      0.337198      0.818724      8.420740   \n",
       "min    -6847.000000      0.000000      0.000000      0.000000      1.000000   \n",
       "25%      122.000000      0.000000      0.000000      0.000000      8.000000   \n",
       "50%      550.000000      0.000000      0.000000      0.000000     15.000000   \n",
       "75%     1708.000000      1.000000      0.000000      1.000000     22.000000   \n",
       "max    81204.000000      1.000000      1.000000      2.000000     31.000000   \n",
       "\n",
       "              month      duration      campaign         pdays      previous  \\\n",
       "count  11162.000000  11162.000000  11162.000000  11162.000000  11162.000000   \n",
       "mean       5.445709    371.993818      2.508421     51.330407      0.832557   \n",
       "std        3.191939    347.128386      2.722077    108.758282      2.292007   \n",
       "min        0.000000      2.000000      1.000000     -1.000000      0.000000   \n",
       "25%        3.000000    138.000000      1.000000     -1.000000      0.000000   \n",
       "50%        6.000000    255.000000      2.000000     -1.000000      0.000000   \n",
       "75%        8.000000    496.000000      3.000000     20.750000      1.000000   \n",
       "max       11.000000   3881.000000     63.000000    854.000000     58.000000   \n",
       "\n",
       "           poutcome       deposit  \n",
       "count  11162.000000  11162.000000  \n",
       "mean       2.477782      0.473840  \n",
       "std        1.002952      0.499338  \n",
       "min        0.000000      0.000000  \n",
       "25%        2.000000      0.000000  \n",
       "50%        3.000000      0.000000  \n",
       "75%        3.000000      1.000000  \n",
       "max        3.000000      1.000000  "
      ]
     },
     "execution_count": 13,
     "metadata": {},
     "output_type": "execute_result"
    }
   ],
   "source": [
    "df.describe()"
   ]
  },
  {
   "cell_type": "markdown",
   "id": "61426ee1",
   "metadata": {},
   "source": [
    "Number of values is same in all the columns.\n",
    "\n",
    "Not much difference between mean and median(50%) , except balance, pdays, and duration columns.\n",
    "\n",
    "In balance, pdays, and duration columns there is differnce between 75% and max.\n",
    "\n"
   ]
  },
  {
   "cell_type": "markdown",
   "id": "522ccd0e",
   "metadata": {},
   "source": [
    "# checking correlation"
   ]
  },
  {
   "cell_type": "code",
   "execution_count": 14,
   "id": "b974648d",
   "metadata": {},
   "outputs": [
    {
     "data": {
      "text/plain": [
       "<AxesSubplot:>"
      ]
     },
     "execution_count": 14,
     "metadata": {},
     "output_type": "execute_result"
    },
    {
     "data": {
      "image/png": "[encoded data removed]",
      "text/plain": [
       "<Figure size 1584x864 with 2 Axes>"
      ]
     },
     "metadata": {
      "needs_background": "light"
     },
     "output_type": "display_data"
    }
   ],
   "source": [
    "plt.figure(figsize=(22,12))\n",
    "sns.heatmap(df.corr(),annot=True,linewidths =0.1,fmt='0.2f')"
   ]
  },
  {
   "cell_type": "markdown",
   "id": "0fed46ce",
   "metadata": {},
   "source": [
    "Our target column deposit is showing some positive correlations with duration column.\n",
    "\n",
    "Contact and housing column is negatively correlated with the target column deposit.\n",
    "\n",
    "poutcome column is negatively correlated with pdays column."
   ]
  },
  {
   "cell_type": "markdown",
   "id": "113b028e",
   "metadata": {},
   "source": [
    "# separting the columns into x and y"
   ]
  },
  {
   "cell_type": "code",
   "execution_count": 15,
   "id": "36d327d6",
   "metadata": {},
   "outputs": [],
   "source": [
    "x=df.drop('deposit',axis=1)\n",
    "y=df['deposit']"
   ]
  },
  {
   "cell_type": "code",
   "execution_count": 16,
   "id": "6defb2a8",
   "metadata": {},
   "outputs": [
    {
     "data": {
      "text/plain": [
       "(11162, 16)"
      ]
     },
     "execution_count": 16,
     "metadata": {},
     "output_type": "execute_result"
    }
   ],
   "source": [
    "x.shape"
   ]
  },
  {
   "cell_type": "code",
   "execution_count": 17,
   "id": "fbeb1293",
   "metadata": {},
   "outputs": [
    {
     "data": {
      "text/plain": [
       "(11162,)"
      ]
     },
     "execution_count": 17,
     "metadata": {},
     "output_type": "execute_result"
    }
   ],
   "source": [
    "y.shape"
   ]
  },
  {
   "cell_type": "markdown",
   "id": "d94a3019",
   "metadata": {},
   "source": [
    "# Train Test Split"
   ]
  },
  {
   "cell_type": "code",
   "execution_count": 19,
   "id": "9de6e4ac",
   "metadata": {},
   "outputs": [
    {
     "name": "stdout",
     "output_type": "stream",
     "text": [
      "(8371, 16)\n",
      "(2791, 16)\n",
      "(8371,)\n",
      "(2791,)\n"
     ]
    }
   ],
   "source": [
    "from sklearn.model_selection import train_test_split\n",
    "x_train,x_test,y_train,y_test=train_test_split(x,y,test_size=.25,random_state=48)\n",
    "print(x_train.shape)\n",
    "print(x_test.shape)\n",
    "print(y_train.shape)\n",
    "print(y_test.shape)"
   ]
  },
  {
   "cell_type": "markdown",
   "id": "983f38bb",
   "metadata": {},
   "source": [
    "# Importing libraries"
   ]
  },
  {
   "cell_type": "code",
   "execution_count": 20,
   "id": "72928157",
   "metadata": {},
   "outputs": [],
   "source": [
    "from sklearn.linear_model import LogisticRegression\n",
    "from sklearn.ensemble import AdaBoostClassifier\n",
    "from sklearn.ensemble import RandomForestClassifier\n",
    "from sklearn.naive_bayes import GaussianNB\n",
    "from sklearn.svm import SVC\n",
    "from sklearn.tree import DecisionTreeClassifier\n",
    "from sklearn.model_selection import cross_val_score\n",
    "from sklearn.metrics import accuracy_score, confusion_matrix, classification_report\n",
    "from sklearn.metrics import roc_curve\n",
    "from sklearn.metrics import roc_auc_score"
   ]
  },
  {
   "cell_type": "markdown",
   "id": "e29d8765",
   "metadata": {},
   "source": [
    "# Model building"
   ]
  },
  {
   "cell_type": "code",
   "execution_count": 21,
   "id": "bcf257db",
   "metadata": {},
   "outputs": [
    {
     "name": "stdout",
     "output_type": "stream",
     "text": [
      "0.7581512002866356\n",
      "[[1193  283]\n",
      " [ 392  923]]\n",
      "              precision    recall  f1-score   support\n",
      "\n",
      "           0       0.75      0.81      0.78      1476\n",
      "           1       0.77      0.70      0.73      1315\n",
      "\n",
      "    accuracy                           0.76      2791\n",
      "   macro avg       0.76      0.76      0.76      2791\n",
      "weighted avg       0.76      0.76      0.76      2791\n",
      "\n"
     ]
    }
   ],
   "source": [
    "#LogisticRegression\n",
    "lr=LogisticRegression()\n",
    "lr.fit(x_train, y_train)\n",
    "predlr=lr.predict(x_test)\n",
    "print(accuracy_score(y_test,predlr))\n",
    "print(confusion_matrix(y_test,predlr))\n",
    "print(classification_report(y_test,predlr))\n",
    "    \n",
    "    "
   ]
  },
  {
   "cell_type": "code",
   "execution_count": 22,
   "id": "2df43b42",
   "metadata": {},
   "outputs": [
    {
     "name": "stdout",
     "output_type": "stream",
     "text": [
      "cross validation score 0.746098759725011\n"
     ]
    }
   ],
   "source": [
    "# Logistic Regression Cross Validation\n",
    "\n",
    "scr=cross_val_score(lr,x,y,cv=5)\n",
    "print('cross validation score',scr.mean())"
   ]
  },
  {
   "cell_type": "markdown",
   "id": "aa1e7e96",
   "metadata": {},
   "source": [
    "Accuracy score is 75.85 and  cv score is 74.60"
   ]
  },
  {
   "cell_type": "code",
   "execution_count": 25,
   "id": "c600ec7c",
   "metadata": {},
   "outputs": [],
   "source": [
    "# AUC ROC CURVE Logistic Regression\n",
    "lr.fit(x_train,y_train)\n",
    "y_pred_proba=lr.predict_proba(x_test)[:,1]\n",
    "\n",
    "fpr,tpr,thresholds=roc_curve(y_test,y_pred_proba)\n"
   ]
  },
  {
   "cell_type": "code",
   "execution_count": 27,
   "id": "a98f0905",
   "metadata": {},
   "outputs": [
    {
     "data": {
      "image/png": "[encoded data removed]",
      "text/plain": [
       "<Figure size 432x288 with 1 Axes>"
      ]
     },
     "metadata": {
      "needs_background": "light"
     },
     "output_type": "display_data"
    },
    {
     "name": "stdout",
     "output_type": "stream",
     "text": [
      "0.7550833616701187\n"
     ]
    }
   ],
   "source": [
    "plt.plot([0,1],[0,1],'k--')\n",
    "plt.plot(fpr,tpr,label='Logistic Regression')\n",
    "plt.xlabel('false positive rate')\n",
    "plt.ylabel('true positive rate')\n",
    "plt.title('LogisticRegression')\n",
    "plt.show()\n",
    "\n",
    "auc_score=roc_auc_score(y_test,lr.predict(x_test))\n",
    "print(auc_score)"
   ]
  },
  {
   "cell_type": "markdown",
   "id": "07be0770",
   "metadata": {},
   "source": [
    "Auc_score of Logistic Regression is 75.50%."
   ]
  },
  {
   "cell_type": "code",
   "execution_count": null,
   "id": "dbe77ce7",
   "metadata": {},
   "outputs": [],
   "source": []
  },
  {
   "cell_type": "code",
   "execution_count": null,
   "id": "5ea5b2d8",
   "metadata": {},
   "outputs": [],
   "source": []
  },
  {
   "cell_type": "code",
   "execution_count": 28,
   "id": "1464fb9e",
   "metadata": {},
   "outputs": [
    {
     "name": "stdout",
     "output_type": "stream",
     "text": [
      "0.8208527409530634\n",
      "[[1247  229]\n",
      " [ 271 1044]]\n",
      "              precision    recall  f1-score   support\n",
      "\n",
      "           0       0.82      0.84      0.83      1476\n",
      "           1       0.82      0.79      0.81      1315\n",
      "\n",
      "    accuracy                           0.82      2791\n",
      "   macro avg       0.82      0.82      0.82      2791\n",
      "weighted avg       0.82      0.82      0.82      2791\n",
      "\n"
     ]
    }
   ],
   "source": [
    "# adaboost classifier\n",
    "ad=AdaBoostClassifier()\n",
    "ad.fit(x_train,y_train)\n",
    "predad=ad.predict(x_test)\n",
    "print(accuracy_score(y_test,predad))\n",
    "print(confusion_matrix(y_test,predad))\n",
    "print(classification_report(y_test,predad))"
   ]
  },
  {
   "cell_type": "code",
   "execution_count": 29,
   "id": "96c208ab",
   "metadata": {},
   "outputs": [
    {
     "name": "stdout",
     "output_type": "stream",
     "text": [
      "cv score 0.7803341696000204\n"
     ]
    }
   ],
   "source": [
    "# cross validation adaboost classifier\n",
    "score=cross_val_score(ad,x,y,cv=5)\n",
    "print('cv score',np.mean(score))"
   ]
  },
  {
   "cell_type": "markdown",
   "id": "de6bc95d",
   "metadata": {},
   "source": [
    "accuracy score is 82.05 and cv score is 78.03."
   ]
  },
  {
   "cell_type": "code",
   "execution_count": 30,
   "id": "a796081e",
   "metadata": {},
   "outputs": [],
   "source": [
    "# AUC ROC curve adaboost classifier\n",
    "ad.fit(x_train,y_train)\n",
    "y_pred_proba=ad.predict_proba(x_test)[:,1]\n",
    "\n",
    "fpr,tpr,thresholds=roc_curve(y_test,y_pred_proba)\n"
   ]
  },
  {
   "cell_type": "code",
   "execution_count": null,
   "id": "0be2b17a",
   "metadata": {},
   "outputs": [],
   "source": [
    "plt.plot([0,1],[0,1],'k--')\n",
    "plt.plot(fpr,tpr,label='Logistic Regression')\n",
    "plt.xlabel('false positive rate')\n",
    "plt.ylabel('true positive rate')\n",
    "plt.title('LogisticRegression')\n",
    "plt.show()\n",
    "\n",
    "auc_score=roc_auc_score(y_test,lr.predict(x_test))\n",
    "print(auc_score)"
   ]
  },
  {
   "cell_type": "code",
   "execution_count": 32,
   "id": "da78f891",
   "metadata": {},
   "outputs": [
    {
     "name": "stdout",
     "output_type": "stream",
     "text": [
      "0.8193836491596854\n"
     ]
    },
    {
     "data": {
      "image/png": "[encoded data removed]",
      "text/plain": [
       "<Figure size 432x288 with 1 Axes>"
      ]
     },
     "metadata": {
      "needs_background": "light"
     },
     "output_type": "display_data"
    }
   ],
   "source": [
    "plt.plot([0,1],[0,1],'k--')\n",
    "plt.plot(fpr,tpr,label='AdaBoost Classifier')\n",
    "plt.xlabel('false positive rate')\n",
    "plt.ylabel('true positive rate')\n",
    "plt.title('AdaBoost Classifier')\n",
    "\n",
    "auc_score=roc_auc_score(y_test,ad.predict(x_test))\n",
    "print(auc_score)"
   ]
  },
  {
   "cell_type": "markdown",
   "id": "b58f8646",
   "metadata": {},
   "source": [
    "Auc_score of adaboost classifier is 81.93"
   ]
  },
  {
   "cell_type": "code",
   "execution_count": null,
   "id": "88691297",
   "metadata": {},
   "outputs": [],
   "source": []
  },
  {
   "cell_type": "code",
   "execution_count": null,
   "id": "704702ca",
   "metadata": {},
   "outputs": [],
   "source": []
  },
  {
   "cell_type": "code",
   "execution_count": 35,
   "id": "83c2ed7b",
   "metadata": {},
   "outputs": [
    {
     "name": "stdout",
     "output_type": "stream",
     "text": [
      "0.8427087065567896\n",
      "[[1215  261]\n",
      " [ 178 1137]]\n",
      "              precision    recall  f1-score   support\n",
      "\n",
      "           0       0.87      0.82      0.85      1476\n",
      "           1       0.81      0.86      0.84      1315\n",
      "\n",
      "    accuracy                           0.84      2791\n",
      "   macro avg       0.84      0.84      0.84      2791\n",
      "weighted avg       0.84      0.84      0.84      2791\n",
      "\n"
     ]
    }
   ],
   "source": [
    "# Random forest classifer\n",
    "rf=RandomForestClassifier()\n",
    "rf.fit(x_train,y_train)\n",
    "predrf=rf.predict(x_test)\n",
    "print(accuracy_score(y_test,predrf))\n",
    "print(confusion_matrix(y_test,predrf))\n",
    "print(classification_report(y_test,predrf))"
   ]
  },
  {
   "cell_type": "code",
   "execution_count": 37,
   "id": "ed1b7548",
   "metadata": {},
   "outputs": [
    {
     "name": "stdout",
     "output_type": "stream",
     "text": [
      "cv score 0.8081964167336804\n"
     ]
    }
   ],
   "source": [
    "# Cross validation random forest classifier\n",
    "score=cross_val_score(rf,x,y,cv=5)\n",
    "print('cv score',np.mean(score))"
   ]
  },
  {
   "cell_type": "markdown",
   "id": "72c38875",
   "metadata": {},
   "source": [
    "Accuracy score is 84.27% and cv score is 80.81%"
   ]
  },
  {
   "cell_type": "code",
   "execution_count": 39,
   "id": "23707ad3",
   "metadata": {},
   "outputs": [],
   "source": [
    "# AUC ROC Curve of Random Forest classifier\n",
    "rf.fit(x_train,y_train)\n",
    "y_pred_proba=rf.predict_proba(x_test)[:,1]\n",
    "\n",
    "fpr,tpr,thresholds=roc_curve(y_test,y_pred_proba)"
   ]
  },
  {
   "cell_type": "code",
   "execution_count": 40,
   "id": "4ee1fdfc",
   "metadata": {},
   "outputs": [
    {
     "name": "stdout",
     "output_type": "stream",
     "text": [
      "0.8451768215400787\n"
     ]
    },
    {
     "data": {
      "image/png": "[encoded data removed]",
      "text/plain": [
       "<Figure size 432x288 with 1 Axes>"
      ]
     },
     "metadata": {
      "needs_background": "light"
     },
     "output_type": "display_data"
    }
   ],
   "source": [
    "plt.plot([0,1],[0,1],'k--')\n",
    "plt.plot(fpr,tpr,label='RandomForset Classifier')\n",
    "plt.xlabel('false positive rate')\n",
    "plt.ylabel('true positive rate')\n",
    "plt.title('RandomForest Classifier')\n",
    "\n",
    "auc_score=roc_auc_score(y_test,rf.predict(x_test))\n",
    "print(auc_score)"
   ]
  },
  {
   "cell_type": "markdown",
   "id": "3fbd0aba",
   "metadata": {},
   "source": [
    "Auc_score is 84.51%"
   ]
  },
  {
   "cell_type": "raw",
   "id": "c946d6a2",
   "metadata": {},
   "source": [
    "So from above prediction our model is predicting well giving accuarcy score between 75% to 85%. I am taking Ranom Forest classifer for hyper parameter tuning."
   ]
  },
  {
   "cell_type": "code",
   "execution_count": null,
   "id": "25a5dc61",
   "metadata": {},
   "outputs": [],
   "source": []
  },
  {
   "cell_type": "markdown",
   "id": "7bbc49ed",
   "metadata": {},
   "source": [
    "# Hyper Parameter Tuning"
   ]
  },
  {
   "cell_type": "code",
   "execution_count": 64,
   "id": "96135c65",
   "metadata": {},
   "outputs": [
    {
     "name": "stdout",
     "output_type": "stream",
     "text": [
      "{'criterion': 'gini'}\n",
      "0.7761238637768115\n"
     ]
    }
   ],
   "source": [
    "from sklearn import datasets\n",
    "from sklearn.model_selection import GridSearchCV\n",
    "\n",
    "rf=RandomForestClassifier(max_depth=6,random_state=0)\n",
    "\n",
    "grid_param={'criterion':['gini','entropy']}\n",
    "\n",
    "gd_sr=GridSearchCV(estimator=rf,\n",
    "                  param_grid=grid_param,\n",
    "                  scoring='accuracy',\n",
    "                  cv=5)\n",
    "\n",
    "\n",
    "gd_sr.fit(x,y)\n",
    "\n",
    "best_parameters=gd_sr.best_params_\n",
    "print(best_parameters)\n",
    "best_result=gd_sr.best_score_\n",
    "print(best_result)\n",
    "                  \n",
    "                   \n",
    "                   "
   ]
  },
  {
   "cell_type": "markdown",
   "id": "f2489602",
   "metadata": {},
   "source": [
    "# FINAL MODEL"
   ]
  },
  {
   "cell_type": "code",
   "execution_count": 67,
   "id": "0b07a169",
   "metadata": {},
   "outputs": [
    {
     "name": "stdout",
     "output_type": "stream",
     "text": [
      "84.4858473665353\n"
     ]
    }
   ],
   "source": [
    "final_model=RandomForestClassifier(criterion='gini')\n",
    "final_model.fit(x_train,y_train)\n",
    "pred=final_model.predict(x_test)\n",
    "acc=accuracy_score(y_test,pred)\n",
    "print(acc*100)"
   ]
  },
  {
   "cell_type": "markdown",
   "id": "49ff69ea",
   "metadata": {},
   "source": [
    "After Hyper Parameter Tuning the accuracy score is predicting 84.48%. So we can say our model performance is good."
   ]
  },
  {
   "cell_type": "markdown",
   "id": "563f7981",
   "metadata": {},
   "source": [
    "# saving the model"
   ]
  },
  {
   "cell_type": "code",
   "execution_count": 68,
   "id": "2e1932e2",
   "metadata": {},
   "outputs": [],
   "source": [
    "import pickle\n",
    "filename='banking.pkl'\n",
    "pickle.dump(rf,open(filename,'wb'))"
   ]
  },
  {
   "cell_type": "markdown",
   "id": "6f2eb35a",
   "metadata": {},
   "source": [
    "# CONCLUSION"
   ]
  },
  {
   "cell_type": "code",
   "execution_count": 71,
   "id": "d776bbf9",
   "metadata": {},
   "outputs": [
    {
     "name": "stdout",
     "output_type": "stream",
     "text": [
      "0.8423504120386958\n"
     ]
    }
   ],
   "source": [
    "loaded_model=pickle.load(open('churns.pkl','rb'))\n",
    "loaded_model.fit(x_train,y_train)\n",
    "result=loaded_model.score(x_test, y_test)\n",
    "print(result)"
   ]
  },
  {
   "cell_type": "markdown",
   "id": "dbf628b1",
   "metadata": {},
   "source": [
    "With the help of MODEL , I learnt how to done EDA.\n",
    "\n",
    "I also learnt ,making use of packages like matplotlib and seaborn to develop better insights of the data.\n",
    "\n",
    "I have also learnt how to remove outliers and skewness to predict better accuracy.\n",
    "\n",
    "I have also seen the impacts on the columns on target columns..\n",
    "\n",
    "I came to know through the analysis ,which model will predict better accuracy.\n",
    "\n",
    "This project helped me to gain deep knowledge , and also get to know where to use models.\n",
    "\n",
    "​"
   ]
  },
  {
   "cell_type": "code",
   "execution_count": null,
   "id": "506e6a38",
   "metadata": {},
   "outputs": [],
   "source": []
  }
 ],
 "metadata": {
  "kernelspec": {
   "display_name": "Python 3",
   "language": "python",
   "name": "python3"
  },
  "language_info": {
   "codemirror_mode": {
    "name": "ipython",
    "version": 3
   },
   "file_extension": ".py",
   "mimetype": "text/x-python",
   "name": "python",
   "nbconvert_exporter": "python",
   "pygments_lexer": "ipython3",
   "version": "3.8.10"
  }
 },
 "nbformat": 4,
 "nbformat_minor": 5
}
