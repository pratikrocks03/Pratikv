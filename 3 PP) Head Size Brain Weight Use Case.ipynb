{
 "cells": [
  {
   "cell_type": "markdown",
   "id": "2a3a37c6",
   "metadata": {},
   "source": [
    "# HeadSize- BrainWeight Use Case\n",
    "Problem Statement:\n",
    "     Headsize-Brainweight  Use Case\n",
    "\n",
    "The size of the brain is a frequent topic of study within the fields of anatomy, biological anthropology, animal science and evolution. Brain size is sometimes measured by weight and sometimes by volume (via MRI scans or by skull volume). \n",
    "\n",
    "Regarding \"intelligence testing\", a question that has been frequently investigated is the relation of brain size to intelligence. There are many ways to assess a person's intelligence. But Ed Klaber of Chelmsford, England, came up with one of his own. He wants to know if people with bigger heads have bigger brains. It is said that measuring the size of the head does give some indication of how big the brain is. \n",
    "\n",
    "Even though head size also depends on factors such as the muscularity of the head and thickness of the bone, it's very likely that a bigger head means a bigger brain. Thus, it seems that head size and the brain weight are very much related to each other in scientific terms. In this demonstration, we will try to prove this using machine learning. \n",
    "\n",
    "Generally, the Head size of humans gives impressions of the weight of brain. Thus, here we will try to predict the \"Brain Weight\" of the person using the \"Head Size\".\n",
    "\n",
    "Below, you can find the dataset for this use case. The Head Brain file consist of four attributes (Gender, Age, Headsize, Brainweight) .\n",
    "\n",
    "You have to train the machine for learning the size of head and the corresponding brain weight. Then, after learning/training, it should be able to predict the brain weight given on certain head size. \n",
    "\n",
    "Make sure to follow the steps mentioned below: \n",
    "\n",
    "Complete the Exploratory Data Analysis(EDA).\n",
    "Understand the type of the problem and apply the appropriate model for its training and testing phase."
   ]
  },
  {
   "cell_type": "markdown",
   "id": "51a9fc75",
   "metadata": {},
   "source": [
    "# Importing Libraries"
   ]
  },
  {
   "cell_type": "code",
   "execution_count": 1,
   "id": "611cf2f9",
   "metadata": {},
   "outputs": [],
   "source": [
    "import pandas as pd\n",
    "import numpy as np\n",
    "import seaborn as sns\n",
    "import matplotlib.pyplot as plt\n",
    "import warnings\n",
    "warnings.filterwarnings('ignore')"
   ]
  },
  {
   "cell_type": "markdown",
   "id": "a1d42ee6",
   "metadata": {},
   "source": [
    "# Loading the dataset"
   ]
  },
  {
   "cell_type": "code",
   "execution_count": 2,
   "id": "b82143c8",
   "metadata": {},
   "outputs": [
    {
     "data": {
      "text/html": [
       "<div>\n",
       "<style scoped>\n",
       "    .dataframe tbody tr th:only-of-type {\n",
       "        vertical-align: middle;\n",
       "    }\n",
       "\n",
       "    .dataframe tbody tr th {\n",
       "        vertical-align: top;\n",
       "    }\n",
       "\n",
       "    .dataframe thead th {\n",
       "        text-align: right;\n",
       "    }\n",
       "</style>\n",
       "<table border=\"1\" class=\"dataframe\">\n",
       "  <thead>\n",
       "    <tr style=\"text-align: right;\">\n",
       "      <th></th>\n",
       "      <th>Gender</th>\n",
       "      <th>AgeRange</th>\n",
       "      <th>HeadSize</th>\n",
       "      <th>BrainWeight</th>\n",
       "    </tr>\n",
       "  </thead>\n",
       "  <tbody>\n",
       "    <tr>\n",
       "      <th>0</th>\n",
       "      <td>1</td>\n",
       "      <td>1</td>\n",
       "      <td>4512</td>\n",
       "      <td>1530</td>\n",
       "    </tr>\n",
       "    <tr>\n",
       "      <th>1</th>\n",
       "      <td>1</td>\n",
       "      <td>1</td>\n",
       "      <td>3738</td>\n",
       "      <td>1297</td>\n",
       "    </tr>\n",
       "    <tr>\n",
       "      <th>2</th>\n",
       "      <td>1</td>\n",
       "      <td>1</td>\n",
       "      <td>4261</td>\n",
       "      <td>1335</td>\n",
       "    </tr>\n",
       "    <tr>\n",
       "      <th>3</th>\n",
       "      <td>1</td>\n",
       "      <td>1</td>\n",
       "      <td>3777</td>\n",
       "      <td>1282</td>\n",
       "    </tr>\n",
       "    <tr>\n",
       "      <th>4</th>\n",
       "      <td>1</td>\n",
       "      <td>1</td>\n",
       "      <td>4177</td>\n",
       "      <td>1590</td>\n",
       "    </tr>\n",
       "  </tbody>\n",
       "</table>\n",
       "</div>"
      ],
      "text/plain": [
       "   Gender  AgeRange  HeadSize  BrainWeight\n",
       "0       1         1      4512         1530\n",
       "1       1         1      3738         1297\n",
       "2       1         1      4261         1335\n",
       "3       1         1      3777         1282\n",
       "4       1         1      4177         1590"
      ]
     },
     "execution_count": 2,
     "metadata": {},
     "output_type": "execute_result"
    }
   ],
   "source": [
    "df=pd.read_csv('brain_weight.csv')\n",
    "df.head()"
   ]
  },
  {
   "cell_type": "markdown",
   "id": "347d6e2b",
   "metadata": {},
   "source": [
    "Top 5 heads of the dataset."
   ]
  },
  {
   "cell_type": "code",
   "execution_count": 3,
   "id": "c59c0f3c",
   "metadata": {},
   "outputs": [
    {
     "data": {
      "text/html": [
       "<div>\n",
       "<style scoped>\n",
       "    .dataframe tbody tr th:only-of-type {\n",
       "        vertical-align: middle;\n",
       "    }\n",
       "\n",
       "    .dataframe tbody tr th {\n",
       "        vertical-align: top;\n",
       "    }\n",
       "\n",
       "    .dataframe thead th {\n",
       "        text-align: right;\n",
       "    }\n",
       "</style>\n",
       "<table border=\"1\" class=\"dataframe\">\n",
       "  <thead>\n",
       "    <tr style=\"text-align: right;\">\n",
       "      <th></th>\n",
       "      <th>Gender</th>\n",
       "      <th>AgeRange</th>\n",
       "      <th>HeadSize</th>\n",
       "      <th>BrainWeight</th>\n",
       "    </tr>\n",
       "  </thead>\n",
       "  <tbody>\n",
       "    <tr>\n",
       "      <th>232</th>\n",
       "      <td>2</td>\n",
       "      <td>2</td>\n",
       "      <td>3214</td>\n",
       "      <td>1110</td>\n",
       "    </tr>\n",
       "    <tr>\n",
       "      <th>233</th>\n",
       "      <td>2</td>\n",
       "      <td>2</td>\n",
       "      <td>3394</td>\n",
       "      <td>1215</td>\n",
       "    </tr>\n",
       "    <tr>\n",
       "      <th>234</th>\n",
       "      <td>2</td>\n",
       "      <td>2</td>\n",
       "      <td>3233</td>\n",
       "      <td>1104</td>\n",
       "    </tr>\n",
       "    <tr>\n",
       "      <th>235</th>\n",
       "      <td>2</td>\n",
       "      <td>2</td>\n",
       "      <td>3352</td>\n",
       "      <td>1170</td>\n",
       "    </tr>\n",
       "    <tr>\n",
       "      <th>236</th>\n",
       "      <td>2</td>\n",
       "      <td>2</td>\n",
       "      <td>3391</td>\n",
       "      <td>1120</td>\n",
       "    </tr>\n",
       "  </tbody>\n",
       "</table>\n",
       "</div>"
      ],
      "text/plain": [
       "     Gender  AgeRange  HeadSize  BrainWeight\n",
       "232       2         2      3214         1110\n",
       "233       2         2      3394         1215\n",
       "234       2         2      3233         1104\n",
       "235       2         2      3352         1170\n",
       "236       2         2      3391         1120"
      ]
     },
     "execution_count": 3,
     "metadata": {},
     "output_type": "execute_result"
    }
   ],
   "source": [
    "df.tail()"
   ]
  },
  {
   "cell_type": "markdown",
   "id": "11047065",
   "metadata": {},
   "source": [
    "Bottom 5 of the dataset."
   ]
  },
  {
   "cell_type": "markdown",
   "id": "f7873ff2",
   "metadata": {},
   "source": [
    "# EDA"
   ]
  },
  {
   "cell_type": "code",
   "execution_count": 4,
   "id": "71275e28",
   "metadata": {},
   "outputs": [
    {
     "name": "stdout",
     "output_type": "stream",
     "text": [
      "<class 'pandas.core.frame.DataFrame'>\n",
      "RangeIndex: 237 entries, 0 to 236\n",
      "Data columns (total 4 columns):\n",
      " #   Column       Non-Null Count  Dtype\n",
      "---  ------       --------------  -----\n",
      " 0   Gender       237 non-null    int64\n",
      " 1   AgeRange     237 non-null    int64\n",
      " 2   HeadSize     237 non-null    int64\n",
      " 3   BrainWeight  237 non-null    int64\n",
      "dtypes: int64(4)\n",
      "memory usage: 7.5 KB\n"
     ]
    }
   ],
   "source": [
    "# checking data type\n",
    "df.info()"
   ]
  },
  {
   "cell_type": "markdown",
   "id": "5ee9e84e",
   "metadata": {},
   "source": [
    "All the columns is of integer data type."
   ]
  },
  {
   "cell_type": "code",
   "execution_count": 5,
   "id": "a130c648",
   "metadata": {},
   "outputs": [
    {
     "data": {
      "text/plain": [
       "(237, 4)"
      ]
     },
     "execution_count": 5,
     "metadata": {},
     "output_type": "execute_result"
    }
   ],
   "source": [
    "# checking shape\n",
    "df.shape"
   ]
  },
  {
   "cell_type": "markdown",
   "id": "e7ba99e1",
   "metadata": {},
   "source": [
    "We have 237 rows and 4 columns in the dataset."
   ]
  },
  {
   "cell_type": "code",
   "execution_count": 6,
   "id": "d512f263",
   "metadata": {},
   "outputs": [
    {
     "data": {
      "text/plain": [
       "Gender         0\n",
       "AgeRange       0\n",
       "HeadSize       0\n",
       "BrainWeight    0\n",
       "dtype: int64"
      ]
     },
     "execution_count": 6,
     "metadata": {},
     "output_type": "execute_result"
    }
   ],
   "source": [
    "# checking null values\n",
    "df.isnull().sum()"
   ]
  },
  {
   "cell_type": "markdown",
   "id": "e7ce8151",
   "metadata": {},
   "source": [
    "No null values are present in the dataset."
   ]
  },
  {
   "cell_type": "markdown",
   "id": "62337b10",
   "metadata": {},
   "source": [
    "# Visualization of nominal data"
   ]
  },
  {
   "cell_type": "code",
   "execution_count": 7,
   "id": "fd14db96",
   "metadata": {},
   "outputs": [
    {
     "name": "stdout",
     "output_type": "stream",
     "text": [
      "1    134\n",
      "2    103\n",
      "Name: Gender, dtype: int64\n"
     ]
    },
    {
     "data": {
      "image/png": "[encoded data removed]",
      "text/plain": [
       "<Figure size 432x288 with 1 Axes>"
      ]
     },
     "metadata": {
      "needs_background": "light"
     },
     "output_type": "display_data"
    }
   ],
   "source": [
    "ax=sns.countplot(x='Gender',data=df)\n",
    "print(df['Gender'].value_counts())"
   ]
  },
  {
   "cell_type": "markdown",
   "id": "a1ffa26c",
   "metadata": {},
   "source": [
    "Here 1 is representing the male and 2 is for female . the total number of 1 is 134 and the total number of 2 is 103, there is not much nticable differnce between 1 and 2."
   ]
  },
  {
   "cell_type": "code",
   "execution_count": null,
   "id": "d3836916",
   "metadata": {},
   "outputs": [],
   "source": []
  },
  {
   "cell_type": "code",
   "execution_count": 8,
   "id": "b0a9e007",
   "metadata": {},
   "outputs": [
    {
     "name": "stdout",
     "output_type": "stream",
     "text": [
      "2    127\n",
      "1    110\n",
      "Name: AgeRange, dtype: int64\n"
     ]
    },
    {
     "data": {
      "image/png": "[encoded data removed]",
      "text/plain": [
       "<Figure size 432x288 with 1 Axes>"
      ]
     },
     "metadata": {
      "needs_background": "light"
     },
     "output_type": "display_data"
    }
   ],
   "source": [
    "ax=sns.countplot('AgeRange',data=df)\n",
    "print(df['AgeRange'].value_counts())"
   ]
  },
  {
   "cell_type": "markdown",
   "id": "320e397c",
   "metadata": {},
   "source": [
    "Nor much difference between 1 and 2 in AgeRange column"
   ]
  },
  {
   "cell_type": "markdown",
   "id": "a1778d3f",
   "metadata": {},
   "source": [
    "# Visualization of numeric data"
   ]
  },
  {
   "cell_type": "code",
   "execution_count": 9,
   "id": "f1090fe2",
   "metadata": {},
   "outputs": [
    {
     "data": {
      "text/plain": [
       "<AxesSubplot:xlabel='HeadSize', ylabel='Density'>"
      ]
     },
     "execution_count": 9,
     "metadata": {},
     "output_type": "execute_result"
    },
    {
     "data": {
      "image/png": "[encoded data removed]",
      "text/plain": [
       "<Figure size 432x288 with 1 Axes>"
      ]
     },
     "metadata": {
      "needs_background": "light"
     },
     "output_type": "display_data"
    }
   ],
   "source": [
    "sns.distplot(df['HeadSize'],kde=True)"
   ]
  },
  {
   "cell_type": "markdown",
   "id": "b575ff63",
   "metadata": {},
   "source": [
    "Dist plot is showing nice bell shaped curve of HeadSize column and its ranges in between 2500 to 5000."
   ]
  },
  {
   "cell_type": "code",
   "execution_count": null,
   "id": "20d06736",
   "metadata": {},
   "outputs": [],
   "source": []
  },
  {
   "cell_type": "code",
   "execution_count": 10,
   "id": "e7997865",
   "metadata": {},
   "outputs": [
    {
     "data": {
      "text/plain": [
       "<AxesSubplot:xlabel='BrainWeight', ylabel='Density'>"
      ]
     },
     "execution_count": 10,
     "metadata": {},
     "output_type": "execute_result"
    },
    {
     "data": {
      "image/png": "[encoded data removed]",
      "text/plain": [
       "<Figure size 432x288 with 1 Axes>"
      ]
     },
     "metadata": {
      "needs_background": "light"
     },
     "output_type": "display_data"
    }
   ],
   "source": [
    "sns.distplot(df['BrainWeight'],kde=True)"
   ]
  },
  {
   "cell_type": "markdown",
   "id": "a74078bf",
   "metadata": {},
   "source": [
    "BrainWeight column is our target column and it is lokking normally distributed ranges between 800 to 1800."
   ]
  },
  {
   "cell_type": "markdown",
   "id": "80ede7a4",
   "metadata": {},
   "source": [
    "# Bivariate analysis"
   ]
  },
  {
   "cell_type": "code",
   "execution_count": null,
   "id": "d4f97746",
   "metadata": {},
   "outputs": [],
   "source": [
    "plt.figure(figsize=[10,6])\n",
    "plt.title(' comparison between Date  and AveragePrice')\n",
    "sns.scatterplot(df['Date'], df['AveragePrice'],hue=df['AveragePrice'])"
   ]
  },
  {
   "cell_type": "code",
   "execution_count": 17,
   "id": "f1bf4e16",
   "metadata": {},
   "outputs": [
    {
     "data": {
      "text/plain": [
       "<AxesSubplot:title={'center':'Comaprison between Head size and Age Range'}, xlabel='HeadSize', ylabel='BrainWeight'>"
      ]
     },
     "execution_count": 17,
     "metadata": {},
     "output_type": "execute_result"
    },
    {
     "data": {
      "image/png": "[encoded data removed]",
      "text/plain": [
       "<Figure size 720x432 with 1 Axes>"
      ]
     },
     "metadata": {
      "needs_background": "light"
     },
     "output_type": "display_data"
    }
   ],
   "source": [
    "plt.figure(figsize=[10,6])\n",
    "plt.title('Comaprison between Head size and Brain weight')\n",
    "sns.scatterplot(df['HeadSize'],df['BrainWeight'],hue=df['BrainWeight'])"
   ]
  },
  {
   "cell_type": "markdown",
   "id": "19674e89",
   "metadata": {},
   "source": [
    "positive comparison between HeadSize and BrainWeight."
   ]
  },
  {
   "cell_type": "markdown",
   "id": "d306fa3a",
   "metadata": {},
   "source": [
    "# Statistical Summary"
   ]
  },
  {
   "cell_type": "code",
   "execution_count": 18,
   "id": "f6ad0d1d",
   "metadata": {},
   "outputs": [
    {
     "data": {
      "text/html": [
       "<div>\n",
       "<style scoped>\n",
       "    .dataframe tbody tr th:only-of-type {\n",
       "        vertical-align: middle;\n",
       "    }\n",
       "\n",
       "    .dataframe tbody tr th {\n",
       "        vertical-align: top;\n",
       "    }\n",
       "\n",
       "    .dataframe thead th {\n",
       "        text-align: right;\n",
       "    }\n",
       "</style>\n",
       "<table border=\"1\" class=\"dataframe\">\n",
       "  <thead>\n",
       "    <tr style=\"text-align: right;\">\n",
       "      <th></th>\n",
       "      <th>Gender</th>\n",
       "      <th>AgeRange</th>\n",
       "      <th>HeadSize</th>\n",
       "      <th>BrainWeight</th>\n",
       "    </tr>\n",
       "  </thead>\n",
       "  <tbody>\n",
       "    <tr>\n",
       "      <th>count</th>\n",
       "      <td>237.000000</td>\n",
       "      <td>237.000000</td>\n",
       "      <td>237.000000</td>\n",
       "      <td>237.000000</td>\n",
       "    </tr>\n",
       "    <tr>\n",
       "      <th>mean</th>\n",
       "      <td>1.434599</td>\n",
       "      <td>1.535865</td>\n",
       "      <td>3633.991561</td>\n",
       "      <td>1282.873418</td>\n",
       "    </tr>\n",
       "    <tr>\n",
       "      <th>std</th>\n",
       "      <td>0.496753</td>\n",
       "      <td>0.499768</td>\n",
       "      <td>365.261422</td>\n",
       "      <td>120.340446</td>\n",
       "    </tr>\n",
       "    <tr>\n",
       "      <th>min</th>\n",
       "      <td>1.000000</td>\n",
       "      <td>1.000000</td>\n",
       "      <td>2720.000000</td>\n",
       "      <td>955.000000</td>\n",
       "    </tr>\n",
       "    <tr>\n",
       "      <th>25%</th>\n",
       "      <td>1.000000</td>\n",
       "      <td>1.000000</td>\n",
       "      <td>3389.000000</td>\n",
       "      <td>1207.000000</td>\n",
       "    </tr>\n",
       "    <tr>\n",
       "      <th>50%</th>\n",
       "      <td>1.000000</td>\n",
       "      <td>2.000000</td>\n",
       "      <td>3614.000000</td>\n",
       "      <td>1280.000000</td>\n",
       "    </tr>\n",
       "    <tr>\n",
       "      <th>75%</th>\n",
       "      <td>2.000000</td>\n",
       "      <td>2.000000</td>\n",
       "      <td>3876.000000</td>\n",
       "      <td>1350.000000</td>\n",
       "    </tr>\n",
       "    <tr>\n",
       "      <th>max</th>\n",
       "      <td>2.000000</td>\n",
       "      <td>2.000000</td>\n",
       "      <td>4747.000000</td>\n",
       "      <td>1635.000000</td>\n",
       "    </tr>\n",
       "  </tbody>\n",
       "</table>\n",
       "</div>"
      ],
      "text/plain": [
       "           Gender    AgeRange     HeadSize  BrainWeight\n",
       "count  237.000000  237.000000   237.000000   237.000000\n",
       "mean     1.434599    1.535865  3633.991561  1282.873418\n",
       "std      0.496753    0.499768   365.261422   120.340446\n",
       "min      1.000000    1.000000  2720.000000   955.000000\n",
       "25%      1.000000    1.000000  3389.000000  1207.000000\n",
       "50%      1.000000    2.000000  3614.000000  1280.000000\n",
       "75%      2.000000    2.000000  3876.000000  1350.000000\n",
       "max      2.000000    2.000000  4747.000000  1635.000000"
      ]
     },
     "execution_count": 18,
     "metadata": {},
     "output_type": "execute_result"
    }
   ],
   "source": [
    "df.describe()"
   ]
  },
  {
   "cell_type": "markdown",
   "id": "b50a1dda",
   "metadata": {},
   "source": [
    "Number of values is same in all the columns.\n",
    "\n",
    "Independent Data is not deviated.\n",
    "\n",
    "Not Much difference between mean and median(50%) in any of the columns.\n",
    "\n",
    "There is also not much difference btween 75% and max in any of the columns."
   ]
  },
  {
   "cell_type": "markdown",
   "id": "c96d8051",
   "metadata": {},
   "source": [
    "# Checking correlations"
   ]
  },
  {
   "cell_type": "code",
   "execution_count": 19,
   "id": "c2cd942e",
   "metadata": {},
   "outputs": [
    {
     "data": {
      "text/plain": [
       "<AxesSubplot:>"
      ]
     },
     "execution_count": 19,
     "metadata": {},
     "output_type": "execute_result"
    },
    {
     "data": {
      "image/png": "[encoded data removed]",
      "text/plain": [
       "<Figure size 1080x360 with 2 Axes>"
      ]
     },
     "metadata": {
      "needs_background": "light"
     },
     "output_type": "display_data"
    }
   ],
   "source": [
    "plt.figure(figsize=(15,5))\n",
    "sns.heatmap(df.corr(),annot=True)"
   ]
  },
  {
   "cell_type": "markdown",
   "id": "9082dee2",
   "metadata": {},
   "source": [
    "Gender and AgeRange column negatively correlated with target column BrainWeight.\n",
    "\n",
    "HeadSize column is positively correlated with target column BrainWeight.\n",
    "\n",
    "HeadSize is negatively correlated with Gender and AgeRange.\n",
    "\n",
    "\n",
    "\n"
   ]
  },
  {
   "cell_type": "markdown",
   "id": "3c657faa",
   "metadata": {},
   "source": [
    "# Checking outliers"
   ]
  },
  {
   "cell_type": "code",
   "execution_count": 23,
   "id": "373ecd71",
   "metadata": {},
   "outputs": [
    {
     "data": {
      "text/plain": [
       "Gender             AxesSubplot(0.125,0.71587;0.352273x0.16413)\n",
       "AgeRange        AxesSubplot(0.547727,0.71587;0.352273x0.16413)\n",
       "HeadSize          AxesSubplot(0.125,0.518913;0.352273x0.16413)\n",
       "BrainWeight    AxesSubplot(0.547727,0.518913;0.352273x0.16413)\n",
       "dtype: object"
      ]
     },
     "execution_count": 23,
     "metadata": {},
     "output_type": "execute_result"
    },
    {
     "data": {
      "image/png": "[encoded data removed]",
      "text/plain": [
       "<Figure size 1080x720 with 8 Axes>"
      ]
     },
     "metadata": {
      "needs_background": "light"
     },
     "output_type": "display_data"
    }
   ],
   "source": [
    "df.plot(kind='box',subplots=True, layout=(4,2), figsize=(15,10))"
   ]
  },
  {
   "cell_type": "markdown",
   "id": "38d06ce0",
   "metadata": {},
   "source": [
    "There is very little outlier in HeadSize column but we will not remove it because we have very less dataset and outliers are present in the target column so wil not be removed in target column."
   ]
  },
  {
   "cell_type": "markdown",
   "id": "3461fb01",
   "metadata": {},
   "source": [
    "# Checking Skewness"
   ]
  },
  {
   "cell_type": "code",
   "execution_count": 24,
   "id": "0f1d26e6",
   "metadata": {},
   "outputs": [
    {
     "data": {
      "text/plain": [
       "Gender         0.265554\n",
       "AgeRange      -0.144748\n",
       "HeadSize       0.238807\n",
       "BrainWeight    0.265478\n",
       "dtype: float64"
      ]
     },
     "execution_count": 24,
     "metadata": {},
     "output_type": "execute_result"
    }
   ],
   "source": [
    "df.skew()"
   ]
  },
  {
   "cell_type": "markdown",
   "id": "833aa3db",
   "metadata": {},
   "source": [
    "Dataset is not skewed."
   ]
  },
  {
   "cell_type": "markdown",
   "id": "6ce14500",
   "metadata": {},
   "source": [
    "# Seprating the Dataset into x and y"
   ]
  },
  {
   "cell_type": "code",
   "execution_count": 33,
   "id": "56833eaf",
   "metadata": {},
   "outputs": [],
   "source": [
    "x=df.drop('BrainWeight',axis=1)\n",
    "y=df['BrainWeight']"
   ]
  },
  {
   "cell_type": "code",
   "execution_count": 34,
   "id": "8586b15e",
   "metadata": {},
   "outputs": [
    {
     "data": {
      "text/plain": [
       "(237, 3)"
      ]
     },
     "execution_count": 34,
     "metadata": {},
     "output_type": "execute_result"
    }
   ],
   "source": [
    "x.shape"
   ]
  },
  {
   "cell_type": "code",
   "execution_count": 35,
   "id": "7a323735",
   "metadata": {},
   "outputs": [
    {
     "data": {
      "text/plain": [
       "(237,)"
      ]
     },
     "execution_count": 35,
     "metadata": {},
     "output_type": "execute_result"
    }
   ],
   "source": [
    "y.shape"
   ]
  },
  {
   "cell_type": "markdown",
   "id": "e4931bd0",
   "metadata": {},
   "source": [
    "# Lets bring all features to a common scale"
   ]
  },
  {
   "cell_type": "code",
   "execution_count": 37,
   "id": "1aecfa06",
   "metadata": {},
   "outputs": [],
   "source": [
    "from sklearn.preprocessing import StandardScaler\n",
    "sc=StandardScaler()\n",
    "\n",
    "x=sc.fit_transform(df)\n",
    "\n",
    "x=pd.DataFrame(x,columns=df.columns)"
   ]
  },
  {
   "cell_type": "markdown",
   "id": "4f032bcf",
   "metadata": {},
   "source": [
    "# Train Test Split"
   ]
  },
  {
   "cell_type": "code",
   "execution_count": 38,
   "id": "79e8b831",
   "metadata": {},
   "outputs": [
    {
     "name": "stdout",
     "output_type": "stream",
     "text": [
      "(189, 4)\n",
      "(48, 4)\n",
      "(189,)\n",
      "(48,)\n"
     ]
    }
   ],
   "source": [
    "from sklearn.model_selection import train_test_split\n",
    "x_train,x_test,y_train,y_test=train_test_split(x,y,test_size=.20,random_state=45)\n",
    "print(x_train.shape)\n",
    "print(x_test.shape)\n",
    "print(y_train.shape)\n",
    "print(y_test.shape)"
   ]
  },
  {
   "cell_type": "markdown",
   "id": "eef7e059",
   "metadata": {},
   "source": [
    "# Model Building"
   ]
  },
  {
   "cell_type": "code",
   "execution_count": 39,
   "id": "63b83c25",
   "metadata": {},
   "outputs": [],
   "source": [
    "# Importing LIbraries\n",
    "from sklearn.linear_model import LinearRegression , Lasso , Ridge, ElasticNet\n",
    "from sklearn.metrics import r2_score, mean_squared_error, mean_absolute_error\n",
    "from sklearn.model_selection import cross_val_score"
   ]
  },
  {
   "cell_type": "code",
   "execution_count": 40,
   "id": "d9e837ab",
   "metadata": {},
   "outputs": [
    {
     "name": "stdout",
     "output_type": "stream",
     "text": [
      "r2 score 1.0\n",
      "error\n",
      "mean absolute error 8.526512829121202e-14\n",
      "mean squared error 1.8848516562080708e-26\n",
      "root mean squared error 1.3728989970890324e-13\n"
     ]
    }
   ],
   "source": [
    "# Linear Regerssion\n",
    "lr=LinearRegression()\n",
    "lr.fit(x_train,y_train)\n",
    "pred_y=lr.predict(x_test)\n",
    "print('r2 score',r2_score(y_test,pred_y))\n",
    "\n",
    "print('error')\n",
    "print('mean absolute error',mean_absolute_error(y_test,pred_y))\n",
    "print('mean squared error',mean_squared_error(y_test,pred_y))\n",
    "print('root mean squared error',np.sqrt(mean_squared_error(y_test,pred_y)))"
   ]
  },
  {
   "cell_type": "code",
   "execution_count": 41,
   "id": "ef1423bd",
   "metadata": {},
   "outputs": [
    {
     "name": "stdout",
     "output_type": "stream",
     "text": [
      "cv score 1.0\n"
     ]
    }
   ],
   "source": [
    "# cross validation linear regerssion\n",
    "score=cross_val_score(lr,x,y,cv=5)\n",
    "print('cv score',np.mean(score))\n"
   ]
  },
  {
   "cell_type": "markdown",
   "id": "8d44c220",
   "metadata": {},
   "source": [
    "r2 score is 100% and cv score is 100%."
   ]
  },
  {
   "cell_type": "code",
   "execution_count": null,
   "id": "dc39c9da",
   "metadata": {},
   "outputs": [],
   "source": []
  },
  {
   "cell_type": "code",
   "execution_count": null,
   "id": "e139ce55",
   "metadata": {},
   "outputs": [],
   "source": []
  },
  {
   "cell_type": "code",
   "execution_count": 42,
   "id": "4fa279a2",
   "metadata": {},
   "outputs": [
    {
     "name": "stdout",
     "output_type": "stream",
     "text": [
      "r2 score 0.9999339368491159\n",
      "error\n",
      "mean absolute error 0.7745834867904193\n",
      "mean squared error 1.0379589942368084\n",
      "root mean squared error 1.0188027258683638\n"
     ]
    }
   ],
   "source": [
    "# Ridge\n",
    "rd=Ridge()\n",
    "rd.fit(x_train,y_train)\n",
    "pred_y=rd.predict(x_test)\n",
    "print('r2 score',r2_score(y_test,pred_y))\n",
    "\n",
    "print('error')\n",
    "print('mean absolute error',mean_absolute_error(y_test,pred_y))\n",
    "print('mean squared error',mean_squared_error(y_test,pred_y))\n",
    "print('root mean squared error',np.sqrt(mean_squared_error(y_test,pred_y)))"
   ]
  },
  {
   "cell_type": "code",
   "execution_count": 43,
   "id": "8167888d",
   "metadata": {},
   "outputs": [
    {
     "name": "stdout",
     "output_type": "stream",
     "text": [
      "cv score 0.9998873095480694\n"
     ]
    }
   ],
   "source": [
    "# cross validation\n",
    "score=cross_val_score(rd,x,y,cv=5)\n",
    "print('cv score',np.mean(score))"
   ]
  },
  {
   "cell_type": "markdown",
   "id": "7f7fe05c",
   "metadata": {},
   "source": [
    "r2 score is 99% and cv score is 99%."
   ]
  },
  {
   "cell_type": "code",
   "execution_count": null,
   "id": "52bcfcb9",
   "metadata": {},
   "outputs": [],
   "source": []
  },
  {
   "cell_type": "code",
   "execution_count": null,
   "id": "555a6968",
   "metadata": {},
   "outputs": [],
   "source": []
  },
  {
   "cell_type": "code",
   "execution_count": 45,
   "id": "f01216c3",
   "metadata": {},
   "outputs": [
    {
     "name": "stdout",
     "output_type": "stream",
     "text": [
      "r2 score 0.9999268798838262\n",
      "error\n",
      "mean absolute error 0.8365618245953167\n",
      "mean squared error 1.1488353375005815\n",
      "root mean squared error 1.0718373652287838\n"
     ]
    }
   ],
   "source": [
    "# lasso\n",
    "ls=Lasso()\n",
    "ls.fit(x_train,y_train)\n",
    "pred_y=ls.predict(x_test)\n",
    "print('r2 score',r2_score(y_test,pred_y))\n",
    "\n",
    "print('error')\n",
    "print('mean absolute error',mean_absolute_error(y_test,pred_y))\n",
    "print('mean squared error',mean_squared_error(y_test,pred_y))\n",
    "print('root mean squared error',np.sqrt(mean_squared_error(y_test,pred_y)))"
   ]
  },
  {
   "cell_type": "code",
   "execution_count": 46,
   "id": "35fde780",
   "metadata": {},
   "outputs": [
    {
     "name": "stdout",
     "output_type": "stream",
     "text": [
      "cv score 0.9998827331922906\n"
     ]
    }
   ],
   "source": [
    "# cross validation Lasso\n",
    "score=cross_val_score(ls,x,y,cv=5)\n",
    "print('cv score',np.mean(score))"
   ]
  },
  {
   "cell_type": "markdown",
   "id": "38db24a6",
   "metadata": {},
   "source": [
    "r2 score is 99.99% and cv score is 99.98%."
   ]
  },
  {
   "cell_type": "code",
   "execution_count": null,
   "id": "68a3845c",
   "metadata": {},
   "outputs": [],
   "source": []
  },
  {
   "cell_type": "code",
   "execution_count": null,
   "id": "ef7bb502",
   "metadata": {},
   "outputs": [],
   "source": []
  },
  {
   "cell_type": "code",
   "execution_count": 50,
   "id": "37f7eee1",
   "metadata": {},
   "outputs": [
    {
     "name": "stdout",
     "output_type": "stream",
     "text": [
      "r2 score 0.9119291252813518\n",
      "error\n",
      "mean absolute error 29.617726874619397\n",
      "mean squared error 1383.7359453980832\n",
      "root mean squared error 37.19860139034912\n"
     ]
    }
   ],
   "source": [
    "# ElasticNet\n",
    "enc=ElasticNet()\n",
    "enc.fit(x_train,y_train)\n",
    "pred_y=enc.predict(x_test)\n",
    "print('r2 score',r2_score(y_test,pred_y))\n",
    "\n",
    "print('error')\n",
    "print('mean absolute error',mean_absolute_error(y_test,pred_y))\n",
    "print('mean squared error',mean_squared_error(y_test,pred_y))\n",
    "print('root mean squared error',np.sqrt(mean_squared_error(y_test,pred_y)))"
   ]
  },
  {
   "cell_type": "code",
   "execution_count": 51,
   "id": "9cd9d943",
   "metadata": {},
   "outputs": [
    {
     "name": "stdout",
     "output_type": "stream",
     "text": [
      "cv score 0.8574187893245911\n"
     ]
    }
   ],
   "source": [
    "# cross validation\n",
    "score=cross_val_score(enc,x,y,cv=5)\n",
    "print('cv score',np.mean(score))"
   ]
  },
  {
   "cell_type": "markdown",
   "id": "275724a4",
   "metadata": {},
   "source": [
    "r2 score is 91.19% and cv score 85.74%"
   ]
  },
  {
   "cell_type": "code",
   "execution_count": null,
   "id": "d5b0be5a",
   "metadata": {},
   "outputs": [],
   "source": []
  },
  {
   "cell_type": "raw",
   "id": "270ccd4f",
   "metadata": {},
   "source": [
    "From above observations our model is predicting extremlly well  with accuracy more than 90% ."
   ]
  },
  {
   "cell_type": "code",
   "execution_count": null,
   "id": "f479ab5e",
   "metadata": {},
   "outputs": [],
   "source": [
    "\n"
   ]
  },
  {
   "cell_type": "markdown",
   "id": "28543a2e",
   "metadata": {},
   "source": [
    "# Ensemble Technique"
   ]
  },
  {
   "cell_type": "code",
   "execution_count": 53,
   "id": "6c4df7ec",
   "metadata": {},
   "outputs": [
    {
     "name": "stdout",
     "output_type": "stream",
     "text": [
      "{'criterion': 'mse', 'max_depth': 5, 'max_features': 'auto'}\n"
     ]
    }
   ],
   "source": [
    "from sklearn.ensemble import RandomForestRegressor\n",
    "from sklearn.model_selection import GridSearchCV\n",
    "parameters={'criterion':['mse','mae'],'max_features':['auto','sqrt','log2'],'max_depth':[0,5]}\n",
    "rf=RandomForestRegressor()\n",
    "clf=GridSearchCV(rf,parameters)\n",
    "clf.fit(x_train,y_train)\n",
    "\n",
    "print(clf.best_params_)"
   ]
  },
  {
   "cell_type": "code",
   "execution_count": 54,
   "id": "b849d72d",
   "metadata": {},
   "outputs": [
    {
     "name": "stdout",
     "output_type": "stream",
     "text": [
      "r2 score 99.48018322981092\n",
      "cv score 99.37432109674624\n"
     ]
    }
   ],
   "source": [
    "rf=RandomForestRegressor(criterion='mae',max_features='auto',max_depth=5)\n",
    "rf.fit(x_train,y_train)\n",
    "rf.score(x_train,y_train)\n",
    "pred_decision=rf.predict(x_test)\n",
    "\n",
    "rfs=r2_score(y_test,pred_decision)\n",
    "print('r2 score', rfs*100)\n",
    "\n",
    "rfscore=cross_val_score(rf,x,y,cv=5)\n",
    "rfc=rfscore.mean()\n",
    "print('cv score',rfc*100)"
   ]
  },
  {
   "cell_type": "markdown",
   "id": "c8e08d7b",
   "metadata": {},
   "source": [
    "r2 score is 99.48%  and cv score is 99.37%"
   ]
  },
  {
   "cell_type": "code",
   "execution_count": null,
   "id": "8b644641",
   "metadata": {},
   "outputs": [],
   "source": []
  },
  {
   "cell_type": "raw",
   "id": "de91fb5d",
   "metadata": {},
   "source": [
    "After applying Ensemble Techniques We are gettin approx 99% r2 score, means we are predicting very well accuracy."
   ]
  },
  {
   "cell_type": "markdown",
   "id": "730e1bc7",
   "metadata": {},
   "source": [
    "# Saving the model"
   ]
  },
  {
   "cell_type": "code",
   "execution_count": 56,
   "id": "293b0843",
   "metadata": {},
   "outputs": [],
   "source": [
    "import pickle\n",
    "filename='brain_weight.pkl'\n",
    "pickle.dump(rf,open(filename,'wb'))"
   ]
  },
  {
   "cell_type": "markdown",
   "id": "8e38e9c8",
   "metadata": {},
   "source": [
    "# conclusion"
   ]
  },
  {
   "cell_type": "code",
   "execution_count": 57,
   "id": "5e1b27e7",
   "metadata": {},
   "outputs": [
    {
     "name": "stdout",
     "output_type": "stream",
     "text": [
      "0.9948018322981093\n"
     ]
    }
   ],
   "source": [
    "loaded_model=pickle.load(open('brain_weight.pkl','rb'))\n",
    "result=loaded_model.score(x_test, y_test)\n",
    "print(result)"
   ]
  },
  {
   "cell_type": "code",
   "execution_count": 58,
   "id": "6d7db3e4",
   "metadata": {},
   "outputs": [
    {
     "data": {
      "text/html": [
       "<div>\n",
       "<style scoped>\n",
       "    .dataframe tbody tr th:only-of-type {\n",
       "        vertical-align: middle;\n",
       "    }\n",
       "\n",
       "    .dataframe tbody tr th {\n",
       "        vertical-align: top;\n",
       "    }\n",
       "\n",
       "    .dataframe thead th {\n",
       "        text-align: right;\n",
       "    }\n",
       "</style>\n",
       "<table border=\"1\" class=\"dataframe\">\n",
       "  <thead>\n",
       "    <tr style=\"text-align: right;\">\n",
       "      <th></th>\n",
       "      <th>0</th>\n",
       "      <th>1</th>\n",
       "      <th>2</th>\n",
       "      <th>3</th>\n",
       "      <th>4</th>\n",
       "      <th>5</th>\n",
       "      <th>6</th>\n",
       "      <th>7</th>\n",
       "      <th>8</th>\n",
       "      <th>9</th>\n",
       "      <th>...</th>\n",
       "      <th>38</th>\n",
       "      <th>39</th>\n",
       "      <th>40</th>\n",
       "      <th>41</th>\n",
       "      <th>42</th>\n",
       "      <th>43</th>\n",
       "      <th>44</th>\n",
       "      <th>45</th>\n",
       "      <th>46</th>\n",
       "      <th>47</th>\n",
       "    </tr>\n",
       "  </thead>\n",
       "  <tbody>\n",
       "    <tr>\n",
       "      <th>predicted</th>\n",
       "      <td>1126.18</td>\n",
       "      <td>1222.965</td>\n",
       "      <td>1179.09</td>\n",
       "      <td>1223.66</td>\n",
       "      <td>1072.595</td>\n",
       "      <td>1352.07</td>\n",
       "      <td>1238.35</td>\n",
       "      <td>1315.15</td>\n",
       "      <td>1079.525</td>\n",
       "      <td>1351.77</td>\n",
       "      <td>...</td>\n",
       "      <td>1219.18</td>\n",
       "      <td>1300.2</td>\n",
       "      <td>1137.245</td>\n",
       "      <td>1486.515</td>\n",
       "      <td>1206.215</td>\n",
       "      <td>1208.735</td>\n",
       "      <td>1220.415</td>\n",
       "      <td>1338.82</td>\n",
       "      <td>1307.695</td>\n",
       "      <td>1250.16</td>\n",
       "    </tr>\n",
       "    <tr>\n",
       "      <th>original</th>\n",
       "      <td>1126.18</td>\n",
       "      <td>1222.965</td>\n",
       "      <td>1179.09</td>\n",
       "      <td>1223.66</td>\n",
       "      <td>1072.595</td>\n",
       "      <td>1352.07</td>\n",
       "      <td>1238.35</td>\n",
       "      <td>1315.15</td>\n",
       "      <td>1079.525</td>\n",
       "      <td>1351.77</td>\n",
       "      <td>...</td>\n",
       "      <td>1219.18</td>\n",
       "      <td>1300.2</td>\n",
       "      <td>1137.245</td>\n",
       "      <td>1486.515</td>\n",
       "      <td>1206.215</td>\n",
       "      <td>1208.735</td>\n",
       "      <td>1220.415</td>\n",
       "      <td>1338.82</td>\n",
       "      <td>1307.695</td>\n",
       "      <td>1250.16</td>\n",
       "    </tr>\n",
       "  </tbody>\n",
       "</table>\n",
       "<p>2 rows × 48 columns</p>\n",
       "</div>"
      ],
      "text/plain": [
       "                0         1        2        3         4        5        6   \\\n",
       "predicted  1126.18  1222.965  1179.09  1223.66  1072.595  1352.07  1238.35   \n",
       "original   1126.18  1222.965  1179.09  1223.66  1072.595  1352.07  1238.35   \n",
       "\n",
       "                7         8        9   ...       38      39        40  \\\n",
       "predicted  1315.15  1079.525  1351.77  ...  1219.18  1300.2  1137.245   \n",
       "original   1315.15  1079.525  1351.77  ...  1219.18  1300.2  1137.245   \n",
       "\n",
       "                 41        42        43        44       45        46       47  \n",
       "predicted  1486.515  1206.215  1208.735  1220.415  1338.82  1307.695  1250.16  \n",
       "original   1486.515  1206.215  1208.735  1220.415  1338.82  1307.695  1250.16  \n",
       "\n",
       "[2 rows x 48 columns]"
      ]
     },
     "execution_count": 58,
     "metadata": {},
     "output_type": "execute_result"
    }
   ],
   "source": [
    "conclusion=pd.DataFrame([loaded_model.predict(x_test)[:],pred_decision[:]],index=['predicted','original'])\n",
    "conclusion"
   ]
  },
  {
   "cell_type": "markdown",
   "id": "0183eec5",
   "metadata": {},
   "source": [
    "With the help of Project , I learnt how to done EDA.\n",
    "\n",
    "I also learnt ,making use of packages like matplotlib and seaborn to develop better insights of the data.\n",
    "\n",
    "I have also learnt how to remove outliers and skewness to predict better accuracy.\n",
    "\n",
    "I have also seen the impacts on the columns on Average Price.\n",
    "\n",
    "I came to know through the analysis ,which model will predict better accuracy.\n",
    "\n",
    "This project helped me to gain deep knowledge , and also get to know where to use models."
   ]
  },
  {
   "cell_type": "code",
   "execution_count": null,
   "id": "90c9c3f7",
   "metadata": {},
   "outputs": [],
   "source": []
  }
 ],
 "metadata": {
  "kernelspec": {
   "display_name": "Python 3",
   "language": "python",
   "name": "python3"
  },
  "language_info": {
   "codemirror_mode": {
    "name": "ipython",
    "version": 3
   },
   "file_extension": ".py",
   "mimetype": "text/x-python",
   "name": "python",
   "nbconvert_exporter": "python",
   "pygments_lexer": "ipython3",
   "version": "3.8.10"
  }
 },
 "nbformat": 4,
 "nbformat_minor": 5
}
