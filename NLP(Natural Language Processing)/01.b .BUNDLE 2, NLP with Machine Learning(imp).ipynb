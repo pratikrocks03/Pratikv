{
 "cells": [
  {
   "cell_type": "markdown",
   "id": "1c286cf3",
   "metadata": {},
   "source": [
    "# AUDIO_to_TEXT(week four)  "
   ]
  },
  {
   "cell_type": "code",
   "execution_count": 4,
   "id": "4d70d106",
   "metadata": {},
   "outputs": [
    {
     "name": "stdout",
     "output_type": "stream",
     "text": [
      "Collecting SpeechRecognition\n",
      "  Downloading SpeechRecognition-3.8.1-py2.py3-none-any.whl (32.8 MB)\n",
      "Installing collected packages: SpeechRecognition\n",
      "Successfully installed SpeechRecognition-3.8.1\n"
     ]
    },
    {
     "name": "stderr",
     "output_type": "stream",
     "text": [
      "WARNING: Ignoring invalid distribution -ikit-learn (c:\\programdata\\anaconda2\\lib\\site-packages)\n",
      "WARNING: Ignoring invalid distribution -ikit-learn (c:\\programdata\\anaconda2\\lib\\site-packages)\n",
      "WARNING: Ignoring invalid distribution - (c:\\programdata\\anaconda2\\lib\\site-packages)\n",
      "WARNING: Ignoring invalid distribution -cikit-learn (c:\\programdata\\anaconda2\\lib\\site-packages)\n",
      "WARNING: Ignoring invalid distribution -ikit-learn (c:\\programdata\\anaconda2\\lib\\site-packages)\n",
      "WARNING: Ignoring invalid distribution -ikit-learn (c:\\programdata\\anaconda2\\lib\\site-packages)\n",
      "WARNING: Ignoring invalid distribution - (c:\\programdata\\anaconda2\\lib\\site-packages)\n",
      "WARNING: Ignoring invalid distribution -cikit-learn (c:\\programdata\\anaconda2\\lib\\site-packages)\n",
      "WARNING: Ignoring invalid distribution -ikit-learn (c:\\programdata\\anaconda2\\lib\\site-packages)\n",
      "WARNING: Ignoring invalid distribution -ikit-learn (c:\\programdata\\anaconda2\\lib\\site-packages)\n",
      "WARNING: Ignoring invalid distribution - (c:\\programdata\\anaconda2\\lib\\site-packages)\n",
      "WARNING: Ignoring invalid distribution -cikit-learn (c:\\programdata\\anaconda2\\lib\\site-packages)\n",
      "WARNING: Ignoring invalid distribution -ikit-learn (c:\\programdata\\anaconda2\\lib\\site-packages)\n",
      "WARNING: Ignoring invalid distribution -ikit-learn (c:\\programdata\\anaconda2\\lib\\site-packages)\n",
      "WARNING: Ignoring invalid distribution - (c:\\programdata\\anaconda2\\lib\\site-packages)\n",
      "WARNING: Ignoring invalid distribution -cikit-learn (c:\\programdata\\anaconda2\\lib\\site-packages)\n",
      "WARNING: Ignoring invalid distribution -ikit-learn (c:\\programdata\\anaconda2\\lib\\site-packages)\n",
      "WARNING: Ignoring invalid distribution -ikit-learn (c:\\programdata\\anaconda2\\lib\\site-packages)\n",
      "WARNING: Ignoring invalid distribution - (c:\\programdata\\anaconda2\\lib\\site-packages)\n",
      "WARNING: Ignoring invalid distribution -cikit-learn (c:\\programdata\\anaconda2\\lib\\site-packages)\n",
      "WARNING: Ignoring invalid distribution -ikit-learn (c:\\programdata\\anaconda2\\lib\\site-packages)\n",
      "WARNING: Ignoring invalid distribution -ikit-learn (c:\\programdata\\anaconda2\\lib\\site-packages)\n",
      "WARNING: Ignoring invalid distribution - (c:\\programdata\\anaconda2\\lib\\site-packages)\n",
      "WARNING: Ignoring invalid distribution -cikit-learn (c:\\programdata\\anaconda2\\lib\\site-packages)\n"
     ]
    }
   ],
   "source": [
    "# install SpeechReognition\n",
    "!pip install SpeechRecognition"
   ]
  },
  {
   "cell_type": "code",
   "execution_count": 6,
   "id": "efae9f70",
   "metadata": {},
   "outputs": [
    {
     "name": "stdout",
     "output_type": "stream",
     "text": [
      "Collecting TextBlob\n",
      "  Downloading textblob-0.15.3-py2.py3-none-any.whl (636 kB)\n",
      "Requirement already satisfied: nltk>=3.1 in c:\\programdata\\anaconda2\\lib\\site-packages (from TextBlob) (3.6.2)\n",
      "Requirement already satisfied: joblib in c:\\programdata\\anaconda2\\lib\\site-packages (from nltk>=3.1->TextBlob) (1.0.1)\n",
      "Requirement already satisfied: regex in c:\\programdata\\anaconda2\\lib\\site-packages (from nltk>=3.1->TextBlob) (2021.7.6)\n",
      "Requirement already satisfied: click in c:\\programdata\\anaconda2\\lib\\site-packages (from nltk>=3.1->TextBlob) (8.0.1)\n",
      "Requirement already satisfied: tqdm in c:\\programdata\\anaconda2\\lib\\site-packages (from nltk>=3.1->TextBlob) (4.61.2)\n",
      "Requirement already satisfied: colorama in c:\\programdata\\anaconda2\\lib\\site-packages (from click->nltk>=3.1->TextBlob) (0.4.4)\n",
      "Installing collected packages: TextBlob\n",
      "Successfully installed TextBlob-0.15.3\n"
     ]
    },
    {
     "name": "stderr",
     "output_type": "stream",
     "text": [
      "WARNING: Ignoring invalid distribution -ikit-learn (c:\\programdata\\anaconda2\\lib\\site-packages)\n",
      "WARNING: Ignoring invalid distribution -ikit-learn (c:\\programdata\\anaconda2\\lib\\site-packages)\n",
      "WARNING: Ignoring invalid distribution - (c:\\programdata\\anaconda2\\lib\\site-packages)\n",
      "WARNING: Ignoring invalid distribution -cikit-learn (c:\\programdata\\anaconda2\\lib\\site-packages)\n",
      "WARNING: Ignoring invalid distribution -ikit-learn (c:\\programdata\\anaconda2\\lib\\site-packages)\n",
      "WARNING: Ignoring invalid distribution -ikit-learn (c:\\programdata\\anaconda2\\lib\\site-packages)\n",
      "WARNING: Ignoring invalid distribution - (c:\\programdata\\anaconda2\\lib\\site-packages)\n",
      "WARNING: Ignoring invalid distribution -cikit-learn (c:\\programdata\\anaconda2\\lib\\site-packages)\n",
      "WARNING: Ignoring invalid distribution -ikit-learn (c:\\programdata\\anaconda2\\lib\\site-packages)\n",
      "WARNING: Ignoring invalid distribution -ikit-learn (c:\\programdata\\anaconda2\\lib\\site-packages)\n",
      "WARNING: Ignoring invalid distribution - (c:\\programdata\\anaconda2\\lib\\site-packages)\n",
      "WARNING: Ignoring invalid distribution -cikit-learn (c:\\programdata\\anaconda2\\lib\\site-packages)\n",
      "WARNING: Ignoring invalid distribution -ikit-learn (c:\\programdata\\anaconda2\\lib\\site-packages)\n",
      "WARNING: Ignoring invalid distribution -ikit-learn (c:\\programdata\\anaconda2\\lib\\site-packages)\n",
      "WARNING: Ignoring invalid distribution - (c:\\programdata\\anaconda2\\lib\\site-packages)\n",
      "WARNING: Ignoring invalid distribution -cikit-learn (c:\\programdata\\anaconda2\\lib\\site-packages)\n",
      "WARNING: Ignoring invalid distribution -ikit-learn (c:\\programdata\\anaconda2\\lib\\site-packages)\n",
      "WARNING: Ignoring invalid distribution -ikit-learn (c:\\programdata\\anaconda2\\lib\\site-packages)\n",
      "WARNING: Ignoring invalid distribution - (c:\\programdata\\anaconda2\\lib\\site-packages)\n",
      "WARNING: Ignoring invalid distribution -cikit-learn (c:\\programdata\\anaconda2\\lib\\site-packages)\n",
      "WARNING: Ignoring invalid distribution -ikit-learn (c:\\programdata\\anaconda2\\lib\\site-packages)\n",
      "WARNING: Ignoring invalid distribution -ikit-learn (c:\\programdata\\anaconda2\\lib\\site-packages)\n",
      "WARNING: Ignoring invalid distribution - (c:\\programdata\\anaconda2\\lib\\site-packages)\n",
      "WARNING: Ignoring invalid distribution -cikit-learn (c:\\programdata\\anaconda2\\lib\\site-packages)\n"
     ]
    }
   ],
   "source": [
    "# Installing TextBlob\n",
    "!pip install TextBlob"
   ]
  },
  {
   "cell_type": "code",
   "execution_count": 7,
   "id": "a5774a77",
   "metadata": {},
   "outputs": [],
   "source": [
    "# Importing Libraries\n",
    "import speech_recognition as sr\n",
    "from textblob import TextBlob"
   ]
  },
  {
   "cell_type": "code",
   "execution_count": 8,
   "id": "97a9a90e",
   "metadata": {},
   "outputs": [
    {
     "name": "stdout",
     "output_type": "stream",
     "text": [
      "converting audio transcripts into text...\n",
      "\n",
      "your audio text is =\n",
      " writer Kunal aneja has kept the narrative simple and raise his come on the head and I will be there we can bombarded with group to Morbi 10 Taka stories on today it is the distance to St major producers in the table\n",
      "\n",
      " Native Language text=\n",
      " लेखक कुणाल अनेजा ने कथा को सरल रखा है और अपने सिर पर आते हैं और मैं वहां रहूंगा हम समूह के साथ मोरबी 10 टका कहानियों पर बमबारी कर सकते हैं आज यह तालिका में सेंट प्रमुख उत्पादकों की दूरी है\n"
     ]
    }
   ],
   "source": [
    "# Initialize recognizer class (for recognizing the speech)\n",
    "r=sr.Recognizer()\n",
    "\n",
    "# Reading Audio file as source\n",
    "# Listening the audio file and store in audio_test variable\n",
    "\n",
    "with sr.AudioFile('text1.wav') as source:\n",
    "    \n",
    "    audio_text=r.listen(source,timeout=3)\n",
    "    \n",
    "    \n",
    "# recognize_() method will throw a request error if the API is unreachable, hence using exception handling \n",
    "    try:\n",
    "        \n",
    "        # using google sppech recognition\n",
    "        text=r.recognize_google(audio_text)\n",
    "        print('converting audio transcripts into text...\\n')\n",
    "        print('your audio text is =\\n',text)\n",
    "        \n",
    "        # converting into native language\n",
    "        blob=TextBlob(text)\n",
    "        your_lang=blob.translate(to='hi')\n",
    "        print (\"\\n Native Language text=\\n\",your_lang)\n",
    "        \n",
    "        \n",
    "    except:\n",
    "        print('Sorry..run again...')"
   ]
  },
  {
   "cell_type": "code",
   "execution_count": 9,
   "id": "c5007e06",
   "metadata": {},
   "outputs": [
    {
     "name": "stdout",
     "output_type": "stream",
     "text": [
      "converting audio transcripts into text...\n",
      "\n",
      "your audio text is =\n",
      " writer Kunal aneja has kept the narrative simple and raise his come on the head and I will be there we can bombarded with group to Morbi 10 Taka stories on today it is the distance to St major producers in the table\n",
      "\n",
      " Native Language text=\n",
      " લેખક કૃણાલ અનીજાએ આ કથાને સરળ રાખી છે અને તેના માથા પર ઉભા કરે છે અને હું ત્યાં રહીશું મોરબીમાં જૂથ સાથે બોમ્બ ધડાકા કરી શકીએ છીએ 10 આજે ટાકા ટેબલના મુખ્ય ઉત્પાદકોને અંતર છે.\n"
     ]
    }
   ],
   "source": [
    "# Initialize recognizer class (for recognizing the speech)\n",
    "r=sr.Recognizer()\n",
    "\n",
    "# Reading Audio file as source\n",
    "# Listening the audio file and store in audio_test variable\n",
    "\n",
    "with sr.AudioFile('text1.wav') as source:\n",
    "    \n",
    "    audio_text=r.listen(source,timeout=3)\n",
    "    \n",
    "    \n",
    "# recognize_() method will throw a request error if the API is unreachable, hence using exception handling \n",
    "    try:\n",
    "        \n",
    "        # using google sppech recognition\n",
    "        text=r.recognize_google(audio_text)\n",
    "        print('converting audio transcripts into text...\\n')\n",
    "        print('your audio text is =\\n',text)\n",
    "        \n",
    "        # converting into native language\n",
    "        blob=TextBlob(text)\n",
    "        your_lang=blob.translate(to='gu')\n",
    "        print (\"\\n Native Language text=\\n\",your_lang)\n",
    "        \n",
    "        \n",
    "    except:\n",
    "        print('Sorry..run again...')"
   ]
  },
  {
   "cell_type": "code",
   "execution_count": null,
   "id": "4571a526",
   "metadata": {},
   "outputs": [],
   "source": []
  },
  {
   "cell_type": "markdown",
   "id": "de9335f5",
   "metadata": {},
   "source": [
    "# SPEECH_to_TEXT"
   ]
  },
  {
   "cell_type": "code",
   "execution_count": 17,
   "id": "30a49aad",
   "metadata": {},
   "outputs": [
    {
     "name": "stdout",
     "output_type": "stream",
     "text": [
      "Requirement already satisfied: pyaudio in c:\\programdata\\anaconda2\\lib\\site-packages (0.2.11)\n"
     ]
    },
    {
     "name": "stderr",
     "output_type": "stream",
     "text": [
      "WARNING: Ignoring invalid distribution -ikit-learn (c:\\programdata\\anaconda2\\lib\\site-packages)\n",
      "WARNING: Ignoring invalid distribution -ikit-learn (c:\\programdata\\anaconda2\\lib\\site-packages)\n",
      "WARNING: Ignoring invalid distribution - (c:\\programdata\\anaconda2\\lib\\site-packages)\n",
      "WARNING: Ignoring invalid distribution -cikit-learn (c:\\programdata\\anaconda2\\lib\\site-packages)\n",
      "WARNING: Ignoring invalid distribution -ikit-learn (c:\\programdata\\anaconda2\\lib\\site-packages)\n",
      "WARNING: Ignoring invalid distribution -ikit-learn (c:\\programdata\\anaconda2\\lib\\site-packages)\n",
      "WARNING: Ignoring invalid distribution - (c:\\programdata\\anaconda2\\lib\\site-packages)\n",
      "WARNING: Ignoring invalid distribution -cikit-learn (c:\\programdata\\anaconda2\\lib\\site-packages)\n",
      "WARNING: Ignoring invalid distribution -ikit-learn (c:\\programdata\\anaconda2\\lib\\site-packages)\n",
      "WARNING: Ignoring invalid distribution -ikit-learn (c:\\programdata\\anaconda2\\lib\\site-packages)\n",
      "WARNING: Ignoring invalid distribution - (c:\\programdata\\anaconda2\\lib\\site-packages)\n",
      "WARNING: Ignoring invalid distribution -cikit-learn (c:\\programdata\\anaconda2\\lib\\site-packages)\n",
      "WARNING: Ignoring invalid distribution -ikit-learn (c:\\programdata\\anaconda2\\lib\\site-packages)\n",
      "WARNING: Ignoring invalid distribution -ikit-learn (c:\\programdata\\anaconda2\\lib\\site-packages)\n",
      "WARNING: Ignoring invalid distribution - (c:\\programdata\\anaconda2\\lib\\site-packages)\n",
      "WARNING: Ignoring invalid distribution -cikit-learn (c:\\programdata\\anaconda2\\lib\\site-packages)\n",
      "WARNING: Ignoring invalid distribution -ikit-learn (c:\\programdata\\anaconda2\\lib\\site-packages)\n",
      "WARNING: Ignoring invalid distribution -ikit-learn (c:\\programdata\\anaconda2\\lib\\site-packages)\n",
      "WARNING: Ignoring invalid distribution - (c:\\programdata\\anaconda2\\lib\\site-packages)\n",
      "WARNING: Ignoring invalid distribution -cikit-learn (c:\\programdata\\anaconda2\\lib\\site-packages)\n",
      "WARNING: Ignoring invalid distribution -ikit-learn (c:\\programdata\\anaconda2\\lib\\site-packages)\n",
      "WARNING: Ignoring invalid distribution -ikit-learn (c:\\programdata\\anaconda2\\lib\\site-packages)\n",
      "WARNING: Ignoring invalid distribution - (c:\\programdata\\anaconda2\\lib\\site-packages)\n",
      "WARNING: Ignoring invalid distribution -cikit-learn (c:\\programdata\\anaconda2\\lib\\site-packages)\n"
     ]
    }
   ],
   "source": [
    "!pip install pyaudio"
   ]
  },
  {
   "cell_type": "code",
   "execution_count": 18,
   "id": "11ac9927",
   "metadata": {},
   "outputs": [],
   "source": [
    "import speech_recognition as sr"
   ]
  },
  {
   "cell_type": "code",
   "execution_count": 20,
   "id": "0987247b",
   "metadata": {},
   "outputs": [
    {
     "name": "stdout",
     "output_type": "stream",
     "text": [
      "Start talking\n",
      "Here is your coverted text below...\n",
      "first make sure you have all the requirements listed in the requirements registry to stop this is using PIP install speech recognition otherwise on both the source distribution from Piper and abstract algebra in the folder Run Python setup.py install\n"
     ]
    }
   ],
   "source": [
    "r =sr.Recognizer()\n",
    "\n",
    "# Reading Microphone as source\n",
    "# Listening the speech and store in audio_text variable\n",
    "\n",
    "\n",
    "with sr.Microphone() as source:\n",
    "    print(\"Start talking\")\n",
    "    audio_text=r.listen(source)\n",
    "    print(\"Here is your coverted text below...\")\n",
    "    \n",
    "    \n",
    "# recoginize_() method will throw a request error if the the API is unreachable, hence using exception handling\n",
    "\n",
    "    try:\n",
    "        # using google speech recognition\n",
    "        speech_2_text=r.recognize_google(audio_text)\n",
    "        print(speech_2_text)\n",
    "    except:\n",
    "        print(\"sorry,I did not get that\")"
   ]
  },
  {
   "cell_type": "markdown",
   "id": "4d99aa35",
   "metadata": {},
   "source": [
    "## How to write in the document?\n",
    "\n",
    "### Let's work on the file operation to create and write data in the document"
   ]
  },
  {
   "cell_type": "code",
   "execution_count": 21,
   "id": "b5150b80",
   "metadata": {},
   "outputs": [],
   "source": [
    "# open new file with write mode\n",
    "f=open(\"story.doc\",\"w\")\n",
    "\n",
    "# write the recorded content into the file\n",
    "f.write(speech_2_text)\n",
    "\n",
    "\n",
    "# close the file\n",
    "f.close()"
   ]
  },
  {
   "cell_type": "code",
   "execution_count": null,
   "id": "f87f739b",
   "metadata": {},
   "outputs": [],
   "source": []
  },
  {
   "cell_type": "markdown",
   "id": "07f3f8e5",
   "metadata": {},
   "source": [
    "# Tanslation and Language Detection\n",
    "\n",
    "TextBlobs can be translated between languages."
   ]
  },
  {
   "cell_type": "code",
   "execution_count": 22,
   "id": "205db754",
   "metadata": {},
   "outputs": [
    {
     "data": {
      "text/plain": [
       "TextBlob(\"आप सभी को शुभकामनाएं\")"
      ]
     },
     "execution_count": 22,
     "metadata": {},
     "output_type": "execute_result"
    }
   ],
   "source": [
    "blob=TextBlob(u'Good wishes to you all')\n",
    "blob.translate(to='hi') # hi for hindi"
   ]
  },
  {
   "cell_type": "code",
   "execution_count": null,
   "id": "3616e35a",
   "metadata": {},
   "outputs": [],
   "source": []
  },
  {
   "cell_type": "code",
   "execution_count": 23,
   "id": "cca30e43",
   "metadata": {},
   "outputs": [
    {
     "data": {
      "text/plain": [
       "TextBlob(\"有总比没有好\")"
      ]
     },
     "execution_count": 23,
     "metadata": {},
     "output_type": "execute_result"
    }
   ],
   "source": [
    "blob=TextBlob (u'something is better than nothing')\n",
    "blob.translate(to='zh-CN') # for chinese"
   ]
  },
  {
   "cell_type": "code",
   "execution_count": 24,
   "id": "9fc368fd",
   "metadata": {},
   "outputs": [
    {
     "data": {
      "text/plain": [
       "TextBlob(\"आज का मौसम बहुत गर्म है\")"
      ]
     },
     "execution_count": 24,
     "metadata": {},
     "output_type": "execute_result"
    }
   ],
   "source": [
    "blob=TextBlob(u'Todays climate is very hot')\n",
    "blob.translate(to='hi')"
   ]
  },
  {
   "cell_type": "code",
   "execution_count": 25,
   "id": "38b79a8c",
   "metadata": {},
   "outputs": [
    {
     "data": {
      "text/plain": [
       "TextBlob(\"It's better than nothing\")"
      ]
     },
     "execution_count": 25,
     "metadata": {},
     "output_type": "execute_result"
    }
   ],
   "source": [
    "chinese_blob=TextBlob(u'有总比没有好')\n",
    "chinese_blob.translate(from_lang='zh-CN',to='en') # en for english"
   ]
  },
  {
   "cell_type": "markdown",
   "id": "57d8bd6a",
   "metadata": {},
   "source": [
    "You can also attempt to detect a TextBlob's language using TextBlob.detect_language()."
   ]
  },
  {
   "cell_type": "code",
   "execution_count": 27,
   "id": "60f36d28",
   "metadata": {},
   "outputs": [
    {
     "data": {
      "text/plain": [
       "'pa'"
      ]
     },
     "execution_count": 27,
     "metadata": {},
     "output_type": "execute_result"
    }
   ],
   "source": [
    "# detecting language\n",
    "d=TextBlob('ਕੁਝ ਲਿਖਿਆ ਹੋਇਆ')\n",
    "d.detect_language()"
   ]
  },
  {
   "cell_type": "code",
   "execution_count": 29,
   "id": "b1ba4da2",
   "metadata": {},
   "outputs": [
    {
     "data": {
      "text/plain": [
       "'bn'"
      ]
     },
     "execution_count": 29,
     "metadata": {},
     "output_type": "execute_result"
    }
   ],
   "source": [
    "d=TextBlob('লিখিত কিছু')\n",
    "d.detect_language()"
   ]
  },
  {
   "cell_type": "code",
   "execution_count": null,
   "id": "0daf683b",
   "metadata": {},
   "outputs": [],
   "source": []
  },
  {
   "cell_type": "markdown",
   "id": "92b2d37c",
   "metadata": {},
   "source": [
    "# Chat Bot\n",
    "A chatbot is a software application used to conduct an on-line chat conversation via text or text-to-speech, in lieu of providing direct contact with a live human agent."
   ]
  },
  {
   "cell_type": "code",
   "execution_count": 13,
   "id": "e52ef72e",
   "metadata": {},
   "outputs": [],
   "source": [
    "from nltk.chat.util import Chat,reflections"
   ]
  },
  {
   "cell_type": "code",
   "execution_count": 14,
   "id": "933f5621",
   "metadata": {},
   "outputs": [
    {
     "data": {
      "text/plain": [
       "{'i am': 'you are',\n",
       " 'i was': 'you were',\n",
       " 'i': 'you',\n",
       " \"i'm\": 'you are',\n",
       " \"i'd\": 'you would',\n",
       " \"i've\": 'you have',\n",
       " \"i'll\": 'you will',\n",
       " 'my': 'your',\n",
       " 'you are': 'I am',\n",
       " 'you were': 'I was',\n",
       " \"you've\": 'I have',\n",
       " \"you'll\": 'I will',\n",
       " 'your': 'my',\n",
       " 'yours': 'mine',\n",
       " 'you': 'me',\n",
       " 'me': 'you'}"
      ]
     },
     "execution_count": 14,
     "metadata": {},
     "output_type": "execute_result"
    }
   ],
   "source": [
    "# Deafault reflections. You can create your own reflections\n",
    "reflections"
   ]
  },
  {
   "cell_type": "code",
   "execution_count": 59,
   "id": "895631ab",
   "metadata": {},
   "outputs": [
    {
     "data": {
      "text/plain": [
       "nltk.chat.util.Chat"
      ]
     },
     "execution_count": 59,
     "metadata": {},
     "output_type": "execute_result"
    }
   ],
   "source": [
    "Chat"
   ]
  },
  {
   "cell_type": "code",
   "execution_count": 93,
   "id": "b4c50edc",
   "metadata": {},
   "outputs": [],
   "source": [
    "# pairs is a list of pattern and responses\n",
    "pairs=[\n",
    "    [\n",
    "        r\"(.*) plan (.*)\",   #(.*) is for writing anything but it will take only base word\n",
    "        [\" we have 249 rs per month plan\",]\n",
    "    ],\n",
    "    [\n",
    "         r\"(.*) your name ?\",\n",
    "        [\"My name is Pratik and I'm a chatbot.\",]\n",
    "    ],\n",
    "    [\n",
    "        r\"sorry(.*)\",\n",
    "        [\"Its allright\", \"Its ok\", \"never mind that\",]\n",
    "    ],\n",
    "    [\n",
    "        r\"i am (good|well|fine|okay|ok)\",\n",
    "        [\"Nice to hear that\",\"Alright, great!\",]\n",
    "    ],\n",
    "    [\n",
    "        r\"(hi|hey|hello)(.*)\",\n",
    "        [\"Hello\", \"Hey there\",]\n",
    "    ],    \n",
    "    [\n",
    "        r\"what (.*) want ?\",\n",
    "        [\"I want to learn Natural language processing\",]\n",
    "    ],\n",
    "    [\n",
    "        r\"(.*) created(.*)\",\n",
    "        [\"Pratik sir is cretaed me\",\"top secret\",]\n",
    "    ],\n",
    "    [\n",
    "        r\"(.*) location (.*)\",\n",
    "        [\"New Delhi\",\"India\"]\n",
    "    ],\n",
    "    [\n",
    "         r\"how (.*) health (.*)\",\n",
    "        [\"health is very important, but I am a computer , so I dont need to worry about health\",]\n",
    "    ],\n",
    "    [\n",
    "         r\"(.*)(sports|game|sport)(.*)\",\n",
    "        [\"I'm a very big fan of cricket\",]\n",
    "    ],\n",
    "    [\n",
    "        r\"who(.*) (player|striker|captain cool)?\",\n",
    "        [\"Ms Dhoni\",]\n",
    "    ],\n",
    "    [\n",
    "        r\"quit\",\n",
    "        ['Bye for now. see you soon', \"It was nice talking to you, see you soon\",]\n",
    "    ],\n",
    "    [\n",
    "        r\"(.*)\",\n",
    "        [\"I did not get that, please search in http://google.com\",\"do you mean admission\"]\n",
    "    ],\n",
    "    [\n",
    "        r\"(.*) help(.*)\",\n",
    "        [\"yes i can help you\"]\n",
    "    ],    \n",
    "        \n",
    "        \n",
    "   \n",
    "]    \n",
    "   "
   ]
  },
  {
   "cell_type": "code",
   "execution_count": 94,
   "id": "2ced72de",
   "metadata": {},
   "outputs": [
    {
     "name": "stdout",
     "output_type": "stream",
     "text": [
      "Hi, I'm Pratik and I like to chat \n",
      " Please type lowercase english language to start a conversation. Type quit to leave\n"
     ]
    }
   ],
   "source": [
    "#default message at the start of chat\n",
    "print(\"Hi, I'm Pratik and I like to chat \\n Please type lowercase english language to start a conversation. Type quit to leave\")\n",
    "# creating chat bot\n",
    "chat=Chat(pairs,reflections)"
   ]
  },
  {
   "cell_type": "code",
   "execution_count": 95,
   "id": "d03cc070",
   "metadata": {},
   "outputs": [
    {
     "name": "stdout",
     "output_type": "stream",
     "text": [
      ">Do you have any plan\n",
      "I did not get that, please search in http://google.com\n",
      ">Do you have any plan for the benefit\n",
      " we have 249 rs per month plan\n",
      ">what is your name?\n",
      "My name is Pratik and I'm a chatbot.\n",
      ">Sorry for the trouble\n",
      "never mind that\n",
      ">I am good\n",
      "Alright, great!\n",
      ">hi\n",
      "Hello\n",
      ">what do you want?\n",
      "I want to learn Natural language processing\n",
      ">who created you?\n",
      "top secret\n",
      ">where is your location?\n",
      "do you mean admission\n",
      ">where is your location of stay?\n",
      "New Delhi\n",
      ">how are you?\n",
      "do you mean admission\n",
      ">tell me about your health condition?\n",
      "do you mean admission\n",
      ">your favorite game?\n",
      "I'm a very big fan of cricket\n",
      ">who is the captain cool?\n",
      "Ms Dhoni\n",
      ">what to say?\n",
      "do you mean admission\n",
      ">quit\n",
      "It was nice talking to you, see you soon\n"
     ]
    }
   ],
   "source": [
    "chat.converse()"
   ]
  },
  {
   "cell_type": "code",
   "execution_count": null,
   "id": "003ad697",
   "metadata": {},
   "outputs": [],
   "source": []
  }
 ],
 "metadata": {
  "kernelspec": {
   "display_name": "Python 3",
   "language": "python",
   "name": "python3"
  },
  "language_info": {
   "codemirror_mode": {
    "name": "ipython",
    "version": 3
   },
   "file_extension": ".py",
   "mimetype": "text/x-python",
   "name": "python",
   "nbconvert_exporter": "python",
   "pygments_lexer": "ipython3",
   "version": "3.8.10"
  }
 },
 "nbformat": 4,
 "nbformat_minor": 5
}
