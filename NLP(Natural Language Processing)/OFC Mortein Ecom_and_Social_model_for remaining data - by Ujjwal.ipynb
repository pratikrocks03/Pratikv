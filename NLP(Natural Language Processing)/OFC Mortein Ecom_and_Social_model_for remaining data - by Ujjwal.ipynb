{
 "cells": [
  {
   "cell_type": "markdown",
   "metadata": {},
   "source": [
    "# Importing Libraries"
   ]
  },
  {
   "cell_type": "code",
   "execution_count": 1,
   "metadata": {},
   "outputs": [],
   "source": [
    "#import os\n",
    "import numpy as np\n",
    "import pandas as pd\n",
    "from sklearn import metrics\n",
    "from sklearn.metrics import precision_score\n",
    "from sklearn.metrics import recall_score\n",
    "from sklearn.metrics import f1_score\n",
    "from sklearn.feature_extraction.text import CountVectorizer, TfidfVectorizer\n",
    "from sklearn.naive_bayes import MultinomialNB\n",
    "#from sklearn import svm\n",
    "#import sklearn.cross_validation\n",
    "from sklearn.model_selection import train_test_split\n",
    "from numpy import random\n",
    "from sklearn.preprocessing import LabelEncoder\n",
    "from nltk.corpus import stopwords\n",
    "from sklearn.metrics import classification_report\n",
    "from sklearn import svm\n",
    "import warnings\n",
    "warnings.filterwarnings('ignore')\n",
    "import gensim\n",
    "from gensim.models import Word2Vec"
   ]
  },
  {
   "cell_type": "markdown",
   "metadata": {},
   "source": [
    "# Loading the Train Data"
   ]
  },
  {
   "cell_type": "code",
   "execution_count": 2,
   "metadata": {
    "scrolled": true
   },
   "outputs": [
    {
     "data": {
      "text/plain": [
       "Index(['Mention Content', 'Level1', 'Level2', 'Level3'], dtype='object')"
      ]
     },
     "execution_count": 2,
     "metadata": {},
     "output_type": "execute_result"
    }
   ],
   "source": [
    "data = pd.read_excel('Mortein train data ECOM(New).xlsx',sheet_name=\"Train1\")\n",
    "data.columns"
   ]
  },
  {
   "cell_type": "markdown",
   "metadata": {},
   "source": [
    "# Data Cleaning"
   ]
  },
  {
   "cell_type": "code",
   "execution_count": 3,
   "metadata": {
    "scrolled": true
   },
   "outputs": [
    {
     "name": "stdout",
     "output_type": "stream",
     "text": [
      "\t###### Encoding Target Variable ######\t\n",
      "\n"
     ]
    },
    {
     "data": {
      "text/plain": [
       "count    25842.000000\n",
       "mean        39.795991\n",
       "std         21.946075\n",
       "min          0.000000\n",
       "25%         31.000000\n",
       "50%         36.000000\n",
       "75%         57.000000\n",
       "max         81.000000\n",
       "Name: lable_code, dtype: float64"
      ]
     },
     "execution_count": 3,
     "metadata": {},
     "output_type": "execute_result"
    }
   ],
   "source": [
    "print(\"\\t###### Encoding Target Variable ######\\t\\n\")    \n",
    "lb_make = LabelEncoder()\n",
    "data[\"lable_code\"] = lb_make.fit_transform(data['Level3'].astype(str))\n",
    "\n",
    "data[\"lable_code\"].describe()"
   ]
  },
  {
   "cell_type": "code",
   "execution_count": 4,
   "metadata": {},
   "outputs": [],
   "source": [
    "# converting all messages to lower case\n",
    "data['Mention Content']=data['Mention Content'].str.lower()"
   ]
  },
  {
   "cell_type": "code",
   "execution_count": 78,
   "metadata": {},
   "outputs": [],
   "source": [
    " # Replace email addresses with 'email'\n",
    "#data['Mention Content']=data['Mention Content'].str.replace(r'^.+@[^\\.].*\\.[a-z]{2,}$','emailaddress')"
   ]
  },
  {
   "cell_type": "code",
   "execution_count": 79,
   "metadata": {},
   "outputs": [],
   "source": [
    "# Replace URLs with 'webaddress'\n",
    "# Replace money symbols with 'moneysymb'(£ can be typed with ALT + 156# Replace money symbols with 'moneysymb'(£ can be typed with ALT + 156\n",
    "#data['Mention Content']=data['Mention Content'].str.replace(r'^http\\://a[a-zA-Z0-9\\-\\.]+\\.[a-zA-Z]{2,3}(/\\S*)?$',\n",
    " #                                           'webaddress')\n"
   ]
  },
  {
   "cell_type": "code",
   "execution_count": 80,
   "metadata": {},
   "outputs": [],
   "source": [
    " # Replace money symbols with 'moneysymb'(£ can be typed with ALT + 156\n",
    "#data['Mention Content']=data['Mention Content'].str.replace(r'£|\\$','dollers')\n"
   ]
  },
  {
   "cell_type": "code",
   "execution_count": 81,
   "metadata": {},
   "outputs": [],
   "source": [
    "# Replace 10 didgit phone numbers(formats include paranthesis, spaces, no spaces, dashes) with 'phonenumber'\n",
    "#data['Mention Content']=data['Mention Content'].str.replace(r'^\\(?[\\d]{3}\\)?[\\s-]?[\\d]{3}[\\s-]?[\\d]{d}','phonenumber')"
   ]
  },
  {
   "cell_type": "code",
   "execution_count": 82,
   "metadata": {},
   "outputs": [],
   "source": [
    "# replace numbers with 'numbr'\n",
    "#data['Mention Content']=data['Mention Content'].str.replace(r'\\d+(\\.\\d+)?','numbr')"
   ]
  },
  {
   "cell_type": "code",
   "execution_count": 83,
   "metadata": {},
   "outputs": [],
   "source": [
    "# remove punctuation\n",
    "#data['Mention Content']=data['Mention Content'].str.replace(r'[^\\w\\d\\s]',' ')"
   ]
  },
  {
   "cell_type": "code",
   "execution_count": 84,
   "metadata": {},
   "outputs": [],
   "source": [
    "# Replace whitespace between terms with a single space\n",
    "#data['Mention Content']=data['Mention Content'].str.replace(r'\\s+',' ')"
   ]
  },
  {
   "cell_type": "code",
   "execution_count": 85,
   "metadata": {},
   "outputs": [],
   "source": [
    "# Remove Leading and trailing whitespace\n",
    "#data['Mention Content']=data['Mention Content'].str.replace(r'^\\s+|\\s+?$',' ')"
   ]
  },
  {
   "cell_type": "code",
   "execution_count": 5,
   "metadata": {},
   "outputs": [],
   "source": [
    "data_x = data['Mention Content'].values.tolist()\n",
    "data_y = np.asarray(data['lable_code'],dtype=int)"
   ]
  },
  {
   "cell_type": "code",
   "execution_count": 6,
   "metadata": {},
   "outputs": [],
   "source": [
    "stopset = set(stopwords.words('english'))\n"
   ]
  },
  {
   "cell_type": "code",
   "execution_count": 7,
   "metadata": {},
   "outputs": [
    {
     "name": "stdout",
     "output_type": "stream",
     "text": [
      "\t###### Converting Text to Feature Vector ######\t\n",
      "\n"
     ]
    }
   ],
   "source": [
    "print(\"\\t###### Converting Text to Feature Vector ######\\t\\n\")    \n",
    "cv =  CountVectorizer(lowercase=True,stop_words=stopset, ngram_range=(1,3))\n",
    "X_traincv = cv.fit_transform(str(e) for e in data_x)"
   ]
  },
  {
   "cell_type": "markdown",
   "metadata": {},
   "source": [
    "# Train Test Split and Model Building"
   ]
  },
  {
   "cell_type": "code",
   "execution_count": 8,
   "metadata": {},
   "outputs": [],
   "source": [
    "#train_x,test_x,train_y,test_y=train_test_split(X_traincv,data_y,test_size=0.4)"
   ]
  },
  {
   "cell_type": "code",
   "execution_count": 9,
   "metadata": {},
   "outputs": [],
   "source": [
    "x_train, x_test, y_train, y_test=train_test_split(X_traincv, data_y ,random_state=47, test_size=0.4)"
   ]
  },
  {
   "cell_type": "code",
   "execution_count": 10,
   "metadata": {},
   "outputs": [],
   "source": [
    "#from sklearn.linear_model import LogisticRegression\n",
    "#from sklearn.ensemble import AdaBoostClassifier, RandomForestClassifier\n",
    "#from sklearn.naive_bayes import GaussianNB\n",
    "#from sklearn.tree import DecisionTreeClassifier\n",
    "from sklearn.model_selection import cross_val_score\n",
    "from sklearn.metrics import accuracy_score, confusion_matrix, classification_report\n",
    "from sklearn.feature_selection import SelectFromModel\n",
    "from sklearn.ensemble import ExtraTreesClassifier, GradientBoostingClassifier\n",
    "from sklearn.linear_model import SGDClassifier\n",
    "from sklearn.naive_bayes import ComplementNB"
   ]
  },
  {
   "cell_type": "code",
   "execution_count": 92,
   "metadata": {},
   "outputs": [],
   "source": [
    "# Gradient Boosting Classifier\n",
    "#gbt=GradientBoostingClassifier()\n",
    "#gbt.fit(x_train,y_train)\n",
    "#pred_y=gbt.predict(x_test)\n",
    "#print('accuracy score',accuracy_score(y_test,pred_y))\n",
    "#print(\"confusion matrix\")\n",
    "#print(confusion_matrix(y_test,pred_y))\n",
    "#print('classification',classification_report(y_test,pred_y)) \n",
    "# Probablity\n",
    "#print('gbt_prob',gbt.predict_proba(x_test))"
   ]
  },
  {
   "cell_type": "code",
   "execution_count": null,
   "metadata": {},
   "outputs": [],
   "source": []
  },
  {
   "cell_type": "code",
   "execution_count": null,
   "metadata": {},
   "outputs": [],
   "source": []
  },
  {
   "cell_type": "code",
   "execution_count": 11,
   "metadata": {},
   "outputs": [
    {
     "name": "stdout",
     "output_type": "stream",
     "text": [
      "accuracy score 0.8454096933346232\n",
      "confusion matrix\n",
      "[[960   7   0 ...   0   2   0]\n",
      " [  0   0   0 ...   0   0   0]\n",
      " [  0   0   0 ...   0   0   0]\n",
      " ...\n",
      " [  0   0   0 ...  39   0   0]\n",
      " [  0   0   0 ...   0   0   0]\n",
      " [  0   0   0 ...   0   0   1]]\n",
      "classification               precision    recall  f1-score   support\n",
      "\n",
      "           0       0.78      0.94      0.85      1019\n",
      "           1       0.00      0.00      0.00         0\n",
      "           2       0.00      0.00      0.00         0\n",
      "           3       0.00      0.00      0.00         2\n",
      "           4       0.44      0.70      0.54        10\n",
      "           5       0.00      0.00      0.00         0\n",
      "           6       0.67      0.55      0.60        40\n",
      "           7       1.00      0.83      0.91        24\n",
      "           8       0.88      0.72      0.79        53\n",
      "           9       0.97      0.63      0.76        46\n",
      "          10       0.86      0.95      0.90       194\n",
      "          11       0.89      0.40      0.55        43\n",
      "          12       0.00      0.00      0.00         1\n",
      "          13       0.00      0.00      0.00         0\n",
      "          14       1.00      0.40      0.57         5\n",
      "          15       0.00      0.00      0.00         0\n",
      "          16       0.97      0.86      0.91       227\n",
      "          17       0.86      0.92      0.89       103\n",
      "          18       1.00      0.21      0.35        19\n",
      "          19       0.91      0.78      0.84       226\n",
      "          20       1.00      0.78      0.88         9\n",
      "          21       1.00      1.00      1.00         6\n",
      "          22       0.00      0.00      0.00         3\n",
      "          23       0.58      0.85      0.69        13\n",
      "          24       0.87      0.63      0.73       108\n",
      "          25       0.90      0.56      0.69        16\n",
      "          26       0.97      0.81      0.88        42\n",
      "          27       0.74      0.52      0.61        48\n",
      "          28       0.91      0.62      0.74        16\n",
      "          29       0.77      0.80      0.79        41\n",
      "          30       0.57      0.74      0.64        23\n",
      "          31       0.96      0.96      0.96       499\n",
      "          32       0.87      0.85      0.86      1764\n",
      "          33       0.98      0.71      0.82       126\n",
      "          34       0.60      0.60      0.60         5\n",
      "          35       0.67      0.82      0.74       198\n",
      "          36       0.63      0.81      0.71       307\n",
      "          37       0.82      0.73      0.77        63\n",
      "          38       0.00      0.00      0.00         1\n",
      "          39       0.33      0.50      0.40         2\n",
      "          40       1.00      0.75      0.86         4\n",
      "          41       0.86      0.67      0.75         9\n",
      "          42       0.00      0.00      0.00         0\n",
      "          43       0.89      0.84      0.86      1418\n",
      "          44       1.00      0.67      0.80        42\n",
      "          46       0.20      1.00      0.33         2\n",
      "          47       0.75      0.75      0.75         8\n",
      "          48       0.98      0.84      0.90        62\n",
      "          49       0.00      0.00      0.00         1\n",
      "          50       0.75      1.00      0.86         3\n",
      "          51       0.00      0.00      0.00         1\n",
      "          52       1.00      0.64      0.78        11\n",
      "          53       0.93      0.89      0.91        76\n",
      "          54       0.50      1.00      0.67         1\n",
      "          55       0.79      0.52      0.63        21\n",
      "          56       0.93      0.75      0.83       210\n",
      "          57       0.92      0.96      0.94       844\n",
      "          58       0.81      0.96      0.88        23\n",
      "          59       0.00      0.00      0.00         0\n",
      "          60       0.67      0.71      0.69        14\n",
      "          61       0.00      0.00      0.00        11\n",
      "          62       0.73      0.72      0.72        99\n",
      "          63       0.25      0.50      0.33         4\n",
      "          64       0.96      0.85      0.90       195\n",
      "          65       0.95      0.79      0.87       233\n",
      "          66       0.80      0.81      0.80       830\n",
      "          67       0.78      0.23      0.36        30\n",
      "          68       0.87      0.93      0.90       165\n",
      "          69       0.80      1.00      0.89         4\n",
      "          70       0.14      1.00      0.25         1\n",
      "          71       1.00      1.00      1.00         3\n",
      "          72       0.00      0.00      0.00         1\n",
      "          73       1.00      1.00      1.00         2\n",
      "          74       0.83      0.64      0.72        47\n",
      "          75       1.00      0.14      0.25         7\n",
      "          76       1.00      0.90      0.95        30\n",
      "          77       0.93      0.87      0.90       572\n",
      "          78       0.00      0.00      0.00         0\n",
      "          79       0.87      0.85      0.86        46\n",
      "          80       0.00      0.00      0.00         2\n",
      "          81       0.17      0.33      0.22         3\n",
      "\n",
      "    accuracy                           0.85     10337\n",
      "   macro avg       0.64      0.59      0.58     10337\n",
      "weighted avg       0.86      0.85      0.85     10337\n",
      "\n"
     ]
    }
   ],
   "source": [
    "# SGDClassifier\n",
    "sgd=SGDClassifier(loss='hinge',class_weight='balanced')\n",
    "sgd.fit(x_train,y_train)\n",
    "pred_y=sgd.predict(x_test)\n",
    "print('accuracy score',accuracy_score(y_test,pred_y))\n",
    "print(\"confusion matrix\")\n",
    "print(confusion_matrix(y_test,pred_y))\n",
    "print('classification',classification_report(y_test,pred_y))\n",
    "# Probablity\n",
    "#print('sgd_prob',sgd.predict_proba(x_test))\n"
   ]
  },
  {
   "cell_type": "code",
   "execution_count": 94,
   "metadata": {},
   "outputs": [],
   "source": [
    "# SGD Classifier Cross Validation\n",
    "#score=cross_val_score(sgd,x_train,y_train,cv=10)\n",
    "#print('cv score',np.mean(score))"
   ]
  },
  {
   "cell_type": "code",
   "execution_count": null,
   "metadata": {},
   "outputs": [],
   "source": []
  },
  {
   "cell_type": "code",
   "execution_count": null,
   "metadata": {},
   "outputs": [],
   "source": []
  },
  {
   "cell_type": "code",
   "execution_count": 12,
   "metadata": {},
   "outputs": [
    {
     "name": "stdout",
     "output_type": "stream",
     "text": [
      "accuracy score 0.803714810873561\n",
      "confusion matrix\n",
      "[[857   1   0 ...   0   0   0]\n",
      " [  0   0   0 ...   0   0   0]\n",
      " [  0   0   0 ...   0   0   0]\n",
      " ...\n",
      " [  0   0   0 ...  26   0   0]\n",
      " [  0   0   0 ...   0   0   0]\n",
      " [  0   0   0 ...   0   0   1]]\n",
      "classification               precision    recall  f1-score   support\n",
      "\n",
      "           0       0.86      0.84      0.85      1019\n",
      "           1       0.00      0.00      0.00         0\n",
      "           3       0.00      0.00      0.00         2\n",
      "           4       0.60      0.30      0.40        10\n",
      "           5       0.00      0.00      0.00         0\n",
      "           6       0.82      0.35      0.49        40\n",
      "           7       0.61      0.83      0.70        24\n",
      "           8       0.72      0.74      0.73        53\n",
      "           9       0.74      0.57      0.64        46\n",
      "          10       0.81      0.91      0.86       194\n",
      "          11       0.79      0.44      0.57        43\n",
      "          12       0.00      0.00      0.00         1\n",
      "          14       0.00      0.00      0.00         5\n",
      "          16       0.84      0.87      0.86       227\n",
      "          17       0.75      0.88      0.81       103\n",
      "          18       0.80      0.21      0.33        19\n",
      "          19       0.79      0.76      0.78       226\n",
      "          20       0.88      0.78      0.82         9\n",
      "          21       1.00      0.83      0.91         6\n",
      "          22       0.00      0.00      0.00         3\n",
      "          23       0.47      0.54      0.50        13\n",
      "          24       0.66      0.66      0.66       108\n",
      "          25       0.64      0.56      0.60        16\n",
      "          26       0.69      0.83      0.75        42\n",
      "          27       0.72      0.54      0.62        48\n",
      "          28       0.64      0.56      0.60        16\n",
      "          29       0.78      0.78      0.78        41\n",
      "          30       0.46      0.70      0.55        23\n",
      "          31       0.84      0.94      0.89       499\n",
      "          32       0.88      0.80      0.84      1764\n",
      "          33       0.89      0.66      0.76       126\n",
      "          34       1.00      0.20      0.33         5\n",
      "          35       0.52      0.91      0.66       198\n",
      "          36       0.85      0.61      0.71       307\n",
      "          37       0.74      0.71      0.73        63\n",
      "          38       0.00      0.00      0.00         1\n",
      "          39       1.00      0.50      0.67         2\n",
      "          40       0.60      0.75      0.67         4\n",
      "          41       0.53      0.89      0.67         9\n",
      "          43       0.86      0.83      0.85      1418\n",
      "          44       0.64      0.69      0.67        42\n",
      "          46       1.00      1.00      1.00         2\n",
      "          47       0.67      0.75      0.71         8\n",
      "          48       0.80      0.95      0.87        62\n",
      "          49       0.00      0.00      0.00         1\n",
      "          50       1.00      1.00      1.00         3\n",
      "          51       0.00      0.00      0.00         1\n",
      "          52       0.70      0.64      0.67        11\n",
      "          53       0.80      0.83      0.81        76\n",
      "          54       1.00      1.00      1.00         1\n",
      "          55       0.65      0.52      0.58        21\n",
      "          56       0.84      0.67      0.75       210\n",
      "          57       0.78      0.97      0.86       844\n",
      "          58       0.83      0.87      0.85        23\n",
      "          59       0.00      0.00      0.00         0\n",
      "          60       1.00      0.64      0.78        14\n",
      "          61       0.27      0.27      0.27        11\n",
      "          62       0.60      0.75      0.67        99\n",
      "          63       0.50      0.50      0.50         4\n",
      "          64       0.82      0.88      0.85       195\n",
      "          65       0.80      0.74      0.77       233\n",
      "          66       0.78      0.69      0.73       830\n",
      "          67       0.87      0.43      0.58        30\n",
      "          68       0.78      0.79      0.78       165\n",
      "          69       1.00      1.00      1.00         4\n",
      "          70       1.00      1.00      1.00         1\n",
      "          71       1.00      0.67      0.80         3\n",
      "          72       0.00      0.00      0.00         1\n",
      "          73       0.67      1.00      0.80         2\n",
      "          74       0.60      0.72      0.65        47\n",
      "          75       0.25      0.14      0.18         7\n",
      "          76       0.77      0.80      0.79        30\n",
      "          77       0.76      0.90      0.82       572\n",
      "          79       0.70      0.57      0.63        46\n",
      "          80       0.00      0.00      0.00         2\n",
      "          81       1.00      0.33      0.50         3\n",
      "\n",
      "    accuracy                           0.80     10337\n",
      "   macro avg       0.64      0.59      0.60     10337\n",
      "weighted avg       0.81      0.80      0.80     10337\n",
      "\n",
      "cnb_prob [[1.06823022e-02 7.95689821e-03 7.94311085e-03 ... 7.67994833e-03\n",
      "  7.95254315e-03 7.94342510e-03]\n",
      " [5.90505345e-01 5.18827886e-03 5.16774221e-03 ... 5.00847705e-03\n",
      "  5.17183247e-03 5.16787851e-03]\n",
      " [5.47953924e-08 5.16774270e-08 5.15155000e-08 ... 4.63893629e-08\n",
      "  5.16583517e-08 5.15202557e-08]\n",
      " ...\n",
      " [9.45178491e-02 1.02218942e-02 1.01744324e-02 ... 1.94191196e-02\n",
      "  1.02013522e-02 1.01455840e-02]\n",
      " [1.85841533e-14 3.18294545e-14 3.15311861e-14 ... 2.28164259e-14\n",
      "  3.17942205e-14 3.15399193e-14]\n",
      " [1.16857361e-02 1.25855468e-02 1.25742668e-02 ... 1.21440910e-02\n",
      "  1.25842193e-02 1.25745985e-02]]\n"
     ]
    }
   ],
   "source": [
    "# ComplementNB\n",
    "cnb=ComplementNB()\n",
    "cnb.fit(x_train,y_train)\n",
    "pred_y=cnb.predict(x_test)\n",
    "print('accuracy score',accuracy_score(y_test,pred_y))\n",
    "print(\"confusion matrix\")\n",
    "print(confusion_matrix(y_test,pred_y))\n",
    "print('classification',classification_report(y_test,pred_y))\n",
    "# Probablity\n",
    "print('cnb_prob',cnb.predict_proba(x_test))\n"
   ]
  },
  {
   "cell_type": "code",
   "execution_count": 47,
   "metadata": {},
   "outputs": [],
   "source": [
    "# CNB Classifier Cross Validation\n",
    "#score=cross_val_score(cnb,x_train,y_train,cv=10)\n",
    "#print('cv score',np.mean(score))"
   ]
  },
  {
   "cell_type": "code",
   "execution_count": null,
   "metadata": {},
   "outputs": [],
   "source": []
  },
  {
   "cell_type": "code",
   "execution_count": null,
   "metadata": {},
   "outputs": [],
   "source": []
  },
  {
   "cell_type": "code",
   "execution_count": 48,
   "metadata": {},
   "outputs": [],
   "source": [
    "# Extra Trees Classifier\n",
    "#etc=ExtraTreesClassifier()\n",
    "#etc.fit(x_train,y_train)\n",
    "#pred_y=etc.predict(x_test)\n",
    "#print('accuracy score',accuracy_score(y_test,pred_y))\n",
    "#print(\"confusion matrix\")\n",
    "#print(confusion_matrix(y_test,pred_y))\n",
    "#print('classification',classification_report(y_test,pred_y))\n",
    "# Probablity\n",
    "#print('etc_prob',etc.predict_proba(x_test))"
   ]
  },
  {
   "cell_type": "code",
   "execution_count": null,
   "metadata": {},
   "outputs": [],
   "source": []
  },
  {
   "cell_type": "code",
   "execution_count": null,
   "metadata": {},
   "outputs": [],
   "source": []
  },
  {
   "cell_type": "code",
   "execution_count": 13,
   "metadata": {},
   "outputs": [
    {
     "name": "stdout",
     "output_type": "stream",
     "text": [
      "accuracy score 0.7636645061429815\n",
      "confusion matrix\n",
      "[[799   0   0 ...   0   0   0]\n",
      " [  0   0   0 ...   0   0   0]\n",
      " [  0   0   3 ...   0   0   0]\n",
      " ...\n",
      " [  0   0   0 ...  15   0   0]\n",
      " [  0   0   0 ...   0   0   0]\n",
      " [  1   0   0 ...   0   0   0]]\n",
      "classification               precision    recall  f1-score   support\n",
      "\n",
      "           0       0.92      0.78      0.85      1019\n",
      "           3       0.00      0.00      0.00         2\n",
      "           4       0.60      0.30      0.40        10\n",
      "           6       1.00      0.05      0.10        40\n",
      "           7       1.00      0.42      0.59        24\n",
      "           8       1.00      0.32      0.49        53\n",
      "           9       1.00      0.24      0.39        46\n",
      "          10       0.94      0.75      0.84       194\n",
      "          11       1.00      0.14      0.24        43\n",
      "          12       0.00      0.00      0.00         1\n",
      "          14       0.00      0.00      0.00         5\n",
      "          16       0.95      0.79      0.86       227\n",
      "          17       0.97      0.81      0.88       103\n",
      "          18       1.00      0.16      0.27        19\n",
      "          19       0.91      0.60      0.72       226\n",
      "          20       1.00      0.33      0.50         9\n",
      "          21       1.00      0.67      0.80         6\n",
      "          22       0.00      0.00      0.00         3\n",
      "          23       0.43      0.23      0.30        13\n",
      "          24       0.85      0.38      0.53       108\n",
      "          25       1.00      0.25      0.40        16\n",
      "          26       0.96      0.62      0.75        42\n",
      "          27       1.00      0.23      0.37        48\n",
      "          28       1.00      0.50      0.67        16\n",
      "          29       0.95      0.46      0.62        41\n",
      "          30       1.00      0.17      0.30        23\n",
      "          31       0.91      0.91      0.91       499\n",
      "          32       0.69      0.91      0.79      1764\n",
      "          33       0.98      0.44      0.60       126\n",
      "          34       0.00      0.00      0.00         5\n",
      "          35       0.58      0.83      0.68       198\n",
      "          36       0.95      0.35      0.51       307\n",
      "          37       0.97      0.57      0.72        63\n",
      "          38       0.00      0.00      0.00         1\n",
      "          39       0.00      0.00      0.00         2\n",
      "          40       1.00      0.25      0.40         4\n",
      "          41       1.00      0.33      0.50         9\n",
      "          43       0.72      0.89      0.80      1418\n",
      "          44       1.00      0.50      0.67        42\n",
      "          46       1.00      1.00      1.00         2\n",
      "          47       0.60      0.38      0.46         8\n",
      "          48       0.91      0.69      0.79        62\n",
      "          49       0.00      0.00      0.00         1\n",
      "          50       0.00      0.00      0.00         3\n",
      "          51       0.00      0.00      0.00         1\n",
      "          52       1.00      0.18      0.31        11\n",
      "          53       0.96      0.68      0.80        76\n",
      "          54       0.00      0.00      0.00         1\n",
      "          55       1.00      0.14      0.25        21\n",
      "          56       0.95      0.53      0.68       210\n",
      "          57       0.65      0.96      0.77       844\n",
      "          58       1.00      0.26      0.41        23\n",
      "          60       1.00      0.07      0.13        14\n",
      "          61       0.00      0.00      0.00        11\n",
      "          62       0.91      0.48      0.63        99\n",
      "          63       0.00      0.00      0.00         4\n",
      "          64       0.96      0.73      0.83       195\n",
      "          65       0.91      0.63      0.75       233\n",
      "          66       0.74      0.75      0.74       830\n",
      "          67       1.00      0.17      0.29        30\n",
      "          68       0.81      0.63      0.71       165\n",
      "          69       1.00      0.25      0.40         4\n",
      "          70       0.00      0.00      0.00         1\n",
      "          71       0.00      0.00      0.00         3\n",
      "          72       0.00      0.00      0.00         1\n",
      "          73       0.00      0.00      0.00         2\n",
      "          74       0.88      0.32      0.47        47\n",
      "          75       1.00      0.14      0.25         7\n",
      "          76       1.00      0.50      0.67        30\n",
      "          77       0.71      0.89      0.79       572\n",
      "          79       0.94      0.33      0.48        46\n",
      "          80       0.00      0.00      0.00         2\n",
      "          81       0.00      0.00      0.00         3\n",
      "\n",
      "    accuracy                           0.76     10337\n",
      "   macro avg       0.67      0.35      0.43     10337\n",
      "weighted avg       0.80      0.76      0.75     10337\n",
      "\n",
      "mnb_prob [[2.93325561e-06 5.70077254e-15 1.89123097e-15 ... 2.35820808e-10\n",
      "  9.49596544e-16 1.89149578e-15]\n",
      " [9.99924146e-01 6.88281600e-15 3.81166798e-16 ... 1.45136536e-12\n",
      "  1.91117930e-16 3.81202377e-16]\n",
      " [1.32444791e-11 1.05339013e-17 1.04175160e-17 ... 2.63421647e-15\n",
      "  5.26006926e-18 1.04209198e-17]\n",
      " ...\n",
      " [2.55179906e-07 6.25014757e-27 9.02729781e-28 ... 2.71081770e-16\n",
      "  1.15398114e-28 4.51702054e-28]\n",
      " [2.69729164e-27 2.00895932e-32 1.94310351e-32 ... 5.59376982e-30\n",
      "  1.00054767e-32 1.94500879e-32]\n",
      " [1.10043136e-01 1.79628076e-04 1.79058782e-04 ... 6.81800501e-03\n",
      "  8.97804953e-05 1.79075496e-04]]\n"
     ]
    }
   ],
   "source": [
    "# MultinomialNB\n",
    "mnb=MultinomialNB()\n",
    "mnb.fit(x_train,y_train)\n",
    "pred_y=mnb.predict(x_test)\n",
    "print('accuracy score',accuracy_score(y_test,pred_y))\n",
    "print(\"confusion matrix\")\n",
    "print(confusion_matrix(y_test,pred_y))\n",
    "print('classification',classification_report(y_test,pred_y))\n",
    "mnb.predict_proba(x_test)\n",
    "# Probablity\n",
    "print('mnb_prob',mnb.predict_proba(x_test))"
   ]
  },
  {
   "cell_type": "code",
   "execution_count": 50,
   "metadata": {},
   "outputs": [],
   "source": [
    "#print(\"\\t###### Building  Model ######\\t\\n\")    \n",
    "#nbayes = MultinomialNB()\n",
    "#nbayes.fit(train_x,train_y)\n",
    "#from sklearn.ensemble import RandomForestClassifier\n",
    "\n",
    "#pred=nbayes.predict(test_x)\n",
    "#accuracy_score(pred,test_y)"
   ]
  },
  {
   "cell_type": "markdown",
   "metadata": {},
   "source": [
    "# Loading the Test Data"
   ]
  },
  {
   "cell_type": "code",
   "execution_count": 14,
   "metadata": {},
   "outputs": [],
   "source": [
    "test_data = pd.read_excel('Mortein train data ECOM(New).xlsx',sheet_name=\"Test1\")\n",
    "\n",
    "test_data1 = test_data['Review']"
   ]
  },
  {
   "cell_type": "code",
   "execution_count": 15,
   "metadata": {},
   "outputs": [
    {
     "data": {
      "text/plain": [
       "Index(['ID', 'Review'], dtype='object')"
      ]
     },
     "execution_count": 15,
     "metadata": {},
     "output_type": "execute_result"
    }
   ],
   "source": [
    "test_data.columns"
   ]
  },
  {
   "cell_type": "code",
   "execution_count": 16,
   "metadata": {},
   "outputs": [
    {
     "data": {
      "text/html": [
       "<div>\n",
       "<style scoped>\n",
       "    .dataframe tbody tr th:only-of-type {\n",
       "        vertical-align: middle;\n",
       "    }\n",
       "\n",
       "    .dataframe tbody tr th {\n",
       "        vertical-align: top;\n",
       "    }\n",
       "\n",
       "    .dataframe thead th {\n",
       "        text-align: right;\n",
       "    }\n",
       "</style>\n",
       "<table border=\"1\" class=\"dataframe\">\n",
       "  <thead>\n",
       "    <tr style=\"text-align: right;\">\n",
       "      <th></th>\n",
       "      <th>ID</th>\n",
       "      <th>Review</th>\n",
       "    </tr>\n",
       "  </thead>\n",
       "  <tbody>\n",
       "    <tr>\n",
       "      <th>0</th>\n",
       "      <td>1</td>\n",
       "      <td>It is superb. Thenks Amazon.</td>\n",
       "    </tr>\n",
       "    <tr>\n",
       "      <th>1</th>\n",
       "      <td>2</td>\n",
       "      <td>Not good</td>\n",
       "    </tr>\n",
       "    <tr>\n",
       "      <th>2</th>\n",
       "      <td>3</td>\n",
       "      <td>They are selling scented oils. Mosquitoes is r...</td>\n",
       "    </tr>\n",
       "    <tr>\n",
       "      <th>3</th>\n",
       "      <td>4</td>\n",
       "      <td>They are selling scented oils. Mosquitoes is r...</td>\n",
       "    </tr>\n",
       "    <tr>\n",
       "      <th>4</th>\n",
       "      <td>5</td>\n",
       "      <td>Poor quality low quality feak</td>\n",
       "    </tr>\n",
       "    <tr>\n",
       "      <th>...</th>\n",
       "      <td>...</td>\n",
       "      <td>...</td>\n",
       "    </tr>\n",
       "    <tr>\n",
       "      <th>993</th>\n",
       "      <td>994</td>\n",
       "      <td>Mice haven't touched the wrapped inner packet....</td>\n",
       "    </tr>\n",
       "    <tr>\n",
       "      <th>994</th>\n",
       "      <td>995</td>\n",
       "      <td>Never touch a mouse again!</td>\n",
       "    </tr>\n",
       "    <tr>\n",
       "      <th>995</th>\n",
       "      <td>996</td>\n",
       "      <td>(PT) Gostei muito,produto muito bom,preço exce...</td>\n",
       "    </tr>\n",
       "    <tr>\n",
       "      <th>996</th>\n",
       "      <td>997</td>\n",
       "      <td>Works great</td>\n",
       "    </tr>\n",
       "    <tr>\n",
       "      <th>997</th>\n",
       "      <td>998</td>\n",
       "      <td>Works great</td>\n",
       "    </tr>\n",
       "  </tbody>\n",
       "</table>\n",
       "<p>998 rows × 2 columns</p>\n",
       "</div>"
      ],
      "text/plain": [
       "      ID                                             Review\n",
       "0      1                       It is superb. Thenks Amazon.\n",
       "1      2                                           Not good\n",
       "2      3  They are selling scented oils. Mosquitoes is r...\n",
       "3      4  They are selling scented oils. Mosquitoes is r...\n",
       "4      5                      Poor quality low quality feak\n",
       "..   ...                                                ...\n",
       "993  994  Mice haven't touched the wrapped inner packet....\n",
       "994  995                         Never touch a mouse again!\n",
       "995  996  (PT) Gostei muito,produto muito bom,preço exce...\n",
       "996  997                                        Works great\n",
       "997  998                                        Works great\n",
       "\n",
       "[998 rows x 2 columns]"
      ]
     },
     "execution_count": 16,
     "metadata": {},
     "output_type": "execute_result"
    }
   ],
   "source": [
    "test_data"
   ]
  },
  {
   "cell_type": "markdown",
   "metadata": {},
   "source": [
    "# Prediction on Test Data(Best Model)"
   ]
  },
  {
   "cell_type": "code",
   "execution_count": 17,
   "metadata": {},
   "outputs": [
    {
     "name": "stdout",
     "output_type": "stream",
     "text": [
      "\t###### Converting Text to Feature Vector ######\t\n",
      "\n"
     ]
    }
   ],
   "source": [
    "print(\"\\t###### Converting Text to Feature Vector ######\\t\\n\")\n",
    "test_prediction = cv.transform(str(i) for i in test_data1)"
   ]
  },
  {
   "cell_type": "code",
   "execution_count": 18,
   "metadata": {},
   "outputs": [
    {
     "name": "stdout",
     "output_type": "stream",
     "text": [
      "\t###### Predicting SMS Text ######\t\n",
      "\n"
     ]
    }
   ],
   "source": [
    "# Prediction on best Model\n",
    "print(\"\\t###### Predicting SMS Text ######\\t\\n\")\n",
    "test_prediction = sgd.predict(test_prediction)"
   ]
  },
  {
   "cell_type": "code",
   "execution_count": 19,
   "metadata": {},
   "outputs": [],
   "source": [
    "predict_labels = pd.Series(lb_make.inverse_transform(test_prediction))"
   ]
  },
  {
   "cell_type": "code",
   "execution_count": 20,
   "metadata": {},
   "outputs": [],
   "source": [
    "#output1=output1.drop(['Level1_x'], axis = 1)"
   ]
  },
  {
   "cell_type": "code",
   "execution_count": 21,
   "metadata": {},
   "outputs": [],
   "source": [
    "output1 = pd.DataFrame({'ID':test_data['ID'], 'Text1':test_data['Review'],\n",
    "                       'Level3':predict_labels})\n",
    "\n",
    "#output.to_excel('Lysol_p.xlsx',index=False)"
   ]
  },
  {
   "cell_type": "code",
   "execution_count": 22,
   "metadata": {},
   "outputs": [
    {
     "name": "stdout",
     "output_type": "stream",
     "text": [
      "<class 'pandas.core.frame.DataFrame'>\n",
      "RangeIndex: 998 entries, 0 to 997\n",
      "Data columns (total 3 columns):\n",
      " #   Column  Non-Null Count  Dtype \n",
      "---  ------  --------------  ----- \n",
      " 0   ID      998 non-null    int64 \n",
      " 1   Text1   998 non-null    object\n",
      " 2   Level3  998 non-null    object\n",
      "dtypes: int64(1), object(2)\n",
      "memory usage: 23.5+ KB\n"
     ]
    }
   ],
   "source": [
    "\n",
    "output1.info()"
   ]
  },
  {
   "cell_type": "markdown",
   "metadata": {},
   "source": [
    "# Leveling the Data"
   ]
  },
  {
   "cell_type": "code",
   "execution_count": 23,
   "metadata": {},
   "outputs": [],
   "source": [
    "test1 = pd.read_excel('Mortein train data ECOM(New).xlsx',sheet_name=\"t3\")"
   ]
  },
  {
   "cell_type": "code",
   "execution_count": 24,
   "metadata": {},
   "outputs": [],
   "source": [
    "#test1"
   ]
  },
  {
   "cell_type": "code",
   "execution_count": 25,
   "metadata": {},
   "outputs": [
    {
     "data": {
      "text/plain": [
       "Index(['Level1', 'Level2', 'Level3'], dtype='object')"
      ]
     },
     "execution_count": 25,
     "metadata": {},
     "output_type": "execute_result"
    }
   ],
   "source": [
    "test1.columns"
   ]
  },
  {
   "cell_type": "code",
   "execution_count": 26,
   "metadata": {},
   "outputs": [],
   "source": [
    "output1=pd.merge(output1,test1,on='Level3',how='left')\n"
   ]
  },
  {
   "cell_type": "code",
   "execution_count": 27,
   "metadata": {},
   "outputs": [
    {
     "name": "stdout",
     "output_type": "stream",
     "text": [
      "<class 'pandas.core.frame.DataFrame'>\n",
      "Int64Index: 998 entries, 0 to 997\n",
      "Data columns (total 5 columns):\n",
      " #   Column  Non-Null Count  Dtype \n",
      "---  ------  --------------  ----- \n",
      " 0   ID      998 non-null    int64 \n",
      " 1   Text1   998 non-null    object\n",
      " 2   Level3  998 non-null    object\n",
      " 3   Level1  981 non-null    object\n",
      " 4   Level2  981 non-null    object\n",
      "dtypes: int64(1), object(4)\n",
      "memory usage: 46.8+ KB\n"
     ]
    }
   ],
   "source": [
    "output1.info()"
   ]
  },
  {
   "cell_type": "code",
   "execution_count": 28,
   "metadata": {},
   "outputs": [
    {
     "data": {
      "text/html": [
       "<div>\n",
       "<style scoped>\n",
       "    .dataframe tbody tr th:only-of-type {\n",
       "        vertical-align: middle;\n",
       "    }\n",
       "\n",
       "    .dataframe tbody tr th {\n",
       "        vertical-align: top;\n",
       "    }\n",
       "\n",
       "    .dataframe thead th {\n",
       "        text-align: right;\n",
       "    }\n",
       "</style>\n",
       "<table border=\"1\" class=\"dataframe\">\n",
       "  <thead>\n",
       "    <tr style=\"text-align: right;\">\n",
       "      <th>col_0</th>\n",
       "      <th>count</th>\n",
       "    </tr>\n",
       "    <tr>\n",
       "      <th>Level3</th>\n",
       "      <th></th>\n",
       "    </tr>\n",
       "  </thead>\n",
       "  <tbody>\n",
       "    <tr>\n",
       "      <th>1 Word Positive Feedback</th>\n",
       "      <td>111</td>\n",
       "    </tr>\n",
       "    <tr>\n",
       "      <th>1 word Positive Feedback</th>\n",
       "      <td>1</td>\n",
       "    </tr>\n",
       "    <tr>\n",
       "      <th>Appreciate Consistency</th>\n",
       "      <td>1</td>\n",
       "    </tr>\n",
       "    <tr>\n",
       "      <th>Appreciate Delivery</th>\n",
       "      <td>10</td>\n",
       "    </tr>\n",
       "    <tr>\n",
       "      <th>Appreciate Durability</th>\n",
       "      <td>2</td>\n",
       "    </tr>\n",
       "    <tr>\n",
       "      <th>Appreciate Packaging</th>\n",
       "      <td>6</td>\n",
       "    </tr>\n",
       "    <tr>\n",
       "      <th>Appreciate Quality</th>\n",
       "      <td>6</td>\n",
       "    </tr>\n",
       "    <tr>\n",
       "      <th>Choking</th>\n",
       "      <td>3</td>\n",
       "    </tr>\n",
       "    <tr>\n",
       "      <th>Claims of Counterfeit Product</th>\n",
       "      <td>8</td>\n",
       "    </tr>\n",
       "    <tr>\n",
       "      <th>Damaged/Broken</th>\n",
       "      <td>3</td>\n",
       "    </tr>\n",
       "    <tr>\n",
       "      <th>Defective Product</th>\n",
       "      <td>5</td>\n",
       "    </tr>\n",
       "    <tr>\n",
       "      <th>Delivery Man</th>\n",
       "      <td>2</td>\n",
       "    </tr>\n",
       "    <tr>\n",
       "      <th>Delivery Service Issue</th>\n",
       "      <td>5</td>\n",
       "    </tr>\n",
       "    <tr>\n",
       "      <th>Difficult to Set/Use</th>\n",
       "      <td>4</td>\n",
       "    </tr>\n",
       "    <tr>\n",
       "      <th>Dislike Design</th>\n",
       "      <td>2</td>\n",
       "    </tr>\n",
       "    <tr>\n",
       "      <th>Dislike Packaging</th>\n",
       "      <td>1</td>\n",
       "    </tr>\n",
       "    <tr>\n",
       "      <th>Dislike Stickiness</th>\n",
       "      <td>1</td>\n",
       "    </tr>\n",
       "    <tr>\n",
       "      <th>Easy to Set/Use</th>\n",
       "      <td>18</td>\n",
       "    </tr>\n",
       "    <tr>\n",
       "      <th>Effective in Repelling/Killing</th>\n",
       "      <td>101</td>\n",
       "    </tr>\n",
       "    <tr>\n",
       "      <th>Expensive</th>\n",
       "      <td>3</td>\n",
       "    </tr>\n",
       "    <tr>\n",
       "      <th>General Comments</th>\n",
       "      <td>311</td>\n",
       "    </tr>\n",
       "    <tr>\n",
       "      <th>General Complaints</th>\n",
       "      <td>32</td>\n",
       "    </tr>\n",
       "    <tr>\n",
       "      <th>Human Harm</th>\n",
       "      <td>2</td>\n",
       "    </tr>\n",
       "    <tr>\n",
       "      <th>Hurting</th>\n",
       "      <td>2</td>\n",
       "    </tr>\n",
       "    <tr>\n",
       "      <th>Ineffective in Repelling/Killing</th>\n",
       "      <td>62</td>\n",
       "    </tr>\n",
       "    <tr>\n",
       "      <th>Itching</th>\n",
       "      <td>1</td>\n",
       "    </tr>\n",
       "    <tr>\n",
       "      <th>Leaked Product</th>\n",
       "      <td>3</td>\n",
       "    </tr>\n",
       "    <tr>\n",
       "      <th>Missing Product</th>\n",
       "      <td>3</td>\n",
       "    </tr>\n",
       "    <tr>\n",
       "      <th>Non-Durable</th>\n",
       "      <td>8</td>\n",
       "    </tr>\n",
       "    <tr>\n",
       "      <th>Not/Stopped Working</th>\n",
       "      <td>6</td>\n",
       "    </tr>\n",
       "    <tr>\n",
       "      <th>Open/Unsealed Product</th>\n",
       "      <td>1</td>\n",
       "    </tr>\n",
       "    <tr>\n",
       "      <th>Opened/Unsealed Product</th>\n",
       "      <td>1</td>\n",
       "    </tr>\n",
       "    <tr>\n",
       "      <th>Pleasant Fragrance</th>\n",
       "      <td>1</td>\n",
       "    </tr>\n",
       "    <tr>\n",
       "      <th>Poison</th>\n",
       "      <td>2</td>\n",
       "    </tr>\n",
       "    <tr>\n",
       "      <th>Poor Battery Life</th>\n",
       "      <td>1</td>\n",
       "    </tr>\n",
       "    <tr>\n",
       "      <th>Poor Quality</th>\n",
       "      <td>1</td>\n",
       "    </tr>\n",
       "    <tr>\n",
       "      <th>Product Appreciation</th>\n",
       "      <td>115</td>\n",
       "    </tr>\n",
       "    <tr>\n",
       "      <th>Product/Usage Enquiry</th>\n",
       "      <td>6</td>\n",
       "    </tr>\n",
       "    <tr>\n",
       "      <th>Quick Delivery</th>\n",
       "      <td>51</td>\n",
       "    </tr>\n",
       "    <tr>\n",
       "      <th>Sick</th>\n",
       "      <td>1</td>\n",
       "    </tr>\n",
       "    <tr>\n",
       "      <th>Spark</th>\n",
       "      <td>5</td>\n",
       "    </tr>\n",
       "    <tr>\n",
       "      <th>Strong Smell</th>\n",
       "      <td>11</td>\n",
       "    </tr>\n",
       "    <tr>\n",
       "      <th>Usage Suggestion</th>\n",
       "      <td>1</td>\n",
       "    </tr>\n",
       "    <tr>\n",
       "      <th>Value for Money</th>\n",
       "      <td>76</td>\n",
       "    </tr>\n",
       "    <tr>\n",
       "      <th>Weak/No Smell</th>\n",
       "      <td>1</td>\n",
       "    </tr>\n",
       "    <tr>\n",
       "      <th>Wrong Delivery</th>\n",
       "      <td>1</td>\n",
       "    </tr>\n",
       "  </tbody>\n",
       "</table>\n",
       "</div>"
      ],
      "text/plain": [
       "col_0                             count\n",
       "Level3                                 \n",
       "1 Word Positive Feedback            111\n",
       "1 word Positive Feedback              1\n",
       "Appreciate Consistency                1\n",
       "Appreciate Delivery                  10\n",
       "Appreciate Durability                 2\n",
       "Appreciate Packaging                  6\n",
       "Appreciate Quality                    6\n",
       "Choking                               3\n",
       "Claims of Counterfeit Product         8\n",
       "Damaged/Broken                        3\n",
       "Defective Product                     5\n",
       "Delivery Man                          2\n",
       "Delivery Service Issue                5\n",
       "Difficult to Set/Use                  4\n",
       "Dislike Design                        2\n",
       "Dislike Packaging                     1\n",
       "Dislike Stickiness                    1\n",
       "Easy to Set/Use                      18\n",
       "Effective in Repelling/Killing      101\n",
       "Expensive                             3\n",
       "General Comments                    311\n",
       "General Complaints                   32\n",
       "Human Harm                            2\n",
       "Hurting                               2\n",
       "Ineffective in Repelling/Killing     62\n",
       "Itching                               1\n",
       "Leaked Product                        3\n",
       "Missing Product                       3\n",
       "Non-Durable                           8\n",
       "Not/Stopped Working                   6\n",
       "Open/Unsealed Product                 1\n",
       "Opened/Unsealed Product               1\n",
       "Pleasant Fragrance                    1\n",
       "Poison                                2\n",
       "Poor Battery Life                     1\n",
       "Poor Quality                          1\n",
       "Product Appreciation                115\n",
       "Product/Usage Enquiry                 6\n",
       "Quick Delivery                       51\n",
       "Sick                                  1\n",
       "Spark                                 5\n",
       "Strong Smell                         11\n",
       "Usage Suggestion                      1\n",
       "Value for Money                      76\n",
       "Weak/No Smell                         1\n",
       "Wrong Delivery                        1"
      ]
     },
     "execution_count": 28,
     "metadata": {},
     "output_type": "execute_result"
    }
   ],
   "source": [
    "pd.crosstab(index=output1[\"Level3\"],columns=\"count\") "
   ]
  },
  {
   "cell_type": "code",
   "execution_count": 29,
   "metadata": {},
   "outputs": [
    {
     "data": {
      "text/html": [
       "<div>\n",
       "<style scoped>\n",
       "    .dataframe tbody tr th:only-of-type {\n",
       "        vertical-align: middle;\n",
       "    }\n",
       "\n",
       "    .dataframe tbody tr th {\n",
       "        vertical-align: top;\n",
       "    }\n",
       "\n",
       "    .dataframe thead th {\n",
       "        text-align: right;\n",
       "    }\n",
       "</style>\n",
       "<table border=\"1\" class=\"dataframe\">\n",
       "  <thead>\n",
       "    <tr style=\"text-align: right;\">\n",
       "      <th></th>\n",
       "      <th>ID</th>\n",
       "      <th>Text1</th>\n",
       "      <th>Level3</th>\n",
       "      <th>Level1</th>\n",
       "      <th>Level2</th>\n",
       "    </tr>\n",
       "  </thead>\n",
       "  <tbody>\n",
       "    <tr>\n",
       "      <th>0</th>\n",
       "      <td>1</td>\n",
       "      <td>It is superb. Thenks Amazon.</td>\n",
       "      <td>1 Word Positive Feedback</td>\n",
       "      <td>Product Perception</td>\n",
       "      <td>1 Word Positive Feedback</td>\n",
       "    </tr>\n",
       "    <tr>\n",
       "      <th>1</th>\n",
       "      <td>2</td>\n",
       "      <td>Not good</td>\n",
       "      <td>1 Word Positive Feedback</td>\n",
       "      <td>Product Perception</td>\n",
       "      <td>1 Word Positive Feedback</td>\n",
       "    </tr>\n",
       "    <tr>\n",
       "      <th>2</th>\n",
       "      <td>3</td>\n",
       "      <td>They are selling scented oils. Mosquitoes is r...</td>\n",
       "      <td>Claims of Counterfeit Product</td>\n",
       "      <td>Product Perception</td>\n",
       "      <td>Claims of Counterfeit Product</td>\n",
       "    </tr>\n",
       "    <tr>\n",
       "      <th>3</th>\n",
       "      <td>4</td>\n",
       "      <td>They are selling scented oils. Mosquitoes is r...</td>\n",
       "      <td>Claims of Counterfeit Product</td>\n",
       "      <td>Product Perception</td>\n",
       "      <td>Claims of Counterfeit Product</td>\n",
       "    </tr>\n",
       "    <tr>\n",
       "      <th>4</th>\n",
       "      <td>5</td>\n",
       "      <td>Poor quality low quality feak</td>\n",
       "      <td>Poor Quality</td>\n",
       "      <td>Manufacturing &amp; Design</td>\n",
       "      <td>Defective/ Non-Durable/ Poor Quality Product</td>\n",
       "    </tr>\n",
       "    <tr>\n",
       "      <th>...</th>\n",
       "      <td>...</td>\n",
       "      <td>...</td>\n",
       "      <td>...</td>\n",
       "      <td>...</td>\n",
       "      <td>...</td>\n",
       "    </tr>\n",
       "    <tr>\n",
       "      <th>993</th>\n",
       "      <td>994</td>\n",
       "      <td>Mice haven't touched the wrapped inner packet....</td>\n",
       "      <td>Ineffective in Repelling/Killing</td>\n",
       "      <td>Functionality</td>\n",
       "      <td>Ineffective in Repelling/Killing</td>\n",
       "    </tr>\n",
       "    <tr>\n",
       "      <th>994</th>\n",
       "      <td>995</td>\n",
       "      <td>Never touch a mouse again!</td>\n",
       "      <td>Ineffective in Repelling/Killing</td>\n",
       "      <td>Functionality</td>\n",
       "      <td>Ineffective in Repelling/Killing</td>\n",
       "    </tr>\n",
       "    <tr>\n",
       "      <th>995</th>\n",
       "      <td>996</td>\n",
       "      <td>(PT) Gostei muito,produto muito bom,preço exce...</td>\n",
       "      <td>Value for Money</td>\n",
       "      <td>Pricing</td>\n",
       "      <td>Value for Money</td>\n",
       "    </tr>\n",
       "    <tr>\n",
       "      <th>996</th>\n",
       "      <td>997</td>\n",
       "      <td>Works great</td>\n",
       "      <td>1 Word Positive Feedback</td>\n",
       "      <td>Product Perception</td>\n",
       "      <td>1 Word Positive Feedback</td>\n",
       "    </tr>\n",
       "    <tr>\n",
       "      <th>997</th>\n",
       "      <td>998</td>\n",
       "      <td>Works great</td>\n",
       "      <td>1 Word Positive Feedback</td>\n",
       "      <td>Product Perception</td>\n",
       "      <td>1 Word Positive Feedback</td>\n",
       "    </tr>\n",
       "  </tbody>\n",
       "</table>\n",
       "<p>998 rows × 5 columns</p>\n",
       "</div>"
      ],
      "text/plain": [
       "      ID                                              Text1  \\\n",
       "0      1                       It is superb. Thenks Amazon.   \n",
       "1      2                                           Not good   \n",
       "2      3  They are selling scented oils. Mosquitoes is r...   \n",
       "3      4  They are selling scented oils. Mosquitoes is r...   \n",
       "4      5                      Poor quality low quality feak   \n",
       "..   ...                                                ...   \n",
       "993  994  Mice haven't touched the wrapped inner packet....   \n",
       "994  995                         Never touch a mouse again!   \n",
       "995  996  (PT) Gostei muito,produto muito bom,preço exce...   \n",
       "996  997                                        Works great   \n",
       "997  998                                        Works great   \n",
       "\n",
       "                               Level3                  Level1  \\\n",
       "0            1 Word Positive Feedback      Product Perception   \n",
       "1            1 Word Positive Feedback      Product Perception   \n",
       "2       Claims of Counterfeit Product      Product Perception   \n",
       "3       Claims of Counterfeit Product      Product Perception   \n",
       "4                        Poor Quality  Manufacturing & Design   \n",
       "..                                ...                     ...   \n",
       "993  Ineffective in Repelling/Killing           Functionality   \n",
       "994  Ineffective in Repelling/Killing           Functionality   \n",
       "995                   Value for Money                 Pricing   \n",
       "996          1 Word Positive Feedback      Product Perception   \n",
       "997          1 Word Positive Feedback      Product Perception   \n",
       "\n",
       "                                           Level2  \n",
       "0                        1 Word Positive Feedback  \n",
       "1                        1 Word Positive Feedback  \n",
       "2                   Claims of Counterfeit Product  \n",
       "3                   Claims of Counterfeit Product  \n",
       "4    Defective/ Non-Durable/ Poor Quality Product  \n",
       "..                                            ...  \n",
       "993              Ineffective in Repelling/Killing  \n",
       "994              Ineffective in Repelling/Killing  \n",
       "995                               Value for Money  \n",
       "996                      1 Word Positive Feedback  \n",
       "997                      1 Word Positive Feedback  \n",
       "\n",
       "[998 rows x 5 columns]"
      ]
     },
     "execution_count": 29,
     "metadata": {},
     "output_type": "execute_result"
    }
   ],
   "source": [
    "output1"
   ]
  },
  {
   "cell_type": "code",
   "execution_count": null,
   "metadata": {},
   "outputs": [],
   "source": []
  },
  {
   "cell_type": "markdown",
   "metadata": {},
   "source": [
    "# Saving the  model"
   ]
  },
  {
   "cell_type": "code",
   "execution_count": 30,
   "metadata": {},
   "outputs": [],
   "source": [
    "writer = pd.ExcelWriter(r'Mortein clare sgd may.xlsx', engine='xlsxwriter',options={'strings_to_urls': False})\n",
    "output1.to_excel(writer)\n",
    "writer.close()"
   ]
  },
  {
   "cell_type": "code",
   "execution_count": null,
   "metadata": {},
   "outputs": [],
   "source": [
    "import googletrans\n",
    "print(googletrans.LANGUAGES)"
   ]
  },
  {
   "cell_type": "code",
   "execution_count": null,
   "metadata": {},
   "outputs": [],
   "source": []
  }
 ],
 "metadata": {
  "kernelspec": {
   "display_name": "Python 3 (ipykernel)",
   "language": "python",
   "name": "python3"
  },
  "language_info": {
   "codemirror_mode": {
    "name": "ipython",
    "version": 3
   },
   "file_extension": ".py",
   "mimetype": "text/x-python",
   "name": "python",
   "nbconvert_exporter": "python",
   "pygments_lexer": "ipython3",
   "version": "3.9.12"
  }
 },
 "nbformat": 4,
 "nbformat_minor": 4
}
