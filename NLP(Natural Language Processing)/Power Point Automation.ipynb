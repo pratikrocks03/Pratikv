{
 "cells": [
  {
   "cell_type": "markdown",
   "id": "be2f877a",
   "metadata": {},
   "source": [
    "# 1"
   ]
  },
  {
   "cell_type": "markdown",
   "id": "8239e950",
   "metadata": {},
   "source": [
    "# Importing Necessary Libraries"
   ]
  },
  {
   "cell_type": "code",
   "execution_count": 1,
   "id": "670dca3e",
   "metadata": {},
   "outputs": [],
   "source": [
    "from pptx import Presentation\n",
    "from pptx.util import Inches, Pt\n",
    "from pptx.enum.text import PP_ALIGN"
   ]
  },
  {
   "cell_type": "markdown",
   "id": "c861d54f",
   "metadata": {},
   "source": [
    "# Creating Presentation"
   ]
  },
  {
   "cell_type": "code",
   "execution_count": 2,
   "id": "0ddee833",
   "metadata": {},
   "outputs": [],
   "source": [
    "prs = Presentation()"
   ]
  },
  {
   "cell_type": "markdown",
   "id": "64c3c5ba",
   "metadata": {},
   "source": [
    "# Adding Slides"
   ]
  },
  {
   "cell_type": "code",
   "execution_count": 3,
   "id": "994ff616",
   "metadata": {},
   "outputs": [],
   "source": [
    "title_slide_layout = prs.slide_layouts[0]\n",
    "slide = prs.slides.add_slide(title_slide_layout)"
   ]
  },
  {
   "cell_type": "markdown",
   "id": "2e8dc0f9",
   "metadata": {},
   "source": [
    "# Adding Content (Customize, Modification)"
   ]
  },
  {
   "cell_type": "code",
   "execution_count": 6,
   "id": "ed33af0b",
   "metadata": {},
   "outputs": [
    {
     "data": {
      "text/plain": [
       "<pptx.shapes.picture.Picture at 0x2595cb93310>"
      ]
     },
     "execution_count": 6,
     "metadata": {},
     "output_type": "execute_result"
    }
   ],
   "source": [
    "title_slide_layout = prs.slide_layouts[0]\n",
    "slide = prs.slides.add_slide(title_slide_layout)\n",
    "\n",
    "title = slide.shapes.title\n",
    "subtitle = slide.placeholders[1]\n",
    "title.text = \"My Presentation Title\"\n",
    "subtitle.text = \"Subtitle text here\"\n",
    "  \n",
    "    # Add a text box\n",
    "left = top = width = height = Inches(2.0)\n",
    "textbox = slide.shapes.add_textbox(left, top, width, height)\n",
    "text_frame = textbox.text_frame\n",
    "p = text_frame.add_paragraph()\n",
    "p.text = \"Some text in the box\"\n",
    "p.alignment = PP_ALIGN.CENTER\n",
    "  \n",
    "    # Add an image\n",
    "left = Inches(6)\n",
    "top = Inches(2)\n",
    "height = Inches(2.5)\n",
    "slide.shapes.add_picture(\"image.jpg\", left, top, height=height)"
   ]
  },
  {
   "cell_type": "markdown",
   "id": "1cc26225",
   "metadata": {},
   "source": [
    "# Saving Presentation"
   ]
  },
  {
   "cell_type": "code",
   "execution_count": 7,
   "id": "4c6128d9",
   "metadata": {},
   "outputs": [],
   "source": [
    "prs.save(\"my_presentation.pptx\")"
   ]
  },
  {
   "cell_type": "code",
   "execution_count": null,
   "id": "b40363bd",
   "metadata": {},
   "outputs": [],
   "source": []
  },
  {
   "cell_type": "markdown",
   "id": "23ee9548",
   "metadata": {},
   "source": [
    "# 2"
   ]
  },
  {
   "cell_type": "markdown",
   "id": "bb058fd5",
   "metadata": {},
   "source": [
    "# Importing Libraries"
   ]
  },
  {
   "cell_type": "code",
   "execution_count": 8,
   "id": "c21a17f4",
   "metadata": {},
   "outputs": [],
   "source": [
    "\n",
    "import pandas as pd\n",
    "from pptx import Presentation\n",
    "from pptx.util import Inches\n",
    "from pptx.enum.text import PP_ALIGN\n"
   ]
  },
  {
   "cell_type": "markdown",
   "id": "dd072cc6",
   "metadata": {},
   "source": [
    "\n",
    "# Load the data from the Excel file"
   ]
  },
  {
   "cell_type": "code",
   "execution_count": 9,
   "id": "5e73d603",
   "metadata": {},
   "outputs": [],
   "source": [
    "\n",
    "file_path = 'Tata Harrier Reviews Tagged.xlsx'\n",
    "df = pd.read_excel(file_path, engine='openpyxl')\n"
   ]
  },
  {
   "cell_type": "markdown",
   "id": "3fac7ab1",
   "metadata": {},
   "source": [
    "\n",
    "# Create a presentation object"
   ]
  },
  {
   "cell_type": "code",
   "execution_count": 26,
   "id": "a4286522",
   "metadata": {},
   "outputs": [],
   "source": [
    "prs = Presentation()"
   ]
  },
  {
   "cell_type": "markdown",
   "id": "4c8123d2",
   "metadata": {},
   "source": [
    "\n",
    "prs = Presentation()\n"
   ]
  },
  {
   "cell_type": "code",
   "execution_count": 18,
   "id": "2e5cde25",
   "metadata": {},
   "outputs": [],
   "source": [
    "\n",
    "# Create an overview slide\n",
    "overview_slide_layout = prs.slide_layouts[1]# Title and Content layout\n",
    "overview_slide = prs.slides.add_slide(overview_slide_layout)\n",
    "title = overview_slide.shapes.title\n",
    "content = overview_slide.placeholders[1]\n",
    "\n",
    "\n",
    "title.text = \"Overview of Tata Harrier Reviews\"\n",
    "content.text = (\"This presentation provides an overview and insights from the reviews of Tata Harrier.\\n\\n\"\n",
    "                \"The data includes various aspects such as brand perception, consumer experience, engine performance, \"\n",
    "                \"exterior and interior features, pricing, quality, safety, and more.\")\n"
   ]
  },
  {
   "cell_type": "code",
   "execution_count": 19,
   "id": "28822dda",
   "metadata": {},
   "outputs": [
    {
     "data": {
      "text/plain": [
       "<pptx.shapes.picture.Picture at 0x2596e42e5b0>"
      ]
     },
     "execution_count": 19,
     "metadata": {},
     "output_type": "execute_result"
    }
   ],
   "source": [
    "\n",
    "# Add an image to the overview slide\n",
    "left = Inches(6)\n",
    "top = Inches(2)\n",
    "height = Inches(2.5)\n",
    "overview_slide.shapes.add_picture(\"Tata Harrier IMG.jpg\", left, top, height=height)\n"
   ]
  },
  {
   "cell_type": "code",
   "execution_count": 21,
   "id": "fb195ee7",
   "metadata": {},
   "outputs": [],
   "source": [
    "\n",
    "# Create an insightful slide\n",
    "insightful_slide_layout = prs.slide_layouts[1]# Title and Content layout\n",
    "insightful_slide = prs.slides.add_slide(insightful_slide_layout)\n",
    "title = insightful_slide.shapes.title\n",
    "content = insightful_slide.placeholders[1]\n"
   ]
  },
  {
   "cell_type": "code",
   "execution_count": 22,
   "id": "fddb53e7",
   "metadata": {},
   "outputs": [],
   "source": [
    "\n",
    "title.text = \"Insights from Tata Harrier Reviews\"\n",
    "\n",
    "content.text = (\"Based on the reviews, here are some key insights:\\n\\n\"\n",
    "                \"- Most reviewers appreciate the safety features of Tata Harrier.\\n\"\n",
    "                \"- The car's build quality and design are highly praised.\\n\"\n",
    "                \"- Some reviewers have reported issues with the infotainment system and clutch.\\n\"\n",
    "                \"- The car is considered value for money by many reviewers.\\n\"\n",
    "                \"- There are mixed opinions on the maintenance cost and mileage.\")\n"
   ]
  },
  {
   "cell_type": "code",
   "execution_count": 24,
   "id": "b89f4211",
   "metadata": {},
   "outputs": [
    {
     "data": {
      "text/plain": [
       "<pptx.shapes.picture.Picture at 0x2595cb93ca0>"
      ]
     },
     "execution_count": 24,
     "metadata": {},
     "output_type": "execute_result"
    }
   ],
   "source": [
    "\n",
    "# Add an image to the insightful slide\n",
    "left = Inches(6)\n",
    "top = Inches(2)\n",
    "height = Inches(2.5)\n",
    "insightful_slide.shapes.add_picture(\"Harrier Interior IMG.jpg\", left, top, height=height)\n"
   ]
  },
  {
   "cell_type": "code",
   "execution_count": 25,
   "id": "3dc4c204",
   "metadata": {},
   "outputs": [],
   "source": [
    "\n",
    "# Save the presentation\n",
    "prs.save('Tata_Harrier_Reviews_Presentation_with_Images.pptx')\n"
   ]
  },
  {
   "cell_type": "code",
   "execution_count": null,
   "id": "3ade03f7",
   "metadata": {},
   "outputs": [],
   "source": []
  },
  {
   "cell_type": "code",
   "execution_count": null,
   "id": "878e9c7f",
   "metadata": {},
   "outputs": [],
   "source": []
  },
  {
   "cell_type": "markdown",
   "id": "df3d75a3",
   "metadata": {},
   "source": [
    "# 3"
   ]
  },
  {
   "cell_type": "code",
   "execution_count": 28,
   "id": "84f628ae",
   "metadata": {},
   "outputs": [
    {
     "name": "stdout",
     "output_type": "stream",
     "text": [
      "Presentation created successfully.\n"
     ]
    }
   ],
   "source": [
    "import pandas as pd\n",
    "from pptx import Presentation\n",
    "from pptx.util import Inches\n",
    "from pptx.enum.text import PP_ALIGN\n",
    "\n",
    "# Create a presentation object\n",
    "prs = Presentation()\n",
    "\n",
    "# Define the objectives and their content\n",
    "objectives = [\n",
    "    \"Definition\",\n",
    "    \"History\",\n",
    "    \"Main Influencers\",\n",
    "    \"Insights\",\n",
    "    \"Emerging themes\",\n",
    "    \"Case studies\"\n",
    "]\n",
    "\n",
    "objective_content = {\n",
    "    \"Definition\": (\n",
    "        \"The automobile industry encompasses companies and activities involved in the manufacturing, design, development, marketing, and selling of motor vehicles. \"\n",
    "        \"This sector includes various sub-verticals such as passenger cars, commercial vehicles, electric vehicles, and automotive parts and accessories.\"\n",
    "    ),\n",
    "    \"History\": (\n",
    "        \"Key events and trends from 2020-2023 that impacted the automobile industry include:\\n\"\n",
    "        \"- COVID-19 Pandemic: Disruptions in supply chains, decreased consumer demand, and temporary shutdowns of manufacturing plants.\\n\"\n",
    "        \"- Shift to Electric Vehicles (EVs): Increased focus on sustainability and environmental concerns led to rapid growth in the EV market.\\n\"\n",
    "        \"- Technological Advancements: Innovations in autonomous driving, connectivity, and smart features.\\n\"\n",
    "        \"- Market Performance: Recovery post-pandemic with increased sales and production, especially in the EV segment.\"\n",
    "    ),\n",
    "    \"Main Influencers\": (\n",
    "        \"Main players in the automobile industry include:\\n\"\n",
    "        \"- Tesla: Leading the EV market with innovative technology and strong financial performance.\\n\"\n",
    "        \"- Toyota: Known for reliability and hybrid technology.\\n\"\n",
    "        \"- Volkswagen: Significant investments in EVs and autonomous driving.\\n\"\n",
    "        \"- Ford: Focus on electric and autonomous vehicles.\\n\"\n",
    "        \"- Existing Relationships: Opportunities to create partnerships with emerging EV manufacturers and tech companies.\"\n",
    "    ),\n",
    "    \"Insights\": (\n",
    "        \"To stay informed about the automobile industry:\\n\"\n",
    "        \"- Mailing Lists and Discussion Forums: Join industry-specific newsletters, forums, and social media groups.\\n\"\n",
    "        \"- Experts: Tap into insights from automotive analysts, engineers, and industry leaders.\"\n",
    "    ),\n",
    "    \"Emerging themes\": (\n",
    "        \"Current trends and emerging themes for 2024 include:\\n\"\n",
    "        \"- Sustainability: Increased focus on reducing carbon emissions and promoting green technologies.\\n\"\n",
    "        \"- Autonomous Driving: Continued development and testing of self-driving cars.\\n\"\n",
    "        \"- Connectivity: Integration of smart features and IoT in vehicles.\\n\"\n",
    "        \"- Challenges: Supply chain disruptions, regulatory changes, and competition from new entrants.\"\n",
    "    ),\n",
    "    \"Case studies\": (\n",
    "        \"Examples of case studies in the automobile industry:\\n\"\n",
    "        \"- Tesla's Market Disruption: How Tesla revolutionized the EV market and influenced traditional automakers.\\n\"\n",
    "        \"- Toyota's Hybrid Success: The impact of Toyota's hybrid technology on fuel efficiency and consumer preferences.\\n\"\n",
    "        \"- Ford's Autonomous Vehicle Development: Ford's approach to developing and testing self-driving cars.\\n\"\n",
    "        \"- Gaps and Idea Generation: Identifying areas for improvement and innovation within the industry.\"\n",
    "    )\n",
    "}\n",
    "\n",
    "# Create slides based on the objectives\n",
    "for i, objective in enumerate(objectives):\n",
    "    slide_layout = prs.slide_layouts[1]# Title and Content layout\n",
    "    slide = prs.slides.add_slide(slide_layout)\n",
    "    title = slide.shapes.title\n",
    "    content = slide.placeholders[1]\n",
    "\n",
    "    title.text = objective\n",
    "    content.text = objective_content[objective]\n",
    "\n",
    "    # Add images to each slide\n",
    "    if i == 0:\n",
    "        image_path = \"Autombile Sector.jpg\"\n",
    "        left = Inches(6)\n",
    "        top = Inches(2)\n",
    "        height = Inches(2.5)\n",
    "        slide.shapes.add_picture(image_path, left, top, height=height)\n",
    "    \n",
    "    elif i == 1:\n",
    "        image_path1 = \"Autombile Sector.jpg\"\n",
    "        left1 = Inches(1)\n",
    "        top1 = Inches(2)\n",
    "        height1 = Inches(2.5)\n",
    "        \n",
    "        image_path2 = \"Autombile Sector.jpg\"\n",
    "        left2 = Inches(4)\n",
    "        top2 = Inches(2)\n",
    "        height2 = Inches(2.5)\n",
    "        \n",
    "        slide.shapes.add_picture(image_path1, left1, top1, height=height1)\n",
    "        slide.shapes.add_picture(image_path2, left2, top2, height=height2)\n",
    "    \n",
    "    elif i == 2:\n",
    "        image_path1 = \"Autombile Sector.jpg\"\n",
    "        left1 = Inches(1)\n",
    "        top1 = Inches(2)\n",
    "        height1 = Inches(2.5)\n",
    "        \n",
    "        image_path2 = \"Autombile Sector.jpg\"\n",
    "        left2 = Inches(4)\n",
    "        top2 = Inches(2)\n",
    "        height2 = Inches(2.5)\n",
    "        \n",
    "        image_path3 = \"Autombile Sector.jpg\"\n",
    "        left3 = Inches(7)\n",
    "        top3 = Inches(2)\n",
    "        height3 = Inches(2.5)\n",
    "        \n",
    "        slide.shapes.add_picture(image_path1, left1, top1, height=height1)\n",
    "        slide.shapes.add_picture(image_path2, left2, top2, height=height2)\n",
    "        slide.shapes.add_picture(image_path3, left3, top3, height=height3)\n",
    "\n",
    "# Save the presentation\n",
    "prs.save('Automobile_Industry_Presentation_with_Images.pptx')\n",
    "\n",
    "print(\"Presentation created successfully.\")\n"
   ]
  },
  {
   "cell_type": "code",
   "execution_count": null,
   "id": "fc25ab34",
   "metadata": {},
   "outputs": [],
   "source": []
  }
 ],
 "metadata": {
  "kernelspec": {
   "display_name": "Python 3 (ipykernel)",
   "language": "python",
   "name": "python3"
  },
  "language_info": {
   "codemirror_mode": {
    "name": "ipython",
    "version": 3
   },
   "file_extension": ".py",
   "mimetype": "text/x-python",
   "name": "python",
   "nbconvert_exporter": "python",
   "pygments_lexer": "ipython3",
   "version": "3.9.12"
  }
 },
 "nbformat": 4,
 "nbformat_minor": 5
}
