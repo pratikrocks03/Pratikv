{
 "cells": [
  {
   "cell_type": "markdown",
   "id": "90bf217d",
   "metadata": {},
   "source": [
    "# Importing Libraries"
   ]
  },
  {
   "cell_type": "code",
   "execution_count": 1,
   "id": "39141d8d",
   "metadata": {},
   "outputs": [],
   "source": [
    "import pandas as pd\n",
    "import numpy as np\n",
    "import seaborn as sns\n",
    "import matplotlib.pyplot as plt\n",
    "import warnings\n",
    "warnings.filterwarnings('ignore')"
   ]
  },
  {
   "cell_type": "markdown",
   "id": "f415cd49",
   "metadata": {},
   "source": [
    "# Loading the Dataset"
   ]
  },
  {
   "cell_type": "code",
   "execution_count": 2,
   "id": "0af2fb6c",
   "metadata": {},
   "outputs": [],
   "source": [
    "df=pd.read_csv(\"nse_kaholas.csv\")\n"
   ]
  },
  {
   "cell_type": "markdown",
   "id": "93ff92cc",
   "metadata": {},
   "source": [
    "# Analysing the Patterns of the training Dataset"
   ]
  },
  {
   "cell_type": "code",
   "execution_count": 30,
   "id": "a8bd56fc",
   "metadata": {},
   "outputs": [
    {
     "data": {
      "text/html": [
       "<div>\n",
       "<style scoped>\n",
       "    .dataframe tbody tr th:only-of-type {\n",
       "        vertical-align: middle;\n",
       "    }\n",
       "\n",
       "    .dataframe tbody tr th {\n",
       "        vertical-align: top;\n",
       "    }\n",
       "\n",
       "    .dataframe thead th {\n",
       "        text-align: right;\n",
       "    }\n",
       "</style>\n",
       "<table border=\"1\" class=\"dataframe\">\n",
       "  <thead>\n",
       "    <tr style=\"text-align: right;\">\n",
       "      <th></th>\n",
       "      <th>DATE1</th>\n",
       "      <th>SYMBOL</th>\n",
       "      <th>PREV_CLOSE</th>\n",
       "      <th>OPEN_PRICE</th>\n",
       "      <th>HIGH_PRICE</th>\n",
       "      <th>LOW_PRICE</th>\n",
       "      <th>LAST_PRICE</th>\n",
       "      <th>CLOSE_PRICE</th>\n",
       "      <th>AVG_PRICE</th>\n",
       "      <th>TTL_TRD_QNTY</th>\n",
       "      <th>TURNOVER_LACS</th>\n",
       "      <th>NO_OF_TRADES</th>\n",
       "      <th>DELIV_QTY</th>\n",
       "      <th>DELIV_PER</th>\n",
       "    </tr>\n",
       "  </thead>\n",
       "  <tbody>\n",
       "    <tr>\n",
       "      <th>0</th>\n",
       "      <td>11-02-2022</td>\n",
       "      <td>NETFLTGILT</td>\n",
       "      <td>22.40</td>\n",
       "      <td>22.02</td>\n",
       "      <td>22.48</td>\n",
       "      <td>22.02</td>\n",
       "      <td>22.25</td>\n",
       "      <td>22.27</td>\n",
       "      <td>22.25</td>\n",
       "      <td>16697</td>\n",
       "      <td>3.72</td>\n",
       "      <td>83</td>\n",
       "      <td>12968.0</td>\n",
       "      <td>77.67</td>\n",
       "    </tr>\n",
       "    <tr>\n",
       "      <th>1</th>\n",
       "      <td>11-02-2022</td>\n",
       "      <td>NETFMID150</td>\n",
       "      <td>116.02</td>\n",
       "      <td>119.50</td>\n",
       "      <td>119.50</td>\n",
       "      <td>113.61</td>\n",
       "      <td>114.10</td>\n",
       "      <td>113.95</td>\n",
       "      <td>114.68</td>\n",
       "      <td>224822</td>\n",
       "      <td>257.82</td>\n",
       "      <td>1780</td>\n",
       "      <td>200777.0</td>\n",
       "      <td>89.30</td>\n",
       "    </tr>\n",
       "    <tr>\n",
       "      <th>2</th>\n",
       "      <td>11-02-2022</td>\n",
       "      <td>NETFNIF100</td>\n",
       "      <td>183.49</td>\n",
       "      <td>178.50</td>\n",
       "      <td>184.98</td>\n",
       "      <td>178.50</td>\n",
       "      <td>182.05</td>\n",
       "      <td>182.22</td>\n",
       "      <td>182.07</td>\n",
       "      <td>2354</td>\n",
       "      <td>4.29</td>\n",
       "      <td>135</td>\n",
       "      <td>2140.0</td>\n",
       "      <td>90.91</td>\n",
       "    </tr>\n",
       "    <tr>\n",
       "      <th>3</th>\n",
       "      <td>11-02-2022</td>\n",
       "      <td>NETFDIVOPP</td>\n",
       "      <td>45.63</td>\n",
       "      <td>46.25</td>\n",
       "      <td>46.25</td>\n",
       "      <td>45.07</td>\n",
       "      <td>45.33</td>\n",
       "      <td>45.09</td>\n",
       "      <td>45.40</td>\n",
       "      <td>1239</td>\n",
       "      <td>0.56</td>\n",
       "      <td>86</td>\n",
       "      <td>1122.0</td>\n",
       "      <td>90.56</td>\n",
       "    </tr>\n",
       "    <tr>\n",
       "      <th>4</th>\n",
       "      <td>11-02-2022</td>\n",
       "      <td>NETFGILT5Y</td>\n",
       "      <td>49.66</td>\n",
       "      <td>49.66</td>\n",
       "      <td>49.82</td>\n",
       "      <td>49.47</td>\n",
       "      <td>49.82</td>\n",
       "      <td>49.79</td>\n",
       "      <td>49.72</td>\n",
       "      <td>82821</td>\n",
       "      <td>41.18</td>\n",
       "      <td>322</td>\n",
       "      <td>74512.0</td>\n",
       "      <td>89.97</td>\n",
       "    </tr>\n",
       "  </tbody>\n",
       "</table>\n",
       "</div>"
      ],
      "text/plain": [
       "        DATE1      SYMBOL   PREV_CLOSE   OPEN_PRICE   HIGH_PRICE   LOW_PRICE  \\\n",
       "0  11-02-2022  NETFLTGILT        22.40        22.02        22.48       22.02   \n",
       "1  11-02-2022  NETFMID150       116.02       119.50       119.50      113.61   \n",
       "2  11-02-2022  NETFNIF100       183.49       178.50       184.98      178.50   \n",
       "3  11-02-2022  NETFDIVOPP        45.63        46.25        46.25       45.07   \n",
       "4  11-02-2022  NETFGILT5Y        49.66        49.66        49.82       49.47   \n",
       "\n",
       "    LAST_PRICE   CLOSE_PRICE   AVG_PRICE   TTL_TRD_QNTY   TURNOVER_LACS  \\\n",
       "0        22.25         22.27       22.25          16697            3.72   \n",
       "1       114.10        113.95      114.68         224822          257.82   \n",
       "2       182.05        182.22      182.07           2354            4.29   \n",
       "3        45.33         45.09       45.40           1239            0.56   \n",
       "4        49.82         49.79       49.72          82821           41.18   \n",
       "\n",
       "    NO_OF_TRADES   DELIV_QTY   DELIV_PER  \n",
       "0             83     12968.0       77.67  \n",
       "1           1780    200777.0       89.30  \n",
       "2            135      2140.0       90.91  \n",
       "3             86      1122.0       90.56  \n",
       "4            322     74512.0       89.97  "
      ]
     },
     "execution_count": 30,
     "metadata": {},
     "output_type": "execute_result"
    }
   ],
   "source": [
    "df.head()"
   ]
  },
  {
   "cell_type": "code",
   "execution_count": 31,
   "id": "db1f6fc8",
   "metadata": {},
   "outputs": [
    {
     "name": "stdout",
     "output_type": "stream",
     "text": [
      "<class 'pandas.core.frame.DataFrame'>\n",
      "RangeIndex: 809339 entries, 0 to 809338\n",
      "Data columns (total 14 columns):\n",
      " #   Column          Non-Null Count   Dtype  \n",
      "---  ------          --------------   -----  \n",
      " 0    DATE1          809339 non-null  object \n",
      " 1   SYMBOL          809339 non-null  object \n",
      " 2    PREV_CLOSE     809339 non-null  float64\n",
      " 3    OPEN_PRICE     809339 non-null  float64\n",
      " 4    HIGH_PRICE     809339 non-null  float64\n",
      " 5    LOW_PRICE      809339 non-null  float64\n",
      " 6    LAST_PRICE     809339 non-null  float64\n",
      " 7    CLOSE_PRICE    809339 non-null  float64\n",
      " 8    AVG_PRICE      809339 non-null  float64\n",
      " 9    TTL_TRD_QNTY   809339 non-null  int64  \n",
      " 10   TURNOVER_LACS  809339 non-null  float64\n",
      " 11   NO_OF_TRADES   809339 non-null  int64  \n",
      " 12   DELIV_QTY      809336 non-null  float64\n",
      " 13   DELIV_PER      809336 non-null  float64\n",
      "dtypes: float64(10), int64(2), object(2)\n",
      "memory usage: 86.4+ MB\n"
     ]
    }
   ],
   "source": [
    "df.info()"
   ]
  },
  {
   "cell_type": "markdown",
   "id": "98146fcf",
   "metadata": {},
   "source": [
    "10 float datatype column, 2 object datatype column and 2 intger datatype columns are present in the dataset."
   ]
  },
  {
   "cell_type": "code",
   "execution_count": 32,
   "id": "f80fed1e",
   "metadata": {},
   "outputs": [
    {
     "data": {
      "text/plain": [
       "(809339, 14)"
      ]
     },
     "execution_count": 32,
     "metadata": {},
     "output_type": "execute_result"
    }
   ],
   "source": [
    "# Checking shape\n",
    "df.shape"
   ]
  },
  {
   "cell_type": "markdown",
   "id": "8b9e069f",
   "metadata": {},
   "source": [
    "809339 rows and 14 columns present in the dataset."
   ]
  },
  {
   "cell_type": "code",
   "execution_count": 33,
   "id": "e6effeca",
   "metadata": {},
   "outputs": [
    {
     "data": {
      "text/plain": [
       " DATE1            0\n",
       "SYMBOL            0\n",
       " PREV_CLOSE       0\n",
       " OPEN_PRICE       0\n",
       " HIGH_PRICE       0\n",
       " LOW_PRICE        0\n",
       " LAST_PRICE       0\n",
       " CLOSE_PRICE      0\n",
       " AVG_PRICE        0\n",
       " TTL_TRD_QNTY     0\n",
       " TURNOVER_LACS    0\n",
       " NO_OF_TRADES     0\n",
       " DELIV_QTY        3\n",
       " DELIV_PER        3\n",
       "dtype: int64"
      ]
     },
     "execution_count": 33,
     "metadata": {},
     "output_type": "execute_result"
    }
   ],
   "source": [
    "# Checking Null values\n",
    "df.isnull().sum()"
   ]
  },
  {
   "cell_type": "markdown",
   "id": "8b07e2a1",
   "metadata": {},
   "source": [
    "Null values are present most of the columns."
   ]
  },
  {
   "cell_type": "code",
   "execution_count": 3,
   "id": "5b904080",
   "metadata": {},
   "outputs": [],
   "source": [
    "# Converting symbol column to numeric\n",
    "df['SYMBOL']=pd.to_numeric(df['SYMBOL'], errors='coerce')"
   ]
  },
  {
   "cell_type": "code",
   "execution_count": 4,
   "id": "e6276d04",
   "metadata": {},
   "outputs": [],
   "source": [
    "\n",
    "# Removing null values\n",
    "df.dropna(axis=1, inplace=True)\n",
    "\n"
   ]
  },
  {
   "cell_type": "markdown",
   "id": "baa468b7",
   "metadata": {},
   "source": [
    "# Statistical Summary"
   ]
  },
  {
   "cell_type": "code",
   "execution_count": 36,
   "id": "22b53443",
   "metadata": {},
   "outputs": [
    {
     "data": {
      "text/html": [
       "<div>\n",
       "<style scoped>\n",
       "    .dataframe tbody tr th:only-of-type {\n",
       "        vertical-align: middle;\n",
       "    }\n",
       "\n",
       "    .dataframe tbody tr th {\n",
       "        vertical-align: top;\n",
       "    }\n",
       "\n",
       "    .dataframe thead th {\n",
       "        text-align: right;\n",
       "    }\n",
       "</style>\n",
       "<table border=\"1\" class=\"dataframe\">\n",
       "  <thead>\n",
       "    <tr style=\"text-align: right;\">\n",
       "      <th></th>\n",
       "      <th>PREV_CLOSE</th>\n",
       "      <th>OPEN_PRICE</th>\n",
       "      <th>HIGH_PRICE</th>\n",
       "      <th>LOW_PRICE</th>\n",
       "      <th>LAST_PRICE</th>\n",
       "      <th>CLOSE_PRICE</th>\n",
       "      <th>AVG_PRICE</th>\n",
       "      <th>TTL_TRD_QNTY</th>\n",
       "      <th>TURNOVER_LACS</th>\n",
       "      <th>NO_OF_TRADES</th>\n",
       "    </tr>\n",
       "  </thead>\n",
       "  <tbody>\n",
       "    <tr>\n",
       "      <th>count</th>\n",
       "      <td>809339.000000</td>\n",
       "      <td>809339.000000</td>\n",
       "      <td>809339.000000</td>\n",
       "      <td>809339.000000</td>\n",
       "      <td>809339.000000</td>\n",
       "      <td>809339.000000</td>\n",
       "      <td>809339.000000</td>\n",
       "      <td>8.093390e+05</td>\n",
       "      <td>8.093390e+05</td>\n",
       "      <td>8.093390e+05</td>\n",
       "    </tr>\n",
       "    <tr>\n",
       "      <th>mean</th>\n",
       "      <td>668.820979</td>\n",
       "      <td>670.839406</td>\n",
       "      <td>682.637098</td>\n",
       "      <td>658.268809</td>\n",
       "      <td>669.363227</td>\n",
       "      <td>669.326862</td>\n",
       "      <td>670.396131</td>\n",
       "      <td>1.862044e+06</td>\n",
       "      <td>3.986382e+03</td>\n",
       "      <td>1.273804e+04</td>\n",
       "    </tr>\n",
       "    <tr>\n",
       "      <th>std</th>\n",
       "      <td>2721.045148</td>\n",
       "      <td>2727.110313</td>\n",
       "      <td>2764.114183</td>\n",
       "      <td>2686.341895</td>\n",
       "      <td>2721.562123</td>\n",
       "      <td>2721.971042</td>\n",
       "      <td>2724.541708</td>\n",
       "      <td>1.778833e+07</td>\n",
       "      <td>1.913021e+04</td>\n",
       "      <td>3.770547e+04</td>\n",
       "    </tr>\n",
       "    <tr>\n",
       "      <th>min</th>\n",
       "      <td>0.050000</td>\n",
       "      <td>0.050000</td>\n",
       "      <td>0.100000</td>\n",
       "      <td>0.050000</td>\n",
       "      <td>0.050000</td>\n",
       "      <td>0.050000</td>\n",
       "      <td>0.000000</td>\n",
       "      <td>1.000000e+00</td>\n",
       "      <td>0.000000e+00</td>\n",
       "      <td>1.000000e+00</td>\n",
       "    </tr>\n",
       "    <tr>\n",
       "      <th>25%</th>\n",
       "      <td>44.200000</td>\n",
       "      <td>44.550000</td>\n",
       "      <td>45.700000</td>\n",
       "      <td>43.150000</td>\n",
       "      <td>44.300000</td>\n",
       "      <td>44.300000</td>\n",
       "      <td>44.420000</td>\n",
       "      <td>1.891600e+04</td>\n",
       "      <td>1.812000e+01</td>\n",
       "      <td>3.730000e+02</td>\n",
       "    </tr>\n",
       "    <tr>\n",
       "      <th>50%</th>\n",
       "      <td>146.600000</td>\n",
       "      <td>147.450000</td>\n",
       "      <td>150.950000</td>\n",
       "      <td>143.500000</td>\n",
       "      <td>146.850000</td>\n",
       "      <td>146.750000</td>\n",
       "      <td>147.220000</td>\n",
       "      <td>9.747100e+04</td>\n",
       "      <td>1.562100e+02</td>\n",
       "      <td>2.018000e+03</td>\n",
       "    </tr>\n",
       "    <tr>\n",
       "      <th>75%</th>\n",
       "      <td>478.650000</td>\n",
       "      <td>480.400000</td>\n",
       "      <td>491.000000</td>\n",
       "      <td>470.000000</td>\n",
       "      <td>479.000000</td>\n",
       "      <td>479.200000</td>\n",
       "      <td>480.400000</td>\n",
       "      <td>5.402470e+05</td>\n",
       "      <td>1.094525e+03</td>\n",
       "      <td>8.835000e+03</td>\n",
       "    </tr>\n",
       "    <tr>\n",
       "      <th>max</th>\n",
       "      <td>96973.850000</td>\n",
       "      <td>96770.000000</td>\n",
       "      <td>98599.950000</td>\n",
       "      <td>92750.000000</td>\n",
       "      <td>97688.000000</td>\n",
       "      <td>96973.850000</td>\n",
       "      <td>94963.570000</td>\n",
       "      <td>6.161122e+09</td>\n",
       "      <td>3.564334e+06</td>\n",
       "      <td>2.428917e+06</td>\n",
       "    </tr>\n",
       "  </tbody>\n",
       "</table>\n",
       "</div>"
      ],
      "text/plain": [
       "          PREV_CLOSE     OPEN_PRICE     HIGH_PRICE      LOW_PRICE  \\\n",
       "count  809339.000000  809339.000000  809339.000000  809339.000000   \n",
       "mean      668.820979     670.839406     682.637098     658.268809   \n",
       "std      2721.045148    2727.110313    2764.114183    2686.341895   \n",
       "min         0.050000       0.050000       0.100000       0.050000   \n",
       "25%        44.200000      44.550000      45.700000      43.150000   \n",
       "50%       146.600000     147.450000     150.950000     143.500000   \n",
       "75%       478.650000     480.400000     491.000000     470.000000   \n",
       "max     96973.850000   96770.000000   98599.950000   92750.000000   \n",
       "\n",
       "          LAST_PRICE    CLOSE_PRICE      AVG_PRICE   TTL_TRD_QNTY  \\\n",
       "count  809339.000000  809339.000000  809339.000000   8.093390e+05   \n",
       "mean      669.363227     669.326862     670.396131   1.862044e+06   \n",
       "std      2721.562123    2721.971042    2724.541708   1.778833e+07   \n",
       "min         0.050000       0.050000       0.000000   1.000000e+00   \n",
       "25%        44.300000      44.300000      44.420000   1.891600e+04   \n",
       "50%       146.850000     146.750000     147.220000   9.747100e+04   \n",
       "75%       479.000000     479.200000     480.400000   5.402470e+05   \n",
       "max     97688.000000   96973.850000   94963.570000   6.161122e+09   \n",
       "\n",
       "        TURNOVER_LACS   NO_OF_TRADES  \n",
       "count    8.093390e+05   8.093390e+05  \n",
       "mean     3.986382e+03   1.273804e+04  \n",
       "std      1.913021e+04   3.770547e+04  \n",
       "min      0.000000e+00   1.000000e+00  \n",
       "25%      1.812000e+01   3.730000e+02  \n",
       "50%      1.562100e+02   2.018000e+03  \n",
       "75%      1.094525e+03   8.835000e+03  \n",
       "max      3.564334e+06   2.428917e+06  "
      ]
     },
     "execution_count": 36,
     "metadata": {},
     "output_type": "execute_result"
    }
   ],
   "source": [
    "df.describe()"
   ]
  },
  {
   "cell_type": "markdown",
   "id": "e8b2870e",
   "metadata": {},
   "source": [
    "Number of values is same in all the columns except volume.\n",
    "\n",
    "Not much difference between mean and median(50%)\n",
    "\n",
    "Not much difference between 75% and max."
   ]
  },
  {
   "cell_type": "markdown",
   "id": "8eaa6703",
   "metadata": {},
   "source": [
    "# Now we need only 2 columns for model building that is open and close"
   ]
  },
  {
   "cell_type": "code",
   "execution_count": 5,
   "id": "377a5677",
   "metadata": {},
   "outputs": [],
   "source": [
    "training_set = df.iloc[:, 1:2].values"
   ]
  },
  {
   "cell_type": "markdown",
   "id": "04bf35c6",
   "metadata": {},
   "source": [
    "# Feature Scaling"
   ]
  },
  {
   "cell_type": "code",
   "execution_count": 6,
   "id": "d311eb3b",
   "metadata": {},
   "outputs": [],
   "source": [
    "from sklearn.preprocessing import MinMaxScaler\n",
    "sc = MinMaxScaler(feature_range = (0, 1))\n",
    "training_set_scaled = sc.fit_transform(training_set)"
   ]
  },
  {
   "cell_type": "markdown",
   "id": "1cb6b430",
   "metadata": {},
   "source": [
    "# Creating Data with TimeSteps"
   ]
  },
  {
   "cell_type": "code",
   "execution_count": 43,
   "id": "ae70ddec",
   "metadata": {},
   "outputs": [
    {
     "data": {
      "text/plain": [
       "(809339, 1)"
      ]
     },
     "execution_count": 43,
     "metadata": {},
     "output_type": "execute_result"
    }
   ],
   "source": [
    "training_set.shape"
   ]
  },
  {
   "cell_type": "code",
   "execution_count": 7,
   "id": "44dc84f8",
   "metadata": {},
   "outputs": [],
   "source": [
    "X_train = []\n",
    "y_train = []\n",
    "for i in range(60, 2000): # taking less data because it is taking much time in execution\n",
    "    X_train.append(training_set_scaled[i-60:i, 0])\n",
    "    y_train.append(training_set_scaled[i, 0])\n",
    "X_train, y_train = np.array(X_train), np.array(y_train)\n",
    "\n",
    "X_train = np.reshape(X_train, (X_train.shape[0], X_train.shape[1], 1))"
   ]
  },
  {
   "cell_type": "markdown",
   "id": "d393a305",
   "metadata": {},
   "source": [
    "# Using LSTM for model building"
   ]
  },
  {
   "cell_type": "code",
   "execution_count": 8,
   "id": "3847d9c1",
   "metadata": {},
   "outputs": [],
   "source": [
    "from keras.models import Sequential\n",
    "from keras.layers import Dense, LSTM, Dropout"
   ]
  },
  {
   "cell_type": "code",
   "execution_count": 9,
   "id": "962c5e1c",
   "metadata": {},
   "outputs": [],
   "source": [
    "regressor = Sequential()\n",
    "\n",
    "regressor.add(LSTM(units = 50, return_sequences = True, input_shape = (X_train.shape[1], 1)))\n",
    "regressor.add(Dropout(0.2))\n",
    "\n",
    "regressor.add(LSTM(units = 50, return_sequences = True))\n",
    "regressor.add(Dropout(0.25))\n",
    "\n",
    "regressor.add(LSTM(units = 50, return_sequences = True))\n",
    "regressor.add(Dropout(0.25))\n",
    "\n",
    "regressor.add(LSTM(units = 50))\n",
    "regressor.add(Dropout(0.25))\n",
    "\n",
    "regressor.add(Dense(units = 1))"
   ]
  },
  {
   "cell_type": "code",
   "execution_count": 10,
   "id": "2fafeb23",
   "metadata": {},
   "outputs": [
    {
     "name": "stdout",
     "output_type": "stream",
     "text": [
      "Model: \"sequential\"\n",
      "_________________________________________________________________\n",
      " Layer (type)                Output Shape              Param #   \n",
      "=================================================================\n",
      " lstm (LSTM)                 (None, 60, 50)            10400     \n",
      "                                                                 \n",
      " dropout (Dropout)           (None, 60, 50)            0         \n",
      "                                                                 \n",
      " lstm_1 (LSTM)               (None, 60, 50)            20200     \n",
      "                                                                 \n",
      " dropout_1 (Dropout)         (None, 60, 50)            0         \n",
      "                                                                 \n",
      " lstm_2 (LSTM)               (None, 60, 50)            20200     \n",
      "                                                                 \n",
      " dropout_2 (Dropout)         (None, 60, 50)            0         \n",
      "                                                                 \n",
      " lstm_3 (LSTM)               (None, 50)                20200     \n",
      "                                                                 \n",
      " dropout_3 (Dropout)         (None, 50)                0         \n",
      "                                                                 \n",
      " dense (Dense)               (None, 1)                 51        \n",
      "                                                                 \n",
      "=================================================================\n",
      "Total params: 71,051\n",
      "Trainable params: 71,051\n",
      "Non-trainable params: 0\n",
      "_________________________________________________________________\n"
     ]
    }
   ],
   "source": [
    "regressor.summary()"
   ]
  },
  {
   "cell_type": "code",
   "execution_count": 12,
   "id": "ba456cd2",
   "metadata": {},
   "outputs": [
    {
     "name": "stdout",
     "output_type": "stream",
     "text": [
      "Epoch 1/50\n",
      "55/55 [==============================] - 39s 273ms/step - loss: 6.2741e-04 - val_loss: 8.7199e-05\n",
      "Epoch 2/50\n",
      "55/55 [==============================] - 10s 176ms/step - loss: 6.1431e-04 - val_loss: 7.1302e-05\n",
      "Epoch 3/50\n",
      "55/55 [==============================] - 9s 170ms/step - loss: 6.1317e-04 - val_loss: 8.1341e-05\n",
      "Epoch 4/50\n",
      "55/55 [==============================] - 9s 157ms/step - loss: 6.1397e-04 - val_loss: 6.9909e-05\n",
      "Epoch 5/50\n",
      "55/55 [==============================] - 9s 169ms/step - loss: 6.1304e-04 - val_loss: 7.4167e-05\n",
      "Epoch 6/50\n",
      "55/55 [==============================] - 10s 177ms/step - loss: 6.1046e-04 - val_loss: 6.9883e-05\n",
      "Epoch 7/50\n",
      "55/55 [==============================] - 9s 173ms/step - loss: 6.0600e-04 - val_loss: 9.0537e-05\n",
      "Epoch 8/50\n",
      "55/55 [==============================] - 9s 157ms/step - loss: 6.1171e-04 - val_loss: 6.9891e-05\n",
      "Epoch 9/50\n",
      "55/55 [==============================] - 9s 165ms/step - loss: 6.0940e-04 - val_loss: 6.9958e-05\n",
      "Epoch 10/50\n",
      "55/55 [==============================] - 9s 161ms/step - loss: 6.0626e-04 - val_loss: 7.0019e-05\n",
      "Epoch 11/50\n",
      "55/55 [==============================] - 9s 164ms/step - loss: 6.1180e-04 - val_loss: 7.3773e-05\n",
      "Epoch 12/50\n",
      "55/55 [==============================] - 10s 176ms/step - loss: 6.0965e-04 - val_loss: 8.1649e-05\n",
      "Epoch 13/50\n",
      "55/55 [==============================] - 9s 157ms/step - loss: 6.0678e-04 - val_loss: 8.9608e-05\n",
      "Epoch 14/50\n",
      "55/55 [==============================] - 9s 172ms/step - loss: 6.2155e-04 - val_loss: 7.0734e-05\n",
      "Epoch 15/50\n",
      "55/55 [==============================] - 8s 144ms/step - loss: 6.0791e-04 - val_loss: 6.9945e-05\n",
      "Epoch 16/50\n",
      "55/55 [==============================] - 9s 171ms/step - loss: 6.0795e-04 - val_loss: 7.3748e-05\n",
      "Epoch 17/50\n",
      "55/55 [==============================] - 8s 151ms/step - loss: 6.0095e-04 - val_loss: 6.9952e-05\n",
      "Epoch 18/50\n",
      "55/55 [==============================] - 9s 162ms/step - loss: 6.0144e-04 - val_loss: 1.0173e-04\n",
      "Epoch 19/50\n",
      "55/55 [==============================] - 9s 162ms/step - loss: 6.0486e-04 - val_loss: 8.3943e-05\n",
      "Epoch 20/50\n",
      "55/55 [==============================] - 9s 155ms/step - loss: 6.0785e-04 - val_loss: 8.0253e-05\n",
      "Epoch 21/50\n",
      "55/55 [==============================] - 9s 164ms/step - loss: 6.0493e-04 - val_loss: 7.9791e-05\n",
      "Epoch 22/50\n",
      "55/55 [==============================] - 8s 151ms/step - loss: 6.0561e-04 - val_loss: 7.0557e-05\n",
      "Epoch 23/50\n",
      "55/55 [==============================] - 10s 176ms/step - loss: 6.0044e-04 - val_loss: 7.7454e-05\n",
      "Epoch 24/50\n",
      "55/55 [==============================] - 8s 153ms/step - loss: 6.0392e-04 - val_loss: 7.6300e-05\n",
      "Epoch 25/50\n",
      "55/55 [==============================] - 9s 172ms/step - loss: 6.0285e-04 - val_loss: 7.1058e-05\n",
      "Epoch 26/50\n",
      "55/55 [==============================] - 8s 149ms/step - loss: 6.0195e-04 - val_loss: 7.0668e-05\n",
      "Epoch 27/50\n",
      "55/55 [==============================] - 9s 165ms/step - loss: 5.9806e-04 - val_loss: 7.0490e-05\n",
      "Epoch 28/50\n",
      "55/55 [==============================] - 9s 158ms/step - loss: 6.0440e-04 - val_loss: 6.9936e-05\n",
      "Epoch 29/50\n",
      "55/55 [==============================] - 9s 161ms/step - loss: 5.9782e-04 - val_loss: 7.1256e-05\n",
      "Epoch 30/50\n",
      "55/55 [==============================] - 9s 159ms/step - loss: 6.0239e-04 - val_loss: 7.1542e-05\n",
      "Epoch 31/50\n",
      "55/55 [==============================] - 9s 156ms/step - loss: 6.0220e-04 - val_loss: 7.2020e-05\n",
      "Epoch 32/50\n",
      "55/55 [==============================] - 9s 169ms/step - loss: 6.0037e-04 - val_loss: 6.9926e-05\n",
      "Epoch 33/50\n",
      "55/55 [==============================] - 8s 145ms/step - loss: 6.0084e-04 - val_loss: 7.1157e-05\n",
      "Epoch 34/50\n",
      "55/55 [==============================] - 10s 177ms/step - loss: 6.0201e-04 - val_loss: 7.0911e-05\n",
      "Epoch 35/50\n",
      "55/55 [==============================] - 8s 141ms/step - loss: 5.9966e-04 - val_loss: 8.4882e-05\n",
      "Epoch 36/50\n",
      "55/55 [==============================] - 9s 170ms/step - loss: 6.0327e-04 - val_loss: 7.3456e-05\n",
      "Epoch 37/50\n",
      "55/55 [==============================] - 8s 152ms/step - loss: 5.9835e-04 - val_loss: 7.4984e-05\n",
      "Epoch 38/50\n",
      "55/55 [==============================] - 9s 164ms/step - loss: 6.0210e-04 - val_loss: 8.7572e-05\n",
      "Epoch 39/50\n",
      "55/55 [==============================] - 9s 160ms/step - loss: 5.9944e-04 - val_loss: 7.1091e-05\n",
      "Epoch 40/50\n",
      "55/55 [==============================] - 9s 156ms/step - loss: 6.0251e-04 - val_loss: 7.2226e-05\n",
      "Epoch 41/50\n",
      "55/55 [==============================] - 9s 166ms/step - loss: 5.9889e-04 - val_loss: 7.1711e-05\n",
      "Epoch 42/50\n",
      "55/55 [==============================] - 8s 149ms/step - loss: 6.0092e-04 - val_loss: 7.0607e-05\n",
      "Epoch 43/50\n",
      "55/55 [==============================] - 10s 174ms/step - loss: 6.0049e-04 - val_loss: 7.3255e-05\n",
      "Epoch 44/50\n",
      "55/55 [==============================] - 8s 144ms/step - loss: 6.0191e-04 - val_loss: 7.6968e-05\n",
      "Epoch 45/50\n",
      "55/55 [==============================] - 10s 179ms/step - loss: 6.0284e-04 - val_loss: 7.3580e-05\n",
      "Epoch 46/50\n",
      "55/55 [==============================] - 8s 145ms/step - loss: 6.0106e-04 - val_loss: 8.1615e-05\n",
      "Epoch 47/50\n",
      "55/55 [==============================] - 9s 170ms/step - loss: 6.0136e-04 - val_loss: 6.9970e-05\n",
      "Epoch 48/50\n",
      "55/55 [==============================] - 9s 155ms/step - loss: 6.0250e-04 - val_loss: 7.9927e-05\n",
      "Epoch 49/50\n",
      "55/55 [==============================] - 9s 162ms/step - loss: 6.0040e-04 - val_loss: 6.9924e-05\n",
      "Epoch 50/50\n",
      "55/55 [==============================] - 9s 163ms/step - loss: 5.9949e-04 - val_loss: 7.6952e-05\n"
     ]
    }
   ],
   "source": [
    "regressor.compile(optimizer = 'adam', loss = 'mean_squared_error')\n",
    "\n",
    "history=regressor.fit(X_train, y_train, epochs = 50, batch_size = 32, validation_split=0.1)"
   ]
  },
  {
   "cell_type": "markdown",
   "id": "bdd2bb0a",
   "metadata": {},
   "source": [
    "# Plotting the Graph"
   ]
  },
  {
   "cell_type": "code",
   "execution_count": 13,
   "id": "2458a8dc",
   "metadata": {},
   "outputs": [
    {
     "data": {
      "image/png": "[encoded data removed]",
      "text/plain": [
       "<Figure size 432x288 with 1 Axes>"
      ]
     },
     "metadata": {
      "needs_background": "light"
     },
     "output_type": "display_data"
    }
   ],
   "source": [
    "loss = history.history['loss']\n",
    "val_loss = history.history['val_loss']\n",
    "epochs = range(len(loss))\n",
    "plt.figure()\n",
    "plt.plot(epochs, loss, 'b', label='Training loss')\n",
    "plt.plot(epochs, val_loss, 'r', label='Validation loss')\n",
    "plt.title(\"Training and Validation Loss\")\n",
    "plt.legend()\n",
    "plt.show()\n"
   ]
  },
  {
   "cell_type": "markdown",
   "id": "11607f71",
   "metadata": {},
   "source": [
    "# Prediction "
   ]
  },
  {
   "cell_type": "code",
   "execution_count": 15,
   "id": "654c15ef",
   "metadata": {},
   "outputs": [],
   "source": [
    "test = df.iloc[:, 1:2].values"
   ]
  },
  {
   "cell_type": "markdown",
   "id": "84b9e92d",
   "metadata": {},
   "source": [
    "# Applying Inverse Transfromation for obtaining the result"
   ]
  },
  {
   "cell_type": "code",
   "execution_count": 18,
   "id": "2e8d40df",
   "metadata": {},
   "outputs": [],
   "source": [
    "dataset_total = pd.concat((df[' OPEN_PRICE'], df[' OPEN_PRICE']), axis = 0)\n",
    "inputs = dataset_total[len(dataset_total) - len(df) - 60:].values\n",
    "inputs = inputs.reshape(-1,1)\n",
    "inputs = sc.transform(inputs)\n",
    "X_test = []\n",
    "for i in range(60, 76):\n",
    "    X_test.append(inputs[i-60:i, 0])\n",
    "X_test = np.array(X_test)\n",
    "X_test = np.reshape(X_test, (X_test.shape[0], X_test.shape[1], 1))\n",
    "predicted = regressor.predict(X_test)\n",
    "predicted = sc.inverse_transform(predicted)"
   ]
  },
  {
   "cell_type": "code",
   "execution_count": 19,
   "id": "e5030635",
   "metadata": {},
   "outputs": [
    {
     "data": {
      "text/plain": [
       "array([[850.6563 ],\n",
       "       [850.09485],\n",
       "       [849.62256],\n",
       "       [849.325  ],\n",
       "       [849.1961 ],\n",
       "       [849.1912 ],\n",
       "       [849.26276],\n",
       "       [849.3733 ],\n",
       "       [849.50085],\n",
       "       [849.61536],\n",
       "       [849.7174 ],\n",
       "       [849.8237 ],\n",
       "       [849.942  ],\n",
       "       [850.07245],\n",
       "       [850.20996],\n",
       "       [850.3423 ]], dtype=float32)"
      ]
     },
     "execution_count": 19,
     "metadata": {},
     "output_type": "execute_result"
    }
   ],
   "source": [
    "predicted"
   ]
  },
  {
   "cell_type": "code",
   "execution_count": 21,
   "id": "0dd692a0",
   "metadata": {},
   "outputs": [
    {
     "data": {
      "text/plain": [
       "array([[2.24000e+01],\n",
       "       [1.16020e+02],\n",
       "       [1.83490e+02],\n",
       "       ...,\n",
       "       [4.95000e+00],\n",
       "       [4.33000e+02],\n",
       "       [2.33931e+04]])"
      ]
     },
     "execution_count": 21,
     "metadata": {},
     "output_type": "execute_result"
    }
   ],
   "source": [
    "test"
   ]
  },
  {
   "cell_type": "markdown",
   "id": "a6261bec",
   "metadata": {},
   "source": [
    "# Now Plotting the Results on Graph"
   ]
  },
  {
   "cell_type": "code",
   "execution_count": 31,
   "id": "a7babcf3",
   "metadata": {},
   "outputs": [
    {
     "data": {
      "image/png": "[encoded data removed]",
      "text/plain": [
       "<Figure size 432x288 with 1 Axes>"
      ]
     },
     "metadata": {
      "needs_background": "light"
     },
     "output_type": "display_data"
    }
   ],
   "source": [
    "plt.plot(test, color = 'green', label = 'NSE Price')\n",
    "plt.plot(predicted, color = 'red', label = 'NSE Predicted Price')\n",
    "plt.title('NSE')\n",
    "plt.xlabel('Time')\n",
    "plt.ylabel('NSE')\n",
    "plt.legend()\n",
    "plt.show()"
   ]
  },
  {
   "cell_type": "markdown",
   "id": "2af482d4",
   "metadata": {},
   "source": [
    "The above plot shows that NSE will increase  and then decreaser  model prediction also shows that the price will increase.\n",
    "\n",
    "​"
   ]
  },
  {
   "cell_type": "code",
   "execution_count": null,
   "id": "be656280",
   "metadata": {},
   "outputs": [],
   "source": []
  }
 ],
 "metadata": {
  "kernelspec": {
   "display_name": "Python 3",
   "language": "python",
   "name": "python3"
  },
  "language_info": {
   "codemirror_mode": {
    "name": "ipython",
    "version": 3
   },
   "file_extension": ".py",
   "mimetype": "text/x-python",
   "name": "python",
   "nbconvert_exporter": "python",
   "pygments_lexer": "ipython3",
   "version": "3.8.10"
  }
 },
 "nbformat": 4,
 "nbformat_minor": 5
}
