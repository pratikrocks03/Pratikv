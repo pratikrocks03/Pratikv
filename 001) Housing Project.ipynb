{
 "cells": [
  {
   "cell_type": "markdown",
   "id": "7502c562",
   "metadata": {},
   "source": [
    "# HOUSING: PRICE PREDICTION\n",
    "Problem Statement:\n",
    "Houses are one of the necessary need of each and every person around the globe and therefore housing and real estate \n",
    "market is one of the markets which is one of the major contributors in the world’s economy. It is a very large market \n",
    "and there are various companies working in the domain. Data science comes as a very important tool to solve problems \n",
    "in the domain to help the companies increase their overall revenue, profits, improving their marketing strategies and \n",
    "focusing on changing trends in house sales and purchases. Predictive modelling, Market mix modelling, \n",
    "recommendation systems are some of the machine learning techniques used for achieving the business goals for housing \n",
    "companies. Our problem is related to one such housing company.\n",
    "A US-based housing company named Surprise Housing has decided to enter the Australian market. The company uses \n",
    "data analytics to purchase houses at a price below their actual values and flip them at a higher price. For the same \n",
    "purpose, the company has collected a data set from the sale of houses in Australia. The data is provided in the CSV file \n",
    "below.\n",
    "The company is looking at prospective properties to buy houses to enter the market. You are required to build a model \n",
    "using Machine Learning in order to predict the actual value of the prospective properties and decide whether to invest \n",
    "in them or not. For this company wants to know:\n",
    "• Which variables are important to predict the price of variable?\n",
    "• How do these variables describe the price of the house?\n",
    "Business Goal:\n",
    "You are required to model the price of houses with the available independent variables. This model will then be used \n",
    "by the management to understand how exactly the prices vary with the variables. They can accordingly manipulate the \n",
    "strategy of the firm and concentrate on areas that will yield high returns. Further, the model will be a good way for the \n",
    "management to understand the pricing dynamics of a new market."
   ]
  },
  {
   "cell_type": "code",
   "execution_count": null,
   "id": "73a902a6",
   "metadata": {},
   "outputs": [],
   "source": [
    "# Importing Libraries"
   ]
  },
  {
   "cell_type": "code",
   "execution_count": 1,
   "id": "a18c09f7",
   "metadata": {},
   "outputs": [],
   "source": [
    "import pandas as pd\n",
    "import numpy as np\n",
    "import seaborn as sns\n",
    "import matplotlib.pyplot as plt\n",
    "import warnings\n",
    "warnings.filterwarnings('ignore')"
   ]
  },
  {
   "cell_type": "markdown",
   "id": "d8b5b0d2",
   "metadata": {},
   "source": [
    "# Loading the Dataset"
   ]
  },
  {
   "cell_type": "code",
   "execution_count": 143,
   "id": "46ee496d",
   "metadata": {},
   "outputs": [],
   "source": [
    "# train data \n",
    "train=pd.read_csv('house train.csv')"
   ]
  },
  {
   "cell_type": "code",
   "execution_count": 144,
   "id": "6a4becef",
   "metadata": {},
   "outputs": [],
   "source": [
    "# test data\n",
    "\n",
    "test=pd.read_csv('house test.csv')"
   ]
  },
  {
   "cell_type": "code",
   "execution_count": 145,
   "id": "3c5c8398",
   "metadata": {},
   "outputs": [],
   "source": [
    "# combining both\n",
    "df=pd.concat([train,test])"
   ]
  },
  {
   "cell_type": "markdown",
   "id": "000a08e2",
   "metadata": {},
   "source": [
    "# EDA"
   ]
  },
  {
   "cell_type": "code",
   "execution_count": 149,
   "id": "c4eecf29",
   "metadata": {},
   "outputs": [
    {
     "data": {
      "text/html": [
       "<div>\n",
       "<style scoped>\n",
       "    .dataframe tbody tr th:only-of-type {\n",
       "        vertical-align: middle;\n",
       "    }\n",
       "\n",
       "    .dataframe tbody tr th {\n",
       "        vertical-align: top;\n",
       "    }\n",
       "\n",
       "    .dataframe thead th {\n",
       "        text-align: right;\n",
       "    }\n",
       "</style>\n",
       "<table border=\"1\" class=\"dataframe\">\n",
       "  <thead>\n",
       "    <tr style=\"text-align: right;\">\n",
       "      <th></th>\n",
       "      <th>Id</th>\n",
       "      <th>MSSubClass</th>\n",
       "      <th>MSZoning</th>\n",
       "      <th>LotFrontage</th>\n",
       "      <th>LotArea</th>\n",
       "      <th>Street</th>\n",
       "      <th>Alley</th>\n",
       "      <th>LotShape</th>\n",
       "      <th>LandContour</th>\n",
       "      <th>Utilities</th>\n",
       "      <th>...</th>\n",
       "      <th>PoolArea</th>\n",
       "      <th>PoolQC</th>\n",
       "      <th>Fence</th>\n",
       "      <th>MiscFeature</th>\n",
       "      <th>MiscVal</th>\n",
       "      <th>MoSold</th>\n",
       "      <th>YrSold</th>\n",
       "      <th>SaleType</th>\n",
       "      <th>SaleCondition</th>\n",
       "      <th>SalePrice</th>\n",
       "    </tr>\n",
       "  </thead>\n",
       "  <tbody>\n",
       "    <tr>\n",
       "      <th>0</th>\n",
       "      <td>127</td>\n",
       "      <td>120</td>\n",
       "      <td>RL</td>\n",
       "      <td>NaN</td>\n",
       "      <td>4928</td>\n",
       "      <td>Pave</td>\n",
       "      <td>NaN</td>\n",
       "      <td>IR1</td>\n",
       "      <td>Lvl</td>\n",
       "      <td>AllPub</td>\n",
       "      <td>...</td>\n",
       "      <td>0</td>\n",
       "      <td>NaN</td>\n",
       "      <td>NaN</td>\n",
       "      <td>NaN</td>\n",
       "      <td>0</td>\n",
       "      <td>2</td>\n",
       "      <td>2007</td>\n",
       "      <td>WD</td>\n",
       "      <td>Normal</td>\n",
       "      <td>128000.0</td>\n",
       "    </tr>\n",
       "    <tr>\n",
       "      <th>1</th>\n",
       "      <td>889</td>\n",
       "      <td>20</td>\n",
       "      <td>RL</td>\n",
       "      <td>95.0</td>\n",
       "      <td>15865</td>\n",
       "      <td>Pave</td>\n",
       "      <td>NaN</td>\n",
       "      <td>IR1</td>\n",
       "      <td>Lvl</td>\n",
       "      <td>AllPub</td>\n",
       "      <td>...</td>\n",
       "      <td>0</td>\n",
       "      <td>NaN</td>\n",
       "      <td>NaN</td>\n",
       "      <td>NaN</td>\n",
       "      <td>0</td>\n",
       "      <td>10</td>\n",
       "      <td>2007</td>\n",
       "      <td>WD</td>\n",
       "      <td>Normal</td>\n",
       "      <td>268000.0</td>\n",
       "    </tr>\n",
       "    <tr>\n",
       "      <th>2</th>\n",
       "      <td>793</td>\n",
       "      <td>60</td>\n",
       "      <td>RL</td>\n",
       "      <td>92.0</td>\n",
       "      <td>9920</td>\n",
       "      <td>Pave</td>\n",
       "      <td>NaN</td>\n",
       "      <td>IR1</td>\n",
       "      <td>Lvl</td>\n",
       "      <td>AllPub</td>\n",
       "      <td>...</td>\n",
       "      <td>0</td>\n",
       "      <td>NaN</td>\n",
       "      <td>NaN</td>\n",
       "      <td>NaN</td>\n",
       "      <td>0</td>\n",
       "      <td>6</td>\n",
       "      <td>2007</td>\n",
       "      <td>WD</td>\n",
       "      <td>Normal</td>\n",
       "      <td>269790.0</td>\n",
       "    </tr>\n",
       "    <tr>\n",
       "      <th>3</th>\n",
       "      <td>110</td>\n",
       "      <td>20</td>\n",
       "      <td>RL</td>\n",
       "      <td>105.0</td>\n",
       "      <td>11751</td>\n",
       "      <td>Pave</td>\n",
       "      <td>NaN</td>\n",
       "      <td>IR1</td>\n",
       "      <td>Lvl</td>\n",
       "      <td>AllPub</td>\n",
       "      <td>...</td>\n",
       "      <td>0</td>\n",
       "      <td>NaN</td>\n",
       "      <td>MnPrv</td>\n",
       "      <td>NaN</td>\n",
       "      <td>0</td>\n",
       "      <td>1</td>\n",
       "      <td>2010</td>\n",
       "      <td>COD</td>\n",
       "      <td>Normal</td>\n",
       "      <td>190000.0</td>\n",
       "    </tr>\n",
       "    <tr>\n",
       "      <th>4</th>\n",
       "      <td>422</td>\n",
       "      <td>20</td>\n",
       "      <td>RL</td>\n",
       "      <td>NaN</td>\n",
       "      <td>16635</td>\n",
       "      <td>Pave</td>\n",
       "      <td>NaN</td>\n",
       "      <td>IR1</td>\n",
       "      <td>Lvl</td>\n",
       "      <td>AllPub</td>\n",
       "      <td>...</td>\n",
       "      <td>0</td>\n",
       "      <td>NaN</td>\n",
       "      <td>NaN</td>\n",
       "      <td>NaN</td>\n",
       "      <td>0</td>\n",
       "      <td>6</td>\n",
       "      <td>2009</td>\n",
       "      <td>WD</td>\n",
       "      <td>Normal</td>\n",
       "      <td>215000.0</td>\n",
       "    </tr>\n",
       "  </tbody>\n",
       "</table>\n",
       "<p>5 rows × 81 columns</p>\n",
       "</div>"
      ],
      "text/plain": [
       "    Id  MSSubClass MSZoning  LotFrontage  LotArea Street Alley LotShape  \\\n",
       "0  127         120       RL          NaN     4928   Pave   NaN      IR1   \n",
       "1  889          20       RL         95.0    15865   Pave   NaN      IR1   \n",
       "2  793          60       RL         92.0     9920   Pave   NaN      IR1   \n",
       "3  110          20       RL        105.0    11751   Pave   NaN      IR1   \n",
       "4  422          20       RL          NaN    16635   Pave   NaN      IR1   \n",
       "\n",
       "  LandContour Utilities  ... PoolArea PoolQC  Fence MiscFeature MiscVal  \\\n",
       "0         Lvl    AllPub  ...        0    NaN    NaN         NaN       0   \n",
       "1         Lvl    AllPub  ...        0    NaN    NaN         NaN       0   \n",
       "2         Lvl    AllPub  ...        0    NaN    NaN         NaN       0   \n",
       "3         Lvl    AllPub  ...        0    NaN  MnPrv         NaN       0   \n",
       "4         Lvl    AllPub  ...        0    NaN    NaN         NaN       0   \n",
       "\n",
       "  MoSold YrSold  SaleType  SaleCondition  SalePrice  \n",
       "0      2   2007        WD         Normal   128000.0  \n",
       "1     10   2007        WD         Normal   268000.0  \n",
       "2      6   2007        WD         Normal   269790.0  \n",
       "3      1   2010       COD         Normal   190000.0  \n",
       "4      6   2009        WD         Normal   215000.0  \n",
       "\n",
       "[5 rows x 81 columns]"
      ]
     },
     "execution_count": 149,
     "metadata": {},
     "output_type": "execute_result"
    }
   ],
   "source": [
    "df.head()"
   ]
  },
  {
   "cell_type": "markdown",
   "id": "3bb305b4",
   "metadata": {},
   "source": [
    "Top 5 heads of the dataset."
   ]
  },
  {
   "cell_type": "code",
   "execution_count": 150,
   "id": "69fd0aff",
   "metadata": {},
   "outputs": [
    {
     "data": {
      "text/html": [
       "<div>\n",
       "<style scoped>\n",
       "    .dataframe tbody tr th:only-of-type {\n",
       "        vertical-align: middle;\n",
       "    }\n",
       "\n",
       "    .dataframe tbody tr th {\n",
       "        vertical-align: top;\n",
       "    }\n",
       "\n",
       "    .dataframe thead th {\n",
       "        text-align: right;\n",
       "    }\n",
       "</style>\n",
       "<table border=\"1\" class=\"dataframe\">\n",
       "  <thead>\n",
       "    <tr style=\"text-align: right;\">\n",
       "      <th></th>\n",
       "      <th>Id</th>\n",
       "      <th>MSSubClass</th>\n",
       "      <th>MSZoning</th>\n",
       "      <th>LotFrontage</th>\n",
       "      <th>LotArea</th>\n",
       "      <th>Street</th>\n",
       "      <th>Alley</th>\n",
       "      <th>LotShape</th>\n",
       "      <th>LandContour</th>\n",
       "      <th>Utilities</th>\n",
       "      <th>...</th>\n",
       "      <th>PoolArea</th>\n",
       "      <th>PoolQC</th>\n",
       "      <th>Fence</th>\n",
       "      <th>MiscFeature</th>\n",
       "      <th>MiscVal</th>\n",
       "      <th>MoSold</th>\n",
       "      <th>YrSold</th>\n",
       "      <th>SaleType</th>\n",
       "      <th>SaleCondition</th>\n",
       "      <th>SalePrice</th>\n",
       "    </tr>\n",
       "  </thead>\n",
       "  <tbody>\n",
       "    <tr>\n",
       "      <th>287</th>\n",
       "      <td>83</td>\n",
       "      <td>20</td>\n",
       "      <td>RL</td>\n",
       "      <td>78.0</td>\n",
       "      <td>10206</td>\n",
       "      <td>Pave</td>\n",
       "      <td>NaN</td>\n",
       "      <td>Reg</td>\n",
       "      <td>Lvl</td>\n",
       "      <td>AllPub</td>\n",
       "      <td>...</td>\n",
       "      <td>0</td>\n",
       "      <td>NaN</td>\n",
       "      <td>NaN</td>\n",
       "      <td>NaN</td>\n",
       "      <td>0</td>\n",
       "      <td>10</td>\n",
       "      <td>2008</td>\n",
       "      <td>WD</td>\n",
       "      <td>Normal</td>\n",
       "      <td>NaN</td>\n",
       "    </tr>\n",
       "    <tr>\n",
       "      <th>288</th>\n",
       "      <td>1048</td>\n",
       "      <td>20</td>\n",
       "      <td>RL</td>\n",
       "      <td>57.0</td>\n",
       "      <td>9245</td>\n",
       "      <td>Pave</td>\n",
       "      <td>NaN</td>\n",
       "      <td>IR2</td>\n",
       "      <td>Lvl</td>\n",
       "      <td>AllPub</td>\n",
       "      <td>...</td>\n",
       "      <td>0</td>\n",
       "      <td>NaN</td>\n",
       "      <td>NaN</td>\n",
       "      <td>NaN</td>\n",
       "      <td>0</td>\n",
       "      <td>2</td>\n",
       "      <td>2008</td>\n",
       "      <td>WD</td>\n",
       "      <td>Normal</td>\n",
       "      <td>NaN</td>\n",
       "    </tr>\n",
       "    <tr>\n",
       "      <th>289</th>\n",
       "      <td>17</td>\n",
       "      <td>20</td>\n",
       "      <td>RL</td>\n",
       "      <td>NaN</td>\n",
       "      <td>11241</td>\n",
       "      <td>Pave</td>\n",
       "      <td>NaN</td>\n",
       "      <td>IR1</td>\n",
       "      <td>Lvl</td>\n",
       "      <td>AllPub</td>\n",
       "      <td>...</td>\n",
       "      <td>0</td>\n",
       "      <td>NaN</td>\n",
       "      <td>NaN</td>\n",
       "      <td>Shed</td>\n",
       "      <td>700</td>\n",
       "      <td>3</td>\n",
       "      <td>2010</td>\n",
       "      <td>WD</td>\n",
       "      <td>Normal</td>\n",
       "      <td>NaN</td>\n",
       "    </tr>\n",
       "    <tr>\n",
       "      <th>290</th>\n",
       "      <td>523</td>\n",
       "      <td>50</td>\n",
       "      <td>RM</td>\n",
       "      <td>50.0</td>\n",
       "      <td>5000</td>\n",
       "      <td>Pave</td>\n",
       "      <td>NaN</td>\n",
       "      <td>Reg</td>\n",
       "      <td>Lvl</td>\n",
       "      <td>AllPub</td>\n",
       "      <td>...</td>\n",
       "      <td>0</td>\n",
       "      <td>NaN</td>\n",
       "      <td>NaN</td>\n",
       "      <td>NaN</td>\n",
       "      <td>0</td>\n",
       "      <td>10</td>\n",
       "      <td>2006</td>\n",
       "      <td>WD</td>\n",
       "      <td>Normal</td>\n",
       "      <td>NaN</td>\n",
       "    </tr>\n",
       "    <tr>\n",
       "      <th>291</th>\n",
       "      <td>1379</td>\n",
       "      <td>160</td>\n",
       "      <td>RM</td>\n",
       "      <td>21.0</td>\n",
       "      <td>1953</td>\n",
       "      <td>Pave</td>\n",
       "      <td>NaN</td>\n",
       "      <td>Reg</td>\n",
       "      <td>Lvl</td>\n",
       "      <td>AllPub</td>\n",
       "      <td>...</td>\n",
       "      <td>0</td>\n",
       "      <td>NaN</td>\n",
       "      <td>NaN</td>\n",
       "      <td>NaN</td>\n",
       "      <td>0</td>\n",
       "      <td>6</td>\n",
       "      <td>2006</td>\n",
       "      <td>WD</td>\n",
       "      <td>Normal</td>\n",
       "      <td>NaN</td>\n",
       "    </tr>\n",
       "  </tbody>\n",
       "</table>\n",
       "<p>5 rows × 81 columns</p>\n",
       "</div>"
      ],
      "text/plain": [
       "       Id  MSSubClass MSZoning  LotFrontage  LotArea Street Alley LotShape  \\\n",
       "287    83          20       RL         78.0    10206   Pave   NaN      Reg   \n",
       "288  1048          20       RL         57.0     9245   Pave   NaN      IR2   \n",
       "289    17          20       RL          NaN    11241   Pave   NaN      IR1   \n",
       "290   523          50       RM         50.0     5000   Pave   NaN      Reg   \n",
       "291  1379         160       RM         21.0     1953   Pave   NaN      Reg   \n",
       "\n",
       "    LandContour Utilities  ... PoolArea PoolQC Fence MiscFeature MiscVal  \\\n",
       "287         Lvl    AllPub  ...        0    NaN   NaN         NaN       0   \n",
       "288         Lvl    AllPub  ...        0    NaN   NaN         NaN       0   \n",
       "289         Lvl    AllPub  ...        0    NaN   NaN        Shed     700   \n",
       "290         Lvl    AllPub  ...        0    NaN   NaN         NaN       0   \n",
       "291         Lvl    AllPub  ...        0    NaN   NaN         NaN       0   \n",
       "\n",
       "    MoSold YrSold  SaleType  SaleCondition  SalePrice  \n",
       "287     10   2008        WD         Normal        NaN  \n",
       "288      2   2008        WD         Normal        NaN  \n",
       "289      3   2010        WD         Normal        NaN  \n",
       "290     10   2006        WD         Normal        NaN  \n",
       "291      6   2006        WD         Normal        NaN  \n",
       "\n",
       "[5 rows x 81 columns]"
      ]
     },
     "execution_count": 150,
     "metadata": {},
     "output_type": "execute_result"
    }
   ],
   "source": [
    "df.tail()"
   ]
  },
  {
   "cell_type": "code",
   "execution_count": 151,
   "id": "86e693a9",
   "metadata": {},
   "outputs": [
    {
     "name": "stdout",
     "output_type": "stream",
     "text": [
      "<class 'pandas.core.frame.DataFrame'>\n",
      "Int64Index: 1460 entries, 0 to 291\n",
      "Data columns (total 81 columns):\n",
      " #   Column         Non-Null Count  Dtype  \n",
      "---  ------         --------------  -----  \n",
      " 0   Id             1460 non-null   int64  \n",
      " 1   MSSubClass     1460 non-null   int64  \n",
      " 2   MSZoning       1460 non-null   object \n",
      " 3   LotFrontage    1201 non-null   float64\n",
      " 4   LotArea        1460 non-null   int64  \n",
      " 5   Street         1460 non-null   object \n",
      " 6   Alley          91 non-null     object \n",
      " 7   LotShape       1460 non-null   object \n",
      " 8   LandContour    1460 non-null   object \n",
      " 9   Utilities      1460 non-null   object \n",
      " 10  LotConfig      1460 non-null   object \n",
      " 11  LandSlope      1460 non-null   object \n",
      " 12  Neighborhood   1460 non-null   object \n",
      " 13  Condition1     1460 non-null   object \n",
      " 14  Condition2     1460 non-null   object \n",
      " 15  BldgType       1460 non-null   object \n",
      " 16  HouseStyle     1460 non-null   object \n",
      " 17  OverallQual    1460 non-null   int64  \n",
      " 18  OverallCond    1460 non-null   int64  \n",
      " 19  YearBuilt      1460 non-null   int64  \n",
      " 20  YearRemodAdd   1460 non-null   int64  \n",
      " 21  RoofStyle      1460 non-null   object \n",
      " 22  RoofMatl       1460 non-null   object \n",
      " 23  Exterior1st    1460 non-null   object \n",
      " 24  Exterior2nd    1460 non-null   object \n",
      " 25  MasVnrType     1452 non-null   object \n",
      " 26  MasVnrArea     1452 non-null   float64\n",
      " 27  ExterQual      1460 non-null   object \n",
      " 28  ExterCond      1460 non-null   object \n",
      " 29  Foundation     1460 non-null   object \n",
      " 30  BsmtQual       1423 non-null   object \n",
      " 31  BsmtCond       1423 non-null   object \n",
      " 32  BsmtExposure   1422 non-null   object \n",
      " 33  BsmtFinType1   1423 non-null   object \n",
      " 34  BsmtFinSF1     1460 non-null   int64  \n",
      " 35  BsmtFinType2   1422 non-null   object \n",
      " 36  BsmtFinSF2     1460 non-null   int64  \n",
      " 37  BsmtUnfSF      1460 non-null   int64  \n",
      " 38  TotalBsmtSF    1460 non-null   int64  \n",
      " 39  Heating        1460 non-null   object \n",
      " 40  HeatingQC      1460 non-null   object \n",
      " 41  CentralAir     1460 non-null   object \n",
      " 42  Electrical     1459 non-null   object \n",
      " 43  1stFlrSF       1460 non-null   int64  \n",
      " 44  2ndFlrSF       1460 non-null   int64  \n",
      " 45  LowQualFinSF   1460 non-null   int64  \n",
      " 46  GrLivArea      1460 non-null   int64  \n",
      " 47  BsmtFullBath   1460 non-null   int64  \n",
      " 48  BsmtHalfBath   1460 non-null   int64  \n",
      " 49  FullBath       1460 non-null   int64  \n",
      " 50  HalfBath       1460 non-null   int64  \n",
      " 51  BedroomAbvGr   1460 non-null   int64  \n",
      " 52  KitchenAbvGr   1460 non-null   int64  \n",
      " 53  KitchenQual    1460 non-null   object \n",
      " 54  TotRmsAbvGrd   1460 non-null   int64  \n",
      " 55  Functional     1460 non-null   object \n",
      " 56  Fireplaces     1460 non-null   int64  \n",
      " 57  FireplaceQu    770 non-null    object \n",
      " 58  GarageType     1379 non-null   object \n",
      " 59  GarageYrBlt    1379 non-null   float64\n",
      " 60  GarageFinish   1379 non-null   object \n",
      " 61  GarageCars     1460 non-null   int64  \n",
      " 62  GarageArea     1460 non-null   int64  \n",
      " 63  GarageQual     1379 non-null   object \n",
      " 64  GarageCond     1379 non-null   object \n",
      " 65  PavedDrive     1460 non-null   object \n",
      " 66  WoodDeckSF     1460 non-null   int64  \n",
      " 67  OpenPorchSF    1460 non-null   int64  \n",
      " 68  EnclosedPorch  1460 non-null   int64  \n",
      " 69  3SsnPorch      1460 non-null   int64  \n",
      " 70  ScreenPorch    1460 non-null   int64  \n",
      " 71  PoolArea       1460 non-null   int64  \n",
      " 72  PoolQC         7 non-null      object \n",
      " 73  Fence          281 non-null    object \n",
      " 74  MiscFeature    54 non-null     object \n",
      " 75  MiscVal        1460 non-null   int64  \n",
      " 76  MoSold         1460 non-null   int64  \n",
      " 77  YrSold         1460 non-null   int64  \n",
      " 78  SaleType       1460 non-null   object \n",
      " 79  SaleCondition  1460 non-null   object \n",
      " 80  SalePrice      1168 non-null   float64\n",
      "dtypes: float64(4), int64(34), object(43)\n",
      "memory usage: 935.3+ KB\n"
     ]
    }
   ],
   "source": [
    "df.info()"
   ]
  },
  {
   "cell_type": "markdown",
   "id": "088b57ed",
   "metadata": {},
   "source": [
    "3 float data type columns, 35 integer data  type columns and 43 object data type columns present in the dataset."
   ]
  },
  {
   "cell_type": "code",
   "execution_count": 152,
   "id": "aa5470d9",
   "metadata": {},
   "outputs": [
    {
     "data": {
      "text/plain": [
       "(1460, 81)"
      ]
     },
     "execution_count": 152,
     "metadata": {},
     "output_type": "execute_result"
    }
   ],
   "source": [
    "df.shape"
   ]
  },
  {
   "cell_type": "code",
   "execution_count": 153,
   "id": "e0e38ee2",
   "metadata": {},
   "outputs": [
    {
     "data": {
      "text/plain": [
       "Id                 0\n",
       "MSSubClass         0\n",
       "MSZoning           0\n",
       "LotFrontage      259\n",
       "LotArea            0\n",
       "Street             0\n",
       "Alley           1369\n",
       "LotShape           0\n",
       "LandContour        0\n",
       "Utilities          0\n",
       "LotConfig          0\n",
       "LandSlope          0\n",
       "Neighborhood       0\n",
       "Condition1         0\n",
       "Condition2         0\n",
       "BldgType           0\n",
       "HouseStyle         0\n",
       "OverallQual        0\n",
       "OverallCond        0\n",
       "YearBuilt          0\n",
       "YearRemodAdd       0\n",
       "RoofStyle          0\n",
       "RoofMatl           0\n",
       "Exterior1st        0\n",
       "Exterior2nd        0\n",
       "MasVnrType         8\n",
       "MasVnrArea         8\n",
       "ExterQual          0\n",
       "ExterCond          0\n",
       "Foundation         0\n",
       "BsmtQual          37\n",
       "BsmtCond          37\n",
       "BsmtExposure      38\n",
       "BsmtFinType1      37\n",
       "BsmtFinSF1         0\n",
       "BsmtFinType2      38\n",
       "BsmtFinSF2         0\n",
       "BsmtUnfSF          0\n",
       "TotalBsmtSF        0\n",
       "Heating            0\n",
       "HeatingQC          0\n",
       "CentralAir         0\n",
       "Electrical         1\n",
       "1stFlrSF           0\n",
       "2ndFlrSF           0\n",
       "LowQualFinSF       0\n",
       "GrLivArea          0\n",
       "BsmtFullBath       0\n",
       "BsmtHalfBath       0\n",
       "FullBath           0\n",
       "dtype: int64"
      ]
     },
     "execution_count": 153,
     "metadata": {},
     "output_type": "execute_result"
    }
   ],
   "source": [
    "# Checking null values top 50 columns\n",
    "\n",
    "df.isnull().sum().head(50)"
   ]
  },
  {
   "cell_type": "markdown",
   "id": "620831e7",
   "metadata": {},
   "source": [
    "In top 50 columns there is null values are present in some of the columns we will treat it later,"
   ]
  },
  {
   "cell_type": "code",
   "execution_count": 154,
   "id": "3b1ce0be",
   "metadata": {},
   "outputs": [
    {
     "data": {
      "text/plain": [
       "HalfBath            0\n",
       "BedroomAbvGr        0\n",
       "KitchenAbvGr        0\n",
       "KitchenQual         0\n",
       "TotRmsAbvGrd        0\n",
       "Functional          0\n",
       "Fireplaces          0\n",
       "FireplaceQu       690\n",
       "GarageType         81\n",
       "GarageYrBlt        81\n",
       "GarageFinish       81\n",
       "GarageCars          0\n",
       "GarageArea          0\n",
       "GarageQual         81\n",
       "GarageCond         81\n",
       "PavedDrive          0\n",
       "WoodDeckSF          0\n",
       "OpenPorchSF         0\n",
       "EnclosedPorch       0\n",
       "3SsnPorch           0\n",
       "ScreenPorch         0\n",
       "PoolArea            0\n",
       "PoolQC           1453\n",
       "Fence            1179\n",
       "MiscFeature      1406\n",
       "MiscVal             0\n",
       "MoSold              0\n",
       "YrSold              0\n",
       "SaleType            0\n",
       "SaleCondition       0\n",
       "SalePrice         292\n",
       "dtype: int64"
      ]
     },
     "execution_count": 154,
     "metadata": {},
     "output_type": "execute_result"
    }
   ],
   "source": [
    "# checking null values on bottom 31 columns\n",
    "df.isnull().sum().tail(31)"
   ]
  },
  {
   "cell_type": "markdown",
   "id": "e86d1388",
   "metadata": {},
   "source": [
    "Null values are present in many bottom 31 columns."
   ]
  },
  {
   "cell_type": "markdown",
   "id": "653b2adc",
   "metadata": {},
   "source": [
    "# Deleting unwanted columns"
   ]
  },
  {
   "cell_type": "code",
   "execution_count": 156,
   "id": "49b171bc",
   "metadata": {},
   "outputs": [],
   "source": [
    "# Street column is same for all\n",
    "del df['Street']"
   ]
  },
  {
   "cell_type": "code",
   "execution_count": 157,
   "id": "790a24fa",
   "metadata": {},
   "outputs": [],
   "source": [
    "# Utilities column is same for all\n",
    "del df['Utilities']"
   ]
  },
  {
   "cell_type": "code",
   "execution_count": 158,
   "id": "ffed2162",
   "metadata": {},
   "outputs": [],
   "source": [
    "# most of the Heating column is same for all very few for others's\n",
    "del df['Heating']"
   ]
  },
  {
   "cell_type": "code",
   "execution_count": 159,
   "id": "23c8424a",
   "metadata": {},
   "outputs": [],
   "source": [
    "# Alley column because out of 1168 rows 1091 are null\n",
    "del df['Alley']"
   ]
  },
  {
   "cell_type": "code",
   "execution_count": 160,
   "id": "750cf3f0",
   "metadata": {},
   "outputs": [],
   "source": [
    "# PoolQC column because out of 1168 rows 1161 are null\n",
    "del df['PoolQC']"
   ]
  },
  {
   "cell_type": "code",
   "execution_count": 161,
   "id": "dc7867bd",
   "metadata": {},
   "outputs": [],
   "source": [
    "# Fence column because out of 1168 rows 931 are null\n",
    "del df['Fence']"
   ]
  },
  {
   "cell_type": "code",
   "execution_count": 162,
   "id": "b451655f",
   "metadata": {},
   "outputs": [],
   "source": [
    "# MiscFeature column because out of 1168 rows 1124 are null\n",
    "del df['MiscFeature']"
   ]
  },
  {
   "cell_type": "code",
   "execution_count": 155,
   "id": "fd91973c",
   "metadata": {},
   "outputs": [],
   "source": [
    "# Deleting  PoolArea column because all values are 0 in the column\n",
    "del df['PoolArea']"
   ]
  },
  {
   "cell_type": "markdown",
   "id": "00772f04",
   "metadata": {},
   "source": [
    "# Handling Null values "
   ]
  },
  {
   "cell_type": "code",
   "execution_count": 163,
   "id": "e1a76038",
   "metadata": {},
   "outputs": [],
   "source": [
    "df.dropna(inplace=True)"
   ]
  },
  {
   "cell_type": "code",
   "execution_count": 165,
   "id": "9bfb87b4",
   "metadata": {},
   "outputs": [
    {
     "data": {
      "text/plain": [
       "(467, 73)"
      ]
     },
     "execution_count": 165,
     "metadata": {},
     "output_type": "execute_result"
    }
   ],
   "source": [
    "df.shape"
   ]
  },
  {
   "cell_type": "markdown",
   "id": "74f612d1",
   "metadata": {},
   "source": [
    "Now we have 467 rows and 7 columns present in the dataset."
   ]
  },
  {
   "cell_type": "markdown",
   "id": "02122c8e",
   "metadata": {},
   "source": [
    "# VISUALIZATION OF NOMINAL DATA BY COUNT PLOT"
   ]
  },
  {
   "cell_type": "code",
   "execution_count": 166,
   "id": "af6b328a",
   "metadata": {},
   "outputs": [
    {
     "data": {
      "text/html": [
       "<div>\n",
       "<style scoped>\n",
       "    .dataframe tbody tr th:only-of-type {\n",
       "        vertical-align: middle;\n",
       "    }\n",
       "\n",
       "    .dataframe tbody tr th {\n",
       "        vertical-align: top;\n",
       "    }\n",
       "\n",
       "    .dataframe thead th {\n",
       "        text-align: right;\n",
       "    }\n",
       "</style>\n",
       "<table border=\"1\" class=\"dataframe\">\n",
       "  <thead>\n",
       "    <tr style=\"text-align: right;\">\n",
       "      <th></th>\n",
       "      <th>Id</th>\n",
       "      <th>MSSubClass</th>\n",
       "      <th>MSZoning</th>\n",
       "      <th>LotFrontage</th>\n",
       "      <th>LotArea</th>\n",
       "      <th>LotShape</th>\n",
       "      <th>LandContour</th>\n",
       "      <th>LotConfig</th>\n",
       "      <th>LandSlope</th>\n",
       "      <th>Neighborhood</th>\n",
       "      <th>...</th>\n",
       "      <th>OpenPorchSF</th>\n",
       "      <th>EnclosedPorch</th>\n",
       "      <th>3SsnPorch</th>\n",
       "      <th>ScreenPorch</th>\n",
       "      <th>MiscVal</th>\n",
       "      <th>MoSold</th>\n",
       "      <th>YrSold</th>\n",
       "      <th>SaleType</th>\n",
       "      <th>SaleCondition</th>\n",
       "      <th>SalePrice</th>\n",
       "    </tr>\n",
       "  </thead>\n",
       "  <tbody>\n",
       "    <tr>\n",
       "      <th>1</th>\n",
       "      <td>889</td>\n",
       "      <td>20</td>\n",
       "      <td>RL</td>\n",
       "      <td>95.0</td>\n",
       "      <td>15865</td>\n",
       "      <td>IR1</td>\n",
       "      <td>Lvl</td>\n",
       "      <td>Inside</td>\n",
       "      <td>Mod</td>\n",
       "      <td>NAmes</td>\n",
       "      <td>...</td>\n",
       "      <td>207</td>\n",
       "      <td>0</td>\n",
       "      <td>0</td>\n",
       "      <td>224</td>\n",
       "      <td>0</td>\n",
       "      <td>10</td>\n",
       "      <td>2007</td>\n",
       "      <td>WD</td>\n",
       "      <td>Normal</td>\n",
       "      <td>268000.0</td>\n",
       "    </tr>\n",
       "    <tr>\n",
       "      <th>2</th>\n",
       "      <td>793</td>\n",
       "      <td>60</td>\n",
       "      <td>RL</td>\n",
       "      <td>92.0</td>\n",
       "      <td>9920</td>\n",
       "      <td>IR1</td>\n",
       "      <td>Lvl</td>\n",
       "      <td>CulDSac</td>\n",
       "      <td>Gtl</td>\n",
       "      <td>NoRidge</td>\n",
       "      <td>...</td>\n",
       "      <td>130</td>\n",
       "      <td>0</td>\n",
       "      <td>0</td>\n",
       "      <td>0</td>\n",
       "      <td>0</td>\n",
       "      <td>6</td>\n",
       "      <td>2007</td>\n",
       "      <td>WD</td>\n",
       "      <td>Normal</td>\n",
       "      <td>269790.0</td>\n",
       "    </tr>\n",
       "    <tr>\n",
       "      <th>3</th>\n",
       "      <td>110</td>\n",
       "      <td>20</td>\n",
       "      <td>RL</td>\n",
       "      <td>105.0</td>\n",
       "      <td>11751</td>\n",
       "      <td>IR1</td>\n",
       "      <td>Lvl</td>\n",
       "      <td>Inside</td>\n",
       "      <td>Gtl</td>\n",
       "      <td>NWAmes</td>\n",
       "      <td>...</td>\n",
       "      <td>122</td>\n",
       "      <td>0</td>\n",
       "      <td>0</td>\n",
       "      <td>0</td>\n",
       "      <td>0</td>\n",
       "      <td>1</td>\n",
       "      <td>2010</td>\n",
       "      <td>COD</td>\n",
       "      <td>Normal</td>\n",
       "      <td>190000.0</td>\n",
       "    </tr>\n",
       "    <tr>\n",
       "      <th>5</th>\n",
       "      <td>1197</td>\n",
       "      <td>60</td>\n",
       "      <td>RL</td>\n",
       "      <td>58.0</td>\n",
       "      <td>14054</td>\n",
       "      <td>IR1</td>\n",
       "      <td>Lvl</td>\n",
       "      <td>Inside</td>\n",
       "      <td>Gtl</td>\n",
       "      <td>Gilbert</td>\n",
       "      <td>...</td>\n",
       "      <td>17</td>\n",
       "      <td>0</td>\n",
       "      <td>0</td>\n",
       "      <td>0</td>\n",
       "      <td>0</td>\n",
       "      <td>11</td>\n",
       "      <td>2006</td>\n",
       "      <td>New</td>\n",
       "      <td>Partial</td>\n",
       "      <td>219210.0</td>\n",
       "    </tr>\n",
       "    <tr>\n",
       "      <th>7</th>\n",
       "      <td>1041</td>\n",
       "      <td>20</td>\n",
       "      <td>RL</td>\n",
       "      <td>88.0</td>\n",
       "      <td>13125</td>\n",
       "      <td>Reg</td>\n",
       "      <td>Lvl</td>\n",
       "      <td>Corner</td>\n",
       "      <td>Gtl</td>\n",
       "      <td>Sawyer</td>\n",
       "      <td>...</td>\n",
       "      <td>0</td>\n",
       "      <td>0</td>\n",
       "      <td>0</td>\n",
       "      <td>0</td>\n",
       "      <td>0</td>\n",
       "      <td>1</td>\n",
       "      <td>2006</td>\n",
       "      <td>WD</td>\n",
       "      <td>Normal</td>\n",
       "      <td>155000.0</td>\n",
       "    </tr>\n",
       "  </tbody>\n",
       "</table>\n",
       "<p>5 rows × 73 columns</p>\n",
       "</div>"
      ],
      "text/plain": [
       "     Id  MSSubClass MSZoning  LotFrontage  LotArea LotShape LandContour  \\\n",
       "1   889          20       RL         95.0    15865      IR1         Lvl   \n",
       "2   793          60       RL         92.0     9920      IR1         Lvl   \n",
       "3   110          20       RL        105.0    11751      IR1         Lvl   \n",
       "5  1197          60       RL         58.0    14054      IR1         Lvl   \n",
       "7  1041          20       RL         88.0    13125      Reg         Lvl   \n",
       "\n",
       "  LotConfig LandSlope Neighborhood  ... OpenPorchSF EnclosedPorch 3SsnPorch  \\\n",
       "1    Inside       Mod        NAmes  ...         207             0         0   \n",
       "2   CulDSac       Gtl      NoRidge  ...         130             0         0   \n",
       "3    Inside       Gtl       NWAmes  ...         122             0         0   \n",
       "5    Inside       Gtl      Gilbert  ...          17             0         0   \n",
       "7    Corner       Gtl       Sawyer  ...           0             0         0   \n",
       "\n",
       "  ScreenPorch  MiscVal  MoSold  YrSold  SaleType SaleCondition SalePrice  \n",
       "1         224        0      10    2007        WD        Normal  268000.0  \n",
       "2           0        0       6    2007        WD        Normal  269790.0  \n",
       "3           0        0       1    2010       COD        Normal  190000.0  \n",
       "5           0        0      11    2006       New       Partial  219210.0  \n",
       "7           0        0       1    2006        WD        Normal  155000.0  \n",
       "\n",
       "[5 rows x 73 columns]"
      ]
     },
     "execution_count": 166,
     "metadata": {},
     "output_type": "execute_result"
    }
   ],
   "source": [
    "df.head()"
   ]
  },
  {
   "cell_type": "code",
   "execution_count": 167,
   "id": "645bc181",
   "metadata": {},
   "outputs": [
    {
     "name": "stdout",
     "output_type": "stream",
     "text": [
      "RL         409\n",
      "RM          41\n",
      "FV          16\n",
      "C (all)      1\n",
      "Name: MSZoning, dtype: int64\n"
     ]
    },
    {
     "data": {
      "image/png": "[encoded data removed]",
      "text/plain": [
       "<Figure size 432x288 with 1 Axes>"
      ]
     },
     "metadata": {
      "needs_background": "light"
     },
     "output_type": "display_data"
    }
   ],
   "source": [
    "ax=sns.countplot(x='MSZoning',data=df)\n",
    "print(df['MSZoning'].value_counts())"
   ]
  },
  {
   "cell_type": "markdown",
   "id": "253b2e39",
   "metadata": {},
   "source": [
    "RL is more than the RM FV and  C (all)."
   ]
  },
  {
   "cell_type": "code",
   "execution_count": null,
   "id": "1ab3ad5e",
   "metadata": {},
   "outputs": [],
   "source": []
  },
  {
   "cell_type": "code",
   "execution_count": null,
   "id": "1864bfe9",
   "metadata": {},
   "outputs": [],
   "source": []
  },
  {
   "cell_type": "code",
   "execution_count": 169,
   "id": "7547ca2e",
   "metadata": {},
   "outputs": [
    {
     "name": "stdout",
     "output_type": "stream",
     "text": [
      "Reg    280\n",
      "IR1    169\n",
      "IR2     14\n",
      "IR3      4\n",
      "Name: LotShape, dtype: int64\n"
     ]
    },
    {
     "data": {
      "image/png": "[encoded data removed]",
      "text/plain": [
       "<Figure size 432x288 with 1 Axes>"
      ]
     },
     "metadata": {
      "needs_background": "light"
     },
     "output_type": "display_data"
    }
   ],
   "source": [
    "ax=sns.countplot(x='LotShape',data=df)\n",
    "print(df['LotShape'].value_counts())"
   ]
  },
  {
   "cell_type": "markdown",
   "id": "cbbca8f8",
   "metadata": {},
   "source": [
    "There is not much difference between Reg and IR1."
   ]
  },
  {
   "cell_type": "code",
   "execution_count": null,
   "id": "30da0f08",
   "metadata": {},
   "outputs": [],
   "source": []
  },
  {
   "cell_type": "code",
   "execution_count": 170,
   "id": "e0a4c733",
   "metadata": {},
   "outputs": [
    {
     "name": "stdout",
     "output_type": "stream",
     "text": [
      "Lvl    416\n",
      "HLS     26\n",
      "Bnk     19\n",
      "Low      6\n",
      "Name: LandContour, dtype: int64\n"
     ]
    },
    {
     "data": {
      "image/png": "[encoded data removed]",
      "text/plain": [
       "<Figure size 432x288 with 1 Axes>"
      ]
     },
     "metadata": {
      "needs_background": "light"
     },
     "output_type": "display_data"
    }
   ],
   "source": [
    "ax=sns.countplot(x='LandContour',data=df)\n",
    "print(df['LandContour'].value_counts())"
   ]
  },
  {
   "cell_type": "markdown",
   "id": "ac153de6",
   "metadata": {},
   "source": [
    "Lvl is maximum in numbers that is 416."
   ]
  },
  {
   "cell_type": "code",
   "execution_count": null,
   "id": "b5ed9448",
   "metadata": {},
   "outputs": [],
   "source": []
  },
  {
   "cell_type": "code",
   "execution_count": null,
   "id": "02fa8fc7",
   "metadata": {},
   "outputs": [],
   "source": []
  },
  {
   "cell_type": "code",
   "execution_count": 171,
   "id": "56aa4d41",
   "metadata": {},
   "outputs": [
    {
     "name": "stdout",
     "output_type": "stream",
     "text": [
      "Inside     349\n",
      "Corner      83\n",
      "CulDSac     24\n",
      "FR2         10\n",
      "FR3          1\n",
      "Name: LotConfig, dtype: int64\n"
     ]
    },
    {
     "data": {
      "image/png": "[encoded data removed]",
      "text/plain": [
       "<Figure size 432x288 with 1 Axes>"
      ]
     },
     "metadata": {
      "needs_background": "light"
     },
     "output_type": "display_data"
    }
   ],
   "source": [
    "ax=sns.countplot(x='LotConfig',data=df)\n",
    "print(df['LotConfig'].value_counts())"
   ]
  },
  {
   "cell_type": "markdown",
   "id": "c4e824a3",
   "metadata": {},
   "source": [
    "In LotConfig column Inside is showing maximum in numbers that is 349."
   ]
  },
  {
   "cell_type": "code",
   "execution_count": null,
   "id": "17eb7aa1",
   "metadata": {},
   "outputs": [],
   "source": []
  },
  {
   "cell_type": "code",
   "execution_count": 172,
   "id": "af868730",
   "metadata": {},
   "outputs": [
    {
     "name": "stdout",
     "output_type": "stream",
     "text": [
      "Gtl    443\n",
      "Mod     21\n",
      "Sev      3\n",
      "Name: LandSlope, dtype: int64\n"
     ]
    },
    {
     "data": {
      "image/png": "[encoded data removed]",
      "text/plain": [
       "<Figure size 432x288 with 1 Axes>"
      ]
     },
     "metadata": {
      "needs_background": "light"
     },
     "output_type": "display_data"
    }
   ],
   "source": [
    "ax=sns.countplot(x='LandSlope',data=df)\n",
    "print(df['LandSlope'].value_counts())"
   ]
  },
  {
   "cell_type": "markdown",
   "id": "734d50d7",
   "metadata": {},
   "source": [
    "In LandSlope column, Gtl is maximum. "
   ]
  },
  {
   "cell_type": "code",
   "execution_count": null,
   "id": "04a48a04",
   "metadata": {},
   "outputs": [],
   "source": []
  },
  {
   "cell_type": "code",
   "execution_count": 173,
   "id": "a9d28e82",
   "metadata": {},
   "outputs": [
    {
     "name": "stdout",
     "output_type": "stream",
     "text": [
      "Norm      406\n",
      "Artery     20\n",
      "Feedr      18\n",
      "RRAn        9\n",
      "PosN        8\n",
      "PosA        2\n",
      "RRAe        2\n",
      "RRNn        2\n",
      "Name: Condition1, dtype: int64\n"
     ]
    },
    {
     "data": {
      "image/png": "[encoded data removed]",
      "text/plain": [
       "<Figure size 432x288 with 1 Axes>"
      ]
     },
     "metadata": {
      "needs_background": "light"
     },
     "output_type": "display_data"
    }
   ],
   "source": [
    "ax=sns.countplot(x='Condition1',data=df)\n",
    "print(df['Condition1'].value_counts())"
   ]
  },
  {
   "cell_type": "markdown",
   "id": "64f64529",
   "metadata": {},
   "source": [
    "Norm is maximum in Condition1 column."
   ]
  },
  {
   "cell_type": "code",
   "execution_count": null,
   "id": "78014abb",
   "metadata": {},
   "outputs": [],
   "source": []
  },
  {
   "cell_type": "code",
   "execution_count": 174,
   "id": "addb3978",
   "metadata": {},
   "outputs": [
    {
     "name": "stdout",
     "output_type": "stream",
     "text": [
      "Norm      463\n",
      "PosN        2\n",
      "PosA        1\n",
      "Artery      1\n",
      "Name: Condition2, dtype: int64\n"
     ]
    },
    {
     "data": {
      "image/png": "[encoded data removed]",
      "text/plain": [
       "<Figure size 432x288 with 1 Axes>"
      ]
     },
     "metadata": {
      "needs_background": "light"
     },
     "output_type": "display_data"
    }
   ],
   "source": [
    "ax=sns.countplot(x='Condition2',data=df)\n",
    "print(df['Condition2'].value_counts())"
   ]
  },
  {
   "cell_type": "markdown",
   "id": "b4e3c2c1",
   "metadata": {},
   "source": [
    "Norm is maximum in Condition2 column."
   ]
  },
  {
   "cell_type": "code",
   "execution_count": null,
   "id": "a0bb39c0",
   "metadata": {},
   "outputs": [],
   "source": []
  },
  {
   "cell_type": "code",
   "execution_count": 175,
   "id": "dad8fc8d",
   "metadata": {},
   "outputs": [
    {
     "name": "stdout",
     "output_type": "stream",
     "text": [
      "1Fam      409\n",
      "TwnhsE     43\n",
      "2fmCon      8\n",
      "Twnhs       6\n",
      "Duplex      1\n",
      "Name: BldgType, dtype: int64\n"
     ]
    },
    {
     "data": {
      "image/png": "[encoded data removed]",
      "text/plain": [
       "<Figure size 432x288 with 1 Axes>"
      ]
     },
     "metadata": {
      "needs_background": "light"
     },
     "output_type": "display_data"
    }
   ],
   "source": [
    "ax=sns.countplot(x='BldgType',data=df)\n",
    "print(df['BldgType'].value_counts())"
   ]
  },
  {
   "cell_type": "markdown",
   "id": "7c2eda5c",
   "metadata": {},
   "source": [
    "1Fam is maximum in BldgType column."
   ]
  },
  {
   "cell_type": "code",
   "execution_count": null,
   "id": "86ce65aa",
   "metadata": {},
   "outputs": [],
   "source": []
  },
  {
   "cell_type": "code",
   "execution_count": 177,
   "id": "55c92ca4",
   "metadata": {},
   "outputs": [
    {
     "name": "stdout",
     "output_type": "stream",
     "text": [
      "1Story    209\n",
      "2Story    181\n",
      "1.5Fin     43\n",
      "SLvl       18\n",
      "2.5Unf      6\n",
      "2.5Fin      4\n",
      "1.5Unf      3\n",
      "SFoyer      3\n",
      "Name: HouseStyle, dtype: int64\n"
     ]
    },
    {
     "data": {
      "image/png": "[encoded data removed]",
      "text/plain": [
       "<Figure size 432x288 with 1 Axes>"
      ]
     },
     "metadata": {
      "needs_background": "light"
     },
     "output_type": "display_data"
    }
   ],
   "source": [
    "ax=sns.countplot(x='HouseStyle',data=df)\n",
    "print(df['HouseStyle'].value_counts())"
   ]
  },
  {
   "cell_type": "markdown",
   "id": "26c1ef3e",
   "metadata": {},
   "source": [
    "There is not much noticalble difference between 1Story and 2Story. 1Story is maximum in numbers."
   ]
  },
  {
   "cell_type": "code",
   "execution_count": null,
   "id": "ae281a75",
   "metadata": {},
   "outputs": [],
   "source": []
  },
  {
   "cell_type": "code",
   "execution_count": 180,
   "id": "7c5630b6",
   "metadata": {},
   "outputs": [
    {
     "name": "stdout",
     "output_type": "stream",
     "text": [
      "Gable      334\n",
      "Hip        121\n",
      "Flat         5\n",
      "Gambrel      4\n",
      "Mansard      3\n",
      "Name: RoofStyle, dtype: int64\n"
     ]
    },
    {
     "data": {
      "image/png": "[encoded data removed]",
      "text/plain": [
       "<Figure size 432x288 with 1 Axes>"
      ]
     },
     "metadata": {
      "needs_background": "light"
     },
     "output_type": "display_data"
    }
   ],
   "source": [
    "ax=sns.countplot(x='RoofStyle',data=df)\n",
    "print(df['RoofStyle'].value_counts())"
   ]
  },
  {
   "cell_type": "markdown",
   "id": "6f730f54",
   "metadata": {},
   "source": [
    "In RoofStyle column Gable is maximum."
   ]
  },
  {
   "cell_type": "code",
   "execution_count": null,
   "id": "33269b2e",
   "metadata": {},
   "outputs": [],
   "source": []
  },
  {
   "cell_type": "code",
   "execution_count": 181,
   "id": "7956ee18",
   "metadata": {},
   "outputs": [
    {
     "name": "stdout",
     "output_type": "stream",
     "text": [
      "CompShg    454\n",
      "Tar&Grv      5\n",
      "WdShngl      5\n",
      "ClyTile      1\n",
      "WdShake      1\n",
      "Membran      1\n",
      "Name: RoofMatl, dtype: int64\n"
     ]
    },
    {
     "data": {
      "image/png": "[encoded data removed]",
      "text/plain": [
       "<Figure size 432x288 with 1 Axes>"
      ]
     },
     "metadata": {
      "needs_background": "light"
     },
     "output_type": "display_data"
    }
   ],
   "source": [
    "ax=sns.countplot(x='RoofMatl',data=df)\n",
    "print(df['RoofMatl'].value_counts())"
   ]
  },
  {
   "cell_type": "markdown",
   "id": "e8f6237b",
   "metadata": {},
   "source": [
    "In RoofMatl column CompShg is maximum."
   ]
  },
  {
   "cell_type": "code",
   "execution_count": null,
   "id": "6f61b5d9",
   "metadata": {},
   "outputs": [],
   "source": []
  },
  {
   "cell_type": "code",
   "execution_count": 182,
   "id": "e0240f2e",
   "metadata": {},
   "outputs": [
    {
     "name": "stdout",
     "output_type": "stream",
     "text": [
      "6     127\n",
      "7     126\n",
      "8      98\n",
      "5      67\n",
      "9      29\n",
      "10     13\n",
      "4       7\n",
      "Name: OverallQual, dtype: int64\n"
     ]
    },
    {
     "data": {
      "image/png": "[encoded data removed]",
      "text/plain": [
       "<Figure size 432x288 with 1 Axes>"
      ]
     },
     "metadata": {
      "needs_background": "light"
     },
     "output_type": "display_data"
    }
   ],
   "source": [
    "ax=sns.countplot(x='OverallQual',data=df)\n",
    "print(df['OverallQual'].value_counts())"
   ]
  },
  {
   "cell_type": "markdown",
   "id": "cc835b9b",
   "metadata": {},
   "source": [
    "In OverallQual column 6 is maximum in numbers and there is not much difference between 6 and 7."
   ]
  },
  {
   "cell_type": "code",
   "execution_count": null,
   "id": "e87c4a33",
   "metadata": {},
   "outputs": [],
   "source": []
  },
  {
   "cell_type": "code",
   "execution_count": 183,
   "id": "9bb7c63c",
   "metadata": {},
   "outputs": [
    {
     "name": "stdout",
     "output_type": "stream",
     "text": [
      "5    291\n",
      "6     85\n",
      "7     45\n",
      "8     22\n",
      "9     10\n",
      "4      9\n",
      "3      4\n",
      "2      1\n",
      "Name: OverallCond, dtype: int64\n"
     ]
    },
    {
     "data": {
      "image/png": "[encoded data removed]",
      "text/plain": [
       "<Figure size 432x288 with 1 Axes>"
      ]
     },
     "metadata": {
      "needs_background": "light"
     },
     "output_type": "display_data"
    }
   ],
   "source": [
    "ax=sns.countplot(x='OverallCond',data=df)\n",
    "print(df['OverallCond'].value_counts())"
   ]
  },
  {
   "cell_type": "markdown",
   "id": "0f7b032d",
   "metadata": {},
   "source": [
    "In OverallCond column 5 is maximum in numbers that is 291."
   ]
  },
  {
   "cell_type": "code",
   "execution_count": null,
   "id": "8831bbf2",
   "metadata": {},
   "outputs": [],
   "source": []
  },
  {
   "cell_type": "code",
   "execution_count": 184,
   "id": "722be78f",
   "metadata": {},
   "outputs": [
    {
     "name": "stdout",
     "output_type": "stream",
     "text": [
      "None       232\n",
      "BrkFace    168\n",
      "Stone       62\n",
      "BrkCmn       5\n",
      "Name: MasVnrType, dtype: int64\n"
     ]
    },
    {
     "data": {
      "image/png": "[encoded data removed]",
      "text/plain": [
       "<Figure size 432x288 with 1 Axes>"
      ]
     },
     "metadata": {
      "needs_background": "light"
     },
     "output_type": "display_data"
    }
   ],
   "source": [
    "ax=sns.countplot(x='MasVnrType',data=df)\n",
    "print(df['MasVnrType'].value_counts())"
   ]
  },
  {
   "cell_type": "markdown",
   "id": "50d5b1af",
   "metadata": {},
   "source": [
    "In MasVnrType column None is maximum that is 232 and there is not much difference between None and BrkFace."
   ]
  },
  {
   "cell_type": "code",
   "execution_count": null,
   "id": "7a300a5e",
   "metadata": {},
   "outputs": [],
   "source": []
  },
  {
   "cell_type": "code",
   "execution_count": 185,
   "id": "45b413f1",
   "metadata": {},
   "outputs": [
    {
     "name": "stdout",
     "output_type": "stream",
     "text": [
      "TA    219\n",
      "Gd    211\n",
      "Ex     36\n",
      "Fa      1\n",
      "Name: ExterQual, dtype: int64\n"
     ]
    },
    {
     "data": {
      "image/png": "[encoded data removed]",
      "text/plain": [
       "<Figure size 432x288 with 1 Axes>"
      ]
     },
     "metadata": {
      "needs_background": "light"
     },
     "output_type": "display_data"
    }
   ],
   "source": [
    "ax=sns.countplot(x='ExterQual',data=df)\n",
    "print(df['ExterQual'].value_counts())"
   ]
  },
  {
   "cell_type": "markdown",
   "id": "e1a00ef9",
   "metadata": {},
   "source": [
    "In ExterQual column there is not much noticable difference between TA and Gd."
   ]
  },
  {
   "cell_type": "code",
   "execution_count": null,
   "id": "63a921b7",
   "metadata": {},
   "outputs": [],
   "source": []
  },
  {
   "cell_type": "code",
   "execution_count": 186,
   "id": "b93e85f8",
   "metadata": {},
   "outputs": [
    {
     "name": "stdout",
     "output_type": "stream",
     "text": [
      "TA    422\n",
      "Gd     39\n",
      "Fa      4\n",
      "Ex      2\n",
      "Name: ExterCond, dtype: int64\n"
     ]
    },
    {
     "data": {
      "image/png": "[encoded data removed]",
      "text/plain": [
       "<Figure size 432x288 with 1 Axes>"
      ]
     },
     "metadata": {
      "needs_background": "light"
     },
     "output_type": "display_data"
    }
   ],
   "source": [
    "ax=sns.countplot(x='ExterCond',data=df)\n",
    "print(df['ExterCond'].value_counts())"
   ]
  },
  {
   "cell_type": "markdown",
   "id": "6ebd3e7e",
   "metadata": {},
   "source": [
    "TA is maximun in ExterCond column."
   ]
  },
  {
   "cell_type": "code",
   "execution_count": null,
   "id": "be034609",
   "metadata": {},
   "outputs": [],
   "source": []
  },
  {
   "cell_type": "code",
   "execution_count": 187,
   "id": "c4e8ad00",
   "metadata": {},
   "outputs": [
    {
     "name": "stdout",
     "output_type": "stream",
     "text": [
      "PConc     254\n",
      "CBlock    166\n",
      "BrkTil     45\n",
      "Stone       2\n",
      "Name: Foundation, dtype: int64\n"
     ]
    },
    {
     "data": {
      "image/png": "[encoded data removed]",
      "text/plain": [
       "<Figure size 432x288 with 1 Axes>"
      ]
     },
     "metadata": {
      "needs_background": "light"
     },
     "output_type": "display_data"
    }
   ],
   "source": [
    "ax=sns.countplot(x='Foundation',data=df)\n",
    "print(df['Foundation'].value_counts())"
   ]
  },
  {
   "cell_type": "markdown",
   "id": "a1b7fe7b",
   "metadata": {},
   "source": [
    "PConc is maximum in Foundation column and there is not much difference between PConc and CBlock."
   ]
  },
  {
   "cell_type": "code",
   "execution_count": null,
   "id": "6395e7b1",
   "metadata": {},
   "outputs": [],
   "source": []
  },
  {
   "cell_type": "code",
   "execution_count": 188,
   "id": "b78695df",
   "metadata": {},
   "outputs": [
    {
     "name": "stdout",
     "output_type": "stream",
     "text": [
      "Gd    225\n",
      "TA    155\n",
      "Ex     79\n",
      "Fa      8\n",
      "Name: BsmtQual, dtype: int64\n"
     ]
    },
    {
     "data": {
      "image/png": "[encoded data removed]",
      "text/plain": [
       "<Figure size 432x288 with 1 Axes>"
      ]
     },
     "metadata": {
      "needs_background": "light"
     },
     "output_type": "display_data"
    }
   ],
   "source": [
    "ax=sns.countplot(x='BsmtQual',data=df)\n",
    "print(df['BsmtQual'].value_counts())"
   ]
  },
  {
   "cell_type": "markdown",
   "id": "9091d68b",
   "metadata": {},
   "source": [
    "Gd is maximum in BsmtQual column."
   ]
  },
  {
   "cell_type": "code",
   "execution_count": null,
   "id": "c4ef4794",
   "metadata": {},
   "outputs": [],
   "source": []
  },
  {
   "cell_type": "code",
   "execution_count": 189,
   "id": "5245d7a7",
   "metadata": {},
   "outputs": [
    {
     "name": "stdout",
     "output_type": "stream",
     "text": [
      "TA    425\n",
      "Gd     30\n",
      "Fa     12\n",
      "Name: BsmtCond, dtype: int64\n"
     ]
    },
    {
     "data": {
      "image/png": "[encoded data removed]",
      "text/plain": [
       "<Figure size 432x288 with 1 Axes>"
      ]
     },
     "metadata": {
      "needs_background": "light"
     },
     "output_type": "display_data"
    }
   ],
   "source": [
    "ax=sns.countplot(x='BsmtCond',data=df)\n",
    "print(df['BsmtCond'].value_counts())"
   ]
  },
  {
   "cell_type": "markdown",
   "id": "33d56790",
   "metadata": {},
   "source": [
    "In BsmtCond column TA is maximum."
   ]
  },
  {
   "cell_type": "code",
   "execution_count": null,
   "id": "d5d1bd85",
   "metadata": {},
   "outputs": [],
   "source": []
  },
  {
   "cell_type": "code",
   "execution_count": 190,
   "id": "136fd995",
   "metadata": {},
   "outputs": [
    {
     "name": "stdout",
     "output_type": "stream",
     "text": [
      "No    288\n",
      "Av     79\n",
      "Gd     56\n",
      "Mn     44\n",
      "Name: BsmtExposure, dtype: int64\n"
     ]
    },
    {
     "data": {
      "image/png": "[encoded data removed]",
      "text/plain": [
       "<Figure size 432x288 with 1 Axes>"
      ]
     },
     "metadata": {
      "needs_background": "light"
     },
     "output_type": "display_data"
    }
   ],
   "source": [
    "ax=sns.countplot(x='BsmtExposure',data=df)\n",
    "print(df['BsmtExposure'].value_counts())"
   ]
  },
  {
   "cell_type": "markdown",
   "id": "4849cb98",
   "metadata": {},
   "source": [
    "In BsmtExposure column No is maximum and there is not much difference between Av and Gd."
   ]
  },
  {
   "cell_type": "code",
   "execution_count": null,
   "id": "092de94b",
   "metadata": {},
   "outputs": [],
   "source": []
  },
  {
   "cell_type": "code",
   "execution_count": 191,
   "id": "070b7789",
   "metadata": {},
   "outputs": [
    {
     "name": "stdout",
     "output_type": "stream",
     "text": [
      "GLQ    163\n",
      "Unf    138\n",
      "ALQ     67\n",
      "Rec     39\n",
      "BLQ     39\n",
      "LwQ     21\n",
      "Name: BsmtFinType1, dtype: int64\n"
     ]
    },
    {
     "data": {
      "image/png": "[encoded data removed]",
      "text/plain": [
       "<Figure size 432x288 with 1 Axes>"
      ]
     },
     "metadata": {
      "needs_background": "light"
     },
     "output_type": "display_data"
    }
   ],
   "source": [
    "ax=sns.countplot(x='BsmtFinType1',data=df)\n",
    "print(df['BsmtFinType1'].value_counts())"
   ]
  },
  {
   "cell_type": "markdown",
   "id": "0715650e",
   "metadata": {},
   "source": [
    "GLQ is maximum in BsmtFinType1 column."
   ]
  },
  {
   "cell_type": "code",
   "execution_count": null,
   "id": "7a3879e1",
   "metadata": {},
   "outputs": [],
   "source": []
  },
  {
   "cell_type": "code",
   "execution_count": 192,
   "id": "c52bf11f",
   "metadata": {},
   "outputs": [
    {
     "name": "stdout",
     "output_type": "stream",
     "text": [
      "Unf    414\n",
      "LwQ     17\n",
      "Rec     14\n",
      "BLQ      9\n",
      "GLQ      9\n",
      "ALQ      4\n",
      "Name: BsmtFinType2, dtype: int64\n"
     ]
    },
    {
     "data": {
      "image/png": "[encoded data removed]",
      "text/plain": [
       "<Figure size 432x288 with 1 Axes>"
      ]
     },
     "metadata": {
      "needs_background": "light"
     },
     "output_type": "display_data"
    }
   ],
   "source": [
    "ax=sns.countplot(x='BsmtFinType2',data=df)\n",
    "print(df['BsmtFinType2'].value_counts())"
   ]
  },
  {
   "cell_type": "markdown",
   "id": "67b10091",
   "metadata": {},
   "source": [
    "In BsmtFinType2 column Unf is maximum that is 414. "
   ]
  },
  {
   "cell_type": "code",
   "execution_count": null,
   "id": "e60381cf",
   "metadata": {},
   "outputs": [],
   "source": []
  },
  {
   "cell_type": "markdown",
   "id": "5f9fae71",
   "metadata": {},
   "source": [
    "The total number of GasA is 588 in Heating column and it is maximum."
   ]
  },
  {
   "cell_type": "code",
   "execution_count": null,
   "id": "0549c542",
   "metadata": {},
   "outputs": [],
   "source": []
  },
  {
   "cell_type": "code",
   "execution_count": 193,
   "id": "74337553",
   "metadata": {},
   "outputs": [
    {
     "name": "stdout",
     "output_type": "stream",
     "text": [
      "Ex    289\n",
      "TA    103\n",
      "Gd     64\n",
      "Fa     11\n",
      "Name: HeatingQC, dtype: int64\n"
     ]
    },
    {
     "data": {
      "image/png": "[encoded data removed]",
      "text/plain": [
       "<Figure size 432x288 with 1 Axes>"
      ]
     },
     "metadata": {
      "needs_background": "light"
     },
     "output_type": "display_data"
    }
   ],
   "source": [
    "ax=sns.countplot(x='HeatingQC',data=df)\n",
    "print(df['HeatingQC'].value_counts())"
   ]
  },
  {
   "cell_type": "markdown",
   "id": "38647a59",
   "metadata": {},
   "source": [
    "The total number of Ex is 289 and it is maximum in HeatingQC column."
   ]
  },
  {
   "cell_type": "code",
   "execution_count": null,
   "id": "4373c403",
   "metadata": {},
   "outputs": [],
   "source": []
  },
  {
   "cell_type": "code",
   "execution_count": 194,
   "id": "81c8b1d4",
   "metadata": {},
   "outputs": [
    {
     "name": "stdout",
     "output_type": "stream",
     "text": [
      "Y    456\n",
      "N     11\n",
      "Name: CentralAir, dtype: int64\n"
     ]
    },
    {
     "data": {
      "image/png": "[encoded data removed]",
      "text/plain": [
       "<Figure size 432x288 with 1 Axes>"
      ]
     },
     "metadata": {
      "needs_background": "light"
     },
     "output_type": "display_data"
    }
   ],
   "source": [
    "ax=sns.countplot(x='CentralAir',data=df)\n",
    "print(df['CentralAir'].value_counts())"
   ]
  },
  {
   "cell_type": "markdown",
   "id": "795cbf58",
   "metadata": {},
   "source": [
    "Y is indiacting yes in CentralAir column and it is maximum."
   ]
  },
  {
   "cell_type": "code",
   "execution_count": null,
   "id": "939d9035",
   "metadata": {},
   "outputs": [],
   "source": []
  },
  {
   "cell_type": "code",
   "execution_count": 195,
   "id": "d5cae53b",
   "metadata": {},
   "outputs": [
    {
     "name": "stdout",
     "output_type": "stream",
     "text": [
      "SBrkr    449\n",
      "FuseA     15\n",
      "FuseF      3\n",
      "Name: Electrical, dtype: int64\n"
     ]
    },
    {
     "data": {
      "image/png": "[encoded data removed]",
      "text/plain": [
       "<Figure size 432x288 with 1 Axes>"
      ]
     },
     "metadata": {
      "needs_background": "light"
     },
     "output_type": "display_data"
    }
   ],
   "source": [
    "ax=sns.countplot(x='Electrical',data=df)\n",
    "print(df['Electrical'].value_counts())"
   ]
  },
  {
   "cell_type": "markdown",
   "id": "df0e2105",
   "metadata": {},
   "source": [
    "SBrkr is amximum in Electrical column that is 449."
   ]
  },
  {
   "cell_type": "code",
   "execution_count": null,
   "id": "707029db",
   "metadata": {},
   "outputs": [],
   "source": []
  },
  {
   "cell_type": "code",
   "execution_count": 196,
   "id": "eaaaec0a",
   "metadata": {},
   "outputs": [
    {
     "name": "stdout",
     "output_type": "stream",
     "text": [
      "0      461\n",
      "572      1\n",
      "232      1\n",
      "360      1\n",
      "384      1\n",
      "392      1\n",
      "420      1\n",
      "Name: LowQualFinSF, dtype: int64\n"
     ]
    },
    {
     "data": {
      "image/png": "[encoded data removed]",
      "text/plain": [
       "<Figure size 432x288 with 1 Axes>"
      ]
     },
     "metadata": {
      "needs_background": "light"
     },
     "output_type": "display_data"
    }
   ],
   "source": [
    "ax=sns.countplot(x='LowQualFinSF',data=df)\n",
    "print(df['LowQualFinSF'].value_counts())"
   ]
  },
  {
   "cell_type": "markdown",
   "id": "f4fb714c",
   "metadata": {},
   "source": [
    "0 is maximum in LowQualFinSF column that is 461"
   ]
  },
  {
   "cell_type": "code",
   "execution_count": null,
   "id": "43ac2cce",
   "metadata": {},
   "outputs": [],
   "source": []
  },
  {
   "cell_type": "code",
   "execution_count": 197,
   "id": "25ec6e5d",
   "metadata": {},
   "outputs": [
    {
     "name": "stdout",
     "output_type": "stream",
     "text": [
      "0    264\n",
      "1    197\n",
      "2      6\n",
      "Name: BsmtFullBath, dtype: int64\n"
     ]
    },
    {
     "data": {
      "image/png": "[encoded data removed]",
      "text/plain": [
       "<Figure size 432x288 with 1 Axes>"
      ]
     },
     "metadata": {
      "needs_background": "light"
     },
     "output_type": "display_data"
    }
   ],
   "source": [
    "ax=sns.countplot(x='BsmtFullBath',data=df)\n",
    "print(df['BsmtFullBath'].value_counts())"
   ]
  },
  {
   "cell_type": "markdown",
   "id": "ba26e0c1",
   "metadata": {},
   "source": [
    "There is not much difference between 0 and 1 in BsmtFullBath column but 0 is maximum in numbers that is 264."
   ]
  },
  {
   "cell_type": "code",
   "execution_count": null,
   "id": "7ba91919",
   "metadata": {},
   "outputs": [],
   "source": []
  },
  {
   "cell_type": "code",
   "execution_count": 198,
   "id": "62dd9af9",
   "metadata": {},
   "outputs": [
    {
     "name": "stdout",
     "output_type": "stream",
     "text": [
      "0    432\n",
      "1     34\n",
      "2      1\n",
      "Name: BsmtHalfBath, dtype: int64\n"
     ]
    },
    {
     "data": {
      "image/png": "[encoded data removed]",
      "text/plain": [
       "<Figure size 432x288 with 1 Axes>"
      ]
     },
     "metadata": {
      "needs_background": "light"
     },
     "output_type": "display_data"
    }
   ],
   "source": [
    "ax=sns.countplot(x='BsmtHalfBath',data=df)\n",
    "print(df['BsmtHalfBath'].value_counts())"
   ]
  },
  {
   "cell_type": "markdown",
   "id": "f3ecb91a",
   "metadata": {},
   "source": [
    "In BsmtHalfBath column 0 is maximum."
   ]
  },
  {
   "cell_type": "code",
   "execution_count": null,
   "id": "af3e1c3f",
   "metadata": {},
   "outputs": [],
   "source": []
  },
  {
   "cell_type": "code",
   "execution_count": 199,
   "id": "6e2e3cd5",
   "metadata": {},
   "outputs": [
    {
     "name": "stdout",
     "output_type": "stream",
     "text": [
      "2    304\n",
      "1    143\n",
      "3     17\n",
      "0      3\n",
      "Name: FullBath, dtype: int64\n"
     ]
    },
    {
     "data": {
      "image/png": "[encoded data removed]",
      "text/plain": [
       "<Figure size 432x288 with 1 Axes>"
      ]
     },
     "metadata": {
      "needs_background": "light"
     },
     "output_type": "display_data"
    }
   ],
   "source": [
    "ax=sns.countplot(x='FullBath',data=df)\n",
    "print(df['FullBath'].value_counts())"
   ]
  },
  {
   "cell_type": "markdown",
   "id": "55c7393d",
   "metadata": {},
   "source": [
    "2 is indicating maximum in numbers that is 388 in FullBath column."
   ]
  },
  {
   "cell_type": "code",
   "execution_count": null,
   "id": "c2937f2f",
   "metadata": {},
   "outputs": [],
   "source": []
  },
  {
   "cell_type": "code",
   "execution_count": 200,
   "id": "6f3582c1",
   "metadata": {},
   "outputs": [
    {
     "name": "stdout",
     "output_type": "stream",
     "text": [
      "0    239\n",
      "1    223\n",
      "2      5\n",
      "Name: HalfBath, dtype: int64\n"
     ]
    },
    {
     "data": {
      "image/png": "[encoded data removed]",
      "text/plain": [
       "<Figure size 432x288 with 1 Axes>"
      ]
     },
     "metadata": {
      "needs_background": "light"
     },
     "output_type": "display_data"
    }
   ],
   "source": [
    "ax=sns.countplot(x='HalfBath',data=df)\n",
    "print(df['HalfBath'].value_counts())"
   ]
  },
  {
   "cell_type": "markdown",
   "id": "aaf76546",
   "metadata": {},
   "source": [
    "There is not much noticalble difference in 0 and 1 in HalfBath column."
   ]
  },
  {
   "cell_type": "code",
   "execution_count": null,
   "id": "fddcb4bc",
   "metadata": {},
   "outputs": [],
   "source": []
  },
  {
   "cell_type": "code",
   "execution_count": 201,
   "id": "dc0d9c2d",
   "metadata": {},
   "outputs": [
    {
     "name": "stdout",
     "output_type": "stream",
     "text": [
      "3    265\n",
      "4     94\n",
      "2     84\n",
      "1     15\n",
      "5      7\n",
      "0      2\n",
      "Name: BedroomAbvGr, dtype: int64\n"
     ]
    },
    {
     "data": {
      "image/png": "[encoded data removed]",
      "text/plain": [
       "<Figure size 432x288 with 1 Axes>"
      ]
     },
     "metadata": {
      "needs_background": "light"
     },
     "output_type": "display_data"
    }
   ],
   "source": [
    "ax=sns.countplot(x='BedroomAbvGr',data=df)\n",
    "print(df['BedroomAbvGr'].value_counts())"
   ]
  },
  {
   "cell_type": "markdown",
   "id": "27087d2c",
   "metadata": {},
   "source": [
    "In BedroomAbvGr column 3 is maximum ."
   ]
  },
  {
   "cell_type": "code",
   "execution_count": null,
   "id": "4d3fe23c",
   "metadata": {},
   "outputs": [],
   "source": []
  },
  {
   "cell_type": "code",
   "execution_count": 202,
   "id": "dac2ddea",
   "metadata": {},
   "outputs": [
    {
     "name": "stdout",
     "output_type": "stream",
     "text": [
      "1    460\n",
      "2      7\n",
      "Name: KitchenAbvGr, dtype: int64\n"
     ]
    },
    {
     "data": {
      "image/png": "[encoded data removed]",
      "text/plain": [
       "<Figure size 432x288 with 1 Axes>"
      ]
     },
     "metadata": {
      "needs_background": "light"
     },
     "output_type": "display_data"
    }
   ],
   "source": [
    "ax=sns.countplot(x='KitchenAbvGr',data=df)\n",
    "print(df['KitchenAbvGr'].value_counts())"
   ]
  },
  {
   "cell_type": "markdown",
   "id": "082b0eb6",
   "metadata": {},
   "source": [
    "1 is 588 that is maximum in numbers in KitchenAbvGr column."
   ]
  },
  {
   "cell_type": "code",
   "execution_count": null,
   "id": "0e659790",
   "metadata": {},
   "outputs": [],
   "source": []
  },
  {
   "cell_type": "code",
   "execution_count": 203,
   "id": "1e61104e",
   "metadata": {},
   "outputs": [
    {
     "name": "stdout",
     "output_type": "stream",
     "text": [
      "Gd    226\n",
      "TA    168\n",
      "Ex     68\n",
      "Fa      5\n",
      "Name: KitchenQual, dtype: int64\n"
     ]
    },
    {
     "data": {
      "image/png": "[encoded data removed]",
      "text/plain": [
       "<Figure size 432x288 with 1 Axes>"
      ]
     },
     "metadata": {
      "needs_background": "light"
     },
     "output_type": "display_data"
    }
   ],
   "source": [
    "ax=sns.countplot(x='KitchenQual',data=df)\n",
    "print(df['KitchenQual'].value_counts())"
   ]
  },
  {
   "cell_type": "markdown",
   "id": "a3a26352",
   "metadata": {},
   "source": [
    "Gd is maximum that is 226 in KitchenQual column."
   ]
  },
  {
   "cell_type": "code",
   "execution_count": null,
   "id": "a1565f25",
   "metadata": {},
   "outputs": [],
   "source": []
  },
  {
   "cell_type": "code",
   "execution_count": 204,
   "id": "29fda97b",
   "metadata": {},
   "outputs": [
    {
     "name": "stdout",
     "output_type": "stream",
     "text": [
      "7     124\n",
      "6     112\n",
      "8      86\n",
      "5      56\n",
      "9      42\n",
      "10     26\n",
      "11     10\n",
      "4       5\n",
      "12      4\n",
      "3       2\n",
      "Name: TotRmsAbvGrd, dtype: int64\n"
     ]
    },
    {
     "data": {
      "image/png": "[encoded data removed]",
      "text/plain": [
       "<Figure size 432x288 with 1 Axes>"
      ]
     },
     "metadata": {
      "needs_background": "light"
     },
     "output_type": "display_data"
    }
   ],
   "source": [
    "ax=sns.countplot(x='TotRmsAbvGrd',data=df)\n",
    "print(df['TotRmsAbvGrd'].value_counts())"
   ]
  },
  {
   "cell_type": "markdown",
   "id": "3f0df0c3",
   "metadata": {},
   "source": [
    "7 is maximum that is 124and in TotRmsAbvGrd column and there is not much differnce between 6 and 7."
   ]
  },
  {
   "cell_type": "code",
   "execution_count": null,
   "id": "62012fbf",
   "metadata": {},
   "outputs": [],
   "source": []
  },
  {
   "cell_type": "code",
   "execution_count": 205,
   "id": "533f89f9",
   "metadata": {},
   "outputs": [
    {
     "name": "stdout",
     "output_type": "stream",
     "text": [
      "Typ     440\n",
      "Min2     11\n",
      "Min1      8\n",
      "Maj1      4\n",
      "Mod       3\n",
      "Maj2      1\n",
      "Name: Functional, dtype: int64\n"
     ]
    },
    {
     "data": {
      "image/png": "[encoded data removed]",
      "text/plain": [
       "<Figure size 432x288 with 1 Axes>"
      ]
     },
     "metadata": {
      "needs_background": "light"
     },
     "output_type": "display_data"
    }
   ],
   "source": [
    "ax=sns.countplot(x='Functional',data=df)\n",
    "print(df['Functional'].value_counts())"
   ]
  },
  {
   "cell_type": "markdown",
   "id": "2be8c651",
   "metadata": {},
   "source": [
    " Typ is maximum in  Functional column."
   ]
  },
  {
   "cell_type": "code",
   "execution_count": null,
   "id": "cb0bab51",
   "metadata": {},
   "outputs": [],
   "source": []
  },
  {
   "cell_type": "code",
   "execution_count": 206,
   "id": "2391d396",
   "metadata": {},
   "outputs": [
    {
     "name": "stdout",
     "output_type": "stream",
     "text": [
      "1    401\n",
      "2     62\n",
      "3      4\n",
      "Name: Fireplaces, dtype: int64\n"
     ]
    },
    {
     "data": {
      "image/png": "[encoded data removed]",
      "text/plain": [
       "<Figure size 432x288 with 1 Axes>"
      ]
     },
     "metadata": {
      "needs_background": "light"
     },
     "output_type": "display_data"
    }
   ],
   "source": [
    "ax=sns.countplot(x='Fireplaces',data=df)\n",
    "print(df['Fireplaces'].value_counts())"
   ]
  },
  {
   "cell_type": "markdown",
   "id": "5647b835",
   "metadata": {},
   "source": [
    "1 is maximum in Fireplaces column that is 401."
   ]
  },
  {
   "cell_type": "code",
   "execution_count": null,
   "id": "4e1c4fcf",
   "metadata": {},
   "outputs": [],
   "source": []
  },
  {
   "cell_type": "code",
   "execution_count": 207,
   "id": "83958f29",
   "metadata": {},
   "outputs": [
    {
     "name": "stdout",
     "output_type": "stream",
     "text": [
      "Gd    247\n",
      "TA    173\n",
      "Fa     19\n",
      "Ex     18\n",
      "Po     10\n",
      "Name: FireplaceQu, dtype: int64\n"
     ]
    },
    {
     "data": {
      "image/png": "[encoded data removed]",
      "text/plain": [
       "<Figure size 432x288 with 1 Axes>"
      ]
     },
     "metadata": {
      "needs_background": "light"
     },
     "output_type": "display_data"
    }
   ],
   "source": [
    "ax=sns.countplot(x='FireplaceQu',data=df)\n",
    "print(df['FireplaceQu'].value_counts())"
   ]
  },
  {
   "cell_type": "markdown",
   "id": "017e9ee8",
   "metadata": {},
   "source": [
    "THere is not much differnce between Gd and TA in FireplaceQu column."
   ]
  },
  {
   "cell_type": "code",
   "execution_count": null,
   "id": "2a35ad59",
   "metadata": {},
   "outputs": [],
   "source": []
  },
  {
   "cell_type": "code",
   "execution_count": 208,
   "id": "7b51025f",
   "metadata": {},
   "outputs": [
    {
     "name": "stdout",
     "output_type": "stream",
     "text": [
      "Attchd     335\n",
      "Detchd      81\n",
      "BuiltIn     43\n",
      "Basment      7\n",
      "CarPort      1\n",
      "Name: GarageType, dtype: int64\n"
     ]
    },
    {
     "data": {
      "image/png": "[encoded data removed]",
      "text/plain": [
       "<Figure size 432x288 with 1 Axes>"
      ]
     },
     "metadata": {
      "needs_background": "light"
     },
     "output_type": "display_data"
    }
   ],
   "source": [
    "ax=sns.countplot(x='GarageType',data=df)\n",
    "print(df['GarageType'].value_counts())"
   ]
  },
  {
   "cell_type": "markdown",
   "id": "78ee9274",
   "metadata": {},
   "source": [
    "In GarageType column Attchd is maximum in numbers ."
   ]
  },
  {
   "cell_type": "code",
   "execution_count": null,
   "id": "c96c0431",
   "metadata": {},
   "outputs": [],
   "source": []
  },
  {
   "cell_type": "code",
   "execution_count": 209,
   "id": "3086f5a4",
   "metadata": {},
   "outputs": [
    {
     "name": "stdout",
     "output_type": "stream",
     "text": [
      "Fin    169\n",
      "RFn    151\n",
      "Unf    147\n",
      "Name: GarageFinish, dtype: int64\n"
     ]
    },
    {
     "data": {
      "image/png": "[encoded data removed]",
      "text/plain": [
       "<Figure size 432x288 with 1 Axes>"
      ]
     },
     "metadata": {
      "needs_background": "light"
     },
     "output_type": "display_data"
    }
   ],
   "source": [
    "ax=sns.countplot(x='GarageFinish',data=df)\n",
    "print(df['GarageFinish'].value_counts())"
   ]
  },
  {
   "cell_type": "markdown",
   "id": "f352177d",
   "metadata": {},
   "source": [
    "Fin, Rfn and Unf is looking normally distributed ,there is not much difference between them."
   ]
  },
  {
   "cell_type": "code",
   "execution_count": null,
   "id": "96f8fa69",
   "metadata": {},
   "outputs": [],
   "source": []
  },
  {
   "cell_type": "code",
   "execution_count": 210,
   "id": "4b06d2c9",
   "metadata": {},
   "outputs": [
    {
     "name": "stdout",
     "output_type": "stream",
     "text": [
      "2    267\n",
      "3    114\n",
      "1     85\n",
      "4      1\n",
      "Name: GarageCars, dtype: int64\n"
     ]
    },
    {
     "data": {
      "image/png": "[encoded data removed]",
      "text/plain": [
       "<Figure size 432x288 with 1 Axes>"
      ]
     },
     "metadata": {
      "needs_background": "light"
     },
     "output_type": "display_data"
    }
   ],
   "source": [
    "ax=sns.countplot(x='GarageCars',data=df)\n",
    "print(df['GarageCars'].value_counts())"
   ]
  },
  {
   "cell_type": "markdown",
   "id": "ec47a397",
   "metadata": {},
   "source": [
    "2 is maximum that is 372 in GarageCars column."
   ]
  },
  {
   "cell_type": "code",
   "execution_count": null,
   "id": "9ce3404a",
   "metadata": {},
   "outputs": [],
   "source": []
  },
  {
   "cell_type": "code",
   "execution_count": 211,
   "id": "d87b85e8",
   "metadata": {},
   "outputs": [
    {
     "name": "stdout",
     "output_type": "stream",
     "text": [
      "TA    445\n",
      "Fa     13\n",
      "Gd      7\n",
      "Ex      2\n",
      "Name: GarageQual, dtype: int64\n"
     ]
    },
    {
     "data": {
      "image/png": "[encoded data removed]",
      "text/plain": [
       "<Figure size 432x288 with 1 Axes>"
      ]
     },
     "metadata": {
      "needs_background": "light"
     },
     "output_type": "display_data"
    }
   ],
   "source": [
    "ax=sns.countplot(x='GarageQual',data=df)\n",
    "print(df['GarageQual'].value_counts())"
   ]
  },
  {
   "cell_type": "markdown",
   "id": "d478c99d",
   "metadata": {},
   "source": [
    "TA is maximum in GarageQual column."
   ]
  },
  {
   "cell_type": "code",
   "execution_count": null,
   "id": "3bafbbdf",
   "metadata": {},
   "outputs": [],
   "source": []
  },
  {
   "cell_type": "code",
   "execution_count": 212,
   "id": "966af67f",
   "metadata": {},
   "outputs": [
    {
     "name": "stdout",
     "output_type": "stream",
     "text": [
      "TA    458\n",
      "Fa      7\n",
      "Po      1\n",
      "Ex      1\n",
      "Name: GarageCond, dtype: int64\n"
     ]
    },
    {
     "data": {
      "image/png": "[encoded data removed]",
      "text/plain": [
       "<Figure size 432x288 with 1 Axes>"
      ]
     },
     "metadata": {
      "needs_background": "light"
     },
     "output_type": "display_data"
    }
   ],
   "source": [
    "ax=sns.countplot(x='GarageCond',data=df)\n",
    "print(df['GarageCond'].value_counts())"
   ]
  },
  {
   "cell_type": "markdown",
   "id": "458e2ff1",
   "metadata": {},
   "source": [
    "TA is maximum in GarageCond column."
   ]
  },
  {
   "cell_type": "code",
   "execution_count": null,
   "id": "ce83f29e",
   "metadata": {},
   "outputs": [],
   "source": []
  },
  {
   "cell_type": "code",
   "execution_count": 213,
   "id": "765f9ce6",
   "metadata": {},
   "outputs": [
    {
     "name": "stdout",
     "output_type": "stream",
     "text": [
      "Y    444\n",
      "N     12\n",
      "P     11\n",
      "Name: PavedDrive, dtype: int64\n"
     ]
    },
    {
     "data": {
      "image/png": "[encoded data removed]",
      "text/plain": [
       "<Figure size 432x288 with 1 Axes>"
      ]
     },
     "metadata": {
      "needs_background": "light"
     },
     "output_type": "display_data"
    }
   ],
   "source": [
    "ax=sns.countplot(x='PavedDrive',data=df)\n",
    "print(df['PavedDrive'].value_counts())"
   ]
  },
  {
   "cell_type": "markdown",
   "id": "2110eb01",
   "metadata": {},
   "source": [
    "In PavedDrive column Y is maximum."
   ]
  },
  {
   "cell_type": "code",
   "execution_count": null,
   "id": "7531e895",
   "metadata": {},
   "outputs": [],
   "source": []
  },
  {
   "cell_type": "code",
   "execution_count": 214,
   "id": "eb91c09e",
   "metadata": {},
   "outputs": [
    {
     "name": "stdout",
     "output_type": "stream",
     "text": [
      "0      457\n",
      "168      2\n",
      "23       1\n",
      "96       1\n",
      "144      1\n",
      "153      1\n",
      "162      1\n",
      "196      1\n",
      "245      1\n",
      "304      1\n",
      "Name: 3SsnPorch, dtype: int64\n"
     ]
    },
    {
     "data": {
      "image/png": "[encoded data removed]",
      "text/plain": [
       "<Figure size 432x288 with 1 Axes>"
      ]
     },
     "metadata": {
      "needs_background": "light"
     },
     "output_type": "display_data"
    }
   ],
   "source": [
    "ax=sns.countplot(x='3SsnPorch',data=df)\n",
    "print(df['3SsnPorch'].value_counts())"
   ]
  },
  {
   "cell_type": "markdown",
   "id": "8faebbfb",
   "metadata": {},
   "source": [
    "0 is maximum in 3SsnPorch column."
   ]
  },
  {
   "cell_type": "code",
   "execution_count": null,
   "id": "237587e5",
   "metadata": {},
   "outputs": [],
   "source": []
  },
  {
   "cell_type": "code",
   "execution_count": 215,
   "id": "72034573",
   "metadata": {},
   "outputs": [
    {
     "name": "stdout",
     "output_type": "stream",
     "text": [
      "7     79\n",
      "6     76\n",
      "5     61\n",
      "4     37\n",
      "8     37\n",
      "3     32\n",
      "11    30\n",
      "9     29\n",
      "10    29\n",
      "12    22\n",
      "1     19\n",
      "2     16\n",
      "Name: MoSold, dtype: int64\n"
     ]
    },
    {
     "data": {
      "image/png": "[encoded data removed]",
      "text/plain": [
       "<Figure size 432x288 with 1 Axes>"
      ]
     },
     "metadata": {
      "needs_background": "light"
     },
     "output_type": "display_data"
    }
   ],
   "source": [
    "ax=sns.countplot(x='MoSold',data=df)\n",
    "print(df['MoSold'].value_counts())"
   ]
  },
  {
   "cell_type": "markdown",
   "id": "5ef1cb6a",
   "metadata": {},
   "source": [
    "6 is showing maximum."
   ]
  },
  {
   "cell_type": "code",
   "execution_count": null,
   "id": "068e6ab3",
   "metadata": {},
   "outputs": [],
   "source": []
  },
  {
   "cell_type": "code",
   "execution_count": 216,
   "id": "5ad3266d",
   "metadata": {},
   "outputs": [
    {
     "name": "stdout",
     "output_type": "stream",
     "text": [
      "2007    114\n",
      "2006    111\n",
      "2009    102\n",
      "2008     93\n",
      "2010     47\n",
      "Name: YrSold, dtype: int64\n"
     ]
    },
    {
     "data": {
      "image/png": "[encoded data removed]",
      "text/plain": [
       "<Figure size 432x288 with 1 Axes>"
      ]
     },
     "metadata": {
      "needs_background": "light"
     },
     "output_type": "display_data"
    }
   ],
   "source": [
    "ax=sns.countplot(x='YrSold',data=df)\n",
    "print(df['YrSold'].value_counts())"
   ]
  },
  {
   "cell_type": "markdown",
   "id": "9fb778c3",
   "metadata": {},
   "source": [
    "there is not much differnce between 2006,2007, 2008 and 2009 , In 2010 there is decrease in amount."
   ]
  },
  {
   "cell_type": "code",
   "execution_count": null,
   "id": "c045e1c1",
   "metadata": {},
   "outputs": [],
   "source": []
  },
  {
   "cell_type": "code",
   "execution_count": 217,
   "id": "cf445d19",
   "metadata": {},
   "outputs": [
    {
     "name": "stdout",
     "output_type": "stream",
     "text": [
      "WD       380\n",
      "New       72\n",
      "COD        8\n",
      "ConLw      2\n",
      "CWD        2\n",
      "ConLI      1\n",
      "ConLD      1\n",
      "Con        1\n",
      "Name: SaleType, dtype: int64\n"
     ]
    },
    {
     "data": {
      "image/png": "[encoded data removed]",
      "text/plain": [
       "<Figure size 432x288 with 1 Axes>"
      ]
     },
     "metadata": {
      "needs_background": "light"
     },
     "output_type": "display_data"
    }
   ],
   "source": [
    "ax=sns.countplot(x='SaleType',data=df)\n",
    "print(df['SaleType'].value_counts())"
   ]
  },
  {
   "cell_type": "markdown",
   "id": "89e02d7f",
   "metadata": {},
   "source": [
    "WD is maximum in SaleType column."
   ]
  },
  {
   "cell_type": "code",
   "execution_count": null,
   "id": "41954db3",
   "metadata": {},
   "outputs": [],
   "source": []
  },
  {
   "cell_type": "code",
   "execution_count": 218,
   "id": "2902b37f",
   "metadata": {},
   "outputs": [
    {
     "name": "stdout",
     "output_type": "stream",
     "text": [
      "Normal     368\n",
      "Partial     73\n",
      "Abnorml     16\n",
      "Family       8\n",
      "Alloca       2\n",
      "Name: SaleCondition, dtype: int64\n"
     ]
    },
    {
     "data": {
      "image/png": "[encoded data removed]",
      "text/plain": [
       "<Figure size 432x288 with 1 Axes>"
      ]
     },
     "metadata": {
      "needs_background": "light"
     },
     "output_type": "display_data"
    }
   ],
   "source": [
    "ax=sns.countplot(x='SaleCondition',data=df)\n",
    "print(df['SaleCondition'].value_counts())"
   ]
  },
  {
   "cell_type": "markdown",
   "id": "1044453f",
   "metadata": {},
   "source": [
    "Normal is maximum in SaleCondition column."
   ]
  },
  {
   "cell_type": "code",
   "execution_count": null,
   "id": "8ec9a2f5",
   "metadata": {},
   "outputs": [],
   "source": []
  },
  {
   "cell_type": "code",
   "execution_count": null,
   "id": "0f31ed97",
   "metadata": {},
   "outputs": [],
   "source": []
  },
  {
   "cell_type": "markdown",
   "id": "978b4d87",
   "metadata": {},
   "source": [
    "# Visualization of Numerical data"
   ]
  },
  {
   "cell_type": "code",
   "execution_count": 219,
   "id": "97c567b0",
   "metadata": {},
   "outputs": [
    {
     "data": {
      "text/plain": [
       "<AxesSubplot:xlabel='LotFrontage', ylabel='Density'>"
      ]
     },
     "execution_count": 219,
     "metadata": {},
     "output_type": "execute_result"
    },
    {
     "data": {
      "image/png": "[encoded data removed]",
      "text/plain": [
       "<Figure size 432x288 with 1 Axes>"
      ]
     },
     "metadata": {
      "needs_background": "light"
     },
     "output_type": "display_data"
    }
   ],
   "source": [
    "sns.distplot(df['LotFrontage'])"
   ]
  },
  {
   "cell_type": "markdown",
   "id": "b671c125",
   "metadata": {},
   "source": [
    "LotFrontage is looking left skewed and ranges in between 0 to 150."
   ]
  },
  {
   "cell_type": "code",
   "execution_count": null,
   "id": "cee1ecab",
   "metadata": {},
   "outputs": [],
   "source": []
  },
  {
   "cell_type": "code",
   "execution_count": 220,
   "id": "0cd767a2",
   "metadata": {},
   "outputs": [
    {
     "data": {
      "text/plain": [
       "<AxesSubplot:xlabel='LotArea', ylabel='Density'>"
      ]
     },
     "execution_count": 220,
     "metadata": {},
     "output_type": "execute_result"
    },
    {
     "data": {
      "image/png": "[encoded data removed]",
      "text/plain": [
       "<Figure size 432x288 with 1 Axes>"
      ]
     },
     "metadata": {
      "needs_background": "light"
     },
     "output_type": "display_data"
    }
   ],
   "source": [
    "sns.distplot(df['LotArea'])"
   ]
  },
  {
   "cell_type": "markdown",
   "id": "20644185",
   "metadata": {},
   "source": [
    "LotArea column is looking left skewed."
   ]
  },
  {
   "cell_type": "code",
   "execution_count": null,
   "id": "1b239cae",
   "metadata": {},
   "outputs": [],
   "source": []
  },
  {
   "cell_type": "code",
   "execution_count": 221,
   "id": "ced1ab20",
   "metadata": {},
   "outputs": [
    {
     "data": {
      "text/plain": [
       "<AxesSubplot:xlabel='OpenPorchSF', ylabel='Density'>"
      ]
     },
     "execution_count": 221,
     "metadata": {},
     "output_type": "execute_result"
    },
    {
     "data": {
      "image/png": "[encoded data removed]",
      "text/plain": [
       "<Figure size 432x288 with 1 Axes>"
      ]
     },
     "metadata": {
      "needs_background": "light"
     },
     "output_type": "display_data"
    }
   ],
   "source": [
    "sns.distplot(df['OpenPorchSF'])"
   ]
  },
  {
   "cell_type": "markdown",
   "id": "b3d79f5d",
   "metadata": {},
   "source": [
    "OpenPorchSF column is looking left skewed and its ranges in between 0 to 300."
   ]
  },
  {
   "cell_type": "code",
   "execution_count": null,
   "id": "33b645bb",
   "metadata": {},
   "outputs": [],
   "source": []
  },
  {
   "cell_type": "code",
   "execution_count": 222,
   "id": "6790fe11",
   "metadata": {},
   "outputs": [
    {
     "data": {
      "text/plain": [
       "<AxesSubplot:xlabel='Id', ylabel='Density'>"
      ]
     },
     "execution_count": 222,
     "metadata": {},
     "output_type": "execute_result"
    },
    {
     "data": {
      "image/png": "[encoded data removed]",
      "text/plain": [
       "<Figure size 432x288 with 1 Axes>"
      ]
     },
     "metadata": {
      "needs_background": "light"
     },
     "output_type": "display_data"
    }
   ],
   "source": [
    "sns.distplot(df['Id'])"
   ]
  },
  {
   "cell_type": "markdown",
   "id": "9b33d4d2",
   "metadata": {},
   "source": [
    "Id is looking normally distributed."
   ]
  },
  {
   "cell_type": "code",
   "execution_count": null,
   "id": "02393118",
   "metadata": {},
   "outputs": [],
   "source": []
  },
  {
   "cell_type": "code",
   "execution_count": 223,
   "id": "9c9683fc",
   "metadata": {},
   "outputs": [
    {
     "data": {
      "text/plain": [
       "<AxesSubplot:xlabel='SalePrice', ylabel='Density'>"
      ]
     },
     "execution_count": 223,
     "metadata": {},
     "output_type": "execute_result"
    },
    {
     "data": {
      "image/png": "[encoded data removed]",
      "text/plain": [
       "<Figure size 432x288 with 1 Axes>"
      ]
     },
     "metadata": {
      "needs_background": "light"
     },
     "output_type": "display_data"
    }
   ],
   "source": [
    "sns.distplot(df['SalePrice'])"
   ]
  },
  {
   "cell_type": "markdown",
   "id": "93ccd37c",
   "metadata": {},
   "source": [
    "Our traget column is SalePrice and its ranges in between approx 100000 to 800000.\n",
    "\n"
   ]
  },
  {
   "cell_type": "code",
   "execution_count": null,
   "id": "c230e0f6",
   "metadata": {},
   "outputs": [],
   "source": []
  },
  {
   "cell_type": "markdown",
   "id": "6cdde3cc",
   "metadata": {},
   "source": [
    " # Checking Outliers"
   ]
  },
  {
   "cell_type": "code",
   "execution_count": 225,
   "id": "6b949013",
   "metadata": {},
   "outputs": [
    {
     "data": {
      "text/plain": [
       "Id                   AxesSubplot(0.125,0.71587;0.065678x0.16413)\n",
       "MSSubClass        AxesSubplot(0.203814,0.71587;0.065678x0.16413)\n",
       "LotFrontage       AxesSubplot(0.282627,0.71587;0.065678x0.16413)\n",
       "LotArea           AxesSubplot(0.361441,0.71587;0.065678x0.16413)\n",
       "OverallQual       AxesSubplot(0.440254,0.71587;0.065678x0.16413)\n",
       "OverallCond       AxesSubplot(0.519068,0.71587;0.065678x0.16413)\n",
       "YearBuilt         AxesSubplot(0.597881,0.71587;0.065678x0.16413)\n",
       "YearRemodAdd      AxesSubplot(0.676695,0.71587;0.065678x0.16413)\n",
       "MasVnrArea        AxesSubplot(0.755508,0.71587;0.065678x0.16413)\n",
       "BsmtFinSF1        AxesSubplot(0.834322,0.71587;0.065678x0.16413)\n",
       "BsmtFinSF2          AxesSubplot(0.125,0.518913;0.065678x0.16413)\n",
       "BsmtUnfSF        AxesSubplot(0.203814,0.518913;0.065678x0.16413)\n",
       "TotalBsmtSF      AxesSubplot(0.282627,0.518913;0.065678x0.16413)\n",
       "1stFlrSF         AxesSubplot(0.361441,0.518913;0.065678x0.16413)\n",
       "2ndFlrSF         AxesSubplot(0.440254,0.518913;0.065678x0.16413)\n",
       "LowQualFinSF     AxesSubplot(0.519068,0.518913;0.065678x0.16413)\n",
       "GrLivArea        AxesSubplot(0.597881,0.518913;0.065678x0.16413)\n",
       "BsmtFullBath     AxesSubplot(0.676695,0.518913;0.065678x0.16413)\n",
       "BsmtHalfBath     AxesSubplot(0.755508,0.518913;0.065678x0.16413)\n",
       "FullBath         AxesSubplot(0.834322,0.518913;0.065678x0.16413)\n",
       "HalfBath            AxesSubplot(0.125,0.321957;0.065678x0.16413)\n",
       "BedroomAbvGr     AxesSubplot(0.203814,0.321957;0.065678x0.16413)\n",
       "KitchenAbvGr     AxesSubplot(0.282627,0.321957;0.065678x0.16413)\n",
       "TotRmsAbvGrd     AxesSubplot(0.361441,0.321957;0.065678x0.16413)\n",
       "Fireplaces       AxesSubplot(0.440254,0.321957;0.065678x0.16413)\n",
       "GarageYrBlt      AxesSubplot(0.519068,0.321957;0.065678x0.16413)\n",
       "GarageCars       AxesSubplot(0.597881,0.321957;0.065678x0.16413)\n",
       "GarageArea       AxesSubplot(0.676695,0.321957;0.065678x0.16413)\n",
       "WoodDeckSF       AxesSubplot(0.755508,0.321957;0.065678x0.16413)\n",
       "OpenPorchSF      AxesSubplot(0.834322,0.321957;0.065678x0.16413)\n",
       "EnclosedPorch          AxesSubplot(0.125,0.125;0.065678x0.16413)\n",
       "3SsnPorch           AxesSubplot(0.203814,0.125;0.065678x0.16413)\n",
       "ScreenPorch         AxesSubplot(0.282627,0.125;0.065678x0.16413)\n",
       "MiscVal             AxesSubplot(0.361441,0.125;0.065678x0.16413)\n",
       "MoSold              AxesSubplot(0.440254,0.125;0.065678x0.16413)\n",
       "YrSold              AxesSubplot(0.519068,0.125;0.065678x0.16413)\n",
       "SalePrice           AxesSubplot(0.597881,0.125;0.065678x0.16413)\n",
       "dtype: object"
      ]
     },
     "execution_count": 225,
     "metadata": {},
     "output_type": "execute_result"
    },
    {
     "data": {
      "image/png": "[encoded data removed]",
      "text/plain": [
       "<Figure size 1080x720 with 40 Axes>"
      ]
     },
     "metadata": {
      "needs_background": "light"
     },
     "output_type": "display_data"
    }
   ],
   "source": [
    "df.plot(kind='box', subplots=True ,layout=(4,10),figsize=(15,10))"
   ]
  },
  {
   "cell_type": "markdown",
   "id": "5b45fce6",
   "metadata": {},
   "source": [
    "Outliers are present in most of the columns we will treat it later."
   ]
  },
  {
   "cell_type": "markdown",
   "id": "82631c34",
   "metadata": {},
   "source": [
    "# Checking Skewness"
   ]
  },
  {
   "cell_type": "code",
   "execution_count": 227,
   "id": "c320601b",
   "metadata": {},
   "outputs": [
    {
     "data": {
      "text/plain": [
       "Id               0.070526\n",
       "MSSubClass       1.395112\n",
       "LotFrontage      2.956276\n",
       "LotArea          4.503897\n",
       "OverallQual      0.266342\n",
       "OverallCond      1.261655\n",
       "YearBuilt       -0.895796\n",
       "YearRemodAdd    -0.903420\n",
       "MasVnrArea       2.301589\n",
       "BsmtFinSF1       2.222882\n",
       "BsmtFinSF2       4.687205\n",
       "BsmtUnfSF        0.916462\n",
       "TotalBsmtSF      2.975403\n",
       "1stFlrSF         1.659177\n",
       "2ndFlrSF         0.523807\n",
       "LowQualFinSF     9.494031\n",
       "GrLivArea        1.853485\n",
       "BsmtFullBath     0.482140\n",
       "BsmtHalfBath     3.488490\n",
       "FullBath        -0.350089\n",
       "HalfBath         0.232178\n",
       "BedroomAbvGr    -0.390756\n",
       "KitchenAbvGr     8.008823\n",
       "TotRmsAbvGrd     0.547152\n",
       "Fireplaces       2.426133\n",
       "GarageYrBlt     -0.864852\n",
       "GarageCars      -0.023997\n",
       "GarageArea       0.690656\n",
       "WoodDeckSF       1.267913\n",
       "OpenPorchSF      2.476073\n",
       "EnclosedPorch    3.732162\n",
       "3SsnPorch        8.095117\n",
       "ScreenPorch      3.184993\n",
       "MiscVal          8.733207\n",
       "MoSold           0.111478\n",
       "YrSold           0.202260\n",
       "SalePrice        1.829225\n",
       "dtype: float64"
      ]
     },
     "execution_count": 227,
     "metadata": {},
     "output_type": "execute_result"
    }
   ],
   "source": [
    "df.skew()"
   ]
  },
  {
   "cell_type": "markdown",
   "id": "2958f30d",
   "metadata": {},
   "source": [
    "Skewness are also present in most of the columns , so we will treat it after outlier removal."
   ]
  },
  {
   "cell_type": "markdown",
   "id": "6e2f4f5f",
   "metadata": {},
   "source": [
    " # ENCODING THE DATAFRAME TO CONVERT STRING COLUMNS TO NUMERIC COLUMNS"
   ]
  },
  {
   "cell_type": "code",
   "execution_count": 228,
   "id": "3e7e462e",
   "metadata": {},
   "outputs": [],
   "source": [
    "from sklearn.preprocessing import OrdinalEncoder\n",
    "\n",
    "enc =OrdinalEncoder()\n",
    "\n",
    "for i in df.columns:\n",
    "    if df[i].dtypes=='object':\n",
    "        df[i]=enc.fit_transform(df[i].values.reshape(-1,1))"
   ]
  },
  {
   "cell_type": "code",
   "execution_count": 230,
   "id": "310a9142",
   "metadata": {},
   "outputs": [
    {
     "data": {
      "text/html": [
       "<div>\n",
       "<style scoped>\n",
       "    .dataframe tbody tr th:only-of-type {\n",
       "        vertical-align: middle;\n",
       "    }\n",
       "\n",
       "    .dataframe tbody tr th {\n",
       "        vertical-align: top;\n",
       "    }\n",
       "\n",
       "    .dataframe thead th {\n",
       "        text-align: right;\n",
       "    }\n",
       "</style>\n",
       "<table border=\"1\" class=\"dataframe\">\n",
       "  <thead>\n",
       "    <tr style=\"text-align: right;\">\n",
       "      <th></th>\n",
       "      <th>Id</th>\n",
       "      <th>MSSubClass</th>\n",
       "      <th>MSZoning</th>\n",
       "      <th>LotFrontage</th>\n",
       "      <th>LotArea</th>\n",
       "      <th>LotShape</th>\n",
       "      <th>LandContour</th>\n",
       "      <th>LotConfig</th>\n",
       "      <th>LandSlope</th>\n",
       "      <th>Neighborhood</th>\n",
       "      <th>...</th>\n",
       "      <th>OpenPorchSF</th>\n",
       "      <th>EnclosedPorch</th>\n",
       "      <th>3SsnPorch</th>\n",
       "      <th>ScreenPorch</th>\n",
       "      <th>MiscVal</th>\n",
       "      <th>MoSold</th>\n",
       "      <th>YrSold</th>\n",
       "      <th>SaleType</th>\n",
       "      <th>SaleCondition</th>\n",
       "      <th>SalePrice</th>\n",
       "    </tr>\n",
       "  </thead>\n",
       "  <tbody>\n",
       "    <tr>\n",
       "      <th>1</th>\n",
       "      <td>889</td>\n",
       "      <td>20</td>\n",
       "      <td>2.0</td>\n",
       "      <td>95.0</td>\n",
       "      <td>15865</td>\n",
       "      <td>0.0</td>\n",
       "      <td>3.0</td>\n",
       "      <td>4.0</td>\n",
       "      <td>1.0</td>\n",
       "      <td>11.0</td>\n",
       "      <td>...</td>\n",
       "      <td>207</td>\n",
       "      <td>0</td>\n",
       "      <td>0</td>\n",
       "      <td>224</td>\n",
       "      <td>0</td>\n",
       "      <td>10</td>\n",
       "      <td>2007</td>\n",
       "      <td>7.0</td>\n",
       "      <td>3.0</td>\n",
       "      <td>268000.0</td>\n",
       "    </tr>\n",
       "    <tr>\n",
       "      <th>2</th>\n",
       "      <td>793</td>\n",
       "      <td>60</td>\n",
       "      <td>2.0</td>\n",
       "      <td>92.0</td>\n",
       "      <td>9920</td>\n",
       "      <td>0.0</td>\n",
       "      <td>3.0</td>\n",
       "      <td>1.0</td>\n",
       "      <td>0.0</td>\n",
       "      <td>14.0</td>\n",
       "      <td>...</td>\n",
       "      <td>130</td>\n",
       "      <td>0</td>\n",
       "      <td>0</td>\n",
       "      <td>0</td>\n",
       "      <td>0</td>\n",
       "      <td>6</td>\n",
       "      <td>2007</td>\n",
       "      <td>7.0</td>\n",
       "      <td>3.0</td>\n",
       "      <td>269790.0</td>\n",
       "    </tr>\n",
       "    <tr>\n",
       "      <th>3</th>\n",
       "      <td>110</td>\n",
       "      <td>20</td>\n",
       "      <td>2.0</td>\n",
       "      <td>105.0</td>\n",
       "      <td>11751</td>\n",
       "      <td>0.0</td>\n",
       "      <td>3.0</td>\n",
       "      <td>4.0</td>\n",
       "      <td>0.0</td>\n",
       "      <td>13.0</td>\n",
       "      <td>...</td>\n",
       "      <td>122</td>\n",
       "      <td>0</td>\n",
       "      <td>0</td>\n",
       "      <td>0</td>\n",
       "      <td>0</td>\n",
       "      <td>1</td>\n",
       "      <td>2010</td>\n",
       "      <td>0.0</td>\n",
       "      <td>3.0</td>\n",
       "      <td>190000.0</td>\n",
       "    </tr>\n",
       "    <tr>\n",
       "      <th>5</th>\n",
       "      <td>1197</td>\n",
       "      <td>60</td>\n",
       "      <td>2.0</td>\n",
       "      <td>58.0</td>\n",
       "      <td>14054</td>\n",
       "      <td>0.0</td>\n",
       "      <td>3.0</td>\n",
       "      <td>4.0</td>\n",
       "      <td>0.0</td>\n",
       "      <td>7.0</td>\n",
       "      <td>...</td>\n",
       "      <td>17</td>\n",
       "      <td>0</td>\n",
       "      <td>0</td>\n",
       "      <td>0</td>\n",
       "      <td>0</td>\n",
       "      <td>11</td>\n",
       "      <td>2006</td>\n",
       "      <td>6.0</td>\n",
       "      <td>4.0</td>\n",
       "      <td>219210.0</td>\n",
       "    </tr>\n",
       "    <tr>\n",
       "      <th>7</th>\n",
       "      <td>1041</td>\n",
       "      <td>20</td>\n",
       "      <td>2.0</td>\n",
       "      <td>88.0</td>\n",
       "      <td>13125</td>\n",
       "      <td>3.0</td>\n",
       "      <td>3.0</td>\n",
       "      <td>0.0</td>\n",
       "      <td>0.0</td>\n",
       "      <td>18.0</td>\n",
       "      <td>...</td>\n",
       "      <td>0</td>\n",
       "      <td>0</td>\n",
       "      <td>0</td>\n",
       "      <td>0</td>\n",
       "      <td>0</td>\n",
       "      <td>1</td>\n",
       "      <td>2006</td>\n",
       "      <td>7.0</td>\n",
       "      <td>3.0</td>\n",
       "      <td>155000.0</td>\n",
       "    </tr>\n",
       "    <tr>\n",
       "      <th>...</th>\n",
       "      <td>...</td>\n",
       "      <td>...</td>\n",
       "      <td>...</td>\n",
       "      <td>...</td>\n",
       "      <td>...</td>\n",
       "      <td>...</td>\n",
       "      <td>...</td>\n",
       "      <td>...</td>\n",
       "      <td>...</td>\n",
       "      <td>...</td>\n",
       "      <td>...</td>\n",
       "      <td>...</td>\n",
       "      <td>...</td>\n",
       "      <td>...</td>\n",
       "      <td>...</td>\n",
       "      <td>...</td>\n",
       "      <td>...</td>\n",
       "      <td>...</td>\n",
       "      <td>...</td>\n",
       "      <td>...</td>\n",
       "      <td>...</td>\n",
       "    </tr>\n",
       "    <tr>\n",
       "      <th>1144</th>\n",
       "      <td>1458</td>\n",
       "      <td>70</td>\n",
       "      <td>2.0</td>\n",
       "      <td>66.0</td>\n",
       "      <td>9042</td>\n",
       "      <td>3.0</td>\n",
       "      <td>3.0</td>\n",
       "      <td>4.0</td>\n",
       "      <td>0.0</td>\n",
       "      <td>5.0</td>\n",
       "      <td>...</td>\n",
       "      <td>60</td>\n",
       "      <td>0</td>\n",
       "      <td>0</td>\n",
       "      <td>0</td>\n",
       "      <td>2500</td>\n",
       "      <td>5</td>\n",
       "      <td>2010</td>\n",
       "      <td>7.0</td>\n",
       "      <td>3.0</td>\n",
       "      <td>266500.0</td>\n",
       "    </tr>\n",
       "    <tr>\n",
       "      <th>1146</th>\n",
       "      <td>1388</td>\n",
       "      <td>50</td>\n",
       "      <td>3.0</td>\n",
       "      <td>60.0</td>\n",
       "      <td>8520</td>\n",
       "      <td>3.0</td>\n",
       "      <td>3.0</td>\n",
       "      <td>4.0</td>\n",
       "      <td>0.0</td>\n",
       "      <td>16.0</td>\n",
       "      <td>...</td>\n",
       "      <td>15</td>\n",
       "      <td>0</td>\n",
       "      <td>0</td>\n",
       "      <td>0</td>\n",
       "      <td>0</td>\n",
       "      <td>8</td>\n",
       "      <td>2007</td>\n",
       "      <td>1.0</td>\n",
       "      <td>2.0</td>\n",
       "      <td>136000.0</td>\n",
       "    </tr>\n",
       "    <tr>\n",
       "      <th>1150</th>\n",
       "      <td>679</td>\n",
       "      <td>20</td>\n",
       "      <td>2.0</td>\n",
       "      <td>80.0</td>\n",
       "      <td>11844</td>\n",
       "      <td>0.0</td>\n",
       "      <td>3.0</td>\n",
       "      <td>4.0</td>\n",
       "      <td>0.0</td>\n",
       "      <td>21.0</td>\n",
       "      <td>...</td>\n",
       "      <td>82</td>\n",
       "      <td>0</td>\n",
       "      <td>0</td>\n",
       "      <td>0</td>\n",
       "      <td>0</td>\n",
       "      <td>7</td>\n",
       "      <td>2009</td>\n",
       "      <td>6.0</td>\n",
       "      <td>4.0</td>\n",
       "      <td>372500.0</td>\n",
       "    </tr>\n",
       "    <tr>\n",
       "      <th>1154</th>\n",
       "      <td>168</td>\n",
       "      <td>60</td>\n",
       "      <td>2.0</td>\n",
       "      <td>86.0</td>\n",
       "      <td>10562</td>\n",
       "      <td>3.0</td>\n",
       "      <td>3.0</td>\n",
       "      <td>4.0</td>\n",
       "      <td>0.0</td>\n",
       "      <td>15.0</td>\n",
       "      <td>...</td>\n",
       "      <td>120</td>\n",
       "      <td>0</td>\n",
       "      <td>0</td>\n",
       "      <td>0</td>\n",
       "      <td>0</td>\n",
       "      <td>11</td>\n",
       "      <td>2007</td>\n",
       "      <td>6.0</td>\n",
       "      <td>4.0</td>\n",
       "      <td>325624.0</td>\n",
       "    </tr>\n",
       "    <tr>\n",
       "      <th>1165</th>\n",
       "      <td>196</td>\n",
       "      <td>160</td>\n",
       "      <td>2.0</td>\n",
       "      <td>24.0</td>\n",
       "      <td>2280</td>\n",
       "      <td>3.0</td>\n",
       "      <td>3.0</td>\n",
       "      <td>2.0</td>\n",
       "      <td>0.0</td>\n",
       "      <td>12.0</td>\n",
       "      <td>...</td>\n",
       "      <td>0</td>\n",
       "      <td>0</td>\n",
       "      <td>0</td>\n",
       "      <td>0</td>\n",
       "      <td>0</td>\n",
       "      <td>7</td>\n",
       "      <td>2009</td>\n",
       "      <td>7.0</td>\n",
       "      <td>3.0</td>\n",
       "      <td>148500.0</td>\n",
       "    </tr>\n",
       "  </tbody>\n",
       "</table>\n",
       "<p>467 rows × 73 columns</p>\n",
       "</div>"
      ],
      "text/plain": [
       "        Id  MSSubClass  MSZoning  LotFrontage  LotArea  LotShape  LandContour  \\\n",
       "1      889          20       2.0         95.0    15865       0.0          3.0   \n",
       "2      793          60       2.0         92.0     9920       0.0          3.0   \n",
       "3      110          20       2.0        105.0    11751       0.0          3.0   \n",
       "5     1197          60       2.0         58.0    14054       0.0          3.0   \n",
       "7     1041          20       2.0         88.0    13125       3.0          3.0   \n",
       "...    ...         ...       ...          ...      ...       ...          ...   \n",
       "1144  1458          70       2.0         66.0     9042       3.0          3.0   \n",
       "1146  1388          50       3.0         60.0     8520       3.0          3.0   \n",
       "1150   679          20       2.0         80.0    11844       0.0          3.0   \n",
       "1154   168          60       2.0         86.0    10562       3.0          3.0   \n",
       "1165   196         160       2.0         24.0     2280       3.0          3.0   \n",
       "\n",
       "      LotConfig  LandSlope  Neighborhood  ...  OpenPorchSF  EnclosedPorch  \\\n",
       "1           4.0        1.0          11.0  ...          207              0   \n",
       "2           1.0        0.0          14.0  ...          130              0   \n",
       "3           4.0        0.0          13.0  ...          122              0   \n",
       "5           4.0        0.0           7.0  ...           17              0   \n",
       "7           0.0        0.0          18.0  ...            0              0   \n",
       "...         ...        ...           ...  ...          ...            ...   \n",
       "1144        4.0        0.0           5.0  ...           60              0   \n",
       "1146        4.0        0.0          16.0  ...           15              0   \n",
       "1150        4.0        0.0          21.0  ...           82              0   \n",
       "1154        4.0        0.0          15.0  ...          120              0   \n",
       "1165        2.0        0.0          12.0  ...            0              0   \n",
       "\n",
       "      3SsnPorch  ScreenPorch  MiscVal  MoSold  YrSold  SaleType  \\\n",
       "1             0          224        0      10    2007       7.0   \n",
       "2             0            0        0       6    2007       7.0   \n",
       "3             0            0        0       1    2010       0.0   \n",
       "5             0            0        0      11    2006       6.0   \n",
       "7             0            0        0       1    2006       7.0   \n",
       "...         ...          ...      ...     ...     ...       ...   \n",
       "1144          0            0     2500       5    2010       7.0   \n",
       "1146          0            0        0       8    2007       1.0   \n",
       "1150          0            0        0       7    2009       6.0   \n",
       "1154          0            0        0      11    2007       6.0   \n",
       "1165          0            0        0       7    2009       7.0   \n",
       "\n",
       "      SaleCondition  SalePrice  \n",
       "1               3.0   268000.0  \n",
       "2               3.0   269790.0  \n",
       "3               3.0   190000.0  \n",
       "5               4.0   219210.0  \n",
       "7               3.0   155000.0  \n",
       "...             ...        ...  \n",
       "1144            3.0   266500.0  \n",
       "1146            2.0   136000.0  \n",
       "1150            4.0   372500.0  \n",
       "1154            4.0   325624.0  \n",
       "1165            3.0   148500.0  \n",
       "\n",
       "[467 rows x 73 columns]"
      ]
     },
     "execution_count": 230,
     "metadata": {},
     "output_type": "execute_result"
    }
   ],
   "source": [
    "df"
   ]
  },
  {
   "cell_type": "markdown",
   "id": "7644c745",
   "metadata": {},
   "source": [
    " Now columns has been converted into numeric data."
   ]
  },
  {
   "cell_type": "markdown",
   "id": "767ebe39",
   "metadata": {},
   "source": [
    "# Outlier Removal"
   ]
  },
  {
   "cell_type": "code",
   "execution_count": 30,
   "id": "6d5ce647",
   "metadata": {},
   "outputs": [],
   "source": [
    "from scipy.stats import zscore"
   ]
  },
  {
   "cell_type": "code",
   "execution_count": 231,
   "id": "964218c4",
   "metadata": {},
   "outputs": [
    {
     "data": {
      "text/plain": [
       "(array([  0,   0,   0,   2,   4,   4,   4,   5,   5,   7,   8,   9,  10,\n",
       "         10,  11,  11,  16,  17,  18,  20,  20,  20,  20,  24,  27,  28,\n",
       "         29,  33,  35,  35,  35,  35,  35,  35,  35,  37,  41,  42,  43,\n",
       "         43,  43,  43,  43,  44,  44,  46,  48,  48,  48,  49,  50,  51,\n",
       "         51,  51,  51,  52,  52,  54,  55,  56,  56,  56,  57,  57,  58,\n",
       "         59,  61,  63,  63,  63,  64,  65,  65,  65,  68,  68,  68,  71,\n",
       "         72,  72,  72,  76,  81,  82,  84,  85,  88,  88,  88,  89,  89,\n",
       "         90,  90,  90,  91,  91,  95,  95,  95,  95,  96,  97, 101, 110,\n",
       "        110, 110, 112, 114, 114, 117, 118, 119, 125, 125, 127, 129, 131,\n",
       "        139, 139, 141, 141, 141, 141, 141, 141, 141, 141, 142, 142, 143,\n",
       "        143, 143, 150, 153, 153, 155, 155, 155, 155, 156, 156, 160, 162,\n",
       "        163, 163, 163, 163, 163, 163, 163, 165, 167, 167, 167, 168, 169,\n",
       "        171, 171, 172, 174, 174, 175, 175, 178, 178, 180, 183, 187, 189,\n",
       "        190, 191, 194, 194, 196, 197, 198, 201, 205, 206, 207, 207, 211,\n",
       "        215, 217, 218, 218, 218, 219, 219, 219, 219, 222, 222, 226, 226,\n",
       "        226, 227, 228, 228, 228, 228, 230, 233, 233, 233, 233, 235, 238,\n",
       "        240, 240, 240, 240, 240, 240, 241, 241, 241, 241, 241, 241, 241,\n",
       "        241, 241, 241, 241, 243, 244, 244, 244, 246, 250, 255, 256, 257,\n",
       "        264, 264, 265, 266, 266, 266, 267, 269, 269, 269, 269, 270, 270,\n",
       "        271, 271, 272, 272, 275, 282, 282, 284, 284, 284, 285, 285, 285,\n",
       "        285, 285, 286, 288, 290, 291, 292, 295, 295, 295, 296, 296, 296,\n",
       "        296, 297, 298, 298, 301, 302, 308, 312, 313, 314, 315, 316, 317,\n",
       "        317, 318, 319, 320, 320, 321, 321, 322, 324, 327, 328, 331, 333,\n",
       "        333, 333, 335, 336, 336, 336, 336, 336, 336, 336, 336, 336, 337,\n",
       "        338, 339, 341, 342, 343, 344, 344, 344, 345, 345, 347, 347, 347,\n",
       "        347, 349, 349, 349, 349, 350, 352, 353, 353, 354, 354, 354, 355,\n",
       "        357, 358, 361, 362, 363, 363, 364, 364, 368, 369, 369, 371, 372,\n",
       "        372, 373, 374, 376, 376, 378, 380, 380, 381, 381, 382, 387, 387,\n",
       "        388, 388, 388, 394, 395, 397, 399, 399, 399, 403, 403, 416, 424,\n",
       "        426, 426, 426, 428, 428, 428, 430, 434, 434, 438, 441, 443, 443,\n",
       "        444, 444, 444, 445, 445, 445, 445, 445, 447, 447, 448, 448, 448,\n",
       "        450, 450, 450, 451, 451, 451, 451, 451, 454, 454, 456, 456, 457,\n",
       "        458, 458, 458, 459, 460, 460, 462, 462, 463, 463], dtype=int64),\n",
       " array([ 8, 19, 33, 70, 32, 33, 51,  6, 61, 28, 65, 15, 28, 38,  8, 38,  4,\n",
       "        10, 38, 59, 63, 66, 67, 65,  6,  8, 37, 47, 15, 19, 41, 42, 50, 59,\n",
       "        66, 52,  8, 64,  4, 19, 45, 47, 62,  8, 44, 10, 44, 59, 64, 33, 23,\n",
       "        40, 42, 71, 72, 64, 71, 44, 62, 15, 70, 71, 44, 65, 65, 44, 65,  6,\n",
       "        38, 65,  6, 32, 64, 71,  6, 28, 59,  3, 15, 16, 42,  6, 44, 38, 41,\n",
       "        23, 10, 70, 71, 31, 72,  6, 59, 60,  4, 62, 37, 59, 60, 64, 52, 60,\n",
       "        64, 32, 33, 64, 71, 44, 71, 61, 72, 44,  8, 44, 71, 66, 64, 38, 61,\n",
       "         4,  6, 11, 31, 35, 39, 42, 63,  1, 66,  1, 11, 48, 64, 32, 44,  1,\n",
       "        15, 48, 61, 70, 71, 63, 70,  1,  2, 28, 37, 44, 48, 55, 44, 32, 33,\n",
       "        64, 44, 10, 50, 72, 64, 66, 67, 23, 32,  8, 19, 44,  8, 10, 44, 38,\n",
       "        44, 51, 67, 19, 67, 32, 10, 32,  6,  6, 61, 71,  8, 19, 37, 38, 61,\n",
       "         6,  8, 41, 51, 44, 45, 44, 70, 71, 10, 10, 32, 33, 51,  8, 10, 50,\n",
       "        66, 67, 51, 71,  1,  6, 37, 48, 61, 64,  3,  4,  6, 31, 35, 39, 42,\n",
       "        50, 52, 58, 63, 38,  4,  6, 59, 15, 44, 52,  1, 63, 15, 16, 44,  6,\n",
       "        45, 48, 66,  1, 37, 48, 64, 32, 51, 59, 60, 44, 51, 44, 32, 33,  4,\n",
       "         8, 19, 19, 23, 42, 44, 72, 32, 23, 71, 62, 44, 37, 61, 63, 11, 15,\n",
       "        25, 63, 44, 32, 71, 23, 65, 10, 63, 67, 64, 28,  8,  8, 38, 34,  3,\n",
       "        33, 51, 23, 34, 70, 58, 70, 59, 10,  8, 44, 65, 33,  1, 25, 28, 37,\n",
       "        38, 48, 60, 61, 70, 66,  3, 32, 44, 32, 19, 32, 33, 70, 59, 60,  4,\n",
       "         8, 32, 33,  4, 23, 42, 72, 61, 66, 32, 64, 28, 51, 64,  8, 23, 28,\n",
       "        34,  6, 28, 38, 59, 66, 66, 15, 44, 65,  8, 44, 28, 59, 11, 58, 71,\n",
       "        32, 33, 58, 72, 66,  8, 25, 25, 51, 64, 37, 41, 10,  6,  8, 38, 44,\n",
       "        51, 25, 23, 15, 25, 61,  3,  8, 19, 44, 32, 33, 70, 51, 19, 44,  8,\n",
       "        59, 60, 16, 28, 37, 61, 64, 59, 60,  6,  8, 41, 28, 38, 44,  3, 41,\n",
       "        44, 64, 71, 59, 60, 10, 32, 38,  6,  8, 51, 44, 32, 33, 15, 67, 37,\n",
       "        70], dtype=int64))"
      ]
     },
     "execution_count": 231,
     "metadata": {},
     "output_type": "execute_result"
    }
   ],
   "source": [
    "z=np.abs(zscore(df))\n",
    "threshold=3\n",
    "np.where(z>3)"
   ]
  },
  {
   "cell_type": "code",
   "execution_count": 233,
   "id": "5e78aa15",
   "metadata": {},
   "outputs": [
    {
     "data": {
      "text/html": [
       "<div>\n",
       "<style scoped>\n",
       "    .dataframe tbody tr th:only-of-type {\n",
       "        vertical-align: middle;\n",
       "    }\n",
       "\n",
       "    .dataframe tbody tr th {\n",
       "        vertical-align: top;\n",
       "    }\n",
       "\n",
       "    .dataframe thead th {\n",
       "        text-align: right;\n",
       "    }\n",
       "</style>\n",
       "<table border=\"1\" class=\"dataframe\">\n",
       "  <thead>\n",
       "    <tr style=\"text-align: right;\">\n",
       "      <th></th>\n",
       "      <th>Id</th>\n",
       "      <th>MSSubClass</th>\n",
       "      <th>MSZoning</th>\n",
       "      <th>LotFrontage</th>\n",
       "      <th>LotArea</th>\n",
       "      <th>LotShape</th>\n",
       "      <th>LandContour</th>\n",
       "      <th>LotConfig</th>\n",
       "      <th>LandSlope</th>\n",
       "      <th>Neighborhood</th>\n",
       "      <th>...</th>\n",
       "      <th>OpenPorchSF</th>\n",
       "      <th>EnclosedPorch</th>\n",
       "      <th>3SsnPorch</th>\n",
       "      <th>ScreenPorch</th>\n",
       "      <th>MiscVal</th>\n",
       "      <th>MoSold</th>\n",
       "      <th>YrSold</th>\n",
       "      <th>SaleType</th>\n",
       "      <th>SaleCondition</th>\n",
       "      <th>SalePrice</th>\n",
       "    </tr>\n",
       "  </thead>\n",
       "  <tbody>\n",
       "    <tr>\n",
       "      <th>2</th>\n",
       "      <td>793</td>\n",
       "      <td>60</td>\n",
       "      <td>2.0</td>\n",
       "      <td>92.0</td>\n",
       "      <td>9920</td>\n",
       "      <td>0.0</td>\n",
       "      <td>3.0</td>\n",
       "      <td>1.0</td>\n",
       "      <td>0.0</td>\n",
       "      <td>14.0</td>\n",
       "      <td>...</td>\n",
       "      <td>130</td>\n",
       "      <td>0</td>\n",
       "      <td>0</td>\n",
       "      <td>0</td>\n",
       "      <td>0</td>\n",
       "      <td>6</td>\n",
       "      <td>2007</td>\n",
       "      <td>7.0</td>\n",
       "      <td>3.0</td>\n",
       "      <td>269790.0</td>\n",
       "    </tr>\n",
       "    <tr>\n",
       "      <th>5</th>\n",
       "      <td>1197</td>\n",
       "      <td>60</td>\n",
       "      <td>2.0</td>\n",
       "      <td>58.0</td>\n",
       "      <td>14054</td>\n",
       "      <td>0.0</td>\n",
       "      <td>3.0</td>\n",
       "      <td>4.0</td>\n",
       "      <td>0.0</td>\n",
       "      <td>7.0</td>\n",
       "      <td>...</td>\n",
       "      <td>17</td>\n",
       "      <td>0</td>\n",
       "      <td>0</td>\n",
       "      <td>0</td>\n",
       "      <td>0</td>\n",
       "      <td>11</td>\n",
       "      <td>2006</td>\n",
       "      <td>6.0</td>\n",
       "      <td>4.0</td>\n",
       "      <td>219210.0</td>\n",
       "    </tr>\n",
       "    <tr>\n",
       "      <th>11</th>\n",
       "      <td>833</td>\n",
       "      <td>60</td>\n",
       "      <td>2.0</td>\n",
       "      <td>44.0</td>\n",
       "      <td>9548</td>\n",
       "      <td>0.0</td>\n",
       "      <td>3.0</td>\n",
       "      <td>1.0</td>\n",
       "      <td>0.0</td>\n",
       "      <td>4.0</td>\n",
       "      <td>...</td>\n",
       "      <td>39</td>\n",
       "      <td>0</td>\n",
       "      <td>0</td>\n",
       "      <td>0</td>\n",
       "      <td>0</td>\n",
       "      <td>1</td>\n",
       "      <td>2010</td>\n",
       "      <td>7.0</td>\n",
       "      <td>3.0</td>\n",
       "      <td>237000.0</td>\n",
       "    </tr>\n",
       "    <tr>\n",
       "      <th>30</th>\n",
       "      <td>46</td>\n",
       "      <td>120</td>\n",
       "      <td>2.0</td>\n",
       "      <td>61.0</td>\n",
       "      <td>7658</td>\n",
       "      <td>3.0</td>\n",
       "      <td>3.0</td>\n",
       "      <td>4.0</td>\n",
       "      <td>0.0</td>\n",
       "      <td>15.0</td>\n",
       "      <td>...</td>\n",
       "      <td>82</td>\n",
       "      <td>0</td>\n",
       "      <td>0</td>\n",
       "      <td>0</td>\n",
       "      <td>0</td>\n",
       "      <td>2</td>\n",
       "      <td>2010</td>\n",
       "      <td>7.0</td>\n",
       "      <td>3.0</td>\n",
       "      <td>319900.0</td>\n",
       "    </tr>\n",
       "    <tr>\n",
       "      <th>31</th>\n",
       "      <td>426</td>\n",
       "      <td>60</td>\n",
       "      <td>3.0</td>\n",
       "      <td>60.0</td>\n",
       "      <td>3378</td>\n",
       "      <td>3.0</td>\n",
       "      <td>1.0</td>\n",
       "      <td>4.0</td>\n",
       "      <td>0.0</td>\n",
       "      <td>16.0</td>\n",
       "      <td>...</td>\n",
       "      <td>0</td>\n",
       "      <td>126</td>\n",
       "      <td>0</td>\n",
       "      <td>0</td>\n",
       "      <td>0</td>\n",
       "      <td>9</td>\n",
       "      <td>2009</td>\n",
       "      <td>7.0</td>\n",
       "      <td>3.0</td>\n",
       "      <td>135000.0</td>\n",
       "    </tr>\n",
       "    <tr>\n",
       "      <th>...</th>\n",
       "      <td>...</td>\n",
       "      <td>...</td>\n",
       "      <td>...</td>\n",
       "      <td>...</td>\n",
       "      <td>...</td>\n",
       "      <td>...</td>\n",
       "      <td>...</td>\n",
       "      <td>...</td>\n",
       "      <td>...</td>\n",
       "      <td>...</td>\n",
       "      <td>...</td>\n",
       "      <td>...</td>\n",
       "      <td>...</td>\n",
       "      <td>...</td>\n",
       "      <td>...</td>\n",
       "      <td>...</td>\n",
       "      <td>...</td>\n",
       "      <td>...</td>\n",
       "      <td>...</td>\n",
       "      <td>...</td>\n",
       "      <td>...</td>\n",
       "    </tr>\n",
       "    <tr>\n",
       "      <th>1127</th>\n",
       "      <td>1107</td>\n",
       "      <td>20</td>\n",
       "      <td>2.0</td>\n",
       "      <td>114.0</td>\n",
       "      <td>10357</td>\n",
       "      <td>0.0</td>\n",
       "      <td>3.0</td>\n",
       "      <td>0.0</td>\n",
       "      <td>0.0</td>\n",
       "      <td>19.0</td>\n",
       "      <td>...</td>\n",
       "      <td>244</td>\n",
       "      <td>0</td>\n",
       "      <td>0</td>\n",
       "      <td>0</td>\n",
       "      <td>0</td>\n",
       "      <td>5</td>\n",
       "      <td>2007</td>\n",
       "      <td>7.0</td>\n",
       "      <td>3.0</td>\n",
       "      <td>179900.0</td>\n",
       "    </tr>\n",
       "    <tr>\n",
       "      <th>1143</th>\n",
       "      <td>1257</td>\n",
       "      <td>20</td>\n",
       "      <td>2.0</td>\n",
       "      <td>91.0</td>\n",
       "      <td>14303</td>\n",
       "      <td>0.0</td>\n",
       "      <td>3.0</td>\n",
       "      <td>0.0</td>\n",
       "      <td>0.0</td>\n",
       "      <td>14.0</td>\n",
       "      <td>...</td>\n",
       "      <td>36</td>\n",
       "      <td>0</td>\n",
       "      <td>0</td>\n",
       "      <td>0</td>\n",
       "      <td>0</td>\n",
       "      <td>8</td>\n",
       "      <td>2008</td>\n",
       "      <td>7.0</td>\n",
       "      <td>3.0</td>\n",
       "      <td>301500.0</td>\n",
       "    </tr>\n",
       "    <tr>\n",
       "      <th>1150</th>\n",
       "      <td>679</td>\n",
       "      <td>20</td>\n",
       "      <td>2.0</td>\n",
       "      <td>80.0</td>\n",
       "      <td>11844</td>\n",
       "      <td>0.0</td>\n",
       "      <td>3.0</td>\n",
       "      <td>4.0</td>\n",
       "      <td>0.0</td>\n",
       "      <td>21.0</td>\n",
       "      <td>...</td>\n",
       "      <td>82</td>\n",
       "      <td>0</td>\n",
       "      <td>0</td>\n",
       "      <td>0</td>\n",
       "      <td>0</td>\n",
       "      <td>7</td>\n",
       "      <td>2009</td>\n",
       "      <td>6.0</td>\n",
       "      <td>4.0</td>\n",
       "      <td>372500.0</td>\n",
       "    </tr>\n",
       "    <tr>\n",
       "      <th>1154</th>\n",
       "      <td>168</td>\n",
       "      <td>60</td>\n",
       "      <td>2.0</td>\n",
       "      <td>86.0</td>\n",
       "      <td>10562</td>\n",
       "      <td>3.0</td>\n",
       "      <td>3.0</td>\n",
       "      <td>4.0</td>\n",
       "      <td>0.0</td>\n",
       "      <td>15.0</td>\n",
       "      <td>...</td>\n",
       "      <td>120</td>\n",
       "      <td>0</td>\n",
       "      <td>0</td>\n",
       "      <td>0</td>\n",
       "      <td>0</td>\n",
       "      <td>11</td>\n",
       "      <td>2007</td>\n",
       "      <td>6.0</td>\n",
       "      <td>4.0</td>\n",
       "      <td>325624.0</td>\n",
       "    </tr>\n",
       "    <tr>\n",
       "      <th>1165</th>\n",
       "      <td>196</td>\n",
       "      <td>160</td>\n",
       "      <td>2.0</td>\n",
       "      <td>24.0</td>\n",
       "      <td>2280</td>\n",
       "      <td>3.0</td>\n",
       "      <td>3.0</td>\n",
       "      <td>2.0</td>\n",
       "      <td>0.0</td>\n",
       "      <td>12.0</td>\n",
       "      <td>...</td>\n",
       "      <td>0</td>\n",
       "      <td>0</td>\n",
       "      <td>0</td>\n",
       "      <td>0</td>\n",
       "      <td>0</td>\n",
       "      <td>7</td>\n",
       "      <td>2009</td>\n",
       "      <td>7.0</td>\n",
       "      <td>3.0</td>\n",
       "      <td>148500.0</td>\n",
       "    </tr>\n",
       "  </tbody>\n",
       "</table>\n",
       "<p>241 rows × 73 columns</p>\n",
       "</div>"
      ],
      "text/plain": [
       "        Id  MSSubClass  MSZoning  LotFrontage  LotArea  LotShape  LandContour  \\\n",
       "2      793          60       2.0         92.0     9920       0.0          3.0   \n",
       "5     1197          60       2.0         58.0    14054       0.0          3.0   \n",
       "11     833          60       2.0         44.0     9548       0.0          3.0   \n",
       "30      46         120       2.0         61.0     7658       3.0          3.0   \n",
       "31     426          60       3.0         60.0     3378       3.0          1.0   \n",
       "...    ...         ...       ...          ...      ...       ...          ...   \n",
       "1127  1107          20       2.0        114.0    10357       0.0          3.0   \n",
       "1143  1257          20       2.0         91.0    14303       0.0          3.0   \n",
       "1150   679          20       2.0         80.0    11844       0.0          3.0   \n",
       "1154   168          60       2.0         86.0    10562       3.0          3.0   \n",
       "1165   196         160       2.0         24.0     2280       3.0          3.0   \n",
       "\n",
       "      LotConfig  LandSlope  Neighborhood  ...  OpenPorchSF  EnclosedPorch  \\\n",
       "2           1.0        0.0          14.0  ...          130              0   \n",
       "5           4.0        0.0           7.0  ...           17              0   \n",
       "11          1.0        0.0           4.0  ...           39              0   \n",
       "30          4.0        0.0          15.0  ...           82              0   \n",
       "31          4.0        0.0          16.0  ...            0            126   \n",
       "...         ...        ...           ...  ...          ...            ...   \n",
       "1127        0.0        0.0          19.0  ...          244              0   \n",
       "1143        0.0        0.0          14.0  ...           36              0   \n",
       "1150        4.0        0.0          21.0  ...           82              0   \n",
       "1154        4.0        0.0          15.0  ...          120              0   \n",
       "1165        2.0        0.0          12.0  ...            0              0   \n",
       "\n",
       "      3SsnPorch  ScreenPorch  MiscVal  MoSold  YrSold  SaleType  \\\n",
       "2             0            0        0       6    2007       7.0   \n",
       "5             0            0        0      11    2006       6.0   \n",
       "11            0            0        0       1    2010       7.0   \n",
       "30            0            0        0       2    2010       7.0   \n",
       "31            0            0        0       9    2009       7.0   \n",
       "...         ...          ...      ...     ...     ...       ...   \n",
       "1127          0            0        0       5    2007       7.0   \n",
       "1143          0            0        0       8    2008       7.0   \n",
       "1150          0            0        0       7    2009       6.0   \n",
       "1154          0            0        0      11    2007       6.0   \n",
       "1165          0            0        0       7    2009       7.0   \n",
       "\n",
       "      SaleCondition  SalePrice  \n",
       "2               3.0   269790.0  \n",
       "5               4.0   219210.0  \n",
       "11              3.0   237000.0  \n",
       "30              3.0   319900.0  \n",
       "31              3.0   135000.0  \n",
       "...             ...        ...  \n",
       "1127            3.0   179900.0  \n",
       "1143            3.0   301500.0  \n",
       "1150            4.0   372500.0  \n",
       "1154            4.0   325624.0  \n",
       "1165            3.0   148500.0  \n",
       "\n",
       "[241 rows x 73 columns]"
      ]
     },
     "execution_count": 233,
     "metadata": {},
     "output_type": "execute_result"
    }
   ],
   "source": [
    "df_new=df[(z<3).all(axis=1)]\n",
    "df_new"
   ]
  },
  {
   "cell_type": "markdown",
   "id": "2401e8dc",
   "metadata": {},
   "source": [
    "226 rows has been removed as an outliers."
   ]
  },
  {
   "cell_type": "markdown",
   "id": "7c6b59f4",
   "metadata": {},
   "source": [
    "# Remoinvg skewness"
   ]
  },
  {
   "cell_type": "code",
   "execution_count": 234,
   "id": "f67f9551",
   "metadata": {},
   "outputs": [
    {
     "data": {
      "text/plain": [
       "Id               0.070526\n",
       "MSSubClass       1.395112\n",
       "MSZoning         0.379044\n",
       "LotFrontage      2.956276\n",
       "LotArea          4.503897\n",
       "                   ...   \n",
       "MoSold           0.111478\n",
       "YrSold           0.202260\n",
       "SaleType        -5.017724\n",
       "SaleCondition   -2.458865\n",
       "SalePrice        1.829225\n",
       "Length: 73, dtype: float64"
      ]
     },
     "execution_count": 234,
     "metadata": {},
     "output_type": "execute_result"
    }
   ],
   "source": [
    "df.skew()"
   ]
  },
  {
   "cell_type": "markdown",
   "id": "fbcbd06b",
   "metadata": {},
   "source": [
    "Most of the skewness has been removed during a outlier removal, so will not treat it because may be we can loose our datasets."
   ]
  },
  {
   "cell_type": "markdown",
   "id": "f0d1834b",
   "metadata": {},
   "source": [
    "# SEPRATING THE COLUMNS INTO FEATURES AND TARGET"
   ]
  },
  {
   "cell_type": "code",
   "execution_count": 246,
   "id": "0f13f61c",
   "metadata": {},
   "outputs": [
    {
     "data": {
      "text/plain": [
       "Index(['Id', 'MSSubClass', 'MSZoning', 'LotFrontage', 'LotArea', 'LotShape',\n",
       "       'LandContour', 'LotConfig', 'LandSlope', 'Neighborhood', 'Condition1',\n",
       "       'Condition2', 'BldgType', 'HouseStyle', 'OverallQual', 'OverallCond',\n",
       "       'YearBuilt', 'YearRemodAdd', 'RoofStyle', 'RoofMatl', 'Exterior1st',\n",
       "       'Exterior2nd', 'MasVnrType', 'MasVnrArea', 'ExterQual', 'ExterCond',\n",
       "       'Foundation', 'BsmtQual', 'BsmtCond', 'BsmtExposure', 'BsmtFinType1',\n",
       "       'BsmtFinSF1', 'BsmtFinType2', 'BsmtFinSF2', 'BsmtUnfSF', 'TotalBsmtSF',\n",
       "       'HeatingQC', 'CentralAir', 'Electrical', '1stFlrSF', '2ndFlrSF',\n",
       "       'LowQualFinSF', 'GrLivArea', 'BsmtFullBath', 'BsmtHalfBath', 'FullBath',\n",
       "       'HalfBath', 'BedroomAbvGr', 'KitchenAbvGr', 'KitchenQual',\n",
       "       'TotRmsAbvGrd', 'Functional', 'Fireplaces', 'FireplaceQu', 'GarageType',\n",
       "       'GarageYrBlt', 'GarageFinish', 'GarageCars', 'GarageArea', 'GarageQual',\n",
       "       'GarageCond', 'PavedDrive', 'WoodDeckSF', 'OpenPorchSF',\n",
       "       'EnclosedPorch', '3SsnPorch', 'ScreenPorch', 'MiscVal', 'MoSold',\n",
       "       'YrSold', 'SaleType', 'SaleCondition', 'SalePrice'],\n",
       "      dtype='object')"
      ]
     },
     "execution_count": 246,
     "metadata": {},
     "output_type": "execute_result"
    }
   ],
   "source": [
    "df_new.columns"
   ]
  },
  {
   "cell_type": "code",
   "execution_count": 255,
   "id": "c35680cf",
   "metadata": {},
   "outputs": [],
   "source": [
    "x =df_new.loc[:,['Id', 'MSSubClass', 'MSZoning', 'LotFrontage', 'LotArea', 'LotShape',\n",
    "       'LandContour', 'LotConfig', 'LandSlope', 'Neighborhood', 'Condition1',\n",
    "       'Condition2', 'BldgType', 'HouseStyle', 'OverallQual', 'OverallCond',\n",
    "       'YearBuilt', 'YearRemodAdd', 'RoofStyle', 'RoofMatl', 'Exterior1st',\n",
    "       'Exterior2nd', 'MasVnrType', 'MasVnrArea', 'ExterQual', 'ExterCond',\n",
    "       'Foundation', 'BsmtQual', 'BsmtCond', 'BsmtExposure', 'BsmtFinType1',\n",
    "       'BsmtFinSF1', 'BsmtFinType2', 'BsmtFinSF2', 'BsmtUnfSF', 'TotalBsmtSF',\n",
    "       'HeatingQC', 'CentralAir', 'Electrical', '1stFlrSF', '2ndFlrSF',\n",
    "       'LowQualFinSF', 'GrLivArea', 'BsmtFullBath', 'BsmtHalfBath', 'FullBath',\n",
    "       'HalfBath', 'BedroomAbvGr', 'KitchenAbvGr', 'KitchenQual',\n",
    "       'TotRmsAbvGrd', 'Functional', 'Fireplaces', 'FireplaceQu', 'GarageType',\n",
    "       'GarageYrBlt', 'GarageFinish', 'GarageCars', 'GarageArea', 'GarageQual',\n",
    "       'GarageCond', 'PavedDrive', 'WoodDeckSF', 'OpenPorchSF',\n",
    "       'EnclosedPorch', '3SsnPorch', 'ScreenPorch', 'MiscVal', 'MoSold',\n",
    "       'YrSold', 'SaleType', 'SaleCondition', 'SalePrice']]"
   ]
  },
  {
   "cell_type": "code",
   "execution_count": 256,
   "id": "12e20346",
   "metadata": {},
   "outputs": [
    {
     "data": {
      "text/plain": [
       "2     269790.0\n",
       "5     219210.0\n",
       "11    237000.0\n",
       "30    319900.0\n",
       "31    135000.0\n",
       "Name: SalePrice, dtype: float64"
      ]
     },
     "execution_count": 256,
     "metadata": {},
     "output_type": "execute_result"
    }
   ],
   "source": [
    "y=df_new['SalePrice']\n",
    "y.head()"
   ]
  },
  {
   "cell_type": "code",
   "execution_count": null,
   "id": "7c381413",
   "metadata": {},
   "outputs": [],
   "source": []
  },
  {
   "cell_type": "code",
   "execution_count": null,
   "id": "f47c9115",
   "metadata": {},
   "outputs": [],
   "source": []
  },
  {
   "cell_type": "markdown",
   "id": "b1b3faaf",
   "metadata": {},
   "source": [
    "# Lets bring all features to a common scale\n"
   ]
  },
  {
   "cell_type": "code",
   "execution_count": 268,
   "id": "9bf6ebdd",
   "metadata": {},
   "outputs": [],
   "source": [
    "from sklearn.preprocessing import StandardScaler\n",
    "sc=StandardScaler()\n",
    "\n",
    "x=sc.fit_transform(df_new)\n",
    "\n",
    "x=pd.DataFrame(x,columns=df_new.columns)"
   ]
  },
  {
   "cell_type": "code",
   "execution_count": null,
   "id": "84d60234",
   "metadata": {},
   "outputs": [],
   "source": []
  },
  {
   "cell_type": "code",
   "execution_count": null,
   "id": "4824336e",
   "metadata": {},
   "outputs": [],
   "source": [
    "\n"
   ]
  },
  {
   "cell_type": "markdown",
   "id": "0bce33d8",
   "metadata": {},
   "source": [
    "# TRAIN TEST SPLIT"
   ]
  },
  {
   "cell_type": "code",
   "execution_count": 270,
   "id": "057871ba",
   "metadata": {},
   "outputs": [],
   "source": [
    "from sklearn.model_selection import train_test_split\n",
    "\n",
    "x_train,x_test,y_train,y_test=train_test_split(x,y,test_size=0.30,random_state=47)"
   ]
  },
  {
   "cell_type": "markdown",
   "id": "ea8bec4f",
   "metadata": {},
   "source": [
    "# Model Building"
   ]
  },
  {
   "cell_type": "code",
   "execution_count": 271,
   "id": "60274086",
   "metadata": {},
   "outputs": [],
   "source": [
    "# importing libraries\n",
    "from sklearn.linear_model import LinearRegression ,Lasso ,Ridge ,ElasticNet\n",
    "from sklearn.metrics import r2_score\n",
    "from sklearn.metrics import mean_squared_error, mean_absolute_error\n",
    "from sklearn.model_selection import cross_val_score\n",
    "from sklearn.metrics import accuracy_score, confusion_matrix, classification_report"
   ]
  },
  {
   "cell_type": "code",
   "execution_count": 272,
   "id": "6f781a01",
   "metadata": {},
   "outputs": [
    {
     "name": "stdout",
     "output_type": "stream",
     "text": [
      "r2 score 1.0\n",
      "error\n",
      "mean absolute error 9.269370659165187e-11\n",
      "mean squared error 1.4321238563679728e-20\n",
      "root mean squared error 1.1967137737855166e-10\n"
     ]
    }
   ],
   "source": [
    "\n",
    "\n",
    "\n",
    "#for Linear Regression\n",
    "\n",
    "lr=LinearRegression()\n",
    "lr.fit(x_train,y_train)\n",
    "pred_y=lr.predict(x_test)\n",
    "print('r2 score',r2_score(y_test,pred_y))\n",
    "\n",
    "print('error')\n",
    "print('mean absolute error', mean_absolute_error(y_test,pred_y))\n",
    "print('mean squared error', mean_squared_error(y_test,pred_y))\n",
    "\n",
    "print('root mean squared error', np.sqrt(mean_squared_error(y_test,pred_y)))"
   ]
  },
  {
   "cell_type": "code",
   "execution_count": 273,
   "id": "309bd1ad",
   "metadata": {},
   "outputs": [
    {
     "name": "stdout",
     "output_type": "stream",
     "text": [
      "cv score 1.0\n"
     ]
    }
   ],
   "source": [
    "# For Linear Regression (cross validation)\n",
    "\n",
    "\n",
    "score=cross_val_score(lr,x,y,cv=10)\n",
    "print('cv score',np.mean(score))\n"
   ]
  },
  {
   "cell_type": "markdown",
   "id": "f82edf97",
   "metadata": {},
   "source": [
    "r2 score is 100% and cv score is 100% for linear regression\n",
    "\n",
    "​"
   ]
  },
  {
   "cell_type": "markdown",
   "id": "2fe6b582",
   "metadata": {},
   "source": [
    "# REGULARIZATION"
   ]
  },
  {
   "cell_type": "code",
   "execution_count": 274,
   "id": "284d7769",
   "metadata": {},
   "outputs": [
    {
     "name": "stdout",
     "output_type": "stream",
     "text": [
      "r2 score 0.999999065319511\n",
      "error\n",
      "mean absolute error 47.48771754105329\n",
      "mean squared error 4586.347404668335\n",
      "root mean squared error 67.72257677221337\n"
     ]
    }
   ],
   "source": [
    "# for Lasso\n",
    "\n",
    "ls=Lasso()\n",
    "\n",
    "ls.fit(x_train,y_train)\n",
    "pred_y=ls.predict(x_test)\n",
    "print('r2 score',r2_score(y_test,pred_y))\n",
    "\n",
    "print('error')\n",
    "print('mean absolute error', mean_absolute_error(y_test,pred_y))\n",
    "print('mean squared error', mean_squared_error(y_test,pred_y))\n",
    "\n",
    "print('root mean squared error', np.sqrt(mean_squared_error(y_test,pred_y)))\n"
   ]
  },
  {
   "cell_type": "code",
   "execution_count": 275,
   "id": "18ff6699",
   "metadata": {},
   "outputs": [
    {
     "name": "stdout",
     "output_type": "stream",
     "text": [
      "cv score 0.999999615229482\n"
     ]
    }
   ],
   "source": [
    "# For Lasso (cross validation)\n",
    "\n",
    "\n",
    "score=cross_val_score(ls,x,y,cv=10)\n",
    "print('cv score',np.mean(score))"
   ]
  },
  {
   "cell_type": "markdown",
   "id": "1a99c384",
   "metadata": {},
   "source": [
    "r2 score is 99% and cv score is 99%."
   ]
  },
  {
   "cell_type": "code",
   "execution_count": null,
   "id": "2e26853b",
   "metadata": {},
   "outputs": [],
   "source": []
  },
  {
   "cell_type": "code",
   "execution_count": 276,
   "id": "3f4531ba",
   "metadata": {},
   "outputs": [
    {
     "name": "stdout",
     "output_type": "stream",
     "text": [
      "r2 score 0.9974108052640651\n",
      "error\n",
      "mean absolute error 2240.388535601391\n",
      "mean squared error 12704819.129549272\n",
      "root mean squared error 3564.3820122917905\n"
     ]
    }
   ],
   "source": [
    "\n",
    "\n",
    "#For Ridge\n",
    "\n",
    "rd=Ridge()\n",
    "\n",
    "rd.fit(x_train,y_train)\n",
    "pred_y=rd.predict(x_test)\n",
    "print('r2 score',r2_score(y_test,pred_y))\n",
    "\n",
    "print('error')\n",
    "print('mean absolute error', mean_absolute_error(y_test,pred_y))\n",
    "print('mean squared error', mean_squared_error(y_test,pred_y))\n",
    "\n",
    "print('root mean squared error', np.sqrt(mean_squared_error(y_test,pred_y)))\n",
    "\n"
   ]
  },
  {
   "cell_type": "code",
   "execution_count": 277,
   "id": "e38c59e7",
   "metadata": {},
   "outputs": [
    {
     "name": "stdout",
     "output_type": "stream",
     "text": [
      "cv score 0.999493202278002\n"
     ]
    }
   ],
   "source": [
    "# For Ridge (cross  validation)\n",
    "\n",
    "\n",
    "score=cross_val_score(rd,x,y,cv=10)\n",
    "print('cv score',np.mean(score))"
   ]
  },
  {
   "cell_type": "code",
   "execution_count": null,
   "id": "f5fa775a",
   "metadata": {},
   "outputs": [],
   "source": []
  },
  {
   "cell_type": "code",
   "execution_count": 278,
   "id": "e40fe670",
   "metadata": {},
   "outputs": [
    {
     "name": "stdout",
     "output_type": "stream",
     "text": [
      "r2 score 0.8625026920920887\n",
      "error\n",
      "mean absolute error 15881.276799281255\n",
      "mean squared error 674680202.120531\n",
      "root mean squared error 25974.606871337455\n"
     ]
    }
   ],
   "source": [
    "#For ElasticNet\n",
    "\n",
    "\n",
    "\n",
    "en=ElasticNet()\n",
    "\n",
    "en.fit(x_train,y_train)\n",
    "pred_y=en.predict(x_test)\n",
    "print('r2 score',r2_score(y_test,pred_y))\n",
    "\n",
    "print('error')\n",
    "print('mean absolute error', mean_absolute_error(y_test,pred_y))\n",
    "print('mean squared error', mean_squared_error(y_test,pred_y))\n",
    "\n",
    "print('root mean squared error', np.sqrt(mean_squared_error(y_test,pred_y)))\n"
   ]
  },
  {
   "cell_type": "code",
   "execution_count": 279,
   "id": "4cfb0ab7",
   "metadata": {},
   "outputs": [
    {
     "name": "stdout",
     "output_type": "stream",
     "text": [
      "cv score 0.9185866905224442\n"
     ]
    }
   ],
   "source": [
    "\n",
    "#For ElasticNet (cross validation)\n",
    "\n",
    "score=cross_val_score(en,x,y,cv=10)\n",
    "print('cv score',np.mean(score))"
   ]
  },
  {
   "cell_type": "markdown",
   "id": "e0c55985",
   "metadata": {},
   "source": [
    "r2 score is 86% and cv score is 91%."
   ]
  },
  {
   "cell_type": "markdown",
   "id": "c81a6435",
   "metadata": {},
   "source": [
    "Our most of the model is predicting 99% r2 score after cross validation its means model is performing well."
   ]
  },
  {
   "cell_type": "markdown",
   "id": "b12aea28",
   "metadata": {},
   "source": [
    "# HYPER PARAMETER TUNING"
   ]
  },
  {
   "cell_type": "code",
   "execution_count": 286,
   "id": "d3e971bd",
   "metadata": {},
   "outputs": [],
   "source": [
    "from sklearn.model_selection import RandomizedSearchCV\n",
    "from sklearn.model_selection import GridSearchCV\n",
    "from sklearn.ensemble import RandomForestRegressor"
   ]
  },
  {
   "cell_type": "code",
   "execution_count": 287,
   "id": "531541f3",
   "metadata": {},
   "outputs": [
    {
     "name": "stdout",
     "output_type": "stream",
     "text": [
      "{'criterion': 'mse', 'max_depth': 5, 'max_features': 'auto'}\n"
     ]
    }
   ],
   "source": [
    "\n",
    "parameters={'criterion':['mse','mae'],'max_features':['auto','sqrt','log2'],'max_depth':[0,5]}\n",
    "rf=RandomForestRegressor()\n",
    "clf=GridSearchCV(rf,parameters)\n",
    "clf.fit(x_train,y_train)\n",
    "\n",
    "print(clf.best_params_)"
   ]
  },
  {
   "cell_type": "markdown",
   "id": "69a5fbd7",
   "metadata": {},
   "source": [
    "# Final Model"
   ]
  },
  {
   "cell_type": "code",
   "execution_count": 288,
   "id": "d92060f5",
   "metadata": {},
   "outputs": [
    {
     "name": "stdout",
     "output_type": "stream",
     "text": [
      "r2 score: 98.41999677826145\n",
      "cross val score: 99.64352487135739\n"
     ]
    }
   ],
   "source": [
    "rf=RandomForestRegressor(criterion='mse',max_features='auto',max_depth=5)\n",
    "rf.fit(x_train,y_train)\n",
    "rf.score(x_train,y_train)\n",
    "pred_decision=rf.predict(x_test)\n",
    "\n",
    "rfs=r2_score(y_test,pred_decision)\n",
    "print('r2 score:', rfs*100)\n",
    "\n",
    "rfscore=cross_val_score(rf,x,y,cv=5)\n",
    "rfc=rfscore.mean()\n",
    "print('cross val score:',rfc*100)"
   ]
  },
  {
   "cell_type": "markdown",
   "id": "e7cc23a5",
   "metadata": {},
   "source": [
    "# SAVING THE MODEL"
   ]
  },
  {
   "cell_type": "code",
   "execution_count": 292,
   "id": "280cc0d2",
   "metadata": {},
   "outputs": [],
   "source": [
    "import pickle\n",
    "filename='house_price_new.pkl'\n",
    "pickle.dump(rf, open(filename, 'wb'))"
   ]
  },
  {
   "cell_type": "markdown",
   "id": "6c4c3d2e",
   "metadata": {},
   "source": [
    "# PREDICTING ON TEST DATA"
   ]
  },
  {
   "cell_type": "code",
   "execution_count": 303,
   "id": "b7efcd3c",
   "metadata": {},
   "outputs": [
    {
     "name": "stdout",
     "output_type": "stream",
     "text": [
      "0.9841999677826144\n"
     ]
    }
   ],
   "source": [
    "y_prediction=rf.predict(X_test)\n",
    "r2_score(y_test,y_prediction)"
   ]
  },
  {
   "cell_type": "markdown",
   "id": "c84204e4",
   "metadata": {},
   "source": [
    "# SAVING THE RESULT ON THE CSV FILE"
   ]
  },
  {
   "cell_type": "code",
   "execution_count": 128,
   "id": "e03543bc",
   "metadata": {},
   "outputs": [],
   "source": [
    "result=pd.DataFrame()\n",
    "\n",
    "\n",
    "result[\"Fare\"]=y_prediction\n",
    "result=result.sort_index()\n",
    "result.to_csv('house_sale_price1.csv',index=True)\n",
    "              "
   ]
  },
  {
   "cell_type": "code",
   "execution_count": 130,
   "id": "fdd09569",
   "metadata": {},
   "outputs": [
    {
     "data": {
      "text/html": [
       "<div>\n",
       "<style scoped>\n",
       "    .dataframe tbody tr th:only-of-type {\n",
       "        vertical-align: middle;\n",
       "    }\n",
       "\n",
       "    .dataframe tbody tr th {\n",
       "        vertical-align: top;\n",
       "    }\n",
       "\n",
       "    .dataframe thead th {\n",
       "        text-align: right;\n",
       "    }\n",
       "</style>\n",
       "<table border=\"1\" class=\"dataframe\">\n",
       "  <thead>\n",
       "    <tr style=\"text-align: right;\">\n",
       "      <th></th>\n",
       "      <th>Unnamed: 0</th>\n",
       "      <th>Fare</th>\n",
       "    </tr>\n",
       "  </thead>\n",
       "  <tbody>\n",
       "    <tr>\n",
       "      <th>0</th>\n",
       "      <td>0</td>\n",
       "      <td>157585.758636</td>\n",
       "    </tr>\n",
       "    <tr>\n",
       "      <th>1</th>\n",
       "      <td>1</td>\n",
       "      <td>170027.001308</td>\n",
       "    </tr>\n",
       "    <tr>\n",
       "      <th>2</th>\n",
       "      <td>2</td>\n",
       "      <td>230498.711261</td>\n",
       "    </tr>\n",
       "    <tr>\n",
       "      <th>3</th>\n",
       "      <td>3</td>\n",
       "      <td>439998.873210</td>\n",
       "    </tr>\n",
       "    <tr>\n",
       "      <th>4</th>\n",
       "      <td>4</td>\n",
       "      <td>176391.212217</td>\n",
       "    </tr>\n",
       "    <tr>\n",
       "      <th>...</th>\n",
       "      <td>...</td>\n",
       "      <td>...</td>\n",
       "    </tr>\n",
       "    <tr>\n",
       "      <th>89</th>\n",
       "      <td>89</td>\n",
       "      <td>178993.603431</td>\n",
       "    </tr>\n",
       "    <tr>\n",
       "      <th>90</th>\n",
       "      <td>90</td>\n",
       "      <td>194963.008204</td>\n",
       "    </tr>\n",
       "    <tr>\n",
       "      <th>91</th>\n",
       "      <td>91</td>\n",
       "      <td>325192.672743</td>\n",
       "    </tr>\n",
       "    <tr>\n",
       "      <th>92</th>\n",
       "      <td>92</td>\n",
       "      <td>259963.755697</td>\n",
       "    </tr>\n",
       "    <tr>\n",
       "      <th>93</th>\n",
       "      <td>93</td>\n",
       "      <td>175044.851118</td>\n",
       "    </tr>\n",
       "  </tbody>\n",
       "</table>\n",
       "<p>94 rows × 2 columns</p>\n",
       "</div>"
      ],
      "text/plain": [
       "    Unnamed: 0           Fare\n",
       "0            0  157585.758636\n",
       "1            1  170027.001308\n",
       "2            2  230498.711261\n",
       "3            3  439998.873210\n",
       "4            4  176391.212217\n",
       "..         ...            ...\n",
       "89          89  178993.603431\n",
       "90          90  194963.008204\n",
       "91          91  325192.672743\n",
       "92          92  259963.755697\n",
       "93          93  175044.851118\n",
       "\n",
       "[94 rows x 2 columns]"
      ]
     },
     "execution_count": 130,
     "metadata": {},
     "output_type": "execute_result"
    }
   ],
   "source": [
    "# Now Loding the data\n",
    "ds=pd.read_csv('house_sale_price1.csv')\n",
    "ds"
   ]
  },
  {
   "cell_type": "code",
   "execution_count": null,
   "id": "0730c0fe",
   "metadata": {},
   "outputs": [],
   "source": []
  },
  {
   "cell_type": "code",
   "execution_count": null,
   "id": "8f7b1afd",
   "metadata": {},
   "outputs": [],
   "source": []
  }
 ],
 "metadata": {
  "kernelspec": {
   "display_name": "Python 3",
   "language": "python",
   "name": "python3"
  },
  "language_info": {
   "codemirror_mode": {
    "name": "ipython",
    "version": 3
   },
   "file_extension": ".py",
   "mimetype": "text/x-python",
   "name": "python",
   "nbconvert_exporter": "python",
   "pygments_lexer": "ipython3",
   "version": "3.8.10"
  }
 },
 "nbformat": 4,
 "nbformat_minor": 5
}
