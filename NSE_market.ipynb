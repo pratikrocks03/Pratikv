{
 "cells": [
  {
   "cell_type": "markdown",
   "id": "e2524f9a",
   "metadata": {},
   "source": [
    "# Importing Libraries"
   ]
  },
  {
   "cell_type": "code",
   "execution_count": 221,
   "id": "2a8782d6",
   "metadata": {},
   "outputs": [],
   "source": [
    "import pandas as pd\n",
    "import numpy as np\n",
    "import seaborn as sns\n",
    "import matplotlib.pyplot as plt\n",
    "import warnings\n",
    "warnings.filterwarnings('ignore')"
   ]
  },
  {
   "cell_type": "markdown",
   "id": "ffc30f94",
   "metadata": {},
   "source": [
    "# Loading the Dataset"
   ]
  },
  {
   "cell_type": "code",
   "execution_count": 222,
   "id": "c835b293",
   "metadata": {},
   "outputs": [],
   "source": [
    "data_training=pd.read_csv(\"nse_training.csv\")\n",
    "df1=data_training"
   ]
  },
  {
   "cell_type": "code",
   "execution_count": 223,
   "id": "4aed77bb",
   "metadata": {},
   "outputs": [],
   "source": [
    "data_test=pd.read_csv(\"nse_test.csv\")\n",
    "data_test=df2"
   ]
  },
  {
   "cell_type": "markdown",
   "id": "2f2beaba",
   "metadata": {},
   "source": [
    "# Analysing the Patterns of the training Dataset"
   ]
  },
  {
   "cell_type": "code",
   "execution_count": 224,
   "id": "3b898a30",
   "metadata": {},
   "outputs": [
    {
     "data": {
      "text/html": [
       "<div>\n",
       "<style scoped>\n",
       "    .dataframe tbody tr th:only-of-type {\n",
       "        vertical-align: middle;\n",
       "    }\n",
       "\n",
       "    .dataframe tbody tr th {\n",
       "        vertical-align: top;\n",
       "    }\n",
       "\n",
       "    .dataframe thead th {\n",
       "        text-align: right;\n",
       "    }\n",
       "</style>\n",
       "<table border=\"1\" class=\"dataframe\">\n",
       "  <thead>\n",
       "    <tr style=\"text-align: right;\">\n",
       "      <th></th>\n",
       "      <th>Date</th>\n",
       "      <th>Open</th>\n",
       "      <th>High</th>\n",
       "      <th>Low</th>\n",
       "      <th>Close</th>\n",
       "      <th>Adj Close</th>\n",
       "      <th>Volume</th>\n",
       "    </tr>\n",
       "  </thead>\n",
       "  <tbody>\n",
       "    <tr>\n",
       "      <th>0</th>\n",
       "      <td>2016-01-04</td>\n",
       "      <td>7924.549805</td>\n",
       "      <td>7937.549805</td>\n",
       "      <td>7781.100098</td>\n",
       "      <td>7791.299805</td>\n",
       "      <td>7791.299805</td>\n",
       "      <td>134700.0</td>\n",
       "    </tr>\n",
       "    <tr>\n",
       "      <th>1</th>\n",
       "      <td>2016-01-05</td>\n",
       "      <td>7828.399902</td>\n",
       "      <td>7831.200195</td>\n",
       "      <td>7763.250000</td>\n",
       "      <td>7784.649902</td>\n",
       "      <td>7784.649902</td>\n",
       "      <td>145200.0</td>\n",
       "    </tr>\n",
       "    <tr>\n",
       "      <th>2</th>\n",
       "      <td>2016-01-06</td>\n",
       "      <td>7788.049805</td>\n",
       "      <td>7800.950195</td>\n",
       "      <td>7721.200195</td>\n",
       "      <td>7741.000000</td>\n",
       "      <td>7741.000000</td>\n",
       "      <td>147100.0</td>\n",
       "    </tr>\n",
       "    <tr>\n",
       "      <th>3</th>\n",
       "      <td>2016-01-07</td>\n",
       "      <td>7673.350098</td>\n",
       "      <td>7674.950195</td>\n",
       "      <td>7556.600098</td>\n",
       "      <td>7568.299805</td>\n",
       "      <td>7568.299805</td>\n",
       "      <td>188900.0</td>\n",
       "    </tr>\n",
       "    <tr>\n",
       "      <th>4</th>\n",
       "      <td>2016-01-08</td>\n",
       "      <td>7611.649902</td>\n",
       "      <td>7634.100098</td>\n",
       "      <td>7581.049805</td>\n",
       "      <td>7601.350098</td>\n",
       "      <td>7601.350098</td>\n",
       "      <td>157400.0</td>\n",
       "    </tr>\n",
       "  </tbody>\n",
       "</table>\n",
       "</div>"
      ],
      "text/plain": [
       "         Date         Open         High          Low        Close  \\\n",
       "0  2016-01-04  7924.549805  7937.549805  7781.100098  7791.299805   \n",
       "1  2016-01-05  7828.399902  7831.200195  7763.250000  7784.649902   \n",
       "2  2016-01-06  7788.049805  7800.950195  7721.200195  7741.000000   \n",
       "3  2016-01-07  7673.350098  7674.950195  7556.600098  7568.299805   \n",
       "4  2016-01-08  7611.649902  7634.100098  7581.049805  7601.350098   \n",
       "\n",
       "     Adj Close    Volume  \n",
       "0  7791.299805  134700.0  \n",
       "1  7784.649902  145200.0  \n",
       "2  7741.000000  147100.0  \n",
       "3  7568.299805  188900.0  \n",
       "4  7601.350098  157400.0  "
      ]
     },
     "execution_count": 224,
     "metadata": {},
     "output_type": "execute_result"
    }
   ],
   "source": [
    "df1.head()"
   ]
  },
  {
   "cell_type": "code",
   "execution_count": 225,
   "id": "30e9a9ac",
   "metadata": {},
   "outputs": [
    {
     "name": "stdout",
     "output_type": "stream",
     "text": [
      "<class 'pandas.core.frame.DataFrame'>\n",
      "RangeIndex: 1481 entries, 0 to 1480\n",
      "Data columns (total 7 columns):\n",
      " #   Column     Non-Null Count  Dtype  \n",
      "---  ------     --------------  -----  \n",
      " 0   Date       1481 non-null   object \n",
      " 1   Open       1475 non-null   float64\n",
      " 2   High       1475 non-null   float64\n",
      " 3   Low        1475 non-null   float64\n",
      " 4   Close      1475 non-null   float64\n",
      " 5   Adj Close  1475 non-null   float64\n",
      " 6   Volume     1475 non-null   float64\n",
      "dtypes: float64(6), object(1)\n",
      "memory usage: 81.1+ KB\n"
     ]
    }
   ],
   "source": [
    "df1.info()"
   ]
  },
  {
   "cell_type": "markdown",
   "id": "4b3f11bd",
   "metadata": {},
   "source": [
    "6 float datatype column and 1 object datatype column present in the dataset."
   ]
  },
  {
   "cell_type": "code",
   "execution_count": 226,
   "id": "3000a7da",
   "metadata": {},
   "outputs": [
    {
     "data": {
      "text/plain": [
       "(1481, 7)"
      ]
     },
     "execution_count": 226,
     "metadata": {},
     "output_type": "execute_result"
    }
   ],
   "source": [
    "# Checking shape\n",
    "df1.shape"
   ]
  },
  {
   "cell_type": "markdown",
   "id": "69f41fcc",
   "metadata": {},
   "source": [
    "1481 rows and 7 columns present in the dataset."
   ]
  },
  {
   "cell_type": "code",
   "execution_count": 227,
   "id": "b3f3ff6f",
   "metadata": {},
   "outputs": [
    {
     "data": {
      "text/plain": [
       "Date         0\n",
       "Open         6\n",
       "High         6\n",
       "Low          6\n",
       "Close        6\n",
       "Adj Close    6\n",
       "Volume       6\n",
       "dtype: int64"
      ]
     },
     "execution_count": 227,
     "metadata": {},
     "output_type": "execute_result"
    }
   ],
   "source": [
    "# Checking Null values\n",
    "df1.isnull().sum()"
   ]
  },
  {
   "cell_type": "markdown",
   "id": "48a754d8",
   "metadata": {},
   "source": [
    "Null values are present most of the columns."
   ]
  },
  {
   "cell_type": "code",
   "execution_count": 228,
   "id": "c344cd7b",
   "metadata": {},
   "outputs": [],
   "source": [
    "# Handling Null values\n",
    "df1['Open']=df1['Open'].fillna(np.mean(df1['Open']))\n",
    "df1['High']=df1['High'].fillna(np.mean(df1['High']))\n",
    "df1['Low']=df1['Low'].fillna(np.mean(df1['Low']))\n",
    "df1['Close']=df1['Close'].fillna(np.mean(df1['Close']))\n",
    "df1['Adj Close']=df1['Adj Close'].fillna(np.mean(df1['Adj Close']))\n",
    "df1['Volume']=df1['Volume'].fillna(np.mean(df1['Volume']))\n",
    "\n",
    "\n",
    "\n"
   ]
  },
  {
   "cell_type": "code",
   "execution_count": 229,
   "id": "8966eb9a",
   "metadata": {},
   "outputs": [],
   "source": [
    "# Handling the Date column\n",
    "df1[\"Date\"] = pd.to_datetime(df1[\"Date\"])\n",
    "df1[\"Year\"]= df1[\"Date\"].dt.year\n",
    "df1[\"Month\"]= df1[\"Date\"].dt.month\n",
    "df1[\"Day\"]= df1[\"Date\"].dt.day\n",
    "\n"
   ]
  },
  {
   "cell_type": "code",
   "execution_count": 230,
   "id": "3c1f70f0",
   "metadata": {},
   "outputs": [
    {
     "data": {
      "text/html": [
       "<div>\n",
       "<style scoped>\n",
       "    .dataframe tbody tr th:only-of-type {\n",
       "        vertical-align: middle;\n",
       "    }\n",
       "\n",
       "    .dataframe tbody tr th {\n",
       "        vertical-align: top;\n",
       "    }\n",
       "\n",
       "    .dataframe thead th {\n",
       "        text-align: right;\n",
       "    }\n",
       "</style>\n",
       "<table border=\"1\" class=\"dataframe\">\n",
       "  <thead>\n",
       "    <tr style=\"text-align: right;\">\n",
       "      <th></th>\n",
       "      <th>Date</th>\n",
       "      <th>Open</th>\n",
       "      <th>High</th>\n",
       "      <th>Low</th>\n",
       "      <th>Close</th>\n",
       "      <th>Adj Close</th>\n",
       "      <th>Volume</th>\n",
       "      <th>Year</th>\n",
       "      <th>Month</th>\n",
       "      <th>Day</th>\n",
       "    </tr>\n",
       "  </thead>\n",
       "  <tbody>\n",
       "    <tr>\n",
       "      <th>0</th>\n",
       "      <td>2016-01-04</td>\n",
       "      <td>7924.549805</td>\n",
       "      <td>7937.549805</td>\n",
       "      <td>7781.100098</td>\n",
       "      <td>7791.299805</td>\n",
       "      <td>7791.299805</td>\n",
       "      <td>134700.0</td>\n",
       "      <td>2016</td>\n",
       "      <td>1</td>\n",
       "      <td>4</td>\n",
       "    </tr>\n",
       "    <tr>\n",
       "      <th>1</th>\n",
       "      <td>2016-01-05</td>\n",
       "      <td>7828.399902</td>\n",
       "      <td>7831.200195</td>\n",
       "      <td>7763.250000</td>\n",
       "      <td>7784.649902</td>\n",
       "      <td>7784.649902</td>\n",
       "      <td>145200.0</td>\n",
       "      <td>2016</td>\n",
       "      <td>1</td>\n",
       "      <td>5</td>\n",
       "    </tr>\n",
       "    <tr>\n",
       "      <th>2</th>\n",
       "      <td>2016-01-06</td>\n",
       "      <td>7788.049805</td>\n",
       "      <td>7800.950195</td>\n",
       "      <td>7721.200195</td>\n",
       "      <td>7741.000000</td>\n",
       "      <td>7741.000000</td>\n",
       "      <td>147100.0</td>\n",
       "      <td>2016</td>\n",
       "      <td>1</td>\n",
       "      <td>6</td>\n",
       "    </tr>\n",
       "    <tr>\n",
       "      <th>3</th>\n",
       "      <td>2016-01-07</td>\n",
       "      <td>7673.350098</td>\n",
       "      <td>7674.950195</td>\n",
       "      <td>7556.600098</td>\n",
       "      <td>7568.299805</td>\n",
       "      <td>7568.299805</td>\n",
       "      <td>188900.0</td>\n",
       "      <td>2016</td>\n",
       "      <td>1</td>\n",
       "      <td>7</td>\n",
       "    </tr>\n",
       "    <tr>\n",
       "      <th>4</th>\n",
       "      <td>2016-01-08</td>\n",
       "      <td>7611.649902</td>\n",
       "      <td>7634.100098</td>\n",
       "      <td>7581.049805</td>\n",
       "      <td>7601.350098</td>\n",
       "      <td>7601.350098</td>\n",
       "      <td>157400.0</td>\n",
       "      <td>2016</td>\n",
       "      <td>1</td>\n",
       "      <td>8</td>\n",
       "    </tr>\n",
       "  </tbody>\n",
       "</table>\n",
       "</div>"
      ],
      "text/plain": [
       "        Date         Open         High          Low        Close    Adj Close  \\\n",
       "0 2016-01-04  7924.549805  7937.549805  7781.100098  7791.299805  7791.299805   \n",
       "1 2016-01-05  7828.399902  7831.200195  7763.250000  7784.649902  7784.649902   \n",
       "2 2016-01-06  7788.049805  7800.950195  7721.200195  7741.000000  7741.000000   \n",
       "3 2016-01-07  7673.350098  7674.950195  7556.600098  7568.299805  7568.299805   \n",
       "4 2016-01-08  7611.649902  7634.100098  7581.049805  7601.350098  7601.350098   \n",
       "\n",
       "     Volume  Year  Month  Day  \n",
       "0  134700.0  2016      1    4  \n",
       "1  145200.0  2016      1    5  \n",
       "2  147100.0  2016      1    6  \n",
       "3  188900.0  2016      1    7  \n",
       "4  157400.0  2016      1    8  "
      ]
     },
     "execution_count": 230,
     "metadata": {},
     "output_type": "execute_result"
    }
   ],
   "source": [
    "df1.head()"
   ]
  },
  {
   "cell_type": "markdown",
   "id": "1a378af2",
   "metadata": {},
   "source": [
    "So now we have extracted the Year, Month and Day from the Date Column.\n"
   ]
  },
  {
   "cell_type": "code",
   "execution_count": 231,
   "id": "8364f4b9",
   "metadata": {},
   "outputs": [],
   "source": [
    "# Deleting Date Column\n",
    "del df1['Date']"
   ]
  },
  {
   "cell_type": "code",
   "execution_count": 232,
   "id": "de314507",
   "metadata": {},
   "outputs": [
    {
     "data": {
      "text/plain": [
       "(1481, 9)"
      ]
     },
     "execution_count": 232,
     "metadata": {},
     "output_type": "execute_result"
    }
   ],
   "source": [
    "df1.shape"
   ]
  },
  {
   "cell_type": "markdown",
   "id": "743798e4",
   "metadata": {},
   "source": [
    "Now 1481 rows and 9 columns present in the Dataset."
   ]
  },
  {
   "cell_type": "markdown",
   "id": "d19425a4",
   "metadata": {},
   "source": [
    "# EDA Nominal data"
   ]
  },
  {
   "cell_type": "code",
   "execution_count": 233,
   "id": "c8907040",
   "metadata": {},
   "outputs": [
    {
     "data": {
      "text/plain": [
       "Index(['Open', 'High', 'Low', 'Close', 'Adj Close', 'Volume', 'Year', 'Month',\n",
       "       'Day'],\n",
       "      dtype='object')"
      ]
     },
     "execution_count": 233,
     "metadata": {},
     "output_type": "execute_result"
    }
   ],
   "source": [
    "df1.columns"
   ]
  },
  {
   "cell_type": "code",
   "execution_count": 234,
   "id": "c3a1281f",
   "metadata": {},
   "outputs": [
    {
     "name": "stdout",
     "output_type": "stream",
     "text": [
      "2020    251\n",
      "2017    248\n",
      "2021    248\n",
      "2018    246\n",
      "2016    245\n",
      "2019    243\n",
      "Name: Year, dtype: int64\n"
     ]
    },
    {
     "data": {
      "image/png": "[encoded data removed]",
      "text/plain": [
       "<Figure size 432x288 with 1 Axes>"
      ]
     },
     "metadata": {
      "needs_background": "light"
     },
     "output_type": "display_data"
    }
   ],
   "source": [
    "ax=sns.countplot(x='Year',data=df1)\n",
    "print(df1['Year'].value_counts())\n",
    "ax.set_xticklabels(ax.get_xticklabels(),rotation=90, ha='right')\n",
    "plt.tight_layout()"
   ]
  },
  {
   "cell_type": "markdown",
   "id": "56fe0e1d",
   "metadata": {},
   "source": [
    "Year is in range from 2016 to 2021 and figure is showing that there is not much noicable difference betweeen them."
   ]
  },
  {
   "cell_type": "code",
   "execution_count": 235,
   "id": "dd6fc4b1",
   "metadata": {},
   "outputs": [
    {
     "name": "stdout",
     "output_type": "stream",
     "text": [
      "7     130\n",
      "1     128\n",
      "12    128\n",
      "5     127\n",
      "6     127\n",
      "8     126\n",
      "11    123\n",
      "3     121\n",
      "9     121\n",
      "10    120\n",
      "2     117\n",
      "4     113\n",
      "Name: Month, dtype: int64\n"
     ]
    },
    {
     "data": {
      "image/png": "[encoded data removed]",
      "text/plain": [
       "<Figure size 432x288 with 1 Axes>"
      ]
     },
     "metadata": {
      "needs_background": "light"
     },
     "output_type": "display_data"
    }
   ],
   "source": [
    "ax=sns.countplot(x='Month',data=df1)\n",
    "print(df1['Month'].value_counts())\n",
    "ax.set_xticklabels(ax.get_xticklabels(),rotation=90, ha='right')\n",
    "plt.tight_layout()"
   ]
  },
  {
   "cell_type": "markdown",
   "id": "3525591f",
   "metadata": {},
   "source": [
    "According to the figure there is not much differnce in any of the month."
   ]
  },
  {
   "cell_type": "markdown",
   "id": "adc7ddca",
   "metadata": {},
   "source": [
    "# EDA Continuous Data"
   ]
  },
  {
   "cell_type": "code",
   "execution_count": 236,
   "id": "f76ec39f",
   "metadata": {},
   "outputs": [
    {
     "data": {
      "text/plain": [
       "<AxesSubplot:xlabel='Open', ylabel='Density'>"
      ]
     },
     "execution_count": 236,
     "metadata": {},
     "output_type": "execute_result"
    },
    {
     "data": {
      "image/png": "[encoded data removed]",
      "text/plain": [
       "<Figure size 432x288 with 1 Axes>"
      ]
     },
     "metadata": {
      "needs_background": "light"
     },
     "output_type": "display_data"
    }
   ],
   "source": [
    "sns.distplot(df1['Open'])"
   ]
  },
  {
   "cell_type": "markdown",
   "id": "f62547de",
   "metadata": {},
   "source": [
    "Open is in range from 6000 to 20000 and most of the amount is in range from 7000 to 13000 approx."
   ]
  },
  {
   "cell_type": "code",
   "execution_count": null,
   "id": "a445af6c",
   "metadata": {},
   "outputs": [],
   "source": []
  },
  {
   "cell_type": "code",
   "execution_count": 237,
   "id": "60d2eb5e",
   "metadata": {},
   "outputs": [
    {
     "data": {
      "text/plain": [
       "<AxesSubplot:xlabel='High', ylabel='Density'>"
      ]
     },
     "execution_count": 237,
     "metadata": {},
     "output_type": "execute_result"
    },
    {
     "data": {
      "image/png": "[encoded data removed]",
      "text/plain": [
       "<Figure size 432x288 with 1 Axes>"
      ]
     },
     "metadata": {
      "needs_background": "light"
     },
     "output_type": "display_data"
    }
   ],
   "source": [
    "sns.distplot(df1['High'])"
   ]
  },
  {
   "cell_type": "markdown",
   "id": "ff827835",
   "metadata": {},
   "source": [
    "Most of the amount in High column is in range from 7000 to 13000 and lesser amount is in range from 14000 to 19000 approx."
   ]
  },
  {
   "cell_type": "code",
   "execution_count": null,
   "id": "9ee4d2fb",
   "metadata": {},
   "outputs": [],
   "source": []
  },
  {
   "cell_type": "code",
   "execution_count": 238,
   "id": "59338cab",
   "metadata": {},
   "outputs": [
    {
     "data": {
      "text/plain": [
       "<AxesSubplot:xlabel='Low', ylabel='Density'>"
      ]
     },
     "execution_count": 238,
     "metadata": {},
     "output_type": "execute_result"
    },
    {
     "data": {
      "image/png": "[encoded data removed]",
      "text/plain": [
       "<Figure size 432x288 with 1 Axes>"
      ]
     },
     "metadata": {
      "needs_background": "light"
     },
     "output_type": "display_data"
    }
   ],
   "source": [
    "sns.distplot(df1['Low'])"
   ]
  },
  {
   "cell_type": "markdown",
   "id": "73afc4e9",
   "metadata": {},
   "source": [
    "Most of the amount in Low column is in range from 7000 to 13000 and lesser amount is in range from 14000 to 19000 approx."
   ]
  },
  {
   "cell_type": "code",
   "execution_count": null,
   "id": "c6dbdcc9",
   "metadata": {},
   "outputs": [],
   "source": []
  },
  {
   "cell_type": "code",
   "execution_count": 239,
   "id": "952473a4",
   "metadata": {},
   "outputs": [
    {
     "data": {
      "text/plain": [
       "<AxesSubplot:xlabel='Adj Close', ylabel='Density'>"
      ]
     },
     "execution_count": 239,
     "metadata": {},
     "output_type": "execute_result"
    },
    {
     "data": {
      "image/png": "[encoded data removed]",
      "text/plain": [
       "<Figure size 432x288 with 1 Axes>"
      ]
     },
     "metadata": {
      "needs_background": "light"
     },
     "output_type": "display_data"
    }
   ],
   "source": [
    "sns.distplot(df1['Adj Close'])"
   ]
  },
  {
   "cell_type": "markdown",
   "id": "4bc61b3f",
   "metadata": {},
   "source": [
    "Most of the amount in Adj Close column is in range from 7000 to 13000 and lesser amount is in range from 14000 to 19000 approx."
   ]
  },
  {
   "cell_type": "markdown",
   "id": "786de43a",
   "metadata": {},
   "source": [
    "# Statistical Summary"
   ]
  },
  {
   "cell_type": "code",
   "execution_count": 240,
   "id": "dc5afb7b",
   "metadata": {},
   "outputs": [
    {
     "data": {
      "text/html": [
       "<div>\n",
       "<style scoped>\n",
       "    .dataframe tbody tr th:only-of-type {\n",
       "        vertical-align: middle;\n",
       "    }\n",
       "\n",
       "    .dataframe tbody tr th {\n",
       "        vertical-align: top;\n",
       "    }\n",
       "\n",
       "    .dataframe thead th {\n",
       "        text-align: right;\n",
       "    }\n",
       "</style>\n",
       "<table border=\"1\" class=\"dataframe\">\n",
       "  <thead>\n",
       "    <tr style=\"text-align: right;\">\n",
       "      <th></th>\n",
       "      <th>Open</th>\n",
       "      <th>High</th>\n",
       "      <th>Low</th>\n",
       "      <th>Close</th>\n",
       "      <th>Adj Close</th>\n",
       "      <th>Volume</th>\n",
       "      <th>Year</th>\n",
       "      <th>Month</th>\n",
       "      <th>Day</th>\n",
       "    </tr>\n",
       "  </thead>\n",
       "  <tbody>\n",
       "    <tr>\n",
       "      <th>count</th>\n",
       "      <td>1481.000000</td>\n",
       "      <td>1481.000000</td>\n",
       "      <td>1481.000000</td>\n",
       "      <td>1481.000000</td>\n",
       "      <td>1481.000000</td>\n",
       "      <td>1.481000e+03</td>\n",
       "      <td>1481.000000</td>\n",
       "      <td>1481.000000</td>\n",
       "      <td>1481.000000</td>\n",
       "    </tr>\n",
       "    <tr>\n",
       "      <th>mean</th>\n",
       "      <td>11190.630103</td>\n",
       "      <td>11243.279798</td>\n",
       "      <td>11114.862019</td>\n",
       "      <td>11180.224847</td>\n",
       "      <td>11180.224847</td>\n",
       "      <td>3.672148e+05</td>\n",
       "      <td>2018.507090</td>\n",
       "      <td>6.529372</td>\n",
       "      <td>15.769075</td>\n",
       "    </tr>\n",
       "    <tr>\n",
       "      <th>std</th>\n",
       "      <td>2600.117834</td>\n",
       "      <td>2608.346006</td>\n",
       "      <td>2582.932225</td>\n",
       "      <td>2596.726103</td>\n",
       "      <td>2596.726103</td>\n",
       "      <td>2.272977e+05</td>\n",
       "      <td>1.709705</td>\n",
       "      <td>3.453452</td>\n",
       "      <td>8.798150</td>\n",
       "    </tr>\n",
       "    <tr>\n",
       "      <th>min</th>\n",
       "      <td>7023.649902</td>\n",
       "      <td>7034.200195</td>\n",
       "      <td>6825.799805</td>\n",
       "      <td>6970.600098</td>\n",
       "      <td>6970.600098</td>\n",
       "      <td>0.000000e+00</td>\n",
       "      <td>2016.000000</td>\n",
       "      <td>1.000000</td>\n",
       "      <td>1.000000</td>\n",
       "    </tr>\n",
       "    <tr>\n",
       "      <th>25%</th>\n",
       "      <td>9374.549805</td>\n",
       "      <td>9414.750000</td>\n",
       "      <td>9298.400391</td>\n",
       "      <td>9342.150391</td>\n",
       "      <td>9342.150391</td>\n",
       "      <td>1.957000e+05</td>\n",
       "      <td>2017.000000</td>\n",
       "      <td>4.000000</td>\n",
       "      <td>8.000000</td>\n",
       "    </tr>\n",
       "    <tr>\n",
       "      <th>50%</th>\n",
       "      <td>10784.500000</td>\n",
       "      <td>10819.400391</td>\n",
       "      <td>10724.049805</td>\n",
       "      <td>10772.049805</td>\n",
       "      <td>10772.049805</td>\n",
       "      <td>2.923000e+05</td>\n",
       "      <td>2019.000000</td>\n",
       "      <td>7.000000</td>\n",
       "      <td>16.000000</td>\n",
       "    </tr>\n",
       "    <tr>\n",
       "      <th>75%</th>\n",
       "      <td>11922.450195</td>\n",
       "      <td>11968.099609</td>\n",
       "      <td>11843.349609</td>\n",
       "      <td>11913.450195</td>\n",
       "      <td>11913.450195</td>\n",
       "      <td>5.083000e+05</td>\n",
       "      <td>2020.000000</td>\n",
       "      <td>10.000000</td>\n",
       "      <td>23.000000</td>\n",
       "    </tr>\n",
       "    <tr>\n",
       "      <th>max</th>\n",
       "      <td>18602.349609</td>\n",
       "      <td>18604.449219</td>\n",
       "      <td>18445.300781</td>\n",
       "      <td>18477.050781</td>\n",
       "      <td>18477.050781</td>\n",
       "      <td>1.811000e+06</td>\n",
       "      <td>2021.000000</td>\n",
       "      <td>12.000000</td>\n",
       "      <td>31.000000</td>\n",
       "    </tr>\n",
       "  </tbody>\n",
       "</table>\n",
       "</div>"
      ],
      "text/plain": [
       "               Open          High           Low         Close     Adj Close  \\\n",
       "count   1481.000000   1481.000000   1481.000000   1481.000000   1481.000000   \n",
       "mean   11190.630103  11243.279798  11114.862019  11180.224847  11180.224847   \n",
       "std     2600.117834   2608.346006   2582.932225   2596.726103   2596.726103   \n",
       "min     7023.649902   7034.200195   6825.799805   6970.600098   6970.600098   \n",
       "25%     9374.549805   9414.750000   9298.400391   9342.150391   9342.150391   \n",
       "50%    10784.500000  10819.400391  10724.049805  10772.049805  10772.049805   \n",
       "75%    11922.450195  11968.099609  11843.349609  11913.450195  11913.450195   \n",
       "max    18602.349609  18604.449219  18445.300781  18477.050781  18477.050781   \n",
       "\n",
       "             Volume         Year        Month          Day  \n",
       "count  1.481000e+03  1481.000000  1481.000000  1481.000000  \n",
       "mean   3.672148e+05  2018.507090     6.529372    15.769075  \n",
       "std    2.272977e+05     1.709705     3.453452     8.798150  \n",
       "min    0.000000e+00  2016.000000     1.000000     1.000000  \n",
       "25%    1.957000e+05  2017.000000     4.000000     8.000000  \n",
       "50%    2.923000e+05  2019.000000     7.000000    16.000000  \n",
       "75%    5.083000e+05  2020.000000    10.000000    23.000000  \n",
       "max    1.811000e+06  2021.000000    12.000000    31.000000  "
      ]
     },
     "execution_count": 240,
     "metadata": {},
     "output_type": "execute_result"
    }
   ],
   "source": [
    "df1.describe()"
   ]
  },
  {
   "cell_type": "markdown",
   "id": "ec7ba9fb",
   "metadata": {},
   "source": [
    "Number of values is same in all the columns except volume.\n",
    "\n",
    "Not much difference between mean and median(50%)\n",
    "\n",
    "Not much difference between 75% and max."
   ]
  },
  {
   "cell_type": "markdown",
   "id": "0b6dd7d4",
   "metadata": {},
   "source": [
    "# Checking Correlations"
   ]
  },
  {
   "cell_type": "code",
   "execution_count": 241,
   "id": "ca695683",
   "metadata": {},
   "outputs": [
    {
     "data": {
      "text/plain": [
       "<AxesSubplot:>"
      ]
     },
     "execution_count": 241,
     "metadata": {},
     "output_type": "execute_result"
    },
    {
     "data": {
      "image/png": "[encoded data removed]",
      "text/plain": [
       "<Figure size 1584x864 with 2 Axes>"
      ]
     },
     "metadata": {
      "needs_background": "light"
     },
     "output_type": "display_data"
    }
   ],
   "source": [
    "plt.figure(figsize=(22,12))\n",
    "sns.heatmap(df1.corr(),annot=True,linewidths =0.1,fmt='0.2f')"
   ]
  },
  {
   "cell_type": "markdown",
   "id": "ef7fd511",
   "metadata": {},
   "source": [
    "Most of the column is negatively correlated with the column volume.\n",
    "\n",
    "Year column is positively correlated with most of the coulmn."
   ]
  },
  {
   "cell_type": "markdown",
   "id": "1878a202",
   "metadata": {},
   "source": [
    "# Now we need only 2 columns for model building that is open and close"
   ]
  },
  {
   "cell_type": "code",
   "execution_count": 242,
   "id": "ac2866d7",
   "metadata": {},
   "outputs": [],
   "source": [
    "training_set = df1.iloc[:, 1:2].values"
   ]
  },
  {
   "cell_type": "markdown",
   "id": "9db32a6f",
   "metadata": {},
   "source": [
    "# Feature Scaling"
   ]
  },
  {
   "cell_type": "code",
   "execution_count": 243,
   "id": "7faf768d",
   "metadata": {},
   "outputs": [],
   "source": [
    "sc = MinMaxScaler(feature_range = (0, 1))\n",
    "training_set_scaled = sc.fit_transform(training_set)"
   ]
  },
  {
   "cell_type": "markdown",
   "id": "29a7bdd4",
   "metadata": {},
   "source": [
    "# Creating Data with TimeSteps"
   ]
  },
  {
   "cell_type": "code",
   "execution_count": 244,
   "id": "3ea02715",
   "metadata": {},
   "outputs": [
    {
     "data": {
      "text/plain": [
       "(1481, 1)"
      ]
     },
     "execution_count": 244,
     "metadata": {},
     "output_type": "execute_result"
    }
   ],
   "source": [
    "training_set.shape"
   ]
  },
  {
   "cell_type": "code",
   "execution_count": 267,
   "id": "682e71c0",
   "metadata": {},
   "outputs": [],
   "source": [
    "X_train = []\n",
    "y_train = []\n",
    "for i in range(60, 1481):\n",
    "    X_train.append(training_set_scaled[i-60:i, 0])\n",
    "    y_train.append(training_set_scaled[i, 0])\n",
    "X_train, y_train = np.array(X_train), np.array(y_train)\n",
    "\n",
    "X_train = np.reshape(X_train, (X_train.shape[0], X_train.shape[1], 1))"
   ]
  },
  {
   "cell_type": "markdown",
   "id": "9e4b1249",
   "metadata": {},
   "source": [
    "# Using LSTM for model building"
   ]
  },
  {
   "cell_type": "code",
   "execution_count": 268,
   "id": "c25f60e4",
   "metadata": {},
   "outputs": [],
   "source": [
    "from keras.models import Sequential\n",
    "from keras.layers import Dense, LSTM, Dropout"
   ]
  },
  {
   "cell_type": "code",
   "execution_count": 269,
   "id": "d0362311",
   "metadata": {},
   "outputs": [],
   "source": [
    "regressor = Sequential()\n",
    "\n",
    "regressor.add(LSTM(units = 50, return_sequences = True, input_shape = (X_train.shape[1], 1)))\n",
    "regressor.add(Dropout(0.2))\n",
    "\n",
    "regressor.add(LSTM(units = 50, return_sequences = True))\n",
    "regressor.add(Dropout(0.25))\n",
    "\n",
    "regressor.add(LSTM(units = 50, return_sequences = True))\n",
    "regressor.add(Dropout(0.25))\n",
    "\n",
    "regressor.add(LSTM(units = 50))\n",
    "regressor.add(Dropout(0.25))\n",
    "\n",
    "regressor.add(Dense(units = 1))"
   ]
  },
  {
   "cell_type": "code",
   "execution_count": 270,
   "id": "a17303b4",
   "metadata": {},
   "outputs": [
    {
     "name": "stdout",
     "output_type": "stream",
     "text": [
      "Model: \"sequential_9\"\n",
      "_________________________________________________________________\n",
      " Layer (type)                Output Shape              Param #   \n",
      "=================================================================\n",
      " lstm_31 (LSTM)              (None, 60, 50)            10400     \n",
      "                                                                 \n",
      " dropout_16 (Dropout)        (None, 60, 50)            0         \n",
      "                                                                 \n",
      " lstm_32 (LSTM)              (None, 60, 50)            20200     \n",
      "                                                                 \n",
      " dropout_17 (Dropout)        (None, 60, 50)            0         \n",
      "                                                                 \n",
      " lstm_33 (LSTM)              (None, 60, 50)            20200     \n",
      "                                                                 \n",
      " dropout_18 (Dropout)        (None, 60, 50)            0         \n",
      "                                                                 \n",
      " lstm_34 (LSTM)              (None, 50)                20200     \n",
      "                                                                 \n",
      " dropout_19 (Dropout)        (None, 50)                0         \n",
      "                                                                 \n",
      " dense_9 (Dense)             (None, 1)                 51        \n",
      "                                                                 \n",
      "=================================================================\n",
      "Total params: 71,051\n",
      "Trainable params: 71,051\n",
      "Non-trainable params: 0\n",
      "_________________________________________________________________\n"
     ]
    }
   ],
   "source": [
    "regressor.summary()"
   ]
  },
  {
   "cell_type": "code",
   "execution_count": 258,
   "id": "8b0f6f49",
   "metadata": {},
   "outputs": [
    {
     "name": "stdout",
     "output_type": "stream",
     "text": [
      "Epoch 1/40\n",
      "40/40 [==============================] - 23s 226ms/step - loss: 0.0131 - val_loss: 0.0033\n",
      "Epoch 2/40\n",
      "40/40 [==============================] - 7s 172ms/step - loss: 0.0033 - val_loss: 0.0034\n",
      "Epoch 3/40\n",
      "40/40 [==============================] - 7s 181ms/step - loss: 0.0030 - val_loss: 0.0014\n",
      "Epoch 4/40\n",
      "40/40 [==============================] - 7s 166ms/step - loss: 0.0031 - val_loss: 0.0048\n",
      "Epoch 5/40\n",
      "40/40 [==============================] - 7s 170ms/step - loss: 0.0026 - val_loss: 9.6972e-04\n",
      "Epoch 6/40\n",
      "40/40 [==============================] - 7s 173ms/step - loss: 0.0027 - val_loss: 9.3834e-04\n",
      "Epoch 7/40\n",
      "40/40 [==============================] - 7s 170ms/step - loss: 0.0025 - val_loss: 9.3332e-04\n",
      "Epoch 8/40\n",
      "40/40 [==============================] - 6s 155ms/step - loss: 0.0022 - val_loss: 0.0024\n",
      "Epoch 9/40\n",
      "40/40 [==============================] - 6s 144ms/step - loss: 0.0025 - val_loss: 7.7616e-04\n",
      "Epoch 10/40\n",
      "40/40 [==============================] - 7s 177ms/step - loss: 0.0022 - val_loss: 0.0011\n",
      "Epoch 11/40\n",
      "40/40 [==============================] - 8s 192ms/step - loss: 0.0019 - val_loss: 0.0013\n",
      "Epoch 12/40\n",
      "40/40 [==============================] - 8s 195ms/step - loss: 0.0018 - val_loss: 0.0052\n",
      "Epoch 13/40\n",
      "40/40 [==============================] - 6s 157ms/step - loss: 0.0019 - val_loss: 7.2195e-04\n",
      "Epoch 14/40\n",
      "40/40 [==============================] - 7s 181ms/step - loss: 0.0019 - val_loss: 0.0015\n",
      "Epoch 15/40\n",
      "40/40 [==============================] - 9s 225ms/step - loss: 0.0017 - val_loss: 0.0015\n",
      "Epoch 16/40\n",
      "40/40 [==============================] - 10s 257ms/step - loss: 0.0018 - val_loss: 0.0065\n",
      "Epoch 17/40\n",
      "40/40 [==============================] - 10s 239ms/step - loss: 0.0018 - val_loss: 6.4506e-04\n",
      "Epoch 18/40\n",
      "40/40 [==============================] - 12s 294ms/step - loss: 0.0016 - val_loss: 9.9913e-04\n",
      "Epoch 19/40\n",
      "40/40 [==============================] - 12s 302ms/step - loss: 0.0017 - val_loss: 0.0050\n",
      "Epoch 20/40\n",
      "40/40 [==============================] - 9s 227ms/step - loss: 0.0018 - val_loss: 8.0444e-04\n",
      "Epoch 21/40\n",
      "40/40 [==============================] - 9s 222ms/step - loss: 0.0014 - val_loss: 6.1238e-04\n",
      "Epoch 22/40\n",
      "40/40 [==============================] - 9s 214ms/step - loss: 0.0016 - val_loss: 0.0011\n",
      "Epoch 23/40\n",
      "40/40 [==============================] - 9s 234ms/step - loss: 0.0015 - val_loss: 0.0018\n",
      "Epoch 24/40\n",
      "40/40 [==============================] - 9s 221ms/step - loss: 0.0016 - val_loss: 8.7248e-04\n",
      "Epoch 25/40\n",
      "40/40 [==============================] - 9s 223ms/step - loss: 0.0013 - val_loss: 8.2140e-04\n",
      "Epoch 26/40\n",
      "40/40 [==============================] - 8s 188ms/step - loss: 0.0015 - val_loss: 0.0065\n",
      "Epoch 27/40\n",
      "40/40 [==============================] - 7s 168ms/step - loss: 0.0015 - val_loss: 0.0015\n",
      "Epoch 28/40\n",
      "40/40 [==============================] - 8s 212ms/step - loss: 0.0015 - val_loss: 0.0027\n",
      "Epoch 29/40\n",
      "40/40 [==============================] - 7s 173ms/step - loss: 0.0014 - val_loss: 0.0016\n",
      "Epoch 30/40\n",
      "40/40 [==============================] - 9s 221ms/step - loss: 0.0012 - val_loss: 5.1637e-04\n",
      "Epoch 31/40\n",
      "40/40 [==============================] - 8s 187ms/step - loss: 0.0012 - val_loss: 5.3962e-04\n",
      "Epoch 32/40\n",
      "40/40 [==============================] - 8s 213ms/step - loss: 0.0012 - val_loss: 0.0014\n",
      "Epoch 33/40\n",
      "40/40 [==============================] - 11s 274ms/step - loss: 0.0013 - val_loss: 0.0025\n",
      "Epoch 34/40\n",
      "40/40 [==============================] - 10s 257ms/step - loss: 0.0012 - val_loss: 0.0026\n",
      "Epoch 35/40\n",
      "40/40 [==============================] - 7s 187ms/step - loss: 0.0014 - val_loss: 0.0044\n",
      "Epoch 36/40\n",
      "40/40 [==============================] - 7s 180ms/step - loss: 0.0012 - val_loss: 6.3767e-04\n",
      "Epoch 37/40\n",
      "40/40 [==============================] - 7s 166ms/step - loss: 0.0012 - val_loss: 0.0056\n",
      "Epoch 38/40\n",
      "40/40 [==============================] - 9s 223ms/step - loss: 0.0012 - val_loss: 5.2668e-04\n",
      "Epoch 39/40\n",
      "40/40 [==============================] - 7s 167ms/step - loss: 0.0012 - val_loss: 5.2640e-04\n",
      "Epoch 40/40\n",
      "40/40 [==============================] - 6s 161ms/step - loss: 0.0011 - val_loss: 6.0399e-04\n"
     ]
    },
    {
     "data": {
      "text/plain": [
       "<keras.callbacks.History at 0x285345c9e20>"
      ]
     },
     "execution_count": 258,
     "metadata": {},
     "output_type": "execute_result"
    }
   ],
   "source": [
    "regressor.compile(optimizer = 'adam', loss = 'mean_squared_error')\n",
    "\n",
    "regressor.fit(X_train, y_train, epochs = 40, batch_size = 32, validation_split=0.1)"
   ]
  },
  {
   "cell_type": "markdown",
   "id": "c23c56f4",
   "metadata": {},
   "source": [
    "# Prediction on Test data"
   ]
  },
  {
   "cell_type": "code",
   "execution_count": 271,
   "id": "857cd8e6",
   "metadata": {},
   "outputs": [],
   "source": [
    "test_data = df2.iloc[:, 1:2].values"
   ]
  },
  {
   "cell_type": "markdown",
   "id": "9a8a49a2",
   "metadata": {},
   "source": [
    "# Applying Inverse Transfromation for obtaining the result"
   ]
  },
  {
   "cell_type": "code",
   "execution_count": 272,
   "id": "05b38a3e",
   "metadata": {},
   "outputs": [],
   "source": [
    "dataset_total = pd.concat((df1['Open'], df2['Open']), axis = 0)\n",
    "inputs = dataset_total[len(dataset_total) - len(df2) - 60:].values\n",
    "inputs = inputs.reshape(-1,1)\n",
    "inputs = sc.transform(inputs)\n",
    "X_test = []\n",
    "for i in range(60, 76):\n",
    "    X_test.append(inputs[i-60:i, 0])\n",
    "X_test = np.array(X_test)\n",
    "X_test = np.reshape(X_test, (X_test.shape[0], X_test.shape[1], 1))\n",
    "predicted = regressor.predict(X_test)\n",
    "predicted = sc.inverse_transform(predicted)"
   ]
  },
  {
   "cell_type": "code",
   "execution_count": 273,
   "id": "171bd8d3",
   "metadata": {},
   "outputs": [
    {
     "data": {
      "text/plain": [
       "array([[6880.14  ],\n",
       "       [6880.149 ],\n",
       "       [6880.0137],\n",
       "       [6879.699 ],\n",
       "       [6879.194 ],\n",
       "       [6878.515 ],\n",
       "       [6877.6943],\n",
       "       [6876.762 ],\n",
       "       [6875.7456],\n",
       "       [6874.6636],\n",
       "       [6873.5454],\n",
       "       [6872.4307],\n",
       "       [6871.3496],\n",
       "       [6870.347 ],\n",
       "       [6869.4824],\n",
       "       [6868.8374]], dtype=float32)"
      ]
     },
     "execution_count": 273,
     "metadata": {},
     "output_type": "execute_result"
    }
   ],
   "source": [
    "predicted"
   ]
  },
  {
   "cell_type": "code",
   "execution_count": 274,
   "id": "8ee46313",
   "metadata": {},
   "outputs": [
    {
     "data": {
      "text/plain": [
       "array([4.83106008e-03, 4.58580916e-03, 4.77164561e-03, ...,\n",
       "       9.22142463e-02, 1.11595803e-03, 6.62617338e-06])"
      ]
     },
     "execution_count": 274,
     "metadata": {},
     "output_type": "execute_result"
    }
   ],
   "source": [
    "y_test"
   ]
  },
  {
   "cell_type": "markdown",
   "id": "b04f8d34",
   "metadata": {},
   "source": [
    "# Now Plotting the Results on Graph"
   ]
  },
  {
   "cell_type": "code",
   "execution_count": 277,
   "id": "228c3227",
   "metadata": {},
   "outputs": [
    {
     "data": {
      "image/png": "[encoded data removed]",
      "text/plain": [
       "<Figure size 432x288 with 1 Axes>"
      ]
     },
     "metadata": {
      "needs_background": "light"
     },
     "output_type": "display_data"
    }
   ],
   "source": [
    "plt.plot(test_data, color = 'black', label = 'NSE Price')\n",
    "plt.plot(predicted, color = 'green', label = 'NSE Predicted Price')\n",
    "plt.title('NSE')\n",
    "plt.xlabel('Time')\n",
    "plt.ylabel('NSE')\n",
    "plt.legend()\n",
    "plt.show()"
   ]
  },
  {
   "cell_type": "markdown",
   "id": "5b0d0658",
   "metadata": {},
   "source": [
    "The above plot shows that NSE will remain stable and  model prediction also shows that the price will remain stable.\n",
    "\n",
    "​"
   ]
  },
  {
   "cell_type": "code",
   "execution_count": null,
   "id": "0e42966a",
   "metadata": {},
   "outputs": [],
   "source": []
  }
 ],
 "metadata": {
  "kernelspec": {
   "display_name": "Python 3",
   "language": "python",
   "name": "python3"
  },
  "language_info": {
   "codemirror_mode": {
    "name": "ipython",
    "version": 3
   },
   "file_extension": ".py",
   "mimetype": "text/x-python",
   "name": "python",
   "nbconvert_exporter": "python",
   "pygments_lexer": "ipython3",
   "version": "3.8.10"
  }
 },
 "nbformat": 4,
 "nbformat_minor": 5
}
