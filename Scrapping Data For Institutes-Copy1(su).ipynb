{
 "cells": [
  {
   "cell_type": "markdown",
   "id": "c24491d3",
   "metadata": {},
   "source": [
    "# Importing Libraries"
   ]
  },
  {
   "cell_type": "code",
   "execution_count": 1,
   "id": "33a816ca",
   "metadata": {},
   "outputs": [],
   "source": [
    "import pandas as pd\n",
    "import selenium\n",
    "from selenium import webdriver"
   ]
  },
  {
   "cell_type": "code",
   "execution_count": 2,
   "id": "e1c2564d",
   "metadata": {},
   "outputs": [],
   "source": [
    "driver=webdriver.Chrome(\"chromedriver.exe\")"
   ]
  },
  {
   "cell_type": "markdown",
   "id": "176d3d9a",
   "metadata": {},
   "source": [
    "# Creating Empty Columns For Institutes Data"
   ]
  },
  {
   "cell_type": "code",
   "execution_count": 7,
   "id": "38f77466",
   "metadata": {},
   "outputs": [],
   "source": [
    "Names=[]\n",
    "Contacts=[]\n",
    "Addresses=[]"
   ]
  },
  {
   "cell_type": "markdown",
   "id": "3e11c87e",
   "metadata": {},
   "source": [
    "# Scrapping Details"
   ]
  },
  {
   "cell_type": "code",
   "execution_count": 8,
   "id": "f063950b",
   "metadata": {},
   "outputs": [],
   "source": [
    "\n",
    "n=driver.find_elements_by_xpath(\"//div[@class='name']\")\n",
    "for i in n:\n",
    "    try:\n",
    "        Names.append(i.text)\n",
    "    except NoSuchElementException:\n",
    "        Namews.append('-')\n",
    "        \n",
    "        \n",
    "con=driver.find_elements_by_xpath(\"//div[@class='btn-group']\")  \n",
    "for i in con:\n",
    "    try:\n",
    "        Contacts.append(i.text)\n",
    "    except NoSuchElementException:\n",
    "        Contacts.append('-')\n",
    "        \n",
    "        \n",
    "ad=driver.find_elements_by_xpath(\"//div[@class='locality']\")\n",
    "for i in ad:\n",
    "    try:\n",
    "        Addresses.append(i.text)\n",
    "    except NoSuchElementException:\n",
    "        Addresses.append('-')\n",
    "        \n",
    " "
   ]
  },
  {
   "cell_type": "code",
   "execution_count": 14,
   "id": "a7d30f8f",
   "metadata": {},
   "outputs": [
    {
     "data": {
      "text/plain": [
       "40"
      ]
     },
     "execution_count": 14,
     "metadata": {},
     "output_type": "execute_result"
    }
   ],
   "source": [
    "len(Addresses)"
   ]
  },
  {
   "cell_type": "markdown",
   "id": "9dbaa50b",
   "metadata": {},
   "source": [
    "# Creating Data Frame"
   ]
  },
  {
   "cell_type": "code",
   "execution_count": 15,
   "id": "ed8c9342",
   "metadata": {},
   "outputs": [],
   "source": [
    "df=pd.DataFrame({})\n",
    "df['Name']=Names[:40]\n",
    "df['Contact']=Contacts[:40]\n",
    "df['Address']=Addresses[:40]"
   ]
  },
  {
   "cell_type": "code",
   "execution_count": null,
   "id": "97db2898",
   "metadata": {},
   "outputs": [],
   "source": []
  },
  {
   "cell_type": "markdown",
   "id": "d7587119",
   "metadata": {},
   "source": [
    "# Saving the Data into csv"
   ]
  },
  {
   "cell_type": "code",
   "execution_count": 17,
   "id": "650086b1",
   "metadata": {},
   "outputs": [],
   "source": [
    "df.to_csv(\"data_science_institute2.csv\")"
   ]
  },
  {
   "cell_type": "code",
   "execution_count": null,
   "id": "6bb4156f",
   "metadata": {},
   "outputs": [],
   "source": []
  }
 ],
 "metadata": {
  "kernelspec": {
   "display_name": "Python 3 (ipykernel)",
   "language": "python",
   "name": "python3"
  },
  "language_info": {
   "codemirror_mode": {
    "name": "ipython",
    "version": 3
   },
   "file_extension": ".py",
   "mimetype": "text/x-python",
   "name": "python",
   "nbconvert_exporter": "python",
   "pygments_lexer": "ipython3",
   "version": "3.8.13"
  }
 },
 "nbformat": 4,
 "nbformat_minor": 5
}
