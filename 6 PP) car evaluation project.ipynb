{
 "cells": [
  {
   "cell_type": "markdown",
   "id": "a442abd5",
   "metadata": {},
   "source": [
    "# Car Evaluation Project\n",
    "Problem Statement:\n",
    "Car Evaluation Project\n",
    "\n",
    "Abstract: Derived from simple hierarchical decision model, this database may be useful for testing constructive induction and structure discovery methods.\n",
    "\n",
    "Data Set Information:\n",
    "\n",
    "Car Evaluation Database was derived from a simple hierarchical decision model originally developed for the demonstration of DEX, M. Bohanec, V. Rajkovic: Expert system for decision making. Sistemica 1(1), pp. 145-157, 1990.). The model evaluates cars according to the following concept structure:\n",
    "\n",
    "CAR car acceptability\n",
    "PRICE overall price\n",
    "buying buying price\n",
    "maint price of the maintenance\n",
    "TECH technical characteristics\n",
    "COMFORT comfort\n",
    "doors number of doors\n",
    "persons capacity in terms of persons to carry\n",
    "lug_boot the size of luggage boot\n",
    "safety estimated safety of the car\n",
    "\n",
    "Input attributes are printed in lowercase. Besides the target concept (CAR), the model includes three intermediate concepts: PRICE, TECH, COMFORT. Every concept is in the original model related to its lower level descendants by a set of examples. \n",
    "\n",
    "The Car Evaluation Database contains examples with the structural information removed, i.e., directly relates CAR to the six input attributes: buying, maint, doors, persons, lug_boot, safety.\n",
    "\n",
    "Because of known underlying concept structure, this database may be particularly useful for testing constructive induction and structure discovery methods.\n",
    "\n",
    "\n",
    "Attribute Information:\n",
    "\n",
    "Class Values (Target):\n",
    "unacc, acc, good, vgood\n",
    "\n",
    "Attributes:\n",
    "buying: vhigh, high, med, low.\n",
    "maint: vhigh, high, med, low.\n",
    "doors: 2, 3, 4, 5more.\n",
    "persons: 2, 4, more.\n",
    "lug_boot: small, med, big.\n",
    "safety: low, med, high."
   ]
  },
  {
   "cell_type": "markdown",
   "id": "afeffe0e",
   "metadata": {},
   "source": [
    "# Importing Libraries"
   ]
  },
  {
   "cell_type": "code",
   "execution_count": 1,
   "id": "b8dec865",
   "metadata": {},
   "outputs": [],
   "source": [
    "import pandas as pd\n",
    "import seaborn as sns\n",
    "import numpy as np\n",
    "import matplotlib.pyplot as plt\n",
    "import warnings\n",
    "warnings.filterwarnings('ignore')"
   ]
  },
  {
   "cell_type": "markdown",
   "id": "b794dd6b",
   "metadata": {},
   "source": [
    "# Loading the dataset"
   ]
  },
  {
   "cell_type": "code",
   "execution_count": 2,
   "id": "5ae2ba3a",
   "metadata": {},
   "outputs": [
    {
     "data": {
      "text/html": [
       "<div>\n",
       "<style scoped>\n",
       "    .dataframe tbody tr th:only-of-type {\n",
       "        vertical-align: middle;\n",
       "    }\n",
       "\n",
       "    .dataframe tbody tr th {\n",
       "        vertical-align: top;\n",
       "    }\n",
       "\n",
       "    .dataframe thead th {\n",
       "        text-align: right;\n",
       "    }\n",
       "</style>\n",
       "<table border=\"1\" class=\"dataframe\">\n",
       "  <thead>\n",
       "    <tr style=\"text-align: right;\">\n",
       "      <th></th>\n",
       "      <th>Unnamed: 0</th>\n",
       "      <th>buying</th>\n",
       "      <th>maint</th>\n",
       "      <th>doors</th>\n",
       "      <th>persons</th>\n",
       "      <th>lug_boot</th>\n",
       "      <th>safety</th>\n",
       "      <th>class</th>\n",
       "    </tr>\n",
       "  </thead>\n",
       "  <tbody>\n",
       "    <tr>\n",
       "      <th>0</th>\n",
       "      <td>0</td>\n",
       "      <td>vhigh</td>\n",
       "      <td>vhigh</td>\n",
       "      <td>2</td>\n",
       "      <td>2</td>\n",
       "      <td>small</td>\n",
       "      <td>med</td>\n",
       "      <td>unacc</td>\n",
       "    </tr>\n",
       "    <tr>\n",
       "      <th>1</th>\n",
       "      <td>1</td>\n",
       "      <td>vhigh</td>\n",
       "      <td>vhigh</td>\n",
       "      <td>2</td>\n",
       "      <td>2</td>\n",
       "      <td>small</td>\n",
       "      <td>high</td>\n",
       "      <td>unacc</td>\n",
       "    </tr>\n",
       "    <tr>\n",
       "      <th>2</th>\n",
       "      <td>2</td>\n",
       "      <td>vhigh</td>\n",
       "      <td>vhigh</td>\n",
       "      <td>2</td>\n",
       "      <td>2</td>\n",
       "      <td>med</td>\n",
       "      <td>low</td>\n",
       "      <td>unacc</td>\n",
       "    </tr>\n",
       "    <tr>\n",
       "      <th>3</th>\n",
       "      <td>3</td>\n",
       "      <td>vhigh</td>\n",
       "      <td>vhigh</td>\n",
       "      <td>2</td>\n",
       "      <td>2</td>\n",
       "      <td>med</td>\n",
       "      <td>med</td>\n",
       "      <td>unacc</td>\n",
       "    </tr>\n",
       "    <tr>\n",
       "      <th>4</th>\n",
       "      <td>4</td>\n",
       "      <td>vhigh</td>\n",
       "      <td>vhigh</td>\n",
       "      <td>2</td>\n",
       "      <td>2</td>\n",
       "      <td>med</td>\n",
       "      <td>high</td>\n",
       "      <td>unacc</td>\n",
       "    </tr>\n",
       "  </tbody>\n",
       "</table>\n",
       "</div>"
      ],
      "text/plain": [
       "   Unnamed: 0 buying  maint doors persons lug_boot safety  class\n",
       "0           0  vhigh  vhigh     2       2    small    med  unacc\n",
       "1           1  vhigh  vhigh     2       2    small   high  unacc\n",
       "2           2  vhigh  vhigh     2       2      med    low  unacc\n",
       "3           3  vhigh  vhigh     2       2      med    med  unacc\n",
       "4           4  vhigh  vhigh     2       2      med   high  unacc"
      ]
     },
     "execution_count": 2,
     "metadata": {},
     "output_type": "execute_result"
    }
   ],
   "source": [
    "df=pd.read_csv('car.csv')\n",
    "df.head()"
   ]
  },
  {
   "cell_type": "markdown",
   "id": "2e74ba9a",
   "metadata": {},
   "source": [
    "Top 5 heads of the dataset."
   ]
  },
  {
   "cell_type": "code",
   "execution_count": 3,
   "id": "3d0ebb6b",
   "metadata": {},
   "outputs": [
    {
     "data": {
      "text/html": [
       "<div>\n",
       "<style scoped>\n",
       "    .dataframe tbody tr th:only-of-type {\n",
       "        vertical-align: middle;\n",
       "    }\n",
       "\n",
       "    .dataframe tbody tr th {\n",
       "        vertical-align: top;\n",
       "    }\n",
       "\n",
       "    .dataframe thead th {\n",
       "        text-align: right;\n",
       "    }\n",
       "</style>\n",
       "<table border=\"1\" class=\"dataframe\">\n",
       "  <thead>\n",
       "    <tr style=\"text-align: right;\">\n",
       "      <th></th>\n",
       "      <th>Unnamed: 0</th>\n",
       "      <th>buying</th>\n",
       "      <th>maint</th>\n",
       "      <th>doors</th>\n",
       "      <th>persons</th>\n",
       "      <th>lug_boot</th>\n",
       "      <th>safety</th>\n",
       "      <th>class</th>\n",
       "    </tr>\n",
       "  </thead>\n",
       "  <tbody>\n",
       "    <tr>\n",
       "      <th>1722</th>\n",
       "      <td>1722</td>\n",
       "      <td>low</td>\n",
       "      <td>low</td>\n",
       "      <td>5more</td>\n",
       "      <td>more</td>\n",
       "      <td>med</td>\n",
       "      <td>med</td>\n",
       "      <td>good</td>\n",
       "    </tr>\n",
       "    <tr>\n",
       "      <th>1723</th>\n",
       "      <td>1723</td>\n",
       "      <td>low</td>\n",
       "      <td>low</td>\n",
       "      <td>5more</td>\n",
       "      <td>more</td>\n",
       "      <td>med</td>\n",
       "      <td>high</td>\n",
       "      <td>vgood</td>\n",
       "    </tr>\n",
       "    <tr>\n",
       "      <th>1724</th>\n",
       "      <td>1724</td>\n",
       "      <td>low</td>\n",
       "      <td>low</td>\n",
       "      <td>5more</td>\n",
       "      <td>more</td>\n",
       "      <td>big</td>\n",
       "      <td>low</td>\n",
       "      <td>unacc</td>\n",
       "    </tr>\n",
       "    <tr>\n",
       "      <th>1725</th>\n",
       "      <td>1725</td>\n",
       "      <td>low</td>\n",
       "      <td>low</td>\n",
       "      <td>5more</td>\n",
       "      <td>more</td>\n",
       "      <td>big</td>\n",
       "      <td>med</td>\n",
       "      <td>good</td>\n",
       "    </tr>\n",
       "    <tr>\n",
       "      <th>1726</th>\n",
       "      <td>1726</td>\n",
       "      <td>low</td>\n",
       "      <td>low</td>\n",
       "      <td>5more</td>\n",
       "      <td>more</td>\n",
       "      <td>big</td>\n",
       "      <td>high</td>\n",
       "      <td>vgood</td>\n",
       "    </tr>\n",
       "  </tbody>\n",
       "</table>\n",
       "</div>"
      ],
      "text/plain": [
       "      Unnamed: 0 buying maint  doors persons lug_boot safety  class\n",
       "1722        1722    low   low  5more    more      med    med   good\n",
       "1723        1723    low   low  5more    more      med   high  vgood\n",
       "1724        1724    low   low  5more    more      big    low  unacc\n",
       "1725        1725    low   low  5more    more      big    med   good\n",
       "1726        1726    low   low  5more    more      big   high  vgood"
      ]
     },
     "execution_count": 3,
     "metadata": {},
     "output_type": "execute_result"
    }
   ],
   "source": [
    "df.tail()"
   ]
  },
  {
   "cell_type": "markdown",
   "id": "f79a7a0e",
   "metadata": {},
   "source": [
    "Bottom  of the dataset."
   ]
  },
  {
   "cell_type": "markdown",
   "id": "ea7861c8",
   "metadata": {},
   "source": [
    "# EDA"
   ]
  },
  {
   "cell_type": "code",
   "execution_count": 4,
   "id": "e8d4558e",
   "metadata": {},
   "outputs": [
    {
     "data": {
      "text/plain": [
       "(1727, 8)"
      ]
     },
     "execution_count": 4,
     "metadata": {},
     "output_type": "execute_result"
    }
   ],
   "source": [
    "# checking shape\n",
    "df.shape"
   ]
  },
  {
   "cell_type": "markdown",
   "id": "123df772",
   "metadata": {},
   "source": [
    "1727 rows and 8 columns present in the dataset."
   ]
  },
  {
   "cell_type": "code",
   "execution_count": 5,
   "id": "bc54f20b",
   "metadata": {},
   "outputs": [
    {
     "name": "stdout",
     "output_type": "stream",
     "text": [
      "<class 'pandas.core.frame.DataFrame'>\n",
      "RangeIndex: 1727 entries, 0 to 1726\n",
      "Data columns (total 8 columns):\n",
      " #   Column      Non-Null Count  Dtype \n",
      "---  ------      --------------  ----- \n",
      " 0   Unnamed: 0  1727 non-null   int64 \n",
      " 1   buying      1727 non-null   object\n",
      " 2   maint       1727 non-null   object\n",
      " 3   doors       1727 non-null   object\n",
      " 4   persons     1727 non-null   object\n",
      " 5   lug_boot    1727 non-null   object\n",
      " 6   safety      1727 non-null   object\n",
      " 7   class       1727 non-null   object\n",
      "dtypes: int64(1), object(7)\n",
      "memory usage: 108.1+ KB\n"
     ]
    }
   ],
   "source": [
    "# checking data type\n",
    "df.info()"
   ]
  },
  {
   "cell_type": "markdown",
   "id": "cd80662a",
   "metadata": {},
   "source": [
    "1 integer datatype and 7 object data type present in the dataset."
   ]
  },
  {
   "cell_type": "code",
   "execution_count": 6,
   "id": "3e05fc73",
   "metadata": {},
   "outputs": [
    {
     "data": {
      "text/plain": [
       "Unnamed: 0    0\n",
       "buying        0\n",
       "maint         0\n",
       "doors         0\n",
       "persons       0\n",
       "lug_boot      0\n",
       "safety        0\n",
       "class         0\n",
       "dtype: int64"
      ]
     },
     "execution_count": 6,
     "metadata": {},
     "output_type": "execute_result"
    }
   ],
   "source": [
    "# checking null values\n",
    "df.isnull().sum()"
   ]
  },
  {
   "cell_type": "markdown",
   "id": "0ccf3b63",
   "metadata": {},
   "source": [
    "Null values are not present in the dataset."
   ]
  },
  {
   "cell_type": "markdown",
   "id": "8259d5e8",
   "metadata": {},
   "source": [
    "# Visualization of nominal data"
   ]
  },
  {
   "cell_type": "code",
   "execution_count": 7,
   "id": "3c2ca847",
   "metadata": {},
   "outputs": [
    {
     "data": {
      "text/plain": [
       "Index(['Unnamed: 0', 'buying', 'maint', 'doors', 'persons', 'lug_boot',\n",
       "       'safety', 'class'],\n",
       "      dtype='object')"
      ]
     },
     "execution_count": 7,
     "metadata": {},
     "output_type": "execute_result"
    }
   ],
   "source": [
    "df.columns"
   ]
  },
  {
   "cell_type": "code",
   "execution_count": 8,
   "id": "005a2212",
   "metadata": {},
   "outputs": [
    {
     "name": "stdout",
     "output_type": "stream",
     "text": [
      "low      432\n",
      "med      432\n",
      "high     432\n",
      "vhigh    431\n",
      "Name: buying, dtype: int64\n"
     ]
    },
    {
     "data": {
      "image/png": "[encoded data removed]",
      "text/plain": [
       "<Figure size 432x288 with 1 Axes>"
      ]
     },
     "metadata": {
      "needs_background": "light"
     },
     "output_type": "display_data"
    }
   ],
   "source": [
    "ax=sns.countplot(df['buying'])\n",
    "print(df['buying'].value_counts())"
   ]
  },
  {
   "cell_type": "markdown",
   "id": "1cdb8792",
   "metadata": {},
   "source": [
    "buying column is looking normal with almost equal number of counts for all the unique values that is 432 except 'vhigh'(431)."
   ]
  },
  {
   "cell_type": "code",
   "execution_count": null,
   "id": "45e2534f",
   "metadata": {},
   "outputs": [],
   "source": []
  },
  {
   "cell_type": "code",
   "execution_count": null,
   "id": "b2989a9f",
   "metadata": {},
   "outputs": [],
   "source": []
  },
  {
   "cell_type": "code",
   "execution_count": 9,
   "id": "1587fb60",
   "metadata": {},
   "outputs": [
    {
     "name": "stdout",
     "output_type": "stream",
     "text": [
      "low      432\n",
      "med      432\n",
      "high     432\n",
      "vhigh    431\n",
      "Name: maint, dtype: int64\n"
     ]
    },
    {
     "data": {
      "image/png": "[encoded data removed]",
      "text/plain": [
       "<Figure size 432x288 with 1 Axes>"
      ]
     },
     "metadata": {
      "needs_background": "light"
     },
     "output_type": "display_data"
    }
   ],
   "source": [
    "ax=sns.countplot(df['maint'])\n",
    "print(df['maint'].value_counts())"
   ]
  },
  {
   "cell_type": "markdown",
   "id": "a3944834",
   "metadata": {},
   "source": [
    "maint column is looking normal with almost equal number of counts for all the unique values that is 432 except 'vhigh'(431)."
   ]
  },
  {
   "cell_type": "code",
   "execution_count": null,
   "id": "1240b8f5",
   "metadata": {},
   "outputs": [],
   "source": []
  },
  {
   "cell_type": "code",
   "execution_count": null,
   "id": "76f8ee24",
   "metadata": {},
   "outputs": [],
   "source": []
  },
  {
   "cell_type": "code",
   "execution_count": 10,
   "id": "6f0bfecd",
   "metadata": {},
   "outputs": [
    {
     "name": "stdout",
     "output_type": "stream",
     "text": [
      "5more    432\n",
      "4        432\n",
      "3        432\n",
      "2        431\n",
      "Name: doors, dtype: int64\n"
     ]
    },
    {
     "data": {
      "image/png": "[encoded data removed]",
      "text/plain": [
       "<Figure size 432x288 with 1 Axes>"
      ]
     },
     "metadata": {
      "needs_background": "light"
     },
     "output_type": "display_data"
    }
   ],
   "source": [
    "ax=sns.countplot(df['doors'])\n",
    "print(df['doors'].value_counts())"
   ]
  },
  {
   "cell_type": "markdown",
   "id": "afeb1bb6",
   "metadata": {},
   "source": [
    "doors column is looking normal with almost equal number of values."
   ]
  },
  {
   "cell_type": "code",
   "execution_count": null,
   "id": "245ee073",
   "metadata": {},
   "outputs": [],
   "source": []
  },
  {
   "cell_type": "code",
   "execution_count": null,
   "id": "5a977ffd",
   "metadata": {},
   "outputs": [],
   "source": []
  },
  {
   "cell_type": "code",
   "execution_count": 11,
   "id": "12b636a6",
   "metadata": {},
   "outputs": [
    {
     "name": "stdout",
     "output_type": "stream",
     "text": [
      "more    576\n",
      "4       576\n",
      "2       575\n",
      "Name: persons, dtype: int64\n"
     ]
    },
    {
     "data": {
      "image/png": "[encoded data removed]",
      "text/plain": [
       "<Figure size 432x288 with 1 Axes>"
      ]
     },
     "metadata": {
      "needs_background": "light"
     },
     "output_type": "display_data"
    }
   ],
   "source": [
    "ax=sns.countplot(df['persons'])\n",
    "print(df['persons'].value_counts())"
   ]
  },
  {
   "cell_type": "markdown",
   "id": "d241ac0c",
   "metadata": {},
   "source": [
    "perosns column is looking normal with almost equal number of values."
   ]
  },
  {
   "cell_type": "code",
   "execution_count": null,
   "id": "11b89662",
   "metadata": {},
   "outputs": [],
   "source": []
  },
  {
   "cell_type": "code",
   "execution_count": null,
   "id": "df1ba1bb",
   "metadata": {},
   "outputs": [],
   "source": []
  },
  {
   "cell_type": "code",
   "execution_count": 12,
   "id": "f82b0c53",
   "metadata": {},
   "outputs": [
    {
     "name": "stdout",
     "output_type": "stream",
     "text": [
      "big      576\n",
      "med      576\n",
      "small    575\n",
      "Name: lug_boot, dtype: int64\n"
     ]
    },
    {
     "data": {
      "image/png": "[encoded data removed]",
      "text/plain": [
       "<Figure size 432x288 with 1 Axes>"
      ]
     },
     "metadata": {
      "needs_background": "light"
     },
     "output_type": "display_data"
    }
   ],
   "source": [
    "ax=sns.countplot(df['lug_boot'])\n",
    "print(df['lug_boot'].value_counts())"
   ]
  },
  {
   "cell_type": "markdown",
   "id": "4055c1d7",
   "metadata": {},
   "source": [
    "3 unique values are present in lug_boot column with almost equal number of values."
   ]
  },
  {
   "cell_type": "code",
   "execution_count": null,
   "id": "e22dfdfa",
   "metadata": {},
   "outputs": [],
   "source": []
  },
  {
   "cell_type": "code",
   "execution_count": null,
   "id": "593118c4",
   "metadata": {},
   "outputs": [],
   "source": []
  },
  {
   "cell_type": "code",
   "execution_count": 13,
   "id": "ea825293",
   "metadata": {},
   "outputs": [
    {
     "name": "stdout",
     "output_type": "stream",
     "text": [
      "med     576\n",
      "high    576\n",
      "low     575\n",
      "Name: safety, dtype: int64\n"
     ]
    },
    {
     "data": {
      "image/png": "[encoded data removed]",
      "text/plain": [
       "<Figure size 432x288 with 1 Axes>"
      ]
     },
     "metadata": {
      "needs_background": "light"
     },
     "output_type": "display_data"
    }
   ],
   "source": [
    "ax=sns.countplot(df['safety'])\n",
    "print(df['safety'].value_counts())"
   ]
  },
  {
   "cell_type": "markdown",
   "id": "e71280c0",
   "metadata": {},
   "source": [
    "3 unique values are present in safety column with almost equal number of values."
   ]
  },
  {
   "cell_type": "code",
   "execution_count": null,
   "id": "16c04db5",
   "metadata": {},
   "outputs": [],
   "source": []
  },
  {
   "cell_type": "code",
   "execution_count": null,
   "id": "71564a16",
   "metadata": {},
   "outputs": [],
   "source": []
  },
  {
   "cell_type": "code",
   "execution_count": 14,
   "id": "0f742662",
   "metadata": {},
   "outputs": [
    {
     "name": "stdout",
     "output_type": "stream",
     "text": [
      "unacc    1209\n",
      "acc       384\n",
      "good       69\n",
      "vgood      65\n",
      "Name: class, dtype: int64\n"
     ]
    },
    {
     "data": {
      "image/png": "[encoded data removed]",
      "text/plain": [
       "<Figure size 432x288 with 1 Axes>"
      ]
     },
     "metadata": {
      "needs_background": "light"
     },
     "output_type": "display_data"
    }
   ],
   "source": [
    "ax=sns.countplot(df['class'])\n",
    "print(df['class'].value_counts())"
   ]
  },
  {
   "cell_type": "markdown",
   "id": "e1acc092",
   "metadata": {},
   "source": [
    "class is our target column  and is showing very big difference in unique values counts."
   ]
  },
  {
   "cell_type": "code",
   "execution_count": null,
   "id": "26d60ef8",
   "metadata": {},
   "outputs": [],
   "source": []
  },
  {
   "cell_type": "markdown",
   "id": "320a772a",
   "metadata": {},
   "source": [
    "# Ouliers and skewnss"
   ]
  },
  {
   "cell_type": "markdown",
   "id": "6df2320d",
   "metadata": {},
   "source": [
    "ouliers and skewness can't be removed or treated in object data type column."
   ]
  },
  {
   "cell_type": "markdown",
   "id": "dfd6ce6b",
   "metadata": {},
   "source": [
    "# Label Encoding for converting object column into numeric column."
   ]
  },
  {
   "cell_type": "code",
   "execution_count": 16,
   "id": "ab05dc50",
   "metadata": {},
   "outputs": [],
   "source": [
    "from sklearn.preprocessing import LabelEncoder"
   ]
  },
  {
   "cell_type": "code",
   "execution_count": 18,
   "id": "9c54289e",
   "metadata": {},
   "outputs": [],
   "source": [
    "enc=LabelEncoder()\n",
    "for i in df.columns:\n",
    "    if df[i].dtypes=='object':\n",
    "        df[i]=enc.fit_transform(df[i])"
   ]
  },
  {
   "cell_type": "code",
   "execution_count": 19,
   "id": "cd7ccbec",
   "metadata": {},
   "outputs": [
    {
     "data": {
      "text/html": [
       "<div>\n",
       "<style scoped>\n",
       "    .dataframe tbody tr th:only-of-type {\n",
       "        vertical-align: middle;\n",
       "    }\n",
       "\n",
       "    .dataframe tbody tr th {\n",
       "        vertical-align: top;\n",
       "    }\n",
       "\n",
       "    .dataframe thead th {\n",
       "        text-align: right;\n",
       "    }\n",
       "</style>\n",
       "<table border=\"1\" class=\"dataframe\">\n",
       "  <thead>\n",
       "    <tr style=\"text-align: right;\">\n",
       "      <th></th>\n",
       "      <th>Unnamed: 0</th>\n",
       "      <th>buying</th>\n",
       "      <th>maint</th>\n",
       "      <th>doors</th>\n",
       "      <th>persons</th>\n",
       "      <th>lug_boot</th>\n",
       "      <th>safety</th>\n",
       "      <th>class</th>\n",
       "    </tr>\n",
       "  </thead>\n",
       "  <tbody>\n",
       "    <tr>\n",
       "      <th>0</th>\n",
       "      <td>0</td>\n",
       "      <td>3</td>\n",
       "      <td>3</td>\n",
       "      <td>0</td>\n",
       "      <td>0</td>\n",
       "      <td>2</td>\n",
       "      <td>2</td>\n",
       "      <td>2</td>\n",
       "    </tr>\n",
       "    <tr>\n",
       "      <th>1</th>\n",
       "      <td>1</td>\n",
       "      <td>3</td>\n",
       "      <td>3</td>\n",
       "      <td>0</td>\n",
       "      <td>0</td>\n",
       "      <td>2</td>\n",
       "      <td>0</td>\n",
       "      <td>2</td>\n",
       "    </tr>\n",
       "    <tr>\n",
       "      <th>2</th>\n",
       "      <td>2</td>\n",
       "      <td>3</td>\n",
       "      <td>3</td>\n",
       "      <td>0</td>\n",
       "      <td>0</td>\n",
       "      <td>1</td>\n",
       "      <td>1</td>\n",
       "      <td>2</td>\n",
       "    </tr>\n",
       "    <tr>\n",
       "      <th>3</th>\n",
       "      <td>3</td>\n",
       "      <td>3</td>\n",
       "      <td>3</td>\n",
       "      <td>0</td>\n",
       "      <td>0</td>\n",
       "      <td>1</td>\n",
       "      <td>2</td>\n",
       "      <td>2</td>\n",
       "    </tr>\n",
       "    <tr>\n",
       "      <th>4</th>\n",
       "      <td>4</td>\n",
       "      <td>3</td>\n",
       "      <td>3</td>\n",
       "      <td>0</td>\n",
       "      <td>0</td>\n",
       "      <td>1</td>\n",
       "      <td>0</td>\n",
       "      <td>2</td>\n",
       "    </tr>\n",
       "    <tr>\n",
       "      <th>...</th>\n",
       "      <td>...</td>\n",
       "      <td>...</td>\n",
       "      <td>...</td>\n",
       "      <td>...</td>\n",
       "      <td>...</td>\n",
       "      <td>...</td>\n",
       "      <td>...</td>\n",
       "      <td>...</td>\n",
       "    </tr>\n",
       "    <tr>\n",
       "      <th>1722</th>\n",
       "      <td>1722</td>\n",
       "      <td>1</td>\n",
       "      <td>1</td>\n",
       "      <td>3</td>\n",
       "      <td>2</td>\n",
       "      <td>1</td>\n",
       "      <td>2</td>\n",
       "      <td>1</td>\n",
       "    </tr>\n",
       "    <tr>\n",
       "      <th>1723</th>\n",
       "      <td>1723</td>\n",
       "      <td>1</td>\n",
       "      <td>1</td>\n",
       "      <td>3</td>\n",
       "      <td>2</td>\n",
       "      <td>1</td>\n",
       "      <td>0</td>\n",
       "      <td>3</td>\n",
       "    </tr>\n",
       "    <tr>\n",
       "      <th>1724</th>\n",
       "      <td>1724</td>\n",
       "      <td>1</td>\n",
       "      <td>1</td>\n",
       "      <td>3</td>\n",
       "      <td>2</td>\n",
       "      <td>0</td>\n",
       "      <td>1</td>\n",
       "      <td>2</td>\n",
       "    </tr>\n",
       "    <tr>\n",
       "      <th>1725</th>\n",
       "      <td>1725</td>\n",
       "      <td>1</td>\n",
       "      <td>1</td>\n",
       "      <td>3</td>\n",
       "      <td>2</td>\n",
       "      <td>0</td>\n",
       "      <td>2</td>\n",
       "      <td>1</td>\n",
       "    </tr>\n",
       "    <tr>\n",
       "      <th>1726</th>\n",
       "      <td>1726</td>\n",
       "      <td>1</td>\n",
       "      <td>1</td>\n",
       "      <td>3</td>\n",
       "      <td>2</td>\n",
       "      <td>0</td>\n",
       "      <td>0</td>\n",
       "      <td>3</td>\n",
       "    </tr>\n",
       "  </tbody>\n",
       "</table>\n",
       "<p>1727 rows × 8 columns</p>\n",
       "</div>"
      ],
      "text/plain": [
       "      Unnamed: 0  buying  maint  doors  persons  lug_boot  safety  class\n",
       "0              0       3      3      0        0         2       2      2\n",
       "1              1       3      3      0        0         2       0      2\n",
       "2              2       3      3      0        0         1       1      2\n",
       "3              3       3      3      0        0         1       2      2\n",
       "4              4       3      3      0        0         1       0      2\n",
       "...          ...     ...    ...    ...      ...       ...     ...    ...\n",
       "1722        1722       1      1      3        2         1       2      1\n",
       "1723        1723       1      1      3        2         1       0      3\n",
       "1724        1724       1      1      3        2         0       1      2\n",
       "1725        1725       1      1      3        2         0       2      1\n",
       "1726        1726       1      1      3        2         0       0      3\n",
       "\n",
       "[1727 rows x 8 columns]"
      ]
     },
     "execution_count": 19,
     "metadata": {},
     "output_type": "execute_result"
    }
   ],
   "source": [
    "df"
   ]
  },
  {
   "cell_type": "markdown",
   "id": "80b3398c",
   "metadata": {},
   "source": [
    "Now we can see columns has been converted into numeric columns."
   ]
  },
  {
   "cell_type": "markdown",
   "id": "157d5c58",
   "metadata": {},
   "source": [
    "# Removing unnecessary columns"
   ]
  },
  {
   "cell_type": "code",
   "execution_count": 20,
   "id": "b7983a1a",
   "metadata": {},
   "outputs": [],
   "source": [
    "del df['Unnamed: 0']"
   ]
  },
  {
   "cell_type": "code",
   "execution_count": 21,
   "id": "d32ce904",
   "metadata": {},
   "outputs": [
    {
     "data": {
      "text/plain": [
       "(1727, 7)"
      ]
     },
     "execution_count": 21,
     "metadata": {},
     "output_type": "execute_result"
    }
   ],
   "source": [
    "df.shape"
   ]
  },
  {
   "cell_type": "markdown",
   "id": "f53f54a9",
   "metadata": {},
   "source": [
    "one column has been removed"
   ]
  },
  {
   "cell_type": "markdown",
   "id": "eb551d97",
   "metadata": {},
   "source": [
    "# Checking Statistical summary"
   ]
  },
  {
   "cell_type": "code",
   "execution_count": 22,
   "id": "106364ff",
   "metadata": {},
   "outputs": [
    {
     "data": {
      "text/html": [
       "<div>\n",
       "<style scoped>\n",
       "    .dataframe tbody tr th:only-of-type {\n",
       "        vertical-align: middle;\n",
       "    }\n",
       "\n",
       "    .dataframe tbody tr th {\n",
       "        vertical-align: top;\n",
       "    }\n",
       "\n",
       "    .dataframe thead th {\n",
       "        text-align: right;\n",
       "    }\n",
       "</style>\n",
       "<table border=\"1\" class=\"dataframe\">\n",
       "  <thead>\n",
       "    <tr style=\"text-align: right;\">\n",
       "      <th></th>\n",
       "      <th>buying</th>\n",
       "      <th>maint</th>\n",
       "      <th>doors</th>\n",
       "      <th>persons</th>\n",
       "      <th>lug_boot</th>\n",
       "      <th>safety</th>\n",
       "      <th>class</th>\n",
       "    </tr>\n",
       "  </thead>\n",
       "  <tbody>\n",
       "    <tr>\n",
       "      <th>count</th>\n",
       "      <td>1727.000000</td>\n",
       "      <td>1727.000000</td>\n",
       "      <td>1727.000000</td>\n",
       "      <td>1727.000000</td>\n",
       "      <td>1727.000000</td>\n",
       "      <td>1727.00000</td>\n",
       "      <td>1727.000000</td>\n",
       "    </tr>\n",
       "    <tr>\n",
       "      <th>mean</th>\n",
       "      <td>1.499131</td>\n",
       "      <td>1.499131</td>\n",
       "      <td>1.500869</td>\n",
       "      <td>1.000579</td>\n",
       "      <td>0.999421</td>\n",
       "      <td>1.00000</td>\n",
       "      <td>1.552982</td>\n",
       "    </tr>\n",
       "    <tr>\n",
       "      <th>std</th>\n",
       "      <td>1.118098</td>\n",
       "      <td>1.118098</td>\n",
       "      <td>1.118098</td>\n",
       "      <td>0.816615</td>\n",
       "      <td>0.816615</td>\n",
       "      <td>0.81697</td>\n",
       "      <td>0.876136</td>\n",
       "    </tr>\n",
       "    <tr>\n",
       "      <th>min</th>\n",
       "      <td>0.000000</td>\n",
       "      <td>0.000000</td>\n",
       "      <td>0.000000</td>\n",
       "      <td>0.000000</td>\n",
       "      <td>0.000000</td>\n",
       "      <td>0.00000</td>\n",
       "      <td>0.000000</td>\n",
       "    </tr>\n",
       "    <tr>\n",
       "      <th>25%</th>\n",
       "      <td>0.500000</td>\n",
       "      <td>0.500000</td>\n",
       "      <td>1.000000</td>\n",
       "      <td>0.000000</td>\n",
       "      <td>0.000000</td>\n",
       "      <td>0.00000</td>\n",
       "      <td>1.000000</td>\n",
       "    </tr>\n",
       "    <tr>\n",
       "      <th>50%</th>\n",
       "      <td>1.000000</td>\n",
       "      <td>1.000000</td>\n",
       "      <td>2.000000</td>\n",
       "      <td>1.000000</td>\n",
       "      <td>1.000000</td>\n",
       "      <td>1.00000</td>\n",
       "      <td>2.000000</td>\n",
       "    </tr>\n",
       "    <tr>\n",
       "      <th>75%</th>\n",
       "      <td>2.000000</td>\n",
       "      <td>2.000000</td>\n",
       "      <td>2.500000</td>\n",
       "      <td>2.000000</td>\n",
       "      <td>2.000000</td>\n",
       "      <td>2.00000</td>\n",
       "      <td>2.000000</td>\n",
       "    </tr>\n",
       "    <tr>\n",
       "      <th>max</th>\n",
       "      <td>3.000000</td>\n",
       "      <td>3.000000</td>\n",
       "      <td>3.000000</td>\n",
       "      <td>2.000000</td>\n",
       "      <td>2.000000</td>\n",
       "      <td>2.00000</td>\n",
       "      <td>3.000000</td>\n",
       "    </tr>\n",
       "  </tbody>\n",
       "</table>\n",
       "</div>"
      ],
      "text/plain": [
       "            buying        maint        doors      persons     lug_boot  \\\n",
       "count  1727.000000  1727.000000  1727.000000  1727.000000  1727.000000   \n",
       "mean      1.499131     1.499131     1.500869     1.000579     0.999421   \n",
       "std       1.118098     1.118098     1.118098     0.816615     0.816615   \n",
       "min       0.000000     0.000000     0.000000     0.000000     0.000000   \n",
       "25%       0.500000     0.500000     1.000000     0.000000     0.000000   \n",
       "50%       1.000000     1.000000     2.000000     1.000000     1.000000   \n",
       "75%       2.000000     2.000000     2.500000     2.000000     2.000000   \n",
       "max       3.000000     3.000000     3.000000     2.000000     2.000000   \n",
       "\n",
       "           safety        class  \n",
       "count  1727.00000  1727.000000  \n",
       "mean      1.00000     1.552982  \n",
       "std       0.81697     0.876136  \n",
       "min       0.00000     0.000000  \n",
       "25%       0.00000     1.000000  \n",
       "50%       1.00000     2.000000  \n",
       "75%       2.00000     2.000000  \n",
       "max       2.00000     3.000000  "
      ]
     },
     "execution_count": 22,
     "metadata": {},
     "output_type": "execute_result"
    }
   ],
   "source": [
    "df.describe()"
   ]
  },
  {
   "cell_type": "markdown",
   "id": "9f11d408",
   "metadata": {},
   "source": [
    "Number of count is same in all the columns.\n",
    "\n",
    "Data is not deviated.\n",
    "\n",
    "Not much difference between mean and median(%) in any of the column.\n",
    "\n",
    "Not much difference between 75% and max in any of the column."
   ]
  },
  {
   "cell_type": "markdown",
   "id": "6b1b9172",
   "metadata": {},
   "source": [
    "# Checking correlations"
   ]
  },
  {
   "cell_type": "code",
   "execution_count": 25,
   "id": "0a2b6114",
   "metadata": {},
   "outputs": [
    {
     "data": {
      "text/plain": [
       "<AxesSubplot:>"
      ]
     },
     "execution_count": 25,
     "metadata": {},
     "output_type": "execute_result"
    },
    {
     "data": {
      "image/png": "[encoded data removed]",
      "text/plain": [
       "<Figure size 1584x504 with 2 Axes>"
      ]
     },
     "metadata": {
      "needs_background": "light"
     },
     "output_type": "display_data"
    }
   ],
   "source": [
    "plt.figure(figsize=(22,7))\n",
    "sns.heatmap(df.corr(), annot=True, linewidths=.5)"
   ]
  },
  {
   "cell_type": "markdown",
   "id": "0844416c",
   "metadata": {},
   "source": [
    "persons column is negatively correlated with the target column class.\n",
    "\n",
    "Most of the data are negatively correlated with each other."
   ]
  },
  {
   "cell_type": "markdown",
   "id": "b9042f54",
   "metadata": {},
   "source": [
    "# Splitting the datasets into x and y"
   ]
  },
  {
   "cell_type": "code",
   "execution_count": 26,
   "id": "ca83251f",
   "metadata": {},
   "outputs": [],
   "source": [
    "x=df.drop('class',axis=1)\n",
    "y=df['class']"
   ]
  },
  {
   "cell_type": "code",
   "execution_count": 27,
   "id": "16bc73bd",
   "metadata": {},
   "outputs": [
    {
     "data": {
      "text/plain": [
       "(1727, 6)"
      ]
     },
     "execution_count": 27,
     "metadata": {},
     "output_type": "execute_result"
    }
   ],
   "source": [
    "x.shape"
   ]
  },
  {
   "cell_type": "code",
   "execution_count": 28,
   "id": "94aad8e2",
   "metadata": {},
   "outputs": [
    {
     "data": {
      "text/plain": [
       "(1727,)"
      ]
     },
     "execution_count": 28,
     "metadata": {},
     "output_type": "execute_result"
    }
   ],
   "source": [
    "y.shape"
   ]
  },
  {
   "cell_type": "markdown",
   "id": "3c6e32ff",
   "metadata": {},
   "source": [
    "# Train Test Split"
   ]
  },
  {
   "cell_type": "code",
   "execution_count": 29,
   "id": "7c79c5a2",
   "metadata": {},
   "outputs": [
    {
     "name": "stdout",
     "output_type": "stream",
     "text": [
      "(1295, 6)\n",
      "(432, 6)\n",
      "(1295,)\n",
      "(432,)\n"
     ]
    }
   ],
   "source": [
    "from sklearn.model_selection import train_test_split\n",
    "x_train,x_test,y_train,y_test=train_test_split(x,y, test_size=.25, random_state=47)\n",
    "print(x_train.shape)\n",
    "print(x_test.shape)\n",
    "print(y_train.shape)\n",
    "print(y_test.shape)"
   ]
  },
  {
   "cell_type": "markdown",
   "id": "6734f74f",
   "metadata": {},
   "source": [
    "# HANDLING CLASS IMBALANCE PROBLEM BY OVERSAMPLING THE MINORITY CLASS"
   ]
  },
  {
   "cell_type": "code",
   "execution_count": 32,
   "id": "45d45627",
   "metadata": {},
   "outputs": [],
   "source": [
    "# In target column there is difference between the unique values\n",
    "from imblearn.over_sampling import SMOTE\n",
    "SM=SMOTE()\n",
    "\n",
    "x_over,y_over=SM.fit_resample(x,y)"
   ]
  },
  {
   "cell_type": "code",
   "execution_count": 33,
   "id": "7fd0f017",
   "metadata": {},
   "outputs": [
    {
     "data": {
      "text/plain": [
       "0    1209\n",
       "1    1209\n",
       "2    1209\n",
       "3    1209\n",
       "Name: class, dtype: int64"
      ]
     },
     "execution_count": 33,
     "metadata": {},
     "output_type": "execute_result"
    }
   ],
   "source": [
    "y_over.value_counts()"
   ]
  },
  {
   "cell_type": "markdown",
   "id": "ea6f7254",
   "metadata": {},
   "source": [
    "Now data is equal."
   ]
  },
  {
   "cell_type": "markdown",
   "id": "5c736128",
   "metadata": {},
   "source": [
    "# Model Building"
   ]
  },
  {
   "cell_type": "code",
   "execution_count": 35,
   "id": "598d668d",
   "metadata": {},
   "outputs": [],
   "source": [
    "from sklearn.tree import DecisionTreeClassifier\n",
    "from sklearn.ensemble import RandomForestClassifier, AdaBoostClassifier\n",
    "from sklearn.linear_model import LogisticRegression\n",
    "from sklearn.model_selection import cross_val_score\n",
    "from sklearn.metrics import accuracy_score, confusion_matrix, classification_report"
   ]
  },
  {
   "cell_type": "code",
   "execution_count": 36,
   "id": "aa07e896",
   "metadata": {},
   "outputs": [
    {
     "name": "stdout",
     "output_type": "stream",
     "text": [
      "0.6689814814814815\n",
      "[[ 18   0  83   8]\n",
      " [  1   0  14   0]\n",
      " [ 24   0 268   3]\n",
      " [  7   0   3   3]]\n",
      "              precision    recall  f1-score   support\n",
      "\n",
      "           0       0.36      0.17      0.23       109\n",
      "           1       0.00      0.00      0.00        15\n",
      "           2       0.73      0.91      0.81       295\n",
      "           3       0.21      0.23      0.22        13\n",
      "\n",
      "    accuracy                           0.67       432\n",
      "   macro avg       0.33      0.33      0.31       432\n",
      "weighted avg       0.59      0.67      0.62       432\n",
      "\n"
     ]
    }
   ],
   "source": [
    "# Logistic Regression\n",
    "lr=LogisticRegression()\n",
    "lr.fit(x_train,y_train)\n",
    "pred_y=lr.predict(x_test)\n",
    "print(accuracy_score(y_test,pred_y))\n",
    "print(confusion_matrix(y_test,pred_y))\n",
    "print(classification_report(y_test,pred_y))"
   ]
  },
  {
   "cell_type": "code",
   "execution_count": 37,
   "id": "427f3612",
   "metadata": {},
   "outputs": [
    {
     "name": "stdout",
     "output_type": "stream",
     "text": [
      "cv score 0.6491111669598727\n"
     ]
    }
   ],
   "source": [
    "# cross validation logistic regression\n",
    "score=cross_val_score(lr,x,y,cv=5)\n",
    "print('cv score',np.mean(score))"
   ]
  },
  {
   "cell_type": "markdown",
   "id": "db42a321",
   "metadata": {},
   "source": [
    "Accuarcy score is 66.89% and cross validation score is 64.91%."
   ]
  },
  {
   "cell_type": "code",
   "execution_count": null,
   "id": "a753f7ed",
   "metadata": {},
   "outputs": [],
   "source": []
  },
  {
   "cell_type": "code",
   "execution_count": null,
   "id": "9b1c2ecc",
   "metadata": {},
   "outputs": [],
   "source": []
  },
  {
   "cell_type": "code",
   "execution_count": 38,
   "id": "b12faab0",
   "metadata": {},
   "outputs": [
    {
     "name": "stdout",
     "output_type": "stream",
     "text": [
      "0.9675925925925926\n",
      "[[103   2   4   0]\n",
      " [  1  14   0   0]\n",
      " [  6   0 289   0]\n",
      " [  1   0   0  12]]\n",
      "              precision    recall  f1-score   support\n",
      "\n",
      "           0       0.93      0.94      0.94       109\n",
      "           1       0.88      0.93      0.90        15\n",
      "           2       0.99      0.98      0.98       295\n",
      "           3       1.00      0.92      0.96        13\n",
      "\n",
      "    accuracy                           0.97       432\n",
      "   macro avg       0.95      0.95      0.95       432\n",
      "weighted avg       0.97      0.97      0.97       432\n",
      "\n"
     ]
    }
   ],
   "source": [
    "# random forest classifier\n",
    "rf=RandomForestClassifier()\n",
    "rf.fit(x_train,y_train)\n",
    "pred_y=rf.predict(x_test)\n",
    "print(accuracy_score(y_test,pred_y))\n",
    "print(confusion_matrix(y_test,pred_y))\n",
    "print(classification_report(y_test,pred_y))"
   ]
  },
  {
   "cell_type": "code",
   "execution_count": 41,
   "id": "7edaa46b",
   "metadata": {},
   "outputs": [
    {
     "name": "stdout",
     "output_type": "stream",
     "text": [
      "cv score 0.7980179274524588\n"
     ]
    }
   ],
   "source": [
    "# cross validation random forest classifier\n",
    "score=cross_val_score(rf,x,y,cv=5)\n",
    "print('cv score',np.mean(score))"
   ]
  },
  {
   "cell_type": "markdown",
   "id": "39037f7b",
   "metadata": {},
   "source": [
    "Accuarcy score is 96.75% and cv score is 79.80%."
   ]
  },
  {
   "cell_type": "code",
   "execution_count": null,
   "id": "5278ad0b",
   "metadata": {},
   "outputs": [],
   "source": []
  },
  {
   "cell_type": "code",
   "execution_count": null,
   "id": "60d44f31",
   "metadata": {},
   "outputs": [],
   "source": []
  },
  {
   "cell_type": "code",
   "execution_count": 45,
   "id": "3aed9075",
   "metadata": {},
   "outputs": [
    {
     "name": "stdout",
     "output_type": "stream",
     "text": [
      "0.9652777777777778\n",
      "[[103   1   5   0]\n",
      " [  1  11   3   0]\n",
      " [  4   0 291   0]\n",
      " [  1   0   0  12]]\n",
      "              precision    recall  f1-score   support\n",
      "\n",
      "           0       0.94      0.94      0.94       109\n",
      "           1       0.92      0.73      0.81        15\n",
      "           2       0.97      0.99      0.98       295\n",
      "           3       1.00      0.92      0.96        13\n",
      "\n",
      "    accuracy                           0.97       432\n",
      "   macro avg       0.96      0.90      0.92       432\n",
      "weighted avg       0.96      0.97      0.96       432\n",
      "\n"
     ]
    }
   ],
   "source": [
    "# Decision tree classifier\n",
    "dt=DecisionTreeClassifier()\n",
    "dt.fit(x_train,y_train)\n",
    "pred_y=dt.predict(x_test)\n",
    "print(accuracy_score(y_test,pred_y))\n",
    "print(confusion_matrix(y_test,pred_y))\n",
    "print(classification_report(y_test,pred_y))"
   ]
  },
  {
   "cell_type": "code",
   "execution_count": 46,
   "id": "7c5300fc",
   "metadata": {},
   "outputs": [
    {
     "name": "stdout",
     "output_type": "stream",
     "text": [
      "cv score 0.7875864957694563\n"
     ]
    }
   ],
   "source": [
    "# cross validation decision tree classifier\n",
    "score=cross_val_score(dt,x,y,cv=5)\n",
    "print('cv score',np.mean(score))"
   ]
  },
  {
   "cell_type": "markdown",
   "id": "abd84a92",
   "metadata": {},
   "source": [
    "Accuracy score is 96.52% and cv score is 75.75%."
   ]
  },
  {
   "cell_type": "code",
   "execution_count": null,
   "id": "a5e0ecde",
   "metadata": {},
   "outputs": [],
   "source": []
  },
  {
   "cell_type": "code",
   "execution_count": null,
   "id": "14621a90",
   "metadata": {},
   "outputs": [],
   "source": []
  },
  {
   "cell_type": "code",
   "execution_count": 47,
   "id": "e4445bcc",
   "metadata": {},
   "outputs": [
    {
     "name": "stdout",
     "output_type": "stream",
     "text": [
      "0.75\n",
      "[[ 58   0  36  15]\n",
      " [ 13   0   0   2]\n",
      " [ 42   0 253   0]\n",
      " [  0   0   0  13]]\n",
      "              precision    recall  f1-score   support\n",
      "\n",
      "           0       0.51      0.53      0.52       109\n",
      "           1       0.00      0.00      0.00        15\n",
      "           2       0.88      0.86      0.87       295\n",
      "           3       0.43      1.00      0.60        13\n",
      "\n",
      "    accuracy                           0.75       432\n",
      "   macro avg       0.46      0.60      0.50       432\n",
      "weighted avg       0.74      0.75      0.74       432\n",
      "\n"
     ]
    }
   ],
   "source": [
    "# adaboost classifier\n",
    "ad=AdaBoostClassifier()\n",
    "ad.fit(x_train,y_train)\n",
    "pred_y=ad.predict(x_test)\n",
    "print(accuracy_score(y_test,pred_y))\n",
    "print(confusion_matrix(y_test,pred_y))\n",
    "print(classification_report(y_test,pred_y))"
   ]
  },
  {
   "cell_type": "code",
   "execution_count": 48,
   "id": "57b0ac70",
   "metadata": {},
   "outputs": [
    {
     "name": "stdout",
     "output_type": "stream",
     "text": [
      "cv score 0.7024227192762\n"
     ]
    }
   ],
   "source": [
    "# cross validation adaboost classifier\n",
    "score=cross_val_score(ad,x,y,cv=5)\n",
    "print('cv score',np.mean(score))"
   ]
  },
  {
   "cell_type": "markdown",
   "id": "44f0d190",
   "metadata": {},
   "source": [
    "Accuarcy score is 75% and cv score is 70.24%."
   ]
  },
  {
   "cell_type": "markdown",
   "id": "857d1ff6",
   "metadata": {},
   "source": [
    "So our models are predicting well and decision tree classifier is giving accuracy score 96.52% and cv score is 78.75% so we will take decision tree classifier in hyper parameter tuning. "
   ]
  },
  {
   "cell_type": "code",
   "execution_count": null,
   "id": "32d71588",
   "metadata": {},
   "outputs": [],
   "source": []
  },
  {
   "cell_type": "markdown",
   "id": "94e91cbf",
   "metadata": {},
   "source": [
    "# Hyper Parameter Tuning"
   ]
  },
  {
   "cell_type": "code",
   "execution_count": 54,
   "id": "f0588f77",
   "metadata": {},
   "outputs": [
    {
     "name": "stdout",
     "output_type": "stream",
     "text": [
      "{'criterion': 'entropy'}\n",
      "0.7725257602412666\n"
     ]
    }
   ],
   "source": [
    "from sklearn import datasets\n",
    "from sklearn.model_selection import GridSearchCV\n",
    "\n",
    "dt=DecisionTreeClassifier(max_depth=6,random_state=0)\n",
    "\n",
    "grid_param={'criterion':['ginny','entropy']}\n",
    "\n",
    "gd_sr=GridSearchCV(estimator=dt,\n",
    "                  param_grid=grid_param,\n",
    "                  scoring='accuracy',\n",
    "                  cv=5)\n",
    "\n",
    "gd_sr.fit(x,y)\n",
    "\n",
    "best_parameters=gd_sr.best_params_\n",
    "print(best_parameters)\n",
    "best_result=gd_sr.best_score_\n",
    "print(best_result)"
   ]
  },
  {
   "cell_type": "markdown",
   "id": "ab015154",
   "metadata": {},
   "source": [
    "# Final Model"
   ]
  },
  {
   "cell_type": "code",
   "execution_count": 55,
   "id": "7f6ab656",
   "metadata": {},
   "outputs": [
    {
     "name": "stdout",
     "output_type": "stream",
     "text": [
      "100.0\n"
     ]
    }
   ],
   "source": [
    "final_model=DecisionTreeClassifier(criterion='entropy')\n",
    "final_model.fit(x,y)\n",
    "pred_y=final_model.predict(x_test)\n",
    "acc=accuracy_score(y_test,pred_y)\n",
    "print(acc*100)"
   ]
  },
  {
   "cell_type": "markdown",
   "id": "b815b3aa",
   "metadata": {},
   "source": [
    "So we are getting 100% accuracy score after hyper parameter tuning."
   ]
  },
  {
   "cell_type": "markdown",
   "id": "a898adb9",
   "metadata": {},
   "source": [
    "# saving the model"
   ]
  },
  {
   "cell_type": "code",
   "execution_count": 56,
   "id": "d01f3a13",
   "metadata": {},
   "outputs": [],
   "source": [
    "import pickle\n",
    "filename='car_evaluation.pickle'\n",
    "pickle.dump(rf,open(filename,'wb'))"
   ]
  },
  {
   "cell_type": "markdown",
   "id": "de25dd80",
   "metadata": {},
   "source": [
    "# conclusion"
   ]
  },
  {
   "cell_type": "code",
   "execution_count": 57,
   "id": "9e17f433",
   "metadata": {},
   "outputs": [
    {
     "name": "stdout",
     "output_type": "stream",
     "text": [
      "0.9699074074074074\n"
     ]
    }
   ],
   "source": [
    "loded_model=pickle.load(open('car_evaluation.pickle','rb'))\n",
    "loded_model.fit(x_train,y_train)\n",
    "result=loded_model.score(x_test,y_test)\n",
    "print(result)"
   ]
  },
  {
   "cell_type": "markdown",
   "id": "cfaad7aa",
   "metadata": {},
   "source": [
    "With the help of MODEL , I learnt how to done EDA.\n",
    "\n",
    "I also learnt ,making use of packages like matplotlib and seaborn to develop better insights of the data.\n",
    "\n",
    "I have also learnt how to remove outliers and skewness to predict better accuracy.\n",
    "\n",
    "I have also seen the impacts on the columns on target columns..\n",
    "\n",
    "I came to know through the analysis ,which model will predict better accuracy.\n",
    "\n",
    "This project helped me to gain deep knowledge , and also get to know where to use models.\n",
    "\n",
    "​"
   ]
  },
  {
   "cell_type": "code",
   "execution_count": null,
   "id": "412d3143",
   "metadata": {},
   "outputs": [],
   "source": []
  }
 ],
 "metadata": {
  "kernelspec": {
   "display_name": "Python 3",
   "language": "python",
   "name": "python3"
  },
  "language_info": {
   "codemirror_mode": {
    "name": "ipython",
    "version": 3
   },
   "file_extension": ".py",
   "mimetype": "text/x-python",
   "name": "python",
   "nbconvert_exporter": "python",
   "pygments_lexer": "ipython3",
   "version": "3.8.10"
  }
 },
 "nbformat": 4,
 "nbformat_minor": 5
}
