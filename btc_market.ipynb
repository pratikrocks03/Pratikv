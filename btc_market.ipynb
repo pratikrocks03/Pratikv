{
 "cells": [
  {
   "cell_type": "markdown",
   "id": "94226507",
   "metadata": {},
   "source": [
    "# Importing Libraries"
   ]
  },
  {
   "cell_type": "code",
   "execution_count": 27,
   "id": "b7d47540",
   "metadata": {},
   "outputs": [],
   "source": [
    "import pandas as pd\n",
    "import numpy as np\n",
    "import seaborn as sns\n",
    "import matplotlib.pyplot as plt\n",
    "import warnings\n",
    "warnings.filterwarnings('ignore')\n",
    "from sklearn.preprocessing import MinMaxScaler"
   ]
  },
  {
   "cell_type": "markdown",
   "id": "0ecf4aac",
   "metadata": {},
   "source": [
    "# Loading the Dataset"
   ]
  },
  {
   "cell_type": "code",
   "execution_count": 49,
   "id": "404957e3",
   "metadata": {},
   "outputs": [],
   "source": [
    "df1=pd.read_csv(\"btc_training.csv\")"
   ]
  },
  {
   "cell_type": "code",
   "execution_count": 50,
   "id": "359156d4",
   "metadata": {},
   "outputs": [],
   "source": [
    "df2=pd.read_csv(\"btc_test.csv\")"
   ]
  },
  {
   "cell_type": "markdown",
   "id": "e6aa8abf",
   "metadata": {},
   "source": [
    "# Analysing the Patterns of the training Dataset"
   ]
  },
  {
   "cell_type": "code",
   "execution_count": 5,
   "id": "a8236d3f",
   "metadata": {},
   "outputs": [
    {
     "data": {
      "text/html": [
       "<div>\n",
       "<style scoped>\n",
       "    .dataframe tbody tr th:only-of-type {\n",
       "        vertical-align: middle;\n",
       "    }\n",
       "\n",
       "    .dataframe tbody tr th {\n",
       "        vertical-align: top;\n",
       "    }\n",
       "\n",
       "    .dataframe thead th {\n",
       "        text-align: right;\n",
       "    }\n",
       "</style>\n",
       "<table border=\"1\" class=\"dataframe\">\n",
       "  <thead>\n",
       "    <tr style=\"text-align: right;\">\n",
       "      <th></th>\n",
       "      <th>Date</th>\n",
       "      <th>Open</th>\n",
       "      <th>High</th>\n",
       "      <th>Low</th>\n",
       "      <th>Close</th>\n",
       "      <th>Adj Close</th>\n",
       "      <th>Volume</th>\n",
       "    </tr>\n",
       "  </thead>\n",
       "  <tbody>\n",
       "    <tr>\n",
       "      <th>0</th>\n",
       "      <td>2016-01-01</td>\n",
       "      <td>430.721008</td>\n",
       "      <td>436.246002</td>\n",
       "      <td>427.515015</td>\n",
       "      <td>434.334015</td>\n",
       "      <td>434.334015</td>\n",
       "      <td>36278900</td>\n",
       "    </tr>\n",
       "    <tr>\n",
       "      <th>1</th>\n",
       "      <td>2016-01-02</td>\n",
       "      <td>434.622009</td>\n",
       "      <td>436.062012</td>\n",
       "      <td>431.869995</td>\n",
       "      <td>433.437988</td>\n",
       "      <td>433.437988</td>\n",
       "      <td>30096600</td>\n",
       "    </tr>\n",
       "    <tr>\n",
       "      <th>2</th>\n",
       "      <td>2016-01-03</td>\n",
       "      <td>433.578003</td>\n",
       "      <td>433.743011</td>\n",
       "      <td>424.705994</td>\n",
       "      <td>430.010986</td>\n",
       "      <td>430.010986</td>\n",
       "      <td>39633800</td>\n",
       "    </tr>\n",
       "    <tr>\n",
       "      <th>3</th>\n",
       "      <td>2016-01-04</td>\n",
       "      <td>430.061005</td>\n",
       "      <td>434.516998</td>\n",
       "      <td>429.084015</td>\n",
       "      <td>433.091003</td>\n",
       "      <td>433.091003</td>\n",
       "      <td>38477500</td>\n",
       "    </tr>\n",
       "    <tr>\n",
       "      <th>4</th>\n",
       "      <td>2016-01-05</td>\n",
       "      <td>433.069000</td>\n",
       "      <td>434.182007</td>\n",
       "      <td>429.675995</td>\n",
       "      <td>431.959991</td>\n",
       "      <td>431.959991</td>\n",
       "      <td>34522600</td>\n",
       "    </tr>\n",
       "  </tbody>\n",
       "</table>\n",
       "</div>"
      ],
      "text/plain": [
       "         Date        Open        High         Low       Close   Adj Close  \\\n",
       "0  2016-01-01  430.721008  436.246002  427.515015  434.334015  434.334015   \n",
       "1  2016-01-02  434.622009  436.062012  431.869995  433.437988  433.437988   \n",
       "2  2016-01-03  433.578003  433.743011  424.705994  430.010986  430.010986   \n",
       "3  2016-01-04  430.061005  434.516998  429.084015  433.091003  433.091003   \n",
       "4  2016-01-05  433.069000  434.182007  429.675995  431.959991  431.959991   \n",
       "\n",
       "     Volume  \n",
       "0  36278900  \n",
       "1  30096600  \n",
       "2  39633800  \n",
       "3  38477500  \n",
       "4  34522600  "
      ]
     },
     "execution_count": 5,
     "metadata": {},
     "output_type": "execute_result"
    }
   ],
   "source": [
    "df1.head()"
   ]
  },
  {
   "cell_type": "code",
   "execution_count": 6,
   "id": "1960411c",
   "metadata": {},
   "outputs": [
    {
     "name": "stdout",
     "output_type": "stream",
     "text": [
      "<class 'pandas.core.frame.DataFrame'>\n",
      "RangeIndex: 2193 entries, 0 to 2192\n",
      "Data columns (total 7 columns):\n",
      " #   Column     Non-Null Count  Dtype  \n",
      "---  ------     --------------  -----  \n",
      " 0   Date       2193 non-null   object \n",
      " 1   Open       2193 non-null   float64\n",
      " 2   High       2193 non-null   float64\n",
      " 3   Low        2193 non-null   float64\n",
      " 4   Close      2193 non-null   float64\n",
      " 5   Adj Close  2193 non-null   float64\n",
      " 6   Volume     2193 non-null   int64  \n",
      "dtypes: float64(5), int64(1), object(1)\n",
      "memory usage: 120.1+ KB\n"
     ]
    }
   ],
   "source": [
    "df1.info()"
   ]
  },
  {
   "cell_type": "markdown",
   "id": "92e122af",
   "metadata": {},
   "source": [
    "5 float datatype column and 1 object and 1 integer datatype column present in the dataset."
   ]
  },
  {
   "cell_type": "code",
   "execution_count": 7,
   "id": "4c50830c",
   "metadata": {},
   "outputs": [
    {
     "data": {
      "text/plain": [
       "(2193, 7)"
      ]
     },
     "execution_count": 7,
     "metadata": {},
     "output_type": "execute_result"
    }
   ],
   "source": [
    "# Checking shape\n",
    "df1.shape"
   ]
  },
  {
   "cell_type": "markdown",
   "id": "0ecba73a",
   "metadata": {},
   "source": [
    "2193 rows and 7 columns present in the dataset."
   ]
  },
  {
   "cell_type": "code",
   "execution_count": 8,
   "id": "2f386810",
   "metadata": {},
   "outputs": [
    {
     "data": {
      "text/plain": [
       "Date         0\n",
       "Open         0\n",
       "High         0\n",
       "Low          0\n",
       "Close        0\n",
       "Adj Close    0\n",
       "Volume       0\n",
       "dtype: int64"
      ]
     },
     "execution_count": 8,
     "metadata": {},
     "output_type": "execute_result"
    }
   ],
   "source": [
    "# Checking Null values\n",
    "df1.isnull().sum()"
   ]
  },
  {
   "cell_type": "markdown",
   "id": "d9c475f4",
   "metadata": {},
   "source": [
    "Null values are present most of the columns."
   ]
  },
  {
   "cell_type": "code",
   "execution_count": 9,
   "id": "7fd18434",
   "metadata": {},
   "outputs": [],
   "source": [
    "# Handling the Date column\n",
    "df1[\"Date\"] = pd.to_datetime(df1[\"Date\"])\n",
    "df1[\"Year\"]= df1[\"Date\"].dt.year\n",
    "df1[\"Month\"]= df1[\"Date\"].dt.month\n",
    "df1[\"Day\"]= df1[\"Date\"].dt.day\n"
   ]
  },
  {
   "cell_type": "markdown",
   "id": "873f764c",
   "metadata": {},
   "source": [
    "So now we have extracted the Year, Month and Day from the Date Column.\n"
   ]
  },
  {
   "cell_type": "code",
   "execution_count": 10,
   "id": "6c5d84cd",
   "metadata": {},
   "outputs": [],
   "source": [
    "# Deleting Date Column\n",
    "del df1['Date']"
   ]
  },
  {
   "cell_type": "code",
   "execution_count": 11,
   "id": "41cd3421",
   "metadata": {},
   "outputs": [
    {
     "data": {
      "text/plain": [
       "(2193, 9)"
      ]
     },
     "execution_count": 11,
     "metadata": {},
     "output_type": "execute_result"
    }
   ],
   "source": [
    "df1.shape"
   ]
  },
  {
   "cell_type": "markdown",
   "id": "75ea33bd",
   "metadata": {},
   "source": [
    "Now 2193 rows and 9 columns present in the Dataset."
   ]
  },
  {
   "cell_type": "code",
   "execution_count": null,
   "id": "d4a5dcb3",
   "metadata": {},
   "outputs": [],
   "source": []
  },
  {
   "cell_type": "markdown",
   "id": "1c851f9d",
   "metadata": {},
   "source": [
    "# EDA Nominal data"
   ]
  },
  {
   "cell_type": "code",
   "execution_count": 12,
   "id": "80a6e181",
   "metadata": {},
   "outputs": [
    {
     "data": {
      "text/plain": [
       "Index(['Open', 'High', 'Low', 'Close', 'Adj Close', 'Volume', 'Year', 'Month',\n",
       "       'Day'],\n",
       "      dtype='object')"
      ]
     },
     "execution_count": 12,
     "metadata": {},
     "output_type": "execute_result"
    }
   ],
   "source": [
    "df1.columns"
   ]
  },
  {
   "cell_type": "code",
   "execution_count": 13,
   "id": "ea3998c8",
   "metadata": {},
   "outputs": [
    {
     "name": "stdout",
     "output_type": "stream",
     "text": [
      "2016    366\n",
      "2020    366\n",
      "2018    365\n",
      "2017    365\n",
      "2019    365\n",
      "2021    365\n",
      "2022      1\n",
      "Name: Year, dtype: int64\n"
     ]
    },
    {
     "data": {
      "image/png": "[encoded data removed]",
      "text/plain": [
       "<Figure size 432x288 with 1 Axes>"
      ]
     },
     "metadata": {
      "needs_background": "light"
     },
     "output_type": "display_data"
    }
   ],
   "source": [
    "ax=sns.countplot(x='Year',data=df1)\n",
    "print(df1['Year'].value_counts())\n",
    "ax.set_xticklabels(ax.get_xticklabels(),rotation=90, ha='right')\n",
    "plt.tight_layout()"
   ]
  },
  {
   "cell_type": "markdown",
   "id": "0650967d",
   "metadata": {},
   "source": [
    "Year is in range from 2016 to 2022 and figure is showing that there is not much noicable difference betweeen them and 2022 is less because it just started."
   ]
  },
  {
   "cell_type": "code",
   "execution_count": 14,
   "id": "d819a253",
   "metadata": {},
   "outputs": [
    {
     "name": "stdout",
     "output_type": "stream",
     "text": [
      "1     187\n",
      "8     186\n",
      "10    186\n",
      "12    186\n",
      "3     186\n",
      "5     186\n",
      "7     186\n",
      "4     180\n",
      "6     180\n",
      "9     180\n",
      "11    180\n",
      "2     170\n",
      "Name: Month, dtype: int64\n"
     ]
    },
    {
     "data": {
      "image/png": "[encoded data removed]",
      "text/plain": [
       "<Figure size 432x288 with 1 Axes>"
      ]
     },
     "metadata": {
      "needs_background": "light"
     },
     "output_type": "display_data"
    }
   ],
   "source": [
    "ax=sns.countplot(x='Month',data=df1)\n",
    "print(df1['Month'].value_counts())\n",
    "ax.set_xticklabels(ax.get_xticklabels(),rotation=90, ha='right')\n",
    "plt.tight_layout()"
   ]
  },
  {
   "cell_type": "markdown",
   "id": "6a54763b",
   "metadata": {},
   "source": [
    "According to the figure there is not much differnce in any of the month."
   ]
  },
  {
   "cell_type": "markdown",
   "id": "74ea0d18",
   "metadata": {},
   "source": [
    "# EDA Continuous Data"
   ]
  },
  {
   "cell_type": "code",
   "execution_count": 15,
   "id": "b7f13d4e",
   "metadata": {},
   "outputs": [
    {
     "data": {
      "text/plain": [
       "<AxesSubplot:xlabel='Open', ylabel='Density'>"
      ]
     },
     "execution_count": 15,
     "metadata": {},
     "output_type": "execute_result"
    },
    {
     "data": {
      "image/png": "[encoded data removed]",
      "text/plain": [
       "<Figure size 432x288 with 1 Axes>"
      ]
     },
     "metadata": {
      "needs_background": "light"
     },
     "output_type": "display_data"
    }
   ],
   "source": [
    "sns.distplot(df1['Open'])"
   ]
  },
  {
   "cell_type": "markdown",
   "id": "4ea90291",
   "metadata": {},
   "source": [
    "Open is in range from 0 to 80000 and most of the amount is in range from 0 to 17000 approx."
   ]
  },
  {
   "cell_type": "code",
   "execution_count": null,
   "id": "61cf3c01",
   "metadata": {},
   "outputs": [],
   "source": []
  },
  {
   "cell_type": "code",
   "execution_count": 16,
   "id": "f66af524",
   "metadata": {},
   "outputs": [
    {
     "data": {
      "text/plain": [
       "<AxesSubplot:xlabel='High', ylabel='Density'>"
      ]
     },
     "execution_count": 16,
     "metadata": {},
     "output_type": "execute_result"
    },
    {
     "data": {
      "image/png": "[encoded data removed]",
      "text/plain": [
       "<Figure size 432x288 with 1 Axes>"
      ]
     },
     "metadata": {
      "needs_background": "light"
     },
     "output_type": "display_data"
    }
   ],
   "source": [
    "sns.distplot(df1['High'])"
   ]
  },
  {
   "cell_type": "markdown",
   "id": "3cfb8827",
   "metadata": {},
   "source": [
    "Most of the amount in High column is in range from 0 to 80000 and lesser amount is in range from 0 to 17000 approx."
   ]
  },
  {
   "cell_type": "code",
   "execution_count": null,
   "id": "913fa1b9",
   "metadata": {},
   "outputs": [],
   "source": []
  },
  {
   "cell_type": "code",
   "execution_count": 17,
   "id": "03f97fb0",
   "metadata": {},
   "outputs": [
    {
     "data": {
      "text/plain": [
       "<AxesSubplot:xlabel='Low', ylabel='Density'>"
      ]
     },
     "execution_count": 17,
     "metadata": {},
     "output_type": "execute_result"
    },
    {
     "data": {
      "image/png": "[encoded data removed]",
      "text/plain": [
       "<Figure size 432x288 with 1 Axes>"
      ]
     },
     "metadata": {
      "needs_background": "light"
     },
     "output_type": "display_data"
    }
   ],
   "source": [
    "sns.distplot(df1['Low'])"
   ]
  },
  {
   "cell_type": "markdown",
   "id": "82292cf8",
   "metadata": {},
   "source": [
    "Most of the amount in Low column is in range from 0 to 80000 and lesser amount is in range from 0 to 17000 approx."
   ]
  },
  {
   "cell_type": "code",
   "execution_count": null,
   "id": "ae9d2f3c",
   "metadata": {},
   "outputs": [],
   "source": []
  },
  {
   "cell_type": "code",
   "execution_count": 18,
   "id": "d4150466",
   "metadata": {},
   "outputs": [
    {
     "data": {
      "text/plain": [
       "<AxesSubplot:xlabel='Adj Close', ylabel='Density'>"
      ]
     },
     "execution_count": 18,
     "metadata": {},
     "output_type": "execute_result"
    },
    {
     "data": {
      "image/png": "[encoded data removed]",
      "text/plain": [
       "<Figure size 432x288 with 1 Axes>"
      ]
     },
     "metadata": {
      "needs_background": "light"
     },
     "output_type": "display_data"
    }
   ],
   "source": [
    "sns.distplot(df1['Adj Close'])"
   ]
  },
  {
   "cell_type": "markdown",
   "id": "72394842",
   "metadata": {},
   "source": [
    "Most of the amount in Adj Close column is in range from 0 to 80000 and lesser amount is in range from 0 to 17000 approx."
   ]
  },
  {
   "cell_type": "markdown",
   "id": "cd2b20ef",
   "metadata": {},
   "source": [
    "# Statistical Summary"
   ]
  },
  {
   "cell_type": "code",
   "execution_count": 20,
   "id": "69ea6696",
   "metadata": {},
   "outputs": [
    {
     "data": {
      "text/html": [
       "<div>\n",
       "<style scoped>\n",
       "    .dataframe tbody tr th:only-of-type {\n",
       "        vertical-align: middle;\n",
       "    }\n",
       "\n",
       "    .dataframe tbody tr th {\n",
       "        vertical-align: top;\n",
       "    }\n",
       "\n",
       "    .dataframe thead th {\n",
       "        text-align: right;\n",
       "    }\n",
       "</style>\n",
       "<table border=\"1\" class=\"dataframe\">\n",
       "  <thead>\n",
       "    <tr style=\"text-align: right;\">\n",
       "      <th></th>\n",
       "      <th>Open</th>\n",
       "      <th>High</th>\n",
       "      <th>Low</th>\n",
       "      <th>Close</th>\n",
       "      <th>Adj Close</th>\n",
       "      <th>Volume</th>\n",
       "      <th>Year</th>\n",
       "      <th>Month</th>\n",
       "      <th>Day</th>\n",
       "    </tr>\n",
       "  </thead>\n",
       "  <tbody>\n",
       "    <tr>\n",
       "      <th>count</th>\n",
       "      <td>2193.000000</td>\n",
       "      <td>2193.000000</td>\n",
       "      <td>2193.000000</td>\n",
       "      <td>2193.000000</td>\n",
       "      <td>2193.000000</td>\n",
       "      <td>2.193000e+03</td>\n",
       "      <td>2193.000000</td>\n",
       "      <td>2193.000000</td>\n",
       "      <td>2193.000000</td>\n",
       "    </tr>\n",
       "    <tr>\n",
       "      <th>mean</th>\n",
       "      <td>13005.792871</td>\n",
       "      <td>13362.996536</td>\n",
       "      <td>12616.080147</td>\n",
       "      <td>13025.164563</td>\n",
       "      <td>13025.164563</td>\n",
       "      <td>1.757591e+10</td>\n",
       "      <td>2018.501140</td>\n",
       "      <td>6.519380</td>\n",
       "      <td>15.725946</td>\n",
       "    </tr>\n",
       "    <tr>\n",
       "      <th>std</th>\n",
       "      <td>16479.996404</td>\n",
       "      <td>16935.236723</td>\n",
       "      <td>15960.649705</td>\n",
       "      <td>16489.530523</td>\n",
       "      <td>16489.530523</td>\n",
       "      <td>2.085247e+10</td>\n",
       "      <td>1.709816</td>\n",
       "      <td>3.451001</td>\n",
       "      <td>8.806991</td>\n",
       "    </tr>\n",
       "    <tr>\n",
       "      <th>min</th>\n",
       "      <td>365.072998</td>\n",
       "      <td>374.950012</td>\n",
       "      <td>354.914001</td>\n",
       "      <td>364.330994</td>\n",
       "      <td>364.330994</td>\n",
       "      <td>2.851400e+07</td>\n",
       "      <td>2016.000000</td>\n",
       "      <td>1.000000</td>\n",
       "      <td>1.000000</td>\n",
       "    </tr>\n",
       "    <tr>\n",
       "      <th>25%</th>\n",
       "      <td>2577.770020</td>\n",
       "      <td>2682.260010</td>\n",
       "      <td>2510.479980</td>\n",
       "      <td>2589.409912</td>\n",
       "      <td>2589.409912</td>\n",
       "      <td>1.182870e+09</td>\n",
       "      <td>2017.000000</td>\n",
       "      <td>4.000000</td>\n",
       "      <td>8.000000</td>\n",
       "    </tr>\n",
       "    <tr>\n",
       "      <th>50%</th>\n",
       "      <td>7397.134277</td>\n",
       "      <td>7535.716797</td>\n",
       "      <td>7233.399414</td>\n",
       "      <td>7397.796875</td>\n",
       "      <td>7397.796875</td>\n",
       "      <td>9.175292e+09</td>\n",
       "      <td>2019.000000</td>\n",
       "      <td>7.000000</td>\n",
       "      <td>16.000000</td>\n",
       "    </tr>\n",
       "    <tr>\n",
       "      <th>75%</th>\n",
       "      <td>11354.299805</td>\n",
       "      <td>11570.786133</td>\n",
       "      <td>11018.129883</td>\n",
       "      <td>11358.662109</td>\n",
       "      <td>11358.662109</td>\n",
       "      <td>2.886756e+10</td>\n",
       "      <td>2020.000000</td>\n",
       "      <td>10.000000</td>\n",
       "      <td>23.000000</td>\n",
       "    </tr>\n",
       "    <tr>\n",
       "      <th>max</th>\n",
       "      <td>67549.734375</td>\n",
       "      <td>68789.625000</td>\n",
       "      <td>66382.062500</td>\n",
       "      <td>67566.828125</td>\n",
       "      <td>67566.828125</td>\n",
       "      <td>3.509679e+11</td>\n",
       "      <td>2022.000000</td>\n",
       "      <td>12.000000</td>\n",
       "      <td>31.000000</td>\n",
       "    </tr>\n",
       "  </tbody>\n",
       "</table>\n",
       "</div>"
      ],
      "text/plain": [
       "               Open          High           Low         Close     Adj Close  \\\n",
       "count   2193.000000   2193.000000   2193.000000   2193.000000   2193.000000   \n",
       "mean   13005.792871  13362.996536  12616.080147  13025.164563  13025.164563   \n",
       "std    16479.996404  16935.236723  15960.649705  16489.530523  16489.530523   \n",
       "min      365.072998    374.950012    354.914001    364.330994    364.330994   \n",
       "25%     2577.770020   2682.260010   2510.479980   2589.409912   2589.409912   \n",
       "50%     7397.134277   7535.716797   7233.399414   7397.796875   7397.796875   \n",
       "75%    11354.299805  11570.786133  11018.129883  11358.662109  11358.662109   \n",
       "max    67549.734375  68789.625000  66382.062500  67566.828125  67566.828125   \n",
       "\n",
       "             Volume         Year        Month          Day  \n",
       "count  2.193000e+03  2193.000000  2193.000000  2193.000000  \n",
       "mean   1.757591e+10  2018.501140     6.519380    15.725946  \n",
       "std    2.085247e+10     1.709816     3.451001     8.806991  \n",
       "min    2.851400e+07  2016.000000     1.000000     1.000000  \n",
       "25%    1.182870e+09  2017.000000     4.000000     8.000000  \n",
       "50%    9.175292e+09  2019.000000     7.000000    16.000000  \n",
       "75%    2.886756e+10  2020.000000    10.000000    23.000000  \n",
       "max    3.509679e+11  2022.000000    12.000000    31.000000  "
      ]
     },
     "execution_count": 20,
     "metadata": {},
     "output_type": "execute_result"
    }
   ],
   "source": [
    "df1.describe()"
   ]
  },
  {
   "cell_type": "markdown",
   "id": "6ed32a16",
   "metadata": {},
   "source": [
    "Number of values is same in all the columns except volume.\n",
    "\n",
    "There is some difference between mean and median(50%)\n",
    "\n",
    "There is some difference between 75% and max."
   ]
  },
  {
   "cell_type": "markdown",
   "id": "a48d0ebb",
   "metadata": {},
   "source": [
    "# Checking Correlations"
   ]
  },
  {
   "cell_type": "code",
   "execution_count": 21,
   "id": "5b530125",
   "metadata": {},
   "outputs": [
    {
     "data": {
      "text/plain": [
       "<AxesSubplot:>"
      ]
     },
     "execution_count": 21,
     "metadata": {},
     "output_type": "execute_result"
    },
    {
     "data": {
      "image/png": "[encoded data removed]",
      "text/plain": [
       "<Figure size 1584x864 with 2 Axes>"
      ]
     },
     "metadata": {
      "needs_background": "light"
     },
     "output_type": "display_data"
    }
   ],
   "source": [
    "plt.figure(figsize=(22,12))\n",
    "sns.heatmap(df1.corr(),annot=True,linewidths =0.1,fmt='0.2f')"
   ]
  },
  {
   "cell_type": "markdown",
   "id": "21a188cb",
   "metadata": {},
   "source": [
    "Most of the column is positively correlated with the target column volume.\n",
    "\n",
    "Year column is positively correlated with most of the coulmn."
   ]
  },
  {
   "cell_type": "markdown",
   "id": "4c421ca2",
   "metadata": {},
   "source": [
    "# Now we need only 2 columns for model building that is open and close"
   ]
  },
  {
   "cell_type": "code",
   "execution_count": 51,
   "id": "ea03b19a",
   "metadata": {},
   "outputs": [],
   "source": [
    "training_set = df1.iloc[:, 1:2].values"
   ]
  },
  {
   "cell_type": "markdown",
   "id": "d6088d96",
   "metadata": {},
   "source": [
    "# Feature Scaling"
   ]
  },
  {
   "cell_type": "code",
   "execution_count": 52,
   "id": "bd0b62c0",
   "metadata": {},
   "outputs": [],
   "source": [
    "sc = MinMaxScaler(feature_range = (0, 1))\n",
    "training_set_scaled = sc.fit_transform(training_set)"
   ]
  },
  {
   "cell_type": "markdown",
   "id": "ad868f6d",
   "metadata": {},
   "source": [
    "# Creating the Dataset with Time Steps"
   ]
  },
  {
   "cell_type": "code",
   "execution_count": 55,
   "id": "b4e7930d",
   "metadata": {},
   "outputs": [],
   "source": [
    "X_train = []\n",
    "y_train = []\n",
    "for i in range(60, 2193):\n",
    "    X_train.append(training_set_scaled[i-60:i, 0])\n",
    "    y_train.append(training_set_scaled[i, 0])\n",
    "X_train, y_train = np.array(X_train), np.array(y_train)\n",
    "\n",
    "X_train = np.reshape(X_train, (X_train.shape[0], X_train.shape[1], 1))"
   ]
  },
  {
   "cell_type": "code",
   "execution_count": 54,
   "id": "f1f59ed8",
   "metadata": {},
   "outputs": [
    {
     "data": {
      "text/plain": [
       "(2193, 1)"
      ]
     },
     "execution_count": 54,
     "metadata": {},
     "output_type": "execute_result"
    }
   ],
   "source": [
    "training_set.shape"
   ]
  },
  {
   "cell_type": "markdown",
   "id": "0c5a6349",
   "metadata": {},
   "source": [
    "# Now Using LSTM for Model"
   ]
  },
  {
   "cell_type": "code",
   "execution_count": 56,
   "id": "a1eaa3be",
   "metadata": {},
   "outputs": [],
   "source": [
    "from keras.models import Sequential\n",
    "from keras.layers import Dense, LSTM, Dropout"
   ]
  },
  {
   "cell_type": "code",
   "execution_count": 57,
   "id": "0fe079a0",
   "metadata": {},
   "outputs": [],
   "source": [
    "regressor = Sequential()\n",
    "\n",
    "regressor.add(LSTM(units = 50, return_sequences = True, input_shape = (X_train.shape[1], 1)))\n",
    "regressor.add(Dropout(0.2))\n",
    "\n",
    "regressor.add(LSTM(units = 50, return_sequences = True))\n",
    "regressor.add(Dropout(0.25))\n",
    "\n",
    "regressor.add(LSTM(units = 50, return_sequences = True))\n",
    "regressor.add(Dropout(0.25))\n",
    "\n",
    "regressor.add(LSTM(units = 50))\n",
    "regressor.add(Dropout(0.25))\n",
    "\n",
    "regressor.add(Dense(units = 1))"
   ]
  },
  {
   "cell_type": "code",
   "execution_count": 58,
   "id": "d1d1ea23",
   "metadata": {},
   "outputs": [
    {
     "name": "stdout",
     "output_type": "stream",
     "text": [
      "Model: \"sequential_1\"\n",
      "_________________________________________________________________\n",
      " Layer (type)                Output Shape              Param #   \n",
      "=================================================================\n",
      " lstm_3 (LSTM)               (None, 60, 50)            10400     \n",
      "                                                                 \n",
      " dropout (Dropout)           (None, 60, 50)            0         \n",
      "                                                                 \n",
      " lstm_4 (LSTM)               (None, 60, 50)            20200     \n",
      "                                                                 \n",
      " dropout_1 (Dropout)         (None, 60, 50)            0         \n",
      "                                                                 \n",
      " lstm_5 (LSTM)               (None, 60, 50)            20200     \n",
      "                                                                 \n",
      " dropout_2 (Dropout)         (None, 60, 50)            0         \n",
      "                                                                 \n",
      " lstm_6 (LSTM)               (None, 50)                20200     \n",
      "                                                                 \n",
      " dropout_3 (Dropout)         (None, 50)                0         \n",
      "                                                                 \n",
      " dense_1 (Dense)             (None, 1)                 51        \n",
      "                                                                 \n",
      "=================================================================\n",
      "Total params: 71,051\n",
      "Trainable params: 71,051\n",
      "Non-trainable params: 0\n",
      "_________________________________________________________________\n"
     ]
    }
   ],
   "source": [
    "regressor.summary()"
   ]
  },
  {
   "cell_type": "code",
   "execution_count": 60,
   "id": "731ee676",
   "metadata": {},
   "outputs": [
    {
     "name": "stdout",
     "output_type": "stream",
     "text": [
      "Epoch 1/30\n",
      "60/60 [==============================] - 25s 184ms/step - loss: 0.0011 - val_loss: 0.0110\n",
      "Epoch 2/30\n",
      "60/60 [==============================] - 8s 125ms/step - loss: 7.9252e-04 - val_loss: 0.0018\n",
      "Epoch 3/30\n",
      "60/60 [==============================] - 8s 128ms/step - loss: 7.8621e-04 - val_loss: 0.0074\n",
      "Epoch 4/30\n",
      "60/60 [==============================] - 7s 118ms/step - loss: 9.2489e-04 - val_loss: 0.0036\n",
      "Epoch 5/30\n",
      "60/60 [==============================] - 8s 131ms/step - loss: 8.2378e-04 - val_loss: 0.0022\n",
      "Epoch 6/30\n",
      "60/60 [==============================] - 7s 122ms/step - loss: 7.5923e-04 - val_loss: 0.0020\n",
      "Epoch 7/30\n",
      "60/60 [==============================] - 7s 122ms/step - loss: 7.7874e-04 - val_loss: 0.0020\n",
      "Epoch 8/30\n",
      "60/60 [==============================] - 8s 128ms/step - loss: 8.0867e-04 - val_loss: 0.0021\n",
      "Epoch 9/30\n",
      "60/60 [==============================] - 7s 113ms/step - loss: 9.2330e-04 - val_loss: 0.0019\n",
      "Epoch 10/30\n",
      "60/60 [==============================] - 7s 114ms/step - loss: 7.2157e-04 - val_loss: 0.0083\n",
      "Epoch 11/30\n",
      "60/60 [==============================] - 7s 111ms/step - loss: 7.6325e-04 - val_loss: 0.0018\n",
      "Epoch 12/30\n",
      "60/60 [==============================] - 7s 123ms/step - loss: 8.1910e-04 - val_loss: 0.0024\n",
      "Epoch 13/30\n",
      "60/60 [==============================] - 7s 113ms/step - loss: 6.5704e-04 - val_loss: 0.0021\n",
      "Epoch 14/30\n",
      "60/60 [==============================] - 7s 117ms/step - loss: 6.5528e-04 - val_loss: 0.0021\n",
      "Epoch 15/30\n",
      "60/60 [==============================] - 7s 125ms/step - loss: 7.5179e-04 - val_loss: 0.0047\n",
      "Epoch 16/30\n",
      "60/60 [==============================] - 7s 123ms/step - loss: 7.7811e-04 - val_loss: 0.0027\n",
      "Epoch 17/30\n",
      "60/60 [==============================] - 7s 124ms/step - loss: 7.9708e-04 - val_loss: 0.0022\n",
      "Epoch 18/30\n",
      "60/60 [==============================] - 8s 125ms/step - loss: 7.6173e-04 - val_loss: 0.0031\n",
      "Epoch 19/30\n",
      "60/60 [==============================] - 8s 130ms/step - loss: 8.1767e-04 - val_loss: 0.0020\n",
      "Epoch 20/30\n",
      "60/60 [==============================] - 8s 135ms/step - loss: 7.7453e-04 - val_loss: 0.0047\n",
      "Epoch 21/30\n",
      "60/60 [==============================] - 8s 128ms/step - loss: 8.0887e-04 - val_loss: 0.0028\n",
      "Epoch 22/30\n",
      "60/60 [==============================] - 7s 120ms/step - loss: 6.8877e-04 - val_loss: 0.0022\n",
      "Epoch 23/30\n",
      "60/60 [==============================] - 7s 115ms/step - loss: 7.7497e-04 - val_loss: 0.0051\n",
      "Epoch 24/30\n",
      "60/60 [==============================] - 7s 119ms/step - loss: 6.1536e-04 - val_loss: 0.0014\n",
      "Epoch 25/30\n",
      "60/60 [==============================] - 7s 123ms/step - loss: 6.5949e-04 - val_loss: 0.0020\n",
      "Epoch 26/30\n",
      "60/60 [==============================] - 7s 123ms/step - loss: 7.9811e-04 - val_loss: 0.0048\n",
      "Epoch 27/30\n",
      "60/60 [==============================] - 8s 135ms/step - loss: 7.3453e-04 - val_loss: 0.0015\n",
      "Epoch 28/30\n",
      "60/60 [==============================] - 7s 119ms/step - loss: 6.4868e-04 - val_loss: 0.0022\n",
      "Epoch 29/30\n",
      "60/60 [==============================] - 9s 149ms/step - loss: 7.4883e-04 - val_loss: 0.0022\n",
      "Epoch 30/30\n",
      "60/60 [==============================] - 7s 118ms/step - loss: 5.9424e-04 - val_loss: 0.0018\n"
     ]
    },
    {
     "data": {
      "text/plain": [
       "<keras.callbacks.History at 0x1b751b19790>"
      ]
     },
     "execution_count": 60,
     "metadata": {},
     "output_type": "execute_result"
    }
   ],
   "source": [
    "regressor.compile(optimizer = 'adam', loss = 'mean_squared_error')\n",
    "\n",
    "regressor.fit(X_train, y_train, epochs = 30, batch_size = 32, validation_split=0.1)"
   ]
  },
  {
   "cell_type": "markdown",
   "id": "f5d2a93e",
   "metadata": {},
   "source": [
    "# Prediction on Test data"
   ]
  },
  {
   "cell_type": "code",
   "execution_count": 66,
   "id": "451483b0",
   "metadata": {},
   "outputs": [
    {
     "data": {
      "text/html": [
       "<div>\n",
       "<style scoped>\n",
       "    .dataframe tbody tr th:only-of-type {\n",
       "        vertical-align: middle;\n",
       "    }\n",
       "\n",
       "    .dataframe tbody tr th {\n",
       "        vertical-align: top;\n",
       "    }\n",
       "\n",
       "    .dataframe thead th {\n",
       "        text-align: right;\n",
       "    }\n",
       "</style>\n",
       "<table border=\"1\" class=\"dataframe\">\n",
       "  <thead>\n",
       "    <tr style=\"text-align: right;\">\n",
       "      <th></th>\n",
       "      <th>Date</th>\n",
       "      <th>Open</th>\n",
       "      <th>High</th>\n",
       "      <th>Low</th>\n",
       "      <th>Close</th>\n",
       "      <th>Adj Close</th>\n",
       "      <th>Volume</th>\n",
       "    </tr>\n",
       "  </thead>\n",
       "  <tbody>\n",
       "    <tr>\n",
       "      <th>0</th>\n",
       "      <td>2022-01-01</td>\n",
       "      <td>46311.746094</td>\n",
       "      <td>47827.312500</td>\n",
       "      <td>46288.484375</td>\n",
       "      <td>47686.812500</td>\n",
       "      <td>47686.812500</td>\n",
       "      <td>24582667004</td>\n",
       "    </tr>\n",
       "    <tr>\n",
       "      <th>1</th>\n",
       "      <td>2022-01-02</td>\n",
       "      <td>47680.925781</td>\n",
       "      <td>47881.406250</td>\n",
       "      <td>46856.937500</td>\n",
       "      <td>47345.218750</td>\n",
       "      <td>47345.218750</td>\n",
       "      <td>27951569547</td>\n",
       "    </tr>\n",
       "    <tr>\n",
       "      <th>2</th>\n",
       "      <td>2022-01-03</td>\n",
       "      <td>47343.542969</td>\n",
       "      <td>47510.726563</td>\n",
       "      <td>45835.964844</td>\n",
       "      <td>46458.117188</td>\n",
       "      <td>46458.117188</td>\n",
       "      <td>33071628362</td>\n",
       "    </tr>\n",
       "    <tr>\n",
       "      <th>3</th>\n",
       "      <td>2022-01-04</td>\n",
       "      <td>46458.851563</td>\n",
       "      <td>47406.546875</td>\n",
       "      <td>45752.464844</td>\n",
       "      <td>45897.574219</td>\n",
       "      <td>45897.574219</td>\n",
       "      <td>42494677905</td>\n",
       "    </tr>\n",
       "    <tr>\n",
       "      <th>4</th>\n",
       "      <td>2022-01-05</td>\n",
       "      <td>45899.359375</td>\n",
       "      <td>46929.046875</td>\n",
       "      <td>42798.222656</td>\n",
       "      <td>43569.003906</td>\n",
       "      <td>43569.003906</td>\n",
       "      <td>36851084859</td>\n",
       "    </tr>\n",
       "    <tr>\n",
       "      <th>5</th>\n",
       "      <td>2022-01-06</td>\n",
       "      <td>43565.511719</td>\n",
       "      <td>43748.718750</td>\n",
       "      <td>42645.539063</td>\n",
       "      <td>43160.929688</td>\n",
       "      <td>43160.929688</td>\n",
       "      <td>30208048289</td>\n",
       "    </tr>\n",
       "    <tr>\n",
       "      <th>6</th>\n",
       "      <td>2022-01-07</td>\n",
       "      <td>43153.570313</td>\n",
       "      <td>43153.570313</td>\n",
       "      <td>41077.445313</td>\n",
       "      <td>41557.902344</td>\n",
       "      <td>41557.902344</td>\n",
       "      <td>84196607520</td>\n",
       "    </tr>\n",
       "    <tr>\n",
       "      <th>7</th>\n",
       "      <td>2022-01-08</td>\n",
       "      <td>41561.464844</td>\n",
       "      <td>42228.941406</td>\n",
       "      <td>40672.277344</td>\n",
       "      <td>41733.941406</td>\n",
       "      <td>41733.941406</td>\n",
       "      <td>28066355845</td>\n",
       "    </tr>\n",
       "    <tr>\n",
       "      <th>8</th>\n",
       "      <td>2022-01-09</td>\n",
       "      <td>41734.726563</td>\n",
       "      <td>42663.949219</td>\n",
       "      <td>41338.160156</td>\n",
       "      <td>41911.601563</td>\n",
       "      <td>41911.601563</td>\n",
       "      <td>21294384372</td>\n",
       "    </tr>\n",
       "    <tr>\n",
       "      <th>9</th>\n",
       "      <td>2022-01-10</td>\n",
       "      <td>41910.230469</td>\n",
       "      <td>42199.484375</td>\n",
       "      <td>39796.570313</td>\n",
       "      <td>41821.261719</td>\n",
       "      <td>41821.261719</td>\n",
       "      <td>32104232331</td>\n",
       "    </tr>\n",
       "    <tr>\n",
       "      <th>10</th>\n",
       "      <td>2022-01-11</td>\n",
       "      <td>41819.507813</td>\n",
       "      <td>43001.156250</td>\n",
       "      <td>41407.753906</td>\n",
       "      <td>42735.855469</td>\n",
       "      <td>42735.855469</td>\n",
       "      <td>26327648900</td>\n",
       "    </tr>\n",
       "    <tr>\n",
       "      <th>11</th>\n",
       "      <td>2022-01-12</td>\n",
       "      <td>42742.179688</td>\n",
       "      <td>44135.367188</td>\n",
       "      <td>42528.988281</td>\n",
       "      <td>43949.101563</td>\n",
       "      <td>43949.101563</td>\n",
       "      <td>33499938689</td>\n",
       "    </tr>\n",
       "    <tr>\n",
       "      <th>12</th>\n",
       "      <td>2022-01-13</td>\n",
       "      <td>43946.742188</td>\n",
       "      <td>44278.421875</td>\n",
       "      <td>42447.042969</td>\n",
       "      <td>42591.570313</td>\n",
       "      <td>42591.570313</td>\n",
       "      <td>47691135082</td>\n",
       "    </tr>\n",
       "    <tr>\n",
       "      <th>13</th>\n",
       "      <td>2022-01-14</td>\n",
       "      <td>42598.871094</td>\n",
       "      <td>43346.687500</td>\n",
       "      <td>41982.617188</td>\n",
       "      <td>43099.699219</td>\n",
       "      <td>43099.699219</td>\n",
       "      <td>23577403399</td>\n",
       "    </tr>\n",
       "    <tr>\n",
       "      <th>14</th>\n",
       "      <td>2022-01-15</td>\n",
       "      <td>43101.898438</td>\n",
       "      <td>43724.671875</td>\n",
       "      <td>42669.035156</td>\n",
       "      <td>43177.398438</td>\n",
       "      <td>43177.398438</td>\n",
       "      <td>18371348298</td>\n",
       "    </tr>\n",
       "    <tr>\n",
       "      <th>15</th>\n",
       "      <td>2022-01-16</td>\n",
       "      <td>43172.039063</td>\n",
       "      <td>43436.808594</td>\n",
       "      <td>42691.023438</td>\n",
       "      <td>43113.878906</td>\n",
       "      <td>43113.878906</td>\n",
       "      <td>17902097845</td>\n",
       "    </tr>\n",
       "    <tr>\n",
       "      <th>16</th>\n",
       "      <td>2022-01-17</td>\n",
       "      <td>43118.121094</td>\n",
       "      <td>43179.390625</td>\n",
       "      <td>41680.320313</td>\n",
       "      <td>42250.550781</td>\n",
       "      <td>42250.550781</td>\n",
       "      <td>21690904261</td>\n",
       "    </tr>\n",
       "    <tr>\n",
       "      <th>17</th>\n",
       "      <td>2022-01-18</td>\n",
       "      <td>42250.074219</td>\n",
       "      <td>42534.402344</td>\n",
       "      <td>41392.214844</td>\n",
       "      <td>42375.632813</td>\n",
       "      <td>42375.632813</td>\n",
       "      <td>22417209227</td>\n",
       "    </tr>\n",
       "    <tr>\n",
       "      <th>18</th>\n",
       "      <td>2022-01-19</td>\n",
       "      <td>42374.039063</td>\n",
       "      <td>42478.304688</td>\n",
       "      <td>41242.914063</td>\n",
       "      <td>41744.328125</td>\n",
       "      <td>41744.328125</td>\n",
       "      <td>23091543258</td>\n",
       "    </tr>\n",
       "    <tr>\n",
       "      <th>19</th>\n",
       "      <td>2022-01-20</td>\n",
       "      <td>41744.027344</td>\n",
       "      <td>43413.023438</td>\n",
       "      <td>40672.824219</td>\n",
       "      <td>40680.417969</td>\n",
       "      <td>40680.417969</td>\n",
       "      <td>20382033940</td>\n",
       "    </tr>\n",
       "    <tr>\n",
       "      <th>20</th>\n",
       "      <td>2022-01-21</td>\n",
       "      <td>40699.605469</td>\n",
       "      <td>41060.527344</td>\n",
       "      <td>35791.425781</td>\n",
       "      <td>36457.316406</td>\n",
       "      <td>36457.316406</td>\n",
       "      <td>43011992031</td>\n",
       "    </tr>\n",
       "    <tr>\n",
       "      <th>21</th>\n",
       "      <td>2022-01-22</td>\n",
       "      <td>36471.589844</td>\n",
       "      <td>36688.812500</td>\n",
       "      <td>34349.250000</td>\n",
       "      <td>35030.250000</td>\n",
       "      <td>35030.250000</td>\n",
       "      <td>39714385405</td>\n",
       "    </tr>\n",
       "    <tr>\n",
       "      <th>22</th>\n",
       "      <td>2022-01-23</td>\n",
       "      <td>35047.359375</td>\n",
       "      <td>36433.312500</td>\n",
       "      <td>34784.968750</td>\n",
       "      <td>36276.804688</td>\n",
       "      <td>36276.804688</td>\n",
       "      <td>26017975951</td>\n",
       "    </tr>\n",
       "    <tr>\n",
       "      <th>23</th>\n",
       "      <td>2022-01-24</td>\n",
       "      <td>36275.734375</td>\n",
       "      <td>37247.519531</td>\n",
       "      <td>33184.058594</td>\n",
       "      <td>36654.328125</td>\n",
       "      <td>36654.328125</td>\n",
       "      <td>41856658597</td>\n",
       "    </tr>\n",
       "    <tr>\n",
       "      <th>24</th>\n",
       "      <td>2022-01-25</td>\n",
       "      <td>36654.804688</td>\n",
       "      <td>37444.570313</td>\n",
       "      <td>35779.429688</td>\n",
       "      <td>36954.003906</td>\n",
       "      <td>36954.003906</td>\n",
       "      <td>26428189594</td>\n",
       "    </tr>\n",
       "    <tr>\n",
       "      <th>25</th>\n",
       "      <td>2022-01-26</td>\n",
       "      <td>36950.515625</td>\n",
       "      <td>38825.410156</td>\n",
       "      <td>36374.906250</td>\n",
       "      <td>36852.121094</td>\n",
       "      <td>36852.121094</td>\n",
       "      <td>31324598034</td>\n",
       "    </tr>\n",
       "    <tr>\n",
       "      <th>26</th>\n",
       "      <td>2022-01-27</td>\n",
       "      <td>36841.878906</td>\n",
       "      <td>37148.324219</td>\n",
       "      <td>35629.281250</td>\n",
       "      <td>37138.234375</td>\n",
       "      <td>37138.234375</td>\n",
       "      <td>25041426629</td>\n",
       "    </tr>\n",
       "    <tr>\n",
       "      <th>27</th>\n",
       "      <td>2022-01-28</td>\n",
       "      <td>37128.445313</td>\n",
       "      <td>37952.878906</td>\n",
       "      <td>36211.109375</td>\n",
       "      <td>37784.332031</td>\n",
       "      <td>37784.332031</td>\n",
       "      <td>22238830523</td>\n",
       "    </tr>\n",
       "    <tr>\n",
       "      <th>28</th>\n",
       "      <td>2022-01-29</td>\n",
       "      <td>37780.714844</td>\n",
       "      <td>38576.261719</td>\n",
       "      <td>37406.472656</td>\n",
       "      <td>38138.179688</td>\n",
       "      <td>38138.179688</td>\n",
       "      <td>17194183075</td>\n",
       "    </tr>\n",
       "    <tr>\n",
       "      <th>29</th>\n",
       "      <td>2022-01-30</td>\n",
       "      <td>38151.917969</td>\n",
       "      <td>38266.339844</td>\n",
       "      <td>37437.710938</td>\n",
       "      <td>37917.601563</td>\n",
       "      <td>37917.601563</td>\n",
       "      <td>14643548444</td>\n",
       "    </tr>\n",
       "    <tr>\n",
       "      <th>30</th>\n",
       "      <td>2022-01-31</td>\n",
       "      <td>37920.281250</td>\n",
       "      <td>38647.261719</td>\n",
       "      <td>36733.574219</td>\n",
       "      <td>38483.125000</td>\n",
       "      <td>38483.125000</td>\n",
       "      <td>20734730465</td>\n",
       "    </tr>\n",
       "    <tr>\n",
       "      <th>31</th>\n",
       "      <td>2022-02-01</td>\n",
       "      <td>38481.765625</td>\n",
       "      <td>39115.132813</td>\n",
       "      <td>38113.664063</td>\n",
       "      <td>38743.273438</td>\n",
       "      <td>38743.273438</td>\n",
       "      <td>20288500328</td>\n",
       "    </tr>\n",
       "    <tr>\n",
       "      <th>32</th>\n",
       "      <td>2022-02-02</td>\n",
       "      <td>38743.714844</td>\n",
       "      <td>38834.617188</td>\n",
       "      <td>36832.730469</td>\n",
       "      <td>36952.984375</td>\n",
       "      <td>36952.984375</td>\n",
       "      <td>19155189416</td>\n",
       "    </tr>\n",
       "    <tr>\n",
       "      <th>33</th>\n",
       "      <td>2022-02-03</td>\n",
       "      <td>36944.804688</td>\n",
       "      <td>37154.601563</td>\n",
       "      <td>36375.539063</td>\n",
       "      <td>37154.601563</td>\n",
       "      <td>37154.601563</td>\n",
       "      <td>18591534769</td>\n",
       "    </tr>\n",
       "    <tr>\n",
       "      <th>34</th>\n",
       "      <td>2022-02-04</td>\n",
       "      <td>37234.058594</td>\n",
       "      <td>38121.738281</td>\n",
       "      <td>37093.628906</td>\n",
       "      <td>37649.335938</td>\n",
       "      <td>37649.335938</td>\n",
       "      <td>20987750400</td>\n",
       "    </tr>\n",
       "  </tbody>\n",
       "</table>\n",
       "</div>"
      ],
      "text/plain": [
       "          Date          Open          High           Low         Close  \\\n",
       "0   2022-01-01  46311.746094  47827.312500  46288.484375  47686.812500   \n",
       "1   2022-01-02  47680.925781  47881.406250  46856.937500  47345.218750   \n",
       "2   2022-01-03  47343.542969  47510.726563  45835.964844  46458.117188   \n",
       "3   2022-01-04  46458.851563  47406.546875  45752.464844  45897.574219   \n",
       "4   2022-01-05  45899.359375  46929.046875  42798.222656  43569.003906   \n",
       "5   2022-01-06  43565.511719  43748.718750  42645.539063  43160.929688   \n",
       "6   2022-01-07  43153.570313  43153.570313  41077.445313  41557.902344   \n",
       "7   2022-01-08  41561.464844  42228.941406  40672.277344  41733.941406   \n",
       "8   2022-01-09  41734.726563  42663.949219  41338.160156  41911.601563   \n",
       "9   2022-01-10  41910.230469  42199.484375  39796.570313  41821.261719   \n",
       "10  2022-01-11  41819.507813  43001.156250  41407.753906  42735.855469   \n",
       "11  2022-01-12  42742.179688  44135.367188  42528.988281  43949.101563   \n",
       "12  2022-01-13  43946.742188  44278.421875  42447.042969  42591.570313   \n",
       "13  2022-01-14  42598.871094  43346.687500  41982.617188  43099.699219   \n",
       "14  2022-01-15  43101.898438  43724.671875  42669.035156  43177.398438   \n",
       "15  2022-01-16  43172.039063  43436.808594  42691.023438  43113.878906   \n",
       "16  2022-01-17  43118.121094  43179.390625  41680.320313  42250.550781   \n",
       "17  2022-01-18  42250.074219  42534.402344  41392.214844  42375.632813   \n",
       "18  2022-01-19  42374.039063  42478.304688  41242.914063  41744.328125   \n",
       "19  2022-01-20  41744.027344  43413.023438  40672.824219  40680.417969   \n",
       "20  2022-01-21  40699.605469  41060.527344  35791.425781  36457.316406   \n",
       "21  2022-01-22  36471.589844  36688.812500  34349.250000  35030.250000   \n",
       "22  2022-01-23  35047.359375  36433.312500  34784.968750  36276.804688   \n",
       "23  2022-01-24  36275.734375  37247.519531  33184.058594  36654.328125   \n",
       "24  2022-01-25  36654.804688  37444.570313  35779.429688  36954.003906   \n",
       "25  2022-01-26  36950.515625  38825.410156  36374.906250  36852.121094   \n",
       "26  2022-01-27  36841.878906  37148.324219  35629.281250  37138.234375   \n",
       "27  2022-01-28  37128.445313  37952.878906  36211.109375  37784.332031   \n",
       "28  2022-01-29  37780.714844  38576.261719  37406.472656  38138.179688   \n",
       "29  2022-01-30  38151.917969  38266.339844  37437.710938  37917.601563   \n",
       "30  2022-01-31  37920.281250  38647.261719  36733.574219  38483.125000   \n",
       "31  2022-02-01  38481.765625  39115.132813  38113.664063  38743.273438   \n",
       "32  2022-02-02  38743.714844  38834.617188  36832.730469  36952.984375   \n",
       "33  2022-02-03  36944.804688  37154.601563  36375.539063  37154.601563   \n",
       "34  2022-02-04  37234.058594  38121.738281  37093.628906  37649.335938   \n",
       "\n",
       "       Adj Close       Volume  \n",
       "0   47686.812500  24582667004  \n",
       "1   47345.218750  27951569547  \n",
       "2   46458.117188  33071628362  \n",
       "3   45897.574219  42494677905  \n",
       "4   43569.003906  36851084859  \n",
       "5   43160.929688  30208048289  \n",
       "6   41557.902344  84196607520  \n",
       "7   41733.941406  28066355845  \n",
       "8   41911.601563  21294384372  \n",
       "9   41821.261719  32104232331  \n",
       "10  42735.855469  26327648900  \n",
       "11  43949.101563  33499938689  \n",
       "12  42591.570313  47691135082  \n",
       "13  43099.699219  23577403399  \n",
       "14  43177.398438  18371348298  \n",
       "15  43113.878906  17902097845  \n",
       "16  42250.550781  21690904261  \n",
       "17  42375.632813  22417209227  \n",
       "18  41744.328125  23091543258  \n",
       "19  40680.417969  20382033940  \n",
       "20  36457.316406  43011992031  \n",
       "21  35030.250000  39714385405  \n",
       "22  36276.804688  26017975951  \n",
       "23  36654.328125  41856658597  \n",
       "24  36954.003906  26428189594  \n",
       "25  36852.121094  31324598034  \n",
       "26  37138.234375  25041426629  \n",
       "27  37784.332031  22238830523  \n",
       "28  38138.179688  17194183075  \n",
       "29  37917.601563  14643548444  \n",
       "30  38483.125000  20734730465  \n",
       "31  38743.273438  20288500328  \n",
       "32  36952.984375  19155189416  \n",
       "33  37154.601563  18591534769  \n",
       "34  37649.335938  20987750400  "
      ]
     },
     "execution_count": 66,
     "metadata": {},
     "output_type": "execute_result"
    }
   ],
   "source": [
    "df2"
   ]
  },
  {
   "cell_type": "code",
   "execution_count": 67,
   "id": "4d737d1f",
   "metadata": {},
   "outputs": [],
   "source": [
    "test_data = df2.iloc[:, 1:2].values"
   ]
  },
  {
   "cell_type": "markdown",
   "id": "73277625",
   "metadata": {},
   "source": [
    "# Applying Inverse Transfromation for obtaining the result"
   ]
  },
  {
   "cell_type": "code",
   "execution_count": 76,
   "id": "75505ae2",
   "metadata": {},
   "outputs": [],
   "source": [
    "dataset_total = pd.concat((df1['Open'], df2['Open']), axis = 0)\n",
    "inputs = dataset_total[len(dataset_total) - len(df2) - 60:].values\n",
    "inputs = inputs.reshape(-1,1)\n",
    "inputs = sc.transform(inputs)\n",
    "X_test = []\n",
    "for i in range(60, 76):\n",
    "    X_test.append(inputs[i-60:i, 0])\n",
    "X_test = np.array(X_test)\n",
    "X_test = np.reshape(X_test, (X_test.shape[0], X_test.shape[1], 1))\n",
    "predicted = regressor.predict(X_test)\n",
    "predicted = sc.inverse_transform(predicted)"
   ]
  },
  {
   "cell_type": "code",
   "execution_count": 77,
   "id": "8aaac55a",
   "metadata": {},
   "outputs": [
    {
     "data": {
      "text/plain": [
       "array([[46751.137],\n",
       "       [46138.01 ],\n",
       "       [46035.355],\n",
       "       [46228.215],\n",
       "       [46340.63 ],\n",
       "       [46216.28 ],\n",
       "       [45559.652],\n",
       "       [44607.355],\n",
       "       [43437.254],\n",
       "       [42380.53 ],\n",
       "       [41668.54 ],\n",
       "       [41321.363],\n",
       "       [41413.15 ],\n",
       "       [41985.92 ],\n",
       "       [42516.973],\n",
       "       [42907.332]], dtype=float32)"
      ]
     },
     "execution_count": 77,
     "metadata": {},
     "output_type": "execute_result"
    }
   ],
   "source": [
    "predicted_stock_price"
   ]
  },
  {
   "cell_type": "code",
   "execution_count": 75,
   "id": "985ce8b6",
   "metadata": {},
   "outputs": [
    {
     "data": {
      "text/plain": [
       "array([4.40311457e-02, 5.74981291e-09, 3.13418939e-11, ...,\n",
       "       7.00424856e-02, 5.75836070e-09, 0.00000000e+00])"
      ]
     },
     "execution_count": 75,
     "metadata": {},
     "output_type": "execute_result"
    }
   ],
   "source": [
    "y_test"
   ]
  },
  {
   "cell_type": "markdown",
   "id": "a698795b",
   "metadata": {},
   "source": [
    "# Now Plotting the Results on Graph"
   ]
  },
  {
   "cell_type": "code",
   "execution_count": 79,
   "id": "14643bce",
   "metadata": {},
   "outputs": [
    {
     "data": {
      "image/png": "[encoded data removed]",
      "text/plain": [
       "<Figure size 432x288 with 1 Axes>"
      ]
     },
     "metadata": {
      "needs_background": "light"
     },
     "output_type": "display_data"
    }
   ],
   "source": [
    "plt.plot(test_data, color = 'black', label = 'BTC Price')\n",
    "plt.plot(predicted_stock_price, color = 'green', label = 'Predicted BTC Price')\n",
    "plt.title('BTC')\n",
    "plt.xlabel('Time')\n",
    "plt.ylabel('BTC')\n",
    "plt.legend()\n",
    "plt.show()"
   ]
  },
  {
   "cell_type": "markdown",
   "id": "a207f450",
   "metadata": {},
   "source": [
    "The above plot shows that BTC Price will go down and then little up and our model prediction also shows that the price will go down and little up. "
   ]
  }
 ],
 "metadata": {
  "kernelspec": {
   "display_name": "Python 3",
   "language": "python",
   "name": "python3"
  },
  "language_info": {
   "codemirror_mode": {
    "name": "ipython",
    "version": 3
   },
   "file_extension": ".py",
   "mimetype": "text/x-python",
   "name": "python",
   "nbconvert_exporter": "python",
   "pygments_lexer": "ipython3",
   "version": "3.8.10"
  }
 },
 "nbformat": 4,
 "nbformat_minor": 5
}
